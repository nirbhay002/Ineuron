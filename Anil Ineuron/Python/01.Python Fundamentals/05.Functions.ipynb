{
  "cells": [
    {
      "cell_type": "code",
      "execution_count": null,
      "metadata": {
        "id": "Tk7xggWeVlH7"
      },
      "outputs": [],
      "source": [
        "#print , len all are function , created by other that we are using "
      ]
    },
    {
      "cell_type": "code",
      "execution_count": null,
      "metadata": {
        "id": "KoxFNehnV4w9"
      },
      "outputs": [],
      "source": [
        "def test():\n",
        "  pass\n"
      ]
    },
    {
      "cell_type": "code",
      "execution_count": 1,
      "metadata": {
        "colab": {
          "base_uri": "https://localhost:8080/"
        },
        "id": "HqF5DGqoYc4G",
        "outputId": "65304c03-a285-4cbc-bdd6-1e96e33e5cbb"
      },
      "outputs": [
        {
          "name": "stdout",
          "output_type": "stream",
          "text": [
            "this is my first function\n"
          ]
        }
      ],
      "source": [
        "def test():\n",
        "  print(\"this is my first function\")\n",
        "test()"
      ]
    },
    {
      "cell_type": "code",
      "execution_count": 3,
      "metadata": {
        "colab": {
          "base_uri": "https://localhost:8080/"
        },
        "id": "oE96LKK-ZkF8",
        "outputId": "e744ab04-5434-4a56-d3db-dc8b9602edf6"
      },
      "outputs": [
        {
          "name": "stdout",
          "output_type": "stream",
          "text": [
            "this is my first function\n",
            "None\n"
          ]
        }
      ],
      "source": [
        "a= test()\n",
        "type(a)   #Remember this and print function also return NoneType and not str type"
      ]
    },
    {
      "cell_type": "code",
      "execution_count": null,
      "metadata": {
        "colab": {
          "base_uri": "https://localhost:8080/",
          "height": 165
        },
        "id": "y8mpSX2V_uYV",
        "outputId": "05fbdec8-04ee-4d90-a564-8a4359ab2552"
      },
      "outputs": [
        {
          "ename": "TypeError",
          "evalue": "ignored",
          "output_type": "error",
          "traceback": [
            "\u001b[0;31m---------------------------------------------------------------------------\u001b[0m",
            "\u001b[0;31mTypeError\u001b[0m                                 Traceback (most recent call last)",
            "\u001b[0;32m<ipython-input-6-c0e65ddcf0b0>\u001b[0m in \u001b[0;36m<module>\u001b[0;34m\u001b[0m\n\u001b[0;32m----> 1\u001b[0;31m \u001b[0ma\u001b[0m\u001b[0;34m+\u001b[0m\u001b[0;34m\"AnilKamat\"\u001b[0m\u001b[0;34m\u001b[0m\u001b[0;34m\u001b[0m\u001b[0m\n\u001b[0m",
            "\u001b[0;31mTypeError\u001b[0m: unsupported operand type(s) for +: 'NoneType' and 'str'"
          ]
        }
      ],
      "source": [
        "a+\"AnilKamat\""
      ]
    },
    {
      "cell_type": "code",
      "execution_count": null,
      "metadata": {
        "id": "eLjZMUPgBQm9"
      },
      "outputs": [],
      "source": [
        "test()+\"Anil kamat\""
      ]
    },
    {
      "cell_type": "code",
      "execution_count": null,
      "metadata": {
        "colab": {
          "base_uri": "https://localhost:8080/"
        },
        "id": "wk4dX3LECMy5",
        "outputId": "5f5769fb-76a9-4454-b623-b1c43bed81d4"
      },
      "outputs": [
        {
          "name": "stdout",
          "output_type": "stream",
          "text": [
            "this is my first function\n"
          ]
        },
        {
          "data": {
            "text/plain": [
              "NoneType"
            ]
          },
          "execution_count": 7,
          "metadata": {},
          "output_type": "execute_result"
        }
      ],
      "source": [
        "type(test())"
      ]
    },
    {
      "cell_type": "code",
      "execution_count": null,
      "metadata": {
        "colab": {
          "base_uri": "https://localhost:8080/",
          "height": 36
        },
        "id": "29bbu0UQeT9M",
        "outputId": "3c639fc4-228b-42c2-eb9c-9274bc2e43ef"
      },
      "outputs": [
        {
          "data": {
            "application/vnd.google.colaboratory.intrinsic+json": {
              "type": "string"
            },
            "text/plain": [
              "'None'"
            ]
          },
          "execution_count": 8,
          "metadata": {},
          "output_type": "execute_result"
        }
      ],
      "source": [
        "str(a)"
      ]
    },
    {
      "cell_type": "code",
      "execution_count": null,
      "metadata": {
        "id": "haHNtN_MeqEc"
      },
      "outputs": [],
      "source": [
        "#print always return of none type"
      ]
    },
    {
      "cell_type": "code",
      "execution_count": null,
      "metadata": {
        "id": "qNe_oZMsg-NR"
      },
      "outputs": [],
      "source": [
        "def test2():\n",
        "  return \"this is my first keyword\""
      ]
    },
    {
      "cell_type": "code",
      "execution_count": null,
      "metadata": {
        "colab": {
          "base_uri": "https://localhost:8080/",
          "height": 36
        },
        "id": "ea7Q_131hUIQ",
        "outputId": "17c77f9b-d3ec-474e-8e34-f8cefff73d67"
      },
      "outputs": [
        {
          "data": {
            "application/vnd.google.colaboratory.intrinsic+json": {
              "type": "string"
            },
            "text/plain": [
              "'this is my first keyword'"
            ]
          },
          "execution_count": 11,
          "metadata": {},
          "output_type": "execute_result"
        }
      ],
      "source": [
        "test2()"
      ]
    },
    {
      "cell_type": "code",
      "execution_count": null,
      "metadata": {
        "colab": {
          "base_uri": "https://localhost:8080/"
        },
        "id": "xX9bd4HbhViR",
        "outputId": "c26e0830-9bb4-4384-cd8c-50f29004807b"
      },
      "outputs": [
        {
          "data": {
            "text/plain": [
              "str"
            ]
          },
          "execution_count": 12,
          "metadata": {},
          "output_type": "execute_result"
        }
      ],
      "source": [
        "\n",
        "type(test2())"
      ]
    },
    {
      "cell_type": "code",
      "execution_count": null,
      "metadata": {
        "colab": {
          "base_uri": "https://localhost:8080/",
          "height": 36
        },
        "id": "k08XNKZThaF9",
        "outputId": "83b82c5f-56ca-4224-cb6c-a308debe27ab"
      },
      "outputs": [
        {
          "data": {
            "application/vnd.google.colaboratory.intrinsic+json": {
              "type": "string"
            },
            "text/plain": [
              "'athis is my first keyword'"
            ]
          },
          "execution_count": 13,
          "metadata": {},
          "output_type": "execute_result"
        }
      ],
      "source": [
        "\"a\"+test2()"
      ]
    },
    {
      "cell_type": "code",
      "execution_count": null,
      "metadata": {
        "colab": {
          "base_uri": "https://localhost:8080/"
        },
        "id": "0x7JxACEhkWE",
        "outputId": "b7dd6904-22f1-4049-f27c-3e281fb2f889"
      },
      "outputs": [
        {
          "name": "stdout",
          "output_type": "stream",
          "text": [
            "<class 'int'>\n",
            "<class 'complex'>\n",
            "<class 'tuple'>\n"
          ]
        }
      ],
      "source": [
        "#python apne aap hi type sense karta hai toh return us type ka no return kar usi type ka rsult milega\n",
        "def test21():\n",
        "  return 23450\n",
        "def test211():\n",
        "  return 2+4j\n",
        "def test2111():\n",
        "  return (2,3,4,5) \n",
        "\n",
        "print(type(test21()))\n",
        "print(type(test211()))\n",
        "print(type(test2111()))\n"
      ]
    },
    {
      "cell_type": "code",
      "execution_count": null,
      "metadata": {
        "id": "2oWPMbY4ifpz"
      },
      "outputs": [],
      "source": [
        "def test4():\n",
        "  return 4,3,\"sudh\",[1,2,3,4,4]"
      ]
    },
    {
      "cell_type": "code",
      "execution_count": null,
      "metadata": {
        "colab": {
          "base_uri": "https://localhost:8080/"
        },
        "id": "GtVjxDW-kD-8",
        "outputId": "0df9a578-e6d4-42c2-cfc2-cb2b77f4345c"
      },
      "outputs": [
        {
          "data": {
            "text/plain": [
              "(4, 3, 'sudh', [1, 2, 3, 4, 4])"
            ]
          },
          "execution_count": 16,
          "metadata": {},
          "output_type": "execute_result"
        }
      ],
      "source": [
        "test4()\n",
        "#it is going tom return me a collection , we have studied tuple(immutable collection\n"
      ]
    },
    {
      "cell_type": "code",
      "execution_count": null,
      "metadata": {
        "id": "JnDTjsMDki1e"
      },
      "outputs": [],
      "source": [
        "b= test4()"
      ]
    },
    {
      "cell_type": "code",
      "execution_count": null,
      "metadata": {
        "colab": {
          "base_uri": "https://localhost:8080/"
        },
        "id": "NoI5s3uWB6L1",
        "outputId": "56d546d6-68e8-41ca-cef3-950ad31b21b6"
      },
      "outputs": [
        {
          "data": {
            "text/plain": [
              "(3, 'sudh', [1, 2, 3, 4, 4])"
            ]
          },
          "execution_count": 18,
          "metadata": {},
          "output_type": "execute_result"
        }
      ],
      "source": [
        "b[1:4]"
      ]
    },
    {
      "cell_type": "code",
      "execution_count": null,
      "metadata": {
        "id": "CSFhvjYhCIfv"
      },
      "outputs": [],
      "source": [
        "#we know that we can initalize multiple variable in single go\n",
        "x,y,z,a= test4() #as function is returning 4 values, so each variable will conatain each value respectively"
      ]
    },
    {
      "cell_type": "code",
      "execution_count": null,
      "metadata": {
        "colab": {
          "base_uri": "https://localhost:8080/"
        },
        "id": "LitUaAxmDfQl",
        "outputId": "66400517-aedc-453d-f8dd-f82a2da97a76"
      },
      "outputs": [
        {
          "name": "stdout",
          "output_type": "stream",
          "text": [
            "4 3 sudh [1, 2, 3, 4, 4]\n"
          ]
        }
      ],
      "source": [
        "print(x,y,z,a)"
      ]
    },
    {
      "cell_type": "code",
      "execution_count": null,
      "metadata": {
        "id": "9Qf05yKtDmMf"
      },
      "outputs": [],
      "source": [
        "#function return multiple variable in form of tuples"
      ]
    },
    {
      "cell_type": "code",
      "execution_count": null,
      "metadata": {
        "colab": {
          "base_uri": "https://localhost:8080/",
          "height": 165
        },
        "id": "6qPygNGmD3Ov",
        "outputId": "f5a2d390-6a92-4e32-a688-3616f74eb4f5"
      },
      "outputs": [
        {
          "ename": "ValueError",
          "evalue": "ignored",
          "output_type": "error",
          "traceback": [
            "\u001b[0;31m---------------------------------------------------------------------------\u001b[0m",
            "\u001b[0;31mValueError\u001b[0m                                Traceback (most recent call last)",
            "\u001b[0;32m<ipython-input-22-22e79e237754>\u001b[0m in \u001b[0;36m<module>\u001b[0;34m\u001b[0m\n\u001b[0;32m----> 1\u001b[0;31m \u001b[0mx\u001b[0m\u001b[0;34m,\u001b[0m\u001b[0mt\u001b[0m\u001b[0;34m,\u001b[0m\u001b[0myu\u001b[0m\u001b[0;34m,\u001b[0m\u001b[0mui\u001b[0m\u001b[0;34m,\u001b[0m\u001b[0mio\u001b[0m \u001b[0;34m=\u001b[0m\u001b[0mtest4\u001b[0m\u001b[0;34m(\u001b[0m\u001b[0;34m)\u001b[0m\u001b[0;34m\u001b[0m\u001b[0;34m\u001b[0m\u001b[0m\n\u001b[0m",
            "\u001b[0;31mValueError\u001b[0m: not enough values to unpack (expected 5, got 4)"
          ]
        }
      ],
      "source": [
        "x,t,yu,ui,io =test4()"
      ]
    },
    {
      "cell_type": "code",
      "execution_count": null,
      "metadata": {
        "colab": {
          "base_uri": "https://localhost:8080/"
        },
        "id": "ZSCo-YEnEFxr",
        "outputId": "5671d65d-18b3-45f1-ac42-c1c3b595b2e5"
      },
      "outputs": [
        {
          "data": {
            "text/plain": [
              "7.0"
            ]
          },
          "execution_count": 26,
          "metadata": {},
          "output_type": "execute_result"
        }
      ],
      "source": [
        "def test5():\n",
        "  a =6*7/6\n",
        "  return a\n",
        "test5()"
      ]
    },
    {
      "cell_type": "code",
      "execution_count": null,
      "metadata": {
        "id": "QB6WT5J6Fve1"
      },
      "outputs": [],
      "source": [
        "l=[3,4,5,6,\"sudh\",[1,2,3,4,4]]"
      ]
    },
    {
      "cell_type": "code",
      "execution_count": null,
      "metadata": {
        "id": "8cFnQlVD9uvC"
      },
      "outputs": [],
      "source": [
        "def test6(a):\n",
        "  n=[]\n",
        "  if type(a)==list:\n",
        "    for i in a:\n",
        "      if type(i)==int:\n",
        "        n.append(i)\n",
        "  return n\n"
      ]
    },
    {
      "cell_type": "code",
      "execution_count": null,
      "metadata": {
        "colab": {
          "base_uri": "https://localhost:8080/"
        },
        "id": "9zVkBMrCGMAi",
        "outputId": "d952f808-dee2-4b71-e30f-8d2d8586bc34"
      },
      "outputs": [
        {
          "data": {
            "text/plain": [
              "[3, 4, 5, 6]"
            ]
          },
          "execution_count": 29,
          "metadata": {},
          "output_type": "execute_result"
        }
      ],
      "source": [
        "test6(l)"
      ]
    },
    {
      "cell_type": "code",
      "execution_count": null,
      "metadata": {
        "colab": {
          "base_uri": "https://localhost:8080/"
        },
        "id": "2IBY-B49GsSy",
        "outputId": "3959c60e-0972-444b-f8f7-ee6f06d6a150"
      },
      "outputs": [
        {
          "data": {
            "text/plain": [
              "list"
            ]
          },
          "execution_count": 30,
          "metadata": {},
          "output_type": "execute_result"
        }
      ],
      "source": [
        "\n",
        "\n",
        "type(test6(1))"
      ]
    },
    {
      "cell_type": "code",
      "execution_count": null,
      "metadata": {
        "colab": {
          "base_uri": "https://localhost:8080/"
        },
        "id": "161ivSuZKres",
        "outputId": "3b0a413c-6b55-461e-edf3-f08f5626247f"
      },
      "outputs": [
        {
          "data": {
            "text/plain": [
              "[2, 3, 4, 5]"
            ]
          },
          "execution_count": 31,
          "metadata": {},
          "output_type": "execute_result"
        }
      ],
      "source": [
        "test6([2,3,4,5,(\"e\",\"rt\",56),\"ertyu\"])"
      ]
    },
    {
      "cell_type": "code",
      "execution_count": null,
      "metadata": {
        "id": "Fq7sCJz1NMZd"
      },
      "outputs": [],
      "source": [
        "#function increases the reusablity of the code"
      ]
    },
    {
      "cell_type": "code",
      "execution_count": null,
      "metadata": {
        "id": "ljRSWiq5Nm0P"
      },
      "outputs": [],
      "source": [
        "def test8(a):\n",
        "  n=[]\n",
        "  if type(a)==list:\n",
        "    for i in a:\n",
        "      if type(i)==int:\n",
        "        n.append(i)\n",
        "      elif type(i)==list:\n",
        "        for j in i:\n",
        "          if type(j) == int:\n",
        "            n.append(j)\n",
        "  return n"
      ]
    },
    {
      "cell_type": "code",
      "execution_count": null,
      "metadata": {
        "colab": {
          "base_uri": "https://localhost:8080/"
        },
        "id": "RBsI3l3_Ohaw",
        "outputId": "74a2f755-d015-476f-e964-5f9510940b06"
      },
      "outputs": [
        {
          "data": {
            "text/plain": [
              "[3, 4, 5, 6, 1, 2, 3, 4, 4]"
            ]
          },
          "execution_count": 34,
          "metadata": {},
          "output_type": "execute_result"
        }
      ],
      "source": [
        "test8(l)"
      ]
    },
    {
      "cell_type": "code",
      "execution_count": null,
      "metadata": {
        "id": "DNBMoKV6OjXv"
      },
      "outputs": [],
      "source": [
        "#very Very wrong code\n",
        "def test9(a):\n",
        "  if type(a)==list:\n",
        "    for i in l:\n",
        "      if type(i)==int:\n",
        "        n=print(i,end=\" \")\n",
        "  return n"
      ]
    },
    {
      "cell_type": "code",
      "execution_count": null,
      "metadata": {
        "colab": {
          "base_uri": "https://localhost:8080/"
        },
        "id": "wmCO6GbDRRYR",
        "outputId": "81f194db-e613-418b-f5d7-b4779eaaa5d6"
      },
      "outputs": [
        {
          "name": "stdout",
          "output_type": "stream",
          "text": [
            "3 4 5 6 "
          ]
        }
      ],
      "source": [
        "test9(l)"
      ]
    },
    {
      "cell_type": "code",
      "execution_count": null,
      "metadata": {
        "colab": {
          "base_uri": "https://localhost:8080/"
        },
        "id": "CH_HiQ3YRVOn",
        "outputId": "b2c6450d-78fe-4940-f04b-1047a77bdc83"
      },
      "outputs": [
        {
          "name": "stdout",
          "output_type": "stream",
          "text": [
            "3 4 5 6 "
          ]
        },
        {
          "data": {
            "text/plain": [
              "NoneType"
            ]
          },
          "execution_count": 37,
          "metadata": {},
          "output_type": "execute_result"
        }
      ],
      "source": [
        "type(test9(l))"
      ]
    },
    {
      "cell_type": "code",
      "execution_count": null,
      "metadata": {
        "colab": {
          "base_uri": "https://localhost:8080/"
        },
        "id": "b9-44NeMRaaP",
        "outputId": "3210e3e6-8428-4fbd-f2c2-93eb30f92a52"
      },
      "outputs": [
        {
          "name": "stdout",
          "output_type": "stream",
          "text": [
            "['a', 'b', 'd', 'c']\n",
            "you have not passed a dic\n"
          ]
        },
        {
          "data": {
            "text/plain": [
              "list"
            ]
          },
          "execution_count": 38,
          "metadata": {},
          "output_type": "execute_result"
        }
      ],
      "source": [
        "a={\"a\":\"asdfg\",\"b\":[1,2,3,4,5,6],\"d\":(1,2,3,4),\"c\":\"sudhet\"}\n",
        "def test10(a):\n",
        "  n=[]\n",
        "  if type(a) == dict:   \n",
        "    for i in a:       #you can directly use a.keys() to return all keys\n",
        "      n.append(i)\n",
        "  else:\n",
        "    return \"you have not passed a dic\"\n",
        "  return n\n",
        "  \n",
        "print(test10(a))\n",
        "print(test10(l))\n",
        "type(test10(a))     "
      ]
    },
    {
      "cell_type": "code",
      "execution_count": null,
      "metadata": {
        "colab": {
          "base_uri": "https://localhost:8080/"
        },
        "id": "VXkVB9C5Sxoa",
        "outputId": "724d3fbe-2aea-42e3-f46e-e9ba3576fe21"
      },
      "outputs": [
        {
          "name": "stdout",
          "output_type": "stream",
          "text": [
            "[1, 2, 34, 4, 89, 0, 3] <class 'list'>\n"
          ]
        }
      ],
      "source": [
        "def test11(a,b):\n",
        "  n=[]\n",
        "  if type(a)==list and type(b)==list:\n",
        "    for i in a:\n",
        "      n.append(i)\n",
        "    for i in b:\n",
        "      n.append(i)\n",
        "  return n\n",
        "\n",
        "a=[1,2,34,4]\n",
        "b=[89,0,3]\n",
        "print(test11(a,b),type(test11(a,b)))"
      ]
    },
    {
      "cell_type": "code",
      "execution_count": 4,
      "metadata": {
        "id": "yKq3yR5vXyuo"
      },
      "outputs": [],
      "source": [
        "def pattern(n):\n",
        "  \"\"\"This is a function which will help you to create lower bound pattern triangle\"\"\"\n",
        "  for i in range(1,n+1):\n",
        "    for j in range(1,i+1):\n",
        "      print(\"*\",end=\" \")\n",
        "    print(\"\\n\\r\")\n",
        "\n",
        "\n"
      ]
    },
    {
      "cell_type": "code",
      "execution_count": null,
      "metadata": {
        "colab": {
          "base_uri": "https://localhost:8080/"
        },
        "id": "v88CPaGC_1I4",
        "outputId": "53622a59-b842-49a9-bf6a-5aec9efe8d84"
      },
      "outputs": [
        {
          "name": "stdout",
          "output_type": "stream",
          "text": [
            "* \n",
            "\r\n",
            "* * \n",
            "\r\n",
            "* * * \n",
            "\r\n",
            "* * * * \n",
            "\r\n",
            "* * * * * \n",
            "\r\n"
          ]
        }
      ],
      "source": [
        "pattern(5)\n"
      ]
    },
    {
      "cell_type": "code",
      "execution_count": 1,
      "metadata": {
        "colab": {
          "base_uri": "https://localhost:8080/"
        },
        "id": "izZohLuy_1bN",
        "outputId": "f66a34b6-332f-463e-b04c-afaa343d74ab"
      },
      "outputs": [
        {
          "name": "stdout",
          "output_type": "stream",
          "text": [
            "  * \n",
            "\n",
            " * * \n",
            "\n",
            "* * * \n",
            "\n"
          ]
        }
      ],
      "source": [
        "def Create_Triangle(row_num):\n",
        "  n= row_num\n",
        "  k = n - 1\n",
        "  for i in range(0, n):\n",
        "    for j in range(0, k):\n",
        "      print(end=\" \")\n",
        "    k = k - 1\n",
        "    for j in range(0, i + 1 ):\n",
        "      print(\"* \", end=\"\")\n",
        "    print(\"\\n\")\n",
        "Create_Triangle(3)"
      ]
    },
    {
      "cell_type": "code",
      "execution_count": 2,
      "metadata": {
        "colab": {
          "base_uri": "https://localhost:8080/"
        },
        "id": "f0krzgk8295W",
        "outputId": "46232dc0-42be-455d-81bd-c1a5e7b13579"
      },
      "outputs": [
        {
          "name": "stdout",
          "output_type": "stream",
          "text": [
            "       * \n",
            "\n",
            "      * * \n",
            "\n",
            "     * * * \n",
            "\n",
            "    * * * * \n",
            "\n",
            "   * * * * * \n",
            "\n",
            "  * * * * * * \n",
            "\n",
            " * * * * * * * \n",
            "\n",
            "* * * * * * * * \n",
            "\n"
          ]
        }
      ],
      "source": [
        "Create_Triangle(8)"
      ]
    },
    {
      "cell_type": "code",
      "execution_count": null,
      "metadata": {
        "colab": {
          "base_uri": "https://localhost:8080/"
        },
        "id": "NgpEKprC4xp7",
        "outputId": "41a8523f-199c-440f-ff1a-0a46f21486ae"
      },
      "outputs": [
        {
          "name": "stdout",
          "output_type": "stream",
          "text": [
            "      * \n",
            "\n",
            "     * * \n",
            "\n",
            "    * * * \n",
            "\n",
            "   * * * * \n",
            "\n",
            "  * * * * * \n",
            "\n",
            " * * * * * * \n",
            "\n",
            "* * * * * * * \n",
            "\n"
          ]
        }
      ],
      "source": [
        "Create_Triangle(7)"
      ]
    },
    {
      "cell_type": "code",
      "execution_count": null,
      "metadata": {
        "id": "zwrdTMxV4zjw"
      },
      "outputs": [],
      "source": []
    },
    {
      "cell_type": "code",
      "execution_count": null,
      "metadata": {
        "colab": {
          "base_uri": "https://localhost:8080/",
          "height": 165
        },
        "id": "atzqQ7igD1xe",
        "outputId": "e656474b-47a2-48ea-9ec9-722d9921fab9"
      },
      "outputs": [
        {
          "ename": "TypeError",
          "evalue": "ignored",
          "output_type": "error",
          "traceback": [
            "\u001b[0;31m---------------------------------------------------------------------------\u001b[0m",
            "\u001b[0;31mTypeError\u001b[0m                                 Traceback (most recent call last)",
            "\u001b[0;32m<ipython-input-45-1bec1156582a>\u001b[0m in \u001b[0;36m<module>\u001b[0;34m\u001b[0m\n\u001b[0;32m----> 1\u001b[0;31m \u001b[0mhelp\u001b[0m\u001b[0;34m(\u001b[0m\u001b[0mpattern\u001b[0m\u001b[0;34m(\u001b[0m\u001b[0;34m)\u001b[0m\u001b[0;34m)\u001b[0m\u001b[0;34m\u001b[0m\u001b[0;34m\u001b[0m\u001b[0m\n\u001b[0m",
            "\u001b[0;31mTypeError\u001b[0m: pattern() missing 1 required positional argument: 'n'"
          ]
        }
      ],
      "source": [
        "help(pattern())"
      ]
    },
    {
      "cell_type": "code",
      "execution_count": null,
      "metadata": {
        "id": "QqkoEuE1EH7V"
      },
      "outputs": [],
      "source": [
        "\"\"\"Triple quote is for multi line comments\"\"\""
      ]
    },
    {
      "cell_type": "code",
      "execution_count": 5,
      "metadata": {
        "colab": {
          "base_uri": "https://localhost:8080/"
        },
        "id": "EuRIwPK0El_s",
        "outputId": "d0ec53ba-e6c1-4b09-b7b7-37b37fe5a857"
      },
      "outputs": [
        {
          "name": "stdout",
          "output_type": "stream",
          "text": [
            "Help on function pattern in module __main__:\n",
            "\n",
            "pattern(n)\n",
            "    This is a function which will help you to create lower bound pattern triangle\n",
            "\n"
          ]
        }
      ],
      "source": [
        "help(pattern)"
      ]
    },
    {
      "cell_type": "code",
      "execution_count": 6,
      "metadata": {},
      "outputs": [
        {
          "name": "stdout",
          "output_type": "stream",
          "text": [
            "* \n",
            "\n",
            "* * \n",
            "\n",
            "* * * \n",
            "\n",
            "Help on NoneType object:\n",
            "\n",
            "class NoneType(object)\n",
            " |  Methods defined here:\n",
            " |  \n",
            " |  __bool__(self, /)\n",
            " |      self != 0\n",
            " |  \n",
            " |  __repr__(self, /)\n",
            " |      Return repr(self).\n",
            " |  \n",
            " |  ----------------------------------------------------------------------\n",
            " |  Static methods defined here:\n",
            " |  \n",
            " |  __new__(*args, **kwargs) from builtins.type\n",
            " |      Create and return a new object.  See help(type) for accurate signature.\n",
            "\n"
          ]
        }
      ],
      "source": [
        "help(pattern(3))"
      ]
    },
    {
      "cell_type": "code",
      "execution_count": null,
      "metadata": {
        "colab": {
          "base_uri": "https://localhost:8080/"
        },
        "id": "NpOpuy9jE9LQ",
        "outputId": "9a40ecc2-03d0-484d-d0f1-5bcf56c87078"
      },
      "outputs": [
        {
          "data": {
            "text/plain": [
              "9"
            ]
          },
          "execution_count": 47,
          "metadata": {},
          "output_type": "execute_result"
        }
      ],
      "source": [
        "def lenstring(a):\n",
        "  \"\"\"Returns Length of a string\"\"\"\n",
        "  if type(a)== str:\n",
        "    length =0\n",
        "    for i in a:\n",
        "      length = length +1\n",
        "  return length\n",
        "\n",
        "lenstring(\"AnilKamat\")\n"
      ]
    },
    {
      "cell_type": "code",
      "execution_count": null,
      "metadata": {
        "id": "Qsl-GFHraAJc"
      },
      "outputs": [],
      "source": [
        "def ReturnIndex(f,a):\n",
        "  index=0\n",
        "  if type(f)== tuple:\n",
        "    for i in f:\n",
        "      index= index +1\n",
        "      if a == i:\n",
        "        return index\n",
        "  if type(f)== list:\n",
        "    for i in f:\n",
        "      index= index +1\n",
        "      if a == i:\n",
        "        return index\n",
        "  if type(f)== dict:\n",
        "    for i in f:\n",
        "      index= index +1\n",
        "      if a == i:\n",
        "        return index\n",
        "\n",
        "# is code ko mujhe check karna padega\n"
      ]
    },
    {
      "cell_type": "code",
      "execution_count": null,
      "metadata": {
        "colab": {
          "base_uri": "https://localhost:8080/"
        },
        "id": "r-YRvvxAQep2",
        "outputId": "c6139342-ce97-48fc-c4e6-1cbba19b18f2"
      },
      "outputs": [
        {
          "data": {
            "text/plain": [
              "6"
            ]
          },
          "execution_count": 16,
          "metadata": {},
          "output_type": "execute_result"
        }
      ],
      "source": [
        "ReturnIndex([1,23,34,4,6,3,2,2],3)"
      ]
    },
    {
      "cell_type": "code",
      "execution_count": null,
      "metadata": {
        "id": "-v52qVmMbmO-"
      },
      "outputs": [],
      "source": [
        "#write a fun which will take input as a dict and gave me out as a list of all the values even in case of 2 level nesting it should work \n",
        "# is ka logic me nahi soch pa raha hai , jab sir karayenge tab karunga \n"
      ]
    },
    {
      "cell_type": "markdown",
      "metadata": {
        "id": "R_-sP160Fr0W"
      },
      "source": [
        "1. you have to write a fun which will take string and return a len of it without using a inbuilt fun len\n",
        "2. write a fun which will be able to print an index of all premitive element which you will pass \n",
        "3. Write a fun which will take input as a dict and give me out as a list of all the values even in case of 2 level nesting it should work . \n",
        "4. write a fun which will take another function as an input and return me an output \n",
        "5. write a function whihc will take multiple list as a input and give me concatnation of all the element as and output \n",
        "6. write a function which will be able to take a list as an input return an index of each element like a inbuilt index function but even if we have repetative element it should return index \n",
        "7. Write a function which will whould return list of all the file name from a directory . \n",
        "8. write a function which will be able to show your system configuration . \n",
        "9. write a function which will be able to show date and time. \n",
        "10. write a function whihc will be able to read a image file and show it to you .\n",
        "11. write a function which can read video file and play for you. \n",
        "12. write a function whihc can move a file from one directory to another directory . \n",
        "13. write a function which will be able to shutdonw your system. \n",
        "14. write a function whihc will be able to access your mail. \n",
        "15. write a func bywhcih i can send a mail to anyone \n",
        "16. write a func to read a complete PDf file. \n",
        "17. write a function to read a word file. \n",
        "18. write a function which can help you to filter only word file from a directory. \n",
        "19. write a function by which you can print an ip address of your system. \n",
        "20. write a function by which you will be able to append two PDF files . "
      ]
    },
    {
      "cell_type": "code",
      "execution_count": 7,
      "metadata": {
        "id": "6-UgHWhWQK3Q"
      },
      "outputs": [],
      "source": [
        "import socket"
      ]
    },
    {
      "cell_type": "code",
      "execution_count": null,
      "metadata": {
        "colab": {
          "base_uri": "https://localhost:8080/",
          "height": 36
        },
        "id": "LUAxfRoJQK0E",
        "outputId": "bfd0a4e8-a1e9-4dc0-f857-72875d5d91d5"
      },
      "outputs": [
        {
          "data": {
            "application/vnd.google.colaboratory.intrinsic+json": {
              "type": "string"
            },
            "text/plain": [
              "'172.28.0.12'"
            ]
          },
          "execution_count": 20,
          "metadata": {},
          "output_type": "execute_result"
        }
      ],
      "source": [
        "socket.gethostbyname(socket.gethostname())"
      ]
    },
    {
      "cell_type": "code",
      "execution_count": 9,
      "metadata": {
        "colab": {
          "base_uri": "https://localhost:8080/"
        },
        "id": "BjmmfN0DQKxh",
        "outputId": "3e9aa0b9-1684-4bcf-d80e-6130ccd2c3dd"
      },
      "outputs": [
        {
          "name": "stderr",
          "output_type": "stream",
          "text": [
            "sh: 1: shutdown: not found\n"
          ]
        },
        {
          "data": {
            "text/plain": [
              "32512"
            ]
          },
          "execution_count": 9,
          "metadata": {},
          "output_type": "execute_result"
        }
      ],
      "source": [
        "import os\n",
        "os.system(\"shutdown /s /t 4\")\n",
        "\n",
        "\n",
        "\n",
        "# meaning of /s is shutdown\n",
        "# meaning of /r is restart\n",
        "# /t it takes time as well and restart the computer after that given time"
      ]
    },
    {
      "cell_type": "code",
      "execution_count": 23,
      "metadata": {
        "id": "cvtFqhQ0QKui"
      },
      "outputs": [],
      "source": [
        "import smtplib, ssl"
      ]
    },
    {
      "cell_type": "code",
      "execution_count": 28,
      "metadata": {
        "id": "6VLyrWAdQKrX"
      },
      "outputs": [],
      "source": [
        "import smtplib, ssl\n",
        "port = 465 # For SSL\n",
        "smtp_server= \"smtp.gmail.com\" \n",
        "sender_email = \"anissdweamat222@gmail.com\" # Enter your address\n",
        "receiver_email = \"andddat244@gmail.com\" # Enter receiver address\n",
        "password = 'rqgmdasffdrwgghzy'\n",
        "message=\"\"\"this is my message from python code \"\"\"\n",
        "context = ssl.create_default_context()\n",
        "with smtplib.SMTP_SSL (smtp_server, port, context=context) as server:\n",
        "   server.login(sender_email, password)\n",
        "   server.sendmail(sender_email, receiver_email, message)"
      ]
    },
    {
      "cell_type": "code",
      "execution_count": null,
      "metadata": {
        "colab": {
          "base_uri": "https://localhost:8080/"
        },
        "id": "W2sQrkYvFxd-",
        "outputId": "a4d8594a-b41f-46f9-b58e-7d4f959c571e"
      },
      "outputs": [
        {
          "data": {
            "text/plain": [
              "(12, '123', {'key': 56}, (2, 3, 45), [1, 2, 3, '234'])"
            ]
          },
          "execution_count": 50,
          "metadata": {},
          "output_type": "execute_result"
        }
      ],
      "source": [
        "#multiple argument\n",
        "def test13(a,b,c,d,f):\n",
        "  return a,b,c,d,f\n",
        "\n",
        "test13(12,\"123\",{\"key\":56},(2,3,45),[1,2,3,\"234\"])"
      ]
    },
    {
      "cell_type": "code",
      "execution_count": null,
      "metadata": {
        "colab": {
          "base_uri": "https://localhost:8080/"
        },
        "id": "jJp1U4ExHNTM",
        "outputId": "c35fe601-e69c-45c9-eda7-acc2e24aab1b"
      },
      "outputs": [
        {
          "data": {
            "text/plain": [
              "tuple"
            ]
          },
          "execution_count": 51,
          "metadata": {},
          "output_type": "execute_result"
        }
      ],
      "source": [
        "type(test13(12,\"123\",{\"key\":56},(2,3,45),[1,2,3,\"234\"]))"
      ]
    },
    {
      "cell_type": "code",
      "execution_count": null,
      "metadata": {
        "colab": {
          "base_uri": "https://localhost:8080/"
        },
        "id": "d8TZWSErHjjy",
        "outputId": "96ae941b-1fbf-46a0-d92d-b79edcea8f1e"
      },
      "outputs": [
        {
          "data": {
            "text/plain": [
              "(12,\n",
              " '123',\n",
              " {'key': 56},\n",
              " (2, 3, 45),\n",
              " [1, 2, 3, '234'],\n",
              " 12,\n",
              " '123',\n",
              " {'key': 56},\n",
              " (2, 3, 45),\n",
              " [1, 2, 3, '234'])"
            ]
          },
          "execution_count": 52,
          "metadata": {},
          "output_type": "execute_result"
        }
      ],
      "source": [
        "#* means any number of argument \n",
        "def test14(*args):\n",
        "  return args\n",
        "test14(12,\"123\",{\"key\":56},(2,3,45),[1,2,3,\"234\"],12,\"123\",{\"key\":56},(2,3,45),[1,2,3,\"234\"])"
      ]
    },
    {
      "cell_type": "code",
      "execution_count": null,
      "metadata": {
        "colab": {
          "base_uri": "https://localhost:8080/"
        },
        "id": "uhqJSGi4ICPL",
        "outputId": "a0a13d9e-29e8-47e0-9411-492328bfd2b3"
      },
      "outputs": [
        {
          "data": {
            "text/plain": [
              "(12,\n",
              " '123',\n",
              " {'key': 56},\n",
              " (2, 3, 45),\n",
              " [1, 2, 3, '234'],\n",
              " 12,\n",
              " '123',\n",
              " {'key': 56},\n",
              " (2, 3, 45),\n",
              " [1, 2, 3, '234'])"
            ]
          },
          "execution_count": 53,
          "metadata": {},
          "output_type": "execute_result"
        }
      ],
      "source": [
        "# args is nota a reserved keyword\n",
        "#you only have to focus on *\n",
        "def test14(*argtyus):\n",
        "  return argtyus\n",
        "test14(12,\"123\",{\"key\":56},(2,3,45),[1,2,3,\"234\"],12,\"123\",{\"key\":56},(2,3,45),[1,2,3,\"234\"])"
      ]
    },
    {
      "cell_type": "code",
      "execution_count": null,
      "metadata": {
        "id": "dWJ80RSBI-f_"
      },
      "outputs": [],
      "source": [
        "def test16(*args,a):\n",
        "  return a , args"
      ]
    },
    {
      "cell_type": "code",
      "execution_count": null,
      "metadata": {
        "colab": {
          "base_uri": "https://localhost:8080/",
          "height": 165
        },
        "id": "2eLinvbaIEc9",
        "outputId": "87ac6268-08d3-4f34-ea50-b7a860202e5c"
      },
      "outputs": [
        {
          "ename": "TypeError",
          "evalue": "ignored",
          "output_type": "error",
          "traceback": [
            "\u001b[0;31m---------------------------------------------------------------------------\u001b[0m",
            "\u001b[0;31mTypeError\u001b[0m                                 Traceback (most recent call last)",
            "\u001b[0;32m<ipython-input-61-029116b1ce60>\u001b[0m in \u001b[0;36m<module>\u001b[0;34m\u001b[0m\n\u001b[0;32m----> 1\u001b[0;31m \u001b[0mtest16\u001b[0m\u001b[0;34m(\u001b[0m\u001b[0;36m123\u001b[0m\u001b[0;34m,\u001b[0m\u001b[0;36m456\u001b[0m\u001b[0;34m,\u001b[0m\u001b[0;36m789\u001b[0m\u001b[0;34m)\u001b[0m\u001b[0;34m\u001b[0m\u001b[0;34m\u001b[0m\u001b[0m\n\u001b[0m",
            "\u001b[0;31mTypeError\u001b[0m: test16() missing 1 required keyword-only argument: 'a'"
          ]
        }
      ],
      "source": [
        "test16(123,456,789)"
      ]
    },
    {
      "cell_type": "code",
      "execution_count": null,
      "metadata": {
        "colab": {
          "base_uri": "https://localhost:8080/"
        },
        "id": "7jHeDB3lIKcQ",
        "outputId": "69c67656-e608-45ac-e3ef-2efa9a9f4f40"
      },
      "outputs": [
        {
          "data": {
            "text/plain": [
              "(890, (12, 23, 344, 123))"
            ]
          },
          "execution_count": 62,
          "metadata": {},
          "output_type": "execute_result"
        }
      ],
      "source": [
        " # I have to pass a some specific data as argument to function you have to pass this is in this way\n",
        "test16(12,23,344,123,a=890)"
      ]
    },
    {
      "cell_type": "code",
      "execution_count": 4,
      "metadata": {
        "colab": {
          "base_uri": "https://localhost:8080/"
        },
        "id": "Lz9EEln8JPK6",
        "outputId": "aa9a1898-c4f5-4c41-c3ca-07fb0b143407"
      },
      "outputs": [
        {
          "data": {
            "text/plain": [
              "((12, 32, 21), 1, 2, 3, 8)"
            ]
          },
          "execution_count": 4,
          "metadata": {},
          "output_type": "execute_result"
        }
      ],
      "source": [
        "def test17(*args, a,b,c,d):\n",
        "  return args , a , b, c,d\n",
        "test17(12,32,21,a=1,b=2,c=3,d=8)"
      ]
    },
    {
      "cell_type": "code",
      "execution_count": null,
      "metadata": {
        "colab": {
          "base_uri": "https://localhost:8080/",
          "height": 200
        },
        "id": "ALF-VcpmKQC7",
        "outputId": "e7f29af1-eeb9-4197-9ba7-2f4727519ad9"
      },
      "outputs": [
        {
          "ename": "TypeError",
          "evalue": "ignored",
          "output_type": "error",
          "traceback": [
            "\u001b[0;31m---------------------------------------------------------------------------\u001b[0m",
            "\u001b[0;31mTypeError\u001b[0m                                 Traceback (most recent call last)",
            "\u001b[0;32m<ipython-input-64-0dc26f52866a>\u001b[0m in \u001b[0;36m<module>\u001b[0;34m\u001b[0m\n\u001b[1;32m      1\u001b[0m \u001b[0;32mdef\u001b[0m \u001b[0mtest17\u001b[0m\u001b[0;34m(\u001b[0m\u001b[0ma\u001b[0m\u001b[0;34m,\u001b[0m\u001b[0;34m*\u001b[0m\u001b[0margs\u001b[0m\u001b[0;34m)\u001b[0m\u001b[0;34m:\u001b[0m\u001b[0;34m\u001b[0m\u001b[0;34m\u001b[0m\u001b[0m\n\u001b[1;32m      2\u001b[0m   \u001b[0;32mreturn\u001b[0m \u001b[0margs\u001b[0m \u001b[0;34m,\u001b[0m \u001b[0ma\u001b[0m\u001b[0;34m\u001b[0m\u001b[0;34m\u001b[0m\u001b[0m\n\u001b[0;32m----> 3\u001b[0;31m \u001b[0mtest17\u001b[0m\u001b[0;34m(\u001b[0m\u001b[0;36m12\u001b[0m\u001b[0;34m,\u001b[0m\u001b[0;36m12\u001b[0m\u001b[0;34m,\u001b[0m\u001b[0;36m32\u001b[0m\u001b[0;34m,\u001b[0m\u001b[0;36m21\u001b[0m\u001b[0;34m,\u001b[0m \u001b[0ma\u001b[0m\u001b[0;34m=\u001b[0m\u001b[0;36m12\u001b[0m\u001b[0;34m)\u001b[0m\u001b[0;34m\u001b[0m\u001b[0;34m\u001b[0m\u001b[0m\n\u001b[0m",
            "\u001b[0;31mTypeError\u001b[0m: test17() got multiple values for argument 'a'"
          ]
        }
      ],
      "source": [
        "def test17(a,*args):\n",
        "  return args , a \n",
        "test17(12,12,32,21, a=12)"
      ]
    },
    {
      "cell_type": "code",
      "execution_count": null,
      "metadata": {
        "id": "8lSMcQgGLNYK"
      },
      "outputs": [],
      "source": [
        "def test19(a,*args,b,c):\n",
        "  return a,args,b,c"
      ]
    },
    {
      "cell_type": "code",
      "execution_count": null,
      "metadata": {
        "colab": {
          "base_uri": "https://localhost:8080/",
          "height": 165
        },
        "id": "VsbeJO25Ma-V",
        "outputId": "c92bba05-35e6-4340-91c2-35706560c230"
      },
      "outputs": [
        {
          "ename": "TypeError",
          "evalue": "ignored",
          "output_type": "error",
          "traceback": [
            "\u001b[0;31m---------------------------------------------------------------------------\u001b[0m",
            "\u001b[0;31mTypeError\u001b[0m                                 Traceback (most recent call last)",
            "\u001b[0;32m<ipython-input-66-fe4fdadbf7d9>\u001b[0m in \u001b[0;36m<module>\u001b[0;34m\u001b[0m\n\u001b[0;32m----> 1\u001b[0;31m \u001b[0mtest19\u001b[0m\u001b[0;34m(\u001b[0m\u001b[0;34m'sdf'\u001b[0m\u001b[0;34m,\u001b[0m\u001b[0;34m[\u001b[0m\u001b[0;36m2\u001b[0m\u001b[0;34m,\u001b[0m\u001b[0;36m3\u001b[0m\u001b[0;34m,\u001b[0m\u001b[0;36m45\u001b[0m\u001b[0;34m]\u001b[0m\u001b[0;34m,\u001b[0m\u001b[0;36m345\u001b[0m\u001b[0;34m,\u001b[0m\u001b[0;36m5637\u001b[0m\u001b[0;34m,\u001b[0m\u001b[0;36m782\u001b[0m\u001b[0;34m,\u001b[0m\u001b[0;36m283\u001b[0m\u001b[0;34m)\u001b[0m\u001b[0;34m\u001b[0m\u001b[0;34m\u001b[0m\u001b[0m\n\u001b[0m",
            "\u001b[0;31mTypeError\u001b[0m: test19() missing 2 required keyword-only arguments: 'b' and 'c'"
          ]
        }
      ],
      "source": [
        "test19('sdf',[2,3,45],345,5637,782,283)"
      ]
    },
    {
      "cell_type": "code",
      "execution_count": null,
      "metadata": {
        "colab": {
          "base_uri": "https://localhost:8080/"
        },
        "id": "VennB-KXMkTD",
        "outputId": "75d01b46-fa63-4f5f-a1ce-2544d4d6c778"
      },
      "outputs": [
        {
          "data": {
            "text/plain": [
              "('sdf', ([2, 3, 45], 345, 5637), 782, 283)"
            ]
          },
          "execution_count": 67,
          "metadata": {},
          "output_type": "execute_result"
        }
      ],
      "source": [
        "test19('sdf',[2,3,45],345,5637,b=782,c=283)"
      ]
    },
    {
      "cell_type": "code",
      "execution_count": null,
      "metadata": {
        "id": "AWv4kVJtM6m7"
      },
      "outputs": [],
      "source": [
        "# * wale ke through jo multiple argument create kiye hote hai usse pehle defaultly consider ho jatte hai but uske bad walle me bindiang karwani padti hai\n"
      ]
    },
    {
      "cell_type": "code",
      "execution_count": null,
      "metadata": {
        "colab": {
          "base_uri": "https://localhost:8080/"
        },
        "id": "EMqdyLx1NVYG",
        "outputId": "823e1026-0ef7-4c5e-a706-3c01de307d19"
      },
      "outputs": [
        {
          "data": {
            "text/plain": [
              "[1, 322, 2, 2, 3]"
            ]
          },
          "execution_count": 69,
          "metadata": {},
          "output_type": "execute_result"
        }
      ],
      "source": [
        "def anything(*args):\n",
        "  for i in args:\n",
        "    if type(i)==list:\n",
        "      return i\n",
        "\n",
        "\n",
        "anything(123,45,2,43,32,\"jjd\",\"rt\",[1,322,2,2,3],[1,322,2,2,3])\n",
        "#problem with that it only retuens first list in the given argument"
      ]
    },
    {
      "cell_type": "code",
      "execution_count": null,
      "metadata": {
        "colab": {
          "base_uri": "https://localhost:8080/"
        },
        "id": "DEUVCttzONTY",
        "outputId": "036af672-639a-4f50-8a89-8f3681b39d97"
      },
      "outputs": [
        {
          "data": {
            "text/plain": [
              "[[1, 322, 2, 2, 3], [1, 322, 2, 2, 3]]"
            ]
          },
          "execution_count": 70,
          "metadata": {},
          "output_type": "execute_result"
        }
      ],
      "source": [
        "def anything1(*args):\n",
        "  l=[]\n",
        "  for i in args:\n",
        "    if type(i)==list:\n",
        "      l.append(i)\n",
        "  return l\n",
        "\n",
        "anything1(123,45,2,43,32,\"jjd\",\"rt\",[1,322,2,2,3],[1,322,2,2,3])\n"
      ]
    },
    {
      "cell_type": "code",
      "execution_count": null,
      "metadata": {
        "id": "ESMg-U85xLjh"
      },
      "outputs": [],
      "source": [
        "# ** key value pair\n",
        "def test23(**kwargs):    #keywordargumments\n",
        "  return kwargs\n",
        "\n"
      ]
    },
    {
      "cell_type": "code",
      "execution_count": null,
      "metadata": {
        "colab": {
          "base_uri": "https://localhost:8080/",
          "height": 165
        },
        "id": "ZAyGY7KM169p",
        "outputId": "995d108d-fa0f-48e9-92ea-0c5b7a0c51ab"
      },
      "outputs": [
        {
          "ename": "TypeError",
          "evalue": "ignored",
          "output_type": "error",
          "traceback": [
            "\u001b[0;31m---------------------------------------------------------------------------\u001b[0m",
            "\u001b[0;31mTypeError\u001b[0m                                 Traceback (most recent call last)",
            "\u001b[0;32m<ipython-input-72-1888f70e37c2>\u001b[0m in \u001b[0;36m<module>\u001b[0;34m\u001b[0m\n\u001b[0;32m----> 1\u001b[0;31m \u001b[0mtest23\u001b[0m\u001b[0;34m(\u001b[0m\u001b[0;36m23\u001b[0m\u001b[0;34m,\u001b[0m\u001b[0;36m34\u001b[0m\u001b[0;34m,\u001b[0m\u001b[0;36m5\u001b[0m\u001b[0;34m,\u001b[0m\u001b[0;36m6\u001b[0m\u001b[0;34m,\u001b[0m\u001b[0;36m7\u001b[0m\u001b[0;34m,\u001b[0m\u001b[0;36m7\u001b[0m\u001b[0;34m,\u001b[0m\u001b[0;36m8\u001b[0m\u001b[0;34m,\u001b[0m\u001b[0;36m9\u001b[0m\u001b[0;34m,\u001b[0m\u001b[0;36m23\u001b[0m\u001b[0;34m)\u001b[0m\u001b[0;34m\u001b[0m\u001b[0;34m\u001b[0m\u001b[0m\n\u001b[0m",
            "\u001b[0;31mTypeError\u001b[0m: test23() takes 0 positional arguments but 9 were given"
          ]
        }
      ],
      "source": [
        "\n",
        "\n",
        "\n",
        "test23(23,34,5,6,7,7,8,9,23)"
      ]
    },
    {
      "cell_type": "code",
      "execution_count": null,
      "metadata": {
        "colab": {
          "base_uri": "https://localhost:8080/"
        },
        "id": "L583AzMy1_J_",
        "outputId": "8ac0531e-d3e2-48ca-b8cb-9cbddd041d8e"
      },
      "outputs": [
        {
          "data": {
            "text/plain": [
              "{'A': 23, 'N': [23, 32, 34, 21]}"
            ]
          },
          "execution_count": 73,
          "metadata": {},
          "output_type": "execute_result"
        }
      ],
      "source": [
        "test23(A=23,N=[23,32,34,21])"
      ]
    },
    {
      "cell_type": "code",
      "execution_count": 7,
      "metadata": {
        "colab": {
          "base_uri": "https://localhost:8080/",
          "height": 130
        },
        "id": "h4S4CVCx2fQK",
        "outputId": "63b94f5b-7931-49e7-d94c-761401ff2e89"
      },
      "outputs": [
        {
          "ename": "SyntaxError",
          "evalue": "expression cannot contain assignment, perhaps you meant \"==\"? (1218887092.py, line 1)",
          "output_type": "error",
          "traceback": [
            "\u001b[0;36m  Cell \u001b[0;32mIn[7], line 1\u001b[0;36m\u001b[0m\n\u001b[0;31m    test23(\"3\"=\"er\")\u001b[0m\n\u001b[0m           ^\u001b[0m\n\u001b[0;31mSyntaxError\u001b[0m\u001b[0;31m:\u001b[0m expression cannot contain assignment, perhaps you meant \"==\"?\n"
          ]
        }
      ],
      "source": [
        "test23(\"3\"=\"er\")"
      ]
    },
    {
      "cell_type": "code",
      "execution_count": 3,
      "metadata": {
        "id": "xpHnmMHc7NRU"
      },
      "outputs": [],
      "source": [
        "def test24(**anil):\n",
        "  return anil\n",
        "  "
      ]
    },
    {
      "cell_type": "code",
      "execution_count": 6,
      "metadata": {
        "colab": {
          "base_uri": "https://localhost:8080/"
        },
        "id": "Wi01KQ9V-AIg",
        "outputId": "d24998ed-1599-4452-ccd9-151723afb492"
      },
      "outputs": [
        {
          "data": {
            "text/plain": [
              "{'name': 'sudh',\n",
              " 'age': '34',\n",
              " 'phone_number': '23421234232',\n",
              " 'mail_id': 'ser@gmail.com'}"
            ]
          },
          "execution_count": 6,
          "metadata": {},
          "output_type": "execute_result"
        }
      ],
      "source": [
        "test24(name=\"sudh\",age=\"34\",phone_number =\"23421234232\",mail_id=\"ser@gmail.com\")"
      ]
    },
    {
      "cell_type": "code",
      "execution_count": null,
      "metadata": {
        "id": "Eo-wEKs5-WXa"
      },
      "outputs": [],
      "source": [
        "def test25(a,**sudh):\n",
        "  return sudh,a"
      ]
    },
    {
      "cell_type": "code",
      "execution_count": null,
      "metadata": {
        "colab": {
          "base_uri": "https://localhost:8080/"
        },
        "id": "_gQNhW8FDygE",
        "outputId": "465b2ffd-ae9c-41c2-f37d-b927abaa467d"
      },
      "outputs": [
        {
          "data": {
            "text/plain": [
              "({'t': 45, 'b': 78, 'c': 67, 'e': 34}, 34)"
            ]
          },
          "execution_count": 79,
          "metadata": {},
          "output_type": "execute_result"
        }
      ],
      "source": [
        "test25(34,t=45,b=78,c=67,e=34)"
      ]
    },
    {
      "cell_type": "code",
      "execution_count": null,
      "metadata": {
        "id": "OLFyvM26ECyu"
      },
      "outputs": [],
      "source": [
        "#we don't be able to use * and ** at a same time"
      ]
    },
    {
      "cell_type": "code",
      "execution_count": null,
      "metadata": {
        "colab": {
          "base_uri": "https://localhost:8080/",
          "height": 130
        },
        "id": "2jlE30hYFI8M",
        "outputId": "031af4e9-68b5-447e-eea1-cc6211b58aa4"
      },
      "outputs": [
        {
          "ename": "SyntaxError",
          "evalue": "ignored",
          "output_type": "error",
          "traceback": [
            "\u001b[0;36m  File \u001b[0;32m\"<ipython-input-82-ac6e6262bba8>\"\u001b[0;36m, line \u001b[0;32m1\u001b[0m\n\u001b[0;31m    def test11(a,**aku, *bad):\u001b[0m\n\u001b[0m                        ^\u001b[0m\n\u001b[0;31mSyntaxError\u001b[0m\u001b[0;31m:\u001b[0m invalid syntax\n"
          ]
        }
      ],
      "source": [
        "def test11(a,**aku, *bad):\n",
        "  return aku , a, bad"
      ]
    },
    {
      "cell_type": "code",
      "execution_count": null,
      "metadata": {
        "id": "eHScpN6iFUA8"
      },
      "outputs": [],
      "source": [
        "def test112(a,*aku,**baku):   #but we can use * and ** together like this\n",
        "  return a,aku,baku"
      ]
    },
    {
      "cell_type": "code",
      "execution_count": null,
      "metadata": {
        "colab": {
          "base_uri": "https://localhost:8080/"
        },
        "id": "CPaoPkytG4kq",
        "outputId": "4d6341a5-e458-44ca-f26d-4d43bfc53324"
      },
      "outputs": [
        {
          "data": {
            "text/plain": [
              "(23, (234, 34, 5, 5, 52, 45), {'t': 45, 'b': 78, 'c': 67, 'e': 34})"
            ]
          },
          "execution_count": 84,
          "metadata": {},
          "output_type": "execute_result"
        }
      ],
      "source": [
        "test112(23,234,34,5,5,52,45,t=45,b=78,c=67,e=34)"
      ]
    },
    {
      "cell_type": "code",
      "execution_count": null,
      "metadata": {
        "id": "mxh2v1A3HC_U"
      },
      "outputs": [],
      "source": [
        " #create a function without using name , create anoynmous function"
      ]
    },
    {
      "cell_type": "code",
      "execution_count": null,
      "metadata": {
        "id": "g9fBB_YPJRJE"
      },
      "outputs": [],
      "source": [
        "a = lambda a, b : a*b  #here a, b are arguments and a*b is return value and a is function name"
      ]
    },
    {
      "cell_type": "code",
      "execution_count": null,
      "metadata": {
        "colab": {
          "base_uri": "https://localhost:8080/"
        },
        "id": "mQUaTpU5KOkY",
        "outputId": "139a48f9-76f8-4e94-d2ae-862d22c286eb"
      },
      "outputs": [
        {
          "data": {
            "text/plain": [
              "782"
            ]
          },
          "execution_count": 92,
          "metadata": {},
          "output_type": "execute_result"
        }
      ],
      "source": [
        "a(23,34)"
      ]
    },
    {
      "cell_type": "code",
      "execution_count": null,
      "metadata": {
        "id": "CdGR9M9QKdg5"
      },
      "outputs": [],
      "source": [
        "A= lambda a ,b: (a*b, a+b)"
      ]
    },
    {
      "cell_type": "code",
      "execution_count": null,
      "metadata": {
        "colab": {
          "base_uri": "https://localhost:8080/"
        },
        "id": "OytXEvBPSu3K",
        "outputId": "41489645-f428-49e4-9172-861166b6eb5a"
      },
      "outputs": [
        {
          "data": {
            "text/plain": [
              "(736, 55)"
            ]
          },
          "execution_count": 97,
          "metadata": {},
          "output_type": "execute_result"
        }
      ],
      "source": [
        "A(23,32)"
      ]
    },
    {
      "cell_type": "code",
      "execution_count": null,
      "metadata": {
        "colab": {
          "base_uri": "https://localhost:8080/"
        },
        "id": "sa15R-5LTJwZ",
        "outputId": "93b1ecc2-56b2-47ee-864e-8d0b04501bc9"
      },
      "outputs": [
        {
          "data": {
            "text/plain": [
              "(2323.23, 23, 12)"
            ]
          },
          "execution_count": 98,
          "metadata": {},
          "output_type": "execute_result"
        }
      ],
      "source": [
        "a= lambda *a:a\n",
        "a(2323.23,23,12)"
      ]
    },
    {
      "cell_type": "code",
      "execution_count": 7,
      "metadata": {
        "id": "CPDWeQznTbaY"
      },
      "outputs": [],
      "source": [
        "x =lambda *i : i**2   #error : squaring tuple"
      ]
    },
    {
      "cell_type": "code",
      "execution_count": 8,
      "metadata": {},
      "outputs": [
        {
          "ename": "TypeError",
          "evalue": "unsupported operand type(s) for ** or pow(): 'tuple' and 'int'",
          "output_type": "error",
          "traceback": [
            "\u001b[0;31m---------------------------------------------------------------------------\u001b[0m",
            "\u001b[0;31mTypeError\u001b[0m                                 Traceback (most recent call last)",
            "Cell \u001b[0;32mIn[8], line 1\u001b[0m\n\u001b[0;32m----> 1\u001b[0m \u001b[43mx\u001b[49m\u001b[43m(\u001b[49m\u001b[38;5;241;43m2\u001b[39;49m\u001b[43m,\u001b[49m\u001b[38;5;241;43m3\u001b[39;49m\u001b[43m)\u001b[49m\n",
            "Cell \u001b[0;32mIn[7], line 1\u001b[0m, in \u001b[0;36m<lambda>\u001b[0;34m(*i)\u001b[0m\n\u001b[0;32m----> 1\u001b[0m x \u001b[38;5;241m=\u001b[39m\u001b[38;5;28;01mlambda\u001b[39;00m \u001b[38;5;241m*\u001b[39mi : \u001b[43mi\u001b[49m\u001b[38;5;241;43m*\u001b[39;49m\u001b[38;5;241;43m*\u001b[39;49m\u001b[38;5;241;43m2\u001b[39;49m   \u001b[38;5;66;03m#error\u001b[39;00m\n",
            "\u001b[0;31mTypeError\u001b[0m: unsupported operand type(s) for ** or pow(): 'tuple' and 'int'"
          ]
        }
      ],
      "source": [
        "x(2,3)"
      ]
    },
    {
      "cell_type": "code",
      "execution_count": 4,
      "metadata": {
        "colab": {
          "base_uri": "https://localhost:8080/",
          "height": 130
        },
        "id": "B5DWZdg6f3cO",
        "outputId": "4ce88423-c4d2-4ac8-c58e-11aa63466efb"
      },
      "outputs": [
        {
          "ename": "SyntaxError",
          "evalue": "invalid syntax (855356417.py, line 1)",
          "output_type": "error",
          "traceback": [
            "\u001b[0;36m  Cell \u001b[0;32mIn[4], line 1\u001b[0;36m\u001b[0m\n\u001b[0;31m    x= lambda x:for i in x: print(i)\u001b[0m\n\u001b[0m                ^\u001b[0m\n\u001b[0;31mSyntaxError\u001b[0m\u001b[0;31m:\u001b[0m invalid syntax\n"
          ]
        }
      ],
      "source": [
        "x= lambda x:for i in x: print(i)"
      ]
    },
    {
      "cell_type": "code",
      "execution_count": null,
      "metadata": {
        "id": "1aDDSOjlgid7"
      },
      "outputs": [],
      "source": [
        "# https://www.freecodecamp.org/news/python-lambda-function-explained/#:~:text=You%20should%20use%20the%20lambda,use%20a%20user%2Ddefined%20function."
      ]
    },
    {
      "cell_type": "code",
      "execution_count": null,
      "metadata": {
        "id": "P3HQu80hhdkh"
      },
      "outputs": [],
      "source": [
        "#tryng differnt ways of using lamda function"
      ]
    },
    {
      "cell_type": "code",
      "execution_count": 16,
      "metadata": {
        "id": "dSThUTPniHow"
      },
      "outputs": [],
      "source": [
        "x = lambda x : [print(i) for i in x] #so to use for loop with lambda function\n",
        "                                #we have to use one liner for 'for' loop"
      ]
    },
    {
      "cell_type": "code",
      "execution_count": 17,
      "metadata": {
        "colab": {
          "base_uri": "https://localhost:8080/"
        },
        "id": "HB-Zk49ejP6x",
        "outputId": "42b7d0f0-61ce-4376-d53d-30375e71128b"
      },
      "outputs": [
        {
          "name": "stdout",
          "output_type": "stream",
          "text": [
            "1\n",
            "2\n",
            "3\n",
            "4\n",
            "5\n",
            "6\n",
            "7\n",
            "8\n",
            "8\n"
          ]
        },
        {
          "data": {
            "text/plain": [
              "[None, None, None, None, None, None, None, None, None]"
            ]
          },
          "execution_count": 17,
          "metadata": {},
          "output_type": "execute_result"
        }
      ],
      "source": [
        "x([1,2,3,4,5,6,7,8,8])"
      ]
    },
    {
      "cell_type": "code",
      "execution_count": 18,
      "metadata": {
        "id": "1nuJAHQrjkkP"
      },
      "outputs": [],
      "source": [
        "x = lambda x :[i for i in x] \n",
        "#x = lambda x :(i for i in x) #wrong, always remember, we have to use square bracket"
      ]
    },
    {
      "cell_type": "code",
      "execution_count": 19,
      "metadata": {
        "colab": {
          "base_uri": "https://localhost:8080/"
        },
        "id": "6kdqogZikVAA",
        "outputId": "28eb7d70-ee19-4e94-e373-7cab083d0292"
      },
      "outputs": [
        {
          "data": {
            "text/plain": [
              "[1, 2, 3, 4, 5, 5, 67, 8, 8]"
            ]
          },
          "execution_count": 19,
          "metadata": {},
          "output_type": "execute_result"
        }
      ],
      "source": [
        "x([1,2,3,4,5,5,67,8,8])"
      ]
    },
    {
      "cell_type": "code",
      "execution_count": 20,
      "metadata": {
        "id": "tz0INDLTkZHP"
      },
      "outputs": [],
      "source": [
        "l=[1,2,3,45]"
      ]
    },
    {
      "cell_type": "code",
      "execution_count": 22,
      "metadata": {
        "colab": {
          "base_uri": "https://localhost:8080/"
        },
        "id": "uf2ZnHCXlBzQ",
        "outputId": "930b1774-cdbc-40f3-c551-30eb508f4fee"
      },
      "outputs": [
        {
          "data": {
            "text/plain": [
              "[1, 2, 3, 45]"
            ]
          },
          "execution_count": 22,
          "metadata": {},
          "output_type": "execute_result"
        }
      ],
      "source": [
        "[i for i in l]   #comprehension operation or one liner for 'for' loop"
      ]
    },
    {
      "cell_type": "code",
      "execution_count": 23,
      "metadata": {},
      "outputs": [],
      "source": [
        "a = lambda **kwargs : kwargs"
      ]
    },
    {
      "cell_type": "code",
      "execution_count": 24,
      "metadata": {},
      "outputs": [
        {
          "data": {
            "text/plain": [
              "{'a': 45, 'b': 56}"
            ]
          },
          "execution_count": 24,
          "metadata": {},
          "output_type": "execute_result"
        }
      ],
      "source": [
        "a(a = 45, b = 56)"
      ]
    },
    {
      "cell_type": "code",
      "execution_count": null,
      "metadata": {
        "id": "QSOO-sLulFYg"
      },
      "outputs": [],
      "source": [
        "a=10\n",
        "def test45(c,d):\n",
        "  a=5\n",
        "  return c*d"
      ]
    },
    {
      "cell_type": "code",
      "execution_count": null,
      "metadata": {
        "colab": {
          "base_uri": "https://localhost:8080/"
        },
        "id": "-HcHtrqWsF9x",
        "outputId": "bc66fc0b-7c4e-4645-9921-26c0d97900ca"
      },
      "outputs": [
        {
          "name": "stdout",
          "output_type": "stream",
          "text": [
            "500\n",
            "10\n"
          ]
        }
      ],
      "source": [
        "print(test45(a,50))\n",
        "print(a)"
      ]
    },
    {
      "cell_type": "code",
      "execution_count": 25,
      "metadata": {
        "id": "XcSji13AsKGh"
      },
      "outputs": [],
      "source": [
        "#Comprehension operation\n",
        "x= lambda x : [i+2 for i in x]"
      ]
    },
    {
      "cell_type": "code",
      "execution_count": 29,
      "metadata": {
        "id": "Pck0UE1s1xlL"
      },
      "outputs": [],
      "source": [
        "#x([3,4,5,67,8,9])\n",
        "l=x([3,4,5,67,8,9]) #l = [5, 6, 7, 69, 10, 11]"
      ]
    },
    {
      "cell_type": "code",
      "execution_count": null,
      "metadata": {
        "colab": {
          "base_uri": "https://localhost:8080/"
        },
        "id": "k83OhiRR12th",
        "outputId": "54d2a99f-20ff-4017-8166-ccd6724d800b"
      },
      "outputs": [
        {
          "data": {
            "text/plain": [
              "[(25, 10), (36, 12), (49, 14), (4761, 138), (100, 20), (121, 22)]"
            ]
          },
          "execution_count": 130,
          "metadata": {},
          "output_type": "execute_result"
        }
      ],
      "source": [
        "[(i**2,i+i) for i in l if i>4]"
      ]
    },
    {
      "cell_type": "code",
      "execution_count": null,
      "metadata": {
        "colab": {
          "base_uri": "https://localhost:8080/"
        },
        "id": "PxeRhPBv88QM",
        "outputId": "d3210140-a194-4b97-834c-96b9f46fac9d"
      },
      "outputs": [
        {
          "name": "stdout",
          "output_type": "stream",
          "text": [
            "[5, 6, 7, 69, 10, 11]\n"
          ]
        }
      ],
      "source": [
        "print(l)"
      ]
    },
    {
      "cell_type": "code",
      "execution_count": null,
      "metadata": {
        "colab": {
          "base_uri": "https://localhost:8080/"
        },
        "id": "9MCtiwC99L6u",
        "outputId": "88776100-da2a-48de-d1ac-583015497f26"
      },
      "outputs": [
        {
          "data": {
            "text/plain": [
              "{0: 0, 1: 1, 2: 4, 3: 9, 4: 16, 5: 25, 6: 36, 7: 49, 8: 64, 9: 81}"
            ]
          },
          "execution_count": 132,
          "metadata": {},
          "output_type": "execute_result"
        }
      ],
      "source": [
        "{i:i**2 for i in range(10)}"
      ]
    },
    {
      "cell_type": "code",
      "execution_count": null,
      "metadata": {
        "colab": {
          "base_uri": "https://localhost:8080/"
        },
        "id": "TWzJDouK-hkx",
        "outputId": "d87aebac-08b9-44f9-c358-7555ed9c296a"
      },
      "outputs": [
        {
          "data": {
            "text/plain": [
              "{0: 0, 1: 1, 2: 4, 3: 9, 4: 16, 5: 25, 6: 36, 7: 49, 8: 64, 9: 81}"
            ]
          },
          "execution_count": 133,
          "metadata": {},
          "output_type": "execute_result"
        }
      ],
      "source": [
        "d={}\n",
        "for i in range(10):\n",
        "   d[i]=i**2\n",
        "\n",
        "d"
      ]
    },
    {
      "cell_type": "code",
      "execution_count": 30,
      "metadata": {
        "colab": {
          "base_uri": "https://localhost:8080/"
        },
        "id": "3EGahPDsHel2",
        "outputId": "e30ea8ee-20f9-4a2c-c811-8be0cbbae246"
      },
      "outputs": [
        {
          "data": {
            "text/plain": [
              "<generator object <genexpr> at 0x7fcc7d6e6190>"
            ]
          },
          "execution_count": 30,
          "metadata": {},
          "output_type": "execute_result"
        }
      ],
      "source": [
        "(i for i in range(10))"
      ]
    },
    {
      "cell_type": "code",
      "execution_count": null,
      "metadata": {
        "colab": {
          "base_uri": "https://localhost:8080/"
        },
        "id": "0Nr1sRj1IAYU",
        "outputId": "37b58593-3a97-475c-c5c7-6cdc1d7ebf4c"
      },
      "outputs": [
        {
          "data": {
            "text/plain": [
              "(0, 1, 2, 3, 4, 5, 6, 7, 8, 9)"
            ]
          },
          "execution_count": 136,
          "metadata": {},
          "output_type": "execute_result"
        }
      ],
      "source": [
        "tuple(i for i in range(10)) #typecasting into tuple"
      ]
    },
    {
      "cell_type": "markdown",
      "metadata": {
        "id": "m76cUoiBImvd"
      },
      "source": [
        "**MEANING OF ITERATOR & MEANING OF GENERATOR**"
      ]
    },
    {
      "cell_type": "code",
      "execution_count": null,
      "metadata": {
        "colab": {
          "base_uri": "https://localhost:8080/",
          "height": 209
        },
        "id": "vO3MSMiLISmz",
        "outputId": "fb6993d0-0fcc-402e-c802-d049f85f8f4e"
      },
      "outputs": [
        {
          "ename": "TypeError",
          "evalue": "ignored",
          "output_type": "error",
          "traceback": [
            "\u001b[0;31m---------------------------------------------------------------------------\u001b[0m",
            "\u001b[0;31mTypeError\u001b[0m                                 Traceback (most recent call last)",
            "\u001b[0;32m<ipython-input-137-815dfa19dec5>\u001b[0m in \u001b[0;36m<module>\u001b[0;34m\u001b[0m\n\u001b[1;32m      1\u001b[0m \u001b[0ma\u001b[0m\u001b[0;34m=\u001b[0m\u001b[0;36m56\u001b[0m\u001b[0;34m\u001b[0m\u001b[0;34m\u001b[0m\u001b[0m\n\u001b[0;32m----> 2\u001b[0;31m \u001b[0;32mfor\u001b[0m \u001b[0mi\u001b[0m \u001b[0;32min\u001b[0m \u001b[0ma\u001b[0m\u001b[0;34m:\u001b[0m\u001b[0;34m\u001b[0m\u001b[0;34m\u001b[0m\u001b[0m\n\u001b[0m\u001b[1;32m      3\u001b[0m   \u001b[0mprint\u001b[0m\u001b[0;34m(\u001b[0m\u001b[0mi\u001b[0m\u001b[0;34m)\u001b[0m\u001b[0;34m\u001b[0m\u001b[0;34m\u001b[0m\u001b[0m\n",
            "\u001b[0;31mTypeError\u001b[0m: 'int' object is not iterable"
          ]
        }
      ],
      "source": [
        "a=56\n",
        "for i in a:\n",
        "  print(i)"
      ]
    },
    {
      "cell_type": "code",
      "execution_count": null,
      "metadata": {
        "colab": {
          "base_uri": "https://localhost:8080/"
        },
        "id": "Ik_7cibiJBOC",
        "outputId": "7d7a0d73-1645-4015-ee22-3ad745ab0a88"
      },
      "outputs": [
        {
          "name": "stdout",
          "output_type": "stream",
          "text": [
            "s\n",
            "u\n",
            "d\n",
            "h\n"
          ]
        }
      ],
      "source": [
        "s= 'sudh'\n",
        "for i in s:\n",
        "  print(i)"
      ]
    },
    {
      "cell_type": "code",
      "execution_count": null,
      "metadata": {
        "colab": {
          "base_uri": "https://localhost:8080/",
          "height": 172
        },
        "id": "0NHAfC3aJNoF",
        "outputId": "0d390e30-69e7-41d6-b920-4a77c792198a"
      },
      "outputs": [
        {
          "ename": "TypeError",
          "evalue": "ignored",
          "output_type": "error",
          "traceback": [
            "\u001b[0;31m---------------------------------------------------------------------------\u001b[0m",
            "\u001b[0;31mTypeError\u001b[0m                                 Traceback (most recent call last)",
            "\u001b[0;32m<ipython-input-2-61c30b5fe1d5>\u001b[0m in \u001b[0;36m<module>\u001b[0;34m\u001b[0m\n\u001b[0;32m----> 1\u001b[0;31m \u001b[0mnext\u001b[0m\u001b[0;34m(\u001b[0m\u001b[0ms\u001b[0m\u001b[0;34m)\u001b[0m\u001b[0;34m\u001b[0m\u001b[0;34m\u001b[0m\u001b[0m\n\u001b[0m",
            "\u001b[0;31mTypeError\u001b[0m: 'str' object is not an iterator"
          ]
        }
      ],
      "source": [
        "next(s) #next is an inbuilt function which will extract one element at a time\n",
        "        #and it will give it to you"
      ]
    },
    {
      "cell_type": "markdown",
      "metadata": {
        "id": "0Zy2Tc2JJ3WU"
      },
      "source": [
        "**DIfference between iterator and iterable**\n",
        "if an object is holding a values with the help of some sort of indexes and if you are able to acess it one by one with the help of indexes than taht type of object is called iterable and for loop is something which is trying \n",
        "to create this string as a iterator\n"
      ]
    },
    {
      "cell_type": "code",
      "execution_count": null,
      "metadata": {
        "id": "jWfPMQbCJZAx"
      },
      "outputs": [],
      "source": [
        "b=iter(s)"
      ]
    },
    {
      "cell_type": "markdown",
      "metadata": {
        "id": "FjfmMoleLJh4"
      },
      "source": [
        "iter function will make your iterable object into iterator"
      ]
    },
    {
      "cell_type": "code",
      "execution_count": null,
      "metadata": {
        "colab": {
          "base_uri": "https://localhost:8080/",
          "height": 36
        },
        "id": "UfU3IHiTLDPP",
        "outputId": "2caa99f8-04a1-4a77-87c8-cac057e9f39e"
      },
      "outputs": [
        {
          "data": {
            "application/vnd.google.colaboratory.intrinsic+json": {
              "type": "string"
            },
            "text/plain": [
              "'s'"
            ]
          },
          "execution_count": 4,
          "metadata": {},
          "output_type": "execute_result"
        }
      ],
      "source": [
        "next(b)"
      ]
    },
    {
      "cell_type": "code",
      "execution_count": null,
      "metadata": {
        "colab": {
          "base_uri": "https://localhost:8080/",
          "height": 36
        },
        "id": "7ruNfx83Lap9",
        "outputId": "15083611-8774-4b3e-fa32-ab967f302d85"
      },
      "outputs": [
        {
          "data": {
            "application/vnd.google.colaboratory.intrinsic+json": {
              "type": "string"
            },
            "text/plain": [
              "'u'"
            ]
          },
          "execution_count": 5,
          "metadata": {},
          "output_type": "execute_result"
        }
      ],
      "source": [
        "next(b)"
      ]
    },
    {
      "cell_type": "code",
      "execution_count": null,
      "metadata": {
        "colab": {
          "base_uri": "https://localhost:8080/",
          "height": 36
        },
        "id": "TVxAwwMtLlvN",
        "outputId": "00707a31-0d91-4320-cf9b-8694d68779a3"
      },
      "outputs": [
        {
          "data": {
            "application/vnd.google.colaboratory.intrinsic+json": {
              "type": "string"
            },
            "text/plain": [
              "'d'"
            ]
          },
          "execution_count": 6,
          "metadata": {},
          "output_type": "execute_result"
        }
      ],
      "source": [
        "next(b)"
      ]
    },
    {
      "cell_type": "code",
      "execution_count": null,
      "metadata": {
        "colab": {
          "base_uri": "https://localhost:8080/",
          "height": 36
        },
        "id": "f0ybItBZLm69",
        "outputId": "006f49f7-fcc4-4312-d0c0-2f1391bc26cc"
      },
      "outputs": [
        {
          "data": {
            "application/vnd.google.colaboratory.intrinsic+json": {
              "type": "string"
            },
            "text/plain": [
              "'h'"
            ]
          },
          "execution_count": 7,
          "metadata": {},
          "output_type": "execute_result"
        }
      ],
      "source": [
        "next(b)"
      ]
    },
    {
      "cell_type": "code",
      "execution_count": null,
      "metadata": {
        "id": "oyRm6J0ZLord"
      },
      "outputs": [],
      "source": [
        "#iterable ko iterator me change karna padega tabhi tum uske elements ko indexes se acces kar paoge\n",
        "#we can only convert iterable object into iterator"
      ]
    },
    {
      "cell_type": "code",
      "execution_count": null,
      "metadata": {
        "colab": {
          "base_uri": "https://localhost:8080/",
          "height": 172
        },
        "id": "zpwIttSvMQm7",
        "outputId": "6303b7ec-1395-4d1a-9cce-981db800b9cf"
      },
      "outputs": [
        {
          "ename": "TypeError",
          "evalue": "ignored",
          "output_type": "error",
          "traceback": [
            "\u001b[0;31m---------------------------------------------------------------------------\u001b[0m",
            "\u001b[0;31mTypeError\u001b[0m                                 Traceback (most recent call last)",
            "\u001b[0;32m<ipython-input-9-e50867f8c07e>\u001b[0m in \u001b[0;36m<module>\u001b[0;34m\u001b[0m\n\u001b[0;32m----> 1\u001b[0;31m \u001b[0miter\u001b[0m\u001b[0;34m(\u001b[0m\u001b[0;36m45\u001b[0m\u001b[0;34m)\u001b[0m\u001b[0;34m\u001b[0m\u001b[0;34m\u001b[0m\u001b[0m\n\u001b[0m",
            "\u001b[0;31mTypeError\u001b[0m: 'int' object is not iterable"
          ]
        }
      ],
      "source": [
        "iter(45)"
      ]
    },
    {
      "cell_type": "code",
      "execution_count": 31,
      "metadata": {
        "id": "jaU2COWZNmp5"
      },
      "outputs": [
        {
          "ename": "TypeError",
          "evalue": "'list' object is not an iterator",
          "output_type": "error",
          "traceback": [
            "\u001b[0;31m---------------------------------------------------------------------------\u001b[0m",
            "\u001b[0;31mTypeError\u001b[0m                                 Traceback (most recent call last)",
            "Cell \u001b[0;32mIn[31], line 2\u001b[0m\n\u001b[1;32m      1\u001b[0m l \u001b[38;5;241m=\u001b[39m [\u001b[38;5;241m3\u001b[39m,\u001b[38;5;241m4\u001b[39m,\u001b[38;5;241m5\u001b[39m,\u001b[38;5;241m6\u001b[39m,\u001b[38;5;241m6\u001b[39m]\n\u001b[0;32m----> 2\u001b[0m \u001b[38;5;28;43mnext\u001b[39;49m\u001b[43m(\u001b[49m\u001b[43ml\u001b[49m\u001b[43m)\u001b[49m\n",
            "\u001b[0;31mTypeError\u001b[0m: 'list' object is not an iterator"
          ]
        }
      ],
      "source": [
        "l = [3,4,5,6,6]\n",
        "next(l)"
      ]
    },
    {
      "cell_type": "code",
      "execution_count": 32,
      "metadata": {},
      "outputs": [
        {
          "data": {
            "text/plain": [
              "3"
            ]
          },
          "execution_count": 32,
          "metadata": {},
          "output_type": "execute_result"
        }
      ],
      "source": [
        "l = iter(l)\n",
        "next(l)"
      ]
    },
    {
      "cell_type": "code",
      "execution_count": 33,
      "metadata": {},
      "outputs": [
        {
          "data": {
            "text/plain": [
              "4"
            ]
          },
          "execution_count": 33,
          "metadata": {},
          "output_type": "execute_result"
        }
      ],
      "source": [
        "next(l)"
      ]
    },
    {
      "cell_type": "code",
      "execution_count": null,
      "metadata": {},
      "outputs": [],
      "source": [
        "#if the cursor is able to move one point to another in a object then that \n",
        "#object is called iterator.\n",
        "#internally for loop also changes iterable object into iterator"
      ]
    }
  ],
  "metadata": {
    "colab": {
      "provenance": []
    },
    "kernelspec": {
      "display_name": "Python 3.8.10 64-bit",
      "language": "python",
      "name": "python3"
    },
    "language_info": {
      "codemirror_mode": {
        "name": "ipython",
        "version": 3
      },
      "file_extension": ".py",
      "mimetype": "text/x-python",
      "name": "python",
      "nbconvert_exporter": "python",
      "pygments_lexer": "ipython3",
      "version": "3.8.10"
    },
    "vscode": {
      "interpreter": {
        "hash": "e7370f93d1d0cde622a1f8e1c04877d8463912d04d973331ad4851f04de6915a"
      }
    }
  },
  "nbformat": 4,
  "nbformat_minor": 0
}
