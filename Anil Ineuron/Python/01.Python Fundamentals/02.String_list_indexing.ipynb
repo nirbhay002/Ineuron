{
  "cells": [
    {
      "cell_type": "code",
      "execution_count": 2,
      "metadata": {
        "id": "XYlLmDrPCEjs"
      },
      "outputs": [],
      "source": [
        "s= \"123456789\""
      ]
    },
    {
      "cell_type": "code",
      "execution_count": null,
      "metadata": {
        "colab": {
          "base_uri": "https://localhost:8080/",
          "height": 35
        },
        "id": "JxZXGezNEnX6",
        "outputId": "11600d41-ac15-437b-df5d-53a5910f5530"
      },
      "outputs": [
        {
          "data": {
            "application/vnd.google.colaboratory.intrinsic+json": {
              "type": "string"
            },
            "text/plain": [
              "'9'"
            ]
          },
          "execution_count": 2,
          "metadata": {},
          "output_type": "execute_result"
        }
      ],
      "source": [
        "s[8:100]"
      ]
    },
    {
      "cell_type": "code",
      "execution_count": null,
      "metadata": {
        "colab": {
          "base_uri": "https://localhost:8080/",
          "height": 35
        },
        "id": "nZg5QMpGEv-Y",
        "outputId": "a56d243a-72f3-4018-b6ec-e9ec19228a5c"
      },
      "outputs": [
        {
          "data": {
            "application/vnd.google.colaboratory.intrinsic+json": {
              "type": "string"
            },
            "text/plain": [
              "''"
            ]
          },
          "execution_count": 3,
          "metadata": {},
          "output_type": "execute_result"
        }
      ],
      "source": [
        "\n",
        "s[8:-6]"
      ]
    },
    {
      "cell_type": "code",
      "execution_count": 3,
      "metadata": {
        "colab": {
          "base_uri": "https://localhost:8080/",
          "height": 35
        },
        "id": "nTKEVYT7Ezf4",
        "outputId": "8ad1f290-f751-4467-b7b0-5147995d870a"
      },
      "outputs": [
        {
          "data": {
            "text/plain": [
              "''"
            ]
          },
          "execution_count": 3,
          "metadata": {},
          "output_type": "execute_result"
        }
      ],
      "source": [
        "\n",
        "s[-1:-5]\n",
        "# idhar answer me empty string isliye ayega kyuki jump defult 1 hai ,move karna hai positive direction aur point kar raha hai janne ke liye negative , idhar\n",
        "#aya conflict of intrest isliye empty string mil raha hai "
      ]
    },
    {
      "cell_type": "code",
      "execution_count": 4,
      "metadata": {
        "colab": {
          "base_uri": "https://localhost:8080/",
          "height": 35
        },
        "id": "cnylPCyTF2A2",
        "outputId": "ec91554e-11ef-4740-ea0e-b83cdd5f5493"
      },
      "outputs": [
        {
          "data": {
            "text/plain": [
              "'987654321'"
            ]
          },
          "execution_count": 4,
          "metadata": {},
          "output_type": "execute_result"
        }
      ],
      "source": [
        "s[-1:-100:-1]"
      ]
    },
    {
      "cell_type": "code",
      "execution_count": null,
      "metadata": {
        "colab": {
          "base_uri": "https://localhost:8080/",
          "height": 35
        },
        "id": "GsOUt6IaLeGJ",
        "outputId": "41b556ac-5139-4f77-daf7-0f2d58bc8187"
      },
      "outputs": [
        {
          "data": {
            "application/vnd.google.colaboratory.intrinsic+json": {
              "type": "string"
            },
            "text/plain": [
              "'1'"
            ]
          },
          "execution_count": 10,
          "metadata": {},
          "output_type": "execute_result"
        }
      ],
      "source": [
        "s[0:-10:-11]"
      ]
    },
    {
      "cell_type": "code",
      "execution_count": null,
      "metadata": {
        "colab": {
          "base_uri": "https://localhost:8080/",
          "height": 35
        },
        "id": "nlHafFeKn2K9",
        "outputId": "499dd452-8a16-447e-d45b-874072246c06"
      },
      "outputs": [
        {
          "data": {
            "application/vnd.google.colaboratory.intrinsic+json": {
              "type": "string"
            },
            "text/plain": [
              "'89'"
            ]
          },
          "execution_count": 11,
          "metadata": {},
          "output_type": "execute_result"
        }
      ],
      "source": [
        "s[-2:]"
      ]
    },
    {
      "cell_type": "code",
      "execution_count": null,
      "metadata": {
        "colab": {
          "base_uri": "https://localhost:8080/",
          "height": 35
        },
        "id": "z3WEG9NUonTL",
        "outputId": "8676c125-ae31-4bec-a357-45ff037b7b20"
      },
      "outputs": [
        {
          "data": {
            "application/vnd.google.colaboratory.intrinsic+json": {
              "type": "string"
            },
            "text/plain": [
              "'8'"
            ]
          },
          "execution_count": 3,
          "metadata": {},
          "output_type": "execute_result"
        }
      ],
      "source": [
        "s[-2:-1]"
      ]
    },
    {
      "cell_type": "code",
      "execution_count": null,
      "metadata": {
        "colab": {
          "base_uri": "https://localhost:8080/",
          "height": 35
        },
        "id": "hoBe0ACTIHmY",
        "outputId": "054c9f8a-4844-41be-8d72-c5c10d6c54ca"
      },
      "outputs": [
        {
          "data": {
            "application/vnd.google.colaboratory.intrinsic+json": {
              "type": "string"
            },
            "text/plain": [
              "''"
            ]
          },
          "execution_count": 17,
          "metadata": {},
          "output_type": "execute_result"
        }
      ],
      "source": [
        "s[0:9:-1]"
      ]
    },
    {
      "cell_type": "code",
      "execution_count": null,
      "metadata": {
        "colab": {
          "base_uri": "https://localhost:8080/",
          "height": 35
        },
        "id": "6ArFTiouIb5G",
        "outputId": "eecbb3f0-8a8b-4681-9af5-afbdc3b26bc4"
      },
      "outputs": [
        {
          "data": {
            "application/vnd.google.colaboratory.intrinsic+json": {
              "type": "string"
            },
            "text/plain": [
              "'9876543'"
            ]
          },
          "execution_count": 12,
          "metadata": {},
          "output_type": "execute_result"
        }
      ],
      "source": [
        "s[-1:-8:-1]"
      ]
    },
    {
      "cell_type": "code",
      "execution_count": null,
      "metadata": {
        "colab": {
          "base_uri": "https://localhost:8080/",
          "height": 35
        },
        "id": "oe2dpgWLI_GV",
        "outputId": "f262322c-0114-4320-e2df-5d370f469ae0"
      },
      "outputs": [
        {
          "data": {
            "application/vnd.google.colaboratory.intrinsic+json": {
              "type": "string"
            },
            "text/plain": [
              "'123456789'"
            ]
          },
          "execution_count": 18,
          "metadata": {},
          "output_type": "execute_result"
        }
      ],
      "source": [
        "s[::1]"
      ]
    },
    {
      "cell_type": "code",
      "execution_count": null,
      "metadata": {
        "colab": {
          "base_uri": "https://localhost:8080/",
          "height": 35
        },
        "id": "x4CDB667S_8V",
        "outputId": "d2681485-60af-4048-e8bc-3e4ac4b6b9ca"
      },
      "outputs": [
        {
          "data": {
            "application/vnd.google.colaboratory.intrinsic+json": {
              "type": "string"
            },
            "text/plain": [
              "'97531'"
            ]
          },
          "execution_count": 3,
          "metadata": {},
          "output_type": "execute_result"
        }
      ],
      "source": [
        "s[::-2]"
      ]
    },
    {
      "cell_type": "code",
      "execution_count": null,
      "metadata": {
        "colab": {
          "base_uri": "https://localhost:8080/",
          "height": 35
        },
        "id": "IzrMYC2oTB5z",
        "outputId": "6f283a34-de1f-44eb-d004-cf1b3120aae5"
      },
      "outputs": [
        {
          "data": {
            "application/vnd.google.colaboratory.intrinsic+json": {
              "type": "string"
            },
            "text/plain": [
              "'89'"
            ]
          },
          "execution_count": 4,
          "metadata": {},
          "output_type": "execute_result"
        }
      ],
      "source": [
        "s[-2::]"
      ]
    },
    {
      "cell_type": "code",
      "execution_count": null,
      "metadata": {
        "colab": {
          "base_uri": "https://localhost:8080/",
          "height": 35
        },
        "id": "IXk4mHucWk6k",
        "outputId": "1ed877dd-ed8d-4a50-ae9c-6fa2d702a926"
      },
      "outputs": [
        {
          "data": {
            "application/vnd.google.colaboratory.intrinsic+json": {
              "type": "string"
            },
            "text/plain": [
              "'1'"
            ]
          },
          "execution_count": 19,
          "metadata": {},
          "output_type": "execute_result"
        }
      ],
      "source": [
        "s[0:-10:-1] #doubt\n"
      ]
    },
    {
      "cell_type": "code",
      "execution_count": null,
      "metadata": {
        "colab": {
          "base_uri": "https://localhost:8080/",
          "height": 35
        },
        "id": "nodUkhCWa4YO",
        "outputId": "bd3548c0-25a2-444b-c72f-acdb387495a9"
      },
      "outputs": [
        {
          "data": {
            "application/vnd.google.colaboratory.intrinsic+json": {
              "type": "string"
            },
            "text/plain": [
              "'987654321'"
            ]
          },
          "execution_count": 8,
          "metadata": {},
          "output_type": "execute_result"
        }
      ],
      "source": [
        "s[-1::-1]"
      ]
    },
    {
      "cell_type": "code",
      "execution_count": null,
      "metadata": {
        "colab": {
          "base_uri": "https://localhost:8080/",
          "height": 35
        },
        "id": "KXQi9DXmbGuc",
        "outputId": "cdd76c05-1273-4a12-f464-978220d66b06"
      },
      "outputs": [
        {
          "data": {
            "application/vnd.google.colaboratory.intrinsic+json": {
              "type": "string"
            },
            "text/plain": [
              "'sudhsudhsudh'"
            ]
          },
          "execution_count": 1,
          "metadata": {},
          "output_type": "execute_result"
        }
      ],
      "source": [
        "\"sudh\"*3"
      ]
    },
    {
      "cell_type": "code",
      "execution_count": null,
      "metadata": {
        "id": "81cMylk2qK-F"
      },
      "outputs": [],
      "source": [
        "s=\"Anil\""
      ]
    },
    {
      "cell_type": "code",
      "execution_count": null,
      "metadata": {
        "colab": {
          "base_uri": "https://localhost:8080/"
        },
        "id": "Y3WRNiuCuEvo",
        "outputId": "5364e466-7da8-4ef6-90e2-db9b0570a470"
      },
      "outputs": [
        {
          "data": {
            "text/plain": [
              "1"
            ]
          },
          "execution_count": 4,
          "metadata": {},
          "output_type": "execute_result"
        }
      ],
      "source": [
        "s.find('n')# return position on which character availiable // only return first index"
      ]
    },
    {
      "cell_type": "code",
      "execution_count": null,
      "metadata": {
        "id": "HYkAY9SKuII9"
      },
      "outputs": [],
      "source": []
    },
    {
      "cell_type": "code",
      "execution_count": null,
      "metadata": {
        "colab": {
          "base_uri": "https://localhost:8080/"
        },
        "id": "kI5MMd_qv6IM",
        "outputId": "1fd9a3ca-411a-4d57-bb0b-6f3042aeb3c2"
      },
      "outputs": [
        {
          "data": {
            "text/plain": [
              "2"
            ]
          },
          "execution_count": 6,
          "metadata": {},
          "output_type": "execute_result"
        }
      ],
      "source": [
        "s.find('il')"
      ]
    },
    {
      "cell_type": "code",
      "execution_count": null,
      "metadata": {
        "id": "Zr2XJntLv89b"
      },
      "outputs": [],
      "source": [
        "d= \"me hu don no 1\""
      ]
    },
    {
      "cell_type": "code",
      "execution_count": null,
      "metadata": {
        "id": "OqFugweUxB2I"
      },
      "outputs": [],
      "source": [
        "l=d.split()"
      ]
    },
    {
      "cell_type": "code",
      "execution_count": null,
      "metadata": {
        "colab": {
          "base_uri": "https://localhost:8080/"
        },
        "id": "-c8a-dzTxD3X",
        "outputId": "bd1079d3-8502-4c2d-9770-47ac56244dac"
      },
      "outputs": [
        {
          "data": {
            "text/plain": [
              "['me', 'hu', 'don', 'no', '1']"
            ]
          },
          "execution_count": 10,
          "metadata": {},
          "output_type": "execute_result"
        }
      ],
      "source": [
        "l"
      ]
    },
    {
      "cell_type": "code",
      "execution_count": null,
      "metadata": {
        "colab": {
          "base_uri": "https://localhost:8080/"
        },
        "id": "yR-DTytHxtym",
        "outputId": "4f68fd33-11ae-4e67-df8c-567620d9ec59"
      },
      "outputs": [
        {
          "data": {
            "text/plain": [
              "['no', '1']"
            ]
          },
          "execution_count": 11,
          "metadata": {},
          "output_type": "execute_result"
        }
      ],
      "source": [
        "l[3:5]"
      ]
    },
    {
      "cell_type": "code",
      "execution_count": null,
      "metadata": {
        "colab": {
          "base_uri": "https://localhost:8080/"
        },
        "id": "YzKaPsLvyJXG",
        "outputId": "003ad066-fbb6-42f3-dcc9-031814dfc915"
      },
      "outputs": [
        {
          "data": {
            "text/plain": [
              "['m', ' hu don no 1']"
            ]
          },
          "execution_count": 13,
          "metadata": {},
          "output_type": "execute_result"
        }
      ],
      "source": [
        "d.split('e')"
      ]
    },
    {
      "cell_type": "code",
      "execution_count": null,
      "metadata": {
        "colab": {
          "base_uri": "https://localhost:8080/",
          "height": 35
        },
        "id": "YRAK0xmf22zv",
        "outputId": "e92cdb3a-cfa2-4e8b-fa80-76b2a6a062ee"
      },
      "outputs": [
        {
          "data": {
            "application/vnd.google.colaboratory.intrinsic+json": {
              "type": "string"
            },
            "text/plain": [
              "'Anams Tybffg'"
            ]
          },
          "execution_count": 3,
          "metadata": {},
          "output_type": "execute_result"
        }
      ],
      "source": [
        "s=\"AnAmS tybffg\"\n",
        "s.title()"
      ]
    },
    {
      "cell_type": "code",
      "execution_count": null,
      "metadata": {
        "colab": {
          "base_uri": "https://localhost:8080/",
          "height": 35
        },
        "id": "erkjWFtLVtZZ",
        "outputId": "1bf00028-6279-453a-d323-eb8b5a959cfa"
      },
      "outputs": [
        {
          "data": {
            "application/vnd.google.colaboratory.intrinsic+json": {
              "type": "string"
            },
            "text/plain": [
              "'Anams tybffg'"
            ]
          },
          "execution_count": 4,
          "metadata": {},
          "output_type": "execute_result"
        }
      ],
      "source": [
        " s.capitalize()"
      ]
    },
    {
      "cell_type": "code",
      "execution_count": null,
      "metadata": {
        "colab": {
          "base_uri": "https://localhost:8080/",
          "height": 35
        },
        "id": "PDIzFZ2BWDBn",
        "outputId": "a7cf77cd-9eaa-460c-98c3-bb399d23a685"
      },
      "outputs": [
        {
          "data": {
            "application/vnd.google.colaboratory.intrinsic+json": {
              "type": "string"
            },
            "text/plain": [
              "'A    n    A    m    S         t    y    b    f    f    g'"
            ]
          },
          "execution_count": 5,
          "metadata": {},
          "output_type": "execute_result"
        }
      ],
      "source": [
        "\"    \".join(s)"
      ]
    },
    {
      "cell_type": "code",
      "execution_count": null,
      "metadata": {
        "colab": {
          "base_uri": "https://localhost:8080/"
        },
        "id": "f0lJoBVxXGWF",
        "outputId": "f16aea0b-c954-4c7e-d5ee-788ddb4bc0f6"
      },
      "outputs": [
        {
          "data": {
            "text/plain": [
              "<reversed at 0x7fafae7ab490>"
            ]
          },
          "execution_count": 6,
          "metadata": {},
          "output_type": "execute_result"
        }
      ],
      "source": [
        "reversed(s)"
      ]
    },
    {
      "cell_type": "code",
      "execution_count": null,
      "metadata": {
        "colab": {
          "base_uri": "https://localhost:8080/"
        },
        "id": "NMPkBPTJXrLV",
        "outputId": "7bd5cc9e-eb34-4644-ce6b-5aeeee85c7b5"
      },
      "outputs": [
        {
          "name": "stdout",
          "output_type": "stream",
          "text": [
            "g\n",
            "f\n",
            "f\n",
            "b\n",
            "y\n",
            "t\n",
            " \n",
            "S\n",
            "m\n",
            "A\n",
            "n\n",
            "A\n"
          ]
        }
      ],
      "source": [
        "for i in reversed(s):\n",
        "  print(i)"
      ]
    },
    {
      "cell_type": "code",
      "execution_count": null,
      "metadata": {
        "colab": {
          "base_uri": "https://localhost:8080/",
          "height": 35
        },
        "id": "5Wq0kigMYGjj",
        "outputId": "1ae5bf7c-95b1-4ad3-d3d4-d1bb2da573c1"
      },
      "outputs": [
        {
          "data": {
            "application/vnd.google.colaboratory.intrinsic+json": {
              "type": "string"
            },
            "text/plain": [
              "'dfgh  hj'"
            ]
          },
          "execution_count": 8,
          "metadata": {},
          "output_type": "execute_result"
        }
      ],
      "source": [
        "p=\"   dfgh  hj   \"\n",
        "p.strip()"
      ]
    },
    {
      "cell_type": "code",
      "execution_count": null,
      "metadata": {
        "colab": {
          "base_uri": "https://localhost:8080/",
          "height": 35
        },
        "id": "M3ZIQcnnZXKh",
        "outputId": "9bdc3dee-7b63-48ca-ef49-1e682038bdf2"
      },
      "outputs": [
        {
          "data": {
            "application/vnd.google.colaboratory.intrinsic+json": {
              "type": "string"
            },
            "text/plain": [
              "'sjgfdk  rt      yb      fd      v'"
            ]
          },
          "execution_count": 6,
          "metadata": {},
          "output_type": "execute_result"
        }
      ],
      "source": [
        "sd= \"sjgfdk\\trt\\tyb\\tfd\\tv\"\n",
        "sd.expandtabs()"
      ]
    },
    {
      "cell_type": "code",
      "execution_count": null,
      "metadata": {
        "colab": {
          "base_uri": "https://localhost:8080/",
          "height": 35
        },
        "id": "DJkfNsFrpLRP",
        "outputId": "1d0eb991-2326-4ee3-fda0-f5cf5b751f4e"
      },
      "outputs": [
        {
          "data": {
            "application/vnd.google.colaboratory.intrinsic+json": {
              "type": "string"
            },
            "text/plain": [
              "'#qw\\t ]t  \\tert#'"
            ]
          },
          "execution_count": 19,
          "metadata": {},
          "output_type": "execute_result"
        }
      ],
      "source": [
        "rt=\"qw\\t ]t  \\tert\"\n",
        "rt.center(14 ,'#')"
      ]
    },
    {
      "cell_type": "code",
      "execution_count": null,
      "metadata": {
        "colab": {
          "base_uri": "https://localhost:8080/",
          "height": 35
        },
        "id": "GCczu-gvp_q9",
        "outputId": "c3f78d3c-d861-4833-ac11-60dec310134a"
      },
      "outputs": [
        {
          "data": {
            "application/vnd.google.colaboratory.intrinsic+json": {
              "type": "string"
            },
            "text/plain": [
              "'AarearearenilKamat'"
            ]
          },
          "execution_count": 22,
          "metadata": {},
          "output_type": "execute_result"
        }
      ],
      "source": [
        "tr=\"areareareareareareareAarearearenilKamat\"\n",
        "tr.strip('are')"
      ]
    },
    {
      "cell_type": "code",
      "execution_count": 3,
      "metadata": {
        "colab": {
          "base_uri": "https://localhost:8080/"
        },
        "id": "AQQ6hJJ6_sxm",
        "outputId": "87b59666-0a2d-49ea-ff52-022346c59520"
      },
      "outputs": [
        {
          "data": {
            "text/plain": [
              "[True, (3+2j), 234.34, 342]"
            ]
          },
          "execution_count": 3,
          "metadata": {},
          "output_type": "execute_result"
        }
      ],
      "source": [
        "l1= [\"Anil\",True,3+2j,234.34,342]\n",
        "l1[1:5]"
      ]
    },
    {
      "cell_type": "code",
      "execution_count": 4,
      "metadata": {
        "colab": {
          "base_uri": "https://localhost:8080/"
        },
        "id": "9TGCszOLICfX",
        "outputId": "d5433613-3a53-4e2a-eefa-40697c0c0a90"
      },
      "outputs": [
        {
          "data": {
            "text/plain": [
              "[342, 234.34, (3+2j), True, 'Anil']"
            ]
          },
          "execution_count": 4,
          "metadata": {},
          "output_type": "execute_result"
        }
      ],
      "source": [
        "l1[::-1]"
      ]
    },
    {
      "cell_type": "code",
      "execution_count": 5,
      "metadata": {
        "colab": {
          "base_uri": "https://localhost:8080/"
        },
        "id": "6keMGWjNISHF",
        "outputId": "65a26895-91f8-4666-ddee-6c1c7fd409b8"
      },
      "outputs": [
        {
          "data": {
            "text/plain": [
              "[342]"
            ]
          },
          "execution_count": 5,
          "metadata": {},
          "output_type": "execute_result"
        }
      ],
      "source": [
        "l1[-1:5]"
      ]
    },
    {
      "cell_type": "markdown",
      "metadata": {
        "id": "NBCvY5r7KOWI"
      },
      "source": [
        "![image.png](data:image/png;base64,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)"
      ]
    },
    {
      "cell_type": "code",
      "execution_count": 6,
      "metadata": {
        "id": "B_MyQPUTIXCl"
      },
      "outputs": [],
      "source": [
        "l2 = l1*2"
      ]
    },
    {
      "cell_type": "code",
      "execution_count": 7,
      "metadata": {
        "id": "ve9TIMWZKezC"
      },
      "outputs": [],
      "source": [
        "l1[0]=\"Anil\""
      ]
    },
    {
      "cell_type": "code",
      "execution_count": 8,
      "metadata": {
        "colab": {
          "base_uri": "https://localhost:8080/"
        },
        "id": "hcqDHi-lK3YA",
        "outputId": "21db2b1b-3fd4-4a3f-f927-6861d79fe9ac"
      },
      "outputs": [
        {
          "data": {
            "text/plain": [
              "['Anil', True, (3+2j), 234.34, 342]"
            ]
          },
          "execution_count": 8,
          "metadata": {},
          "output_type": "execute_result"
        }
      ],
      "source": [
        "l1"
      ]
    },
    {
      "cell_type": "markdown",
      "metadata": {
        "id": "HEwttW0zK-iH"
      },
      "source": [
        "We can change the elements of list , means reassignment is possible in string"
      ]
    },
    {
      "cell_type": "code",
      "execution_count": 13,
      "metadata": {
        "colab": {
          "base_uri": "https://localhost:8080/"
        },
        "id": "GttBaOC0K5Gg",
        "outputId": "4850b2d5-f292-46c7-b012-b8413078cbfa"
      },
      "outputs": [
        {
          "name": "stdout",
          "output_type": "stream",
          "text": [
            "['Anil', True, (3+2j), 234.34, 342, 'Anil', True, (3+2j), 234.34, 342]\n"
          ]
        },
        {
          "data": {
            "text/plain": [
              "[342, 234.34, (3+2j)]"
            ]
          },
          "execution_count": 13,
          "metadata": {},
          "output_type": "execute_result"
        }
      ],
      "source": [
        "print(l2)\n",
        "l2[-1:6:-1]"
      ]
    },
    {
      "cell_type": "code",
      "execution_count": null,
      "metadata": {
        "id": "Ls5Y_49yBCJq"
      },
      "outputs": [],
      "source": []
    }
  ],
  "metadata": {
    "colab": {
      "provenance": []
    },
    "kernelspec": {
      "display_name": "Python 3.8.10 64-bit",
      "language": "python",
      "name": "python3"
    },
    "language_info": {
      "codemirror_mode": {
        "name": "ipython",
        "version": 3
      },
      "file_extension": ".py",
      "mimetype": "text/x-python",
      "name": "python",
      "nbconvert_exporter": "python",
      "pygments_lexer": "ipython3",
      "version": "3.8.10"
    },
    "vscode": {
      "interpreter": {
        "hash": "e7370f93d1d0cde622a1f8e1c04877d8463912d04d973331ad4851f04de6915a"
      }
    }
  },
  "nbformat": 4,
  "nbformat_minor": 0
}
