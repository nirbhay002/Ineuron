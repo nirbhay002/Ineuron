{
  "cells": [
    {
      "cell_type": "code",
      "execution_count": 39,
      "metadata": {
        "id": "Fqaa9-dMUokW"
      },
      "outputs": [],
      "source": [
        "#SQL & SQLITE is patternwise exactly same, the only difference is that in case of SQL, we use to hit our server system & in case of SQLITE we hit our local system\n",
        "#if we want to store database in the same system, in that case we prefer SQLITE \n",
        "# is bydefault available in our mobile devices\n",
        "#SQLITE is in memory database , in a same memory you can try to store  a data just in a form of a table , it create .db file , it will be able to store only tabular form of data \n",
        "#you can try to install data inside your RAM or harddisk of mobile, PC etc\n",
        "#Many application in you mobile device is already using  kind of a databases"
      ]
    },
    {
      "cell_type": "markdown",
      "metadata": {},
      "source": [
        "SQLLITE is developed in C and yes API for this database is available for all the programming languages. API means its function"
      ]
    },
    {
      "cell_type": "code",
      "execution_count": 40,
      "metadata": {
        "id": "4dSksocpZm7z"
      },
      "outputs": [],
      "source": [
        "import sqlite3\n",
        "#SQLLITE is already available bydefault with python\n",
        "#thats why we don't need to install it\n",
        "#if you are not working with python then you can install SQLLITE from its official website\n",
        "#it is in memory and bydefault binaries are available in your system"
      ]
    },
    {
      "cell_type": "code",
      "execution_count": 41,
      "metadata": {
        "id": "HtAlOkNqaBkg"
      },
      "outputs": [],
      "source": [
        "#creating db file in local system\n",
        "db = sqlite3.connect(\"ineuron.db\")"
      ]
    },
    {
      "cell_type": "code",
      "execution_count": 42,
      "metadata": {
        "colab": {
          "base_uri": "https://localhost:8080/"
        },
        "id": "2mWTgLUtiFrJ",
        "outputId": "7f324e98-187e-4081-ef00-12694d7ff284"
      },
      "outputs": [
        {
          "name": "stdout",
          "output_type": "stream",
          "text": [
            " glass.data   jobdb.db-journal   SQLLITE_map_,_reduce_,_filter_,_Zip.ipynb\n",
            " ineuron.db   \u001b[0m\u001b[01;34mMongoDB\u001b[0m/          'SQL(usingPython).ipynb'\n",
            " jobdb.db     person.db\n"
          ]
        }
      ],
      "source": [
        "ls"
      ]
    },
    {
      "cell_type": "code",
      "execution_count": 43,
      "metadata": {
        "id": "jEgZ4TvZiuRw"
      },
      "outputs": [],
      "source": [
        "c = db.cursor()\n",
        "#it is the function or object we try to create , which is responsible for creating each and every database command"
      ]
    },
    {
      "cell_type": "code",
      "execution_count": 44,
      "metadata": {
        "colab": {
          "base_uri": "https://localhost:8080/"
        },
        "id": "p2R4G2zGm2-L",
        "outputId": "841739a6-833f-4ac7-acf7-789487eaeda8"
      },
      "outputs": [],
      "source": [
        "#there is little difference in datatype of SQL & SQLITE but syntax wise almost same\n",
        "#here you can see text in place of varchar, real in place of float\n",
        "#c.execute('create table fsds(name text , batchid int , marks real)')"
      ]
    },
    {
      "cell_type": "code",
      "execution_count": 45,
      "metadata": {
        "id": "5XUbrjZppUg_"
      },
      "outputs": [],
      "source": [
        "#for text datatype you have to use single quotes & you can't use double quotes\n",
        "c.execute(\"insert into fsds values('sudh' , 34535 , 454.67)\")\n",
        "for i in range(0,9):\n",
        "  c.execute(\"insert into fsds values('aniil', {first} ,{second} )\".format(first = i , second = i+100))\n",
        "  #note text should be single qoutes\n",
        "\n",
        "  # this is another way of using placeholder. inside placeholder\n",
        "  # c.execute(\"insert into fsds values('aniil', {} ,{} )\".format(i , i+100))\n",
        "\n",
        "  # Another alternative. Here we are using positional placeholders {0} and {1}, the order in which we provide values\n",
        "  # c.execute(\"insert into fsds values('aniil', {0} ,{1} )\".format(i , i+100))\n",
        "\n",
        "  #alternative without using placeholder:\n",
        "  # c.execute(f\"insert into fsds values('aniil', {i} ,{i+100} )\")\n",
        "\n",
        " "
      ]
    },
    {
      "cell_type": "code",
      "execution_count": 46,
      "metadata": {
        "colab": {
          "base_uri": "https://localhost:8080/"
        },
        "id": "pnB6t9zPp4g-",
        "outputId": "a44b8fa6-9884-4272-d12a-f25106658e79"
      },
      "outputs": [
        {
          "data": {
            "text/plain": [
              "<sqlite3.Cursor at 0x7fd48b547420>"
            ]
          },
          "execution_count": 46,
          "metadata": {},
          "output_type": "execute_result"
        }
      ],
      "source": [
        "c.execute(\"select * from fsds\")\n"
      ]
    },
    {
      "cell_type": "code",
      "execution_count": 47,
      "metadata": {
        "colab": {
          "base_uri": "https://localhost:8080/"
        },
        "id": "sfLk-vfxqvfw",
        "outputId": "40bce5b4-a739-40c0-bb08-c21f7a66f33f"
      },
      "outputs": [
        {
          "data": {
            "text/plain": [
              "[('sudh', 34535, 454.67),\n",
              " ('aniil', 0, 100.0),\n",
              " ('aniil', 1, 101.0),\n",
              " ('aniil', 2, 102.0),\n",
              " ('aniil', 3, 103.0),\n",
              " ('aniil', 4, 104.0),\n",
              " ('aniil', 5, 105.0),\n",
              " ('aniil', 6, 106.0),\n",
              " ('aniil', 7, 107.0),\n",
              " ('aniil', 8, 108.0),\n",
              " ('sudh', 34535, 454.67),\n",
              " ('aniil', 0, 100.0),\n",
              " ('aniil', 1, 101.0),\n",
              " ('aniil', 2, 102.0),\n",
              " ('aniil', 3, 103.0),\n",
              " ('aniil', 4, 104.0),\n",
              " ('aniil', 5, 105.0),\n",
              " ('aniil', 6, 106.0),\n",
              " ('aniil', 7, 107.0),\n",
              " ('aniil', 8, 108.0)]"
            ]
          },
          "execution_count": 47,
          "metadata": {},
          "output_type": "execute_result"
        }
      ],
      "source": [
        "c.fetchall()"
      ]
    },
    {
      "cell_type": "code",
      "execution_count": 48,
      "metadata": {
        "id": "SReQ-X1Iqyhx"
      },
      "outputs": [],
      "source": [
        "#Without the commit step, the changes would not be saved to the database file. Always remember to commit after making changes to ensure data integrity and persistence.\n",
        "db.commit()"
      ]
    },
    {
      "cell_type": "code",
      "execution_count": 49,
      "metadata": {
        "id": "3gwdb_nVrLC1"
      },
      "outputs": [],
      "source": [
        "db.close()"
      ]
    },
    {
      "cell_type": "markdown",
      "metadata": {},
      "source": [
        "**Extra note by Nirbhay**<br>\n",
        "A context manager in Python is an object that defines the methods __enter__() and __exit__(). It is used to manage resources, such as file handles or database connections, in a clean and efficient way. The primary purpose is to ensure that setup and cleanup code are properly executed, even if an exception occurs during the execution.\n",
        "\n",
        "The most common way to use a context manager is with the 'with' statement. The with statement ensures that the __enter__() method is called before the block of code inside the with statement is executed, and the __exit__() method is called afterward, even if an exception occurs within the block.\n",
        "\n",
        "Example\n",
        "\n",
        "Without a context manager:\n",
        "\n",
        "    file = open('example.txt', 'w')\n",
        "    file.write('Hello, World!')\n",
        "    file.close()\n",
        "\n",
        "With a context manager:\n",
        "\n",
        "    with open('example.txt', 'w') as file:\n",
        "        file.write('Hello, World!')\n",
        "    #File is automatically closed when the block is exited\n",
        "\n",
        "In the second example using a context manager, you don't need to explicitly close the file. The with statement takes care of that for you.\n",
        "\n",
        "Similiar with db file:\n",
        "    import sqlite3\n",
        "\n",
        "    #Create a connection to the database using a context manager\n",
        "    with sqlite3.connect('example.db') as conn:\n",
        "        c = conn.cursor()\n",
        "\n",
        "        # Execute some SQL statements\n",
        "        c.execute(\"INSERT INTO my_table VALUES (1, 'Hello')\")\n",
        "        c.execute(\"UPDATE my_table SET value = 'World' WHERE id = 1\")\n",
        "\n",
        "    #Connection is automatically closed when the block is exited\n",
        "\n"
      ]
    },
    {
      "cell_type": "code",
      "execution_count": 50,
      "metadata": {
        "id": "T8xjbBIBB-RJ"
      },
      "outputs": [],
      "source": [
        "#As we had closed the connection, we need to again connect with db file\n",
        "db = sqlite3.connect(\"ineuron.db\")"
      ]
    },
    {
      "cell_type": "code",
      "execution_count": 51,
      "metadata": {
        "id": "ItN80yjUC8H3"
      },
      "outputs": [],
      "source": [
        "c = db.cursor()"
      ]
    },
    {
      "cell_type": "code",
      "execution_count": 52,
      "metadata": {
        "colab": {
          "base_uri": "https://localhost:8080/"
        },
        "id": "g8lfPjTKCpKl",
        "outputId": "5a9b269d-0c57-4752-ac8a-7b8940411e16"
      },
      "outputs": [
        {
          "data": {
            "text/plain": [
              "<sqlite3.Cursor at 0x7fd48b547ab0>"
            ]
          },
          "execution_count": 52,
          "metadata": {},
          "output_type": "execute_result"
        }
      ],
      "source": [
        "c.execute('select * from fsds where marks > 400')"
      ]
    },
    {
      "cell_type": "code",
      "execution_count": 53,
      "metadata": {
        "colab": {
          "base_uri": "https://localhost:8080/"
        },
        "id": "RGHbjMNADED2",
        "outputId": "43918e69-ced8-4d61-bcad-d58142d90a01"
      },
      "outputs": [
        {
          "data": {
            "text/plain": [
              "[('sudh', 34535, 454.67), ('sudh', 34535, 454.67)]"
            ]
          },
          "execution_count": 53,
          "metadata": {},
          "output_type": "execute_result"
        }
      ],
      "source": [
        "c.fetchall()"
      ]
    },
    {
      "cell_type": "code",
      "execution_count": 54,
      "metadata": {
        "id": "TUiC9c7uDrap"
      },
      "outputs": [],
      "source": [
        "data = c.execute(\"select * from fsds where name = 'sudh' \")"
      ]
    },
    {
      "cell_type": "code",
      "execution_count": 55,
      "metadata": {
        "colab": {
          "base_uri": "https://localhost:8080/"
        },
        "id": "hXTASv8tD140",
        "outputId": "e751a4e9-9000-466c-8527-6219bcb584ef"
      },
      "outputs": [
        {
          "name": "stdout",
          "output_type": "stream",
          "text": [
            "('sudh', 34535, 454.67)\n",
            "('sudh', 34535, 454.67)\n"
          ]
        }
      ],
      "source": [
        "#accessing last executed command without using fetchall()\n",
        "for i in data:\n",
        "  print(i)"
      ]
    },
    {
      "cell_type": "code",
      "execution_count": 56,
      "metadata": {
        "colab": {
          "base_uri": "https://localhost:8080/"
        },
        "id": "gH1Y28cvD6Sd",
        "outputId": "475eb275-8609-45aa-a0ae-10bf8f64cb07"
      },
      "outputs": [
        {
          "name": "stdout",
          "output_type": "stream",
          "text": [
            "('sudh', 454.67)\n",
            "('aniil', 100.0)\n",
            "('aniil', 101.0)\n",
            "('aniil', 102.0)\n",
            "('aniil', 103.0)\n",
            "('aniil', 104.0)\n",
            "('aniil', 105.0)\n",
            "('aniil', 106.0)\n",
            "('aniil', 107.0)\n",
            "('aniil', 108.0)\n",
            "('sudh', 454.67)\n",
            "('aniil', 100.0)\n",
            "('aniil', 101.0)\n",
            "('aniil', 102.0)\n",
            "('aniil', 103.0)\n",
            "('aniil', 104.0)\n",
            "('aniil', 105.0)\n",
            "('aniil', 106.0)\n",
            "('aniil', 107.0)\n",
            "('aniil', 108.0)\n"
          ]
        }
      ],
      "source": [
        "data = c.execute(\"select name , marks from fsds\")\n",
        "for i in data :\n",
        "    print(i)"
      ]
    },
    {
      "cell_type": "code",
      "execution_count": 57,
      "metadata": {
        "colab": {
          "base_uri": "https://localhost:8080/"
        },
        "id": "0dAlPq2sEa4T",
        "outputId": "855f4d7b-01e2-4b82-a413-4e7c261509e7"
      },
      "outputs": [
        {
          "data": {
            "text/plain": [
              "[('aniil', 100.0),\n",
              " ('aniil', 100.0),\n",
              " ('aniil', 101.0),\n",
              " ('aniil', 101.0),\n",
              " ('aniil', 102.0),\n",
              " ('aniil', 102.0),\n",
              " ('aniil', 103.0),\n",
              " ('aniil', 103.0),\n",
              " ('aniil', 104.0),\n",
              " ('aniil', 104.0),\n",
              " ('aniil', 105.0),\n",
              " ('aniil', 105.0),\n",
              " ('aniil', 106.0),\n",
              " ('aniil', 106.0),\n",
              " ('aniil', 107.0),\n",
              " ('aniil', 107.0),\n",
              " ('aniil', 108.0),\n",
              " ('aniil', 108.0),\n",
              " ('sudh', 454.67),\n",
              " ('sudh', 454.67)]"
            ]
          },
          "execution_count": 57,
          "metadata": {},
          "output_type": "execute_result"
        }
      ],
      "source": [
        "c.execute(\"select name ,marks from fsds order  by marks \")\n",
        "c.fetchall()"
      ]
    },
    {
      "cell_type": "code",
      "execution_count": 58,
      "metadata": {
        "id": "2OGysiQmHCuY"
      },
      "outputs": [],
      "source": [
        "db.commit()\n",
        "db.close()"
      ]
    },
    {
      "cell_type": "markdown",
      "metadata": {
        "id": "qsAuTvhnH0wt"
      },
      "source": [
        "It support one db at a time "
      ]
    },
    {
      "cell_type": "code",
      "execution_count": 59,
      "metadata": {
        "id": "uFwkGLGHHhZh"
      },
      "outputs": [],
      "source": [
        "#Remember to close the previous db before creating a new one.\n",
        "#not compulsory but a good practice\n",
        "db = sqlite3.connect(\"person.db\")\n",
        "c = db.cursor()"
      ]
    },
    {
      "cell_type": "code",
      "execution_count": 60,
      "metadata": {
        "id": "qY4kZxv5IHYe"
      },
      "outputs": [],
      "source": [
        "#c.execute(\"create table person_table(name text , emailid text , age int , salary real)\")"
      ]
    },
    {
      "cell_type": "code",
      "execution_count": 61,
      "metadata": {
        "colab": {
          "base_uri": "https://localhost:8080/"
        },
        "id": "qAWiJzHeI4nf",
        "outputId": "6a641d25-c652-47b4-fa2f-03fd3cb53306"
      },
      "outputs": [
        {
          "name": "stdout",
          "output_type": "stream",
          "text": [
            " glass.data   jobdb.db-journal   SQLLITE_map_,_reduce_,_filter_,_Zip.ipynb\n",
            " ineuron.db   \u001b[0m\u001b[01;34mMongoDB\u001b[0m/          'SQL(usingPython).ipynb'\n",
            " jobdb.db     person.db\n"
          ]
        }
      ],
      "source": [
        "ls"
      ]
    },
    {
      "cell_type": "code",
      "execution_count": 62,
      "metadata": {
        "colab": {
          "base_uri": "https://localhost:8080/"
        },
        "id": "JsnJ5tpgI_B5",
        "outputId": "40bc04f4-3b83-4767-d470-9dcc9d34c515"
      },
      "outputs": [
        {
          "data": {
            "text/plain": [
              "<sqlite3.Cursor at 0x7fd48b5bb570>"
            ]
          },
          "execution_count": 62,
          "metadata": {},
          "output_type": "execute_result"
        }
      ],
      "source": [
        "c.execute(\"insert into person_table values('sudh' , 'sudhanshu@ineuron.ai' , 234 , 23424)\")\n",
        "c.execute(\"insert into person_table values('prashant' ,'prashant@ineuron.ai' , 345 , 23543543)\")\n",
        "c.execute(\"insert into person_table values('krish' , 'krish@ineuron.ai' , 2345 ,34534564)\")\n",
        "c.execute(\"insert into person_table values('sunnny' ,'sunny@ineuron.ai' , 2354,7789797)\")"
      ]
    },
    {
      "cell_type": "code",
      "execution_count": 63,
      "metadata": {
        "id": "0xr9X7C7Jb5G"
      },
      "outputs": [],
      "source": [
        "for i in range(0,10):\n",
        "  c.execute(\"insert into person_table values('Anil{0}' , 'emailid{1}@gmail.com' , {2} , {3})\".format(i , i+10 , i+11 , i+15))"
      ]
    },
    {
      "cell_type": "code",
      "execution_count": 64,
      "metadata": {
        "colab": {
          "base_uri": "https://localhost:8080/"
        },
        "id": "qHxjjXosLWVX",
        "outputId": "9e5da545-0911-4c77-8ca1-234cfb230da8"
      },
      "outputs": [
        {
          "data": {
            "text/plain": [
              "[('sudh', 'sudhanshu@ineuron.ai', 234, 23424.0),\n",
              " ('prashant', 'prashant@ineuron.ai', 345, 23543543.0),\n",
              " ('krish', 'krish@ineuron.ai', 2345, 34534564.0),\n",
              " ('sunnny', 'sunny@ineuron.ai', 2354, 7789797.0),\n",
              " ('Anil0', 'emailid10@gmail.com', 11, 15.0),\n",
              " ('Anil1', 'emailid11@gmail.com', 12, 16.0),\n",
              " ('Anil2', 'emailid12@gmail.com', 13, 17.0),\n",
              " ('Anil3', 'emailid13@gmail.com', 14, 18.0),\n",
              " ('Anil4', 'emailid14@gmail.com', 15, 19.0),\n",
              " ('Anil5', 'emailid15@gmail.com', 16, 20.0),\n",
              " ('Anil6', 'emailid16@gmail.com', 17, 21.0),\n",
              " ('Anil7', 'emailid17@gmail.com', 18, 22.0),\n",
              " ('Anil8', 'emailid18@gmail.com', 19, 23.0),\n",
              " ('Anil9', 'emailid19@gmail.com', 20, 24.0),\n",
              " ('sudh', 'sudhanshu@ineuron.ai', 234, 23424.0),\n",
              " ('prashant', 'prashant@ineuron.ai', 345, 23543543.0),\n",
              " ('krish', 'krish@ineuron.ai', 2345, 34534564.0),\n",
              " ('sunnny', 'sunny@ineuron.ai', 2354, 7789797.0),\n",
              " ('Anil0', 'emailid10@gmail.com', 11, 15.0),\n",
              " ('Anil1', 'emailid11@gmail.com', 12, 16.0),\n",
              " ('Anil2', 'emailid12@gmail.com', 13, 17.0),\n",
              " ('Anil3', 'emailid13@gmail.com', 14, 18.0),\n",
              " ('Anil4', 'emailid14@gmail.com', 15, 19.0),\n",
              " ('Anil5', 'emailid15@gmail.com', 16, 20.0),\n",
              " ('Anil6', 'emailid16@gmail.com', 17, 21.0),\n",
              " ('Anil7', 'emailid17@gmail.com', 18, 22.0),\n",
              " ('Anil8', 'emailid18@gmail.com', 19, 23.0),\n",
              " ('Anil9', 'emailid19@gmail.com', 20, 24.0),\n",
              " ('sudh', 'sudhanshu@ineuron.ai', 234, 23424.0),\n",
              " ('prashant', 'prashant@ineuron.ai', 345, 23543543.0),\n",
              " ('krish', 'krish@ineuron.ai', 2345, 34534564.0),\n",
              " ('sunnny', 'sunny@ineuron.ai', 2354, 7789797.0),\n",
              " ('Anil0', 'emailid10@gmail.com', 11, 15.0),\n",
              " ('Anil1', 'emailid11@gmail.com', 12, 16.0),\n",
              " ('Anil2', 'emailid12@gmail.com', 13, 17.0),\n",
              " ('Anil3', 'emailid13@gmail.com', 14, 18.0),\n",
              " ('Anil4', 'emailid14@gmail.com', 15, 19.0),\n",
              " ('Anil5', 'emailid15@gmail.com', 16, 20.0),\n",
              " ('Anil6', 'emailid16@gmail.com', 17, 21.0),\n",
              " ('Anil7', 'emailid17@gmail.com', 18, 22.0),\n",
              " ('Anil8', 'emailid18@gmail.com', 19, 23.0),\n",
              " ('Anil9', 'emailid19@gmail.com', 20, 24.0),\n",
              " ('sudh', 'sudhanshu@ineuron.ai', 234, 23424.0),\n",
              " ('prashant', 'prashant@ineuron.ai', 345, 23543543.0),\n",
              " ('krish', 'krish@ineuron.ai', 2345, 34534564.0),\n",
              " ('sunnny', 'sunny@ineuron.ai', 2354, 7789797.0),\n",
              " ('Anil0', 'emailid10@gmail.com', 11, 15.0),\n",
              " ('Anil1', 'emailid11@gmail.com', 12, 16.0),\n",
              " ('Anil2', 'emailid12@gmail.com', 13, 17.0),\n",
              " ('Anil3', 'emailid13@gmail.com', 14, 18.0),\n",
              " ('Anil4', 'emailid14@gmail.com', 15, 19.0),\n",
              " ('Anil5', 'emailid15@gmail.com', 16, 20.0),\n",
              " ('Anil6', 'emailid16@gmail.com', 17, 21.0),\n",
              " ('Anil7', 'emailid17@gmail.com', 18, 22.0),\n",
              " ('Anil8', 'emailid18@gmail.com', 19, 23.0),\n",
              " ('Anil9', 'emailid19@gmail.com', 20, 24.0)]"
            ]
          },
          "execution_count": 64,
          "metadata": {},
          "output_type": "execute_result"
        }
      ],
      "source": [
        "c.execute(\"select * from person_table\")\n",
        "c.fetchall()"
      ]
    },
    {
      "cell_type": "code",
      "execution_count": 65,
      "metadata": {
        "id": "8oBTeycJLicI"
      },
      "outputs": [],
      "source": [
        "db.commit()"
      ]
    },
    {
      "cell_type": "code",
      "execution_count": 66,
      "metadata": {
        "id": "E2o8HYcTMZK7"
      },
      "outputs": [],
      "source": [
        "db.close()"
      ]
    },
    {
      "cell_type": "code",
      "execution_count": 67,
      "metadata": {},
      "outputs": [
        {
          "name": "stdout",
          "output_type": "stream",
          "text": [
            " glass.data   jobdb.db-journal   SQLLITE_map_,_reduce_,_filter_,_Zip.ipynb\n",
            " ineuron.db   \u001b[0m\u001b[01;34mMongoDB\u001b[0m/          'SQL(usingPython).ipynb'\n",
            " jobdb.db     person.db\n"
          ]
        }
      ],
      "source": [
        "ls"
      ]
    },
    {
      "cell_type": "code",
      "execution_count": 68,
      "metadata": {
        "id": "2sa8dKAlMbY0"
      },
      "outputs": [],
      "source": [
        "db = sqlite3.connect(\"ineuron.db\")\n",
        "c = db.cursor()"
      ]
    },
    {
      "cell_type": "code",
      "execution_count": 69,
      "metadata": {},
      "outputs": [
        {
          "data": {
            "text/plain": [
              "[('fsds',)]"
            ]
          },
          "execution_count": 69,
          "metadata": {},
          "output_type": "execute_result"
        }
      ],
      "source": [
        "# Get a list of all tables in the database\n",
        "c.execute(\"SELECT name FROM sqlite_master WHERE type='table';\")\n",
        "c.fetchall()"
      ]
    },
    {
      "cell_type": "code",
      "execution_count": 70,
      "metadata": {
        "colab": {
          "base_uri": "https://localhost:8080/"
        },
        "id": "C-93na3bNAK4",
        "outputId": "8b9a679d-1455-4f28-dd60-edf8932fe575"
      },
      "outputs": [],
      "source": [
        "#dropping table\n",
        "#c.execute(\"drop table fsds\")"
      ]
    },
    {
      "cell_type": "code",
      "execution_count": 71,
      "metadata": {},
      "outputs": [],
      "source": [
        "#c.execute('select * from fsds')"
      ]
    },
    {
      "cell_type": "code",
      "execution_count": 72,
      "metadata": {
        "id": "L8nktA-aNHrG"
      },
      "outputs": [],
      "source": [
        "db.commit()"
      ]
    },
    {
      "cell_type": "code",
      "execution_count": 73,
      "metadata": {
        "id": "dkbMR-6-NddU"
      },
      "outputs": [],
      "source": [
        "db.close()"
      ]
    },
    {
      "cell_type": "markdown",
      "metadata": {},
      "source": [
        "In SQLite, there is no direct command to drop an entire database like in some other database management systems. Instead, you typically delete the database file itself. Here's an example using Python:"
      ]
    },
    {
      "cell_type": "code",
      "execution_count": 74,
      "metadata": {},
      "outputs": [],
      "source": [
        "# import os\n",
        "\n",
        "# # Replace 'example.db' with the actual database file name\n",
        "# database_file = 'example.db'\n",
        "\n",
        "# # Close any existing connections to the database if open\n",
        "\n",
        "# # Check if the database file exists\n",
        "# if os.path.exists(database_file):\n",
        "#     # Close any existing connections to the database before deleting\n",
        "#     # ...\n",
        "\n",
        "#     # Delete the database file\n",
        "#     os.remove(database_file)\n",
        "#     print(f\"Database '{database_file}' deleted.\")\n",
        "# else:\n",
        "#     print(f\"Database '{database_file}' does not exist.\")\n"
      ]
    },
    {
      "cell_type": "code",
      "execution_count": 75,
      "metadata": {
        "id": "RzWL7ersN8cT"
      },
      "outputs": [],
      "source": [
        "db = sqlite3.connect(\"person.db\")\n",
        "c = db.cursor()"
      ]
    },
    {
      "cell_type": "code",
      "execution_count": 76,
      "metadata": {
        "colab": {
          "base_uri": "https://localhost:8080/"
        },
        "id": "gYCW23FZOAfr",
        "outputId": "def10fd1-f55e-4d1b-cb4c-e2f13398cc4c"
      },
      "outputs": [
        {
          "name": "stdout",
          "output_type": "stream",
          "text": [
            "('sudh', 'sudhanshu@ineuron.ai', 234, 23424.0)\n",
            "('prashant', 'prashant@ineuron.ai', 345, 23543543.0)\n"
          ]
        }
      ],
      "source": [
        "data = c.execute('select * from person_table limit 2')\n",
        "for i in data:\n",
        "  print(i)"
      ]
    },
    {
      "cell_type": "markdown",
      "metadata": {
        "id": "UUeWw10aO0PY"
      },
      "source": [
        "JOIN (Important)"
      ]
    },
    {
      "cell_type": "code",
      "execution_count": 77,
      "metadata": {
        "id": "xi0mqcD8Onu_"
      },
      "outputs": [],
      "source": [
        "db.close()"
      ]
    },
    {
      "cell_type": "code",
      "execution_count": 78,
      "metadata": {
        "id": "R2BSXrefSQse"
      },
      "outputs": [],
      "source": [
        "db = sqlite3.connect(\"jobdb.db\")\n",
        "c = db.cursor()\n"
      ]
    },
    {
      "cell_type": "code",
      "execution_count": 79,
      "metadata": {
        "colab": {
          "base_uri": "https://localhost:8080/"
        },
        "id": "PJr0_JoUScsS",
        "outputId": "17e90313-d26b-4a6c-c8e9-9ef8ed3721eb"
      },
      "outputs": [
        {
          "ename": "OperationalError",
          "evalue": "table student already exists",
          "output_type": "error",
          "traceback": [
            "\u001b[0;31m---------------------------------------------------------------------------\u001b[0m",
            "\u001b[0;31mOperationalError\u001b[0m                          Traceback (most recent call last)",
            "Cell \u001b[0;32mIn[79], line 1\u001b[0m\n\u001b[0;32m----> 1\u001b[0m \u001b[43mc\u001b[49m\u001b[38;5;241;43m.\u001b[39;49m\u001b[43mexecute\u001b[49m\u001b[43m(\u001b[49m\u001b[38;5;124;43m'\u001b[39;49m\u001b[38;5;124;43mcreate table student(student_id int , student_name text , student_mailid text , marks int)\u001b[39;49m\u001b[38;5;124;43m'\u001b[39;49m\u001b[43m)\u001b[49m\n",
            "\u001b[0;31mOperationalError\u001b[0m: table student already exists"
          ]
        }
      ],
      "source": [
        "c.execute('create table student(student_id int , student_name text , student_mailid text , marks int)')"
      ]
    },
    {
      "cell_type": "code",
      "execution_count": 80,
      "metadata": {
        "colab": {
          "base_uri": "https://localhost:8080/"
        },
        "id": "7S73LEXLTOiw",
        "outputId": "92767ea0-4872-4637-d179-f3895653a770"
      },
      "outputs": [
        {
          "data": {
            "text/plain": [
              "<sqlite3.Cursor at 0x7fd4a020e340>"
            ]
          },
          "execution_count": 80,
          "metadata": {},
          "output_type": "execute_result"
        }
      ],
      "source": [
        "c.execute('create table address(student_id int ,pincode int  , location text , nearby text , phone_no int)')"
      ]
    },
    {
      "cell_type": "code",
      "execution_count": 98,
      "metadata": {},
      "outputs": [
        {
          "data": {
            "text/plain": [
              "<sqlite3.Cursor at 0x7fd4a020e340>"
            ]
          },
          "execution_count": 98,
          "metadata": {},
          "output_type": "execute_result"
        }
      ],
      "source": [
        "c.execute(\"insert into student values(234,'sudhashu' , 'sudhanshu@ineuron.ai' , 234)\")\n",
        "c.execute(\"insert into student values(235,'sudhashu' , 'sudhanshu@ineuron.ai' , 234)\")\n",
        "c.execute(\"insert into student values(236,'sudhashu' , 'sudhanshu@ineuron.ai' , 234)\")\n",
        "c.execute(\"insert into student values(237,'sudhashu' , 'sudhanshu@ineuron.ai' , 234)\")\n",
        "c.execute(\"insert into student values(238,'sudhashu' , 'sudhanshu@ineuron.ai' , 234)\")\n",
        "c.execute(\"insert into student values(239,'sudhashu' , 'sudhanshu@ineuron.ai' , 234)\")\n",
        "c.execute(\"insert into student values(2310,'sudhashu' , 'sudhanshu@ineuron.ai' , 234)\")\n",
        "c.execute(\"insert into student values(2311,'sudhashu' , 'sudhanshu@ineuron.ai' , 234)\")\n",
        "c.execute(\"insert into student values(2343,'sudhashu' , 'sudhanshu@ineuron.ai' , 234)\")\n",
        "c.execute(\"insert into student values(233543,'sudhashu' , 'sudhanshu@ineuron.ai' , 234)\")\n",
        "c.execute(\"insert into student values(23345,'sudhashu' , 'sudhanshu@ineuron.ai' , 234)\")\n",
        "c.execute(\"insert into student values(233543,'sudhashu' , 'sudhanshu@ineuron.ai' , 234)\")"
      ]
    },
    {
      "cell_type": "code",
      "execution_count": 82,
      "metadata": {
        "id": "kVL3Wmy0ULuZ"
      },
      "outputs": [],
      "source": [
        "for i in range(0,10):\n",
        "  c.execute(\"insert into student values('{0}' , 'Anil{1}' , 'mailserial{2}@gmail.com' , {3})\".format(i+200 , i+10 , i+11 , i+150))"
      ]
    },
    {
      "cell_type": "code",
      "execution_count": 83,
      "metadata": {},
      "outputs": [
        {
          "data": {
            "text/plain": [
              "<sqlite3.Cursor at 0x7fd4a020e340>"
            ]
          },
          "execution_count": 83,
          "metadata": {},
          "output_type": "execute_result"
        }
      ],
      "source": [
        "c.execute(\"insert into address values(235 , 560034 , 'whitefelid' ,'ineuron office ' , 2423543454353 )\")\n",
        "c.execute(\"insert into address values(236 , 560034 , 'whitefelid' ,'ineuron office ' , 2423543454353 )\")\n",
        "c.execute(\"insert into address values(237 , 560034 , 'whitefelid' ,'ineuron office ' , 2423543454353 )\")\n",
        "c.execute(\"insert into address values(238 , 560034 , 'whitefelid' ,'ineuron office ' , 2423543454353 )\")\n",
        "c.execute(\"insert into address values(239 , 560034 , 'whitefelid' ,'ineuron office ' , 2423543454353 )\")\n",
        "c.execute(\"insert into address values(210 , 560034 , 'whitefelid' ,'ineuron office ' , 2423543454353 )\")\n",
        "c.execute(\"insert into address values(23345 , 560034 , 'whitefelid' ,'ineuron office ' , 2423543454353 )\")\n",
        "c.execute(\"insert into address values(23345 , 560034 , 'whitefelid' ,'ineuron office ' , 2423543454353 )\")\n",
        "c.execute(\"insert into address values(23654 , 560034 , 'whitefelid' ,'ineuron office ' , 2423543454353 )\")\n",
        "c.execute(\"insert into address values(235345 , 560034 , 'whitefelid' ,'ineuron office ' , 2423543454353 )\")\n",
        "c.execute(\"insert into address values(23665 , 560034 , 'whitefelid' ,'ineuron office ' , 2423543454353 )\")\n",
        "c.execute(\"insert into address values(23623 , 560034 , 'whitefelid' ,'ineuron office ' , 2423543454353 )\")\n",
        "c.execute(\"insert into address values(23689 , 560034 , 'whitefelid' ,'ineuron office ' , 2423543454353 )\")\n",
        "c.execute(\"insert into address values(23609 , 560034 , 'whitefelid' ,'ineuron office ' , 2423543454353 )\")\n",
        "c.execute(\"insert into address values(23632 , 560034 , 'whitefelid' ,'ineuron office ' , 2423543454353 )\")\n",
        "c.execute(\"insert into address values(23689 , 560034 , 'whitefelid' ,'ineuron office ' , 2423543454353 )\")\n",
        "c.execute(\"insert into address values(23623 , 560034 , 'whitefelid' ,'ineuron office ' , 2423543454353 )\")\n",
        "c.execute(\"insert into address values(23698 , 560034 , 'whitefelid' ,'ineuron office ' , 2423543454353 )\")\n",
        "c.execute(\"insert into address values(23623 , 560034 , 'whitefelid' ,'ineuron office ' , 2423543454353 )\")\n",
        "c.execute(\"insert into address values(23689 , 560034 , 'whitefelid' ,'ineuron office ' , 2423543454353 )\")\n",
        "c.execute(\"insert into address values(23623 , 560034 , 'whitefelid' ,'ineuron office ' , 2423543454353 )\")\n",
        "c.execute(\"insert into address values(23690 , 560034 , 'whitefelid' ,'ineuron office ' , 2423543454353 )\")\n"
      ]
    },
    {
      "cell_type": "code",
      "execution_count": 84,
      "metadata": {
        "id": "kguo7s6GepRb"
      },
      "outputs": [],
      "source": [
        "for i in range(0,10):\n",
        "  c.execute(\"insert into address values('{0}' , '1100{1}' , 'Block{2}' ,'street{3}' , 987564{4})\".format(i+200 , i+10 ,i+9, i+11 , i+150))"
      ]
    },
    {
      "cell_type": "code",
      "execution_count": 85,
      "metadata": {},
      "outputs": [
        {
          "name": "stdout",
          "output_type": "stream",
          "text": [
            "(235, 560034, 'whitefelid', 'ineuron office ', 2423543454353)\n",
            "(236, 560034, 'whitefelid', 'ineuron office ', 2423543454353)\n",
            "(237, 560034, 'whitefelid', 'ineuron office ', 2423543454353)\n",
            "(238, 560034, 'whitefelid', 'ineuron office ', 2423543454353)\n",
            "(239, 560034, 'whitefelid', 'ineuron office ', 2423543454353)\n",
            "(210, 560034, 'whitefelid', 'ineuron office ', 2423543454353)\n",
            "(23345, 560034, 'whitefelid', 'ineuron office ', 2423543454353)\n",
            "(23345, 560034, 'whitefelid', 'ineuron office ', 2423543454353)\n",
            "(23654, 560034, 'whitefelid', 'ineuron office ', 2423543454353)\n",
            "(235345, 560034, 'whitefelid', 'ineuron office ', 2423543454353)\n",
            "(23665, 560034, 'whitefelid', 'ineuron office ', 2423543454353)\n",
            "(23623, 560034, 'whitefelid', 'ineuron office ', 2423543454353)\n",
            "(23689, 560034, 'whitefelid', 'ineuron office ', 2423543454353)\n",
            "(23609, 560034, 'whitefelid', 'ineuron office ', 2423543454353)\n",
            "(23632, 560034, 'whitefelid', 'ineuron office ', 2423543454353)\n",
            "(23689, 560034, 'whitefelid', 'ineuron office ', 2423543454353)\n",
            "(23623, 560034, 'whitefelid', 'ineuron office ', 2423543454353)\n",
            "(23698, 560034, 'whitefelid', 'ineuron office ', 2423543454353)\n",
            "(23623, 560034, 'whitefelid', 'ineuron office ', 2423543454353)\n",
            "(23689, 560034, 'whitefelid', 'ineuron office ', 2423543454353)\n",
            "(23623, 560034, 'whitefelid', 'ineuron office ', 2423543454353)\n",
            "(23690, 560034, 'whitefelid', 'ineuron office ', 2423543454353)\n",
            "(200, 110010, 'Block9', 'street11', 987564150)\n",
            "(201, 110011, 'Block10', 'street12', 987564151)\n",
            "(202, 110012, 'Block11', 'street13', 987564152)\n",
            "(203, 110013, 'Block12', 'street14', 987564153)\n",
            "(204, 110014, 'Block13', 'street15', 987564154)\n",
            "(205, 110015, 'Block14', 'street16', 987564155)\n",
            "(206, 110016, 'Block15', 'street17', 987564156)\n",
            "(207, 110017, 'Block16', 'street18', 987564157)\n",
            "(208, 110018, 'Block17', 'street19', 987564158)\n",
            "(209, 110019, 'Block18', 'street20', 987564159)\n"
          ]
        }
      ],
      "source": [
        "for i in c.execute(\"select * from address\"):\n",
        "    print(i)"
      ]
    },
    {
      "cell_type": "code",
      "execution_count": 86,
      "metadata": {},
      "outputs": [
        {
          "name": "stdout",
          "output_type": "stream",
          "text": [
            "(234, 'sudhashu', 'sudhanshu@ineuron.ai', 234)\n",
            "(235, 'sudhashu', 'sudhanshu@ineuron.ai', 234)\n",
            "(236, 'sudhashu', 'sudhanshu@ineuron.ai', 234)\n",
            "(237, 'sudhashu', 'sudhanshu@ineuron.ai', 234)\n",
            "(238, 'sudhashu', 'sudhanshu@ineuron.ai', 234)\n",
            "(239, 'sudhashu', 'sudhanshu@ineuron.ai', 234)\n",
            "(2310, 'sudhashu', 'sudhanshu@ineuron.ai', 234)\n",
            "(2311, 'sudhashu', 'sudhanshu@ineuron.ai', 234)\n",
            "(2343, 'sudhashu', 'sudhanshu@ineuron.ai', 234)\n",
            "(233543, 'sudhashu', 'sudhanshu@ineuron.ai', 234)\n",
            "(23345, 'sudhashu', 'sudhanshu@ineuron.ai', 234)\n",
            "(233543, 'sudhashu', 'sudhanshu@ineuron.ai', 234)\n",
            "(200, 'Anil10', 'mailserial11@gmail.com', 150)\n",
            "(201, 'Anil11', 'mailserial12@gmail.com', 151)\n",
            "(202, 'Anil12', 'mailserial13@gmail.com', 152)\n",
            "(203, 'Anil13', 'mailserial14@gmail.com', 153)\n",
            "(204, 'Anil14', 'mailserial15@gmail.com', 154)\n",
            "(205, 'Anil15', 'mailserial16@gmail.com', 155)\n",
            "(206, 'Anil16', 'mailserial17@gmail.com', 156)\n",
            "(207, 'Anil17', 'mailserial18@gmail.com', 157)\n",
            "(208, 'Anil18', 'mailserial19@gmail.com', 158)\n",
            "(209, 'Anil19', 'mailserial20@gmail.com', 159)\n"
          ]
        }
      ],
      "source": [
        "for i in c.execute(\"select * from student\"):\n",
        "    print(i)"
      ]
    },
    {
      "cell_type": "code",
      "execution_count": 87,
      "metadata": {
        "id": "lZcX1yxTfLig"
      },
      "outputs": [],
      "source": [
        "#you can't use Where in place of ON bcz WHEN is a filter operation while ON is joining tables\n",
        "data = c.execute(\"select * from student s left join address a on s.student_id = a.student_id where a.student_id is not null\")"
      ]
    },
    {
      "cell_type": "code",
      "execution_count": 88,
      "metadata": {
        "colab": {
          "base_uri": "https://localhost:8080/"
        },
        "id": "jyEmOwQFhj3G",
        "outputId": "6886016a-ea37-4a15-93eb-c80deea48924"
      },
      "outputs": [
        {
          "name": "stdout",
          "output_type": "stream",
          "text": [
            "(235, 'sudhashu', 'sudhanshu@ineuron.ai', 234, 235, 560034, 'whitefelid', 'ineuron office ', 2423543454353)\n",
            "(236, 'sudhashu', 'sudhanshu@ineuron.ai', 234, 236, 560034, 'whitefelid', 'ineuron office ', 2423543454353)\n",
            "(237, 'sudhashu', 'sudhanshu@ineuron.ai', 234, 237, 560034, 'whitefelid', 'ineuron office ', 2423543454353)\n",
            "(238, 'sudhashu', 'sudhanshu@ineuron.ai', 234, 238, 560034, 'whitefelid', 'ineuron office ', 2423543454353)\n",
            "(239, 'sudhashu', 'sudhanshu@ineuron.ai', 234, 239, 560034, 'whitefelid', 'ineuron office ', 2423543454353)\n",
            "(23345, 'sudhashu', 'sudhanshu@ineuron.ai', 234, 23345, 560034, 'whitefelid', 'ineuron office ', 2423543454353)\n",
            "(23345, 'sudhashu', 'sudhanshu@ineuron.ai', 234, 23345, 560034, 'whitefelid', 'ineuron office ', 2423543454353)\n",
            "(200, 'Anil10', 'mailserial11@gmail.com', 150, 200, 110010, 'Block9', 'street11', 987564150)\n",
            "(201, 'Anil11', 'mailserial12@gmail.com', 151, 201, 110011, 'Block10', 'street12', 987564151)\n",
            "(202, 'Anil12', 'mailserial13@gmail.com', 152, 202, 110012, 'Block11', 'street13', 987564152)\n",
            "(203, 'Anil13', 'mailserial14@gmail.com', 153, 203, 110013, 'Block12', 'street14', 987564153)\n",
            "(204, 'Anil14', 'mailserial15@gmail.com', 154, 204, 110014, 'Block13', 'street15', 987564154)\n",
            "(205, 'Anil15', 'mailserial16@gmail.com', 155, 205, 110015, 'Block14', 'street16', 987564155)\n",
            "(206, 'Anil16', 'mailserial17@gmail.com', 156, 206, 110016, 'Block15', 'street17', 987564156)\n",
            "(207, 'Anil17', 'mailserial18@gmail.com', 157, 207, 110017, 'Block16', 'street18', 987564157)\n",
            "(208, 'Anil18', 'mailserial19@gmail.com', 158, 208, 110018, 'Block17', 'street19', 987564158)\n",
            "(209, 'Anil19', 'mailserial20@gmail.com', 159, 209, 110019, 'Block18', 'street20', 987564159)\n"
          ]
        }
      ],
      "source": [
        "for i in data:\n",
        "  print(i)"
      ]
    },
    {
      "cell_type": "code",
      "execution_count": 89,
      "metadata": {
        "colab": {
          "base_uri": "https://localhost:8080/"
        },
        "id": "XHov__mJhlk6",
        "outputId": "23c9429f-0520-4f9d-b953-0d4881fde249"
      },
      "outputs": [
        {
          "name": "stdout",
          "output_type": "stream",
          "text": [
            "(234, 'sudhashu', 'sudhanshu@ineuron.ai', 234, None, None, None, None, None)\n",
            "(235, 'sudhashu', 'sudhanshu@ineuron.ai', 234, 235, 560034, 'whitefelid', 'ineuron office ', 2423543454353)\n",
            "(236, 'sudhashu', 'sudhanshu@ineuron.ai', 234, 236, 560034, 'whitefelid', 'ineuron office ', 2423543454353)\n",
            "(237, 'sudhashu', 'sudhanshu@ineuron.ai', 234, 237, 560034, 'whitefelid', 'ineuron office ', 2423543454353)\n",
            "(238, 'sudhashu', 'sudhanshu@ineuron.ai', 234, 238, 560034, 'whitefelid', 'ineuron office ', 2423543454353)\n",
            "(239, 'sudhashu', 'sudhanshu@ineuron.ai', 234, 239, 560034, 'whitefelid', 'ineuron office ', 2423543454353)\n",
            "(2310, 'sudhashu', 'sudhanshu@ineuron.ai', 234, None, None, None, None, None)\n",
            "(2311, 'sudhashu', 'sudhanshu@ineuron.ai', 234, None, None, None, None, None)\n",
            "(2343, 'sudhashu', 'sudhanshu@ineuron.ai', 234, None, None, None, None, None)\n",
            "(233543, 'sudhashu', 'sudhanshu@ineuron.ai', 234, None, None, None, None, None)\n",
            "(23345, 'sudhashu', 'sudhanshu@ineuron.ai', 234, 23345, 560034, 'whitefelid', 'ineuron office ', 2423543454353)\n",
            "(23345, 'sudhashu', 'sudhanshu@ineuron.ai', 234, 23345, 560034, 'whitefelid', 'ineuron office ', 2423543454353)\n",
            "(233543, 'sudhashu', 'sudhanshu@ineuron.ai', 234, None, None, None, None, None)\n",
            "(200, 'Anil10', 'mailserial11@gmail.com', 150, 200, 110010, 'Block9', 'street11', 987564150)\n",
            "(201, 'Anil11', 'mailserial12@gmail.com', 151, 201, 110011, 'Block10', 'street12', 987564151)\n",
            "(202, 'Anil12', 'mailserial13@gmail.com', 152, 202, 110012, 'Block11', 'street13', 987564152)\n",
            "(203, 'Anil13', 'mailserial14@gmail.com', 153, 203, 110013, 'Block12', 'street14', 987564153)\n",
            "(204, 'Anil14', 'mailserial15@gmail.com', 154, 204, 110014, 'Block13', 'street15', 987564154)\n",
            "(205, 'Anil15', 'mailserial16@gmail.com', 155, 205, 110015, 'Block14', 'street16', 987564155)\n",
            "(206, 'Anil16', 'mailserial17@gmail.com', 156, 206, 110016, 'Block15', 'street17', 987564156)\n",
            "(207, 'Anil17', 'mailserial18@gmail.com', 157, 207, 110017, 'Block16', 'street18', 987564157)\n",
            "(208, 'Anil18', 'mailserial19@gmail.com', 158, 208, 110018, 'Block17', 'street19', 987564158)\n",
            "(209, 'Anil19', 'mailserial20@gmail.com', 159, 209, 110019, 'Block18', 'street20', 987564159)\n"
          ]
        }
      ],
      "source": [
        "#give all the recalls from student table and its corresponding address values based on common student id\n",
        "data = c.execute(\"select * from student s left join address a on s.student_id = a.student_id\")\n",
        "for i in data:\n",
        "  print(i)\n",
        "\n",
        "#s and a are alias, we have already talked about it in SQL part"
      ]
    },
    {
      "cell_type": "code",
      "execution_count": 90,
      "metadata": {
        "colab": {
          "base_uri": "https://localhost:8080/"
        },
        "id": "uBEyEY3E5a7w",
        "outputId": "2a6af0c4-4351-420d-837d-38da4e566c51"
      },
      "outputs": [
        {
          "data": {
            "text/plain": [
              "<sqlite3.Cursor at 0x7fd4a020e340>"
            ]
          },
          "execution_count": 90,
          "metadata": {},
          "output_type": "execute_result"
        }
      ],
      "source": [
        "c.execute(\"insert into student values(420 , 'Anil{1}' , 'mailserial{2}@gmail.com' , 789)\")"
      ]
    },
    {
      "cell_type": "code",
      "execution_count": null,
      "metadata": {
        "id": "h_PQqX1x6Fas"
      },
      "outputs": [],
      "source": [
        "# right and full join is not supported in sqlite 3 but are available in SQL"
      ]
    },
    {
      "cell_type": "code",
      "execution_count": 91,
      "metadata": {
        "colab": {
          "base_uri": "https://localhost:8080/"
        },
        "id": "aZtlIpv-8cZN",
        "outputId": "501d058e-d7f0-4a2f-b883-21e8bf292211"
      },
      "outputs": [
        {
          "name": "stdout",
          "output_type": "stream",
          "text": [
            "(235, 560034, 'whitefelid', 'ineuron office ', 2423543454353, 235, 'sudhashu', 'sudhanshu@ineuron.ai', 234)\n",
            "(236, 560034, 'whitefelid', 'ineuron office ', 2423543454353, 236, 'sudhashu', 'sudhanshu@ineuron.ai', 234)\n",
            "(237, 560034, 'whitefelid', 'ineuron office ', 2423543454353, 237, 'sudhashu', 'sudhanshu@ineuron.ai', 234)\n",
            "(238, 560034, 'whitefelid', 'ineuron office ', 2423543454353, 238, 'sudhashu', 'sudhanshu@ineuron.ai', 234)\n",
            "(239, 560034, 'whitefelid', 'ineuron office ', 2423543454353, 239, 'sudhashu', 'sudhanshu@ineuron.ai', 234)\n",
            "(210, 560034, 'whitefelid', 'ineuron office ', 2423543454353, None, None, None, None)\n",
            "(23345, 560034, 'whitefelid', 'ineuron office ', 2423543454353, 23345, 'sudhashu', 'sudhanshu@ineuron.ai', 234)\n",
            "(23345, 560034, 'whitefelid', 'ineuron office ', 2423543454353, 23345, 'sudhashu', 'sudhanshu@ineuron.ai', 234)\n",
            "(23654, 560034, 'whitefelid', 'ineuron office ', 2423543454353, None, None, None, None)\n",
            "(235345, 560034, 'whitefelid', 'ineuron office ', 2423543454353, None, None, None, None)\n",
            "(23665, 560034, 'whitefelid', 'ineuron office ', 2423543454353, None, None, None, None)\n",
            "(23623, 560034, 'whitefelid', 'ineuron office ', 2423543454353, None, None, None, None)\n",
            "(23689, 560034, 'whitefelid', 'ineuron office ', 2423543454353, None, None, None, None)\n",
            "(23609, 560034, 'whitefelid', 'ineuron office ', 2423543454353, None, None, None, None)\n",
            "(23632, 560034, 'whitefelid', 'ineuron office ', 2423543454353, None, None, None, None)\n",
            "(23689, 560034, 'whitefelid', 'ineuron office ', 2423543454353, None, None, None, None)\n",
            "(23623, 560034, 'whitefelid', 'ineuron office ', 2423543454353, None, None, None, None)\n",
            "(23698, 560034, 'whitefelid', 'ineuron office ', 2423543454353, None, None, None, None)\n",
            "(23623, 560034, 'whitefelid', 'ineuron office ', 2423543454353, None, None, None, None)\n",
            "(23689, 560034, 'whitefelid', 'ineuron office ', 2423543454353, None, None, None, None)\n",
            "(23623, 560034, 'whitefelid', 'ineuron office ', 2423543454353, None, None, None, None)\n",
            "(23690, 560034, 'whitefelid', 'ineuron office ', 2423543454353, None, None, None, None)\n",
            "(200, 110010, 'Block9', 'street11', 987564150, 200, 'Anil10', 'mailserial11@gmail.com', 150)\n",
            "(201, 110011, 'Block10', 'street12', 987564151, 201, 'Anil11', 'mailserial12@gmail.com', 151)\n",
            "(202, 110012, 'Block11', 'street13', 987564152, 202, 'Anil12', 'mailserial13@gmail.com', 152)\n",
            "(203, 110013, 'Block12', 'street14', 987564153, 203, 'Anil13', 'mailserial14@gmail.com', 153)\n",
            "(204, 110014, 'Block13', 'street15', 987564154, 204, 'Anil14', 'mailserial15@gmail.com', 154)\n",
            "(205, 110015, 'Block14', 'street16', 987564155, 205, 'Anil15', 'mailserial16@gmail.com', 155)\n",
            "(206, 110016, 'Block15', 'street17', 987564156, 206, 'Anil16', 'mailserial17@gmail.com', 156)\n",
            "(207, 110017, 'Block16', 'street18', 987564157, 207, 'Anil17', 'mailserial18@gmail.com', 157)\n",
            "(208, 110018, 'Block17', 'street19', 987564158, 208, 'Anil18', 'mailserial19@gmail.com', 158)\n",
            "(209, 110019, 'Block18', 'street20', 987564159, 209, 'Anil19', 'mailserial20@gmail.com', 159)\n"
          ]
        }
      ],
      "source": [
        "#now you will see all data from address table first\n",
        "data = c.execute(\"select * from address s left join student a on s.student_id = a.student_id\")\n",
        "for i in data:\n",
        "  print(i)"
      ]
    },
    {
      "cell_type": "code",
      "execution_count": 100,
      "metadata": {},
      "outputs": [
        {
          "name": "stdout",
          "output_type": "stream",
          "text": [
            "(234, 'sudhashu', 'sudhanshu@ineuron.ai', 234)\n",
            "(235, 'sudhashu', 'sudhanshu@ineuron.ai', 234)\n",
            "(236, 'sudhashu', 'sudhanshu@ineuron.ai', 234)\n",
            "(237, 'sudhashu', 'sudhanshu@ineuron.ai', 234)\n",
            "(238, 'sudhashu', 'sudhanshu@ineuron.ai', 234)\n",
            "(239, 'sudhashu', 'sudhanshu@ineuron.ai', 234)\n",
            "(2310, 'sudhashu', 'sudhanshu@ineuron.ai', 234)\n",
            "(2311, 'sudhashu', 'sudhanshu@ineuron.ai', 234)\n",
            "(2343, 'sudhashu', 'sudhanshu@ineuron.ai', 234)\n",
            "(233543, 'sudhashu', 'sudhanshu@ineuron.ai', 234)\n",
            "(23345, 'sudhashu', 'sudhanshu@ineuron.ai', 234)\n",
            "(233543, 'sudhashu', 'sudhanshu@ineuron.ai', 234)\n"
          ]
        }
      ],
      "source": [
        "for i in c.execute(\"select * from student\"):\n",
        "    print(i)"
      ]
    },
    {
      "cell_type": "code",
      "execution_count": 101,
      "metadata": {
        "colab": {
          "base_uri": "https://localhost:8080/"
        },
        "id": "3Fp2wu1a9G6o",
        "outputId": "071770cf-33d3-434e-b5e7-e51e9744d771"
      },
      "outputs": [
        {
          "data": {
            "text/plain": [
              "<sqlite3.Cursor at 0x7fd4a020e340>"
            ]
          },
          "execution_count": 101,
          "metadata": {},
          "output_type": "execute_result"
        }
      ],
      "source": [
        "c.execute(\"delete from student where student_id > 2000\")\n"
      ]
    },
    {
      "cell_type": "code",
      "execution_count": 102,
      "metadata": {},
      "outputs": [
        {
          "name": "stdout",
          "output_type": "stream",
          "text": [
            "(234, 'sudhashu', 'sudhanshu@ineuron.ai', 234)\n",
            "(235, 'sudhashu', 'sudhanshu@ineuron.ai', 234)\n",
            "(236, 'sudhashu', 'sudhanshu@ineuron.ai', 234)\n",
            "(237, 'sudhashu', 'sudhanshu@ineuron.ai', 234)\n",
            "(238, 'sudhashu', 'sudhanshu@ineuron.ai', 234)\n",
            "(239, 'sudhashu', 'sudhanshu@ineuron.ai', 234)\n"
          ]
        }
      ],
      "source": [
        "for i in c.execute(\"select * from student\"):\n",
        "    print(i)"
      ]
    },
    {
      "cell_type": "code",
      "execution_count": 107,
      "metadata": {
        "colab": {
          "base_uri": "https://localhost:8080/"
        },
        "id": "6-x1a4IZ-hyM",
        "outputId": "ef44d177-1722-474a-cd32-c4bd1d69eac6"
      },
      "outputs": [
        {
          "data": {
            "text/plain": [
              "[(234, 'sudhashu', 'sudhanshu@ineuron.ai', 234),\n",
              " (235, 'sudhashu', 'sudhanshu@ineuron.ai', 234),\n",
              " (1000, 'sudhashu', 'sudhanshu@ineuron.ai', 234),\n",
              " (237, 'sudhashu', 'sudhanshu@ineuron.ai', 234),\n",
              " (238, 'sudhashu', 'sudhanshu@ineuron.ai', 234),\n",
              " (239, 'sudhashu', 'sudhanshu@ineuron.ai', 234)]"
            ]
          },
          "execution_count": 107,
          "metadata": {},
          "output_type": "execute_result"
        }
      ],
      "source": [
        "c.execute(\"update student set student_id = 1000 where student_id = 236\")\n",
        "c.execute(\"select * from student\")\n",
        "c.fetchall()"
      ]
    },
    {
      "cell_type": "code",
      "execution_count": 108,
      "metadata": {
        "id": "5NLdYmRf_yKH"
      },
      "outputs": [],
      "source": [
        "db.commit()"
      ]
    },
    {
      "cell_type": "code",
      "execution_count": 109,
      "metadata": {
        "id": "Js2poCeDBua4"
      },
      "outputs": [],
      "source": [
        "db.close()"
      ]
    },
    {
      "cell_type": "markdown",
      "metadata": {
        "id": "FBiQezyyC007"
      },
      "source": [
        "# Map , Reduce , Filter"
      ]
    },
    {
      "cell_type": "code",
      "execution_count": 110,
      "metadata": {
        "id": "OrIOAGurB88v"
      },
      "outputs": [],
      "source": [
        "l = [1,2,3,4,5,6]"
      ]
    },
    {
      "cell_type": "code",
      "execution_count": 111,
      "metadata": {
        "colab": {
          "base_uri": "https://localhost:8080/"
        },
        "id": "F7-WBWiZPMvt",
        "outputId": "0d74196e-7b15-43ac-a85f-00b3a69add22"
      },
      "outputs": [
        {
          "data": {
            "text/plain": [
              "[6, 7, 8, 9, 10, 11]"
            ]
          },
          "execution_count": 111,
          "metadata": {},
          "output_type": "execute_result"
        }
      ],
      "source": [
        "l1 = []\n",
        "for i in l:\n",
        "  l1.append(i+5)\n",
        "l1  "
      ]
    },
    {
      "cell_type": "code",
      "execution_count": 112,
      "metadata": {
        "colab": {
          "base_uri": "https://localhost:8080/"
        },
        "id": "GIsJQNCnPRk_",
        "outputId": "98d19a8a-6098-408a-d764-97d60514fd08"
      },
      "outputs": [
        {
          "data": {
            "text/plain": [
              "[6, 7, 8, 9, 10, 11]"
            ]
          },
          "execution_count": 112,
          "metadata": {},
          "output_type": "execute_result"
        }
      ],
      "source": [
        "[i+5 for i in l]"
      ]
    },
    {
      "cell_type": "code",
      "execution_count": 113,
      "metadata": {
        "id": "tTrWDxBAa51N"
      },
      "outputs": [],
      "source": [
        "def fun1(a):\n",
        "  return a+5"
      ]
    },
    {
      "cell_type": "markdown",
      "metadata": {},
      "source": [
        "The map() function in Python is a built-in function that applies a specified function to all the items in an iterable (e.g., a list, tuple, or string) and returns an iterable (usually a list) containing the results. <br>\n",
        "map() always takes first argument as function and second argument as a iterable object. <br>\n",
        "\n",
        "syntax:\n",
        "\n",
        "    map(function, iterable, ...)\n",
        "\n",
        "'function': The function to apply to each item in the iterable.<br>\n",
        "'iterable': The iterable (e.g., list, tuple) whose elements will be passed to the function."
      ]
    },
    {
      "cell_type": "code",
      "execution_count": 117,
      "metadata": {
        "colab": {
          "base_uri": "https://localhost:8080/"
        },
        "id": "ZyFd1-fmPklW",
        "outputId": "2e9b849f-5375-4eb6-dec0-f07eaf4f3ae3"
      },
      "outputs": [
        {
          "data": {
            "text/plain": [
              "[6, 7, 8, 9, 10, 11]"
            ]
          },
          "execution_count": 117,
          "metadata": {},
          "output_type": "execute_result"
        }
      ],
      "source": [
        "list(map(fun1, l)) #typecasting into list"
      ]
    },
    {
      "cell_type": "code",
      "execution_count": 118,
      "metadata": {},
      "outputs": [
        {
          "data": {
            "text/plain": [
              "[3908, 7362, 10816, 14270, 17724, 21178]"
            ]
          },
          "execution_count": 118,
          "metadata": {},
          "output_type": "execute_result"
        }
      ],
      "source": [
        "def test1(a) : \n",
        "    return a*3454+454\n",
        "\n",
        "list(map(test1,l))"
      ]
    },
    {
      "cell_type": "code",
      "execution_count": 121,
      "metadata": {
        "id": "E_SPSTegbLw3"
      },
      "outputs": [],
      "source": [
        "l1 = ['234','345','543','5435','543','5435']"
      ]
    },
    {
      "cell_type": "code",
      "execution_count": 122,
      "metadata": {
        "id": "aNPN3mDrcGeQ"
      },
      "outputs": [],
      "source": [
        "#our task is to typecaste each value inside list l1 into int\n",
        "def typecaster(a):\n",
        "  return int(a)"
      ]
    },
    {
      "cell_type": "code",
      "execution_count": 123,
      "metadata": {
        "colab": {
          "base_uri": "https://localhost:8080/"
        },
        "id": "aKc4L3ilcRVX",
        "outputId": "c5a46697-cf3e-405e-b722-9a7e33482fab"
      },
      "outputs": [
        {
          "data": {
            "text/plain": [
              "[234, 345, 543, 5435, 543, 5435]"
            ]
          },
          "execution_count": 123,
          "metadata": {},
          "output_type": "execute_result"
        }
      ],
      "source": [
        "list(map(typecaster, l1))\n",
        "\n",
        "#map function has make our task easier"
      ]
    },
    {
      "cell_type": "code",
      "execution_count": null,
      "metadata": {
        "id": "7pOcnILgcYJF"
      },
      "outputs": [],
      "source": [
        "#ist argumnet is function , 2nd argumnet is iterable"
      ]
    },
    {
      "cell_type": "code",
      "execution_count": 125,
      "metadata": {
        "colab": {
          "base_uri": "https://localhost:8080/"
        },
        "id": "Xlc71li6cly1",
        "outputId": "00f7c41d-bbef-4f65-e333-df10697b1756"
      },
      "outputs": [
        {
          "data": {
            "text/plain": [
              "[234, 345, 543, 5435, 543, 5435]"
            ]
          },
          "execution_count": 125,
          "metadata": {},
          "output_type": "execute_result"
        }
      ],
      "source": [
        "#map() with lambda function\n",
        "list(map(lambda x : int(x) , l1))"
      ]
    },
    {
      "cell_type": "code",
      "execution_count": 126,
      "metadata": {
        "colab": {
          "base_uri": "https://localhost:8080/"
        },
        "id": "ywSIY4jpgddx",
        "outputId": "1423e34e-6ed5-46b7-cd1a-925ae1d9bd03"
      },
      "outputs": [
        {
          "data": {
            "text/plain": [
              "[6, 7, 8, 9, 10, 11]"
            ]
          },
          "execution_count": 126,
          "metadata": {},
          "output_type": "execute_result"
        }
      ],
      "source": [
        "list(map(lambda x : x+5 , l))"
      ]
    },
    {
      "cell_type": "code",
      "execution_count": null,
      "metadata": {
        "id": "eJKOOrE-grOH"
      },
      "outputs": [],
      "source": [
        "# map is nothing just give a function and map it with a dataset and can be used with all the iterable"
      ]
    },
    {
      "cell_type": "markdown",
      "metadata": {},
      "source": [
        "**FILTER() FUNCTION**"
      ]
    },
    {
      "cell_type": "code",
      "execution_count": 127,
      "metadata": {
        "id": "Zw19EMA1hRiT"
      },
      "outputs": [],
      "source": [
        "l = [4,5,6,7,78,8,78]"
      ]
    },
    {
      "cell_type": "code",
      "execution_count": 128,
      "metadata": {
        "id": "R73OfI61hXDT"
      },
      "outputs": [],
      "source": [
        "def test4(a):\n",
        "  if a%2 == 0:\n",
        "    return a"
      ]
    },
    {
      "cell_type": "code",
      "execution_count": 129,
      "metadata": {
        "colab": {
          "base_uri": "https://localhost:8080/"
        },
        "id": "koqrNlwxhyyc",
        "outputId": "e770c4b3-2249-4f2b-eba5-bcbcebe0e958"
      },
      "outputs": [
        {
          "data": {
            "text/plain": [
              "[4, 6, 78, 8, 78]"
            ]
          },
          "execution_count": 129,
          "metadata": {},
          "output_type": "execute_result"
        }
      ],
      "source": [
        "[i for i in l if i%2 ==0]"
      ]
    },
    {
      "cell_type": "code",
      "execution_count": 132,
      "metadata": {
        "colab": {
          "base_uri": "https://localhost:8080/"
        },
        "id": "GlVh7tcmj7jh",
        "outputId": "f8fb08f9-eb02-4f4e-ef13-aa215bc34ff4"
      },
      "outputs": [
        {
          "data": {
            "text/plain": [
              "[4, 6, 78, 8, 78]"
            ]
          },
          "execution_count": 132,
          "metadata": {},
          "output_type": "execute_result"
        }
      ],
      "source": [
        "list(filter(test4 , l))\n",
        "\n",
        "#list(map(test4,l))"
      ]
    },
    {
      "cell_type": "code",
      "execution_count": 133,
      "metadata": {
        "colab": {
          "base_uri": "https://localhost:8080/"
        },
        "id": "Jx0C5uiOmqCr",
        "outputId": "3965528c-ef38-47c1-da22-ba63376cf3f5"
      },
      "outputs": [
        {
          "data": {
            "text/plain": [
              "[4, 6, 78, 8, 78]"
            ]
          },
          "execution_count": 133,
          "metadata": {},
          "output_type": "execute_result"
        }
      ],
      "source": [
        "list(filter(lambda x : x%2 == 0, l))"
      ]
    },
    {
      "cell_type": "code",
      "execution_count": 134,
      "metadata": {
        "colab": {
          "base_uri": "https://localhost:8080/"
        },
        "id": "fh3dM-R3nsMR",
        "outputId": "58d74d43-e5ac-422b-d345-8817cd7c2cac"
      },
      "outputs": [
        {
          "data": {
            "text/plain": [
              "[4, 5, 6, 7, 78, 8, 78]"
            ]
          },
          "execution_count": 134,
          "metadata": {},
          "output_type": "execute_result"
        }
      ],
      "source": [
        " list(filter(lambda x : x+5 , l))\n",
        " # this line return tha same list because filter works on true or false "
      ]
    },
    {
      "cell_type": "markdown",
      "metadata": {},
      "source": [
        "**REDUCE() FUNCTION**"
      ]
    },
    {
      "cell_type": "code",
      "execution_count": 135,
      "metadata": {
        "id": "7xPjOw00uEeU"
      },
      "outputs": [],
      "source": [
        "from functools import reduce"
      ]
    },
    {
      "cell_type": "code",
      "execution_count": 137,
      "metadata": {
        "id": "TUm2vtGxuiQh"
      },
      "outputs": [],
      "source": [
        "l = [23,45,12,3,45]\n",
        "# this is the list and i have to perform a summation operation"
      ]
    },
    {
      "cell_type": "code",
      "execution_count": 139,
      "metadata": {
        "colab": {
          "base_uri": "https://localhost:8080/"
        },
        "id": "5JkCxkCGu4kP",
        "outputId": "27ad1104-b0cd-42d3-ebb9-4af953bb7374"
      },
      "outputs": [
        {
          "data": {
            "text/plain": [
              "128"
            ]
          },
          "execution_count": 139,
          "metadata": {},
          "output_type": "execute_result"
        }
      ],
      "source": [
        "sum(l) #sum is a inbuilt function not related to reduce()"
      ]
    },
    {
      "cell_type": "code",
      "execution_count": 140,
      "metadata": {
        "id": "mhACsOwgu62x"
      },
      "outputs": [],
      "source": [
        "def test(a,b):\n",
        "   return a+b"
      ]
    },
    {
      "cell_type": "code",
      "execution_count": 141,
      "metadata": {
        "colab": {
          "base_uri": "https://localhost:8080/"
        },
        "id": "D9Tr3OQcvHAu",
        "outputId": "aa6744d1-3d26-492b-be7a-69e20a274f01"
      },
      "outputs": [
        {
          "data": {
            "text/plain": [
              "128"
            ]
          },
          "execution_count": 141,
          "metadata": {},
          "output_type": "execute_result"
        }
      ],
      "source": [
        "reduce(test,l)"
      ]
    },
    {
      "cell_type": "code",
      "execution_count": 142,
      "metadata": {
        "colab": {
          "base_uri": "https://localhost:8080/"
        },
        "id": "uepHT6DjvNAe",
        "outputId": "c51eb225-b5a6-43cc-85a0-9cce691e214d"
      },
      "outputs": [
        {
          "data": {
            "text/plain": [
              "1676700"
            ]
          },
          "execution_count": 142,
          "metadata": {},
          "output_type": "execute_result"
        }
      ],
      "source": [
        "def test(a,b):\n",
        "   return a*b\n",
        "reduce(test , l)   "
      ]
    },
    {
      "cell_type": "code",
      "execution_count": 36,
      "metadata": {
        "colab": {
          "base_uri": "https://localhost:8080/"
        },
        "id": "aO_VOwm2vVXO",
        "outputId": "cfb066f0-8309-44b2-8cd6-277a654e6f80"
      },
      "outputs": [
        {
          "data": {
            "text/plain": [
              "0.00031550068587105626"
            ]
          },
          "execution_count": 36,
          "metadata": {},
          "output_type": "execute_result"
        }
      ],
      "source": [
        "def test(a,b):\n",
        "   return a/b\n",
        "reduce(test , l)   #sequential division"
      ]
    },
    {
      "cell_type": "code",
      "execution_count": 37,
      "metadata": {
        "id": "QIcprwjZvfK9"
      },
      "outputs": [],
      "source": [
        "#it remembers previous rsult and try to pass it to given function both previous function value and next element from iterable object"
      ]
    },
    {
      "cell_type": "code",
      "execution_count": 38,
      "metadata": {
        "colab": {
          "base_uri": "https://localhost:8080/"
        },
        "id": "H31pzuTEv-Ht",
        "outputId": "16c975ff-efc9-4b2b-e2e5-99e4d4d249ba"
      },
      "outputs": [
        {
          "data": {
            "text/plain": [
              "3"
            ]
          },
          "execution_count": 38,
          "metadata": {},
          "output_type": "execute_result"
        }
      ],
      "source": [
        "# one exception in reduce\n",
        "l=[3]\n",
        "reduce(test , l)\n",
        "#by default here  it consider 2nd to be zero"
      ]
    },
    {
      "cell_type": "code",
      "execution_count": 143,
      "metadata": {},
      "outputs": [
        {
          "data": {
            "text/plain": [
              "128"
            ]
          },
          "execution_count": 143,
          "metadata": {},
          "output_type": "execute_result"
        }
      ],
      "source": [
        "reduce(lambda x,y :x+y , l)"
      ]
    },
    {
      "cell_type": "markdown",
      "metadata": {},
      "source": [
        "**ZIP() FUNCTION**"
      ]
    },
    {
      "cell_type": "code",
      "execution_count": 43,
      "metadata": {
        "id": "E2f8FkdCw2mr"
      },
      "outputs": [],
      "source": [
        "l = [1,23,43,55,6,77,788]\n",
        "l1 = [1, 3, 43, 5, 5, 6,7,43,5,6]\n",
        "l3 = [354, 6, 4, 4, 32, 56, 2]\n",
        "l4 = [\"a\" , \"e\" , \"e\" , \"r\" , \"t\" , \"g\"]"
      ]
    },
    {
      "cell_type": "code",
      "execution_count": 44,
      "metadata": {
        "colab": {
          "base_uri": "https://localhost:8080/"
        },
        "id": "WAkpd2mbyFjp",
        "outputId": "4cfdd53b-b8e0-4b71-b446-eb1a2c0a260a"
      },
      "outputs": [
        {
          "data": {
            "text/plain": [
              "[(1, 1, 354, 'a'),\n",
              " (23, 3, 6, 'e'),\n",
              " (43, 43, 4, 'e'),\n",
              " (55, 5, 4, 'r'),\n",
              " (6, 5, 32, 't'),\n",
              " (77, 6, 56, 'g')]"
            ]
          },
          "execution_count": 44,
          "metadata": {},
          "output_type": "execute_result"
        }
      ],
      "source": [
        "list(zip(l , l1, l3 , l4))"
      ]
    },
    {
      "cell_type": "code",
      "execution_count": 45,
      "metadata": {
        "id": "y7PfB2A8yIKo"
      },
      "outputs": [],
      "source": [
        "# zip coonsider size according to 1st argumnt size"
      ]
    },
    {
      "cell_type": "code",
      "execution_count": null,
      "metadata": {
        "id": "_yQP2yYK0rtS"
      },
      "outputs": [],
      "source": []
    },
    {
      "cell_type": "markdown",
      "metadata": {
        "id": "1pgk7eJK0Z8Q"
      },
      "source": [
        "Task for today :<br>\n",
        "  dataset -   https://archive.ics.uci.edu/ml/datasets/Bag+of+Words<br>\n",
        "\n",
        "  Download all the bottom 5 file from link\n",
        "    \n",
        "    q1 = try to find out a count of each and every word in a respective file return a list of tuple with word and its respective count <br>\n",
        "        sample example -  [('sudh', 6 ) , ('kumar',3)]\n",
        "\n",
        "    q2 = try to perform a reduce operation to get a count of    all the word starting with same alphabet<br>\n",
        "        sample examle = [(a,56) , (b,34),...........]\n",
        "\n",
        "    q3 = Try to filter out all the words from dataset . \n",
        "        sample examle = .001.abstract -> abstract\n",
        "                      = .002 -> delete\n",
        "                      \n",
        "    q4 = create a tuple set of all the records avaialble in all the five file and then store it in sqllite DB . \n",
        "        sample examle = (aah,>=,354,fdsf,wer)\n",
        "    \n",
        "    Top 10 will be able to get kids neuron "
      ]
    },
    {
      "cell_type": "code",
      "execution_count": 50,
      "metadata": {
        "id": "Up2vg_D9y4DY"
      },
      "outputs": [],
      "source": [
        "# is task ka solution alag se ek main folder banunga usme dalunga solution jisme sarre given task ke solution honge with all given coding standard"
      ]
    },
    {
      "cell_type": "code",
      "execution_count": null,
      "metadata": {
        "id": "eH__-Mfe0Kym"
      },
      "outputs": [],
      "source": []
    }
  ],
  "metadata": {
    "colab": {
      "provenance": []
    },
    "kernelspec": {
      "display_name": "Python 3.8.10 64-bit",
      "language": "python",
      "name": "python3"
    },
    "language_info": {
      "codemirror_mode": {
        "name": "ipython",
        "version": 3
      },
      "file_extension": ".py",
      "mimetype": "text/x-python",
      "name": "python",
      "nbconvert_exporter": "python",
      "pygments_lexer": "ipython3",
      "version": "3.8.10"
    },
    "vscode": {
      "interpreter": {
        "hash": "e7370f93d1d0cde622a1f8e1c04877d8463912d04d973331ad4851f04de6915a"
      }
    }
  },
  "nbformat": 4,
  "nbformat_minor": 0
}
