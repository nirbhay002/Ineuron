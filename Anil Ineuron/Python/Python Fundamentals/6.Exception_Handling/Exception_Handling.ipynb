{
 "cells": [
  {
   "cell_type": "markdown",
   "metadata": {
    "id": "dpfPbgv7z656"
   },
   "source": [
    "what is exception Handling and why it s required ?"
   ]
  },
  {
   "cell_type": "code",
   "execution_count": null,
   "metadata": {
    "colab": {
     "base_uri": "https://localhost:8080/"
    },
    "id": "tceY-dXEBxhk",
    "outputId": "24bebbe8-c476-4396-933a-ff6e0da09966"
   },
   "outputs": [
    {
     "data": {
      "text/plain": [
       "0.5"
      ]
     },
     "execution_count": 1,
     "metadata": {},
     "output_type": "execute_result"
    }
   ],
   "source": [
    "a=5\n",
    "a/10"
   ]
  },
  {
   "cell_type": "code",
   "execution_count": null,
   "metadata": {
    "colab": {
     "base_uri": "https://localhost:8080/",
     "height": 172
    },
    "id": "-aeectmX1h5S",
    "outputId": "d661d9b6-c985-452d-a628-4ed4f7dafb8b"
   },
   "outputs": [
    {
     "ename": "ZeroDivisionError",
     "evalue": "ignored",
     "output_type": "error",
     "traceback": [
      "\u001b[0;31m---------------------------------------------------------------------------\u001b[0m",
      "\u001b[0;31mZeroDivisionError\u001b[0m                         Traceback (most recent call last)",
      "\u001b[0;32m<ipython-input-3-8285a70f88a6>\u001b[0m in \u001b[0;36m<module>\u001b[0;34m\u001b[0m\n\u001b[0;32m----> 1\u001b[0;31m \u001b[0ma\u001b[0m\u001b[0;34m/\u001b[0m\u001b[0;36m0\u001b[0m \u001b[0;31m#it is an exception\u001b[0m\u001b[0;34m\u001b[0m\u001b[0;34m\u001b[0m\u001b[0m\n\u001b[0m",
      "\u001b[0;31mZeroDivisionError\u001b[0m: division by zero"
     ]
    }
   ],
   "source": [
    "a/0 #it is an exception"
   ]
  },
  {
   "cell_type": "code",
   "execution_count": null,
   "metadata": {
    "id": "nAAuYagS1jNx"
   },
   "outputs": [],
   "source": [
    "#but same thing if we discuss in python numpy , there divide by  zero doesnn't give error because there is a term exist infinity"
   ]
  },
  {
   "cell_type": "code",
   "execution_count": null,
   "metadata": {
    "id": "VqVQjnyJ2Prv"
   },
   "outputs": [],
   "source": [
    "#now from today onwards you have to start using exception handling in every code "
   ]
  },
  {
   "cell_type": "code",
   "execution_count": null,
   "metadata": {
    "colab": {
     "base_uri": "https://localhost:8080/",
     "height": 130
    },
    "id": "qSnbp5hA27De",
    "outputId": "a800956e-533d-4d08-a6a6-f012119ae740"
   },
   "outputs": [
    {
     "ename": "SyntaxError",
     "evalue": "ignored",
     "output_type": "error",
     "traceback": [
      "\u001b[0;36m  File \u001b[0;32m\"<ipython-input-7-6c938bb88e5d>\"\u001b[0;36m, line \u001b[0;32m4\u001b[0m\n\u001b[0;31m    f.write(\"sdf\")\u001b[0m\n\u001b[0m                  ^\u001b[0m\n\u001b[0;31mSyntaxError\u001b[0m\u001b[0;31m:\u001b[0m unexpected EOF while parsing\n"
     ]
    }
   ],
   "source": [
    "#put suspicious code into try block\n",
    "try:\n",
    "  f= open('test.txt',\"r\")\n",
    "  f.write(\"sdf\")\n",
    "\n",
    "#it will give syntactical error as except block is missing"
   ]
  },
  {
   "cell_type": "markdown",
   "metadata": {
    "id": "YzPr0TZsIfs4"
   },
   "source": [
    "there are two tgype of error , one is complile time error(syntactical error) and second is run time error"
   ]
  },
  {
   "cell_type": "code",
   "execution_count": null,
   "metadata": {
    "colab": {
     "base_uri": "https://localhost:8080/"
    },
    "id": "LBz7dB2IIfAq",
    "outputId": "45263ae7-1339-4434-ef1d-43143862208f"
   },
   "outputs": [
    {
     "name": "stdout",
     "output_type": "stream",
     "text": [
      "2\n",
      "4.5\n"
     ]
    }
   ],
   "source": [
    "try:\n",
    "  a=9\n",
    "  b=int(input())\n",
    "  print(a/b)\n",
    "except:\n",
    "  print(\"dfg\")"
   ]
  },
  {
   "cell_type": "markdown",
   "metadata": {
    "id": "gNUKYiZnKgGf"
   },
   "source": [
    "is try block only prevent runtime eroors?\n",
    "it is mandatory to use try block and except block together, if any one is not present it is syntactical error"
   ]
  },
  {
   "cell_type": "code",
   "execution_count": null,
   "metadata": {
    "colab": {
     "base_uri": "https://localhost:8080/",
     "height": 130
    },
    "id": "CO05KiHBIQj_",
    "outputId": "ebaa2d72-4366-4ded-8f47-1600026f4024"
   },
   "outputs": [
    {
     "ename": "SyntaxError",
     "evalue": "ignored",
     "output_type": "error",
     "traceback": [
      "\u001b[0;36m  File \u001b[0;32m\"<ipython-input-16-bea98273b843>\"\u001b[0;36m, line \u001b[0;32m3\u001b[0m\n\u001b[0;31m    for i  range(len(l)):\u001b[0m\n\u001b[0m           ^\u001b[0m\n\u001b[0;31mSyntaxError\u001b[0m\u001b[0;31m:\u001b[0m invalid syntax\n"
     ]
    }
   ],
   "source": [
    "try:\n",
    "  l=[4678,4567,5678]\n",
    "  for i  range(len(l)):    #'in' is missing\n",
    "    print(l)\n",
    "except:\n",
    "  print(\"er\")\n",
    "\n",
    "#instead we put it in try-except block, we are getting error bcz exception handling is\n",
    "#use to solve run time error but in this case it is syntactical error."
   ]
  },
  {
   "cell_type": "code",
   "execution_count": 1,
   "metadata": {
    "colab": {
     "base_uri": "https://localhost:8080/"
    },
    "id": "wTQPhW00K-nu",
    "outputId": "b2bcc359-bd2b-48d3-90b7-6904ecaf5e64"
   },
   "outputs": [
    {
     "name": "stdout",
     "output_type": "stream",
     "text": [
      "4678\n",
      "4567\n",
      "5678\n",
      "er list index out of range\n",
      "My name is Nirbhay\n"
     ]
    }
   ],
   "source": [
    "try:\n",
    "  l=[4678,4567,5678]\n",
    "  for i in range(len(l)+1):\n",
    "    print(l[i])               #here we will get error index out of range\n",
    "except Exception as e:       #here we are storing name of error in e\n",
    "  print(\"er\", e)\n",
    "\n",
    "print('My name is Nirbhay') #if we haven't use exception-handlig, then we were not able to print this line\n",
    "#so basically exception handling is use to make our code run even if there are some run time error"
   ]
  },
  {
   "cell_type": "markdown",
   "metadata": {
    "id": "O72KgA2oM9GT"
   },
   "source": [
    "exception is a super class of all the exception you can think about , it explains what error encountered "
   ]
  },
  {
   "cell_type": "code",
   "execution_count": null,
   "metadata": {
    "colab": {
     "base_uri": "https://localhost:8080/"
    },
    "id": "xVe-xQxVLsJy",
    "outputId": "3562066f-f289-4c42-fc4a-23e15b4db9d1"
   },
   "outputs": [
    {
     "name": "stdout",
     "output_type": "stream",
     "text": [
      "sldnflds\n",
      "invalid literal for int() with base 10: 'sldnflds'\n"
     ]
    }
   ],
   "source": [
    "try:\n",
    "  a=int(input())\n",
    "  b=int(input())\n",
    "except Exception as e :\n",
    "  print(e)\n",
    "\n",
    "print('My name is Nirbhay') #so even given input is wrong, this line will run\n",
    "#So basicallly exceptional handling saves our code from crashing"
   ]
  },
  {
   "cell_type": "code",
   "execution_count": null,
   "metadata": {
    "colab": {
     "base_uri": "https://localhost:8080/"
    },
    "id": "csdHK2LwV_QA",
    "outputId": "51c50f51-22b1-49bb-9934-f9289fbac1ca"
   },
   "outputs": [
    {
     "name": "stdout",
     "output_type": "stream",
     "text": [
      "er\n",
      "invalid literal for int() with base 10: 'er'\n"
     ]
    }
   ],
   "source": [
    "try:\n",
    "  d={\"key1\":\"123\",\"key2\":\"234\",\"key3\":\"90\"}\n",
    "  d[\"key4\"]=int(input())\n",
    "except Exception as sd:\n",
    "  print(sd)"
   ]
  },
  {
   "cell_type": "code",
   "execution_count": null,
   "metadata": {
    "colab": {
     "base_uri": "https://localhost:8080/"
    },
    "id": "D2Bfui2XQsjB",
    "outputId": "ba4a4bf1-d37f-4291-e29b-e8641d16231c"
   },
   "outputs": [
    {
     "name": "stdout",
     "output_type": "stream",
     "text": [
      "op\n",
      "invalid literal for int() with base 10: 'op'\n"
     ]
    }
   ],
   "source": [
    "try:\n",
    "  a=int(input())\n",
    "  b=int(input())\n",
    "except ValueError as e :\n",
    "  print(e)"
   ]
  },
  {
   "cell_type": "code",
   "execution_count": null,
   "metadata": {
    "colab": {
     "base_uri": "https://localhost:8080/",
     "height": 235
    },
    "id": "ehHz4ZEdQiMe",
    "outputId": "f7e3e1a4-7c1c-4f55-9311-426f9a86202d"
   },
   "outputs": [
    {
     "ename": "FileNotFoundError",
     "evalue": "ignored",
     "output_type": "error",
     "traceback": [
      "\u001b[0;31m---------------------------------------------------------------------------\u001b[0m",
      "\u001b[0;31mFileNotFoundError\u001b[0m                         Traceback (most recent call last)",
      "\u001b[0;32m<ipython-input-5-14865e539148>\u001b[0m in \u001b[0;36m<module>\u001b[0;34m\u001b[0m\n\u001b[1;32m      1\u001b[0m \u001b[0;32mtry\u001b[0m\u001b[0;34m:\u001b[0m\u001b[0;34m\u001b[0m\u001b[0;34m\u001b[0m\u001b[0m\n\u001b[1;32m      2\u001b[0m \u001b[0;34m\u001b[0m\u001b[0m\n\u001b[0;32m----> 3\u001b[0;31m   \u001b[0mf\u001b[0m\u001b[0;34m=\u001b[0m\u001b[0mopen\u001b[0m\u001b[0;34m(\u001b[0m\u001b[0;34m\"test2\"\u001b[0m\u001b[0;34m,\u001b[0m\u001b[0;34m\"r\"\u001b[0m\u001b[0;34m)\u001b[0m\u001b[0;34m\u001b[0m\u001b[0;34m\u001b[0m\u001b[0m\n\u001b[0m\u001b[1;32m      4\u001b[0m \u001b[0;32mexcept\u001b[0m \u001b[0mValueError\u001b[0m \u001b[0;32mas\u001b[0m \u001b[0me\u001b[0m \u001b[0;34m:\u001b[0m\u001b[0;34m\u001b[0m\u001b[0;34m\u001b[0m\u001b[0m\n\u001b[1;32m      5\u001b[0m   \u001b[0mprint\u001b[0m\u001b[0;34m(\u001b[0m\u001b[0me\u001b[0m\u001b[0;34m)\u001b[0m\u001b[0;34m\u001b[0m\u001b[0;34m\u001b[0m\u001b[0m\n",
      "\u001b[0;31mFileNotFoundError\u001b[0m: [Errno 2] No such file or directory: 'test2'"
     ]
    }
   ],
   "source": [
    "try:\n",
    "\n",
    "  f=open(\"test2\",\"r\")\n",
    "except ValueError as e :\n",
    "  print(e)"
   ]
  },
  {
   "cell_type": "code",
   "execution_count": null,
   "metadata": {
    "colab": {
     "base_uri": "https://localhost:8080/"
    },
    "id": "ie402pdAaiEE",
    "outputId": "bbf5d6f4-703a-47ba-c5c3-e71e3d8decf8"
   },
   "outputs": [
    {
     "name": "stdout",
     "output_type": "stream",
     "text": [
      "Multiple Except Block\n",
      "[Errno 2] No such file or directory: 'test2'\n"
     ]
    }
   ],
   "source": [
    "try:\n",
    "  f=open(\"test2\",\"r\")\n",
    "except ValueError as e :\n",
    "  print(e)\n",
    "except FileNotFoundError as e1:\n",
    "  print(\"Multiple Except Block\")\n",
    "  print(e1)"
   ]
  },
  {
   "cell_type": "code",
   "execution_count": null,
   "metadata": {
    "colab": {
     "base_uri": "https://localhost:8080/"
    },
    "id": "gU4Ws1__bKII",
    "outputId": "97c6def3-4186-403e-9448-3a37dd8ed0dc"
   },
   "outputs": [
    {
     "name": "stdout",
     "output_type": "stream",
     "text": [
      "Multiple Except Block\n",
      "[Errno 2] No such file or directory: 'test2'\n"
     ]
    }
   ],
   "source": [
    "try:\n",
    "  f=open(\"test2\",\"r\")\n",
    "except ValueError as e :\n",
    "  print(e)\n",
    "except FileNotFoundError as e1:\n",
    "  print(\"Multiple Except Block\")\n",
    "  print(e1)\n",
    "except Exception as w1:\n",
    "  print(w1,\"exception Class\")"
   ]
  },
  {
   "cell_type": "markdown",
   "metadata": {
    "id": "Bizkwmbz15n6"
   },
   "source": [
    "try , except & **else**"
   ]
  },
  {
   "cell_type": "code",
   "execution_count": null,
   "metadata": {
    "colab": {
     "base_uri": "https://localhost:8080/"
    },
    "id": "Y1K4NfYP0MfZ",
    "outputId": "41fdc665-8164-4d06-f75d-a007bbb2eb64"
   },
   "outputs": [
    {
     "name": "stdout",
     "output_type": "stream",
     "text": [
      "thivnfhgb [Errno 2] No such file or directory: 'test2'\n"
     ]
    }
   ],
   "source": [
    " try:\n",
    "  f=open(\"test2\",\"r\")\n",
    "  file.write(\"tjkkjhkb\")\n",
    "except Exception as e :\n",
    "  print(\"thivnfhgb\",e)\n",
    "else:\n",
    "  print(\"this will execute once my try block will be excecuted succesfully\")\n",
    "  f.close"
   ]
  },
  {
   "cell_type": "code",
   "execution_count": null,
   "metadata": {
    "colab": {
     "base_uri": "https://localhost:8080/"
    },
    "id": "pQ2nCMvX2_aB",
    "outputId": "0209d67c-10df-48b1-a00f-8d4016959442"
   },
   "outputs": [
    {
     "name": "stdout",
     "output_type": "stream",
     "text": [
      "this will execute once my try block will be excecuted succesfully\n"
     ]
    }
   ],
   "source": [
    " try :\n",
    "  f=open(\"test2\",\"w\")\n",
    "  f.write(\"tjkkjhkb\")\n",
    "except Exception as e :\n",
    "  print(\"thivnfhgb\",e)\n",
    "else:\n",
    "  print(\"this will execute once my try block will be excecuted succesfully\")\n",
    "  f.close()"
   ]
  },
  {
   "cell_type": "markdown",
   "metadata": {
    "id": "4fvYcMnc4fmd"
   },
   "source": [
    "Finally block"
   ]
  },
  {
   "cell_type": "code",
   "execution_count": null,
   "metadata": {
    "colab": {
     "base_uri": "https://localhost:8080/"
    },
    "id": "41-hW_7X43NS",
    "outputId": "e367aec5-8073-4c19-ae1f-9a3d05ddfad3"
   },
   "outputs": [
    {
     "name": "stdout",
     "output_type": "stream",
     "text": [
      "thivnfhgb [Errno 2] No such file or directory: 'test3'\n",
      "this is for sure\n"
     ]
    }
   ],
   "source": [
    " try:\n",
    "  f=open(\"test3\",\"r\")\n",
    "except Exception as e :\n",
    "  print(\"thivnfhgb\",e)\n",
    "finally:\n",
    "  print(\"this is for sure\")"
   ]
  },
  {
   "cell_type": "markdown",
   "metadata": {
    "id": "mnHkZbdQ5ZQC"
   },
   "source": [
    "finally is a kind of block whill will execute all the time , whether try block is failed or it is not failed , and it will execute for sure"
   ]
  },
  {
   "cell_type": "code",
   "execution_count": null,
   "metadata": {
    "id": "bs6uYiBX5B8z"
   },
   "outputs": [],
   "source": [
    " #this doesn't mean that if there is error in finally block , then it will be handled also\n",
    " "
   ]
  },
  {
   "cell_type": "code",
   "execution_count": null,
   "metadata": {
    "colab": {
     "base_uri": "https://localhost:8080/"
    },
    "id": "F-ednpzwY0Cw",
    "outputId": "39e637d0-580d-4ef9-a912-a81377e53026"
   },
   "outputs": [
    {
     "name": "stdout",
     "output_type": "stream",
     "text": [
      "tyr\n",
      "this is my input Error invalid literal for int() with base 10: 'tyr'\n"
     ]
    }
   ],
   "source": [
    "def askint():\n",
    "  try:\n",
    "    a=int(input())\n",
    "    return a\n",
    "  except Exception as e:\n",
    "    print(\"this is my input Error\",e)\n",
    "\n",
    "askint()"
   ]
  },
  {
   "cell_type": "code",
   "execution_count": null,
   "metadata": {
    "id": "sAtksZVFaIqY"
   },
   "outputs": [],
   "source": [
    "def till():\n",
    "  while int(input()) == True:\n",
    "     print(\"input please\")"
   ]
  },
  {
   "cell_type": "code",
   "execution_count": null,
   "metadata": {
    "colab": {
     "base_uri": "https://localhost:8080/",
     "height": 269
    },
    "id": "cFJlkEIVkJFH",
    "outputId": "0f93875d-e1f5-4f06-e32c-92f049daf076"
   },
   "outputs": [
    {
     "name": "stdout",
     "output_type": "stream",
     "text": [
      "yu\n"
     ]
    },
    {
     "ename": "ValueError",
     "evalue": "ignored",
     "output_type": "error",
     "traceback": [
      "\u001b[0;31m---------------------------------------------------------------------------\u001b[0m",
      "\u001b[0;31mValueError\u001b[0m                                Traceback (most recent call last)",
      "\u001b[0;32m<ipython-input-3-032a846738af>\u001b[0m in \u001b[0;36m<module>\u001b[0;34m\u001b[0m\n\u001b[0;32m----> 1\u001b[0;31m \u001b[0mtill\u001b[0m\u001b[0;34m(\u001b[0m\u001b[0;34m)\u001b[0m\u001b[0;34m\u001b[0m\u001b[0;34m\u001b[0m\u001b[0m\n\u001b[0m",
      "\u001b[0;32m<ipython-input-1-536621523734>\u001b[0m in \u001b[0;36mtill\u001b[0;34m()\u001b[0m\n\u001b[1;32m      1\u001b[0m \u001b[0;32mdef\u001b[0m \u001b[0mtill\u001b[0m\u001b[0;34m(\u001b[0m\u001b[0;34m)\u001b[0m\u001b[0;34m:\u001b[0m\u001b[0;34m\u001b[0m\u001b[0;34m\u001b[0m\u001b[0m\n\u001b[0;32m----> 2\u001b[0;31m   \u001b[0;32mwhile\u001b[0m \u001b[0mint\u001b[0m\u001b[0;34m(\u001b[0m\u001b[0minput\u001b[0m\u001b[0;34m(\u001b[0m\u001b[0;34m)\u001b[0m\u001b[0;34m)\u001b[0m \u001b[0;34m==\u001b[0m \u001b[0;32mTrue\u001b[0m\u001b[0;34m:\u001b[0m\u001b[0;34m\u001b[0m\u001b[0;34m\u001b[0m\u001b[0m\n\u001b[0m\u001b[1;32m      3\u001b[0m      \u001b[0mprint\u001b[0m\u001b[0;34m(\u001b[0m\u001b[0;34m\"input please\"\u001b[0m\u001b[0;34m)\u001b[0m\u001b[0;34m\u001b[0m\u001b[0;34m\u001b[0m\u001b[0m\n",
      "\u001b[0;31mValueError\u001b[0m: invalid literal for int() with base 10: 'yu'"
     ]
    }
   ],
   "source": [
    "till()"
   ]
  },
  {
   "cell_type": "code",
   "execution_count": null,
   "metadata": {
    "colab": {
     "base_uri": "https://localhost:8080/",
     "height": 122
    },
    "id": "3ws0VaM9kLAQ",
    "outputId": "ee5f8d16-918b-4f20-ffe3-f21ecffa2bc4"
   },
   "outputs": [
    {
     "name": "stdout",
     "output_type": "stream",
     "text": [
      "enter the interger:ty\n",
      "Nah, you did not enter an integer, please enter an integer. ERROR:  invalid literal for int() with base 10: 'ty'\n",
      "enter the interger:jjj\n",
      "Nah, you did not enter an integer, please enter an integer. ERROR:  invalid literal for int() with base 10: 'jjj'\n",
      "enter the interger:789\n"
     ]
    },
    {
     "data": {
      "application/vnd.google.colaboratory.intrinsic+json": {
       "type": "string"
      },
      "text/plain": [
       "'yes, you have entered an integer'"
      ]
     },
     "execution_count": 8,
     "metadata": {},
     "output_type": "execute_result"
    }
   ],
   "source": [
    "def fun1():\n",
    "  flag=True\n",
    "  while flag:\n",
    "    try:\n",
    "      a=int(input(\"enter the interger:\"))\n",
    "      if type(a)== int:\n",
    "        return \"yes, you have entered an integer\"\n",
    "        flag=False\n",
    "    except Exception as e:\n",
    "       print(\"Nah, you did not enter an integer, please enter an integer. ERROR: \",e)\n",
    "fun1()"
   ]
  },
  {
   "cell_type": "code",
   "execution_count": null,
   "metadata": {
    "colab": {
     "base_uri": "https://localhost:8080/"
    },
    "id": "jIoMUmKZm0T3",
    "outputId": "17820dee-87bf-4c03-f688-ce52725e318e"
   },
   "outputs": [
    {
     "name": "stdout",
     "output_type": "stream",
     "text": [
      "uio\n",
      "enter the input again invalid literal for int() with base 10: 'uio'\n",
      "uio\n",
      "enter the input again invalid literal for int() with base 10: 'uio'\n",
      "789\n"
     ]
    }
   ],
   "source": [
    "def integer():\n",
    "  while True:\n",
    "    \"\"\"Function asks for an integer unless provided otherwise\"\"\"\n",
    "    try:\n",
    "      x= int(input())\n",
    "      break\n",
    "    except ValueError as e:\n",
    "        print(\"enter the input again\",e)\n",
    "integer()"
   ]
  },
  {
   "cell_type": "code",
   "execution_count": null,
   "metadata": {
    "colab": {
     "base_uri": "https://localhost:8080/"
    },
    "id": "GUq4nkEGoaW6",
    "outputId": "48bf002c-199d-426d-f35c-12aee9825d1e"
   },
   "outputs": [
    {
     "name": "stdout",
     "output_type": "stream",
     "text": [
      "uio\n",
      "Sorry, I didn't understand that.\n",
      "bnmkj\n",
      "Sorry, I didn't understand that.\n",
      "678\n"
     ]
    },
    {
     "data": {
      "text/plain": [
       "678"
      ]
     },
     "execution_count": 14,
     "metadata": {},
     "output_type": "execute_result"
    }
   ],
   "source": [
    "def getint():\n",
    "  while True:\n",
    "    try:\n",
    "      value = int(input()) \n",
    "    except ValueError:\n",
    "      print(\"Sorry, I didn't understand that.\") \n",
    "      continue\n",
    "    if value < 0: \n",
    "      print(\"Sorry, your response must not be negative.\")\n",
    "      continue\n",
    "    else:\n",
    "        break\n",
    "  return value\n",
    "getint()"
   ]
  },
  {
   "cell_type": "code",
   "execution_count": null,
   "metadata": {
    "id": "xErpeufPpCIt"
   },
   "outputs": [],
   "source": [
    "def askint():\n",
    "  while True:\n",
    "    try:\n",
    "      num = int(input(\"enter only number\"))\n",
    "      break\n",
    "    except ValueError:\n",
    "      print(\"Please input number only...\")\n",
    "      continue"
   ]
  },
  {
   "cell_type": "code",
   "execution_count": null,
   "metadata": {
    "colab": {
     "base_uri": "https://localhost:8080/"
    },
    "id": "RW-8tXU1qBEA",
    "outputId": "69a1dee5-688b-4dc7-fbfa-64566000eda6"
   },
   "outputs": [
    {
     "name": "stdout",
     "output_type": "stream",
     "text": [
      "enter only numberert\n",
      "Please input number only...\n",
      "enter only numberhji\n",
      "Please input number only...\n",
      "enter only number234\n"
     ]
    }
   ],
   "source": [
    "askint()"
   ]
  },
  {
   "cell_type": "markdown",
   "metadata": {
    "id": "XqS4MoZfvfcH"
   },
   "source": [
    "\n",
    "how to raise our own exception"
   ]
  },
  {
   "cell_type": "code",
   "execution_count": null,
   "metadata": {
    "id": "5Y86XWjCqDOb"
   },
   "outputs": [],
   "source": [
    "def test(a):\n",
    "  if a<0:\n",
    "    raise Exception(a)\n",
    "  return a\n"
   ]
  },
  {
   "cell_type": "code",
   "execution_count": null,
   "metadata": {
    "colab": {
     "base_uri": "https://localhost:8080/",
     "height": 269
    },
    "id": "DgmhgClrwGkR",
    "outputId": "f930387e-75af-46b7-b138-c1d7437a174a"
   },
   "outputs": [
    {
     "ename": "Exception",
     "evalue": "ignored",
     "output_type": "error",
     "traceback": [
      "\u001b[0;31m---------------------------------------------------------------------------\u001b[0m",
      "\u001b[0;31mException\u001b[0m                                 Traceback (most recent call last)",
      "\u001b[0;32m<ipython-input-18-3d6175c8b8ad>\u001b[0m in \u001b[0;36m<module>\u001b[0;34m\u001b[0m\n\u001b[0;32m----> 1\u001b[0;31m \u001b[0mtest\u001b[0m\u001b[0;34m(\u001b[0m\u001b[0;34m-\u001b[0m\u001b[0;36m3\u001b[0m\u001b[0;34m)\u001b[0m\u001b[0;34m\u001b[0m\u001b[0;34m\u001b[0m\u001b[0m\n\u001b[0m",
      "\u001b[0;32m<ipython-input-17-c1ebd44f377a>\u001b[0m in \u001b[0;36mtest\u001b[0;34m(a)\u001b[0m\n\u001b[1;32m      1\u001b[0m \u001b[0;32mdef\u001b[0m \u001b[0mtest\u001b[0m\u001b[0;34m(\u001b[0m\u001b[0ma\u001b[0m\u001b[0;34m)\u001b[0m\u001b[0;34m:\u001b[0m\u001b[0;34m\u001b[0m\u001b[0;34m\u001b[0m\u001b[0m\n\u001b[1;32m      2\u001b[0m   \u001b[0;32mif\u001b[0m \u001b[0ma\u001b[0m\u001b[0;34m<\u001b[0m\u001b[0;36m0\u001b[0m\u001b[0;34m:\u001b[0m\u001b[0;34m\u001b[0m\u001b[0;34m\u001b[0m\u001b[0m\n\u001b[0;32m----> 3\u001b[0;31m     \u001b[0;32mraise\u001b[0m \u001b[0mException\u001b[0m\u001b[0;34m(\u001b[0m\u001b[0ma\u001b[0m\u001b[0;34m)\u001b[0m\u001b[0;34m\u001b[0m\u001b[0;34m\u001b[0m\u001b[0m\n\u001b[0m\u001b[1;32m      4\u001b[0m   \u001b[0;32mreturn\u001b[0m \u001b[0ma\u001b[0m\u001b[0;34m\u001b[0m\u001b[0;34m\u001b[0m\u001b[0m\n",
      "\u001b[0;31mException\u001b[0m: -3"
     ]
    }
   ],
   "source": [
    "test(-3)"
   ]
  },
  {
   "cell_type": "code",
   "execution_count": null,
   "metadata": {
    "id": "FKZHTUwHwJVK"
   },
   "outputs": [],
   "source": [
    "#raise is a reserved keyword that help you to raise an exception according toyour condition"
   ]
  },
  {
   "cell_type": "code",
   "execution_count": null,
   "metadata": {
    "colab": {
     "base_uri": "https://localhost:8080/"
    },
    "id": "MgZcEFy_wwFt",
    "outputId": "1b77d57b-fe86-4fe6-f1f3-1bb025499426"
   },
   "outputs": [
    {
     "data": {
      "text/plain": [
       "7"
      ]
     },
     "execution_count": 21,
     "metadata": {},
     "output_type": "execute_result"
    }
   ],
   "source": [
    "test(7)"
   ]
  },
  {
   "cell_type": "code",
   "execution_count": null,
   "metadata": {
    "id": "yuD-VDKmw4bL"
   },
   "outputs": [],
   "source": [
    "def restric(j):\n",
    "  if j == \"sudh\":\n",
    "    raise ZeroDivisionError(\"l is not allowed\",j)\n",
    "  return j"
   ]
  },
  {
   "cell_type": "code",
   "execution_count": null,
   "metadata": {
    "colab": {
     "base_uri": "https://localhost:8080/",
     "height": 36
    },
    "id": "BWpq4VOexfrd",
    "outputId": "5e08d4f4-a2fa-40b7-f179-65d63c53ed6e"
   },
   "outputs": [
    {
     "data": {
      "application/vnd.google.colaboratory.intrinsic+json": {
       "type": "string"
      },
      "text/plain": [
       "'t'"
      ]
     },
     "execution_count": 41,
     "metadata": {},
     "output_type": "execute_result"
    }
   ],
   "source": [
    "restric(\"t\")"
   ]
  },
  {
   "cell_type": "code",
   "execution_count": null,
   "metadata": {
    "colab": {
     "base_uri": "https://localhost:8080/",
     "height": 36
    },
    "id": "XoJ2PYe2xjYc",
    "outputId": "3ebabee9-0432-4f13-feb6-19bb069db487"
   },
   "outputs": [
    {
     "data": {
      "application/vnd.google.colaboratory.intrinsic+json": {
       "type": "string"
      },
      "text/plain": [
       "'l'"
      ]
     },
     "execution_count": 42,
     "metadata": {},
     "output_type": "execute_result"
    }
   ],
   "source": [
    "\n",
    "restric(\"l\")"
   ]
  },
  {
   "cell_type": "code",
   "execution_count": null,
   "metadata": {
    "colab": {
     "base_uri": "https://localhost:8080/"
    },
    "id": "iZqod13Ax2G8",
    "outputId": "d72c7432-8f40-4dbf-c128-5d3e1c90dc8d"
   },
   "outputs": [
    {
     "name": "stdout",
     "output_type": "stream",
     "text": [
      "sudh\n",
      "calling my raised function ('l is not allowed', 'sudh')\n"
     ]
    }
   ],
   "source": [
    "#i am calling super class but i am getting message from my custom message\n",
    "try:\n",
    "  a=input()\n",
    "  restric(a)\n",
    "except Exception as e:\n",
    "  print(\"calling my raised function\",e)"
   ]
  },
  {
   "cell_type": "code",
   "execution_count": null,
   "metadata": {
    "id": "QziyjqBj0sev"
   },
   "outputs": [],
   "source": [
    "#here we see the possibilty to overide each and every classes\n",
    "# means we can overide all type of classes whether it is IO , ZeroDivisonError\n",
    "#we can take any type of exception class and we can overide them with own custom messages"
   ]
  },
  {
   "cell_type": "markdown",
   "metadata": {
    "id": "eB0rJZQc9mMv"
   },
   "source": [
    "**Logging**\n"
   ]
  },
  {
   "cell_type": "code",
   "execution_count": null,
   "metadata": {
    "id": "tK-OcT-B1dUX"
   },
   "outputs": [],
   "source": [
    "#in production we are not allowed to use print(), its a part of standard"
   ]
  },
  {
   "cell_type": "markdown",
   "metadata": {
    "id": "iUMFXupFHbns"
   },
   "source": [
    "it will give the flexibility to understand that what is the problem tht is happened with my code , why my thing is crashhed or to get some sort of warning to the user "
   ]
  },
  {
   "cell_type": "markdown",
   "metadata": {
    "id": "WFY0aFflISvw"
   },
   "source": [
    "logging is the way by which we can keep track of error, warning ,info . so that in future if you have to do some sort of investigation you all will be able to do the investigation , and whatever standard product you will be able to find out whether it's a aws azure"
   ]
  },
  {
   "cell_type": "code",
   "execution_count": 1,
   "metadata": {
    "id": "OB58NhD3Fy9h"
   },
   "outputs": [],
   "source": [
    "import logging"
   ]
  },
  {
   "cell_type": "code",
   "execution_count": 3,
   "metadata": {
    "id": "pJzVYR3xJZzu"
   },
   "outputs": [],
   "source": [
    "logging.basicConfig(filename = \"test2.log\", level=logging.INFO)"
   ]
  },
  {
   "cell_type": "code",
   "execution_count": 4,
   "metadata": {
    "colab": {
     "base_uri": "https://localhost:8080/"
    },
    "id": "2LKjlVh3Jr_N",
    "outputId": "282d51be-d543-4f61-9037-820681e6712f"
   },
   "outputs": [
    {
     "name": "stderr",
     "output_type": "stream",
     "text": [
      "'ls' is not recognized as an internal or external command,\n",
      "operable program or batch file.\n"
     ]
    }
   ],
   "source": [
    "!ls"
   ]
  },
  {
   "cell_type": "code",
   "execution_count": 5,
   "metadata": {
    "colab": {
     "base_uri": "https://localhost:8080/"
    },
    "id": "5vOi8hoyJ16i",
    "outputId": "7d9fd051-a754-414b-8042-b7afaa414142"
   },
   "outputs": [
    {
     "name": "stdout",
     "output_type": "stream",
     "text": [
      " Volume in drive C has no label.\n",
      " Volume Serial Number is 8E29-6773\n",
      "\n",
      " Directory of C:\\Users\\Anil Kamat\\Downloads\n",
      "\n",
      "03/14/2023  07:49 AM    <DIR>          .\n",
      "03/14/2023  07:49 AM    <DIR>          ..\n",
      "03/13/2023  06:00 PM    <DIR>          .ipynb_checkpoints\n",
      "11/17/2022  10:52 PM             4,893 [English (auto-generated)] Gravitas_ India takes centre stage at G20 summit [DownSub.com].txt\n",
      "01/21/2023  10:10 PM           130,381 __opt__aboutcom__coeus__resources__content_migration__simply_recipes__uploads__2019__01__Butter-Chicken-LEAD-2-6ca76f24bbe74114a09958073cb9c76f.jpg\n",
      "11/28/2022  09:44 AM            21,135 024859dfb01eabc3ebef7de9b13dd39c.gif\n",
      "11/05/2022  05:44 PM           125,734 07 Functions_Revision (1).ipynb\n",
      "11/05/2022  05:44 PM           125,734 07 Functions_Revision.ipynb\n",
      "11/05/2022  05:44 PM         1,083,241 13. OOPS_latest.ipynb\n",
      "11/13/2022  11:26 AM            30,846 1668318269421 (1).jpg\n",
      "11/13/2022  11:29 AM           101,529 1668318269421 (2).jpg\n",
      "11/13/2022  11:18 AM           862,672 1668318269421.jpg\n",
      "12/10/2022  10:56 AM           239,477 1670499083122.jpeg\n",
      "11/28/2022  12:53 AM           274,865 1690367.jpg\n",
      "11/22/2022  02:14 AM         1,637,356 19053570038_290015_1658499068 (1).pdf\n",
      "01/11/2023  04:54 PM        12,971,266 20221209_144648.mp4\n",
      "01/11/2023  04:54 PM         7,885,644 20221209_144648_001.mp4\n",
      "01/11/2023  04:54 PM        20,735,824 20221209_145326.mp4\n",
      "01/11/2023  04:54 PM         3,543,911 20221209_150258.mp4\n",
      "01/11/2023  04:55 PM        14,144,169 20221209_152727 (1).jpg\n",
      "01/11/2023  04:54 PM         5,455,564 20221209_165154 (2).jpg\n",
      "01/11/2023  04:54 PM        12,659,948 20221210_190408 (1).jpg\n",
      "12/11/2022  02:37 AM        12,659,948 20221210_190408.jpg\n",
      "02/20/2023  02:47 PM            10,638 22 Excel Index Match Tutorial u2B.xlsx\n",
      "11/13/2022  11:18 PM            78,456 22BA111 (2).jpeg\n",
      "11/13/2022  11:18 PM            78,456 22BA111.jpeg\n",
      "11/13/2022  11:18 PM            63,389 22BA111_sign.jpeg\n",
      "12/02/2022  02:45 AM            41,843 3.Tuple,Set,Dictionary.ipynb\n",
      "12/01/2022  02:27 AM            78,414 301122MCA.pdf\n",
      "12/01/2022  01:50 AM         1,305,764 305738996_3195270600766147_6153542447321046920_n.mp4\n",
      "10/30/2022  12:39 AM            30,564 312810710_2103504673176215_3450205328288481830_n.jpg\n",
      "01/21/2023  10:10 PM            74,337 360_F_255534476_n8JzjZtzOFW5g3TXTLMd6QGVnToi6hqj.jpg\n",
      "11/29/2022  09:10 PM           188,058 412639 (1).jpg\n",
      "11/29/2022  09:07 PM           115,019 412639.jpg\n",
      "11/05/2022  03:33 PM           870,160 4kvideodownloader_4.21.7_x64_online.exe\n",
      "11/10/2022  11:09 AM           869,784 4kyoutubetomp3_4.6.7_x64_online.exe\n",
      "01/14/2023  06:46 PM       340,167,870 5 (1).mp4\n",
      "12/11/2022  02:42 PM        12,971,266 5.mp4\n",
      "02/14/2023  04:42 PM    <DIR>          6.Ratio, Proportions and Variations-20230214T111214Z-001\n",
      "02/14/2023  04:42 PM               334 6.Ratio, Proportions and Variations-20230214T111214Z-001.zip\n",
      "02/23/2023  09:24 PM         1,338,252 6368bb781e1a8d00120fd77e_##_Neural Control and Coordination-01 _ Class Notes (Yakeen 2.0 2023 PW Stars) (1).pdf\n",
      "02/24/2023  10:49 AM         1,338,252 6368bb781e1a8d00120fd77e_##_Neural Control and Coordination-01 _ Class Notes (Yakeen 2.0 2023 PW Stars) (2).pdf\n",
      "02/23/2023  08:43 PM         1,338,252 6368bb781e1a8d00120fd77e_##_Neural Control and Coordination-01 _ Class Notes (Yakeen 2.0 2023 PW Stars).pdf\n",
      "02/23/2023  09:25 PM         1,362,667 636b5f1b4ab6cf005bed16fb_##_Neural Control and Coordination-02 _ Class Notes (Yakeen 2.0 2023 PW Stars).pdf\n",
      "02/23/2023  09:30 PM         1,610,115 6371f7bdd67fbd0011066ba1_##_Neural Control and Coordination-03 _ Class Notes (Yakeen 2.0 2023 PW Stars) (1).pdf\n",
      "02/24/2023  10:47 AM         1,610,115 6371f7bdd67fbd0011066ba1_##_Neural Control and Coordination-03 _ Class Notes (Yakeen 2.0 2023 PW Stars) (2).pdf\n",
      "02/22/2023  07:07 PM         1,610,115 6371f7bdd67fbd0011066ba1_##_Neural Control and Coordination-03 _ Class Notes (Yakeen 2.0 2023 PW Stars).pdf\n",
      "02/22/2023  07:15 PM    <DIR>          637346447595170011a5ed47_##_Neural Control and Coordination-04 _ Class Notes (Yakeen 2.0 2023 PW Stars)\n",
      "02/24/2023  10:47 AM         1,011,739 637346447595170011a5ed47_##_Neural Control and Coordination-04 _ Class Notes (Yakeen 2.0 2023 PW Stars) (1).pdf\n",
      "02/24/2023  10:56 AM         1,011,739 637346447595170011a5ed47_##_Neural Control and Coordination-04 _ Class Notes (Yakeen 2.0 2023 PW Stars) (2).pdf\n",
      "02/22/2023  07:07 PM         1,011,739 637346447595170011a5ed47_##_Neural Control and Coordination-04 _ Class Notes (Yakeen 2.0 2023 PW Stars).pdf\n",
      "02/22/2023  07:13 PM         1,021,579 637346447595170011a5ed47_##_Neural Control and Coordination-04 _ Class Notes (Yakeen 2.0 2023 PW Stars).zip\n",
      "02/22/2023  07:07 PM         1,113,436 63749793d63cfc0018d1fa19_##_Neural Control and Coordination-05 _ Class Notes (Yakeen 2.0 2023 PW Stars).pdf\n",
      "02/23/2023  08:40 PM         1,313,918 637b378c6b6ecb0011bea57e_##_Neural Control and Coordination-06 _ Class Notes (Yakeen 2.0 2023 PW Stars) (1).pdf\n",
      "02/22/2023  07:08 PM         1,313,918 637b378c6b6ecb0011bea57e_##_Neural Control and Coordination-06 _ Class Notes (Yakeen 2.0 2023 PW Stars).pdf\n",
      "02/24/2023  10:57 AM         1,550,892 637c88647882d5001827dbe4_##_Neural Control and Coordination-07 _ Class Notes (Yakeen 2.0 2023 PW Stars) (1).pdf\n",
      "02/23/2023  08:40 PM         1,550,892 637c88647882d5001827dbe4_##_Neural Control and Coordination-07 _ Class Notes (Yakeen 2.0 2023 PW Stars).pdf\n",
      "11/15/2022  01:25 PM     2,790,164,961 777.Charlie.(2022).DUAL.REPACK.1080p.WEBRip.10bit.DD.5.1.HEVC-[Musafirboy].mkv\n",
      "03/02/2023  12:38 AM           102,652 811YM2Go9GL._SL1500_.jpg\n",
      "12/16/2022  01:26 PM           366,743 ace.js\n",
      "02/23/2023  07:33 PM           408,067 Admit Card 22072510076(1).pdf\n",
      "11/22/2022  02:14 AM         4,544,229 AdmitCard-223510184667 (1).pdf\n",
      "10/09/2022  03:35 PM            43,283 Adobe Scan 08-Oct-2022_1 (1).jpg\n",
      "12/29/2022  09:55 AM     2,560,997,337 AE2022.22.1.1.(ask4pc).rar\n",
      "12/09/2022  10:43 PM       115,983,968 AllToMP3-Setup-0.3.19.exe\n",
      "01/21/2023  10:10 PM           502,119 aloo-gobi-matar1.jpg\n",
      "10/27/2022  09:29 AM       166,465,536 amazon-corretto-17.0.5.8.1-windows-x64.msi\n",
      "12/16/2022  01:26 PM            45,958 analytics.js\n",
      "11/10/2022  02:15 AM         2,940,471 Anil response key edit (1).pdf\n",
      "11/12/2022  07:56 PM         2,940,471 Anil response key edit (2).pdf\n",
      "11/10/2022  02:04 AM         2,940,471 Anil response key edit.pdf\n",
      "11/10/2022  02:04 AM         2,940,471 Anil response key.pdf\n",
      "11/03/2022  12:54 AM           377,450 AnilOfferLetter.pdf\n",
      "11/03/2022  12:55 AM           188,097 Anilofferletter2.pdf\n",
      "11/03/2022  12:58 AM           377,450 ANILOFFERletter45.pdf\n",
      "01/18/2023  02:27 AM           572,902 AnilPP.jpg\n",
      "10/09/2022  03:35 PM            43,283 AnilSign.jpg\n",
      "11/03/2022  03:09 AM         1,644,795 AnilSyllabus.pdf\n",
      "12/29/2022  10:34 AM     2,158,704,190 Anim2022.22.0.2.(ask4pc).rar\n",
      "12/29/2022  12:47 AM        32,784,895 Anisha Birthday.mp4\n",
      "11/13/2022  11:31 AM            77,473 AnishaPP.jpg\n",
      "12/14/2022  09:01 PM         3,999,808 AnyDesk (1).exe\n",
      "12/14/2022  09:00 PM         3,999,808 AnyDesk.exe\n",
      "12/29/2022  11:20 AM            17,176 Assignment_1.docx\n",
      "10/27/2022  05:08 PM            46,920 BAHE_251022_423PM_new.pdf\n",
      "10/27/2022  05:05 PM            18,922 BAHE_251022_423PM_new.xlsx\n",
      "10/30/2022  07:03 PM            47,850 BAHE_281022_web (1).pdf\n",
      "10/30/2022  07:03 PM            19,458 BAHE_281022_web (1).xlsx\n",
      "10/30/2022  07:02 PM            19,458 BAHE_281022_web.xlsx\n",
      "11/29/2022  03:37 PM           224,822 basic-human-needs-maslow-hierarchy-triangle-pyramid-with-physiological-safety-belonging-love_501813-1271.jpg\n",
      "11/07/2022  12:41 PM         4,047,485 Basics of Python for Data Science.pdf\n",
      "11/11/2022  01:33 AM           150,000 Bit Manipulation#450_DSA (1).pdf\n",
      "01/21/2023  10:10 PM           185,951 bread-tandoori-indian-cuisine.jpg\n",
      "02/26/2023  01:53 AM         4,240,091 CBSE-class-11-NCERT-Book-Biology-NEURAL-CONTROL-AND-chapter-21.pdf\n",
      "11/03/2022  03:58 PM           210,566 Chandr Kishore Ticket.pdf\n",
      "11/03/2022  12:58 AM            55,835 CHECKLIST_INDIAN_NATIONAL.pdf\n",
      "01/21/2023  06:39 PM        20,893,696 chromeremotedesktophost.msi\n",
      "10/26/2022  01:33 AM         1,427,176 ChromeSetup (1).exe\n",
      "10/26/2022  01:33 AM         1,427,176 ChromeSetup.exe\n",
      "03/04/2023  12:40 AM           101,693 cogjet score card.pdf\n",
      "11/11/2022  01:01 AM           677,789 COGJET2022_SampleQuestions (1).pdf\n",
      "11/14/2022  01:33 AM           677,789 COGJET2022_SampleQuestions (2) (1).pdf\n",
      "11/14/2022  01:29 AM           677,789 COGJET2022_SampleQuestions (2).pdf\n",
      "10/27/2022  02:04 AM           677,789 COGJET2022_SampleQuestions.pdf\n",
      "11/11/2022  01:00 AM           141,007 COGJET2022_Syllabus.pdf\n",
      "02/24/2023  06:07 PM           446,022 COGJET2023_Syllabus (1).pdf\n",
      "02/24/2023  06:07 PM           446,022 COGJET2023_Syllabus (1)34.pdf\n",
      "12/17/2022  12:29 PM           287,208 COGJET2023_Syllabus.pdf\n",
      "02/24/2023  03:44 PM           487,359 Cogjetpaper2020.pdf\n",
      "02/26/2023  05:53 PM            15,892 CommonReport.xls\n",
      "02/23/2023  09:05 PM    <DIR>          complete-data-science-roadmap-2023-learn-data-science-skills-in-6-months\n",
      "02/23/2023  09:04 PM         1,014,116 complete-data-science-roadmap-2023-learn-data-science-skills-in-6-months.zip\n",
      "12/30/2022  01:56 PM    <DIR>          content\n",
      "02/26/2023  12:23 AM         8,324,074 convert (1).pdf\n",
      "02/22/2023  07:35 PM         8,324,074 convert.pdf\n",
      "01/21/2023  10:09 PM           690,431 Crispy-Honey-Chilli-Potatoes-3-scaled.jpg\n",
      "12/05/2022  02:01 PM           100,932 CRN5041305351.pdf\n",
      "12/30/2022  11:59 PM            22,655 CRY_Plan of Action_format-1.docx\n",
      "11/16/2022  09:04 PM         5,209,622 csir-net-gate-mathematical-sciences-linear-algebra-book-narosa-publication.pdf\n",
      "12/15/2022  11:23 PM         3,153,453 CVRTOON - Plevne.mp3\n",
      "01/21/2023  10:09 PM           752,346 daal-makhni-05 (1).jpg\n",
      "01/18/2023  11:01 AM           320,872 Dashboard 3 _2019 (1).xlsx\n",
      "01/18/2023  11:01 AM           320,872 Dashboard 3 _2019.xlsx\n",
      "01/17/2023  05:53 PM        27,626,630 DE(convert) clear.pdf\n",
      "12/06/2022  09:09 AM     4,671,956,393 Dear Zindagi 2016 1080p.mkv\n",
      "11/28/2022  12:38 AM           339,668 desktopnn.png\n",
      "12/17/2022  01:01 PM         1,147,339 Detailed List of Subjects in all Six Semesters in BCA ( 3 year UG degree ).pdf\n",
      "11/28/2022  05:55 PM        83,768,200 dfg_dfg2_merged.docx\n",
      "11/28/2022  05:56 PM       163,058,383 dfg_dfg2_mergedfinal.docx\n",
      "11/28/2022  05:59 PM         7,934,470 dfg_dfg2_mergedfinal.pdf\n",
      "03/12/2023  07:16 PM         2,367,356 Digital Empowerment (1).pdf\n",
      "03/12/2023  11:04 AM         2,367,356 Digital Empowerment.pdf\n",
      "03/12/2023  07:16 PM         2,694,608 Digital Inclusion and Empowerment.pdf\n",
      "01/17/2023  10:26 AM        15,499,671 DiiferntialEquationAllinone(8).pdf\n",
      "02/25/2023  09:03 PM        96,399,707 Disha 29 AIIMS Biology Chapter-wise Solved Papers.pdf\n",
      "02/26/2023  12:10 AM        67,244,961 Disha 33 Years NEET Solved Papers - Biology.pdf\n",
      "11/29/2022  04:17 PM         5,486,046 Doc1.docx\n",
      "11/29/2022  05:07 PM         5,100,541 Doc2.docx\n",
      "01/07/2023  12:37 PM        22,189,385 Doc3.docx\n",
      "01/17/2023  05:52 PM        46,623,638 Doc4.docx\n",
      "02/24/2023  11:02 AM         3,397,286 Doc4LAST (1).pdf\n",
      "02/24/2023  11:01 AM         4,125,556 Doc4LAST.pdf\n",
      "02/22/2023  07:20 PM         4,041,010 Doc5.docx\n",
      "02/26/2023  01:47 AM         4,205,669 Doc5.pdf\n",
      "02/24/2023  11:02 AM         4,118,453 Doc6.docx\n",
      "02/10/2023  08:14 PM        28,893,412 Doc7.docx\n",
      "11/28/2022  12:53 AM               799 download (1).jpeg\n",
      "11/28/2022  12:54 AM             1,116 download (2).jpeg\n",
      "11/28/2022  12:51 AM               661 download.jpeg\n",
      "11/10/2022  02:11 AM           235,678 duet nirbhay admit card.pdf\n",
      "11/10/2022  01:21 AM         1,223,559 DUMCA.pdf\n",
      "11/10/2022  09:08 PM           626,719 EAadhaar_0013030213872320220414130005_2004202218559 (1).pdf\n",
      "11/10/2022  09:12 PM           626,719 EAadhaar_0013030213872320220414130005_2004202218559 (2).pdf\n",
      "11/10/2022  08:58 PM           626,719 EAadhaar_0013030213872320220414130005_2004202218559.pdf\n",
      "01/26/2023  04:20 PM        57,606,765 Eminem - Mockingbird BEST PART (1 HOUR LOOP).mp3\n",
      "12/16/2022  01:26 PM             1,524 error-handler.js\n",
      "11/28/2022  12:56 AM           341,780 ertwert.png\n",
      "11/05/2022  05:44 PM            10,151 Exception handling class 1 (1).ipynb\n",
      "11/05/2022  05:44 PM            10,151 Exception handling class 1.ipynb\n",
      "11/05/2022  05:44 PM            31,317 Exception handling class 2 (1).ipynb\n",
      "03/14/2023  07:49 AM            63,773 Exception_Handling.ipynb\n",
      "12/16/2022  01:26 PM            35,544 ext-language_tools.js\n",
      "11/05/2022  05:44 PM            14,657 file sysetm.ipynb\n",
      "11/27/2022  05:35 PM       328,054,260 film0raX.1.20.x.(ask4pc).rar\n",
      "01/20/2023  12:55 AM         5,092,692 FoodWebsite.zip\n",
      "11/05/2022  05:44 PM            25,286 for loops while loop.ipynb\n",
      "12/15/2022  10:10 AM         3,351,124 Free Happy Background Music  No Copyright Music For YouTube Vlog Videos Royalty Free.mp3\n",
      "12/16/2022  12:43 PM         2,955,108 Free Happy Background Music(in middle).mp3\n",
      "11/05/2022  05:44 PM            30,099 Function and holiday task.ipynb\n",
      "11/05/2022  05:44 PM            57,950 Function continued.ipynb\n",
      "12/15/2022  10:01 AM           470,545 Functions of Several Variables _ DPP __ Kshitij (IIT JAM) (1).pdf\n",
      "12/15/2022  09:52 AM           470,545 Functions of Several Variables _ DPP __ Kshitij (IIT JAM).pdf\n",
      "01/20/2023  11:27 PM         1,595,771 G125N79AdmitCard.pdf\n",
      "11/30/2022  07:20 PM            45,462 G125N79ApplicationForm (1) (1).pdf\n",
      "11/30/2022  07:18 PM            45,462 G125N79ApplicationForm (1).pdf\n",
      "11/13/2022  08:30 PM            45,462 G125N79ApplicationForm.pdf\n",
      "11/13/2022  08:31 PM            45,462 G125N79ApplicationFormDF.pdf\n",
      "12/14/2022  09:01 PM           394,240 gcapi.dll\n",
      "12/08/2022  02:20 PM       125,286,448 Geekbench-5.4.6-WindowsSetup.exe\n",
      "02/20/2023  10:19 AM         2,816,804 gfd.pdf\n",
      "11/20/2022  07:53 PM         1,643,498 gh.pdf\n",
      "10/26/2022  11:16 PM        53,360,624 Git-2.38.1-64-bit.exe\n",
      "01/25/2023  02:04 AM           105,314 Gmail - Notification_ COGJET 2023.pdf\n",
      "12/15/2022  10:00 AM           610,458 Group Theory  _ DPP 04.pdf\n",
      "02/10/2023  08:07 PM        29,084,800 Group Theory 14 _ Class Notes __ Kshitij (IIT JAM).zip\n",
      "11/22/2022  02:08 AM           250,551 hjk.pdf\n",
      "12/16/2022  01:26 PM               564 icon.css\n",
      "11/13/2022  11:21 PM           248,322 id card details.pdf\n",
      "11/05/2022  05:44 PM            48,388 if else , for loop.ipynb\n",
      "02/22/2023  07:15 PM    <DIR>          ilovepdf_images-extracted\n",
      "02/22/2023  07:16 PM    <DIR>          ilovepdf_images-extracted (1)\n",
      "02/22/2023  07:14 PM         1,458,570 ilovepdf_images-extracted (1).zip\n",
      "02/24/2023  10:49 AM    <DIR>          ilovepdf_images-extracted (2)\n",
      "02/24/2023  10:49 AM         1,176,821 ilovepdf_images-extracted (2).zip\n",
      "02/24/2023  10:50 AM    <DIR>          ilovepdf_images-extracted (3)\n",
      "02/24/2023  10:49 AM         1,527,050 ilovepdf_images-extracted (3).zip\n",
      "02/24/2023  10:58 AM    <DIR>          ilovepdf_images-extracted (4)\n",
      "02/24/2023  10:58 AM         1,772,488 ilovepdf_images-extracted (4).zip\n",
      "02/22/2023  07:14 PM         1,297,631 ilovepdf_images-extracted.zip\n",
      "02/16/2023  10:05 AM           436,965 ilovepdf_merged (1).pdf\n",
      "12/16/2022  01:21 PM         1,651,910 ilovepdf_merged.pdf\n",
      "11/22/2022  08:49 PM            17,273 images (1).png\n",
      "11/10/2022  02:07 AM            12,123 images.png\n",
      "11/22/2022  08:53 PM            58,609 images__1_-removebg-preview.png\n",
      "11/10/2022  02:08 AM            31,457 images-removebg-preview.png\n",
      "11/02/2022  09:10 PM         1,725,614 IMG_20221101_224317 (1).jpg\n",
      "11/02/2022  09:10 PM         1,725,614 IMG_20221101_224317.jpg\n",
      "11/13/2022  11:49 AM            24,071 IMG_20221113_114726 (1).jpg\n",
      "11/13/2022  11:48 AM            61,531 IMG_20221113_114726.jpg\n",
      "03/02/2023  12:14 AM         4,966,859 IMG_20230301_234008.jpg\n",
      "02/16/2023  10:02 AM            55,078 Impetus Aptitude 2021 (1).pdf\n",
      "02/16/2023  03:31 AM            55,078 Impetus Aptitude 2021.pdf\n",
      "02/16/2023  10:03 AM            65,249 Impetus Computer 2021.pdf\n",
      "02/16/2023  10:03 AM            57,078 Impetus Logical Reasoning 2021.pdf\n",
      "02/16/2023  10:03 AM           163,318 Impetus Maths 2021 (1).pdf\n",
      "11/14/2022  06:15 PM           163,318 Impetus Maths 2021.pdf\n",
      "02/16/2023  10:03 AM            85,384 Impetus Study Material 2021 (1).pdf\n",
      "02/16/2023  02:06 AM            85,384 Impetus Study Material 2021.pdf\n",
      "01/21/2023  10:10 PM            93,270 indian-pulav-vegetable-rice-veg-biryani-basmati-rice.jpg\n",
      "01/21/2023  10:10 PM           187,871 indian-sweet-food-gulab-jamun-served-round-ceramic-bowl_466689-72000.jpg\n",
      "11/22/2022  03:15 AM            11,151 Ineuron_Firts_class_(python).ipynb\n",
      "10/27/2022  01:36 AM            94,260 Installation Resources (1).pdf\n",
      "10/27/2022  12:22 AM            94,260 Installation Resources.pdf\n",
      "02/20/2023  05:03 PM           123,645 Integrated-MSc-PhD_Cognitive-Science.pdf\n",
      "12/16/2022  01:26 PM           176,385 Internshala Trainings.html\n",
      "01/04/2023  12:41 PM         3,872,160 Introduction to SQL.pdf\n",
      "11/29/2022  09:07 PM           127,321 Intuitive-Behavioral-Design-An-Introduction-1.jpg\n",
      "02/10/2023  08:21 PM         2,677,932 invert_pdf_colors (1) (1).pdf\n",
      "02/22/2023  07:23 PM        14,711,878 invert_pdf_colors (1).pdf\n",
      "02/26/2023  01:45 AM        16,993,085 invert_pdf_colors (2).pdf\n",
      "02/24/2023  11:04 AM        16,993,085 invert_pdf_colors.pdf\n",
      "11/05/2022  05:44 PM        21,685,761 iterator generator.ipynb\n",
      "01/26/2023  03:39 AM         3,105,782 Jessie's Land.mp3\n",
      "10/28/2022  08:10 PM           508,525 JNUMCARegisteration.pdf\n",
      "11/05/2022  03:29 PM           118,156 JNURANK.pdf\n",
      "11/05/2022  03:30 PM           196,810 JNURANKPGDIPLOMA.pdf\n",
      "11/03/2022  03:08 AM           511,218 JNUREgisterationForm (1).pdf\n",
      "10/28/2022  08:06 PM           511,218 JNUREgisterationForm.pdf\n",
      "12/16/2022  01:26 PM            86,926 jquery-3.js\n",
      "11/06/2022  07:34 PM     3,467,576,113 KGF2SKMHD (2022) www.SkymoviesHD.cool 1080p HDRip Hindi CAM Dual x264 HC-ESub.mkv\n",
      "02/10/2023  08:16 PM         6,025,128 Last(4inONE) (1).pdf\n",
      "02/10/2023  08:14 PM         7,746,493 Last(4inONE).pdf\n",
      "12/16/2022  01:26 PM           228,604 learn.css\n",
      "12/16/2022  01:26 PM           246,963 learn.js\n",
      "12/29/2022  09:47 AM     1,185,348,608 LightroomClassic2020.9.1.0.(ask4pc).rar\n",
      "02/04/2023  11:52 AM            48,563 lN9wVbdoOJo-HD.jpg\n",
      "12/16/2022  01:26 PM           148,078 loading.css\n",
      "12/16/2022  01:26 PM             4,326 loading-btn.css\n",
      "11/05/2022  05:44 PM             4,052 logging (1) (1).ipynb\n",
      "11/05/2022  05:44 PM             4,052 logging (1).ipynb\n",
      "11/29/2022  03:41 PM            11,308 low-energy-icon-260nw-393611239.jpg\n",
      "11/29/2022  03:40 PM             5,608 low-energy-icon-260nw-393611239.webp\n",
      "11/29/2022  03:41 PM            20,596 low-energy-icon-260nw-393611239-removebg-preview.png\n",
      "02/23/2023  11:34 AM           242,517 MA_QP_Contest.pdf\n",
      "02/23/2023  11:45 AM           295,056 MA_QP_Contest23.pdf\n",
      "02/23/2023  11:45 AM           295,056 MA_QP_Contest23wih Answer.pdf\n",
      "11/18/2022  12:27 PM            96,114 machine learning projects with python code.pdf\n",
      "01/12/2023  05:55 PM         5,284,603 Maine Royaan  LofiRemix Tanveer Evan..mp3\n",
      "02/23/2023  11:13 AM            37,879 MA-key.pdf\n",
      "12/11/2022  11:43 AM        12,170,509 MASOOM SA Full Song (Audio) _ Madaari _ Irrfan Khan, Jimmy Shergill _ T-Series [music].mp3\n",
      "12/11/2022  11:41 AM         2,547,358 MASOOM SA Full Song (Audio) _ Madaari _ Irrfan Khan, Jimmy Shergill _ T-Series.webm\n",
      "12/11/2022  12:23 AM         2,959,996 Microsoft.HEVCVideoExtension_1.0.40203.0_x64__8wekyb3d8bbwe.Appx\n",
      "10/27/2022  06:05 PM            86,528 mingw-get-setup.exe\n",
      "10/26/2022  09:24 PM        74,687,656 Miniconda3-latest-Windows-x86_64.exe\n",
      "11/18/2022  12:34 PM         2,032,619 ML Interview Q&A.pdf\n",
      "01/26/2023  04:26 PM           443,850 Mockingbird - Eminem (lyrics)(story wa aesthetic).mp3\n",
      "12/09/2022  11:16 PM        51,421,720 musify.exe\n",
      "01/16/2023  06:25 PM         2,334,021 My Audio.mp3\n",
      "11/29/2022  02:05 PM        10,887,752 My Video.mp4\n",
      "02/26/2023  12:23 AM        15,901,823 NeuroONE.pdf\n",
      "02/22/2023  07:21 PM         3,401,409 NeuroTwo (1).pdf\n",
      "02/22/2023  07:19 PM         4,205,669 NeuroTwo.pdf\n",
      "02/22/2023  07:28 PM         3,401,356 NEUROTWOTWO (1).pdf\n",
      "02/22/2023  07:26 PM         4,041,010 NEUROTWOTWO.docx\n",
      "02/22/2023  07:27 PM         4,205,800 NEUROTWOTWO.pdf\n",
      "03/05/2023  10:06 PM        13,224,997 Nimcet Previous Year 2009-19 topic wise questions.pdf\n",
      "03/05/2023  10:20 PM        25,670,827 Nimcet Previous Year 2009-19 topic wise Solutions.pdf\n",
      "11/16/2022  09:06 PM            61,001 Nirbhay IIT JAM G128T39ApplicationForm (1).pdf\n",
      "11/16/2022  09:03 PM            61,001 Nirbhay IIT JAM G128T39ApplicationForm.pdf\n",
      "11/10/2022  12:45 AM           463,286 Notice_20221109202008.pdf\n",
      "11/16/2022  09:10 PM        22,817,158 ODE PDE MDR RAISINGHANIA .pdf\n",
      "12/09/2022  10:48 PM       157,551,800 odspotifyconverter.exe\n",
      "11/28/2022  12:01 AM     3,002,736,039 Of2021.09x64.(pass-ask4pc.net).rar\n",
      "03/11/2023  02:07 PM         1,092,141 Oh Baby (2023) South Hindi Dubbed UnCut {Hindi + Telugu} Full Movie HD 720p (mp3cut (mp3cut.net) (1).mp3\n",
      "03/11/2023  01:51 AM         1,092,141 Oh Baby (2023) South Hindi Dubbed UnCut {Hindi + Telugu} Full Movie HD 720p (mp3cut (mp3cut.net).mp3\n",
      "03/11/2023  01:51 AM         3,481,005 Oh Baby (2023) South Hindi Dubbed UnCut {Hindi + Telugu} Full Movie HD 720p (mp3cut.net).mp3\n",
      "11/05/2022  05:44 PM            39,946 oops 29th .ipynb\n",
      "11/05/2022  05:44 PM            41,224 oops 30th.ipynb\n",
      "11/05/2022  05:44 PM            33,507 oops class 1.ipynb\n",
      "02/26/2023  12:14 AM        37,302,119 Orientation_ The Planes of the Brain_ Neuroanatomy Video Lab - Brain Dissections.mp4\n",
      "11/22/2022  12:01 PM         1,204,776 Page3.pdf\n",
      "11/10/2022  09:15 PM           626,719 PallaviAdhar.pdf\n",
      "11/10/2022  09:17 PM           843,142 Pallaviadhar2 (1) (1).pdf\n",
      "11/10/2022  09:21 PM           843,142 Pallaviadhar2 (1) (2).pdf\n",
      "11/10/2022  09:16 PM           843,142 Pallaviadhar2 (1).pdf\n",
      "11/10/2022  09:16 PM           843,142 Pallaviadhar2.pdf\n",
      "01/21/2023  10:09 PM           101,612 Paneer_Makhani_Recipe-4.jpg\n",
      "10/26/2022  11:17 AM        40,287,920 PAssist_Std.agYNL.exe\n",
      "01/02/2023  10:01 AM            86,869 PaymentErrorS.jpeg\n",
      "01/06/2023  10:28 AM            84,480 PaymentProblemSS.jpeg\n",
      "12/16/2022  01:26 PM            18,662 player.js\n",
      "11/29/2022  09:09 PM           164,996 pngtree-computer-elements-of-vector-knowledge-png-image_4346189-removebg-preview.png\n",
      "12/31/2022  12:00 AM            22,663 poa anisha kamat 22ba111.docx\n",
      "11/29/2022  04:18 PM         3,522,231 Point Set of Topology in R _ Class Notes (1).pdf\n",
      "12/28/2022  02:52 PM     1,728,284,295 PP2022.22.1.1.(ask4pc).rar\n",
      "11/05/2022  05:44 PM            49,806 practice problem python basic (1).ipynb\n",
      "11/05/2022  05:42 PM            49,806 practice problem python basic.ipynb\n",
      "01/02/2023  10:04 AM            34,417 Print-9.pdf\n",
      "11/23/2022  12:35 AM           186,052 printform (1).pdf\n",
      "11/10/2022  01:05 AM           185,894 printform.pdf\n",
      "03/10/2023  03:00 AM         7,157,458 Probability Distribution Functions.pdf\n",
      "11/29/2022  03:38 PM            94,480 productivity-technology.jpeg\n",
      "12/28/2022  02:15 PM     3,130,767,803 PS2022.23.1.0.(ask4pc).rar\n",
      "02/26/2023  02:15 AM         8,390,405 PsychologyReview_26_1_Centrespread.pdf\n",
      "11/05/2022  05:44 PM            69,090 Python basic (3).ipynb\n",
      "12/18/2022  12:41 AM         5,687,845 Python Crash Course (SafefilekU.com).pdf\n",
      "02/25/2023  12:38 PM            27,734 python devloper.pdf\n",
      "12/23/2022  11:03 PM         2,482,254 Python.pdf\n",
      "12/13/2022  01:45 AM        79,537,536 R-4.2.2-win.exe\n",
      "01/17/2023  05:52 PM        16,218,577 RA(4-7).pdf\n",
      "01/17/2023  12:25 PM        25,511,889 RA(allinone).pdf\n",
      "11/22/2022  03:27 AM               188 README (1).md\n",
      "11/22/2022  03:27 AM               188 README.md\n",
      "11/01/2022  12:16 PM           301,260 Revised PG & ADOP schedule 2022.pdf\n",
      "11/01/2022  11:51 AM           178,989 Revised UG Counselling Schedule 2022-23.pdf\n",
      "03/06/2023  11:40 PM           658,417 riccardo-trimeloni-lc5iIZ7UO1w-unsplash.jpg\n",
      "11/10/2022  11:27 PM     4,259,251,543 RRR 2022 WebRip 1080p x265 HEVC 10bit Hindi DDP 5.1 ESub - mkvCinemas.mkv\n",
      "12/13/2022  01:51 AM       190,494,496 RStudio-2022.07.2-576.exe\n",
      "12/19/2022  12:31 AM    <DIR>          rtyu\n",
      "11/02/2022  11:43 PM         1,395,272 rufus-3.20.exe\n",
      "01/16/2023  11:45 PM     1,373,600,898 S3-20230116T181142Z-001.zip\n",
      "01/10/2023  07:27 PM         1,839,963 Sab Ke Sapnon Ki - KGF 128 Kbps.mp3\n",
      "11/29/2022  04:16 PM         3,040,394 SanjaySirLectureOne.pdf\n",
      "11/29/2022  04:21 PM         2,852,702 SanjaySirLectutreTwo.pdf\n",
      "12/07/2022  09:58 AM             5,948 Screenshot 2022-12-07 095802.png\n",
      "01/11/2023  10:42 PM            80,373 Screenshot 2023-01-11 224211.png\n",
      "02/20/2023  10:09 AM         2,818,139 sd.pdf\n",
      "10/28/2022  08:13 PM           116,889 sea-water-blue-galaxy.jpg\n",
      "11/03/2022  02:58 AM           166,648 selectionPrint.jpeg\n",
      "11/28/2022  12:18 AM           197,000 SetupProd_OffScrub.exe\n",
      "01/11/2023  10:40 PM            39,655 ShopAcer_ECN2202247600805 (1).pdf\n",
      "01/11/2023  10:32 PM            39,655 ShopAcer_ECN2202247600805.pdf\n",
      "01/11/2023  10:29 PM           110,728 ShopAcer_Invoice_NHQGBSI00324109DAB7600.pdf\n",
      "11/13/2022  11:36 AM            30,208 SignatureAnishat.jpeg\n",
      "11/13/2022  11:36 AM            32,251 SignatureAnishat.jpg\n",
      "11/01/2022  08:16 PM           195,301 slip.pdf\n",
      "11/26/2022  11:01 PM       464,834,700 Sony Vegas Pro 15.0.0 Build 177 + patch - Crackingpatching.com-20221126T172917Z-001.zip\n",
      "03/12/2023  09:10 AM    <DIR>          SoundWire_Server_setup7-8-10\n",
      "03/12/2023  09:10 AM         1,978,910 SoundWire_Server_setup7-8-10.zip\n",
      "12/16/2022  03:23 PM           814,896 SQL NOTES FOR INTERVIEWS PREPARATIONS .pdf\n",
      "11/22/2022  03:14 AM           140,604 String_list_indexing.ipynb\n",
      "10/27/2022  05:11 PM           284,566 subject eco hons.pdf\n",
      "10/27/2022  05:10 PM           321,881 subjext.pdf\n",
      "10/27/2022  08:59 PM        19,148,248 sublime_text_build_4126_x64_setup.exe\n",
      "11/22/2022  12:00 PM           750,458 Sudhanshu_6.pdf\n",
      "03/04/2023  01:43 AM           588,835 SUM_410430081892_346005397932_20230302.pdf\n",
      "03/13/2023  11:50 PM    <DIR>          Telegram Desktop\n",
      "03/14/2023  07:50 AM               621 test2.log\n",
      "12/04/2022  01:07 PM            57,761 Ticket For Delhi .pdf\n",
      "11/03/2022  03:57 PM         1,548,789 TicketToday (1).pdf\n",
      "11/03/2022  03:56 PM         1,548,789 TicketToday.pdf\n",
      "02/23/2023  11:14 AM         2,799,029 todayRK.pdf\n",
      "12/16/2022  01:26 PM             2,412 top-performer.png\n",
      "12/16/2022  01:26 PM           169,167 trainings-common.css\n",
      "11/01/2022  06:27 PM     2,835,426,468 Transformers Revenge of the Fallen (2009) 1080p 10bit BluRay x265 HEVC MSub [Dual-Audio] [Hindi DDP5.1 + English DD7.1]_Joy [UTR].mkv\n",
      "03/10/2023  04:10 AM         5,218,772 Trigonometry PYQ.pdf\n",
      "10/30/2022  02:17 PM        37,431,504 tsetup-x64.4.2.4.exe\n",
      "10/30/2022  07:18 PM           497,559 ttc economics.pdf\n",
      "11/05/2022  05:44 PM            56,979 Tuples , set , dict .ipynb\n",
      "12/16/2022  01:26 PM            10,639 ui-ace.js\n",
      "02/26/2023  11:55 PM            21,018 unnamed.png\n",
      "11/29/2022  05:12 PM           245,921 Untitled document (1).pdf\n",
      "11/29/2022  06:00 AM           242,292 Untitled document.pdf\n",
      "12/16/2022  01:26 PM           388,783 vendor.js\n",
      "10/26/2022  11:35 PM        86,038,200 VSCodeUserSetup-x64-1.72.2.exe\n",
      "01/29/2023  09:34 PM     2,867,589,363 Wednesday S01 720p Dual Audio.rar\n",
      "11/29/2022  09:52 PM         4,054,605 WhatsApp Audio 2022-11-29 at 9.51.54 PM.mpeg\n",
      "10/27/2022  05:33 PM            45,446 WhatsApp Image 2022-10-26 at 12.03.54 PM.jpeg\n",
      "11/07/2022  10:07 PM            17,087 WhatsApp Image 2022-11-07 at 10.05.20 PM.jpeg\n",
      "11/08/2022  11:22 PM           206,814 WhatsApp Image 2022-11-08 at 11.19.34 PM.jpeg\n",
      "11/08/2022  11:45 PM           162,770 WhatsApp Image 2022-11-08 at 11.19.35 PM.jpeg\n",
      "11/16/2022  06:13 PM            35,315 WhatsApp Image 2022-11-15 at 9.10.41 PM (1).jpeg\n",
      "11/15/2022  09:21 PM            35,315 WhatsApp Image 2022-11-15 at 9.10.41 PM.jpeg\n",
      "11/16/2022  02:26 PM            79,245 WhatsApp Image 2022-11-16 at 10.41.08 AM.jpeg\n",
      "11/16/2022  02:27 PM            63,988 WhatsApp Image 2022-11-16 at 10.41.08 AM.pdf\n",
      "12/22/2022  11:36 PM           264,341 WhatsApp Image 2022-12-22 at 11.36.40 PM.jpeg\n",
      "02/21/2023  09:57 PM           154,060 WhatsApp Image 2023-02-21 at 9.57.03 PM.jpeg\n",
      "03/01/2023  01:35 PM           217,366 WhatsApp Image 2023-02-28 at 7.23.43 PM.jpeg\n",
      "03/01/2023  09:36 AM            31,539 WhatsApp Image 2023-03-01 at 9.36.34 AM.jpeg\n",
      "11/17/2022  04:28 PM         5,048,588 WhatsApp Video 2022-11-17 at 3.41.41 PM.mp4\n",
      "10/31/2022  12:38 AM           101,937 WIN_20221031_00_37_02_Pro.jpg\n",
      "10/30/2022  10:39 PM         3,473,784 winrar-x64-611.exe\n",
      "01/20/2023  12:21 AM         2,549,929 xcv.zip\n",
      "12/04/2022  01:58 AM        75,363,943 Y2Mate.is - Falak Tu Garaj Tu Lyrical (Hindi)  KGF Chapter 2  Rocking Star Yash  Prashanth Neel  Ravi Basrur-5CP9fycq8pk-1080p-1660204623035.mp4\n",
      "01/09/2023  12:01 PM         4,035,741 Your Eyes X Teri Nazaron Ne (Barney Sku ft.Taqiya Zaman)  Starlight GC.mp3\n",
      "12/11/2022  11:40 AM        45,374,608 YTMp3_YTMP3WEB_v4.4.1.apk\n",
      "11/13/2022  11:40 AM           698,087 zxc.pdf\n",
      "             382 File(s) 39,878,453,765 bytes\n",
      "              15 Dir(s)  129,171,390,464 bytes free\n"
     ]
    }
   ],
   "source": [
    "%ls"
   ]
  },
  {
   "cell_type": "code",
   "execution_count": 6,
   "metadata": {
    "colab": {
     "base_uri": "https://localhost:8080/",
     "height": 36
    },
    "id": "84bswEJZJ5st",
    "outputId": "436b062d-5005-4116-cdc7-f61639f0f9e8"
   },
   "outputs": [
    {
     "data": {
      "text/plain": [
       "'C:\\\\Users\\\\Anil Kamat\\\\Downloads'"
      ]
     },
     "execution_count": 6,
     "metadata": {},
     "output_type": "execute_result"
    }
   ],
   "source": [
    "pwd()"
   ]
  },
  {
   "cell_type": "markdown",
   "metadata": {
    "id": "pP8MPUY3Lj3l"
   },
   "source": [
    "DEBUG\n",
    ",INFO\n",
    ",WARNING\n",
    ",ERROR\n",
    ",CRITICAL"
   ]
  },
  {
   "cell_type": "code",
   "execution_count": 2,
   "metadata": {
    "colab": {
     "base_uri": "https://localhost:8080/"
    },
    "id": "sDBu75z6KSn3",
    "outputId": "308e5cf6-eeeb-4c2b-e036-bb0a15181792"
   },
   "outputs": [
    {
     "name": "stderr",
     "output_type": "stream",
     "text": [
      "WARNING:root:this is my warning log\n",
      "ERROR:root:gthis is my error log\n"
     ]
    }
   ],
   "source": [
    "logging.info(\"this is my info log\")\n",
    "logging.warning('this is my warning log')\n",
    "logging.debug(\"this is my debug log\")\n",
    "logging.error(\"gthis is my error log\")"
   ]
  },
  {
   "cell_type": "code",
   "execution_count": 7,
   "metadata": {
    "colab": {
     "base_uri": "https://localhost:8080/"
    },
    "id": "H3yUerihKq3a",
    "outputId": "8db8983f-c3f0-447e-e682-cc8a156ec1c1"
   },
   "outputs": [
    {
     "name": "stdout",
     "output_type": "stream",
     "text": [
      "Python 3.9.12\n"
     ]
    }
   ],
   "source": [
    "!python --version"
   ]
  },
  {
   "cell_type": "code",
   "execution_count": 11,
   "metadata": {
    "id": "mKCcOFyxMls9"
   },
   "outputs": [],
   "source": [
    "logging.shutdown()"
   ]
  },
  {
   "cell_type": "code",
   "execution_count": 2,
   "metadata": {},
   "outputs": [],
   "source": [
    "logging.basicConfig(filename=\"testtest.log\", level=logging.DEBUG, format= '%(asctime)s%(levelname)s%(message)s')"
   ]
  },
  {
   "cell_type": "code",
   "execution_count": 4,
   "metadata": {},
   "outputs": [],
   "source": [
    "logging.info(\"this is my info log\")\n",
    "logging.warning('this is my warning log')\n",
    "logging.debug(\"this is my debug log\")\n",
    "logging.error(\"gthis is my error log\")"
   ]
  },
  {
   "cell_type": "code",
   "execution_count": 5,
   "metadata": {},
   "outputs": [],
   "source": [
    "logging.info(\"this is my info log\")\n",
    "logging.warning('this is my warning log')\n",
    "logging.debug(\"this is my debug log\")\n",
    "logging.error(\"gthis is my error log\")"
   ]
  },
  {
   "cell_type": "code",
   "execution_count": 6,
   "metadata": {},
   "outputs": [],
   "source": [
    "#error warning info debug is the priority levle of logs"
   ]
  },
  {
   "cell_type": "code",
   "execution_count": 3,
   "metadata": {},
   "outputs": [],
   "source": [
    "def dividebyzero(a,b):\n",
    "    logging.info(\"this is a start of my code , ia m trying to enter %s and %s\", a,b)\n",
    "    try:\n",
    "        div=a/b\n",
    "        logging.info(\"executed Succesfully\")\n",
    "    except Exception as e:\n",
    "        logging.error(\"error has happened\")\n",
    "        logging.exception(\"Exception occured\" + str(e))"
   ]
  },
  {
   "cell_type": "code",
   "execution_count": 4,
   "metadata": {},
   "outputs": [],
   "source": [
    "dividebyzero(4,5)"
   ]
  },
  {
   "cell_type": "code",
   "execution_count": 5,
   "metadata": {},
   "outputs": [],
   "source": [
    "dividebyzero(4,0)"
   ]
  },
  {
   "cell_type": "code",
   "execution_count": null,
   "metadata": {},
   "outputs": [],
   "source": []
  }
 ],
 "metadata": {
  "colab": {
   "provenance": []
  },
  "kernelspec": {
   "display_name": "Python 3.8.10 64-bit",
   "language": "python",
   "name": "python3"
  },
  "language_info": {
   "codemirror_mode": {
    "name": "ipython",
    "version": 3
   },
   "file_extension": ".py",
   "mimetype": "text/x-python",
   "name": "python",
   "nbconvert_exporter": "python",
   "pygments_lexer": "ipython3",
   "version": "3.8.10"
  },
  "vscode": {
   "interpreter": {
    "hash": "e7370f93d1d0cde622a1f8e1c04877d8463912d04d973331ad4851f04de6915a"
   }
  }
 },
 "nbformat": 4,
 "nbformat_minor": 1
}
