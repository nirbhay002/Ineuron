{
 "cells": [
  {
   "cell_type": "markdown",
   "metadata": {
    "id": "dpfPbgv7z656"
   },
   "source": [
    "what is exception Handling and why it s required ?"
   ]
  },
  {
   "cell_type": "code",
   "execution_count": null,
   "metadata": {
    "colab": {
     "base_uri": "https://localhost:8080/"
    },
    "id": "tceY-dXEBxhk",
    "outputId": "24bebbe8-c476-4396-933a-ff6e0da09966"
   },
   "outputs": [
    {
     "data": {
      "text/plain": [
       "0.5"
      ]
     },
     "execution_count": 1,
     "metadata": {},
     "output_type": "execute_result"
    }
   ],
   "source": [
    "a=5\n",
    "a/10"
   ]
  },
  {
   "cell_type": "code",
   "execution_count": null,
   "metadata": {
    "colab": {
     "base_uri": "https://localhost:8080/",
     "height": 172
    },
    "id": "-aeectmX1h5S",
    "outputId": "d661d9b6-c985-452d-a628-4ed4f7dafb8b"
   },
   "outputs": [
    {
     "ename": "ZeroDivisionError",
     "evalue": "ignored",
     "output_type": "error",
     "traceback": [
      "\u001b[0;31m---------------------------------------------------------------------------\u001b[0m",
      "\u001b[0;31mZeroDivisionError\u001b[0m                         Traceback (most recent call last)",
      "\u001b[0;32m<ipython-input-3-8285a70f88a6>\u001b[0m in \u001b[0;36m<module>\u001b[0;34m\u001b[0m\n\u001b[0;32m----> 1\u001b[0;31m \u001b[0ma\u001b[0m\u001b[0;34m/\u001b[0m\u001b[0;36m0\u001b[0m \u001b[0;31m#it is an exception\u001b[0m\u001b[0;34m\u001b[0m\u001b[0;34m\u001b[0m\u001b[0m\n\u001b[0m",
      "\u001b[0;31mZeroDivisionError\u001b[0m: division by zero"
     ]
    }
   ],
   "source": [
    "a/0 #it is an exception"
   ]
  },
  {
   "cell_type": "code",
   "execution_count": null,
   "metadata": {
    "id": "nAAuYagS1jNx"
   },
   "outputs": [],
   "source": [
    "#but same thing if we discuss in python numpy , there divide by  zero doesnn't give error because there is a term exist infinity"
   ]
  },
  {
   "cell_type": "code",
   "execution_count": null,
   "metadata": {
    "id": "VqVQjnyJ2Prv"
   },
   "outputs": [],
   "source": [
    "#now from today onwards you have to start using exception handling in every code "
   ]
  },
  {
   "cell_type": "code",
   "execution_count": null,
   "metadata": {
    "colab": {
     "base_uri": "https://localhost:8080/",
     "height": 130
    },
    "id": "qSnbp5hA27De",
    "outputId": "a800956e-533d-4d08-a6a6-f012119ae740"
   },
   "outputs": [
    {
     "ename": "SyntaxError",
     "evalue": "ignored",
     "output_type": "error",
     "traceback": [
      "\u001b[0;36m  File \u001b[0;32m\"<ipython-input-7-6c938bb88e5d>\"\u001b[0;36m, line \u001b[0;32m4\u001b[0m\n\u001b[0;31m    f.write(\"sdf\")\u001b[0m\n\u001b[0m                  ^\u001b[0m\n\u001b[0;31mSyntaxError\u001b[0m\u001b[0;31m:\u001b[0m unexpected EOF while parsing\n"
     ]
    }
   ],
   "source": [
    "#put suspicious code into try block\n",
    "try:\n",
    "  f= open('test.txt',\"r\")\n",
    "  f.write(\"sdf\")\n",
    "\n",
    "#it will give syntactical error as except block is missing"
   ]
  },
  {
   "cell_type": "markdown",
   "metadata": {
    "id": "YzPr0TZsIfs4"
   },
   "source": [
    "there are two tgype of error , one is complile time error(syntactical error) and second is run time error"
   ]
  },
  {
   "cell_type": "code",
   "execution_count": null,
   "metadata": {
    "colab": {
     "base_uri": "https://localhost:8080/"
    },
    "id": "LBz7dB2IIfAq",
    "outputId": "45263ae7-1339-4434-ef1d-43143862208f"
   },
   "outputs": [
    {
     "name": "stdout",
     "output_type": "stream",
     "text": [
      "2\n",
      "4.5\n"
     ]
    }
   ],
   "source": [
    "try:\n",
    "  a=9\n",
    "  b=int(input())\n",
    "  print(a/b)\n",
    "except:\n",
    "  print(\"dfg\")"
   ]
  },
  {
   "cell_type": "markdown",
   "metadata": {
    "id": "gNUKYiZnKgGf"
   },
   "source": [
    "is try block only prevent runtime eroors?\n",
    "it is mandatory to use try block and except block together, if any one is not present it is syntactical error"
   ]
  },
  {
   "cell_type": "code",
   "execution_count": null,
   "metadata": {
    "colab": {
     "base_uri": "https://localhost:8080/",
     "height": 130
    },
    "id": "CO05KiHBIQj_",
    "outputId": "ebaa2d72-4366-4ded-8f47-1600026f4024"
   },
   "outputs": [
    {
     "ename": "SyntaxError",
     "evalue": "ignored",
     "output_type": "error",
     "traceback": [
      "\u001b[0;36m  File \u001b[0;32m\"<ipython-input-16-bea98273b843>\"\u001b[0;36m, line \u001b[0;32m3\u001b[0m\n\u001b[0;31m    for i  range(len(l)):\u001b[0m\n\u001b[0m           ^\u001b[0m\n\u001b[0;31mSyntaxError\u001b[0m\u001b[0;31m:\u001b[0m invalid syntax\n"
     ]
    }
   ],
   "source": [
    "try:\n",
    "  l=[4678,4567,5678]\n",
    "  for i  range(len(l)):    #'in' is missing\n",
    "    print(l)\n",
    "except:\n",
    "  print(\"er\")\n",
    "\n",
    "#instead we put it in try-except block, we are getting error bcz exception handling is\n",
    "#use to solve run time error but in this case it is syntactical error."
   ]
  },
  {
   "cell_type": "code",
   "execution_count": 1,
   "metadata": {
    "colab": {
     "base_uri": "https://localhost:8080/"
    },
    "id": "wTQPhW00K-nu",
    "outputId": "b2bcc359-bd2b-48d3-90b7-6904ecaf5e64"
   },
   "outputs": [
    {
     "name": "stdout",
     "output_type": "stream",
     "text": [
      "4678\n",
      "4567\n",
      "5678\n",
      "er list index out of range\n",
      "My name is Nirbhay\n"
     ]
    }
   ],
   "source": [
    "try:\n",
    "  l=[4678,4567,5678]\n",
    "  for i in range(len(l)+1):\n",
    "    print(l[i])               #here we will get error index out of range\n",
    "except Exception as e:       #here we are storing name of error in e\n",
    "  print(\"er\", e)\n",
    "\n",
    "print('My name is Nirbhay') #if we haven't use exception-handlig, then we were not able to print this line\n",
    "#so basically exception handling is use to make our code run even if there are some run time error"
   ]
  },
  {
   "cell_type": "markdown",
   "metadata": {
    "id": "O72KgA2oM9GT"
   },
   "source": [
    "exception is a super class of all the exception you can think about , it explains what error encountered "
   ]
  },
  {
   "cell_type": "code",
   "execution_count": null,
   "metadata": {
    "colab": {
     "base_uri": "https://localhost:8080/"
    },
    "id": "xVe-xQxVLsJy",
    "outputId": "3562066f-f289-4c42-fc4a-23e15b4db9d1"
   },
   "outputs": [
    {
     "name": "stdout",
     "output_type": "stream",
     "text": [
      "sldnflds\n",
      "invalid literal for int() with base 10: 'sldnflds'\n"
     ]
    }
   ],
   "source": [
    "try:\n",
    "  a=int(input())\n",
    "  b=int(input())\n",
    "except Exception as e :\n",
    "  print(e)\n",
    "\n",
    "print('My name is Nirbhay') #so even given input is wrong, this line will run\n",
    "#So basicallly exceptional handling saves our code from crashing"
   ]
  },
  {
   "cell_type": "code",
   "execution_count": null,
   "metadata": {
    "colab": {
     "base_uri": "https://localhost:8080/"
    },
    "id": "csdHK2LwV_QA",
    "outputId": "51c50f51-22b1-49bb-9934-f9289fbac1ca"
   },
   "outputs": [
    {
     "name": "stdout",
     "output_type": "stream",
     "text": [
      "er\n",
      "invalid literal for int() with base 10: 'er'\n"
     ]
    }
   ],
   "source": [
    "try:\n",
    "  d={\"key1\":\"123\",\"key2\":\"234\",\"key3\":\"90\"}\n",
    "  d[\"key4\"]=int(input())\n",
    "except Exception as sd:\n",
    "  print(sd)"
   ]
  },
  {
   "cell_type": "code",
   "execution_count": null,
   "metadata": {
    "colab": {
     "base_uri": "https://localhost:8080/"
    },
    "id": "D2Bfui2XQsjB",
    "outputId": "ba4a4bf1-d37f-4291-e29b-e8641d16231c"
   },
   "outputs": [
    {
     "name": "stdout",
     "output_type": "stream",
     "text": [
      "op\n",
      "invalid literal for int() with base 10: 'op'\n"
     ]
    }
   ],
   "source": [
    "try:\n",
    "  a=int(input())\n",
    "  b=int(input())\n",
    "except ValueError as e :\n",
    "  print(e)"
   ]
  },
  {
   "cell_type": "code",
   "execution_count": null,
   "metadata": {
    "colab": {
     "base_uri": "https://localhost:8080/",
     "height": 235
    },
    "id": "ehHz4ZEdQiMe",
    "outputId": "f7e3e1a4-7c1c-4f55-9311-426f9a86202d"
   },
   "outputs": [
    {
     "ename": "FileNotFoundError",
     "evalue": "ignored",
     "output_type": "error",
     "traceback": [
      "\u001b[0;31m---------------------------------------------------------------------------\u001b[0m",
      "\u001b[0;31mFileNotFoundError\u001b[0m                         Traceback (most recent call last)",
      "\u001b[0;32m<ipython-input-5-14865e539148>\u001b[0m in \u001b[0;36m<module>\u001b[0;34m\u001b[0m\n\u001b[1;32m      1\u001b[0m \u001b[0;32mtry\u001b[0m\u001b[0;34m:\u001b[0m\u001b[0;34m\u001b[0m\u001b[0;34m\u001b[0m\u001b[0m\n\u001b[1;32m      2\u001b[0m \u001b[0;34m\u001b[0m\u001b[0m\n\u001b[0;32m----> 3\u001b[0;31m   \u001b[0mf\u001b[0m\u001b[0;34m=\u001b[0m\u001b[0mopen\u001b[0m\u001b[0;34m(\u001b[0m\u001b[0;34m\"test2\"\u001b[0m\u001b[0;34m,\u001b[0m\u001b[0;34m\"r\"\u001b[0m\u001b[0;34m)\u001b[0m\u001b[0;34m\u001b[0m\u001b[0;34m\u001b[0m\u001b[0m\n\u001b[0m\u001b[1;32m      4\u001b[0m \u001b[0;32mexcept\u001b[0m \u001b[0mValueError\u001b[0m \u001b[0;32mas\u001b[0m \u001b[0me\u001b[0m \u001b[0;34m:\u001b[0m\u001b[0;34m\u001b[0m\u001b[0;34m\u001b[0m\u001b[0m\n\u001b[1;32m      5\u001b[0m   \u001b[0mprint\u001b[0m\u001b[0;34m(\u001b[0m\u001b[0me\u001b[0m\u001b[0;34m)\u001b[0m\u001b[0;34m\u001b[0m\u001b[0;34m\u001b[0m\u001b[0m\n",
      "\u001b[0;31mFileNotFoundError\u001b[0m: [Errno 2] No such file or directory: 'test2'"
     ]
    }
   ],
   "source": [
    "try:\n",
    "\n",
    "  f=open(\"test2\",\"r\")\n",
    "except ValueError as e :\n",
    "  print(e)"
   ]
  },
  {
   "cell_type": "code",
   "execution_count": 1,
   "metadata": {},
   "outputs": [
    {
     "name": "stdout",
     "output_type": "stream",
     "text": [
      "this is my handler\n",
      "1\n",
      "2\n",
      "3\n",
      "4\n",
      "5\n"
     ]
    }
   ],
   "source": [
    "#you can make any no. of try block and can also make nested try block.\n",
    "try :\n",
    "    f = open(\"test1\" , 'r')\n",
    "    f.write(\"this is my code with expceptoi handling\")\n",
    "    print(\"this is my code after write ops\")\n",
    "except : \n",
    "    print(\"this is my handler\")\n",
    "try :\n",
    "    l = [1,2,3,4,5]\n",
    "    for i in l :\n",
    "        print(i)\n",
    "except:\n",
    "    print(\"this is a handler for for loop\")"
   ]
  },
  {
   "cell_type": "code",
   "execution_count": null,
   "metadata": {
    "colab": {
     "base_uri": "https://localhost:8080/"
    },
    "id": "ie402pdAaiEE",
    "outputId": "bbf5d6f4-703a-47ba-c5c3-e71e3d8decf8"
   },
   "outputs": [
    {
     "name": "stdout",
     "output_type": "stream",
     "text": [
      "Multiple Except Block\n",
      "[Errno 2] No such file or directory: 'test2'\n"
     ]
    }
   ],
   "source": [
    "#the below code is also comletely fine\n",
    "try:\n",
    "  f=open(\"test2\",\"r\")\n",
    "except ValueError as e :\n",
    "  print(e)\n",
    "except FileNotFoundError as e1:\n",
    "  print(\"Multiple Except Block\")\n",
    "  print(e1)"
   ]
  },
  {
   "cell_type": "code",
   "execution_count": null,
   "metadata": {
    "colab": {
     "base_uri": "https://localhost:8080/"
    },
    "id": "gU4Ws1__bKII",
    "outputId": "97c6def3-4186-403e-9448-3a37dd8ed0dc"
   },
   "outputs": [
    {
     "name": "stdout",
     "output_type": "stream",
     "text": [
      "Multiple Except Block\n",
      "[Errno 2] No such file or directory: 'test2'\n"
     ]
    }
   ],
   "source": [
    "try:\n",
    "  f=open(\"test2\",\"r\")\n",
    "except ValueError as e :\n",
    "  print(e)\n",
    "except FileNotFoundError as e1:\n",
    "  print(\"Multiple Except Block\")\n",
    "  print(e1)\n",
    "except Exception as w1:\n",
    "  print(w1,\"exception Class\")"
   ]
  },
  {
   "cell_type": "markdown",
   "metadata": {
    "id": "Bizkwmbz15n6"
   },
   "source": [
    "try , except & **else**"
   ]
  },
  {
   "cell_type": "code",
   "execution_count": null,
   "metadata": {
    "colab": {
     "base_uri": "https://localhost:8080/"
    },
    "id": "Y1K4NfYP0MfZ",
    "outputId": "41fdc665-8164-4d06-f75d-a007bbb2eb64"
   },
   "outputs": [
    {
     "name": "stdout",
     "output_type": "stream",
     "text": [
      "thivnfhgb [Errno 2] No such file or directory: 'test2'\n"
     ]
    }
   ],
   "source": [
    "#If try block has received some sort of error, in that case it will come to except block and else block will not be executed\n",
    "#i.e. else-block will execute once my try block will be excecuted succesfully\n",
    "try:\n",
    "  f=open(\"test2\",\"r\")\n",
    "  file.write(\"tjkkjhkb\")\n",
    "except Exception as e :\n",
    "  print(\"thivnfhgb\",e)\n",
    "else:\n",
    "  print(\"this will execute once my try block will be excecuted succesfully\")\n",
    "  f.close"
   ]
  },
  {
   "cell_type": "code",
   "execution_count": null,
   "metadata": {
    "colab": {
     "base_uri": "https://localhost:8080/"
    },
    "id": "pQ2nCMvX2_aB",
    "outputId": "0209d67c-10df-48b1-a00f-8d4016959442"
   },
   "outputs": [
    {
     "name": "stdout",
     "output_type": "stream",
     "text": [
      "this will execute once my try block will be excecuted succesfully\n"
     ]
    }
   ],
   "source": [
    "try :\n",
    "  f=open(\"test2\",\"w\")\n",
    "  f.write(\"tjkkjhkb\")\n",
    "except Exception as e :\n",
    "  print(\"thivnfhgb\",e)\n",
    "else:\n",
    "  print(\"this will execute once my try block will be excecuted succesfully\")\n",
    "  f.close()"
   ]
  },
  {
   "cell_type": "markdown",
   "metadata": {
    "id": "4fvYcMnc4fmd"
   },
   "source": [
    "Finally block"
   ]
  },
  {
   "cell_type": "code",
   "execution_count": 1,
   "metadata": {
    "colab": {
     "base_uri": "https://localhost:8080/"
    },
    "id": "41-hW_7X43NS",
    "outputId": "e367aec5-8073-4c19-ae1f-9a3d05ddfad3"
   },
   "outputs": [
    {
     "name": "stdout",
     "output_type": "stream",
     "text": [
      "thivnfhgb [Errno 2] No such file or directory: 'test3'\n",
      "this is for sure\n"
     ]
    }
   ],
   "source": [
    "try:\n",
    "  f=open(\"test3\",\"r\")\n",
    "except Exception as e :\n",
    "  print(\"thivnfhgb\",e)\n",
    "else:\n",
    "    print(\"do this on succesfull eectuion of try block \")\n",
    "finally:\n",
    "  print(\"this is for sure\")"
   ]
  },
  {
   "cell_type": "markdown",
   "metadata": {
    "id": "mnHkZbdQ5ZQC"
   },
   "source": [
    "finally is a kind of block which will execute all the time , whether try block is failed or it is not failed , and it will execute for sure"
   ]
  },
  {
   "cell_type": "code",
   "execution_count": null,
   "metadata": {
    "id": "bs6uYiBX5B8z"
   },
   "outputs": [],
   "source": [
    " #this doesn't mean that if there is error in finally block , then it will be handled also\n",
    " "
   ]
  },
  {
   "cell_type": "code",
   "execution_count": null,
   "metadata": {
    "colab": {
     "base_uri": "https://localhost:8080/"
    },
    "id": "F-ednpzwY0Cw",
    "outputId": "39e637d0-580d-4ef9-a912-a81377e53026"
   },
   "outputs": [
    {
     "name": "stdout",
     "output_type": "stream",
     "text": [
      "tyr\n",
      "this is my input Error invalid literal for int() with base 10: 'tyr'\n"
     ]
    }
   ],
   "source": [
    "def askint():\n",
    "  try:\n",
    "    a=int(input())\n",
    "    return a\n",
    "  except Exception as e:\n",
    "    print(\"this is my input Error\",e)\n",
    "\n",
    "askint()"
   ]
  },
  {
   "cell_type": "markdown",
   "metadata": {},
   "source": [
    "create a function which will keep on asking untill and unless we don't input a int value"
   ]
  },
  {
   "cell_type": "code",
   "execution_count": 11,
   "metadata": {},
   "outputs": [],
   "source": [
    "#written by Nirbhay\n",
    "def till():\n",
    "  while True:\n",
    "    try:\n",
    "      a = int(input(\"Enter an integer\"))\n",
    "      print('your input is',a)\n",
    "      break\n",
    "    except:\n",
    "      print('you have to input a integer')"
   ]
  },
  {
   "cell_type": "code",
   "execution_count": 13,
   "metadata": {
    "colab": {
     "base_uri": "https://localhost:8080/",
     "height": 269
    },
    "id": "cFJlkEIVkJFH",
    "outputId": "0f93875d-e1f5-4f06-e32c-92f049daf076"
   },
   "outputs": [
    {
     "name": "stdout",
     "output_type": "stream",
     "text": [
      "you have to input a integer\n",
      "you have to input a integer\n",
      "you have to input a integer\n",
      "you have to input a integer\n",
      "your input is 56\n"
     ]
    }
   ],
   "source": [
    "till()"
   ]
  },
  {
   "cell_type": "code",
   "execution_count": null,
   "metadata": {
    "colab": {
     "base_uri": "https://localhost:8080/",
     "height": 122
    },
    "id": "3ws0VaM9kLAQ",
    "outputId": "ee5f8d16-918b-4f20-ffe3-f21ecffa2bc4"
   },
   "outputs": [
    {
     "name": "stdout",
     "output_type": "stream",
     "text": [
      "enter the interger:ty\n",
      "Nah, you did not enter an integer, please enter an integer. ERROR:  invalid literal for int() with base 10: 'ty'\n",
      "enter the interger:jjj\n",
      "Nah, you did not enter an integer, please enter an integer. ERROR:  invalid literal for int() with base 10: 'jjj'\n",
      "enter the interger:789\n"
     ]
    },
    {
     "data": {
      "application/vnd.google.colaboratory.intrinsic+json": {
       "type": "string"
      },
      "text/plain": [
       "'yes, you have entered an integer'"
      ]
     },
     "execution_count": 8,
     "metadata": {},
     "output_type": "execute_result"
    }
   ],
   "source": [
    "def fun1():\n",
    "  flag=True\n",
    "  while flag:\n",
    "    try:\n",
    "      a=int(input(\"enter the interger:\"))\n",
    "      if type(a)== int:\n",
    "        return \"yes, you have entered an integer\"\n",
    "        flag=False\n",
    "    except Exception as e:\n",
    "       print(\"Nah, you did not enter an integer, please enter an integer. ERROR: \",e)\n",
    "fun1()"
   ]
  },
  {
   "cell_type": "code",
   "execution_count": null,
   "metadata": {
    "colab": {
     "base_uri": "https://localhost:8080/"
    },
    "id": "jIoMUmKZm0T3",
    "outputId": "17820dee-87bf-4c03-f688-ce52725e318e"
   },
   "outputs": [
    {
     "name": "stdout",
     "output_type": "stream",
     "text": [
      "uio\n",
      "enter the input again invalid literal for int() with base 10: 'uio'\n",
      "uio\n",
      "enter the input again invalid literal for int() with base 10: 'uio'\n",
      "789\n"
     ]
    }
   ],
   "source": [
    "def integer():\n",
    "  while True:\n",
    "    \"\"\"Function asks for an integer unless provided otherwise\"\"\"\n",
    "    try:\n",
    "      x= int(input())\n",
    "      break\n",
    "    except ValueError as e:\n",
    "        print(\"enter the input again\",e)\n",
    "integer()"
   ]
  },
  {
   "cell_type": "code",
   "execution_count": null,
   "metadata": {
    "colab": {
     "base_uri": "https://localhost:8080/"
    },
    "id": "GUq4nkEGoaW6",
    "outputId": "48bf002c-199d-426d-f35c-12aee9825d1e"
   },
   "outputs": [
    {
     "name": "stdout",
     "output_type": "stream",
     "text": [
      "uio\n",
      "Sorry, I didn't understand that.\n",
      "bnmkj\n",
      "Sorry, I didn't understand that.\n",
      "678\n"
     ]
    },
    {
     "data": {
      "text/plain": [
       "678"
      ]
     },
     "execution_count": 14,
     "metadata": {},
     "output_type": "execute_result"
    }
   ],
   "source": [
    "def getint():\n",
    "  while True:\n",
    "    try:\n",
    "      value = int(input()) \n",
    "    except ValueError:\n",
    "      print(\"Sorry, I didn't understand that.\") \n",
    "      continue\n",
    "    if value < 0: \n",
    "      print(\"Sorry, your response must not be negative.\")\n",
    "      continue\n",
    "    else:\n",
    "        break\n",
    "  return value\n",
    "getint()"
   ]
  },
  {
   "cell_type": "code",
   "execution_count": null,
   "metadata": {
    "id": "xErpeufPpCIt"
   },
   "outputs": [],
   "source": [
    "def askint():\n",
    "  while True:\n",
    "    try:\n",
    "      num = int(input(\"enter only number\"))\n",
    "      break\n",
    "    except ValueError:\n",
    "      print(\"Please input number only...\")\n",
    "      continue"
   ]
  },
  {
   "cell_type": "code",
   "execution_count": null,
   "metadata": {
    "colab": {
     "base_uri": "https://localhost:8080/"
    },
    "id": "RW-8tXU1qBEA",
    "outputId": "69a1dee5-688b-4dc7-fbfa-64566000eda6"
   },
   "outputs": [
    {
     "name": "stdout",
     "output_type": "stream",
     "text": [
      "enter only numberert\n",
      "Please input number only...\n",
      "enter only numberhji\n",
      "Please input number only...\n",
      "enter only number234\n"
     ]
    }
   ],
   "source": [
    "askint()"
   ]
  },
  {
   "cell_type": "markdown",
   "metadata": {
    "id": "XqS4MoZfvfcH"
   },
   "source": [
    "\n",
    "how to raise our own exception"
   ]
  },
  {
   "cell_type": "code",
   "execution_count": null,
   "metadata": {
    "id": "5Y86XWjCqDOb"
   },
   "outputs": [],
   "source": [
    "def test(a):\n",
    "  if a<0:\n",
    "    raise Exception(a)\n",
    "  return a\n"
   ]
  },
  {
   "cell_type": "code",
   "execution_count": null,
   "metadata": {
    "colab": {
     "base_uri": "https://localhost:8080/",
     "height": 269
    },
    "id": "DgmhgClrwGkR",
    "outputId": "f930387e-75af-46b7-b138-c1d7437a174a"
   },
   "outputs": [
    {
     "ename": "Exception",
     "evalue": "ignored",
     "output_type": "error",
     "traceback": [
      "\u001b[0;31m---------------------------------------------------------------------------\u001b[0m",
      "\u001b[0;31mException\u001b[0m                                 Traceback (most recent call last)",
      "\u001b[0;32m<ipython-input-18-3d6175c8b8ad>\u001b[0m in \u001b[0;36m<module>\u001b[0;34m\u001b[0m\n\u001b[0;32m----> 1\u001b[0;31m \u001b[0mtest\u001b[0m\u001b[0;34m(\u001b[0m\u001b[0;34m-\u001b[0m\u001b[0;36m3\u001b[0m\u001b[0;34m)\u001b[0m\u001b[0;34m\u001b[0m\u001b[0;34m\u001b[0m\u001b[0m\n\u001b[0m",
      "\u001b[0;32m<ipython-input-17-c1ebd44f377a>\u001b[0m in \u001b[0;36mtest\u001b[0;34m(a)\u001b[0m\n\u001b[1;32m      1\u001b[0m \u001b[0;32mdef\u001b[0m \u001b[0mtest\u001b[0m\u001b[0;34m(\u001b[0m\u001b[0ma\u001b[0m\u001b[0;34m)\u001b[0m\u001b[0;34m:\u001b[0m\u001b[0;34m\u001b[0m\u001b[0;34m\u001b[0m\u001b[0m\n\u001b[1;32m      2\u001b[0m   \u001b[0;32mif\u001b[0m \u001b[0ma\u001b[0m\u001b[0;34m<\u001b[0m\u001b[0;36m0\u001b[0m\u001b[0;34m:\u001b[0m\u001b[0;34m\u001b[0m\u001b[0;34m\u001b[0m\u001b[0m\n\u001b[0;32m----> 3\u001b[0;31m     \u001b[0;32mraise\u001b[0m \u001b[0mException\u001b[0m\u001b[0;34m(\u001b[0m\u001b[0ma\u001b[0m\u001b[0;34m)\u001b[0m\u001b[0;34m\u001b[0m\u001b[0;34m\u001b[0m\u001b[0m\n\u001b[0m\u001b[1;32m      4\u001b[0m   \u001b[0;32mreturn\u001b[0m \u001b[0ma\u001b[0m\u001b[0;34m\u001b[0m\u001b[0;34m\u001b[0m\u001b[0m\n",
      "\u001b[0;31mException\u001b[0m: -3"
     ]
    }
   ],
   "source": [
    "test(-3)"
   ]
  },
  {
   "cell_type": "code",
   "execution_count": null,
   "metadata": {
    "id": "FKZHTUwHwJVK"
   },
   "outputs": [],
   "source": [
    "#raise is a reserved keyword that help you to raise an exception according to your condition"
   ]
  },
  {
   "cell_type": "code",
   "execution_count": null,
   "metadata": {
    "colab": {
     "base_uri": "https://localhost:8080/"
    },
    "id": "MgZcEFy_wwFt",
    "outputId": "1b77d57b-fe86-4fe6-f1f3-1bb025499426"
   },
   "outputs": [
    {
     "data": {
      "text/plain": [
       "7"
      ]
     },
     "execution_count": 21,
     "metadata": {},
     "output_type": "execute_result"
    }
   ],
   "source": [
    "test(7)"
   ]
  },
  {
   "cell_type": "code",
   "execution_count": 14,
   "metadata": {
    "id": "yuD-VDKmw4bL"
   },
   "outputs": [],
   "source": [
    "def restric(j):\n",
    "  if j == \"sudh\":\n",
    "    raise ZeroDivisionError(\"l is not allowed\",j)\n",
    "  return j"
   ]
  },
  {
   "cell_type": "code",
   "execution_count": 15,
   "metadata": {},
   "outputs": [
    {
     "ename": "ZeroDivisionError",
     "evalue": "('l is not allowed', 'sudh')",
     "output_type": "error",
     "traceback": [
      "\u001b[0;31m---------------------------------------------------------------------------\u001b[0m",
      "\u001b[0;31mZeroDivisionError\u001b[0m                         Traceback (most recent call last)",
      "Cell \u001b[0;32mIn[15], line 1\u001b[0m\n\u001b[0;32m----> 1\u001b[0m \u001b[43mrestric\u001b[49m\u001b[43m(\u001b[49m\u001b[38;5;124;43m'\u001b[39;49m\u001b[38;5;124;43msudh\u001b[39;49m\u001b[38;5;124;43m'\u001b[39;49m\u001b[43m)\u001b[49m\n",
      "Cell \u001b[0;32mIn[14], line 3\u001b[0m, in \u001b[0;36mrestric\u001b[0;34m(j)\u001b[0m\n\u001b[1;32m      1\u001b[0m \u001b[38;5;28;01mdef\u001b[39;00m \u001b[38;5;21mrestric\u001b[39m(j):\n\u001b[1;32m      2\u001b[0m   \u001b[38;5;28;01mif\u001b[39;00m j \u001b[38;5;241m==\u001b[39m \u001b[38;5;124m\"\u001b[39m\u001b[38;5;124msudh\u001b[39m\u001b[38;5;124m\"\u001b[39m:\n\u001b[0;32m----> 3\u001b[0m     \u001b[38;5;28;01mraise\u001b[39;00m \u001b[38;5;167;01mZeroDivisionError\u001b[39;00m(\u001b[38;5;124m\"\u001b[39m\u001b[38;5;124ml is not allowed\u001b[39m\u001b[38;5;124m\"\u001b[39m,j)\n\u001b[1;32m      4\u001b[0m   \u001b[38;5;28;01mreturn\u001b[39;00m j\n",
      "\u001b[0;31mZeroDivisionError\u001b[0m: ('l is not allowed', 'sudh')"
     ]
    }
   ],
   "source": [
    "restric('sudh')"
   ]
  },
  {
   "cell_type": "code",
   "execution_count": null,
   "metadata": {
    "colab": {
     "base_uri": "https://localhost:8080/",
     "height": 36
    },
    "id": "BWpq4VOexfrd",
    "outputId": "5e08d4f4-a2fa-40b7-f179-65d63c53ed6e"
   },
   "outputs": [
    {
     "data": {
      "application/vnd.google.colaboratory.intrinsic+json": {
       "type": "string"
      },
      "text/plain": [
       "'t'"
      ]
     },
     "execution_count": 41,
     "metadata": {},
     "output_type": "execute_result"
    }
   ],
   "source": [
    "restric(\"t\")"
   ]
  },
  {
   "cell_type": "code",
   "execution_count": null,
   "metadata": {
    "colab": {
     "base_uri": "https://localhost:8080/",
     "height": 36
    },
    "id": "XoJ2PYe2xjYc",
    "outputId": "3ebabee9-0432-4f13-feb6-19bb069db487"
   },
   "outputs": [
    {
     "data": {
      "application/vnd.google.colaboratory.intrinsic+json": {
       "type": "string"
      },
      "text/plain": [
       "'l'"
      ]
     },
     "execution_count": 42,
     "metadata": {},
     "output_type": "execute_result"
    }
   ],
   "source": [
    "\n",
    "restric(\"l\")"
   ]
  },
  {
   "cell_type": "code",
   "execution_count": null,
   "metadata": {
    "colab": {
     "base_uri": "https://localhost:8080/"
    },
    "id": "iZqod13Ax2G8",
    "outputId": "d72c7432-8f40-4dbf-c128-5d3e1c90dc8d"
   },
   "outputs": [
    {
     "name": "stdout",
     "output_type": "stream",
     "text": [
      "sudh\n",
      "calling my raised function ('l is not allowed', 'sudh')\n"
     ]
    }
   ],
   "source": [
    "#i am calling super class but i am getting message from my custom message\n",
    "try:\n",
    "  a=input()\n",
    "  restric(a)\n",
    "except Exception as e:\n",
    "  print(\"calling my raised function\",e)"
   ]
  },
  {
   "cell_type": "code",
   "execution_count": null,
   "metadata": {
    "id": "QziyjqBj0sev"
   },
   "outputs": [],
   "source": [
    "#here we see the possibilty to overide each and every classes\n",
    "# means we can overide all type of classes whether it is IO , ZeroDivisonError\n",
    "#we can take any type of exception class and we can overide them with own custom messages"
   ]
  },
  {
   "cell_type": "markdown",
   "metadata": {
    "id": "eB0rJZQc9mMv"
   },
   "source": [
    "**Logging**\n"
   ]
  },
  {
   "cell_type": "code",
   "execution_count": null,
   "metadata": {
    "id": "tK-OcT-B1dUX"
   },
   "outputs": [],
   "source": [
    "#in production we are not allowed to use print(), its a part of standard"
   ]
  },
  {
   "cell_type": "markdown",
   "metadata": {
    "id": "iUMFXupFHbns"
   },
   "source": [
    "it will give the flexibility to understand that what is the problem tht is happened with my code , why my thing is crashhed or to get some sort of warning to the user "
   ]
  },
  {
   "cell_type": "markdown",
   "metadata": {
    "id": "WFY0aFflISvw"
   },
   "source": [
    "logging is the way by which we can keep track of error, warning ,info . so that in future if you have to do some sort of investigation you all will be able to do the investigation , and whatever standard product you will be able to find out whether it's a aws azure"
   ]
  },
  {
   "cell_type": "code",
   "execution_count": 17,
   "metadata": {
    "id": "OB58NhD3Fy9h"
   },
   "outputs": [],
   "source": [
    "import logging"
   ]
  },
  {
   "cell_type": "code",
   "execution_count": 18,
   "metadata": {
    "id": "pJzVYR3xJZzu"
   },
   "outputs": [],
   "source": [
    "#here we are just creating a log file\n",
    "logging.basicConfig(filename = \"test2.log\", level=logging.INFO)\n",
    "\n",
    "#level part is discussed below\n",
    "\n",
    "#There are different hierarchy of logging that you will be able to create such as\n",
    "#i.e. you will be able to store -\n",
    "#error log, critical log, warning log, info log, debug log"
   ]
  },
  {
   "cell_type": "code",
   "execution_count": 4,
   "metadata": {
    "colab": {
     "base_uri": "https://localhost:8080/"
    },
    "id": "2LKjlVh3Jr_N",
    "outputId": "282d51be-d543-4f61-9037-820681e6712f"
   },
   "outputs": [
    {
     "name": "stderr",
     "output_type": "stream",
     "text": [
      "'ls' is not recognized as an internal or external command,\n",
      "operable program or batch file.\n"
     ]
    }
   ],
   "source": [
    "!ls"
   ]
  },
  {
   "cell_type": "code",
   "execution_count": 19,
   "metadata": {
    "colab": {
     "base_uri": "https://localhost:8080/"
    },
    "id": "5vOi8hoyJ16i",
    "outputId": "7d9fd051-a754-414b-8042-b7afaa414142"
   },
   "outputs": [
    {
     "name": "stdout",
     "output_type": "stream",
     "text": [
      "Exception_Handling.ipynb  test2.log  testtest.log\n"
     ]
    }
   ],
   "source": [
    "%ls"
   ]
  },
  {
   "cell_type": "code",
   "execution_count": 20,
   "metadata": {
    "colab": {
     "base_uri": "https://localhost:8080/",
     "height": 36
    },
    "id": "84bswEJZJ5st",
    "outputId": "436b062d-5005-4116-cdc7-f61639f0f9e8"
   },
   "outputs": [
    {
     "data": {
      "text/plain": [
       "'/config/workspace/Anil Ineuron/Python/Python Fundamentals/6.Exception_Handling'"
      ]
     },
     "execution_count": 20,
     "metadata": {},
     "output_type": "execute_result"
    }
   ],
   "source": [
    "pwd()"
   ]
  },
  {
   "cell_type": "markdown",
   "metadata": {
    "id": "pP8MPUY3Lj3l"
   },
   "source": [
    "DEBUG\n",
    ",INFO\n",
    ",WARNING\n",
    ",ERROR\n",
    ",CRITICAL"
   ]
  },
  {
   "cell_type": "code",
   "execution_count": 21,
   "metadata": {
    "colab": {
     "base_uri": "https://localhost:8080/"
    },
    "id": "sDBu75z6KSn3",
    "outputId": "308e5cf6-eeeb-4c2b-e036-bb0a15181792"
   },
   "outputs": [],
   "source": [
    "logging.info(\"this is my info log\")\n",
    "logging.warning('this is my warning log')\n",
    "logging.debug(\"this is my debug log\")\n",
    "logging.error(\"gthis is my error log\")\n",
    "#all log will be store in created test.log file"
   ]
  },
  {
   "cell_type": "code",
   "execution_count": 7,
   "metadata": {
    "colab": {
     "base_uri": "https://localhost:8080/"
    },
    "id": "H3yUerihKq3a",
    "outputId": "8db8983f-c3f0-447e-e682-cc8a156ec1c1"
   },
   "outputs": [
    {
     "name": "stdout",
     "output_type": "stream",
     "text": [
      "Python 3.9.12\n"
     ]
    }
   ],
   "source": [
    "!python --version"
   ]
  },
  {
   "cell_type": "code",
   "execution_count": 11,
   "metadata": {
    "id": "mKCcOFyxMls9"
   },
   "outputs": [],
   "source": [
    "logging.shutdown()\n",
    "#for closing the logging"
   ]
  },
  {
   "cell_type": "code",
   "execution_count": 2,
   "metadata": {},
   "outputs": [],
   "source": [
    "logging.basicConfig(filename=\"testtest.log\", level=logging.DEBUG, format= '%(asctime)s%(levelname)s%(message)s')\n",
    "#asctime means timestamp\n",
    "#we are setting format so that we can know at what time that particular logging has created"
   ]
  },
  {
   "cell_type": "code",
   "execution_count": 4,
   "metadata": {},
   "outputs": [],
   "source": [
    "logging.info(\"this is my info log\")\n",
    "logging.warning('this is my warning log')\n",
    "logging.debug(\"this is my debug log\")\n",
    "logging.error(\"gthis is my error log\")"
   ]
  },
  {
   "cell_type": "code",
   "execution_count": 5,
   "metadata": {},
   "outputs": [],
   "source": [
    "logging.info(\"this is my info log\")\n",
    "logging.warning('this is my warning log')\n",
    "logging.debug(\"this is my debug log\")\n",
    "logging.error(\"gthis is my error log\")\n",
    "\n",
    "#we have set level=logging.DEBUG but if we will change that to level=logging.ERROR, then no log will be store except error log.\n",
    "#so what is level?\n",
    "#in case when our level is error, other log were not printed in the file because priority of error log is highest. \n",
    "#but in case of INFO, we were able to see INFO, WARNING, ERROR all three but not DEBUG bcz of priority level.\n",
    "#priority level of log: ERROR > WARNING > INFO > DEBUG"
   ]
  },
  {
   "cell_type": "code",
   "execution_count": 6,
   "metadata": {},
   "outputs": [],
   "source": [
    "#error warning info debug is the priority level of logs"
   ]
  },
  {
   "cell_type": "markdown",
   "metadata": {},
   "source": [
    "Lets see a real example of logging"
   ]
  },
  {
   "cell_type": "code",
   "execution_count": 2,
   "metadata": {},
   "outputs": [],
   "source": [
    "import logging\n",
    "logging.basicConfig(filename=\"test3.log\", level=logging.DEBUG, format= '%(asctime)s%(levelname)s%(message)s')\n",
    "#I don't konw why this line is not creating test3.log file in PW Lab. May be some problem in compiler.\n",
    "#Thats why I am creating manually"
   ]
  },
  {
   "cell_type": "code",
   "execution_count": 3,
   "metadata": {},
   "outputs": [],
   "source": [
    "#we have set the level = Debug for test3.log file so that all levels of log can be stored\n",
    "def dividebyzero(a,b):\n",
    "    logging.info(\"this is a start of my code , ia m trying to enter %s and %s\", a,b)\n",
    "    # %s is a placeholder\n",
    "    try:\n",
    "        div=a/b\n",
    "        logging.info(\"executed Succesfully\")\n",
    "    except Exception as e:\n",
    "        logging.error(\"error has happened\")\n",
    "        logging.exception(\"Exception occured\" + str(e))\n",
    "        #make sure to typecast the error into str"
   ]
  },
  {
   "cell_type": "code",
   "execution_count": 4,
   "metadata": {},
   "outputs": [],
   "source": [
    "dividebyzero(4,5)"
   ]
  },
  {
   "cell_type": "code",
   "execution_count": 5,
   "metadata": {},
   "outputs": [],
   "source": [
    "dividebyzero(4,0)"
   ]
  },
  {
   "cell_type": "code",
   "execution_count": null,
   "metadata": {},
   "outputs": [],
   "source": [
    "#in log file test3.log you can see traceback also which simply tells where error has occured in the code"
   ]
  },
  {
   "cell_type": "markdown",
   "metadata": {},
   "source": [
    "So basically log file keep the details of all information of particular code, which we can trace anytime. And also with the help of log file other can also easily understand what I have done."
   ]
  }
 ],
 "metadata": {
  "colab": {
   "provenance": []
  },
  "kernelspec": {
   "display_name": "Python 3.8.10 64-bit",
   "language": "python",
   "name": "python3"
  },
  "language_info": {
   "codemirror_mode": {
    "name": "ipython",
    "version": 3
   },
   "file_extension": ".py",
   "mimetype": "text/x-python",
   "name": "python",
   "nbconvert_exporter": "python",
   "pygments_lexer": "ipython3",
   "version": "3.8.10"
  },
  "vscode": {
   "interpreter": {
    "hash": "e7370f93d1d0cde622a1f8e1c04877d8463912d04d973331ad4851f04de6915a"
   }
  }
 },
 "nbformat": 4,
 "nbformat_minor": 1
}
