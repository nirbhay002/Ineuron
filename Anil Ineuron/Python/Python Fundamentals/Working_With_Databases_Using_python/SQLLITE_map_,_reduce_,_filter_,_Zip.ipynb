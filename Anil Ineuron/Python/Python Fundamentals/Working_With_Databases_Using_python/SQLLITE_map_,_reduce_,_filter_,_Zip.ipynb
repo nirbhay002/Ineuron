{
  "nbformat": 4,
  "nbformat_minor": 0,
  "metadata": {
    "colab": {
      "provenance": []
    },
    "kernelspec": {
      "name": "python3",
      "display_name": "Python 3"
    },
    "language_info": {
      "name": "python"
    }
  },
  "cells": [
    {
      "cell_type": "code",
      "execution_count": null,
      "metadata": {
        "id": "Fqaa9-dMUokW"
      },
      "outputs": [],
      "source": [
        "# sqlite is in memory database , in a same memory you can try to store  a data just in a form of a table , it create .db file , it will be able to store only tabular form of data "
      ]
    },
    {
      "cell_type": "code",
      "source": [
        "import sqlite3\n",
        "# it is in memory and binary are available in your system"
      ],
      "metadata": {
        "id": "4dSksocpZm7z"
      },
      "execution_count": null,
      "outputs": []
    },
    {
      "cell_type": "code",
      "source": [
        "db = sqlite3.connect(\"AnilDATA.db\")"
      ],
      "metadata": {
        "id": "HtAlOkNqaBkg"
      },
      "execution_count": null,
      "outputs": []
    },
    {
      "cell_type": "code",
      "source": [
        "ls"
      ],
      "metadata": {
        "colab": {
          "base_uri": "https://localhost:8080/"
        },
        "id": "2mWTgLUtiFrJ",
        "outputId": "7f324e98-187e-4081-ef00-12694d7ff284"
      },
      "execution_count": null,
      "outputs": [
        {
          "output_type": "stream",
          "name": "stdout",
          "text": [
            "AnilDATA.db  \u001b[0m\u001b[01;34msample_data\u001b[0m/\n"
          ]
        }
      ]
    },
    {
      "cell_type": "code",
      "source": [
        "c = db.cursor()\n",
        "#it is the function or object we try to create , which is responsible for creating each and every database command"
      ],
      "metadata": {
        "id": "jEgZ4TvZiuRw"
      },
      "execution_count": null,
      "outputs": []
    },
    {
      "cell_type": "code",
      "source": [
        "c.execute('create table fsds(name text, student_id real, batch_no int)')"
      ],
      "metadata": {
        "colab": {
          "base_uri": "https://localhost:8080/"
        },
        "id": "p2R4G2zGm2-L",
        "outputId": "841739a6-833f-4ac7-acf7-789487eaeda8"
      },
      "execution_count": null,
      "outputs": [
        {
          "output_type": "execute_result",
          "data": {
            "text/plain": [
              "<sqlite3.Cursor at 0x7fcc14b2a810>"
            ]
          },
          "metadata": {},
          "execution_count": 6
        }
      ]
    },
    {
      "cell_type": "code",
      "source": [
        "c.execute(\"insert into fsds values('aniil', 345 , 456 )\")\n",
        "for i in range(0,9):\n",
        "  c.execute(\"insert into fsds values('aniil', {0} ,{1} )\".format(i , i+100))\n",
        " #note text should be single qoutes"
      ],
      "metadata": {
        "id": "5XUbrjZppUg_"
      },
      "execution_count": null,
      "outputs": []
    },
    {
      "cell_type": "code",
      "source": [
        "c.execute(\"select * from fsds\")\n"
      ],
      "metadata": {
        "colab": {
          "base_uri": "https://localhost:8080/"
        },
        "id": "pnB6t9zPp4g-",
        "outputId": "a44b8fa6-9884-4272-d12a-f25106658e79"
      },
      "execution_count": null,
      "outputs": [
        {
          "output_type": "execute_result",
          "data": {
            "text/plain": [
              "<sqlite3.Cursor at 0x7fcc04d228f0>"
            ]
          },
          "metadata": {},
          "execution_count": 29
        }
      ]
    },
    {
      "cell_type": "code",
      "source": [
        "c.fetchall()"
      ],
      "metadata": {
        "colab": {
          "base_uri": "https://localhost:8080/"
        },
        "id": "sfLk-vfxqvfw",
        "outputId": "40bce5b4-a739-40c0-bb08-c21f7a66f33f"
      },
      "execution_count": null,
      "outputs": [
        {
          "output_type": "execute_result",
          "data": {
            "text/plain": [
              "[('aniil', 345.0, 456),\n",
              " ('aniil', 5.0, 3),\n",
              " ('aniil', 5.0, 3),\n",
              " ('aniil', 5.0, 3),\n",
              " ('aniil', 5.0, 3),\n",
              " ('aniil', 5.0, 3),\n",
              " ('aniil', 5.0, 3),\n",
              " ('aniil', 5.0, 3),\n",
              " ('aniil', 5.0, 3),\n",
              " ('aniil', 5.0, 3),\n",
              " ('aniil', 5.0, 3),\n",
              " ('aniil', 345.0, 456),\n",
              " ('aniil', 0.0, 1),\n",
              " ('aniil', 1.0, 2),\n",
              " ('aniil', 345.0, 456),\n",
              " ('aniil', 0.0, 100),\n",
              " ('aniil', 1.0, 101),\n",
              " ('aniil', 2.0, 102),\n",
              " ('aniil', 3.0, 103),\n",
              " ('aniil', 4.0, 104),\n",
              " ('aniil', 5.0, 105),\n",
              " ('aniil', 6.0, 106),\n",
              " ('aniil', 7.0, 107),\n",
              " ('aniil', 8.0, 108)]"
            ]
          },
          "metadata": {},
          "execution_count": 30
        }
      ]
    },
    {
      "cell_type": "code",
      "source": [
        "db.commit()"
      ],
      "metadata": {
        "id": "SReQ-X1Iqyhx"
      },
      "execution_count": null,
      "outputs": []
    },
    {
      "cell_type": "code",
      "source": [
        "db.close()"
      ],
      "metadata": {
        "id": "3gwdb_nVrLC1"
      },
      "execution_count": null,
      "outputs": []
    },
    {
      "cell_type": "code",
      "source": [
        "db = sqlite3.connect(\"AnilDATA.db\")"
      ],
      "metadata": {
        "id": "T8xjbBIBB-RJ"
      },
      "execution_count": null,
      "outputs": []
    },
    {
      "cell_type": "code",
      "source": [
        "c = db.cursor()"
      ],
      "metadata": {
        "id": "ItN80yjUC8H3"
      },
      "execution_count": null,
      "outputs": []
    },
    {
      "cell_type": "code",
      "source": [
        "c.execute('select student_id from fsds where batch_no > 3')"
      ],
      "metadata": {
        "colab": {
          "base_uri": "https://localhost:8080/"
        },
        "id": "g8lfPjTKCpKl",
        "outputId": "5a9b269d-0c57-4752-ac8a-7b8940411e16"
      },
      "execution_count": null,
      "outputs": [
        {
          "output_type": "execute_result",
          "data": {
            "text/plain": [
              "<sqlite3.Cursor at 0x7fcc04d228f0>"
            ]
          },
          "metadata": {},
          "execution_count": 17
        }
      ]
    },
    {
      "cell_type": "code",
      "source": [
        "c.fetchall()"
      ],
      "metadata": {
        "colab": {
          "base_uri": "https://localhost:8080/"
        },
        "id": "RGHbjMNADED2",
        "outputId": "43918e69-ced8-4d61-bcad-d58142d90a01"
      },
      "execution_count": null,
      "outputs": [
        {
          "output_type": "execute_result",
          "data": {
            "text/plain": [
              "[(345.0,)]"
            ]
          },
          "metadata": {},
          "execution_count": 18
        }
      ]
    },
    {
      "cell_type": "code",
      "source": [
        "d = c.execute('select * from fsds where batch_no > 3')"
      ],
      "metadata": {
        "id": "TUiC9c7uDrap"
      },
      "execution_count": null,
      "outputs": []
    },
    {
      "cell_type": "code",
      "source": [
        "for i in d:\n",
        "  print(i)"
      ],
      "metadata": {
        "colab": {
          "base_uri": "https://localhost:8080/"
        },
        "id": "hXTASv8tD140",
        "outputId": "e751a4e9-9000-466c-8527-6219bcb584ef"
      },
      "execution_count": null,
      "outputs": [
        {
          "output_type": "stream",
          "name": "stdout",
          "text": [
            "('aniil', 345.0, 456)\n"
          ]
        }
      ]
    },
    {
      "cell_type": "code",
      "source": [
        "c.execute('select student_id from fsds where batch_no = 3')\n",
        "c.fetchall()"
      ],
      "metadata": {
        "colab": {
          "base_uri": "https://localhost:8080/"
        },
        "id": "gH1Y28cvD6Sd",
        "outputId": "475eb275-8609-45aa-a0ae-10bf8f64cb07"
      },
      "execution_count": null,
      "outputs": [
        {
          "output_type": "execute_result",
          "data": {
            "text/plain": [
              "[(5.0,),\n",
              " (5.0,),\n",
              " (5.0,),\n",
              " (5.0,),\n",
              " (5.0,),\n",
              " (5.0,),\n",
              " (5.0,),\n",
              " (5.0,),\n",
              " (5.0,),\n",
              " (5.0,)]"
            ]
          },
          "metadata": {},
          "execution_count": 24
        }
      ]
    },
    {
      "cell_type": "code",
      "source": [
        "c.execute('select name, batch_no from fsds order by batch_no')\n",
        "c.fetchall()"
      ],
      "metadata": {
        "colab": {
          "base_uri": "https://localhost:8080/"
        },
        "id": "0dAlPq2sEa4T",
        "outputId": "855f4d7b-01e2-4b82-a413-4e7c261509e7"
      },
      "execution_count": null,
      "outputs": [
        {
          "output_type": "execute_result",
          "data": {
            "text/plain": [
              "[('aniil', 1),\n",
              " ('aniil', 2),\n",
              " ('aniil', 3),\n",
              " ('aniil', 3),\n",
              " ('aniil', 3),\n",
              " ('aniil', 3),\n",
              " ('aniil', 3),\n",
              " ('aniil', 3),\n",
              " ('aniil', 3),\n",
              " ('aniil', 3),\n",
              " ('aniil', 3),\n",
              " ('aniil', 3),\n",
              " ('aniil', 100),\n",
              " ('aniil', 101),\n",
              " ('aniil', 102),\n",
              " ('aniil', 103),\n",
              " ('aniil', 104),\n",
              " ('aniil', 105),\n",
              " ('aniil', 106),\n",
              " ('aniil', 107),\n",
              " ('aniil', 108),\n",
              " ('aniil', 456),\n",
              " ('aniil', 456),\n",
              " ('aniil', 456)]"
            ]
          },
          "metadata": {},
          "execution_count": 31
        }
      ]
    },
    {
      "cell_type": "code",
      "source": [
        "db.commit()\n",
        "db.close()"
      ],
      "metadata": {
        "id": "2OGysiQmHCuY"
      },
      "execution_count": null,
      "outputs": []
    },
    {
      "cell_type": "markdown",
      "source": [
        "It support one db at a time "
      ],
      "metadata": {
        "id": "qsAuTvhnH0wt"
      }
    },
    {
      "cell_type": "code",
      "source": [
        "db2 = sqlite3.connect(\"person.db\")\n",
        "c = db2.cursor()"
      ],
      "metadata": {
        "id": "uFwkGLGHHhZh"
      },
      "execution_count": null,
      "outputs": []
    },
    {
      "cell_type": "code",
      "source": [
        "c.execute('create table person_table(name text, email_id text, age int, salary int)')"
      ],
      "metadata": {
        "id": "qY4kZxv5IHYe"
      },
      "execution_count": null,
      "outputs": []
    },
    {
      "cell_type": "code",
      "source": [
        "ls"
      ],
      "metadata": {
        "colab": {
          "base_uri": "https://localhost:8080/"
        },
        "id": "qAWiJzHeI4nf",
        "outputId": "6a641d25-c652-47b4-fa2f-03fd3cb53306"
      },
      "execution_count": null,
      "outputs": [
        {
          "output_type": "stream",
          "name": "stdout",
          "text": [
            "AnilDATA.db  person.db  \u001b[0m\u001b[01;34msample_data\u001b[0m/\n"
          ]
        }
      ]
    },
    {
      "cell_type": "code",
      "source": [
        "c.execute(\"insert into person_table values('Anil' , 'emailid@gmail.com' , 123 , 9000)\")"
      ],
      "metadata": {
        "colab": {
          "base_uri": "https://localhost:8080/"
        },
        "id": "JsnJ5tpgI_B5",
        "outputId": "40bc04f4-3b83-4767-d470-9dcc9d34c515"
      },
      "execution_count": null,
      "outputs": [
        {
          "output_type": "execute_result",
          "data": {
            "text/plain": [
              "<sqlite3.Cursor at 0x7fcbe819b8f0>"
            ]
          },
          "metadata": {},
          "execution_count": 42
        }
      ]
    },
    {
      "cell_type": "code",
      "source": [
        "for i in range(0,10):\n",
        "  c.execute(\"insert into person_table values('Anil{0}' , 'emailid{1}@gmail.com' , {2} , {3})\".format(i , i+10 , i+11 , i+15))"
      ],
      "metadata": {
        "id": "0xr9X7C7Jb5G"
      },
      "execution_count": null,
      "outputs": []
    },
    {
      "cell_type": "code",
      "source": [
        "c.execute(\"select * from person_table\")\n",
        "c.fetchall()"
      ],
      "metadata": {
        "colab": {
          "base_uri": "https://localhost:8080/"
        },
        "id": "qHxjjXosLWVX",
        "outputId": "9e5da545-0911-4c77-8ca1-234cfb230da8"
      },
      "execution_count": null,
      "outputs": [
        {
          "output_type": "execute_result",
          "data": {
            "text/plain": [
              "[('Anil', 'emailid@gmail.com', 123, 9000),\n",
              " ('Anil0', 'emailid10@gmail.com', 11, 15),\n",
              " ('Anil1', 'emailid11@gmail.com', 12, 16),\n",
              " ('Anil2', 'emailid12@gmail.com', 13, 17),\n",
              " ('Anil3', 'emailid13@gmail.com', 14, 18),\n",
              " ('Anil4', 'emailid14@gmail.com', 15, 19),\n",
              " ('Anil5', 'emailid15@gmail.com', 16, 20),\n",
              " ('Anil6', 'emailid16@gmail.com', 17, 21),\n",
              " ('Anil7', 'emailid17@gmail.com', 18, 22),\n",
              " ('Anil8', 'emailid18@gmail.com', 19, 23),\n",
              " ('Anil9', 'emailid19@gmail.com', 20, 24)]"
            ]
          },
          "metadata": {},
          "execution_count": 46
        }
      ]
    },
    {
      "cell_type": "code",
      "source": [
        "db2.commit()"
      ],
      "metadata": {
        "id": "8oBTeycJLicI"
      },
      "execution_count": null,
      "outputs": []
    },
    {
      "cell_type": "code",
      "source": [
        "db2.close()"
      ],
      "metadata": {
        "id": "E2o8HYcTMZK7"
      },
      "execution_count": null,
      "outputs": []
    },
    {
      "cell_type": "code",
      "source": [
        "db = sqlite3.connect(\"AnilDATA.db\")\n",
        "c = db.cursor()"
      ],
      "metadata": {
        "id": "2sa8dKAlMbY0"
      },
      "execution_count": null,
      "outputs": []
    },
    {
      "cell_type": "code",
      "source": [
        "c.execute(\"drop table fsds\")"
      ],
      "metadata": {
        "colab": {
          "base_uri": "https://localhost:8080/"
        },
        "id": "C-93na3bNAK4",
        "outputId": "8b9a679d-1455-4f28-dd60-edf8932fe575"
      },
      "execution_count": null,
      "outputs": [
        {
          "output_type": "execute_result",
          "data": {
            "text/plain": [
              "<sqlite3.Cursor at 0x7fcbe7f03e30>"
            ]
          },
          "metadata": {},
          "execution_count": 52
        }
      ]
    },
    {
      "cell_type": "code",
      "source": [
        "db.commit()"
      ],
      "metadata": {
        "id": "L8nktA-aNHrG"
      },
      "execution_count": null,
      "outputs": []
    },
    {
      "cell_type": "code",
      "source": [
        "db.close()"
      ],
      "metadata": {
        "id": "dkbMR-6-NddU"
      },
      "execution_count": null,
      "outputs": []
    },
    {
      "cell_type": "code",
      "source": [
        "db2 = sqlite3.connect(\"person.db\")\n",
        "c = db2.cursor()"
      ],
      "metadata": {
        "id": "RzWL7ersN8cT"
      },
      "execution_count": null,
      "outputs": []
    },
    {
      "cell_type": "code",
      "source": [
        "data = c.execute('select * from person_table limit 2')\n",
        "for i in data:\n",
        "  print(i)"
      ],
      "metadata": {
        "colab": {
          "base_uri": "https://localhost:8080/"
        },
        "id": "gYCW23FZOAfr",
        "outputId": "def10fd1-f55e-4d1b-cb4c-e2f13398cc4c"
      },
      "execution_count": null,
      "outputs": [
        {
          "output_type": "stream",
          "name": "stdout",
          "text": [
            "('Anil', 'emailid@gmail.com', 123, 9000)\n",
            "('Anil0', 'emailid10@gmail.com', 11, 15)\n"
          ]
        }
      ]
    },
    {
      "cell_type": "markdown",
      "source": [
        "JOIN"
      ],
      "metadata": {
        "id": "UUeWw10aO0PY"
      }
    },
    {
      "cell_type": "code",
      "source": [
        "db.close()"
      ],
      "metadata": {
        "id": "xi0mqcD8Onu_"
      },
      "execution_count": null,
      "outputs": []
    },
    {
      "cell_type": "code",
      "source": [
        "db2 = sqlite3.connect(\"job.db\")\n",
        "c = db2.cursor()\n"
      ],
      "metadata": {
        "id": "R2BSXrefSQse"
      },
      "execution_count": null,
      "outputs": []
    },
    {
      "cell_type": "code",
      "source": [
        "c.execute(\"create table student (student_id int, student_name text, student mail_d text, marks int)\")"
      ],
      "metadata": {
        "colab": {
          "base_uri": "https://localhost:8080/"
        },
        "id": "PJr0_JoUScsS",
        "outputId": "17e90313-d26b-4a6c-c8e9-9ef8ed3721eb"
      },
      "execution_count": null,
      "outputs": [
        {
          "output_type": "execute_result",
          "data": {
            "text/plain": [
              "<sqlite3.Cursor at 0x7f8f20829ab0>"
            ]
          },
          "metadata": {},
          "execution_count": 4
        }
      ]
    },
    {
      "cell_type": "code",
      "source": [
        "c.execute(\"create table address(student_id int, pincode int , location text, nearby text, phone_no int)\")"
      ],
      "metadata": {
        "colab": {
          "base_uri": "https://localhost:8080/"
        },
        "id": "7S73LEXLTOiw",
        "outputId": "92767ea0-4872-4637-d179-f3895653a770"
      },
      "execution_count": null,
      "outputs": [
        {
          "output_type": "execute_result",
          "data": {
            "text/plain": [
              "<sqlite3.Cursor at 0x7f8f20829ab0>"
            ]
          },
          "metadata": {},
          "execution_count": 5
        }
      ]
    },
    {
      "cell_type": "code",
      "source": [
        "for i in range(0,10):\n",
        "  c.execute(\"insert into student values('{0}' , 'Anil{1}' , 'mailserial{2}@gmail.com' , {3})\".format(i+200 , i+10 , i+11 , i+150))"
      ],
      "metadata": {
        "id": "kVL3Wmy0ULuZ"
      },
      "execution_count": null,
      "outputs": []
    },
    {
      "cell_type": "code",
      "source": [
        "for i in range(0,10):\n",
        "  c.execute(\"insert into address values('{0}' , '1100{1}' , 'Block{2}' ,'street{3}' , 987564{4})\".format(i+200 , i+10 ,i+9, i+11 , i+150))"
      ],
      "metadata": {
        "id": "kguo7s6GepRb"
      },
      "execution_count": null,
      "outputs": []
    },
    {
      "cell_type": "code",
      "source": [
        "data = c.execute(\"select * from student s left join address a on s.student_id = a.student_id where a.student_id is not null\")"
      ],
      "metadata": {
        "id": "lZcX1yxTfLig"
      },
      "execution_count": null,
      "outputs": []
    },
    {
      "cell_type": "code",
      "source": [
        "for i in data:\n",
        "  print(i)"
      ],
      "metadata": {
        "colab": {
          "base_uri": "https://localhost:8080/"
        },
        "id": "jyEmOwQFhj3G",
        "outputId": "6886016a-ea37-4a15-93eb-c80deea48924"
      },
      "execution_count": null,
      "outputs": [
        {
          "output_type": "stream",
          "name": "stdout",
          "text": [
            "(200, 'Anil10', 'mailserial11@gmail.com', 150, 200, 110010, 'Block9', 'street11', 987564150)\n",
            "(201, 'Anil11', 'mailserial12@gmail.com', 151, 201, 110011, 'Block10', 'street12', 987564151)\n",
            "(202, 'Anil12', 'mailserial13@gmail.com', 152, 202, 110012, 'Block11', 'street13', 987564152)\n",
            "(203, 'Anil13', 'mailserial14@gmail.com', 153, 203, 110013, 'Block12', 'street14', 987564153)\n",
            "(204, 'Anil14', 'mailserial15@gmail.com', 154, 204, 110014, 'Block13', 'street15', 987564154)\n",
            "(205, 'Anil15', 'mailserial16@gmail.com', 155, 205, 110015, 'Block14', 'street16', 987564155)\n",
            "(206, 'Anil16', 'mailserial17@gmail.com', 156, 206, 110016, 'Block15', 'street17', 987564156)\n",
            "(207, 'Anil17', 'mailserial18@gmail.com', 157, 207, 110017, 'Block16', 'street18', 987564157)\n",
            "(208, 'Anil18', 'mailserial19@gmail.com', 158, 208, 110018, 'Block17', 'street19', 987564158)\n",
            "(209, 'Anil19', 'mailserial20@gmail.com', 159, 209, 110019, 'Block18', 'street20', 987564159)\n"
          ]
        }
      ]
    },
    {
      "cell_type": "code",
      "source": [
        "data = c.execute(\"select * from student s left join address a on s.student_id = a.student_id\")\n",
        "for i in data:\n",
        "  print(i)"
      ],
      "metadata": {
        "id": "XHov__mJhlk6",
        "colab": {
          "base_uri": "https://localhost:8080/"
        },
        "outputId": "23c9429f-0520-4f9d-b953-0d4881fde249"
      },
      "execution_count": null,
      "outputs": [
        {
          "output_type": "stream",
          "name": "stdout",
          "text": [
            "(200, 'Anil10', 'mailserial11@gmail.com', 150, 200, 110010, 'Block9', 'street11', 987564150)\n",
            "(201, 'Anil11', 'mailserial12@gmail.com', 151, 201, 110011, 'Block10', 'street12', 987564151)\n",
            "(202, 'Anil12', 'mailserial13@gmail.com', 152, 202, 110012, 'Block11', 'street13', 987564152)\n",
            "(203, 'Anil13', 'mailserial14@gmail.com', 153, 203, 110013, 'Block12', 'street14', 987564153)\n",
            "(204, 'Anil14', 'mailserial15@gmail.com', 154, 204, 110014, 'Block13', 'street15', 987564154)\n",
            "(205, 'Anil15', 'mailserial16@gmail.com', 155, 205, 110015, 'Block14', 'street16', 987564155)\n",
            "(206, 'Anil16', 'mailserial17@gmail.com', 156, 206, 110016, 'Block15', 'street17', 987564156)\n",
            "(207, 'Anil17', 'mailserial18@gmail.com', 157, 207, 110017, 'Block16', 'street18', 987564157)\n",
            "(208, 'Anil18', 'mailserial19@gmail.com', 158, 208, 110018, 'Block17', 'street19', 987564158)\n",
            "(209, 'Anil19', 'mailserial20@gmail.com', 159, 209, 110019, 'Block18', 'street20', 987564159)\n",
            "(420, 'Anil{1}', 'mailserial{2}@gmail.com', 789, None, None, None, None, None)\n"
          ]
        }
      ]
    },
    {
      "cell_type": "code",
      "source": [
        "c.execute(\"insert into student values(420 , 'Anil{1}' , 'mailserial{2}@gmail.com' , 789)\")"
      ],
      "metadata": {
        "colab": {
          "base_uri": "https://localhost:8080/"
        },
        "id": "uBEyEY3E5a7w",
        "outputId": "2a6af0c4-4351-420d-837d-38da4e566c51"
      },
      "execution_count": null,
      "outputs": [
        {
          "output_type": "execute_result",
          "data": {
            "text/plain": [
              "<sqlite3.Cursor at 0x7f8f20829ab0>"
            ]
          },
          "metadata": {},
          "execution_count": 9
        }
      ]
    },
    {
      "cell_type": "code",
      "source": [
        "# right and full join is not supported in sqlite 3"
      ],
      "metadata": {
        "id": "h_PQqX1x6Fas"
      },
      "execution_count": null,
      "outputs": []
    },
    {
      "cell_type": "code",
      "source": [
        "data = c.execute(\"select * from address s left join student a on s.student_id = a.student_id\")\n",
        "for i in data:\n",
        "  print(i)"
      ],
      "metadata": {
        "colab": {
          "base_uri": "https://localhost:8080/"
        },
        "id": "aZtlIpv-8cZN",
        "outputId": "501d058e-d7f0-4a2f-b883-21e8bf292211"
      },
      "execution_count": null,
      "outputs": [
        {
          "output_type": "stream",
          "name": "stdout",
          "text": [
            "(200, 110010, 'Block9', 'street11', 987564150, 200, 'Anil10', 'mailserial11@gmail.com', 150)\n",
            "(201, 110011, 'Block10', 'street12', 987564151, 201, 'Anil11', 'mailserial12@gmail.com', 151)\n",
            "(202, 110012, 'Block11', 'street13', 987564152, 202, 'Anil12', 'mailserial13@gmail.com', 152)\n",
            "(203, 110013, 'Block12', 'street14', 987564153, 203, 'Anil13', 'mailserial14@gmail.com', 153)\n",
            "(204, 110014, 'Block13', 'street15', 987564154, 204, 'Anil14', 'mailserial15@gmail.com', 154)\n",
            "(205, 110015, 'Block14', 'street16', 987564155, 205, 'Anil15', 'mailserial16@gmail.com', 155)\n",
            "(206, 110016, 'Block15', 'street17', 987564156, 206, 'Anil16', 'mailserial17@gmail.com', 156)\n",
            "(207, 110017, 'Block16', 'street18', 987564157, 207, 'Anil17', 'mailserial18@gmail.com', 157)\n",
            "(208, 110018, 'Block17', 'street19', 987564158, 208, 'Anil18', 'mailserial19@gmail.com', 158)\n",
            "(209, 110019, 'Block18', 'street20', 987564159, 209, 'Anil19', 'mailserial20@gmail.com', 159)\n"
          ]
        }
      ]
    },
    {
      "cell_type": "code",
      "source": [
        "c.execute(\"delete from student where student_id > 208\")\n"
      ],
      "metadata": {
        "colab": {
          "base_uri": "https://localhost:8080/"
        },
        "id": "3Fp2wu1a9G6o",
        "outputId": "071770cf-33d3-434e-b5e7-e51e9744d771"
      },
      "execution_count": null,
      "outputs": [
        {
          "output_type": "execute_result",
          "data": {
            "text/plain": [
              "<sqlite3.Cursor at 0x7f8f20829ab0>"
            ]
          },
          "metadata": {},
          "execution_count": 14
        }
      ]
    },
    {
      "cell_type": "code",
      "source": [
        "c.execute(\"update student set student_id = 1000 where student_id = 207\")\n",
        "c.fetchall()"
      ],
      "metadata": {
        "colab": {
          "base_uri": "https://localhost:8080/"
        },
        "id": "6-x1a4IZ-hyM",
        "outputId": "ef44d177-1722-474a-cd32-c4bd1d69eac6"
      },
      "execution_count": null,
      "outputs": [
        {
          "output_type": "execute_result",
          "data": {
            "text/plain": [
              "[]"
            ]
          },
          "metadata": {},
          "execution_count": 16
        }
      ]
    },
    {
      "cell_type": "code",
      "source": [
        "c.execute(\"select * from student\")\n",
        "c.fetchall()"
      ],
      "metadata": {
        "colab": {
          "base_uri": "https://localhost:8080/"
        },
        "id": "GsgZWJbl_d5b",
        "outputId": "5c5bed31-243e-413e-ef34-d6cee0ecbc7c"
      },
      "execution_count": null,
      "outputs": [
        {
          "output_type": "execute_result",
          "data": {
            "text/plain": [
              "[(200, 'Anil10', 'mailserial11@gmail.com', 150),\n",
              " (201, 'Anil11', 'mailserial12@gmail.com', 151),\n",
              " (202, 'Anil12', 'mailserial13@gmail.com', 152),\n",
              " (203, 'Anil13', 'mailserial14@gmail.com', 153),\n",
              " (204, 'Anil14', 'mailserial15@gmail.com', 154),\n",
              " (205, 'Anil15', 'mailserial16@gmail.com', 155),\n",
              " (206, 'Anil16', 'mailserial17@gmail.com', 156),\n",
              " (1000, 'Anil17', 'mailserial18@gmail.com', 157),\n",
              " (208, 'Anil18', 'mailserial19@gmail.com', 158)]"
            ]
          },
          "metadata": {},
          "execution_count": 17
        }
      ]
    },
    {
      "cell_type": "code",
      "source": [
        "db2.commit()"
      ],
      "metadata": {
        "id": "5NLdYmRf_yKH"
      },
      "execution_count": null,
      "outputs": []
    },
    {
      "cell_type": "code",
      "source": [
        "db2.close()"
      ],
      "metadata": {
        "id": "Js2poCeDBua4"
      },
      "execution_count": null,
      "outputs": []
    },
    {
      "cell_type": "markdown",
      "source": [
        "# Map , Reduce , Filter"
      ],
      "metadata": {
        "id": "FBiQezyyC007"
      }
    },
    {
      "cell_type": "code",
      "source": [
        "l = [1,2,3,4,5,6]"
      ],
      "metadata": {
        "id": "OrIOAGurB88v"
      },
      "execution_count": null,
      "outputs": []
    },
    {
      "cell_type": "code",
      "source": [
        "l1 = []\n",
        "for i in l:\n",
        "  l1.append(i+5)\n",
        "l1  "
      ],
      "metadata": {
        "colab": {
          "base_uri": "https://localhost:8080/"
        },
        "id": "F7-WBWiZPMvt",
        "outputId": "0d74196e-7b15-43ac-a85f-00b3a69add22"
      },
      "execution_count": null,
      "outputs": [
        {
          "output_type": "execute_result",
          "data": {
            "text/plain": [
              "[6, 7, 8, 9, 10, 11]"
            ]
          },
          "metadata": {},
          "execution_count": 3
        }
      ]
    },
    {
      "cell_type": "code",
      "source": [
        "[i+5 for i in l]"
      ],
      "metadata": {
        "colab": {
          "base_uri": "https://localhost:8080/"
        },
        "id": "GIsJQNCnPRk_",
        "outputId": "98d19a8a-6098-408a-d764-97d60514fd08"
      },
      "execution_count": null,
      "outputs": [
        {
          "output_type": "execute_result",
          "data": {
            "text/plain": [
              "[6, 7, 8, 9, 10, 11]"
            ]
          },
          "metadata": {},
          "execution_count": 4
        }
      ]
    },
    {
      "cell_type": "code",
      "source": [
        "def fun1(a):\n",
        "  return a+5"
      ],
      "metadata": {
        "id": "tTrWDxBAa51N"
      },
      "execution_count": null,
      "outputs": []
    },
    {
      "cell_type": "code",
      "source": [
        "list(map(fun1, l1))"
      ],
      "metadata": {
        "colab": {
          "base_uri": "https://localhost:8080/"
        },
        "id": "ZyFd1-fmPklW",
        "outputId": "2e9b849f-5375-4eb6-dec0-f07eaf4f3ae3"
      },
      "execution_count": null,
      "outputs": [
        {
          "output_type": "execute_result",
          "data": {
            "text/plain": [
              "[11, 12, 13, 14, 15, 16]"
            ]
          },
          "metadata": {},
          "execution_count": 7
        }
      ]
    },
    {
      "cell_type": "code",
      "source": [
        "l1 = [ '233', '123', '345','234']"
      ],
      "metadata": {
        "id": "E_SPSTegbLw3"
      },
      "execution_count": null,
      "outputs": []
    },
    {
      "cell_type": "code",
      "source": [
        "def typecaster(a):\n",
        "  return int(a)"
      ],
      "metadata": {
        "id": "aNPN3mDrcGeQ"
      },
      "execution_count": null,
      "outputs": []
    },
    {
      "cell_type": "code",
      "source": [
        "list(map(typecaster, l1))"
      ],
      "metadata": {
        "colab": {
          "base_uri": "https://localhost:8080/"
        },
        "id": "aKc4L3ilcRVX",
        "outputId": "c5a46697-cf3e-405e-b722-9a7e33482fab"
      },
      "execution_count": null,
      "outputs": [
        {
          "output_type": "execute_result",
          "data": {
            "text/plain": [
              "[233, 123, 345, 234]"
            ]
          },
          "metadata": {},
          "execution_count": 10
        }
      ]
    },
    {
      "cell_type": "code",
      "source": [
        "#ist argumnet is function , 2nd argumnet is iterable"
      ],
      "metadata": {
        "id": "7pOcnILgcYJF"
      },
      "execution_count": null,
      "outputs": []
    },
    {
      "cell_type": "code",
      "source": [
        "list(map(lambda x : int(x) , l1))"
      ],
      "metadata": {
        "colab": {
          "base_uri": "https://localhost:8080/"
        },
        "id": "Xlc71li6cly1",
        "outputId": "00f7c41d-bbef-4f65-e333-df10697b1756"
      },
      "execution_count": null,
      "outputs": [
        {
          "output_type": "execute_result",
          "data": {
            "text/plain": [
              "[233, 123, 345, 234]"
            ]
          },
          "metadata": {},
          "execution_count": 14
        }
      ]
    },
    {
      "cell_type": "code",
      "source": [
        "list(map(lambda x : x+5 , l))"
      ],
      "metadata": {
        "colab": {
          "base_uri": "https://localhost:8080/"
        },
        "id": "ywSIY4jpgddx",
        "outputId": "1423e34e-6ed5-46b7-cd1a-925ae1d9bd03"
      },
      "execution_count": null,
      "outputs": [
        {
          "output_type": "execute_result",
          "data": {
            "text/plain": [
              "[6, 7, 8, 9, 10, 11]"
            ]
          },
          "metadata": {},
          "execution_count": 16
        }
      ]
    },
    {
      "cell_type": "code",
      "source": [
        "# map is nothing just give a function and map it with a dataset and can be used with all the iterable"
      ],
      "metadata": {
        "id": "eJKOOrE-grOH"
      },
      "execution_count": null,
      "outputs": []
    },
    {
      "cell_type": "code",
      "source": [
        "l = [2,34,5,6,8,22,12]"
      ],
      "metadata": {
        "id": "Zw19EMA1hRiT"
      },
      "execution_count": null,
      "outputs": []
    },
    {
      "cell_type": "code",
      "source": [
        "def test4(a):\n",
        "  if a%2 == 0:\n",
        "    return a"
      ],
      "metadata": {
        "id": "R73OfI61hXDT"
      },
      "execution_count": null,
      "outputs": []
    },
    {
      "cell_type": "code",
      "source": [
        "[i for i in l if i%2 ==0]"
      ],
      "metadata": {
        "colab": {
          "base_uri": "https://localhost:8080/"
        },
        "id": "koqrNlwxhyyc",
        "outputId": "e770c4b3-2249-4f2b-eba5-bcbcebe0e958"
      },
      "execution_count": null,
      "outputs": [
        {
          "output_type": "execute_result",
          "data": {
            "text/plain": [
              "[2, 34, 6, 8, 22, 12]"
            ]
          },
          "metadata": {},
          "execution_count": 21
        }
      ]
    },
    {
      "cell_type": "code",
      "source": [
        "list(filter(test4 , l))"
      ],
      "metadata": {
        "colab": {
          "base_uri": "https://localhost:8080/"
        },
        "id": "GlVh7tcmj7jh",
        "outputId": "f8fb08f9-eb02-4f4e-ef13-aa215bc34ff4"
      },
      "execution_count": null,
      "outputs": [
        {
          "output_type": "execute_result",
          "data": {
            "text/plain": [
              "[2, 34, 6, 8, 22, 12]"
            ]
          },
          "metadata": {},
          "execution_count": 22
        }
      ]
    },
    {
      "cell_type": "code",
      "source": [
        "list(filter(lambda x : x%2 == 0, l))"
      ],
      "metadata": {
        "colab": {
          "base_uri": "https://localhost:8080/"
        },
        "id": "Jx0C5uiOmqCr",
        "outputId": "3965528c-ef38-47c1-da22-ba63376cf3f5"
      },
      "execution_count": null,
      "outputs": [
        {
          "output_type": "execute_result",
          "data": {
            "text/plain": [
              "[2, 34, 6, 8, 22, 12]"
            ]
          },
          "metadata": {},
          "execution_count": 23
        }
      ]
    },
    {
      "cell_type": "code",
      "source": [
        " list(filter(lambda x : x+5 , l))\n",
        " # this line return tha same list because filter works on true or false "
      ],
      "metadata": {
        "id": "fh3dM-R3nsMR",
        "colab": {
          "base_uri": "https://localhost:8080/"
        },
        "outputId": "58d74d43-e5ac-422b-d345-8817cd7c2cac"
      },
      "execution_count": 25,
      "outputs": [
        {
          "output_type": "execute_result",
          "data": {
            "text/plain": [
              "[2, 34, 5, 6, 8, 22, 12]"
            ]
          },
          "metadata": {},
          "execution_count": 25
        }
      ]
    },
    {
      "cell_type": "code",
      "source": [
        "from functools import reduce"
      ],
      "metadata": {
        "id": "7xPjOw00uEeU"
      },
      "execution_count": 26,
      "outputs": []
    },
    {
      "cell_type": "code",
      "source": [
        "l = [23,45,12,3,45]\n",
        "# tis is the list and i have to perform a summation operation"
      ],
      "metadata": {
        "id": "TUm2vtGxuiQh"
      },
      "execution_count": 29,
      "outputs": []
    },
    {
      "cell_type": "code",
      "source": [
        "sum(l)"
      ],
      "metadata": {
        "colab": {
          "base_uri": "https://localhost:8080/"
        },
        "id": "5JkCxkCGu4kP",
        "outputId": "27ad1104-b0cd-42d3-ebb9-4af953bb7374"
      },
      "execution_count": 30,
      "outputs": [
        {
          "output_type": "execute_result",
          "data": {
            "text/plain": [
              "128"
            ]
          },
          "metadata": {},
          "execution_count": 30
        }
      ]
    },
    {
      "cell_type": "code",
      "source": [
        "def test(a,b):\n",
        "   return a+b"
      ],
      "metadata": {
        "id": "mhACsOwgu62x"
      },
      "execution_count": 31,
      "outputs": []
    },
    {
      "cell_type": "code",
      "source": [
        "reduce(test,l)"
      ],
      "metadata": {
        "colab": {
          "base_uri": "https://localhost:8080/"
        },
        "id": "D9Tr3OQcvHAu",
        "outputId": "aa6744d1-3d26-492b-be7a-69e20a274f01"
      },
      "execution_count": 32,
      "outputs": [
        {
          "output_type": "execute_result",
          "data": {
            "text/plain": [
              "128"
            ]
          },
          "metadata": {},
          "execution_count": 32
        }
      ]
    },
    {
      "cell_type": "code",
      "source": [
        "def test(a,b):\n",
        "   return a*b\n",
        "reduce(test , l)   "
      ],
      "metadata": {
        "colab": {
          "base_uri": "https://localhost:8080/"
        },
        "id": "uepHT6DjvNAe",
        "outputId": "c51eb225-b5a6-43cc-85a0-9cce691e214d"
      },
      "execution_count": 35,
      "outputs": [
        {
          "output_type": "execute_result",
          "data": {
            "text/plain": [
              "1676700"
            ]
          },
          "metadata": {},
          "execution_count": 35
        }
      ]
    },
    {
      "cell_type": "code",
      "source": [
        "def test(a,b):\n",
        "   return a/b\n",
        "reduce(test , l)   "
      ],
      "metadata": {
        "colab": {
          "base_uri": "https://localhost:8080/"
        },
        "id": "aO_VOwm2vVXO",
        "outputId": "cfb066f0-8309-44b2-8cd6-277a654e6f80"
      },
      "execution_count": 36,
      "outputs": [
        {
          "output_type": "execute_result",
          "data": {
            "text/plain": [
              "0.00031550068587105626"
            ]
          },
          "metadata": {},
          "execution_count": 36
        }
      ]
    },
    {
      "cell_type": "code",
      "source": [
        "#it remembers previous rsult and try to pass it to given function both previous function value and next element from iterable object"
      ],
      "metadata": {
        "id": "QIcprwjZvfK9"
      },
      "execution_count": 37,
      "outputs": []
    },
    {
      "cell_type": "code",
      "source": [
        "# one exception in reduce\n",
        "l=[3]\n",
        "reduce(test , l)\n",
        "#by default here  it consider 2nd to be zero"
      ],
      "metadata": {
        "colab": {
          "base_uri": "https://localhost:8080/"
        },
        "id": "H31pzuTEv-Ht",
        "outputId": "16c975ff-efc9-4b2b-e2e5-99e4d4d249ba"
      },
      "execution_count": 38,
      "outputs": [
        {
          "output_type": "execute_result",
          "data": {
            "text/plain": [
              "3"
            ]
          },
          "metadata": {},
          "execution_count": 38
        }
      ]
    },
    {
      "cell_type": "code",
      "source": [
        "l = [1,23,43,55,6,77,788]\n",
        "l1 = [1, 3, 43, 5, 5, 6,7,43,5,6]\n",
        "l3 = [354, 6, 4, 4, 32, 56, 2]\n",
        "l4 = [\"a\" , \"e\" , \"e\" , \"r\" , \"t\" , \"g\"]"
      ],
      "metadata": {
        "id": "E2f8FkdCw2mr"
      },
      "execution_count": 43,
      "outputs": []
    },
    {
      "cell_type": "code",
      "source": [
        "list(zip(l , l1, l3 , l4))"
      ],
      "metadata": {
        "colab": {
          "base_uri": "https://localhost:8080/"
        },
        "id": "WAkpd2mbyFjp",
        "outputId": "4cfdd53b-b8e0-4b71-b446-eb1a2c0a260a"
      },
      "execution_count": 44,
      "outputs": [
        {
          "output_type": "execute_result",
          "data": {
            "text/plain": [
              "[(1, 1, 354, 'a'),\n",
              " (23, 3, 6, 'e'),\n",
              " (43, 43, 4, 'e'),\n",
              " (55, 5, 4, 'r'),\n",
              " (6, 5, 32, 't'),\n",
              " (77, 6, 56, 'g')]"
            ]
          },
          "metadata": {},
          "execution_count": 44
        }
      ]
    },
    {
      "cell_type": "code",
      "source": [
        "# zip coonsider size according to 1st argumnt size"
      ],
      "metadata": {
        "id": "y7PfB2A8yIKo"
      },
      "execution_count": 45,
      "outputs": []
    },
    {
      "cell_type": "code",
      "source": [],
      "metadata": {
        "id": "_yQP2yYK0rtS"
      },
      "execution_count": null,
      "outputs": []
    },
    {
      "cell_type": "markdown",
      "source": [
        "\"\"\"Task for today :\n",
        "  dataset -   https://archive.ics.uci.edu/ml/datasets/Bag+of+Words\n",
        "    \n",
        "    q1 = try to find out a count of each and every word in a respective file return a list of tuple with word and its respective count \n",
        "       sample example -  [('sudh', 6 ) , ('kumar',3)]\n",
        "    q2 = try to perform a reduce operation to get a count of all the word starting with same alphabet\n",
        "        sample examle = [(a,56) , (b,34),...........]\n",
        "    q3 = Try to filter out all the words from dataset . \n",
        "    \n",
        "    .001.abstract = abstract\n",
        "    =.002 = delete\n",
        "    q4 = create a tuple set of all the records avaialble in all the five file and then store it in sqllite DB . \n",
        "    (aah,>=,354,fdsf,wer)\n",
        "    \n",
        "    Top 10 will be able to get kids neuron \"\"\""
      ],
      "metadata": {
        "id": "1pgk7eJK0Z8Q"
      }
    },
    {
      "cell_type": "code",
      "source": [
        "# is task ka solution alag se ek main folder banunga usme dalunga solution jisme sarre given task ke solution honge with all given coding standard"
      ],
      "metadata": {
        "id": "Up2vg_D9y4DY"
      },
      "execution_count": 50,
      "outputs": []
    },
    {
      "cell_type": "code",
      "source": [],
      "metadata": {
        "id": "eH__-Mfe0Kym"
      },
      "execution_count": null,
      "outputs": []
    }
  ]
}