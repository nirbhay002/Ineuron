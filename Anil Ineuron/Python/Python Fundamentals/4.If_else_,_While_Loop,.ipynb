{
  "cells": [
    {
      "cell_type": "code",
      "execution_count": 14,
      "metadata": {
        "colab": {
          "base_uri": "https://localhost:8080/"
        },
        "id": "b2xcCawZ-JAh",
        "outputId": "204d8a9a-29c3-4f5d-b012-04e7c1419732"
      },
      "outputs": [
        {
          "name": "stdout",
          "output_type": "stream",
          "text": [
            "Python 3.8.10\n"
          ]
        }
      ],
      "source": [
        "!python --version"
      ]
    },
    {
      "cell_type": "code",
      "execution_count": 15,
      "metadata": {
        "id": "nwT2rUNY-kah"
      },
      "outputs": [
        {
          "name": "stdout",
          "output_type": "stream",
          "text": [
            "[sudo] password for abc: \n",
            "[sudo] password for abc: \n"
          ]
        }
      ],
      "source": [
        "!sudo apt-get update -y\n",
        "!sudo apt-get install python3.9"
      ]
    },
    {
      "cell_type": "code",
      "execution_count": null,
      "metadata": {
        "id": "d3R9zaoF_aP0"
      },
      "outputs": [],
      "source": [
        "!sudo update-alternatives --install /usr/bin/python3 python3 /usr/bin/python3.8 1\n",
        "!sudo update-alternatives --install /usr/bin/python3 python3 /usr/bin/python3.9 2\n"
      ]
    },
    {
      "cell_type": "code",
      "execution_count": null,
      "metadata": {
        "colab": {
          "base_uri": "https://localhost:8080/"
        },
        "id": "rv0SSJ8h_aDy",
        "outputId": "b3fd85fa-7aeb-4e9d-a971-e55ede1c3524"
      },
      "outputs": [
        {
          "name": "stdout",
          "output_type": "stream",
          "text": [
            "Python 3.9.16\n"
          ]
        }
      ],
      "source": [
        "!python --version"
      ]
    },
    {
      "cell_type": "code",
      "execution_count": null,
      "metadata": {
        "colab": {
          "base_uri": "https://localhost:8080/"
        },
        "id": "RNckqAr9HiCH",
        "outputId": "6e98f2b4-cf50-469e-ec3f-899febf981c1"
      },
      "outputs": [
        {
          "name": "stdout",
          "output_type": "stream",
          "text": [
            "3\n",
            "4\n",
            "5\n",
            "6\n",
            "56\n",
            "58\n",
            "9\n",
            "880\n"
          ]
        },
        {
          "data": {
            "text/plain": [
              "[107, 108, 109, 110, 160, 162, 113, 984]"
            ]
          },
          "execution_count": 1,
          "metadata": {},
          "output_type": "execute_result"
        }
      ],
      "source": [
        "l=[1,2,3,4,54,56,7,878,]\n",
        "l1=[]\n",
        "for i in l:\n",
        "    print(i+2)\n",
        "    l1.append(i+106)\n",
        "l1\n"
      ]
    },
    {
      "cell_type": "code",
      "execution_count": null,
      "metadata": {
        "colab": {
          "base_uri": "https://localhost:8080/"
        },
        "id": "3r3ZPKeoZHla",
        "outputId": "e78e8889-3611-4da9-d4a3-4aafe02da9a0"
      },
      "outputs": [
        {
          "name": "stdout",
          "output_type": "stream",
          "text": [
            "A\n",
            "n\n",
            "i\n",
            "l\n",
            "K\n",
            "a\n",
            "m\n",
            "a\n",
            "t\n"
          ]
        }
      ],
      "source": [
        "for i in \"AnilKamat\":\n",
        "  print(i)\n"
      ]
    },
    {
      "cell_type": "code",
      "execution_count": null,
      "metadata": {
        "colab": {
          "base_uri": "https://localhost:8080/"
        },
        "id": "9uEN4vWnamEU",
        "outputId": "56d89d4c-bb36-4fab-aef4-617f4e78614f"
      },
      "outputs": [
        {
          "name": "stdout",
          "output_type": "stream",
          "text": [
            "<class 'int'>\n",
            "1\n",
            "<class 'str'>\n",
            "<class 'complex'>\n",
            "<class 'float'>\n",
            "<class 'bool'>\n",
            "<class 'int'>\n",
            "23\n",
            "<class 'int'>\n",
            "45\n",
            "<class 'int'>\n",
            "56\n",
            "<class 'list'>\n",
            "1\n",
            "2\n",
            "3\n",
            "4\n",
            "5\n",
            "6\n",
            "78\n",
            "89\n",
            "9\n"
          ]
        }
      ],
      "source": [
        "list1= [1,\"sudh\",3+5j,4.5,True,23,45,56,[1,2,3,4,5,6,78,89,9]]\n",
        "for i in list1:\n",
        "  print(type(i))\n",
        "  if type(i) == int:\n",
        "    print(i)\n",
        "  if type(i) ==list:\n",
        "    for j in i:\n",
        "      print(j)    "
      ]
    },
    {
      "cell_type": "markdown",
      "metadata": {
        "id": "B8I7rzBCgc6U"
      },
      "source": [
        "![image.png](data:image/png;base64,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)"
      ]
    },
    {
      "cell_type": "code",
      "execution_count": null,
      "metadata": {
        "colab": {
          "base_uri": "https://localhost:8080/"
        },
        "id": "Psn7sM0qbNLT",
        "outputId": "438fa99b-4e89-4bc4-ebe6-f215ac5e73cd"
      },
      "outputs": [
        {
          "name": "stdout",
          "output_type": "stream",
          "text": [
            "1\n",
            "2\n",
            "s\n",
            "u\n",
            "d\n",
            "h\n",
            "3\n",
            "4\n",
            "5\n",
            "6\n",
            "7\n",
            "8\n",
            "9\n"
          ]
        },
        {
          "data": {
            "text/plain": [
              "[1, 529, 2025, 3136]"
            ]
          },
          "execution_count": 2,
          "metadata": {},
          "output_type": "execute_result"
        }
      ],
      "source": [
        "list1= [1,\"sudh\",3+5j,4.5,True,23,45,56,[1,2,3,4,5,6,78,89,9]]\n",
        "l1=0\n",
        "l2=[]\n",
        "for i in list1:\n",
        "  l1=l1+1\n",
        "  print(l1)\n",
        "  if type(i) == str:\n",
        "    for j in i:\n",
        "      print(j)\n",
        "  if type(i) == int:\n",
        "      l2.append(i*i)\n",
        "l2\n",
        "      \n"
      ]
    },
    {
      "cell_type": "code",
      "execution_count": null,
      "metadata": {
        "colab": {
          "base_uri": "https://localhost:8080/"
        },
        "id": "yDijCqzdh_9E",
        "outputId": "4651768f-4cea-467a-8fad-643e2cd11717"
      },
      "outputs": [
        {
          "name": "stdout",
          "output_type": "stream",
          "text": [
            "0 range of 1\n",
            "1 range of sudh\n",
            "2 range of (3+5j)\n",
            "3 range of 4.5\n",
            "4 range of True\n",
            "5 range of 23\n",
            "6 range of 45\n",
            "7 range of 56\n",
            "8 range of [1, 2, 3, 4, 5, 6, 78, 89, 9]\n"
          ]
        }
      ],
      "source": [
        "for i in range(len(list1)):\n",
        "  print(i,\"range of\",list1[i])"
      ]
    },
    {
      "cell_type": "code",
      "execution_count": null,
      "metadata": {
        "colab": {
          "base_uri": "https://localhost:8080/"
        },
        "id": "A_Dy5QCKkAYf",
        "outputId": "fca6831e-d50f-4d49-ee9e-edb232a10b32"
      },
      "outputs": [
        {
          "name": "stdout",
          "output_type": "stream",
          "text": [
            "(0, 1)\n",
            "(1, 'sudh')\n",
            "(2, (3+5j))\n",
            "(3, 4.5)\n",
            "(4, True)\n",
            "(5, 23)\n",
            "(6, 45)\n",
            "(7, 56)\n",
            "(8, [1, 2, 3, 4, 5, 6, 78, 89, 9])\n"
          ]
        }
      ],
      "source": [
        "#using enumerate\n",
        "for i in enumerate(list1):\n",
        "  print(i)\n",
        "  "
      ]
    },
    {
      "cell_type": "code",
      "execution_count": null,
      "metadata": {
        "colab": {
          "base_uri": "https://localhost:8080/"
        },
        "id": "C_QZM753kXbd",
        "outputId": "b160a655-4544-4dc9-ee88-3abac5b73a2f"
      },
      "outputs": [
        {
          "name": "stdout",
          "output_type": "stream",
          "text": [
            "1\n",
            "2\n",
            "3\n",
            "4\n",
            "5\n",
            "asd\n",
            "(3+5j)\n",
            "(12, 34, 5)\n",
            "{354, 12, (6+3j)}\n",
            "This statement runs only after completion of loop\n"
          ]
        }
      ],
      "source": [
        "L1as= [1,2,3,4,5,\"asd\",3+5J,(12,34,5),{12,354,6+3j}]\n",
        "for i in L1as:\n",
        "  print(i)\n",
        "else:\n",
        "    print(\"This statement runs only after completion of loop\")"
      ]
    },
    {
      "cell_type": "code",
      "execution_count": null,
      "metadata": {},
      "outputs": [
        {
          "name": "stdout",
          "output_type": "stream",
          "text": [
            "1\n",
            "2\n",
            "3\n",
            "4\n",
            "5\n"
          ]
        }
      ],
      "source": [
        "#in for-else statement, else block will run iff for loop will completely execute\n",
        "for i in L1as:\n",
        "    if i == \"asd\":\n",
        "        break\n",
        "    print(i)\n",
        "else:\n",
        "    print('check this statement')    "
      ]
    },
    {
      "cell_type": "code",
      "execution_count": null,
      "metadata": {
        "id": "snSr2onnfVbW"
      },
      "outputs": [],
      "source": [
        "#Don't run. Infinite loop, try to understand on your own\n",
        "a=1 \n",
        "while a<5:\n",
        "  if a==3:\n",
        "    print(a)\n",
        "    continue\n",
        "  a=a+1\n",
        "  \n",
        "  \n"
      ]
    },
    {
      "cell_type": "code",
      "execution_count": null,
      "metadata": {
        "colab": {
          "base_uri": "https://localhost:8080/"
        },
        "id": "er38oRX0lEAA",
        "outputId": "9a77bfb3-b3e8-49ac-dc31-b4741c544317"
      },
      "outputs": [
        {
          "name": "stdout",
          "output_type": "stream",
          "text": [
            "2\n",
            "4\n",
            "5\n"
          ]
        }
      ],
      "source": [
        "a=1 \n",
        "while a<5:\n",
        "  a=a+1\n",
        "  if a==3:\n",
        "    continue\n",
        "  print(a)  \n",
        "  "
      ]
    },
    {
      "cell_type": "code",
      "execution_count": null,
      "metadata": {
        "id": "Mglg7IXlmk5O"
      },
      "outputs": [],
      "source": [
        "a=1 \n",
        "while a<5:\n",
        "  a=a+1\n",
        "  if a==3:\n",
        "    a=1\n",
        "    continue\n",
        "  print(a)  "
      ]
    },
    {
      "cell_type": "code",
      "execution_count": null,
      "metadata": {
        "id": "iGkEKWOuCdrk"
      },
      "outputs": [],
      "source": [
        "a=4\n",
        "while a < 8:\n",
        "   pass      #when we don't want to execute any statement"
      ]
    },
    {
      "cell_type": "code",
      "execution_count": null,
      "metadata": {
        "id": "4dMKzW0pFCnm"
      },
      "outputs": [],
      "source": [
        "i=0\n",
        "a=[1,2,3,45,6,7]\n",
        "for i in a:\n",
        "  pass\n"
      ]
    },
    {
      "cell_type": "code",
      "execution_count": null,
      "metadata": {
        "id": "W1pvW5_4Fd8g"
      },
      "outputs": [],
      "source": [
        "a=3\n",
        "while a < 4:\n",
        "  break"
      ]
    },
    {
      "cell_type": "code",
      "execution_count": 16,
      "metadata": {
        "colab": {
          "base_uri": "https://localhost:8080/",
          "height": 182
        },
        "id": "FGOyylTRGUhn",
        "outputId": "ddac2d12-81c9-4b59-8461-49c908ce1d83"
      },
      "outputs": [],
      "source": [
        "#infinite loop\n",
        "  while a<4:\n",
        "  continue"
      ]
    },
    {
      "cell_type": "code",
      "execution_count": 18,
      "metadata": {
        "colab": {
          "base_uri": "https://localhost:8080/"
        },
        "id": "SclX4Fl9GqhZ",
        "outputId": "d3398941-c32d-4e89-aad0-bf07af9799e3"
      },
      "outputs": [
        {
          "name": "stdout",
          "output_type": "stream",
          "text": [
            "\n",
            "\n",
            "a \n",
            "\n",
            "a a \n",
            "\n",
            "a a a \n",
            "\n",
            "a a a a \n",
            "\n"
          ]
        }
      ],
      "source": [
        "n,i,j=5,0,0\n",
        "while i<5:\n",
        "  while j<i:\n",
        "    print(\"a\",end=\" \")\n",
        "    j=j+1\n",
        "  print(\"\\n\")\n",
        "  j=0  \n",
        "  i=i+1  "
      ]
    },
    {
      "cell_type": "code",
      "execution_count": null,
      "metadata": {
        "colab": {
          "base_uri": "https://localhost:8080/"
        },
        "id": "owQy1kPBgNG-",
        "outputId": "f52e3ef7-5e79-4cc5-e59a-6a8bb6ae63b6"
      },
      "outputs": [
        {
          "data": {
            "text/plain": [
              "range(0, 7)"
            ]
          },
          "execution_count": 6,
          "metadata": {},
          "output_type": "execute_result"
        }
      ],
      "source": [
        "range(7)"
      ]
    },
    {
      "cell_type": "code",
      "execution_count": null,
      "metadata": {
        "colab": {
          "base_uri": "https://localhost:8080/"
        },
        "id": "eikUt04TjQpb",
        "outputId": "f59d376b-840e-4364-ab37-e72338f5462c"
      },
      "outputs": [
        {
          "name": "stdout",
          "output_type": "stream",
          "text": [
            "range(0, 3)\n"
          ]
        }
      ],
      "source": [
        " l=[]\n",
        " l=range(3)\n",
        " print(l)"
      ]
    },
    {
      "cell_type": "code",
      "execution_count": null,
      "metadata": {
        "colab": {
          "base_uri": "https://localhost:8080/"
        },
        "id": "4mbkhouXkaNG",
        "outputId": "e84175a6-376f-4b14-c428-4032a7405fac"
      },
      "outputs": [
        {
          "data": {
            "text/plain": [
              "[0, 1, 2, 3]"
            ]
          },
          "execution_count": 10,
          "metadata": {},
          "output_type": "execute_result"
        }
      ],
      "source": [
        "list(range(4))"
      ]
    },
    {
      "cell_type": "code",
      "execution_count": null,
      "metadata": {
        "colab": {
          "base_uri": "https://localhost:8080/"
        },
        "id": "NME3JuUikJKm",
        "outputId": "63925ccf-e36a-42ba-8f6d-efa17120c011"
      },
      "outputs": [
        {
          "data": {
            "text/plain": [
              "[0, 1, 2, 3, 4]"
            ]
          },
          "execution_count": 12,
          "metadata": {},
          "output_type": "execute_result"
        }
      ],
      "source": [
        "list(range(0,5))"
      ]
    },
    {
      "cell_type": "code",
      "execution_count": null,
      "metadata": {
        "colab": {
          "base_uri": "https://localhost:8080/"
        },
        "id": "3Dxs_dYMkKpv",
        "outputId": "7b2c0afe-8303-4951-e073-548b9b1ad36d"
      },
      "outputs": [
        {
          "data": {
            "text/plain": [
              "[4, 5, 6, 7, 8, 9]"
            ]
          },
          "execution_count": 13,
          "metadata": {},
          "output_type": "execute_result"
        }
      ],
      "source": [
        "list(range(4,10))"
      ]
    },
    {
      "cell_type": "code",
      "execution_count": null,
      "metadata": {
        "colab": {
          "base_uri": "https://localhost:8080/"
        },
        "id": "fxzhdlJjlLDR",
        "outputId": "ec838da4-3ea0-458d-b856-5fad1d1090f3"
      },
      "outputs": [
        {
          "data": {
            "text/plain": [
              "[3, 6]"
            ]
          },
          "execution_count": 14,
          "metadata": {},
          "output_type": "execute_result"
        }
      ],
      "source": [
        "  list(range(3,8,3))"
      ]
    },
    {
      "cell_type": "code",
      "execution_count": null,
      "metadata": {
        "colab": {
          "base_uri": "https://localhost:8080/"
        },
        "id": "Oo_NDm5hlhgs",
        "outputId": "1afeaba3-c7c3-4791-b125-4191fdc547ed"
      },
      "outputs": [
        {
          "data": {
            "text/plain": [
              "[]"
            ]
          },
          "execution_count": 15,
          "metadata": {},
          "output_type": "execute_result"
        }
      ],
      "source": [
        "list(range(3,10,-1))\n",
        "#negative jump size not accepted"
      ]
    },
    {
      "cell_type": "code",
      "execution_count": null,
      "metadata": {
        "colab": {
          "base_uri": "https://localhost:8080/"
        },
        "id": "fUC9dtvwmE8q",
        "outputId": "c4034061-852f-4350-d911-b58c9073f133"
      },
      "outputs": [
        {
          "data": {
            "text/plain": [
              "[10, 9, 8, 7]"
            ]
          },
          "execution_count": 16,
          "metadata": {},
          "output_type": "execute_result"
        }
      ],
      "source": [
        " list(range(10,6,-1))"
      ]
    },
    {
      "cell_type": "code",
      "execution_count": null,
      "metadata": {
        "colab": {
          "base_uri": "https://localhost:8080/"
        },
        "id": "BevxX-CinH3J",
        "outputId": "4be0a379-88b5-4652-a789-e9f088701ccb"
      },
      "outputs": [
        {
          "data": {
            "text/plain": [
              "[10, 8, 6, 4, 2, 0, -2, -4]"
            ]
          },
          "execution_count": 1,
          "metadata": {},
          "output_type": "execute_result"
        }
      ],
      "source": [
        "list(range(10,-5,-2))"
      ]
    },
    {
      "cell_type": "code",
      "execution_count": null,
      "metadata": {
        "colab": {
          "base_uri": "https://localhost:8080/"
        },
        "id": "kwzGjZnjlFrn",
        "outputId": "23c12d9d-6a8f-4f91-88ee-f344ed9273b3"
      },
      "outputs": [
        {
          "name": "stdout",
          "output_type": "stream",
          "text": [
            "10\n",
            "8\n",
            "6\n",
            "4\n",
            "2\n",
            "0\n",
            "-2\n",
            "-4\n"
          ]
        }
      ],
      "source": [
        "for i in range(10,-5,-2):\n",
        "  print(i)"
      ]
    },
    {
      "cell_type": "code",
      "execution_count": null,
      "metadata": {
        "colab": {
          "base_uri": "https://localhost:8080/"
        },
        "id": "qcGoG8LWlbDf",
        "outputId": "e8e82ab8-c20d-46b7-f227-9091f32a9898"
      },
      "outputs": [
        {
          "name": "stdout",
          "output_type": "stream",
          "text": [
            "*\n",
            "**\n",
            "***\n",
            "****\n",
            "*****\n"
          ]
        }
      ],
      "source": [
        "n=5\n",
        "for i in range(0,n):\n",
        "  for j in range(0,i+1):\n",
        "    print(\"*\",end=\"\")\n",
        "  print(\"\\r\")  "
      ]
    },
    {
      "cell_type": "code",
      "execution_count": null,
      "metadata": {
        "id": "xyduGvevmLIF"
      },
      "outputs": [],
      "source": [
        " #\\r = carriage return , means doesn't give space between lines "
      ]
    },
    {
      "cell_type": "code",
      "execution_count": null,
      "metadata": {
        "colab": {
          "base_uri": "https://localhost:8080/"
        },
        "id": "hC4U_dHn8Ud-",
        "outputId": "7bec59c3-1d9a-4533-8459-fca52708dce4"
      },
      "outputs": [
        {
          "name": "stdout",
          "output_type": "stream",
          "text": [
            "0\n",
            "1\n",
            "2\n",
            "3\n",
            "4\n",
            "5\n"
          ]
        }
      ],
      "source": [
        " t=(2,3,4,5,6,7) #print index of all element\n",
        " for i in range(len(t)):\n",
        "   print(i)"
      ]
    },
    {
      "cell_type": "code",
      "execution_count": null,
      "metadata": {
        "colab": {
          "base_uri": "https://localhost:8080/"
        },
        "id": "s5_Mm7qCAMri",
        "outputId": "ad7ed28d-f7c3-4b94-faf8-2cb7d18b6acf"
      },
      "outputs": [
        {
          "name": "stdout",
          "output_type": "stream",
          "text": [
            "7\n",
            "6\n",
            "5\n",
            "4\n",
            "3\n",
            "2\n"
          ]
        }
      ],
      "source": [
        " #range doesn't have any default value\n",
        " for i in range(len(t)-1,-1,-1):\n",
        "   print(t[i])"
      ]
    },
    {
      "cell_type": "code",
      "execution_count": null,
      "metadata": {
        "colab": {
          "base_uri": "https://localhost:8080/"
        },
        "id": "X2UtT4f5AvaK",
        "outputId": "6630f507-acf5-45f7-eca9-e1c71799c1f8"
      },
      "outputs": [
        {
          "name": "stdout",
          "output_type": "stream",
          "text": [
            "a\n",
            "b\n",
            "d\n",
            "c\n"
          ]
        }
      ],
      "source": [
        "#it return only keys of dictionary\n",
        "d={\"a\":\"asdfg\",\"b\":[1,2,3,4,5,6],\"d\":(1,2,3,4),\"c\":\"sudhet\"}\n",
        "for i in d:\n",
        "  print(i)"
      ]
    },
    {
      "cell_type": "code",
      "execution_count": null,
      "metadata": {
        "colab": {
          "base_uri": "https://localhost:8080/"
        },
        "id": "uay_q8FeDwGB",
        "outputId": "dd561b15-caff-4995-b321-d9091ed7aaf8"
      },
      "outputs": [
        {
          "name": "stdout",
          "output_type": "stream",
          "text": [
            "a asdfg\n",
            "b [1, 2, 3, 4, 5, 6]\n",
            "d (1, 2, 3, 4)\n",
            "c sudhet\n"
          ]
        }
      ],
      "source": [
        "#???? but how i can get values of all keys \n",
        "for i in d:\n",
        "  print(i,d[i])"
      ]
    },
    {
      "cell_type": "code",
      "execution_count": null,
      "metadata": {
        "colab": {
          "base_uri": "https://localhost:8080/"
        },
        "id": "Ekz--vwIEOgc",
        "outputId": "d18fe04c-3441-4c89-967a-508ef2798de3"
      },
      "outputs": [
        {
          "data": {
            "text/plain": [
              "dict_items([('a', 'asdfg'), ('b', [1, 2, 3, 4, 5, 6]), ('d', (1, 2, 3, 4)), ('c', 'sudhet')])"
            ]
          },
          "execution_count": 22,
          "metadata": {},
          "output_type": "execute_result"
        }
      ],
      "source": [
        "d.items() # list of tuples of key & value pair "
      ]
    },
    {
      "cell_type": "code",
      "execution_count": null,
      "metadata": {
        "colab": {
          "base_uri": "https://localhost:8080/"
        },
        "id": "4hUDBryyEX9e",
        "outputId": "f9ff636d-e01c-40b4-e58b-cc64feebe601"
      },
      "outputs": [
        {
          "name": "stdout",
          "output_type": "stream",
          "text": [
            "('a', 'asdfg')\n",
            "('b', [1, 2, 3, 4, 5, 6])\n",
            "('d', (1, 2, 3, 4))\n",
            "('c', 'sudhet')\n"
          ]
        }
      ],
      "source": [
        "for i in d.items():\n",
        "  print(i)"
      ]
    },
    {
      "cell_type": "code",
      "execution_count": null,
      "metadata": {
        "id": "kH91fKqAEr9N"
      },
      "outputs": [],
      "source": [
        "#???? is it true that set always return ordered list of elements\n",
        "# @ no set only remove duplicate elements"
      ]
    },
    {
      "cell_type": "code",
      "execution_count": null,
      "metadata": {
        "colab": {
          "base_uri": "https://localhost:8080/"
        },
        "id": "vTxgcjJrFdhE",
        "outputId": "b66f86ec-2f0c-472d-90d4-457bbae35f8c"
      },
      "outputs": [
        {
          "data": {
            "text/plain": [
              "{1, 2, 53, 54, 56, 78}"
            ]
          },
          "execution_count": 3,
          "metadata": {},
          "output_type": "execute_result"
        }
      ],
      "source": [
        "s={2,1,54,53,78,56}\n",
        "s"
      ]
    },
    {
      "cell_type": "code",
      "execution_count": null,
      "metadata": {
        "colab": {
          "base_uri": "https://localhost:8080/"
        },
        "id": "YJToXiUiFv02",
        "outputId": "87e3d66b-2a54-4eb7-d7f8-b9910721b268"
      },
      "outputs": [
        {
          "data": {
            "text/plain": [
              "{0, '000', '345Anisha', 677, '9papa08', 'Anil3'}"
            ]
          },
          "execution_count": 4,
          "metadata": {},
          "output_type": "execute_result"
        }
      ],
      "source": [
        "s2={\"Anil3\",\"000\",\"345Anisha\",677,\"9papa08\",0}\n",
        "s2"
      ]
    },
    {
      "cell_type": "code",
      "execution_count": null,
      "metadata": {
        "id": "x5VTgpm-F381"
      },
      "outputs": [],
      "source": [
        "#it looks that it return sorted array because in hetrogenous data we seen kit not woprked in this way"
      ]
    },
    {
      "cell_type": "code",
      "execution_count": null,
      "metadata": {
        "colab": {
          "base_uri": "https://localhost:8080/"
        },
        "id": "ivBo9jqWWWQW",
        "outputId": "7dcdb91a-7f66-46ec-f377-a1feb7967c7a"
      },
      "outputs": [
        {
          "name": "stdout",
          "output_type": "stream",
          "text": [
            "Anil3\n",
            "345Anisha\n",
            "0\n",
            "677\n",
            "9papa08\n",
            "000\n"
          ]
        }
      ],
      "source": [
        "#it is not giving me ordered set see down\n",
        "for i in s2:\n",
        "  print(i)"
      ]
    },
    {
      "cell_type": "code",
      "execution_count": null,
      "metadata": {
        "id": "2YCD_kfzXHMe"
      },
      "outputs": [],
      "source": [
        "a=7\n",
        "while a<7:\n",
        "  pass"
      ]
    },
    {
      "cell_type": "code",
      "execution_count": null,
      "metadata": {
        "colab": {
          "base_uri": "https://localhost:8080/"
        },
        "id": "65SjJEn2Y8Oe",
        "outputId": "ba7cb260-a25b-4d8e-bdf4-1040afeeb6b7"
      },
      "outputs": [
        {
          "name": "stdout",
          "output_type": "stream",
          "text": [
            "1\n",
            "2\n",
            "78\n",
            "53\n",
            "54\n",
            "56\n"
          ]
        }
      ],
      "source": [
        "for i in s:\n",
        "  print(i)"
      ]
    },
    {
      "cell_type": "code",
      "execution_count": null,
      "metadata": {
        "colab": {
          "base_uri": "https://localhost:8080/"
        },
        "id": "nmVQPpe0afVR",
        "outputId": "e26a2c3a-0a63-4b77-b662-6b58c51c1c81"
      },
      "outputs": [
        {
          "ename": "NameError",
          "evalue": "name 'c' is not defined",
          "output_type": "error",
          "traceback": [
            "\u001b[0;31m---------------------------------------------------------------------------\u001b[0m",
            "\u001b[0;31mNameError\u001b[0m                                 Traceback (most recent call last)",
            "Cell \u001b[0;32mIn[13], line 1\u001b[0m\n\u001b[0;32m----> 1\u001b[0m \u001b[43mc\u001b[49m\n",
            "\u001b[0;31mNameError\u001b[0m: name 'c' is not defined"
          ]
        }
      ],
      "source": [
        "c"
      ]
    },
    {
      "cell_type": "code",
      "execution_count": 3,
      "metadata": {
        "colab": {
          "base_uri": "https://localhost:8080/"
        },
        "id": "EBh4CSMtbZsg",
        "outputId": "2d21ad45-364f-48f8-ebab-528d855dfb43"
      },
      "outputs": [
        {
          "name": "stdout",
          "output_type": "stream",
          "text": [
            "singhprinthkihlihlhb \n"
          ]
        }
      ],
      "source": [
        "print(\"vijayagbug ihlihlhb\",\"\\r\"\"singh\"\"print\")"
      ]
    },
    {
      "cell_type": "code",
      "execution_count": null,
      "metadata": {
        "id": "jD9ukiPccmdA"
      },
      "outputs": [],
      "source": [
        " #print me space return nahi mar sakte\n",
        " "
      ]
    },
    {
      "cell_type": "code",
      "execution_count": null,
      "metadata": {
        "id": "-R4xyM9ddS6b"
      },
      "outputs": [],
      "source": []
    },
    {
      "cell_type": "markdown",
      "metadata": {
        "id": "2o539NfJdd0_"
      },
      "source": [
        "![image.png](data:image/png;base64,iVBORw0KGgoAAAANSUhEUgAAAbkAAADECAYAAAACn1+DAAAAAXNSR0IArs4c6QAAAARnQU1BAACxjwv8YQUAAAAJcEhZcwAAEnQAABJ0Ad5mH3gAALGBSURBVHhe7P33kx1Zlh4Ifk/HC60VIqCBBJA6s7KyqrKqulorTjfZJIcccmaXYzY2NFuzMRujGWn8kX/C7M7u/rLLnt1lC3ZXq9JVqTUSWiMAhI4AQmv99H7fuc/jvXh4AQQyI5BApn8R97n79XvPPfe4+/nucRmYn5/PYReRy+UsZbPZzWVvPp1OIxgMoq2tzaY+tsfmRqHtApkU1icnMTE2jsqmZrQd6MDsQA9u/vznSFXvw2/8j/8jsul1LIxPoKGxBYFIEFOz02ht3ycBWB4dw8T0HA4dP4pwTSXGbt5EuKIC4eoqxOMVWJ1fRPOB/UguLGF9Yw119VUYHxzGykYC0apqHDhyCDNTM4jFq1Fd30TlMsitrWJ2dhYt+zqRCQQQCoWBZBLDt3sRjsWxj3W4xTE5OozGji5EKipZLYNACFidm8fKWhJtrOvA3lIGspoC01PTuHvvnmVVVcRx7NhxjNwbRWtHm5WdnZ5BR0cHNhKrGBoexdGjxxAORTE/N4WRkSH2qdpSZ2cXentvY3V1lfqFcOLECWxsbGBgYMD2y7q6Ohw/fhyDg4OYmZtFW3s7qqqr0ch86RLgPqp9V9PFhTn09fez/w3oPtCOxMo6fvnLdzEyOov/+O//L8ilE7TxDOrr6hGPhjF0b4rluhGkvndu3cTcwiJeevE5BENBXLl8HRXxKjQ01KCmqgKzM/M4eOg4Jufm2M4CThw7avr5x4gPH18cPsk96dDWyaVBWkGadgySJSKhLAbe/RXu3B7AN//gn6Cuez+ymTRytGmIbjVIcsipLJdzWdbUsviDjl7EkeJ2CLCQ5plDf55DKKDtxAwiEMwgnRHfuD8RREbOnhUClC9IZjaTQ1iNqRrlq3qWRKYScuakCasXoh5qywohRV1C1pbyt0BKsoz9ct4cfYB11Q8jSJXPUSYlq1n+ZDKUT/1c+YBNvbaCQbWTsf1PZVVOyFCWyZa91Lf8co5lZJcgp0F1kP9OI+mTpS01lyWhAhcuXcDFS9fxW7/xuzi0fx/1o/0ln/XVb9vn2X6QVXK0k+o5PTm3aUttT67nMnNMX4P0t/U+fPj4onhsTCMn4uNRkbcZHT09IZfkMZVCaDr+Ir79x/8MDSQ4lQpEwhYIyTe7YvzJO0tz4JZp/zZfvGxQiGXQGjrj/J+DHLcK5wmEyW3OzdquLUI51nZ+lWu7uCQJi32xjHydTcjj52H1rK6r6WQW5gOmr2SJUkRMslFRPSuTr5ev402L02Ye/8zCzCpHL8p3pViORm6obybB/Qb2d3doLQLhiE0lQ0O6jCdbSXWNIB3Ufa2xIjIFZywStmXpfX/7Pnz4+Hx4LJGcRsqCpn4k9yjQpvEcnkb7cuty5nK03mbjcpEpVZpBWRHyC0WOU45aJbe40uKmCFfmvlJbUVyndF7gstS0VZwXVRZWPmT7WzH+eHpLkM3nyaFIr805znjFtN9tRxZa58Ero/6KLgX9Ftf0SjubMLG+IyrNMrIzgrMl20ZuTjLy8lwV7vO2aHXFyZ44t8FYVsVFhkVk78OHjy+Gh3gaH18uip2d6C2/ueiYvcGEHKdyvWQ19LOZ+FPi7OV8t+bcD1fmYaWKUFxU8/llNS2f7Rb162n6EKhosd6b89SK81r0kitrKzeLPSgacvVd8qC+brFhEbSsFLQyOh3snR7NFRGcoPUu6TTwpjxWLh7TGcHZDJNXQPOCT3A+fOwqig49H08TdH3Hu8a0K/g8vvVr7I/D4bAlHz58PNnwSc6HDx8+fHxl4ZOcDx8+fPj4ymLPSa74In/xvA8fPnz48LHXeKyRnEjuQTcE+PDhw4cPH7sJ/3SlDx8+fPj4ysInOR8+fPjw8ZWFT3I+fPjw4eMri10jOf+mEh8+fPjw8aTBj+R8+PDhw8dXFo+d5PyIz4cPHz58PC7sGsmVPhrgPyrgw4cPHz6+bOxZJLfl5becVwTnPyfnw4cPHz4eJ/aE5LYjMo/ofPjw4cOHj8eBXSe5BxGcDx8+fPjw8TjxWG888YnOhw8fPnw8TjxWkvPhw4cPHz4eJx47yfk3nvjw4cOHj8cFn+R8+PDhw8dXFv7pSh8+fPjw8ZXFnpCcbjDJZrP5JR8+fPjw4ePLQWB+fn7Xb3kUwXkk5z0bl8lkkEgkUFlZiZaWlvKnLaUJsz2FXAku+Tdl+vDhw4ePz4Enh+SKtMjlWJ91VCIX4AqWDfhM58OHDx8+HhFPEMlJjRyyTEH+ieQcWN/KOtLz4FOeDx8+fPh4GJ4gksvA/QUwtjCDhaVlhIJBRJnikRhJL7uF5LyTmT58+Phi4BGan3t80LmZrzKcRR/Frl91i3x5eEJITiqksJFLIBWI4pdXP8HN/j5UBMI42NCCbz3/EpIbSQRJeB5slyglyk0o//EfuLsDr0871b/IBpvRr4/Ph9L96ethTyO5x9lVmvnr4NLl93aKsvco+NgV7CnJeRvZI7mNjQ1UVVUZyQmFDatyG1jPrWIjUIG/OPtLXLh9A/FcBK93PYN/+Rt/hHQyTZIr3hHK7RRfzx2l2Io7x6OU/nratYBSW+21PR73tmF7j7bzfDGYyl+DfepRBp0+ye0Z9oTkPFLbjuRaW1st7z6SA0kOUfzFhZ/jfN91klwUb3Q+h3/9/T9h+bSVl0g3CvRSsfpP746iXkj7rGbURy4U9+xh8KzxaNhZC7oa+ii67BW262PeZF8IJrucEGuwdMWjWfrR9dtZaWePHegicSy2nR6P1pvdwaPZ4/HC7PqkGMrHF8aekJzgkZyXHk5yOl25wUguhD+/8Hc423sJccTwRseL+B9+7V+yfJLlg5xqX9NpS9sV83U9PL17oXphveGM5jfW15HJn/J9IFSBMGvseDToPcdYbLtycPK23vLjapmutuSwXcsPa6EUnpxy9eTQHd16az39Hr2dYkhKYeBUDE9yqfTScg/GI+tX1sNuhWnAYkEeE952t22qqiXqaXFTh7Kqs/fMt2Or7HrCKpdBufIPK8v1X8Z1wEfBDjaBj6cEe0Zy3ilL77SlptuTnJBFMpvEejCHP7vwVzjTdw4VOZJc56v4P3//X/OQSOlQZLnS9NWB52TS6Qy4XRCLxZzDKO0mC5ZutII19PuwTVqe5EprbjpPrcm5eUPR7BZ4um4Rkp/m4ba7ZtxyWVnb1c9xkGPeR7cnCSGmYmGfH6QKiilVhnID5QYD5crmUSZbtXeu4c5Lq6mgbJBv07apqtqyy5StC0MD/m455rx2ivN2BtXYmZbb4UFtl0r2WnvUVktlezKKUZznZG/bwqM07eOJwZ6RnBe9FZOcd+NJWZKjFqlciiSXwX+58Of4rP+skdx3O75JkvvvWd6drnTQ1EuPA4pG2dpmc5+zXQqRsbeSewFeGxsbCSwtLaG+vg7ZDClmS7vlx8Dy/VZMhfPtlGJTDKGHNVyD+YzNmdKaASM5y91sQz9loEJcV1YsZ7bp9hZ4rZcrmjOSo96BdD4jzB9v6OPVLMByqMx29nZgKRKWJ6W4pKwYIKEW4HXMO6PgWt1ax8HL03JZPiytaPBqq2W17aGcAIcAbWJTJh1Tm2L5Yzpy6vTkHxc2jztvZTHK5GnJtCpX/gFQHVfazbn+KGdT4iakkyf7QS3c5zO+AJwszXn6FORu1a4As6F0faCWPp407NlrvT7fDlnsZLTja+rlaOolwZvuENo3vWTYsrAVRav0YLrIOr/EpJG9gwVDedi+74nz5rW+OJ9QnWxWh0vpKs15AmU7Zz+33nMPzNOU+YWkZZeHQJC6clBh+e40VnE53bcTpMfNMdlpLmYEuULz2l56TEOF9IyiiC1DPe2U6WYbpgTlB7mebWVZlqut71bA7VB2f5DkcJrOZkyGPQLCMup7NhviMuvnQshlI5YyGeZxqpRhSmXC+WVOcy4vzTIyUSDHSC4vTzcjOd3c1BlIOjprSVdl5KiD+rpZZLMcRbIDig3Vp5zJk2wlVy7I+WBAp9/dfmDdZblcUDbjQE4t6c5fyS9KVtnmNdHU2VkGs6nlFcqazkzSx3RXEVdMmpltPTk6Za/13vOkKmPrTH+3XRX1mv2pYYb2klS75qva1FdtuO3o9NFA1OToT7Lsz7WlelpvlyFYJkO52qZszkpYOell9ZRHsI62vdp2sj2Z+T/pyGma6y1p3zDtWJHL2th2pFg5175kc1GFbP+yAYTkWtsuWevMS3NgzNa5LDtJWkEfs4lyaCMbjHvt5GWXTUK5fD890cn2xb2ADho7kHcKKbQF+QPB9jq3vDU9GnRAamc2EtDebiij35YsLbj2XItcZmU5zE3eI7I64OVM5ACcFzGYQ2d7BsvWwchZJTusihvz5nnY88ATuRbynBZySw6amhvcTHKOGdYLR8IIhkgGLOIsWJgG6RWCCCMU0Gk+uSYnV20FWCcciZoTCIfDCIdYktNQiCSjUvp3XtZq6vnFKNuKBFmPddUnOXpzZPlkzzlSZpQyIhESVyqLhYU1LC5tYGExYWlpcQPryykk13JYWkhxfRrz+TS3kMTiIvPmkyyXQGI9xTKLLL/KNiOmh2zIptj+VotqDbWifgGElaijEaOtc9CyYsEI+xqhruqzOUMWyJLYspQpJ6hoLhjMIMQ+aECgLcO1tj3CzAsFKYVFHUl55JEnTa8xIkDhYdmL+WHWCamslFfSev1JJ+rq9GZZrgtwmwjqnfpMbmXfXJ/C3JQhVbf2JUq2lyy2xZmIyrBvmipP28z05JLqbCkTjdogSOJcUlvcjpx3NmLZiOxIu7JOSG1RN+dE8jIJEWyIKsvuVo8KRtiu2nNSC21QG9Mpqv1NZbhvWm+dKKuiZPuS9DP7avvQvkosWGxv08Z21Cz3XerCtlXO7ZsZpwvXR8LcltRPfkH7phEu++U081otStoPuGrTvn56alLoP/7H//ifuBV3DaXk5s1rKhLQDqXrcoJ2mGJoh0vTuVwZv4a782OIcAS/v7oLLx583ta78l56dJgmlKHRrjyCRoZGHZxo3RZ1lMmMVAq4fXuIzlenD2tsBKw6pkO+vKvnFtxBwANGopVlxdQW0Ns7hsnJOTQ01fGgpVNmIRGmlbGy7iDLZNJ2ajcer6DdePgyP5N11yTlXHXKzkg7r6OLDNkD+oibt2+YI6qOVzIa0mibibJFXuq2mkvpR56LsgIk5yDJbGV1DffGxtDc1IzlyUmkFhewvrSEdDqLyppqRlFJ63U2lUEsRjKcmcLC6DByyQ0srS6jqraWbTj9ta1FGlgjkd0dQ3AjhUWSU6yiCtNTC0glg0hs5LCxnkSAxLc6O4+7g6NcX4v1ZBbr6xtIrieQSegUN+1EHTYWZzHUf5v2z6EqGkJydZVy0ohVVli0IlfHzpoD1sAiwnKB9RWsTE8is7aG+dk51NQ3akd0tqbtwmKH1SXMj91DJJ3A7OwMKmsbzK4mT/suZYcpS/0c6OlDdXUdAhUxZFg+ylJjt/sRZHsV7H+S9hYvelGLTblsURXnI8EsUtQnzP5NTUzYYCRaGefG0YhJhEKdWGZp4i6ya6tYmp5FLpNDRVU1ZVE2hUmOyE/bZ3V2EunVBdtXKmrqaAftmXTmbDMUpsNfWsHyzCxSa+tIrKygMh7H+N17qKimPPYvRJnRbBpr7L+nU219PTLcdjntNNSJcTb7t4HZ0X7aKIlZyqutrsUqddMuFI7FjLxZlKbSdqDZZH8qEdhYxZrsz201R/vXNjRyH2FRyWcV7qYI0Y5TvbcQTHE6N494Ta3JtSOMPxw2cpszh/tK361bqGuo5/4asmNE28jakzBtVOohCsykUyTOALf9BNIbsk0991/uK2Te9XHtj2lMjY+T1COIUP87fX2oqanh/iAidsebCbbEH00FzfrpqUval/YEjpDuRzEBPgg7K/Uw0OHpACRmZlZw5fIALl+6jXv3JqlgkY6ad3ObEIkod2klhQsXe+nsIxSngzOIsYl53OjpRzLpyq6tZXDx4jXcvNlLhyPisqoktRFcu9Fr8zzGkE5G0dMziqWlVWbJCbrrjK7tUg08G+gwTxsR5TSKDqtcGrkwyYsHe4oRTY6jUnoaOs0MxqfukbBW6Bjk6KhIJIdUOIdkhCQZyWBy+R7O3bpI76Q4h3+5tDnxjz/6ACMjIyTIKO7euoP+ixdw59xZjPbSubHtKO1oI3M2H2Ld1buDGD7/KYavXUB/zzUrk0u78FYkqihwnY7w0pvvYexqD658eBoVoShi2RAqSQ8xDmAYy7jTp3REy1MzCJGQQzk6qMQyFgbuoIEkEKSTj1LPSDaBOTr/NMkmxlH/8LXrmBkaoqNkuzp9Sf0ijI4UJWmkrqhsfX4St89+jOk7t9Bz7jz1ZlkRD3UUGYrjskuLuPHpB7h7/QL6Lp1lP4J0/i4S0WlRRRCKZQLpIBbHJ5ElsSoCM0fM+ivj95BcXmTUwDa5wegmLXoJk0AsQmJZRdBhSglS9sjls5i+dRU9Zz/B/AzJJcRKWQ0guN/QOcu2wzcuYfDiOVz7+ENM3bvHCDJKu9Du1EVxTjASxAztf/PT9zF6/SL6b123/UOkKm21ywe5TyxOTFLGZyTiPoxeu4kQnfutT88gQptqe4UZ2QTWFnHn04+w2NuHG598YiThna6mOHMSufUlXPvwHcz23caZd94yGy+PjmOcchXp621FIe5HZjtFqMwLcCCyMn2P7X2CqZs9uH3hIvcJkhNli4o4drQBSyC1ht7PPsQEB2cXT3/M/nFQwRJh7hdhRnWKMLXLayAxPz7BQWfCbBVl/Rhtq2mU+3owkyIhc7/TvsKBgva/8Z4eLJPUtR1ssML2B899hpk7Pej55FMO5qapcxQXLl/CuQvnrY4jah3APr4q2DOS88jMnHgR4e2U5AyFap8batpG9jwA744s4fq1YUQ5gkslM+i5OYyrVwZx+eIdklPh3H1xu6vrKaRzYRw81Gkj78XFFfT13cVHn1zC8ppICiS4G9jYAGan1/DJJ5etfpJH8bvvfYbPzl2300iy9MEjzXQcdBDL65ahUy83btzE3Py8tWXkmIccgYg2FMywnXlcvHMdF/pu4SqnmVAKQ1NDuDBwE+d4wN4eHGCNBAYGerCR2kCUUZxYbmxuApcHr+HDns9wa6IXa8EFnL75Ed699AHOy5EODSIUrcQgI6S7o0M4fvw40owK6jnirq1v4MibiRGKjvn5sUncOHsRk6N3zUixyiq0HdiPOEf+DQ1Nm6fQNiMXkQij9ub2VtQ3NaCtrQlhOqK54UHMDgzgbs8tRoqL7HOa5DVhUVFEEWpyEZO9VzB68TSmbt8kUc1wlL+B6bERWoQEQz6PkIESi3Oo4shhfXYa1y5dpGMLMWqYw9Cl6ySJWyQMOvxYBaPQWvanCfv27dPOJ8PmBz7aMWhf9qOhuZkRRDU6O1oQSq1jeqCfupL8SQL3hgaQWNrAXW7zaDCGGMkjxA26NDGDvssXuB8tI1RBGqbMlZkZ3KEu47dvIZxKYeTKZWQZKZLzcG94GBlGS5V1tQjEw2jtbkW8StccE1SFBEeisDtHyZwNLS2oratDa1u7RdHKmx0bx80z52j/Ue06CMUijGoaaNtmVFqkx/7K7uqb9jc66yijlLrGBkaw9YzQGcWuryM5MYXZW70YvHQJAQ4YxPRVXK9IdF93N+t6gy4SHfXh7sqxXRANrW2oYhTV3Nxi+1Z9YyMmhka423HwRBlB2m2c22umrx93Ll/mcTKHcFWcsuuoQyM69nWZ3eULzP6UnRaLUlbnkcOopJ5NLBcjowVXF7l/9KD/eg9tlkCIx+/EwCDiURIzd7Qg6y4ODWOWJDt8+SpWJye5/YNYGxnG0LmPcY2DljVGbIrSJ3h89JHEpkl2OqVRyYitoiaO7oNdiFcwiub+9/Lzp/DRhx9ifHJ285S9g7NEMZTjp6cr7RnJPRlwBCuyqG+oQmNjK2Ix3d3ZaKT25i9PMzKowPDwHG7dElHIN4jsdEpQjlBzPOhiYcTictwinRD2dbVgdWMVKY5el1aT6KfTPnb8GY0hcfrTy2BggitX7qCqrgHBaJyumZpwMFlRIfJLIJV2soPMvHHzJubnF1XC8oqnai8cTmF5fRp/9+5PMZ9bRc/IdfSRsK4MXsX7Fz5AOB7B7b4eJDYWEY5lcGesD2NLswhQzyu9vfj0+lkshzfw/uWPsAC2U0e/FM8gyShPI26lTz/6EAfo4A7sP0D9Umg7dgQHX34FR175BvYdPsQKdDQbSVRxd7l57iIjmilU7j+Ctue+ge7nXsGhk8+zTyQgDgI0ElZ0luY01tKA5379e2g9eRTPvv4SO7+M22c+QWJmipFSCndFsnTgippmxjhKVztcDlJWdm2dU0YIdIhhkREJcnJiBIk0o2BGsVWMUDMkwJHrV0iMrEezBZaWUMHtPXGjByM9dxBv7sShV76FxiPHcPTFF+00lthY+4M2ATVFoLoGJ17/LtpOvIiDp07R7kkMXD2H1MIMI0zamxGjtlM0FMP0vSmk9Ho5/kWpc0VFBKsLUxy0LLBxKkCnWkknPXL+HDKTExi9cgHzw/0kkxXcuMLomYzR/vwrqDtxAkdefQU1JFedRtM1I51qzAWjSKcD6Dz+ArpfeBUnv/1tNO1rB6hHJJVEJcv0nL2ARUbIjQeP4sg330DnyZdxkPbP0d6KXtN02jpFnaENazracOJbr6HpyEF0PnuS7W8gtbKASHING6PDGLh2Baiuxf5XX0PNkSN45rXX3P7OfZ/WNTuldINQvA4n3vh11B06jle+/+uM1DOo2d9lzmOG5B3koDHLPp5/8xfIzM5wMy9goL8Xla1dOPzN19HM/h5+/jn2jfuISJM6akSXpuxktArdr7Cfx07hBeqhSHaQg4MJDhQqIhVIr26QDwOIcoAyMzaG7PqK7We9n57GYv8gKhJZDJ+7hNDCMgY/+wQVlUHcOn8aqdkpRvw5TIz2oSKd5ACNA5KVDez/xnfQcPwEjr32TdS0tCFJ2774/EnEeHCev3LLrktqmxSOwzzyYwcNAfy/p+vvsZPcI0VyuwQdsEJFvMKSkExlOWIL4MSpDtQxapmYmLR8p1/RDk6nm9FBSSi3uqYS3fs7eDDkOFIO0akEsLC4jBGOsJtaWlFRVc/IbhiTU0t45dVvcGToLqQzaDM/mGRU4kW2GjC+9MKLHME22bK7M0zQESVnnGG9LJKZDWRISi8dOsmRewQ3h69hOb3MkWiIeUdx6tARG8l2dXUhHclgannOpGxskLAaWvHC0VOYW5hHkoTRzbKNbc04cfwkursP6vZHTIxMoWvfAdNTDjfHCCDH6AC6TkEHRgZFZm4WTdRvY2rGTi0G6BxT8RoEq+sRjFfZ9TjtTSovp5eg001HgsjVVSFBPaPVtDudTYCy2js6cODYMY7wm4yM2zs1ypfGIcTjtWhuPYCK+lZ0P3OC0UMzI+goDnYxks5wgMCUZXRbSdtf/OQj+u11PP/iK0CKg47FCVRnVoGlaUwxYgzFqhCoqUeCjiuj64jsYYhsaDeLMCJLZ0PIBMPWh2y8HqkwR/aMkCKRFGZGB7A0ptNZcUQYfbUfOYQgnXvQ+hlAPaOfrmefAYMLZFaXuW+kkJmZQKMcJCPzBCPMQwe6MUUiXxweQQW3T7CqEhu0VbamgdEcI+SQ9sUQdYpSp5j1M5MNIxetRrqyBlluA511wMoispTXShJcH5vB0uwCwtKZKUM5UZUlaYg4wop2OHCxOzS1LWrYXkUMgUq2xYFFiNuimYOOw4e7McpBEA3BgU890lW0FdvTWQedptXNILoRhMMMZKRndZMRUri2Dkm1FY+io6sVfbdu0B66EWsDyeQ6mg/tx1ESWl1jM5IByq6p4/ZnfdrfTrszRaM6DUlizPH4YXQsEs1V1DKarqeOLKryJPU099mgBiZkxjbaMp1MccAj++ewsTJnjyLtO3AYG+PTtPkcpod60cqIVPtVnJFwmv3oOtSN7hNHsTg1jfRaGpH6ZmRlrwoO2Uii6quGO0ePHsP4OPdrLpkH0A/T5rQoz09PV3rsJCc8fqJz3VxbX8PaGp0goWOlqjpG0uJCIGUjYMFdunYjAAfnPKSxnXrldIMHy9rKOpYX11DNSEoRXCKZQ2NTA1pam3iwLPCAD2CcTnKgrx9TJFD6RWszp1vRA+bRDUtLyzbCFbaaRVqoHEmHv7V0tPQTSNLh1dEh0a+gLlqBarZ9uPuAXUDXjQ9Zkm5CoSRRkQuji86piQ40kmDUko5xdFuF9aVVBmdryNgBTtsweqD/tr5p26g9OckUI6kAR9aTA73oZSQSqq60CCuri5GsliNhqHSW+ss2Os3z0zd/hcHxMbv+xQyaTtcU1XFpxB+SSKZSjq0CzW3tyHGwIXMoas2laIdMkAORWhvlr+mcL0ftUjOi61opymKeCHGNkV0t7b04N4+1+VltFFz89H06+BT1XuP2cNtZ21XkpqR5Xav61S9+hksXLyPEAYhsLyvb6WFGa+rD8ZdOYZjR+eCtQTx38gWTo9N/AZbNqe+soDtZzQY0Wg37hOkJ3Dh/hsRKoqTdZlZX0P2NlzE/NYeBm3fw3HMvuFvXbSPrih7tw8hOhDQ/N4e/+sv/isT6BiN39xiIyumWeuk7PnAHA9evIVRF58xIMpdyN1xQJQ5KghZFayCXC6Txi1/+AoODI3TgEdt+zu6CdsCsXccVM6/rZhXdAMYoVacj1Q/dGZqmXTUAOP3JaXz68TnobkTd9CI5slGGBbMknUwmiXYS5cLiDNKMDgMkxCy3aZTkEm9qJAF2W8Smx1WUnLFoQx5rP/3Jj9F7u9+ulaW0jWUL2sQeTWGI3crB14HnnsPUwG07lU5GpN25TyepR4L7SDbJAQkJvbbS7R/qJwm8goOZ+aF7OHbqZURbO7GS4D7CfUwHjs5QGEkJboPbkaXrq9Y2++iON2mqK5vueBC8afGcj6cH2sJfYdABy1EwWphiZDU9M4aV1XlGbbN2qqmugQcJUVUd4sickQuRD7IId0ToVIluaLBsrlxb28Cd2wOoiNXgdv7mk+9851tI8oDqH+jBs8/vxyuvdOEUI0RFfQf276df17NgOhHE45VOxtEIjc8DbHhoFMtLa7a8BSyi61x0ZbpsgZWlFZy7eQW59QheOfwN1Idr0VDV4Jw3j94kpwPDQwgmAliamscUo4mWhkZUR+N208iBxn2IZSvRVNGIVkZgVy+fx93RESoUwrGjhzE6NGz6OXrnwa/IQ6ROdtZyio4tyVF1dWM9IhVkW/bHTi1yndbr9Jgu3P/FD3+ID0+ftj6rTJR9jOpcLUumOR9i/Y1QDgmO6HUjS3p5BZPSgxHQ+MgwA7JV1ND5NpDU71y7YtfewOh3tH8U0Vwc06OzWFphn6ua8OL3f4CWjk7cunSJ8qPUqxYrJMJoYyPiTLKd7mINcUSgmxxSjA4CJJVPTn+MX/zql7Yt5NQVLeuOulA4RtLLofngcdolTqINWASR4EBk4nYfSS6Le0NDWKfO3CloLG1Lkox8Y4ikwrRK8gjW1iPJKCHY2Ep5SdydnETLoUMcWGywWoCOVacE5UhlP9qADvgv/uIvcPfuXYs0RSr2/B+T9rmgbM/mlhPrqGluQoxEqkGOrkM6x00Z6QT1j+JH//BjfPDBxzbI0JtzdCemrpVSUaCy2u4wHb1yAzNzyzj07EsWgdujACRVnUmQjURy129cww//+u8YyUp+yraz3XDD/UJ3R6a4L8RaWjioa+V2uoEQo7F4c4edCTCqkN6ckJ+sXpBRnY5F2fhNDoTeevNtu06eSW9wPxHBhDb3N91du8G+BjmArKyOI7e2grHe2wizzdGBIWB1DfGOViR0pw8HjXUtTdzUWUQYaUYC1dxeSczem2ZE18GRHiNm9q26tZmRLdugTuqvTm9rYBVkdKwbyoYYcR8+TP253lGcrLo1OZTm+ulJT7v+CMF2UISg611yhNXVHqFIiQLsWgmH9ZuPEHCEd/8jBI8O3fa/zhFgdVUIHZ26qaIONTVx1NdV2WMB8XgMzc31qKik82ATSlk63SDJbXkxTVLTiP4IdefhToekCOhAdycaGqspow6dHQ3sYAo11REcOdyFpqa4PSbQ0FiH/V0tdg0wyP4nSEDnLlzBAZZpaahVgIjKqko08yDVbfkaTquLGTreRCJJIqUFIjnMMFK50XsXLz37Oo50HEJnUxdHrVXobOtGXKdeFB2SR/QcWXfrAXTy4K6lo9XNBrV1NRzIVqCpthWN1Y2ooiNsrmNfeXA3VNehjhFgQ1sLPnr/Q7thpbOr06IbXfeQE9ZzUPHaGlQ2Ucd4HI2Hj6C+rZURi+5rI71xvaBtc/fePXx29hxe/+a3cOTgAQ7cU3ZnnORolL5GNtCpuFgdnZLuhGSdAElJN03Ut7aQVypQwWgxTNlVto8EEOc20mmzdY7iGzv3c0RCZ1rXjLbObtQ1dTJvH2VSr6Z21Lfvo2OMo+7gYTTv22/yZGQ5b9laj68szi/gszOncZKRwrPPnXR36+mUne1bLsnxVdJ+jfu6EKvndiJZ6FGKhs4O+sxq2qMaGUbCYUYq10iwdZ0H0XjoKKpq6xAlAdUeOoz6ljbE6INvX72ElqNH0XWKbZEA9Wyb2hLn2DVXEtitW7cwOjqG3/qt37bHa9J02CI2qRRkG/HqKiPtaCUHKZSla3mK8DQIUpAk+4kcx8bGceH8JXzzm6/j0OEDRkR296N6xf1P0V1VUzP34xiqabdG2oi847pOuE2ZRWJjFefOn0cdCfHb33mdJEziE6GqIOWoYR3PetYsRvmDo3ex7/Bx1Da3UVfai8Uk0iMLLemRBF1vm5mdxflz53Dq2Wfx7LMnkeAAJhhkX0SEbFuPUIgMFfXW72tHx6GDdm1WA6zG/dzveexWNzSgsrnFppIZb2/H/PQUJkYncPw7P0D/rT57ZOX4a68iXlODEO1WyQFfDW0oEvXOLGgwEYnGqM8FjNJ2v/e7v2123NTb+uH1QdB88bKPpwG7/lovO91VJong9DyP3sfYzp1SKCWtFA/ojWAa/78Lf47T/edQiQp8t+11/J9+7b8zGZ+X5HjY2IGj0bxBr4OiKN2J5h68li7OqbgWGAFmePCF4pifTeNv/+5XeO65Q3jtmydsLY8Ut7tzWKi6NkLlwcFa5vQpUYerSrhyqsMI4dq1IZy/chW/+4c/wP42vbJL+rCM2s3L0rxOJc4vLpJAa1BBkhseG8YHl27gj/6bf44oSUEOS1GK9/CxnYzT7eDUI5KNcD0dKQ9mjamVb2/F4Gg1pGE/nUdGZTXCzobtmaFIVTXe/9nPGQWl8Qf/+I84itZpM92aT/soSX/KElHrGSrdWKJMxaZ27YdJ5XUTzcTENF5nZFtRwUgmm7Tb6u10FR3ZymoK09PLtI5zvNocYdZVx23TSpZGGPzXtRdd/8pQT4sOOK/To+scTFRWVmAfBw52mpM/euA3oFN81EiRm3cCUpo7OlH9rO1746OjuHL1Kr75xrc50KmGPRJAR602rGFCUYugXyXdTakYwPYXi7KCmLs7hHuj/Zicm8Nrv/bbqKxvsOtHihJyAW4D2nX0+lVMzU3i+Bu0Bwkwm2RExLp2x6Jswm0hzjvHgUGYkeOrr7zGgITbVTbhtpLuehCdcRplZpina8A6q6CHLzQI0Z7tCEEPW9/sof3Hp/Cd77xBeYwymW9vYiGM5LSvUz/ZNcvISs2oh5LjbMT9JxLA3Nw0Ll25huMnnkd7R7udjnYP07MCk1oVotyn0skEphdn7I5QXVP0zli4CN9JN9msJx0HBwcwyGj45Ve+gWoSUCo/mNTNPXqEhPFnvv+2h1v/NNDSuQA2oN/NY0XIcNCZI1GtDAyi7/QltB0+iampaTQd3o/uZ49y51lHhvtHlse8tqI2sx7HYGepI2VR2M9/+gu0HujCS6++jKQeUVHUqXPkLOuOYA+uLz6eLjzBJHeWJBcvQ3JS91F2NLZvfzow3cFMF8pl7r6UKSiC1EEm/+rA/Jyua/GQS4XR2ztEpwEcOXaAB6SuPTkp3kOj3rJrw+mp01hqQ03YoUkHMsqRZoIOY9+BTlRGSZR0dGya5ZnyB67mjeSWSHIaqVJ4ko5kYmkJLbSbfF2IeunNGK4tR3IZOXv1Ka0RMddTThZ0AObYqAGLeyRnJMAjPUgyDKfpOygjRWKbmZ9De2enkYV3cFuVzbbkCEWQGhCYi2CuVjnF19YY3dDRRRmJGa/l6MC4zr1zMsyoKYCVFUVOrCvx+f7aPO2j01XKlEydjjMqZBa7jBSrpKiH+hOlw60miaqkIwI5VW0XMw51TJmu2qYmgvPe/pNJJrkvktipo5qzcQ9nGGiw106WLdMJulnn3EUpTgYjQnZufWUZE5P3SG51aGUEqVODdvGQdgmzv9pO05PjiDEyjTfU0ewkR8qwQYFMZz9skTZaX0+iMs7IlXmOk6SFdKEO7G+WZTIBEV2QfdRgRc/NSZqU1/Z1ddbXaX/uqHrIWYSl/roXH2i9ftQep5QjktX+Z2MK6UTtVMad1k0zcmIEWeluKBK5R8QMqmqyZBvV11NtlBnM0xHXWcSXL2dFrS86Ftw+lKD9RfSRKI8tdY+6mJ7sj27Rsj6bPqJ3+g0me54uL1MyrN8sk2Vbujaq47eSG3BuTNcHN+wGmkZG3SmoLdqNndSjOwHug9p+2ua2TaUat9vY9Cwjbw6aYi46dgMz6VsKVVDy8TRhz0lOzsKbPpzkUtuQ3L+iDB4AVl7qPsrOpvI6aIq7qQPac+M8ZKmfHWj5ZQd6f6vCQ49TW58vYMs25804B+jp5srlXRB/XGuunrXFg04EKTe1qZZmOa+6unazsLSAuoZGGYUHo65n0YYkMp1MMWdolVRZ7dDGeUEiLrXoVJCL0J/XX3fgqrRkqZQ5SylGnTYPbK+jgmvClLMWqIcWnbVUx622gqynZRPHJuWmlO1qUC+2Zc6VDGaOWT9WOS+NZW1GU8JG3IQISM5MvdF6OSg7ucWpVFVEp76wNZbQfqKKalXOlZBMgeUVaSlT+6ORrchMWflkKy0jX422Vz3NmyxCTlCwV4nJSefX2H7OpIeY5SwzsodEGcERmzaWNNXivPZrRjISocheD5VvNqQZtqE/e82YstQet7E56s0yzu7qmiCy18BlM2MT+b5aR21PKmrLg/rKKFDt5oXKVlLLmrLy+pH+GryozxzM5Jtyx5Ea8URrhSrLD9DmJCbrjwYkisxMFGtwavrk4Y4ntq2OspDWS5Js5raq9mbuA9YUI1lrk3sFbaizDXaXMPcIvXdUpd2GkE3Uv/z+xjWSleGCOyZYn4Vti1r7pVAtH08biverXYEjA5ceHdqxSpI7qty8JaF4/mFwu7MO6UJyO7kHu+Cdny+AB2A+EihtTwe0uucOaNeCZNh1Bcvz8nkQ6aCyBdUXSTmjSwuDK5iHa0NOSEGBOy2og1kHOR0gl91BKDlKOmB1qEtbOxnD4nLyrKxk6115xgC2rKTyijbsbSP6Y4ZGw/YQrClbBG9R+a4jRcn71SpqovrU050Wds5FXXDF1SE9OJzivF7JpDsy81MNKJhyilby0yxTmgMeJc2rjEb6OqUlxyRKsxcnyw5Gmm6q05Vu++iHGpjdXVKWTu2pr3qA2frOTGcl2o7KKqKwaT5P/RHcr4OcomnKTPXZDV6sBeogS3Md2xXZ2HOXso2SlXHaO3k0PKML2V3L0sk5Wy+5PUZ1Arkw+x5mhKvtptKmPf+kolvWXZlG3iI4QflbkgSqj2yLy6p3/59sxPhM21JLIqa8GbTOdLL+SJwr4yJmlxS1Z9mO09v1UySkqQhafXVRZj7iU7aE50t5SaqKQJ2uVoq5mmovCDOpPR0PGqgxjwpJtiJ+6W+DYpXnOg0K3PYsQC1Kex0VerZTGXomU614BHt/8vE0Yk8+tWMHD5M5ACZv/uGRXNJFchcZyfXlI7l2RnL6nhx33K3lH9+O53b6+/V9ODzTqp5sIhne8v1QO2pDp77m5mbthbTbwUkslpRvwy1sgVemWJv7yrvFHUPFPbkFeDL5J+9UCssqzvek3C/pYSiuYT7QfpTv5JuT1NTyClP92jS/TbeAec6RlllXiuJi2qib8/rJL2wRU06uFbaJW8v1pUUM97vossUI7T+2H3F+uzIPhadPXsDDZEm7resf3LKno4eHyy9eryUPrp/Kc+uLSrkDrdCH4mqEtb+5j7qpaydfML8/+Xj64ZPcEwp9YFZRQKmNSlHsLHaKgsT7nUMpyrUuR7Cd9Z375a9G4S7LUL6FvJRH78LDkRdbLDrfmmVqWtrs57GljycLpceLt03L5peQnEO+nE9yXxn4JPcEwztAH4SdlClFwWoPJzmh2MquZGlkQXgi6Dgc0RXqbW1ja02PMD2UL/X54EVzxZBf2w3ZPr4K0N5RuocI2kP8veSrgvzJex9PIkTqe5H4szVvuz9bn9djc9nlcbFouZD4w6RrTUHOKrnyhTL311NmaR7/bZqfyeeVT/y5L8+S/REcCGhqifn82VrOT37y01c27QnJeZHc0wpP/6exDzrFmU7rRo6dQY5fD5+7Ea2jAj24qzv9PGIwcGfx1m8LW1VcziU9QM+YvigngIweAs+4vFJsHV+rtFerULpcPcGVKqy1T6doZ88v+/Dh4+uFPY/kPDb1sbeQjUXKNnIJBh1BK4+md3fEkThs2eVptcfh9tybSCinu8w41ebSnmHXJfIpfxrSCCgvx61SO/ligjdvy7p/LWu3jbvxlJbZku5iU5uUoVvuTU/+mSiTLX1dG1qjOyl116hTx9ufHHFJovIK+Q66Y09LdqchK4pO7V5AK+rK+slPfvrqpz0nuacRxQZ6kmG3pxO63unNDw4O4urVq+b0FcWkU2nylm4vZ+REAhP56WFo3Tyt57f0bsXBgX7L00dcxQzLKyu4d3fc5tP2Yka1QQbiv27T1sPvgkeSHkyHfJ5eKaU2Urkkzlw4i8XlFS6LfEVYwKVLl+1FwrRyXh/dAi6dGPNRjr1dhLk5RaXU25In3JCPtPmf0oubt6ziAitvrCxiZFDv5AwgmQm4W/4d1blyO8TTGNH78OHDwSe5rwBExnLEiuCmp6fR39/PCMZFScrTvL0UWO5eedrsXFaQs7a6jF/8/EfcE0KWFGEN9A/grV+9ZUThXhKsfze15wHZpnGOB3GAVjMJmthD14r+mG729WItkeSynm1yUdzQwBAmx6aoX14v6aNE/TZ1FW+zrCmqh/lKYXXYFmUU85A9cM06M5NjeP+d902E3qFpJ0e3KL4ziLx9ovPh4+lEGc/h40mH53CHhobw9ttv486dO0ZmU1NTGBkZQVOT+z5dYm3dPvp57fIVnDt9BpmNBALpDC5fuIRf/eItvP3Wu1hmhDU0NIAzn32ETz7+xOotLy1gJf9Nuncof4VlFhbm8dGHHzOdxvq6i8akhkV4RIokdvv2HSMEZV2/cRNLK6voudWPjWSI/Om++DAzO4MPP3gP64kN1Nc3WN7SzCw+ff8De0k0GJX1X7uF1OKyrbtz+QYWpxkFkrRcMEfhTLJBb28vfvGLX+L69Rumj3sXqOCmigiH747i49OX8dmZiyRQkaeiSVu9I6gdL6L3omUfPnw8PXgCSU7eU07FOZbyZ5aK1n/N4Dna2dlZ/O3f/i30tYB0Wqca3QuIl5aWLJIT1ubm8f/5f/9nc/Znz57FUF8/eq5cw52bPcwD/v7vfoZ4vAF3705gfn4KV69ex/Wrt9FUV4coI7D3SYK3em7Z+xAXF+ZQUxU30vzg/Y8Y0cEeWndvq+CUGW+9+StMTk1gkTr86u33SA4h+6JA79AIJmf19XOWTGdRXV2JqelJRp3uQ7VrLF8br8b5T86h/8Yd3CFpXTj9mV5ugV/+5KfYWNdbUkhaReykU5xK0u0f/uHHmJqctjIWdeV3Gn3leYJtLK+u4yKJ/dqlq9Q7lLfhzpnu8uXL9viLyE430fjw4ePpwRNGch5xaVqchNLlrye8yELOXY53dHQUq6urlldHcjpy9AjmFxasbHplDcn1dRx75jgq4nH7wOi9oWHMz8ygpbmZZFOLyopaVFW14NVXv2PLd24OoqOlFe+/+SY+ePsd/Nbv/BbrxrCxtorF+XmsLM7h+jV9v82RjtpNpzbsa9v6CvrNWz3oGxxCdV2jvXT4cPdBxKqiWKEeQm1dPZ57/kXTdXZuyvKWV1dIzqvYWE5i4M4wjh09hutXLtrXvaMk1rrmGiM03XzCVrkLKJLLYnJy0r5jN3bvrn1mxr08u0By+jBotLICr750gnq04iojWu09GUV8RYT5IKh/77//Ps6fP49kMun6+wh3r/p4klHsU0qTj68KnkCSK97Bipe9+eK8rx8UuQmK2v7kT/7EyOLHP/6xfQFACIcj9sFMQVFHfWOjfdJEb9i12+mZv7AwyyhqBP/iX/wjuxRXU92I9o79dP5g1JRGMpVBQ0udfctucmyYNXL4hx/+HUXEEK+pw/K6biLJbwVd8DJk8f3vfx93bvfhxo1beOPb32b5jD4EjoqY3mnoEUMA0WgFo6wQqir1YdUU/vKvfoi6hhZUVtZibGIGR54/SV0T+Onf/T2++cb3UFEVs/p6V6WLpAK42XMD7773Dg4coN4knY0NR6LFSKQSqI5XorW5AYuL0+zPo+83IrY4BwgtLS04ffq0RYE6NewT3VcFnj8pTj6+SggqMngSk52ytAF3+fVf11T8BpkFRmwrKytoJJGJ/PSdrvMXLmBsfAw9128wCqokWTVb+fr6evsgaYIRUSgcxPr6PCOpYSwuTaKrq9XK1FbXob6h0V5A/Mavfw9/9M/+GKc/+QizjJIqY5UYH2PkFAqjua3Nytu30zjVd8T0Yc2jx44zL4b1Fc4f6sba+gJOn2F96nP1wllGXlNGwqqjTwek0xucDzAizWL03rR9liZYFUSIkWNXdyeu37iN46eeIeEp6nJtucQdl6QtwtN1yNbWFhKpiFCRpcpqv8mgpakVVZEK/Pxnv8ISI8lvf/fbyLCM3vSvUgV52yfZWR9bPXr0KGpray2iUwQtiOjK1fHT05dKUZpXWt5PT08K/Yf/8B92/cvg5RqSs5BTkDP2vgxeCr0hXl8Gvzp2DaPz99yXwau68MKB50yGj61QlCFbvvbaa3aziZxvVXUVjh05ivaWViO4lvY21Dc3W8TX2taKn/7s5+g60IkXX34Bf/3Dv8LBA4fx/Asv0IHXkODq0bmP5Ztq0dTSYKc54/FatLa049CxYySSChw8egAnTzyDhrp6O3Xn4O5u1Lfk1M7+/V1oa2liXgrJRBL7uw6he98+tJOM9OB5JpvAL3/1MxzcfwCHjjyDjo5ORnHVOHx8Pw4x1VTHcO3KFTS1duO1N15HikGTPkrr3qCiSDbL6LTWXg9Xy+nJkycZ0XXbh1q597GMKUV9SfIcAFRWVeMZ6nzoyGEbp+sO0Z1CkdvFixfxjW98Aw0NDRwcrGNgYABtJHrty9ovC3bw8bTC81PFKOdzfD/09CEwOzu761tNhOZNvZ1HzuLh7650H039Lxf+AqcH8l8Gb30d/8Ov/UuT4TsTB+9Akz08W2vebJQ/fWjfiCP0q49G6pReJBzGX/zZnyOV3MDBg/tx6/Yt/PE/+acknw7KSSPIKMtVkMz8W1CCJA4tMk8ig4wC9aycCEc3n1h5DyynAFxMIl2C+gSOdA2406daNTFxFxcvn0Vfbx/+23/+r9HS3CbWgT6HYi91DuZw7uyn6L11C7/5m3+I1g5FjWyL3bKtr0iNumz2lQ3qEzP2wLkVkG5SKsg+aVmnaPWRXH0cR3L0cMLOoWjxT//0T/Fv/+2/tWUN1ER6i4uL+PVf/3WTJ3hTHz58PFnYk0hO8BxxMdHtNJK7Mn4Nd+fGLJLrrt7nR3Il8GyhqUf8ytkyCLBZ2j0/a3Nc36bIjtFNVXUtXnjhJYuitNaRI8sYwWmWtfR8mmo7Afa9M1vFP4uGJLwEXpZTRWXcqUFXU/lBRmYZPPvsC+juPmjb3GqJr9QGKyaSKa47gO79+93NLWLTzbbcTKFnjty9FjbbteT2OxGnK0Iy1epHgKLlGzdu4OWXXyZBT1jS3asiuWOMbvU5JO3jW2zv46lH8fYsPs48eMegjycfezr89HeEvUPxQVd6AG4uMd9bF9IdJtweun536tQpPHPiBAnPRdQqtwmbZ7LTgu4mF4OFbQ7bnu5TNe5Rpau1qD1BdBavrMbzz76I/fuPIq23muQfQHeVXbnDh47gwMHDRnC6Y9KgdbaepGbLIk83b9GZqueLWmH9MsOLbFXmUU5TepAM3b165swZvPvuu3ZHpx7T+M53vmPX6so5QB9PP7RdvVS67OX5eDoQ+vf//t8/lmtySjpluaNrcuPXGcndYxzHSK7Kj+RK4dlii012YJ9yNiw4aG8dl4uLPUzsw5s1qJgVtR9HTmq60L7adcL0y/jfqMr9PhwPLrUzGaWQvUSOPT09ts/qmtz8/Lztxyc4SFCeyvgk99VF6bYt3d7ljikfTxb2NJLz8XihQ+9B7lYHZ/G1o63XkR5We5fAJuQWFKFtITibFNq3dUXLW6F8l7YrsVuQHj/4wQ/w/PPP49VXX7U7LPU4ga4te+t9fHUhEitOpXk+nnwEpqamdn1LFe8EGvVqqusWur6haxgPuvEkYR9N/UucGTiHeC6O77Z9E//99//Fzq97FPdmS/En1Rk9uvllTxGU2UR/JAxv3ropkQ/trlewgPzd9/fBskvlMbN8E/nTiUXw6pcXXz73USA97tNF+uWv5cle2yi7I8i2EqDdT5Gc5DU1NduyXiT9RWT7eDpQ6nu0D5TL8/HkYVcjudKN/CgbXaenUoE00pwLBUKIIoJoIOwcldYH3Pvj87cpbElenkHFvVQE0uwTlvRmDu/1Ug9KXq+LkrERk6b5ftrx5vXZptvUzSfp4ObzsjblFSdmF8stRvE6S175knpM0q0kK5/cyUg3/WJpSz+UpEe5+c+RTH+TAdQ11qKxWe/c1DLt9wVlP52psB89PJWrr1SubHEqV0epXNnS9HnrFaet9fWGHT176SWVKV728krrFVKp/NJUro5SubLbpXL1lcqVLU27WU+pXNntUrn6SuXKFqdydZS2lgtMTk4q9wtDhOaNbrz54qTRsPcIgZ4xEryRkBRI0uGvQm+tCOJHZ3+Ey7cuoSIYwfPdz+FPfu0fI5VJIxLSc1AWu6gaIQenbvAvq/coai1/NnuUnyGV240XhRVfOqSJPitj87RPOQRDIaruXHgxvN4n0ynOe0sFKCcQCnKw4O5sLO23llRPRKcPl26HHUXOZVG+XrEWW/ucn9+qZnmUEa3tvpOqHsp2awcyZI+sPZKgP40PXY1tNt8mrLkybT6sXjG+iIzP11+utYoqlRfAiXc8l9OlHNw+VFJY9R+ieKEe2yvqgH1hYjuYym7r3AfpbX3ZCsspLq4MyShqcxN5vYvXyRbFy7p72LPPZmtqO59XFlzlboq6v0C5/prcMrKs3+X0zvuZ7bC9rdnSdnorm2XL2lpyVK8E2+qtu9U2oVIs5LX9ABT0ZtFNufe3/VhITih+Tq4cySUYw62R6uTWP738EfoH7iASDaO5tgXHDp7gdsohEtZ1EPsIS5GttAEZBaaTNnUjLtemk+900p1w1tCTAqomPfVYhaZS1dTm1LTmgt4OohcKlyqeL4ZE0r15oxz0bstwKOxOtalwHiabSc+VaWCg9gWvBW99UZUt2KrJ9tiuvsCtlN9GxaV2JtkdEMVlKYOy9LdTePtdATuToXr6K5STHC5ZX7aH7a35fbEYD6tXjPIydKw92IFZzTL1dmSzzXqauol0ViqVuB3KO2/W3IHNpLfTslDfju/8fClcSzvvr7dUKs/bzt4a/dqy6Vxaeitc28Wl8n14QH9VQ3bS3306lqmnnHLSnN4OWu/NO723h7XMus5Cm7XcMusWchw82a6eZW1Ced4+YoWKoHpb9MrjPpKTUNV/mN6bNnNyTTDrFL/IXVmBiYmJB0vaIbyOmbHyjXh5Sg8juQzJSo/rKmdufgbr68vmiIPBMEIkN5VRZGIgbbuaeXAhk2VtG9KzPdflTagZfSFauVvqfUnwtJMu3qdqbEHq5xW0t/tLcSWbd/kq46IIPZydr1sGnm3lEkqsZTDRnHoiykraIt9K56c7wfa6uTXeek9eeT1LUY7k3P62fXul8GxTAJcpo3S/KcX99Ry8/X07WL+s7tZyD6u3FZRyX/Pq++cjuR3ZrGx/3fG8U7i2t8oxt7RDm7mtUqj/sP7aEHiH/b0/x0H19ee1rDKmT4kMyyuBt4+4kgUJD7KZShQGA1vLlavnZN8Pp7eD1nvzTu8HgfVYt6Cvg5YeVNfZOr+wCWawjtUtgpa2k+TZrAD148FtC1ttXUCpzfaM5ErTg0hOMCX4Y06e5QM2YuOCnBonlGJddyUL9QpQidKubFf2SYLXpwLY/c2dp7RHwk57ZLbndLvy9+9cTwNK7VW6vBPshoxHxV60sVOZKudB5b+YLl+kF8WaPAheOa+tR+lluTYeVL903U51FO47huS75AM3F93cw/QvjmXKobj+dvoqv7zuxTXKl1CuV8qbFpcsjp/lh7115aUVdCluuXi+GNvJeBi8etvJFUyPJ4XkDEWaqI6BZTZLbderLWLKdaeknScVUp2qWt/J9jqduGmH7XDf6rwQ/eftKxluPl84P3FrPeQPTG2/whLhlrytwK2Zlye5llUQlF8ulltaxIOWbZ1t3601XBs2Wx6lwgSVZb766VZvlVkM6W/y80XMNAZPl6KVeeS1KhWVr1tcy6tXVNBm3XFRtFgE1uJyIctJ2gLp7CZbV22p9yhwumxX27VWHsU1ti/lUFrWW34UnVXPq/ug9kymFS5uScjv/yWNerKKZW62UZyZh9YV9pXyyG/irdUfUsdWl2lvE1rHQl7bWixX3Gu7GKpi9+7lZeR/SsCV+ueqcnK3Qvtqfi/XPsnkib8PzCw+E6kySqUa3FdX9ViotNx9YDmvrncGzOBl5mU8sST3SNgi5n4hynGb4uEwo9hcsZzt626nskjCtat5V78gpbRWfo0rbNfRVlf06Rx3fllrt2un3Bq1XHC2hVaLUSCxAsrZqJDDOf4/+HSRV3p7bT2opCtVqquzm4F9dyiSWyS6aHYT5ZyZQ760JkWzBquyXb08WFiabapk0OvNOLH92Fm0rIgSk20RIeRluLpau1WSzVGGt0awElxh6wpFN2F6Kt+rkC+Tv0nUoUw9Dyrm9iMVK+wtVqVYhlAqp3R9GZjJ8uV2ULyA4raKK3r57Lg91lECO81dqucDIJ9VCmfvckdOEYrqeXPW14c1Xqa9LdhB22V1th/+apUWyqmhekxebW9a6p/v89dCGVtvQWmdMiLu05uLj2qzLSQneDL4ExgfH3+IljuHR2jF817aEcmVw3babVv1/gryMeUceDmYXbaU9uS5NaXQ2tIWXSntNPpzS+52GQ/b1GC2TJJIpLC4sIDqmmojvAft3J5Mt5F1UkFCmHIaQqkm/+6rrIz7JWbz20PlVbvYxVlpW+3qqahb78lRO1rW3WUZE6I1KuPZ09Njqyx3IkTXGbU/ePbSOzTzc4RkqD5lKnHetqkyuVAox3kplu+HkH96kPU0Zy0X1XE5kqPlcvujtVaoZj+FA4okpwyr59pxkoR8JS0bQXnLBViOFecPZeS1ySetYGJ/zSps1JOgaVZV7E9V9VuASdDOdB+kbwHuTjqXo/tGXZuCZ2PajDPad02m154rooZt3tmj0F75trfCrkGxmJP78PIeivta3M5mfn7/KIVbq9+ta0vLSo7tY2X6sN3NIdvBBqiqk0/byd2Ued86rsk/QiXY/p+f96ab/SbKydfaLQRfpo3NtiVLqzXhsqd3Kbx1qlOuP5Lj1ueX8zNlShrKybC2Tentaqme/bp5+83XU9t5mK5jY2PbS3lESKBnADlnb1npc5OcUKrhDqt50OGrtBNokzt68KAbPOSl3BvsSxuXauXVs13H2tWybbC8Eu5FI16tgjyaiTYBNjaSWFiYt9dIGck9xE6bOohYcul8e3rzv9tN7ge3kVdLE8nn1HTVAUFFgtpuzFdJ83Sc06+72KwOcJsqg1PvOBRRyXpmL0rLsZy+FyfC0rudVcxWbfaHAgJ5kmM5vQVFRJulB6cUV57JnIt0siqMbrkinSfRoERwqp6aHC7IXrJlLhCyG/6FoEjOyJcLquMVLqpnP1oogloxWfxzkgib0U9eB87KXt7NQqa5ySoIs+OiIMHqmWk4lQV0U5Xqm+5WQis1r+0p2cqTfTXDnLwok2nKE1Ymv8dZ2/l8g5atgFttKUzzB/NvKOV+npfjOVN7XIJ2455v4rxmpIegRacv//L7iHK9Y95th3ybhLesqZLglWWGlizvPhRlF7+lx6tbKm83UE6Oa+MBehKePh60vPXNQuVlb6d3sayH4fPJcP0pV3cnbW9bz4ndFtvpugnKcMfL9uV22t9dJTlBDRcnj+w0/bJJjhrZsuAMeD90yGqXdGtV3pFcwFyBizY8WB81U2pU/XBFRj9ckEzlBfRGfjrawk6/tR7FmahEQiS3YB86ld1UbmvJrdh0lsYglM9fFxm5OckVJFs6K8MRU36FyuTf3CHdMpy3ciykEqqXn2MfKDkvVx8gdf1x61Ula488CJKX/9wN9dIHVvVncvPzrn1nQy2pnSyF2YubWU6SlO+RnKtB18sZ3Ymr5wxFulpvkYGBZTkrmWyVOmohhzDJlBrbem1Hq2v94GpmudrutxgajYtUvdPGkqy+ODhSVt9D2kc4kLPPGiknFKLOLMG+SDfXy61wW0t2c45Q5aWTi4hdHX2TTw+ia/uItIVCX1XKlc0v2P6ifVS1t4N7sYI2WoQ6g7qrferC+jawSVMrTc1mWdouhJyNaPRJIxbcNJhr3fRUe5bHZcp7GEqPo51iu3o7kueU3RHKybA2lB6g77b1HoLtdN5J3WI8cvv5/uym3s5OnCnfJcN2/fXgZDjdykKr5LPKoFTvPSM5QQfcnpCcsMOqgkbKEpEx96M/59wk2BPt5UmsxstOvFtrfeKIVz5R+Y5MWGbT2evg1xrnmDTyVVW1m6WDkjxWovPSG1ycE7LTZ6zvTEWdWF3zmnok5yI5p4Ppk7erFfLALPPjbCfDKC4czo/LkyQfOifn7gryhXCY7cohSwc55UwWEdXjfDbNyMHku8JZCk/JyXLeLMdlSQ3S85v+pkoaKZEdHbu+XqAH9xW5KbqRLQKKGNiWWY2yJW2z3/zzto/WhOhYOcN/1lPfKU9kqnJOJ1da5nb90oz6LocsWGXLE2nIe6uIvpenGZGVnLZ0zaQly8mx8tZvB08vm+e6YISRsdThTyaVpN1crKlolayAqAhUBEDkghGkrX2ntW4gUtvWS/dvUGltrVyY9uFU5dMp2j/ovr+nSIqUjzD7JplmbG0jyhMhuULcHqa32mOKhLgN9UCOijOfeR60LdQnkZz6HCBxRYPuw6/e9gupjzrVrRCZbWvQIZtFqZOicumnFyt4W8y17P5sQctFbW6HYlvvpLyH7eo9TF7x+p3g88rYzXrC06j3F+mvh920Wejf/bt/tydfIfCmxSmd/55cVVWVrd8xHmyPh0IHoF7skVeL0MGpB8g51je/xKWiNmQie4MKjbW+HsDFi7ewuLhC0qnJk5mTpfU6teZe+UQZ8s9F866ME5xJB3C7ZxR9fUNobKxDhE7TDQIKztXTIU29NjbWUVERY6YcEnWVo6SyzrYiDLrAvGNKZ1LUK4N0YAOnL55GNBZHfXUd+5eycqqnL3Lru2oqu7K2inhl3GSl6RAj0Sju3R3F0PAQ2jv2YbL3NhITd7E2NYmNRBpVjU1IJ5MImxOkkySJhaNBzA32YWxoGM2d++gY0yy7jhQJOhaP0xlyGg1hY3IaPZevoeNAF5Baw1DfLftSd4hOW93WgMGcMZ1pLrUBqoK5nmuYGRnFysIiEtS3qq4eSZEybZlh21GSwjrlTvQNYmlmFmvr66hramTbCdpDtmefWT4cjSAxNYHB27fQ3NqGJG0dFQlsLOPSpQtoaKwneelzOWqeNuL+aVGXMqiSIlpSJCJklFtnLiCwnsLE6F3Wa3A2ZTn9BTW4YBq+fAXJxWWM37uLlqZmzIxPYGVlBTWMyFPUR9tZgwvJFF+F1e+VdfScu4ggByVTYxNobGu1/UJ9zVJmiKFWmO1M3epDcC2B4d4+NLQ2i9soi4OTEMmH+4ZFqpkkLn72KSriFaisrua25TZn3RB1NaIlVDYkwkqlaAvacWwUiwtzqG6q5zZep/0jmL15g9vtLhKr81hJJlBD+5+78Cni3K6VVTV2HLsBnoNZIb+f+9iKUoerfas4zx3PPvYSHGxzB93lJDxK/kNT8Z+3XFqmbCIR6DQL/ycn1vDhe9fw5i/PYGR4jAc//RT3tSwdGLlCipkD0FSON20RKLC8nMLtWyOoqq6xdvXBz5GROZw504vVFYnOYW42ibffOo/Tn15nniLWHC5cvIH33juPvjv32JZ26gBqa6vRc3OE5ZdsWc5MKKe3N1X8mQ1wRB0JYpmKJhSP0vFlQ0lkwzmsZRMAB/kZEtxGZgnr6RUjMtIBvSiJgWVW9D6ZEB1mOIWRmV68f+FDq5ckYciZixA++uADEvo6iTCE6ZG7WOjvw73rVzEzOGyRT5Sj+3CaDpP2DMl4qVXkNhYQpGNFMkXZwODNy+i7fgVhunEygC63IbOxQdZO0rZ0jJk19F65gCDzQowmsymSElg3wz6QICPsnyLd5XvDmBsZxNDtHsySpDSwyGRF2Oy7kXUIs6NjGL52A3d7bmO8f5BlQohQL0WMNJxFm4oEA+uMulLKd1FKiOSbW102ws0FuE5fQM9sIJjeYIRLwmI7IuwAp2QC6se6dOoTt3oxT7v0XrnGMqxC2XYqk2V1HVSdHbl0GYuj93DnyhWKXwXWNzB86xZJJU8yIiXaMiI9aDOLJtfWMHm7H9MDQ+i/cTP/5XUnU/tjNkt92WDf5UuYIcHdPHcOWZJ5hNstTKLKJTaszwHuSwHa0OSq33oNHvVjlywvrPK0X4QDnTCJK8q6IRpkcagPy8PaxmFERV609fTALUz13sC93h7MT09xe3OfmBnH22+/RQft7a/aRzmE0lR/luen0uSdyfKSUJznobiMn3Y37Ukk58FrxJvXzSfF35MrHeXsCI9cRafjNFLPYXhwHdNTc3jhhYNUKIKzZ65jYnwN42PTqKurQkVMJ4/owaiXGYfOaWkpjdHRcbz++kk65gCmZuYwPr6KWySrAwcOsS/A++9fRGtLO9uI4/y5Szhx8hDlZxixxnH69HUcOXIAMcquro7jVs8w9u1rsahQ+OSTT+zLDDU1JFE5K7ataGV9I4FYRYSON4XptWm8f/ki7i3MY2xiEK0ddei714drA7cxu7yC+bkZNNRGcG+qH6Pjk+jsOIT6qjrcGevBuVuXMLY4jRUSUk1tEJ9e+QQ9w4OMhqqQZGTQ3tKKm3TK42Nj+Pb3v2+EHOMova6hFtV1Najt6ESMzq/n7Hmsz6/gHp1xU20ViWmVhE1nHo6hvfsg1qbv4tIHb2NhapaOsoJ6x1HFfl27eJ4kHEBHNyO5BCO569dx9NRLuMLoJZ1LMKqtxdTgIKYY4QbpvCvrqumIg6hpbUe0phZNbe2oqKxyJCESJJFFFEUwstTdp80d7WjsaEF6fRVDd26htbsbS5OTGB0eQXNjI+5cu46NVAbt+/eT+LIWfd4lgS9vrKDj4H4SQhaTA4xIB2+RtJcQZ9tDXN/c3ozk/DR67/SjjbpUMMJpbG1BhNvUoi2LqhWJulOnOqUYpe0aO7sQ5WCmvqUJFVVV6L/Zg7r6BlQyL8zIavTiZUaX0xgdGcYqSamxqQlVFRWMpBpRUVfrojQ5QerqojDbgzlQyKChuRVR2qeli5Hz6jrGewcwPTGJCCO3iooopm/fwfzMAjqPHkGkMoy5/l7M0a7zJN615UXUM1q7e/M6Jvv6MMDtUEWCD66tYKhXts9idWYCtS0NCAczqGG0GqtrQWVzB4Lcjo0Nzfjoo/e5D9eho7PTjmWNZR79ePTh4/FiTyI5pdIRzJeV6BlttFlTHUF9XZ0RbEN9NSOyNA/aC2isr8XyUg63bw/yeOW4nvmurkfMIj2OjEmSutZUUVmBgweakEivKa7AymoGdxl5NDXV2emhu3fHrc1Kksz01DJH4wGEGTJaRMl8+tBN2fIQU3R4+gSRp28hya/JkSQxJ5I79x7qmyswOdePa4OXcWvsDi7duYy25jZMcbSd2FhGc10DRiZHMTo9TscbwtXeXtwZ6aHjqsJHlz7GBpKobatDLhawb6LVVldRgyw+O30aRw4fQT2dcYoj/HoSUs0hLh97hvOdWJ8aRc+FM6htaEA8FMU8dc5VVqIiHsXA6JBdzwlXxrCP9m1gvhx1UKfRwiHE4zEMDPWyP4w6GGHUsmP3Lp7DyuQY6mqqSFYbdLZAY1U1hq/3YH12BVXdx1DTdQj7nnmGzraJOqXtFJ85fU51Tay6oxntJ4+g5Wg3mrs7GG0l0Xf1KqOnVcwMDWJmZorjGIaX8QBG7/Zz2yWRYZmK2jqSYhfGBoaRWFm1KLGW26cpCtz++F0EVjiQuNUDLC1ifngIMxNjtFcYzccOI842Dz57AhmdEtUG4vaUTvL2usGl/bmTqNnXjoMnnrFrZlH2r4k2GyaphLnhdUWs55OPECThNNfXYaDvDgK0YQtl1+7fh65njjIoZnSpEFgRkmQzAk1zsZPt1hzqwsEXTiFYEWOU1YfRG7fQ0ETio2xFynFuv7nxKawpUmVke+/Odcz23ERtcxP6zp5BbnYOfWfOo54Dl/nxe8jOzyISi2COg6Rqkufo9ctYmeZ2OUL7HziK5sNss6GF+ycHQ237cOjQIVy8dJ42U7Spa7ql+6yfHpaKUboslJb30xdPGot9DUAvQYSjWUtCko5ThHfoCEfQdMSLi4uWT5vQdRUgI9lpRTot3dxQWVWJ5mZGMuEc69GXMLqbmZ5EP0f/Bw7WWURIrmN0FkJtHWXTIa2sbdhoXzBZeWj+9ddfN8IRtka2hWFyIrNBuRV4pfMo6iuyGLl7B6lAiiRRi8OtXXjpmVOojFaisa4ZgYqwOViRQjIRxMGWThxqb7VrQ4FQnHKaEY1EcahjP/vRYiPyheUlNLc5HdRsiuHDRiiGZKSSUZiuVa2QHBjJdLWj6/lTqGL0h3gNuvYxamHHdB0sUluPhsZmjvib0MpIIxonwdA2HR1Ndl2JoR1TCImlJfR+9jFOHd3PaKcN6ekZTNy+BdDxL88tIpug9SNxxhgkyWCM0Z51xk4LiibC1Et3VopoktQtwTbW2YdKRtJtjD4WB/qxSGe+r4uRI9vraK+npCRCEZIFI8BKRnetne12ijWu66mLq5i9M4i61RQyM0ssV4G22hpMXb+JhYlZbtPDyFDOBttJMoGkoJGKIkpaBtzMdh0vTVLZoF2TCr0iMa5nfxlBHj52HAuzs9igjbmz0JaMyBh9th8/gmdOnUSCZKF+ZHUzkE7hapPLXtRZgyPdgJMl0WUlO8oy3J90E00NBxIaJAwzCp++O8Y2I6hq77Abu2LSQScnE0m0tzeh8UAHyHzAKoc5C8tILSwZAdd0dWCdA4+2wwdQd7QLG8kVjjlIsrFq9qMC2aBeEB5k5CylktjP7ar9SPAciI9Hg2c3z3bFy16ej93FnpCct7HktL30ZYPHMpaW5rEwv+CW6Ud0SkgfJ0il5qmsvmLg4LQt7HDqjoIq3VWWSTH6mqa/WM5icmIBsWgAjXTuQTrklZUNEl9Yg2gkEhl0d7cxP4fV1XX5RV2SoYOSA/PsA/TcvIXZWadT8U6uy15ycIKur0Xo4JYT89iYXyRxtSGUZFQZjNKVsf36enlaTK/OY209hQUStqi0IhdGNSr5F0EkE0EuTeKNN4g1Mc4IZWVtjRFqGKFoBDOMXASdKGN8Ql2cc1UkIYcZoONOUqlMVQxRRr+sjNW5VYTXkkhogJANMpJoYVS8jJWpCUa1dKqJVazOziC7uoIsSYydR4ZtHTt5Ev03rgOMIGaHBzHcfwuVDTX26SDdyGN3ZegOP8pUJByis19fX8D//f/5/8DQ6DiJiESnSIIOOEMySdFWoXgFjhw7gguMSjdo6I7ubkZ1S0hxe2epa2JhnuVJRtqQjMh1R2JFNMZo6CaWJ6YQqqrH0oYsEMb+EyfQc+kK+xBC55GjWGO0qS1jN4xwRtG+vhBxjtHtn/4f/y8OeLhfcAczm2nvof6RUARZhmA17W2oYZ8nBocoOspoOkwyjHHjxNHCiMr2Nuoi3ew4YQN6IfnPfvYT/PSnPyIvRrmvSjbNoR+W0WCLbIaDJ0/Y9c1b12lL1tngIGF1fQ2Lc7MmNxMgIeomr4hOeKapeAI1HKTNT4yjcV8nIu0H2GeSu+72YbSa5sHAI8JsoDssFeWLyGk15mUxvzCLSkbqwpNwTPvwsRPs6enKJ+GUpXTQSHt6apGRzTriHAlPTq6guiqCA/s7rExLaxWjqQabt0/b0JfYc0lc1qmjCKOQIB28HthdX8tgeGgarYygxu5NY3Ulhd/5ne/Zab7Bwbv4zrdftFOTvYwObt/uxfHjh9HUUM31kiUH5m44cfopoCic9tlqLzqynJhYpJjFeiKFq4wW62v34YWDL6O9shldrfuQzKWYMtig0x8YvouGqiYkSLazi/OM4DrRUt+GcC6GE/ufIY8H0VHVhmcPHMet3h5MTE+R5II48swzuHj1irUrJ6o7AM0I8rnpAGI1LThw6IQ5+jQJQv5teWYOs4x8qiuqMDV6jxFYBvX7j6C6rh69PdeQTq5hnTosTM+iobIO44PDrB9EC6POfa9/G7VNrZgYHULVvn2o7OzA7MYamg90I1gRsS/E6xkt00H/7F+UTvjNd95C/8CQnQrNpKWNHLEeZmbUl0ygrnMfImy//dBhlq/A2tQsViaW0VjTjKmRUfY/hUC0AjlGayLTFAcKtYx+ovWNmNlIo/35l5CLx1Gx7yBW1jdQywg7yuWkbtJga86v6w5VUhnttrC4gp//8i3KEhmzBKcaFIjslNiaPS+3j/0bHujTGUgS6ClrI6XjQ12QjSU4n0Ro+vLGyMg9fPDhR8wjcbIsdwG7kUf7pYhU0frM8jJi9XU4zogwl0hjknWqamsxNjaJ1PIKGvcfRpADMD3j1nn8GZLjuu0vDQ11RvQ3L51HVXMrqhpbWSaApkPHEYxV6X4bhERy1M8GZRyoad+4fbsfJ46zLe0neRT2Vz89aipFaV5peT99vhT6X//X/3VPHiFQKp7XgerdePLIjxB8bqht+Q55pxzqG6rQ1d2M6mpdqA+jubmeI9MY9alEPaOTKEeyOkGk0kaOdGSrK0ncZLTVpZEvR+Q6E6Q7+/d3N6K5Kc66Ubt5Is4IrqW5Fl1d7hnACEfPNTUV6Oxs4rooowIGLrNruHz5Cg4e6rY6enygqakedXW1jAzc80rSNc3CG+vrHKwHSbDA1OIc+gen8N2XfoDDbYdQW92AGhJHa2MnohzBq28i51i4Bgc7j6K7ZR9q4pVooMNrqGtgmUq01NGZRasRY/TXyIirsboJtbV1NgBoaW3F6c8+M1sd3H+A/s8RmYGZYRJDDUkpwOhB+XL4cr4VdbTB/oOIk1iijEwCUdqjoR6x2krU0J6hSJROuAmtB4+ggtNoVQ0qG5sYNdWitpVRLpd16rOqtQOxuiY07e9GuLrKnbLTNSn+CYqCL126zIg4gV/7td/gAMWLJkQq9lSi6RlgdFXf2slE2brdk5pG65rRdIA6NjTajSG6xX/67jjGJ6dx7IUXUNnUhFhzCyLUq+XwIXvE4B4HE5McADz3xvcsupF9FflJGw0+REIrjM4vnL+Mo8eewYsvuIENFWAJaaOIjon66Vm0iso45klIjSTNJpJqpLrS9ZF7mp49s37qX3dfsg+Tk1O4zgjztde+addK3XVhlVUd6ZCjvStISBWobm1BS/c+WxdkNCsb1jIvzu0fr6uj3esYhwVR39GF+ekx3Lx1By9/45u4O3kX96bu4dnXv4tK7k9REn9VbQNi3DZmVzKcnvHUoytRRrwff/wJlpZW8INf/y1r38cXRzk7lub5tv7iCAwPD++6FUUQNvoktJGURHC6wUJ3Ej7yw+C7AI2ixV7SxV4fpWE05zUi9/YjOVMDlzWC1S3eK8tJHuAXSFZtOHb8IGJxV0jyvPIaKXvvmJOsTTmECEvPJaWSOjU5guHRQXz3e6+S5PReSjWs01Syheo6ktND83oYXNf3otEsxubo9HpH8IPXfwMhytMjBS7SU0VOXFPOOXkLguSpAP/NiWqah300lTJSujbFyOLatWuYnZ3FD77/fdPZFCI0mnfVC7paJ01hlaCsfFnb1gw39BiA5rnGnL0aFknInXsPtwvqq6tDMmCSPiqlctai9Gd+iLa9ceOGPX938OAhy1defpNuwmySz3GPwStP5bI6AYcAo+GZwSG7UaeyrRn7nzmGBKNGI0TqFWWbaQ4obl65hOqWNuw/+QKjMbe/mFSqpbZVfnV5A319/XbnbE11ne3v3v5s7eYT9y47C7C+vsroUoOE/M7BPK+MA2tRdjgUwfT0NO7eu4eTJ5/Jf+zXKyVbaaq29K1FShe5yk7647KGBqYG82RPNaA82SO1MI3eC5dRz8HJ3MYSGro60H30JKNu2VPHQb4uy6pFN8zgulAQ7733HvZzAPQMI0Ltn/bmEx8+ngJ87UhOR/2mc2XPTQdZgJNNdcwiTv8Mh9wL80u2ska3gUd0ioxrVZdTq86F4r4UzdIOuu2dhEJxC/PLtqwoTtft5AKL23ZOpkBy9RyFSw9dg0kmM6iMVbIMXY8cpLWfV8KgGdcva98JZE6+QL4db9bmOWO3wIugOV1dWbWbcQRPF02Lka9mcLJdG9YclyRPp2VdGdV3U7lEV9qt0a/qqbaDpjQSScCVVQlXVkt6aF03uLjOaVLQbVNXt2B5tpVUlIvOyTO65rZUhLyRSjDKqaEdRYCurjZojHVzJPjFtVVU6pEODnLsWhnr5kVxqrn8gpZsW7hc13KhrGa42sm3RR4HbMPtQc4SXh3B2YN52p+4TTR4sOtwBgnKT/OwVvOLtorlzSbKtnpKXNBK7je6gSS1uoF17l8BElec+7O9X9T2360ktwnLyGF5ecWux+lMjGfjYnh99OHjSUNgaGjo/j32C6IcyWnZe61Xa2urrXtsBwZ7aIf7Tpszi+iHfaADs3cpsrJGysXHv4rIyTnXVCq8ZJlFdKlLrs3EcHVp/52TcSSnuz3r9O5K1pNTtFc2sa5Oc0mGc5HFkKyt8rylrbkOqr1VgltyDnhn2FJS1ZmxVaZKeKWov5xjiXj16n6wXElRk6v6IuRHhNUlgpphdTdQEK8pypI8R1J6DZn0UTwp5OwuR8Ete/CWNLUumYy88DIw8sq35QYBbo8pB5MnOfz39gcnW9C0uKZK5ttU9uZsabk8LEuFvPb5K104cRGiQ9FsAXlxUqfsekL67gVKj5OH4VH02EvZj4KnsY+PKlfYK9kPkhsYHBzc9a321SE5N7HRNOvaKTVmODnmuqzI/S5LBUoakxxxJv8cyd2vjOykfBfJLTLia2QdybYbyU2iR3IFuPUF3C+3NKdUW8HbSdT+/RLKgMVVTsnTwJMrhymy0IPlNmWes1EhufJuvVfPg1dWZTxsltlmI263k7t2mDhjNVlOf6aVydJaTstVVxhGbF2Vt0+58tvAi9xU0/YfW9pOhOJYQWs175X0ShdqSZ7pUgJXulDOwZXdmqsctUGLm6DiEpzftKmk5U8lWxHXQim072y3HXzsHMW+wfMJxfBt/GjwSa4cylmEdZVtO5jJ0SHvCnrTAlSgTGMq9gAdvB1ap3UVyenmAXuNlSpJeWvGua/73xVYvr3tmnNEVMBmuQfUKYZXRlPJ8aaC01A5heRs5CWv/P2W8+Aest4Ky1HFMig98J3TVnTmpt6yCSlDXu7Va04jszehPXiz3ia4djPT1XkQVMKVdnKLSU64v3ahhkNpyUINV8rTtgCVKCU5lXJ/3nqvlqa6cng/XJ4r7eDVKiwX40khub3Uw+/j3mO32w8MDAzsem9EaFKyOH2pJCeol4/anGeZonqlxuLmyM8V4/P3yxsc6JEEkZ27mKh2JVNOyrmvvSS5UpSTsZ1coeBgXZQgFOy0tVWVdTt0sURXprSN4poPg1e2vJ5ubbG8YvdfQLmt60o+EraK/IIo1Wg7gWXKMcvr5eaMHYPlZTgJxXIK1Ohj71HqH3WcFOe548bHw7AnJFdMbMXzXyrJPSWQrTy7pHWX4x7hUTb6Xm8l9XlrK0670nb9Q3qv8KAt7Fvdx9ONQH9//67vxcXEVjzvk9zO4dltL/B5pJbbUsX6lRt1FsPf1j58fD6UO7Yedrz5KMAnuScUn3enNZszhfSuyAdA0r0WVEfPSQnKK90qD9pKurXf+1CrBz28rE2r7es2sb+dffjw8eUg0NfXt2ck55GbN/Wek/NJbnfg2VUP5sqW2Yy+x5Z/3onrvXl7KJg5Vo5zmfw20Yb3nnvSJT6V0wPw94HrrYw9T+faza/gn5Pr8qSPngsMG7kpi6vypOfKefpa7fzzYD58+Hg4Sv2lHedl8nxsReh/+V/+lz17rVdpevyv9frqwrOnt5PrRhUR1J07d9Bz8yb2HzhghKJ82VwPlBsR5m9ksWoB98aTK5euoL2t3QjHiJIrtVqHi021/Yy8uMRMe+0XiWpjfRnvvPsu9nXuYzTHyDEv+913f4VIJI7a2lp7iN2RoIhV6x0xS5bI1ocPHzuD50cfhp2U+TrBDan3COYs88nH7kHkJog8vJtTNC87JxgtizzM7tzXRXB6a4deLq2toF89lKwXCOt9lyvLyzj96adGcJvbKk8+3lazB94VfZHoRFIiU5VLp7JIkySDFrmRtNL6knUaqXQiX4/tm46FaFPPGtqrraibvWmFEOn58OFjZ/DIbrvkYyv2lOR87D60E7vIKIdLly4xanrX3uuoPL2T8frNGwjbS4WB9YVFfPj2Ozj98Sd46xe/tJcTZ1fX8cGb7+Pv/ubH+K9/+Xf2DsbJ8Ul88N7b+NlPf4rllTVjp2yGZJVyZDo3P4GPPnqbc1msra7gow8/RjKRw9Wrd5DY0ClOd/1vYHAQ7779NpYXl1ARc3mDQ4N4//138f7bv0JqdRUfv/s+Fhfmbd2ZsxewSJ2MIPPE7cOHDx+7iT371I6SRujl8v30+ZMXuc3NzeEnP/kJmpqbUVdXx6gqhcrKKnuh781bPVZ2fXYBP/rh36CrowOjg0MY7u/HjYuXsDg7j+6uA3j77Q9QU9OIqalJ1FRVYW5hCe99dMbk65M6jBkpJ22fJ/row/ewtLSI0dEhXLlyiaSaQ1tbJ0ZGRkh8q9ZefW0djh07honRUczqi9rM0wdLD3Q34+rl87jTcx1jXHf10mVsbCTx3nsf2kuLBX9f8ZOfHj2VYru8r3Pa0+/Jlcv30xdLinpkW3054Pjx43b9TdfhhErmHdp/wE5Tqmw6mURbcyv2dXcbEa6trZPI5u1LCBuJVZw4cdzujOzs2IdnTj2H+oZO3O4ddW3Za5xySKaSiMVqcOToEdy4eQV3793FqWdPMHoDug+0I1ah99u7bd3Q1Ghf0o4Hs8gm1piXxq0b5zE5MYzFlQXML87huZeeRT8J99rVHnR1dSEWjbjrifno1E9+8tPOU6mfFcrlFS9/3dLX5nRlcacfBZ+33l5BJOdNv/e972H//v145513sLKyYvlLCwtY0Ze6iWQmhVAkjCCJLMXIbCOdQpr15leWsLo+j3/8J78P3f2vL29XVlfbl7nX1tesLnuus5Z23Y6t4bvfeQMfffQxhkhQr776DQZ5Kawuz2N1dQWLi2w7wxp6z2ZuHdlcEhXxKJZnp/HWr95Ed/cBo8zp+TkcOX6CEeEy3n33Pfzmr//AtZG/XufDh49HR7GP8vxUubyvK/xrck8hPEIYHBzE6OgoXn75ZZJKHP19/ei704v19XXcvHYNVY0NOHT0qJXt6OxEPZdX1tZIaHESXw4ffvAWI7MhPP/cc65Max2effaIzduuEdDNKe4mkda2g2hpbkNne5d9bHVpeRGffvoJsukcznx2nlFiktGd6sQQjISwTLKMVTICPPIsbt8ZxqHDJxjptdrHVfUR2fX1BbS1NUPv5hTJ+fDhw8deIHD79u1dp3mFy0qCN5Io/p6c/5zc54dsKbvJvpOTk4ykVtGs63K1tYyQljA7M4uMfbOukXl1WGD01NzcikWSkr58/r//b/9XHDxyEK+/8S387/+3/w3/7E/+Wzxz/BTqaiqxkkgilc6irqEGQW4+u/lRL7nUduJeMjE1jli0Ag2UnUxsYGJiwm5O0Udh93V2YW11ARsbS/jLP/8/8Cf//L/D/kMnMXHvHhJpnfKsQLyigtFeGn/6p3+K119/HW987wdIM3oMh92NMj58+PjieJhf/bpFdoFbt275JPeUQjaVnRUJ2Sk//ok0hHBID3nzn+sD4ZA92xYiyX387nvouXMLtQ11qKquxLe/9V00kAwVsOnLorqhMhQKc5bbz/YMbSNHcrlMlpOcnf40kEz1KSD9hUJRRpE9jOo+QXtHB773g99A1Mgr4B6fMzE5/OxnPyUxJvC7v/eHdkOLCDRAkvThw8fuwSe6AnySewohe8p2nm01b7bkltQbRwQ7zUiIgOyrzyI7hmY6lTk2Pmbbp62tFbXV9ZTBdcaJGaQpI8yFwvv3JdcYymRYTv75NlY0+ZzYs3OKJKcmJ7h92+xBcI/d9OVsIzmWHRkdsZcBNDc0Ihd0uvlnzX348LFXCPT09DwWktOy9+7KlpYWW+eT3OeD7Ck80H6lW1VFWU8PiodUj+SSZWRm18NMDLdXIEua0wdaFRMWg0tGdEJecEnb4jMvy96OIt7SbZ4isFwxiXFfULsqnA8IfZLz4WNvUOojvEFxMTx/8lXFnngXGdFLPh4d3sDgC6HY9EXzRi757bJ1+2jekVtx7ia2FC1TYst67lZWpqwk1+7m+vJlfPjw8cXh+ZJin1Iu76uMwM2bN3e9l57xvIjOW/4yI7nijfmkk6+n63Z6Pmz9zkAZm9EZwajLs1B5qY/aVsHem3WLs7SwKfJRZfvw4eNRUOor5EPK5X0V4Z8negKhne9BBFZuvXbP0vRQSISXtiyUS4+Kbepuk+3Dh4+9gwisOG2X91VE4MaNG7veO89oxdfmNPVuPPGvye0+Sont4Tyi0l+2/Z8EHXz4+HrhYX73q0Z4exbJfZVHBl8NPAnk4hOcDx+PG14Qsl36qsE/XenDhw8fPr6yCFy/fn3Xqbv4ZhMv+acrHw2PMqJ6UElZeLv1T4L1bf/IzwvFOpXqt+s76tcQ/jHnoxj3Xdvn8Vgu72lG4Nq1a7veg+JrcebEmHyS2zme9p3Khw8fTw++6kQXuHr16p6SnCADFb/xxCe5B8Ozl9JuvLxYG7h0I8vyX7b1d6KXPU+eR/ETDz4+H/wBlI9y+CoTnU9yTxg8W+nTObv1dn5t4NKNLMt/2dbf1MtThAvFetl8keIiudJ++Hg0+CTn4+sGn+SeMMhW+oio3gOp9z8W2/HzQhu45LnvL53gPDxIN01tXoU4Y2W17MOHDx87RODKlSu76jfkpL1UvPwkk5xnAKeNlkr12lri/uVSFK8vJ688ZCfZxCM5fc1bditnJ68FoZz0Qqt61bL7c0vu102L9SzGdvm7C68VbyqoRa9VL4rT8mbZXVGptMViPGjdo8KrL5mfR65Xp/h12aVylIrzHD5Paz58eCj1OZ5vKobn4590BC5fvryrmnqk5hnAm3+aSM4tF+umaErEkM/LZe2bbfpqdiAY3MbFKOl0o6auZpo2EPTGfmV73fccl+ykt/KnUsk8ydWb3bYiX5oMkDO91Arl0/vrL5OlrfWC5FAQIcqiRGTZDn+ZuMRyysuxflBfHzAJ+vWSVHNyi9d5JQuQFpIkeL/5ftivll2+t+zg6jlID9oowPa0v+T7UGjJlVOO1dIKzrj9RvuV1rlShbalq8sv1qcg050CdqVkw8IpYVdGpV294lpb5x28ksUnld3eU6Ys7R3IcZ/RvK3XnDQsLu/sXlgu0kNZZh/Wtnn+yyBccDJg210vww5x/8rKpswPeiJ8+HhEfFWIrvj43BXICE8KeT0Q2jZMmYxOrZbfUPkim8lgfkh9JFHJwZAostzQEmHJvq/mpsovrquXIyt51nHr3J8tWejipe2gHc05sGLo6zeyezAcRqwihmAwYiWydKxZ6ZiRa3V/ngLykWpbzlGf6BGhujokcbaRZmczrJ+z7aldpZBEetIiSyF2RtVk5nXSPBMp132RwAvJXCG3TjJNrvtGnQ2GNgV5NtJvkFI4QJAulJNhnYI0t977aoJX05y/zXFaWOGWpTvXazAgQUWrbb1JUwPURdvWgX2UDVlBU1lSlsrYPPchHfxWyk0dnJ3UL/f5I2032co1qu2ivis/m0tzQjtxXwyYDVSGUyZPHlc5ezst8npIhpOtFOMAMhYLUx/Wss9AEGZja9KHj0eCHZNFabu8Jx27HskJ6rx3LckzxhMXyeV7LSKSBzBd6C+c23IIhDz9XF7QnCcwOb2EmblZtDRVo6W52ZyPHK3A3rK/kudIxdwe/+XT7vQO0g5pHD9+GJEIR9ssJxLQ/SUiP9WVm02lGcktLm9GctLNCMgE0/GF5d60rBYD0CdOI6oZimF2bhmjd8dw7NhhhCso39SKmH5Becp8DxVZmLZ0sEFGfTn77k0EYBQp+VmxZi7M0tQvo+/L5Z2mB/tMjiMcfUyVWlMPyfPIP0376ZM6IbYVZiGSVSaVryGlTAAyQRIsRYdz0pHaqb+cOms4Ms3J4TMksaiPyyEaLiDyVEm25z7bkzbJWcqVNjKuIlX1Ub+SqdppkUk4wJ5GTB/lqp7WBamjyCMQlO4BpKmYtpEoNhCSHJVlXppz7Jv7Fh77IR3SOYSDedvmW8vRJiHWE0S87BqyjLJCwRCJiMQm8sulzP4RVNj2TKdob9VRn62qLEFyDJl1KVV19LkkfWiWttUft2WYOty63kPdYzh+6qh9jV3qKZLz9k0fPr6OCP3bf/tv/1N+flfhkZvIrpjodCqlsrIyX+rxQ9xrfJbK4fLFm7jdO4rxyVlUV1SjolJfsvYgR5OfzSMgL8S80+dvYoOOrmtfK0fPEayvM+/0ZQwPj6O2th4VFRGsrQZw7tx1TE/PoaW12eqvrmZw4cIVW66pjruvcHtkaA5Z0Ne909jY2KCcChv5y3ayW5hRmp2KoqMLkTwiwSj7EqGroxtL01ly7q2fv4ko63Xsb0EqnMD1oRsYHB9FbU0dKiIxIwfBRaCsE86gb6wX1/pum/zG6mrMrEzg8p0rmFtdRg2JNqyokE5cdpM+IbLywvIcbg33YHjqLuJVcVTFGD2mSAaymUiPRDmxOIZLfZdxb2YKG2spNNU35ImOheiU5cPX02u4MdCD6723rP3a6hr6fhIAy+jbd4FwEGvJZVwfuI7hyWEsLC2gsYY6sbYIychEBBJM4dbobep9A8sbCbbVSJuIKEQC2pqSR9KhTZaT02zvBmrrGhEJx5G2KJdJREybyG59I32YnudAo6GBGymB4ek7OHfzAjLUp47tb2AJd9j/izevo7quCbXxKuSS1NsIniSWSXAgs4GpxSEM3BvifkF9QhFMrC/hYv81jC2M0baVbB8YmRrCpVs32Yco6rn/ZEVQ3MYagAVIhulAClf7b+JKbw/ml2Y5+KnG1PwUbgzewdDkGNbWN9DK7bQ+v4gP3v8YbV2dqKmttmu7srU2iQ8fXwQ7CUjkp55EaCi6J/hSo7SHwNsWTY2d6Ll5lwPjOIk3ioW5FQwOTuD6jUFMTi6Zc3Bl9aPkiGh1PYnaxmZUxeO2fPbsJcRiDWhq2o/PPrtC5wKcP38b9fVd6OjosFOJitY6O+oZyVYgsaEIwhm/r28Ui4trbqnMPqKBgR4lWFxcxHvvvYdLly4jkqtAcCmG7GQUmRkS6hxJhVEX2RFTw/04cmgfwuTriz3nMbsyjVQggXfPvo81EoxdR5RTJ0HEwln0Dl9H3907qKgN4PSF9zCdmMRn184gTcc+OT+Cz86dNlLb1E2Olx2am53i7DLG5/rx6eVPmeeitaCIidFSkA59YOIuro72orq9kaEaSY1s4/YKz560KPWoqoqgtrkS7376ARZXV0kOUbO7Tl+GGIosrM3hyu2rqGyoQXWNSJDOOyCy1klDlqNQI18SUFNnCwlqCHcnxhGOMhK1CFgRVgDJLEkolMT5Gx/jR+//CJNrC8gw3LHTl1yf0iCMdhsdHyJZ9uDq7TtsP4xJkvXpK5+gpq0SV0naQ7MD6B3qIdHcQ7Quil99+A5WE0naloRL20r3AKO65dUx9I5ew4dXPsViZo02TeOjS58CVRlMLQ3jYu9FDM9P4sL1q4i31eDNsx9geHaS245KuICNxA/MLtKOfVfQ0NmOKpJgKBrF9cEejC5OorGrjf2MIbW+ho6D+xGJBjA6NkZzy97ewMmHjy8GL1B5UHpSESyn7G4loVz+l5mokU3FwR1ddaiubkZX1z5EYyH03u7DrVu9iFXU4szZq0gkRQaKQN01k005cpkUYGf0uLy8uMH5MFLJDKqranFvdAF3bg9gZWUVM7PzLOvqRaKMuOSQ87IoHBcvXcXc3LzZSteJNttgyqTpdIMipSz+8r/8uTnRekZDufUg7l1dxoWfDuL8z/tx40wfa4sYskjk6GwjOqmVwc2eG+hoacLzB0/g7tQY5hapCwkrR4ecTSaoSxY371xnf6N4sfsko5glRnQ3cG9qCicOHsfB7g4MDNxGKq2yOU5JzuxAjnq2NTXh5IFTaG+rw8jdIVKEYiHyLCOYJBPjEObEGcExoiPhZJGyIYJILc1IRdcBRWKxUACdLQ2orAgjkZXucs4iLRjp6MqgTumm2fb05DSj4XU69QooSNN1Rm0byQmTqNoamlBfVW2nxXUqUafpsiQ2lUmmNxAn6Q2NDZG05tF2+BAW1zac1iY/aadFs6kkWhoa0d6+HysJ9xX1wdFhkksjujr3YYKR601Gx6MTYzh44CijwSpMLtzF+OI0AtQ9RQLWtToRZzgURXNbJ1bV10gG9+aHMTE7jgOUnV5fxY2+Hly6cwuNTc1oaq7FzPw4ybPPtpFsnabespci29R6AnMTc1hfSTKCj9lNTMtLS5gZn0SUTKiBUCRegTDTwvKK7bfcZNa/4n3KT376ImmnKFf3y0p7QnLeKcriU5XF8PK+jGQkR9epeUUJoSBHzTndpJGjI0yivaMN3ftqsbK6ho0NRQt0pOa0WCJPQu46nptX6mg/jPG7s7h5/Q7aWzswOTHLyDCGI0fqcft2DwYHRtRpkhbr0jlp3uSQvN74zqtobW0wWynKYfZmEqHoxhgqieponFEnR+/3xu36UH1VBbrbmtHd0oL25k7kSIg3blxH+6FDiFfVkQRy6O7ej57bt3CbkRpbNAcsBCvoDDX65/LBwwcxMT2Onns9WFpatsilvbUTF65cIkHPICJSZmhKFVBBJ27XqhgxVtZUIxFN42bfII4cPur6REIJxCoZDcU4QEjiQNt+/OAbb6CGpPvZ+Y8wtThl9SMRts/ITrYIc6SwvDCPQTr3SCxMgkqYbcJsK0I9U8ksGtmf7776GtpIhlduXmHkeRehEGWEYpQVpo0UoeawvrqM4SFGXwGSnE7zUZ8Q5USpTy6YwmpmHldvXcOJF15BdZ1OIYfsqlaYOlUwelQn05RVG69FRbzS3eRCXZIkvoWFJUyOT+HwARJUap0DhgX09PZzcBTBvu5WrKwv07ABRCvYVlinRoFYtBoV1fVIkvByJOtEchnTjNSu9vSgo/Mg0pS9tDyHhcVZTIzdxbFjR7C2usL9i0OWijhiMQ4SEhnUVjfhO698Cwf3daF/oA8DQwN47dSreO25lzmqyOLs2bOURbLnfnr40BEMDQyyzBAquI21j3n7qZ/89EWT/FSxXy/OL14Wipe/zKQzZl8DyOjFiR5IjMLeK0qxO96IDEfP0WgEFRUckacUAbh8Nx7eaioZTyAv4vq1Wzh+fD+++dozuHhRpy6jdvqzoSFusmfnFsRX1rJrWMlhklHTGiMKwdPDK6MbLXRnYyKZwu//0R/iO999Az/56Y8xMjyG+bV19IwMY3DsHsbGRlk8h7raGqwsrdIJk7xzIbx06gUcPn4cS4xiqmsYtVbVmPS33nkP1xlp5gJRdO/vwvMvvIA1NhkM12E/iel1Os99zF9Z2UBLczviJKXZuTn82X/9W3P2kXAOCxvz+PHH7yNc145Xnv0WEmxDEcfPf/wLkuYSyYs2iANHu1vQRhJfWlsyUtWg4he/eIfkP8jIlqRG++sa12snv4m5+VlMTU8yKgngnQ8/ZJR7DVHKieSC6Gprp24HGKlmGPHMs0wIpz89jffeeZ9yItjghohWR/HcwWfQ0FjNwQCjS9ru1p1+/OQXv0AsHMPI+F2MTUxhfm6JRNCH/t4eu0Y5QoL9h5/9FBu0W5CyEvzbwBojS51GJrnH44xG7+FA036WD6BWg4QgSZSl2uo7sLSwghqSYiqRwl//8G9ZdsZIOpPbYIkkpWWxwgFOHbdBLpVAQ1s9da1GfWUNmmrjJL4xHGg9wqg3jaa6BotA33n7I3caPFplZwl0tmFfewdSoRRW1hbRVteII51HGAU2YXpuloMDN4BZ4IChmZFhAyN+PYriw8deoJRItst7ErDrJPckdW4rpJcbcQiKIq5e6sP62gL6+nqwsswRcy1H8BUc0RMNDdUI6QY2g0dMzlxB3c8YiNm8yGtfVxMGOHoen5xGfX0chw432wj/gw8u2QPdR44cpMNjPROju/GcHDnh4ZF7FjVqvth2Ttv8VSc69NHJSfQPDuEIIzXdVNB8KI7nv9+FZ7/bgeMv7GeZFNq62rFGMkqsriNKAgulAliYWsbaUhIvnXgJMUWtbOf85Wv4ux//HOFANZbm1zA1Poe5qTW88ty30VHfieXFRUzdI9lkI3jhuZdMk4qKKvzwh3+P/r4+RlFBRojXGDWNoDJah9v9fdhYX0UoXoW33/sQH5+5yOgoTJKcxsWrZ9DTcwsvPPsKakmyctgffXQab7/9vt1Es7K0gpu37+AmCeeZw8fQUFdvtujru42//du/tTIbdOC3b/fizMWLJLtuHO4+YFtjgoT4Z3/x51ZGzwUODg3iyp1ryDD6a2WEq1N4uWwYf/PDHzFiIiGRpH7wnd/D/pZuHGnvQmdDg7UVYuT1f/z5f8X4zALJqxK3h/txd/IuW0jaKcUj3UdMt0tXLyO1ksFzh5/Fi8+cQCCTxPlz53Cw5SCaaxrsmuCv3nwLZ898hggj4um5Sdy8eZO6hnHpYg+yyTB+47VvY55R22j/KF499iJePf4CWpvacOnaddRGavAMIzGdaL15axB/8zc/Yd+iHIhlcJt2f//Mh6iIxXB0/xH2fQLnL53DQP8gXn3xJQ5EtN8GMDEzjbqmOtQy0tZp3N16NZwPH08rQv/z//w/7+rdlZ6j9qbFYeyXd3elRxmCbkEQoei0WYSE1IrW9gY7vVhPYqut5ciZpNLSXIeq6gr5DZVmvcJdan29U4yamuicokaWLW21aGysRHNzDQ4cbCMJxdHUVM36NTjE5do6RlAUIX9z8+YwOjpaSIZVdl2phQ6psaHe7CLI6cpOG4mE3V2pc1e68UN3HlYyWnjl5ZfR2FJvN1VUNsRQUc9UHaZb3GAK4Oynn+HoiZOora9DhtFoLBxHZ0sX2utaEEcIa6uruHTpCp6hk372xHG71lURq2WZ/dhH569rWzplGY9WYn/nIdTTeUcCESOZQZLsH/7e71mUqujp2P5nsK+xA40kt/rKKkwzKr1y8za++TrJsqOZfU6yD7RLYye6SASV0TjmZ+dx5fJ1vPrqqzh0qBup5JoRaI0ik64jqKuspZwJXLl6CQcOHMJLzz9ndwlG6dwb6puwv/0AGiqr2bckLly4QDvW41vfep02S5O0w6iurkc7+9LcQJKjPW7cuMHINoDvfOdbiJEIGqobUBurRldTJzqbO+005Znz57HGQOg3fv3XWCOLLKPipsZWHGb/G6u5farq2Idm1FTW42DHYTRVN6KW7dTEG9Bay0EG9a6KxjA6PIzr12/ije99B53cxto3qqtbcXTfCXQ3dqGxgu2yzep4HdsmydZ1oj5SS/LtQH11EyOzg2yvFkuLK7h48RpOnOA2evYZklyWkSH7zyjvWNchRpLcnzhYisYr0NHciu7WTtgjJBEOID78iPtjm51WtbsrfZLzsceQzyqGfH25vC8LgXPnzu166x6pFSeRnfecXHOzu6W+1BB7B3WxpJu6TsIUoA+ws4RMnja2mMtwHXNUwHI4z37omayzZwcxzVH/yy8eQHtHg92aHg5FTJ7qkSPZX9bjsj13pdOOFHHtqohiFL/9u9+lk4yCA3Suyye24dlDdrI3ntQ30FHq6SyXr2tMuvlEp/M4TGd0SLsyn9IRyqXtrsT33noXK4kkfvO3f9uIMEEyCIWpG+XESJSz07MYuTuG488cNdJMk4h0ewdIEHoUgYrbbfu62YPqMz9k5HHtylW7FvnKSy+QmJL2Rg09O2fts2+6rnV39B5m6KBPnTxBPdUf3cwhGWG2H0CMRDAyPIipyVk8+9xzJG4NHNgOHbFdkcyFEGEEODwygHv3RvHcsy/R+dfZdbKcnkEzM5CEaevV5WVcv3YNx48fR3NTI9XW4+L602MAIZZhX0h8N0lyTU3tjLb3keyStJ1tXW4PN9jRhvn0zBm0de7H4SOHkU5uUG/altX1dpgwy8jm7oFt1rX9gWbS4+nccSKMjs1u3OZ3OBBYXlnDC88/b8W0OdVaVnedMiPEbcaWKVtUymUaL0yZuuFFom3gxW02Nj7OiHkYL9HWlVWVbEfbwuntbihhfdkswH1UKnE/0ra9dPkSo82r+IN/9I/Q0thk1069wZMPH3uJnfhyHXNfBr6+JKdlZeUdkZsp6GPPKFG/TR2tkPoSwOrqBtbXNlBTE0ecEaCckHswWBBhcELHpjvsWMFkcILFxWWLnJqaG+lsdTOLR1+uiuSrrEdyilIU1ckZi1w1L++plqiJqWRqsbLy5NBWGamtLK+ggY4fjMjsYXPWER2ag+S8Ea/+dOcmnb5F204MQbnqt+aYGdRDyOxSis5f5BpmHUpx7aqAVWJ59pXum/Nyqrr1Xxo5p27r9cc83cUobdVP42rmiyidIJFBgKRGciRBRUhmurYn3XPUUyTP1aY3VUaa0a7uLBRZah/Tmz5I99aiIJ4TIesmF2uTf25YoHadDdQF3SQTjUVtWdDgxp3WpnbU2fJJaFZbOlMJOxWoPthaZzNdx9VZANtnaGeTRvnSzd76onxOPGvrT1ZS/fy/1LR9RNeDdVON7K81as/tR9SL+43OeLtHBCibSonU5xfmWC+LRh1f6hjtoSZ9+Pg6wyc553dsxmkjR2IzRJGTUHHNa8qkfFtlI2yXJ7jyWpAcV1l58pny+5rKwWpeN7NYdRXLCyhLcszLcFSuyEHvvRSBSNt8kzYVYUiMCNeuRWmeP55e3ArmkEVUjtTkwF3/tH1Uwebtj/P2o1ZYXvMmSI5eDbm2nWz7MSIVnCzpWbRMuG1ttawfzHF6clauWtCy2t18DRZ/depUpKwFN/AwzU2eolMJCDGKNMlmb81zif/qn8hBC04/LquIKy0p9uvKcK3pKNmSJQGWTVivCWcbp5n79ZLl88fpyLx8e5ZpcPKsTeZZLgs6KxHKsOKuvncTkrumxvL5fBWSSPUjv+s5mfxTk55tvbI28eHja4zA2bNn84fK7sEO4pL05JFcAd6agjabrmcLnPtw/RO2ql+84JUsQHWKnZedClUZLiq/IFMkl8LycvELmhlBhQs6Fe76LMDcteysKC0fRagUcx1Jcc45erc9NMs5q1cK5ai+B3caVvrLebr5Qq38nHXCLWq2/Lb19gfPeW/WtqkiI3suMU86XhlbmRdfqME5dszplM/Ia+3ZUtDspj55OQ5eGUf6hb658g9CkXTWLhR2faOdRa5b1giF9jTvlkrL5CEl8oqYTlbaq+9WqaKr7UlwmZtRutUrrPXh43HCjrci6Lgol/c4sOsk5x3opelJJrn7USCU8iiVtZN+uDo0haFc32Un5W8lOVd2ZnoW165fR1NjI1588Tl7mFr5nhxzq57wIsjlieRUzJziZrMiEkcmD4cqbVY0PW26+evJdW5XnSzXP69GsSwPWiOSc/uLI+rPC0+/8jo82XD2c9O8ZS1qU/TvQd1zXdOPzfjw8cSh9Pjz/FsxvGN1L/H5PcnXGp5z8dJO4MpqIz/c+boNr4gtxKhAbz75sz/7S5JYGI2NLUhz+VEc+GbRnVd5IDb7UJyKhG+v29Zyxdiau139rwe83hdPy1tk7x2EDx+fF27AWkjb5e01Qv/T//Q/7fojBOU6okhOp96+/EcIdoIv18nKTolEwh4q17xO2/X19WFmZpZ5EXR1dbJUaRR2/05jvbaulPan2B6PYpet+Pw1t4f64J0+/LwotcPThlL1tcit6xaIreu/3H3Vh4+HofRY1vFZLm+v8FgiOa8DT4fz2Runob4/rP+l67UfKOkW+t/7/d/Gd7/3Lbzz7psYGh6wO++8GzSUzAnaTRlcYh2TtNkVV6aQdge7bamnY//YW5gF8ttvczsayll7t7eADx+7D8/3eWm7vL3CnkRy3tRLGpl7kZwewI7n397/+LC3RtwJdrIhvTKylT61o+uXLi+HO3duY3h40B4QP3nyJKryz0+5AZEr4/26qUuFudIkeNOHobwzLVfbd7tfHMVbyUverw8fTyt2enZmJ77yUbDrkdwXOc20d5BOj5J2H7LLo9rGK69TvIcPH8Kzz57C7/3e76CxscEe9L1f3la3+HB4/X1YKo+dl3w0PJn70JeNUkt7yYePpwMir52k3Ubg9OnTuy5Viioa8ZT2Ijm9ZkiRSGNjo5XzndlWyFayieyk78fpOTnZzVvnTYvtVpgvtxl9+/rw4ePJQ6nvL/VrgufzvigCn376qU9yTwi8Df0gkvOgcl55B5/kfPjw8fSgHKmVy/ui8EnuCYK3kT2S0xcMZDfl7WxjF5fxbevDhw8fu0ZynhP2HLJHbt7UIznddNLQ0LBZ1kcBspVsoofml5eXt7zWaydwr7zy6E2/bs6T68OHDx9fNwQ++eSTPSE5oZTk5Lz1jJyct+A73q0oJbmqqqpHIrlSOHma8+3sw4ePJxc78XEerzwqAh9//PFjIzkvkhPJ+QRXHrKX0vr6+qYdi+35aPA2rW9rHz58PNnYKSd4/nCn2HOSKyY6kZwiOV1r8kmuPDzbaerNeyhd9uHDhw8fD8ZjITlv3jtd+VUgOfXxUfvwKHWKCU11PDuW1i8utz1Uxh9UPE3Qdt7ZtvXhw8eDEPjoo4925UjyDsjig1NTXVMSvEhOpyu/HJLb2k3SDfWzGXP/pg6Ty3K/9sEa791K9ti8ZrhMvtGXmt2NHvqqNbMoTO/gD3E1/1mABG8z+W+GZVlW69So3rCf778kCm6pgGIH59lUSXZ8tK89F+R4rUjOF7L/dkpvotCm1w3X3KO16dmgoCrtkJ8TNrOV6S1YHS4UN5XPenC/i4WUx9a+PAj5gh5skZW8ehSkfcGD9hunm1sSvHeWPv7jxIePJwOl+36549fzEQ9C4MMPP3x4qR2g4JC2kpycsjf1TlfW1tY+5oNXZJTXyX4JYybqq497MlOfd5FTsXjJvkbJZVsgoVBV16f8i4OzrKPIKpdCLhpBmgQWsk/DuO95mUi9ciuorzpbLr1WinNqiCtDEZajA1M5iaVI1X4Qim3q2bg4utue+Fw9BxcRqq6caDgcLnyz7UHI66iPi6bSafsatyNqt3orVDivK1M6lbY+qng4FKauD2+v0DcnR1+9Fthz/jqi85q2aT4jY21xu+lr2vkCZjcmFZGNtt/vClK99pVkH9XTdwDNdkwRbnNXkOk+ccosTK1eJmu2ZuMSbm+roSTb9/Slda3Xp5Psy+vcN1y9/L5GMe7bg2Ub8+HjK43S41XHZrm8B2EHHm5nUMNe46VKPCmQKeTu6L7MXdiXsZNJztNwciRyKMrXVD7WHHIOycWF/AompLDYcx1D585hdWHe1ofY32Bqg2kdEpPJUibrBpIJ5NYT9FiMZjMJjN+6hp4zHyO7vs71rMk2NsU+AM7hO1y9ehXz8/NmYzlgb7RfXGYrvBa8aMHVk9PV/MN2kE1IPstvOusdQeQbtjr6wreWi18qvS1k/7yeSsUqerNbalMdkY9II6h+abvmddQ0kJezc72dnURuqucIhwcL5YbCbjDxYLO5le4r4Wy7ZACiZRG+BkbS27YHl4OBEGtyf0tu4PLly1hbW7O+bb9tffj4akP+qThtl/cghP7Nv/k3u/qCZg+liuhAVfSgFzTHYrEdKbdboAb5X0dwQY6uA9RldmAQS+NjWJmeQHVFjKEGHSFH2YaUO82K8REM376GhmY9wM48hnfzV66isW0fYh3tXFxDYHIK0/oUzvgoHdsG4oxUZ++OMI1hlYRW3VDDeux7NGxt1rd0IqTPDen9k0HqJie2jQOWnbxTVxcvXkR/fz9OnTpl6wYHB21ZD9grQlY5z7mXwnOUS0tLRpT37t1DU1OTI62HQI5Y+mWo7+VLlywSj0Sieedf2p7b3oLW68XSt+/cwvTUlL0EQO1ls957N7fpM/9u3rxpL6RuaGxgHUa+eR3K7TVev++O3sWNGzdw9+4o4tEoKquqcPnKFQwMDbP9aTQ3NJCk1H45vaWvSEk2B65fv262ra2t4f5aYXe7Xr58CSsrK/bRX5Wxbt4nRpna3ymLY8iNjTX03OxBZTyOKPd7oYc63r59B3XVNahg/srCHM6eP4tEOoHGhibqkMOFc5/hTu8dnDz5rJ0p0CnNUjzOY8iHjy8T2/m1UpQ7JnYtktspPGf7OOHcTh50GBoxL46MYZxOseHwYUQz6xi5eglLg/3YmBpjoRzu0clifgEzgwMkwhFM9vciMTtt63RSU04rREeq05CDdEh1bW1oaWrBfO9tBGcmMdc/gJaWZjR1dnALsVygArHKGkQ5Ys/RKQuBTBKn33sHc9NTtryd07IohBgYGMCJEydskDA3N4eFhQX7WsHPfvYzOxXsRR3bQTuKTpU1NjZZ3Z/97KeWpzoPcpj6aKu8/2efncF//s9/ipWlZS6Lo/MDghKIdFRAhPD2228iyoFNfX1DnkSkXxkd2Xwm4/LPnz9PghtGglH2j3/0I+brVK81eR8ULQnqx+lPP8XM9LR9PT0ajWB5cR7vvPc+KiqrbRBgobMrnZ9uhchXuHDhCoaGRpBKb+Ddd9/lwGANH374iUV2t27dxtkzF2SObW3Nbpo+a2urRtY///nPMUyiFc6fO2ekp4/h/vwXvyTBreLnP/sVByoxyv2UA5nz3I5hfOcbL2Jy7C7WaAOV1WlYQdvJS6XLfvLTVzXpWNtJKlc3WC5zt1K5g3A7RR5ropNbnJ5BtSKSajrAmggWJsewNjmDzPIqywQwMTyKXEUVag4cRVVtK+oPHkG4to5100hZH9ypvlwkjNamesxdOIc1OsCOjk7kJiYQmF9CdnwKI+fOAusbrBeij1UdekevLvWojMZIfBG3/JCkaMK7rqToTYT30ksvYWRkxJ3aIkQ8SqV1BU1ramrQ3d1lZdall9azP1aP5OQte/WUr9OAw0NDFv29+so3sEiS0zr+2B2zIievfCFZkyThhH3sNZFIGzl7uqWTnJINvPIZtkmBNn/69GfYv38/XnjhRVy7dp2R2T2uC1CG2srrWCZlMmkS0iJWV1ftQXqxjYhmZmbG6odo6yzL5HIZDgq22kinUUUkmr9w/hIOHTqIl1961Wx77dod9N4Zor1P4sD+wyTBq64eyTqZTLFuQY4Sf5gnwszi6NGjRrAiY627cvkyvv/979uzoncZ6b/z8VlUNnUwOn8eS/PLXH9F1VFXEUGYMyEOyITsA/rtJz99XVI5lMsvrvPYIjk5ZiVPIc0/HohKlHQdzjMGHWooiVjULUfoxCsr4ojkQqgIxRQ6kf25gpFaNFqJQKQK0ep6BPOnm7KKrDz96TSRXEZDcx2qK6KIzDDaW19GYyyK2NFjiKwsY4wEYUGz3W6pG1ny12gCQRx/6RXE6+qkZlnIXrJVT0+PEVtnp74KDpuXI3/rrbfsNKDmFc15JKjBRCkkS6eLr1+/ZqcC21oZZRLqiqLAoOrlt4/gta3rjFcuX8J3v/sGOvd1sqzTPxSmE7b2VNayCHctS4Shb979wR/+AbpJWB98+BGuXL3GuhGWZ1KZfA1BMjy89s1XcenSeVy/dpWEuogNkrH00KlO6VgMLXn70vfe+Da+8fILuDsyyijpLVTV1OIf/eEf2mnZ9xnR9ff2WkN2nYz93QzsTBPlu6UTJ56xqPXGzRuYnV1GfW0D6hvq8dFHp3H79gAjPKe5XaPL3xRTDE+OSL2mps7akt3VjN5JeoX9SjICP3TkGMbmFpAOxnDuwjW8+PyrJDWWy6wjyMHIwQP7cYZ6aDBg+rK++uonP31dUzmUyy+us6eRXHF6UDi514k/TPRoNlJXyqCxowGT44PIzd7D4uQi9u3bTwcTwPr0NBK3bmJ+fo7FOXquCGNpeR5rY+PIbugtJOKqAB1dvi/JdQyOjSBSX81Ug7GpCeSq41heX0BgedaccoyEZ2UpT48QbEZKHO1/9v67mCcxerqWS4Ieu1AUk0gkLE9E8ld/9VfopeP+p//0n1oZOcJr167h7FlGj4QX9RTbXXlHjhzFH/3xH+HipctI6MYYkv6HH36AUUYWLGR3+qms7qQU+tjGTZKsTrmdPXsOn50+zfVZ2mUB77z7FqO1VF62a0fQVDvYkcNHcZTt6QOwfXf6uCaAm1du4sOPztLnM6KzKMhFcYIiKkVwb3z3W+xPjpHQMbS1t1qZ9z54D4MaMFB2OiU7sL18Pc23cwBw8Ngz6GzvwNDQqBHpKUa7J44dsYhzjBG22r946SyjsfOufQ5S3IBA+ro7HV/9xguMtr7LbRXmQGAfDh7qwO///m+Y3RSJdu3rYHs5RrYD+NWbP2F9FxW6aNDZmf+bUJ1kKpkvw6iZUeSR48dJeHPo3teMa1fP4flnT9hpdIumEaU6GUahK/n3vLLeplw/+clPSqXYLu+xRXIeyrHuXkNd97of5CiedIuK1k500QGP0RmG69oQO3IcVcePIBePIkWndeobr7BSCqiuRPczHHHTQa5viBCYHcwgGM/fRl5RjQPf+i7urqxiio625dVvAwdPoJ6OdWbsLlpPnELdvi567ySH9oz0SESbYESkyKxCEeIDzCLH2NLSYpGarsUJOnX44Ycfkpz32c0WU1NTRnKzs7P4+7//+007OwfuNrbyxsfHcf78WVy9cg3f+MZrjI4UWQbxzjvv2nUnlUnrGhwRojwtd1DHP/kn/wRHjh4xR3/o8BFbH43E8Zd/8TckwUGWA/VjHwm1qWWdyrt06SJ+9vOfIcq+f+v11219OpXB//e//BnWUoquBW/raBrgAGOaJDWI+YU5/PZv/RajoSpb++GnH+OdDz60OjkRsPpkyfWx9/ZtvP/mWxggEf76b/2m5Z357DO88/ZbjCa77KOzgq7b/fmf/4XpqDYdyZo42w7Ly0sYHR3BDG35az94A3Fu6yESfF/fHRJuEwn4NSuvOy3/+q//xk7HCu7OUU1la2AjsU6bvo+V5UVcPH8eszMz+L3f+307nfruu+/hwP5ufO+bL+PkkQ5cvnwBE5Pj+M3f+g2NVigkgIWVNUZ7h2wbaIDmw4ePAjyy89J2eXt2d6WH4sbl/BSB6IFwzwnvPVw7dDs2757TUgqhoqYRsfomxBqbEaATDlbGSHiNCDc0ooqkEtApJhatqG1AZX0DYlVV9D9ZTA70MsoBKjXKjlQgJjkN7Yg3d3DaQu8fQ6SuBZGGZkQpK6hTWiLMqTHcGx5Fy6GjJMkKKYWaxiZE45VmD2eS8naR3XTKUmSnJLz44ot27UrX2ZQnktNdgTp1qWt1srmT604TezZXVNXOaOc4SV03aMzNzuD6jZt47Zuvo7Oj3Zy12pNCqhGJhFHHvupuxf3d3djXvc9Ov40M38PU9DzeeOMNVFVXsA1tX9nWqlp70kmnC59/7jm0ttKmwQCuXr5mdv3Ot7/J9W7LeHC33CsnQBI4SBLvhnh4aXUJN+70MzJ7HodIWIFsiuXyd4baMx8hi5rj8SocP3kSnYq2+CeiVvsiuLq6esu7dOkK81pooxftWpciOGcj8Ysjds0f40Clo6ONy460qkm2zzxzlHJqbLm3tx+LC6v4wQ9+4AYLUkUr2IYm1j7tcerUs+xHl51Wbm1rteisuaWV9tf1uigjw07EKipw+Dij1tZ26hBANpHBxau38PzLryBCe8i20s2HDx+PhsC7777rWGiX4ZGbd8pMU0Uiuk7xuL8nJ03kcARzQTk5b0URATs1Z8Qnp6SVHDDLlVg5cyokZ/7qJ6SfQAKrw0NYWE6gofsg4vXOceqmEtWSqKDqUJhOi2bpsCJqOrOBlZE+rG0k0XL0RQT0QDFH/Cwkz2rtmGcsgWc7XY/SqcgzZ87gn/2zf7b5QL1nX5GS7ma8zWhGNzvIkRYTmzevgYbqeA5TTrjvdh+jhiU89+xzRmgqt9Whst/SUw+ym2UIzl66eBl19Y04cICkw2xHBoU+qIra01Q2Vltrq2u4evUajh47iqbmJq6jLkV1JFh1dIpPxGF9oy4jd0cwObuEUySCipiuzVFm/togW+If7Z1xp0zD7IPd4EO9JUvw+rTK6OjS5St4/vlnUV9f+F6fktoSNHXte88SSo62qR70FwmqTJbR1zU0NbbiwMFuqcBGHLm5BXfqlqZ2Zw/Yjp6Ps+ueOkUrjVU4oFOu3E8yNCjXy065ZAa//MkvEIlX43d+79ckmH/Uc8s28eHDhwc7lrZB4J133nFH9h7AHeTuFI6mui7yZZCcoE6aH9KUDkpTuQ45GyHn6cJF5Vo5y9KSy3cuhs6ODlBOMBSJ2nNX5rKsHiu4f1u2fFumgyWZZlJrzAHC0WpPOKGK+UrbwBwkHZyux42NjTEKa7cbTzzbGhHQQaqcbKx12436VUblPdvLAW9srHOGJERS0Rs47t8uIjlNme/pzYnu6NSzX2pKzlkkVwrXHvuv9fzL0PaJjQ1GrzEjqaDpsrWeXX9ivUD+bTNqXHdDiq5k7zD1U5uq5WmqeZFHhikkuSyjbng2UnTEWjao0R2fFRWVLKd6BVsIso0gvZXv1mk/1rU7F5l5+evrCUbCztYqZkVNE9PG/ZJ01a409eqZTSjLInz23UiOhXPQQ/PUMZXFxL1J1DfWoLpW+4pq66egpw8fPrbCHav3I/D222/rWNx1eM6ilOS8T+0I2ym1V/A6ukly1r7LdbQmR+iWCqW9dfm16pccvVZbFc7YaldmK8yFWlHNMT5hcTrKQDT/RhUr5FCuegmKCUrJs7Hg5cnOmm5Hclvr8Id9sUhFckkEIqP74XpgNF+kt4uCC227MlvhmpPluF7z7HhGt9frFKEI1da6aMtDQUXJdcsuqe8iLMXKm4VMhiCisIIs5EWH6puTI0H2Txu5QYOiwc3KRbjPRoRsL7h+uvx02skxgrdMW0W4siZlU5RXL7/d1Bflcf/Jah/iv5Gh6cnesTP2yjnVsV8fPnw8DN7xWYzynnAXUOwoPBQcxJdz2HqtWvubOmjqnPBWrVy+S0WwupzKciWrysGTIDcY4l+Qo3XDDuqWQnp7STBHnU/Fed58OZTKcAo6UnxQvU2FvSKcujrF9TTdmjbb8rL4o4edXWTnwVvpkqtTkOuW1V5elsu9L1m5kn64uvnl/CQUcvK85VJ4dYrlFNvZ5btHJdyyK1OAW29/+fKFep78PKFpnnuF2aNovYkocwz58OFje4h3StOekdyTCvkOuRX9eUsuFWPrukL5PLas9mbKweV7JejKCs7dy/TSDlDqKMuhuMzDUZBlaVtFlJ9fVzy72dbDUh62qDp5sshnFcoVJw9uflNHa2/7kqV59y1x0cnJZzwUnsT7U7E+lrWJreVKVjpsZlNGYSH/y2lerrfsw4ePz4fAW2+9tSfDRTGo4J1i02k03Xjina5U3qaD8OHDhw8fPnYZ4pg9i+R8AvPhw4cPH18mLJjay0hOyY/kfPjw4cPHl4Vdj+Q8clPy4cOHDx8+vkwE3nzzzV1lI4/cFMEpUvMiOU2LHyFQnh/J+fDhw4ePvYRPck8oPDv68OHDh4/Pj8CvfvWrPSG5YrLzSe7R4ZOcDx8+fHxxBH75y1/uiTeVk/bIzSe5R4E2h/uCt9LXgey+Dn304cPHl4M9ITk5Lc9xPSkk5+lT3Ca1zM95cOu208orXby+vPHKldxergfpozL61I0+x6J3MOq1VN5bxISCjPulbSe/5NWQhddmlsArZh+M1bsXaSunkWSXCHkgttOkPPzBjg8fPvYKu05yxeQm5/XkkpwopRzN5d9IUgbeGxbdLamOksobz8vdKklL2/fYaaO3X+hRi5XlFdTW1NBu+pKB1rqaIqB8T+y3GOVkW979nbwvS/DkGsnZ2/GVp95u39PyKKfJ9vBJzocPH3uFwC9+8YtH8V4PhcjES8XLIjk5b70h/8s/XZnXr6yz357mNl8jrLqqKP0fpQsmQP1WVa+ip4EoTuLyJLdCkquuRjaXQYZFHf2xRIZJ7z3UexT558HmZFNNLINrPdGbcFL0YmWt17sYbTuoll4UzBI2b/Xy+mw2sdl7w2Z2HlbWcr01pSXKw7aDDx8+fOwRAj//+c931cvIaRU7ruJI7kkgOdeum6Yz+ka40zWcf9muIGd9n2YsZqcNrbgjE5W0U3/M0ydk9Bp8vbRX9KCPcWoqSfZiX6V8XaHQ9wJ5aI3KeyRXQ5LLkORyJDXpSY1REYqyRBgpynfwaum3AMt1TRWBGfwPRcK2PZRMj3xhVzy/rNOknBgRsvWtsr3+l0K53pryJUpRvK/48OHDx25j10lOkOPynNeTSHIebE7LVEM0YR/a1Nk5feuLumn9popasOtjQawlslhb30A8GkJVVUzZLOjJNUmFdvKyJWhmetE+xNlQX+VkMxmBWN18e/xLpZIkuVX74rfZT3/hHBL8m5tfQFWwCg3V7qOo7pMseSVdgOb6ZF8VddkSL9mWz7nZ+XlUVlYyUQ9T3rJZUJ0PkPwTCEcj9s2ETJpCVc8E5Mt67RXBRDM7y0jTfS1AsgRni8KyDx8+fDw+hP7Vv/pX/yk/v+swJ1yU9GovOXkRnZa/LJg+dMZ9vUOYmVvBzOwiKqKViEYVtchXO930fbJSklPGxau3MTYxg8a6GlTGo7b6Tu9djI9No7WtAQuL6+jr68f07DIW5lcQr4xTZgijwxO4cvkqmptbUMF6CsacfP1QJ80S9gq0ZBKxSJR6qs0NzCYn8OOPfonT5y8is57Gwe4DZkt9xDOVTZmcgL7iQy6xD6iKkNSBvFBJz6TSCMeiOPPZGSQSKXR0tNl1UpGSKxc0gotFY7g53ofR8Ul0Nrey22nkIpLLCDBE/RQBmlQP2r7uq9mhUCR/GlSDGxcJBoPug64+fPjw8bix68PrYlJ7EiG9PGLJ0XN/dvoKpqaW7AOeyRSwuJjEvfEFrK6lrdwmT1i05fq0srqBjn37UF9Xact3escwO7eM1fUULl3qZU4AaxsbJIwQLl64hWlGcOQdHD7SgWhFHGtrG46UmJaW1kk4OvXIhU2TiWYDyLJAhgRGLsPM+jju3OvDb/+jP8DL33gV6XAGgwsjuDlxi/MpJALrmFwex1x6Ab2TQ1hNJSyas6hSgtnvKKOz6ckpVFZVobW9zU7XKpq2nskmOfY5ksLo+gCu37vNNldolwCW16YxvjKCO3N9GJmfFNvlZZqyJMEMs/T17jVcvXoRQ0MDbj3TOiPe6ek5ztMAPnz48PGYseuRXCnBectKT0IkZ7qYAw6gtjaOkZFlPPv8CTTWR3Djxk3cuTNI5q/AwMAgurrbHdEpcjESUFQVxMDIBKpra9HaUCU/js/O3sD+7sNobGymvGGcON6F5sYGVNXUYnhoHC+/dBSRsL4mF0J//zCaWxrYtqv7y1++hyqSTn29Tk26U7j6cnWCjBtknTADxTujV/EP7/0E08vLWF5YRUtzE+aWZvDTt3+C67evk1wX0dBcg1988EsMTYzh9NmLyJI4jx04hGQiYdcDKZx9B9bX1vH2u+8iXlON7n2dtj6oL1DbNmKkF87i0xun8atPPkUkVIXXjp/C9eEz+PNf/CV67o7gOu1zsOsQ6uNVyCX1HJ/IOsNoLYOf/vSnNFEQEUaCiuCqq6tx5coV/PCHf4Pvf/+7fjTnw4ePx46v3YWS4uuA4WCEy2GSSohOGUgmN9Da2oJnnmnH8tIGNjZc1Ed6ZmkRo4OiLDlxD0ePPMMI7ibOnb2Cjs4OBEgaFfEKXL9xB/u621ARizDKIVFaMKP2Czp887XX0NLSkl8qhq4L8pcDg1oS6r6OfYiR8faTmCpiwKefvY/nXzyJP/zj38e56+cwNj+Cibl7iMQq8Y//+J+jrbmDkZquj+UjKJJzOp1CY0sz9nV2YnFh0a476tSmp08oGCbpJfH6M9/GqReex9SSIjBgPruEhdQifvN3fgc5RoPDkxMIqTN5kxjRkcA31hOYnJhCdVU1GhrqGQWncOjQAfzxH/+xONaHDx8+HjuCxZHWbiWh3PSJSXS4/KVXF4nlGFnqoWutAyqrKhGLhZEiIVjksVnP1dG8FuzuSU5T6RyuXL2BV199Ht949VmcP3fO1s8trLuo7uRB6NYRBxPi5lhGN42Ewo6ETG7RVAW1JsNoqbW2Gy+ffAl1kXp899nvoKu2BTNzY4hUhRCi7gtrK1hLrCOYDeBA60EcaWjH8YOHkE3nmSUvUpGi2otEouxjbFMH3fyiIrrxRqdnoyRo8j/WsstI5DJYTifRUNeI7vpOO2ubyqRNnmq6CFdvaMngd3/3D3Dq2VP40Y//Hrdu3yLxRTiAkH3JyiqtttSmn/zkJz89prTrkZwXKX0Zd07uBOq0gf5/qH8Ks3OT6O/rA7mEBBD2ghoEQxmLRLaF1z+Kq66O4e7de5icnrbTkFpz4+YttLW3oK4qCnGC3dxBBCwCypudk08++RiTUxO2uKlbHooYFf4F9XT2RhBVgSqSXhbhUBjPnjqFjz/+GD/76S/x3PEX0dVyEOF0DHXhakZZAeSM4Fgvr2aWzB6JhDEyMIT+/n7cvn0H45Mz7CcJXuQjdmP7IsG3PnkTN65dweTkXfz0/C9IVZWoRi1iVDiOMJfzQiWfcEQXwtjYJFZX17bcPTs4OIS//uu/tkh5a+98+PDhY+8R+PGPf7wnvsdz2LoO502fqOfkqNbo6DQS6QCjliDaW+oYnaXo9CPUMYyZmQU0NdWSUBTd6NShvDTZKhDGux9dw8EjR3G4M84IJodEMkkHv8B1WbS21qGuphJTs0uIMlqqropZ9COOU7tv/fIsTj57BF3dTeIUTE8voJrldZemIkedBk2n01jOPycnnQKhFBaTK5hdXENbYwd1SmE1vYjh6TFGexXobtqHeDRMHSa4vhvVFdUkVt1x6WyslKNsPQs4MjKCmfkFpEk53fu62e8WRmZJWkYnHEmGwRT6pocxvbHEfofRUFWDWkZi60tL6Oo6hHvjc8yrQ0tVtTaqqrFcxgh0YmwKI6Oj6NzXida2drP32to65tnewQP7kSbbfxnb3IcPH19f7DrJlUYjTyzJUU17BozkJY1DuhPR1HF3G6qAlq2s5TKfzlyR2OnTvVhdT+KVl46yL1Gu1+lLlfJOP3I+58hFJwL1bhKdIu3tHcfNGz349d/4FuobKllHzVtrVtazyRaSYyGRVVa6BHX9UDfB6AGBNIkzRMlMjMKcruwLC4pUpZNOQxbe3uLa0XN+7hQlddX1OOqQCyrqy9fLMzLjWJZQr6WXfr3lIIJcDto5X6a8/mZQ6pOi7iI8bW/bvmzPpKgsoUfk1ZauB/rw4cPHXiP0L//lv9z1uyuLp94ddZrK8T0Jz8lROya6bdNN87pBo4QM8q++cnBTU5mptqaaEVoV4oy+YjH3TJhb6SI2watvi/xREfF9R0czmpprNkW7OyrdfLHNFB1GoyRQy2MUqSbSJC3JZFYwG0IuRaoiuRqZkHjS3jU4QYU8FM2KJLOMqNSG0011bRXbkmwup4BINoxgJoQsI1WJ0rNxRkwir009He1tymefkxzIuGfjNHhwEbAjX0esupNT9RRZekRXpJ4PHz587CoC//AP/7CrPqaY5CySoTPTvKbeC5rr6uo213+Z8HQthfTy1hXr6PLcsm6o0HUmkeN2cgQny81btEfG0APcypMkOX7Ba1PTNKMhvdZLt+AbGZXTh4teXUFk45Y5V2RWmy0UM3JRrgjN3SHqrVRsKFJywdnaRoIRXti2l+7wNJY1sAyjR13js0iQhKU8RaTZLKPLUBgbiQTXhTmgiVg/dJ2ura2dpbJYT6wjHIkgTNkBr29OsA8fPnzsOuTl9gSbzvgJhnQsl4rXFaN4WacM3eu4ti+7tbx+FN2JLPJunXnl6pbDfeWK6lr+5nJ+PWGzRo5qk5G0HvbWs3exCCIVYfu6gd1hGuUkGmTkqHdikqCiIQxND+POaB/s7GuA5BUO2Ku+AowuM6Gsyegd60cimGL5MNIp9yqwe3dH8MH77xs5iwSXlpbwPpelja4JDg704ZPTegYvhCQjT+NIHz58+Ngj7DrJbTrdryi8rrkoaGs/vb6X9r9QJ8RISayhPHl3L+0VPILTS56zSDFWm1uZx/jCNG7f7UMisIblDJeXRjA41Y/hsUGEKyK4u3gP69l1NLc3IU2C20guY35jFrfGBzAyew+JUAKD8/0423MG14auYWzmLgmNZMkWzp75FAcPHkRFRZxR3DJmZ2fx8ssv24um06l1PHPsGCYnxnHh5i3E4jF764oPHz587BVC/+Jf/Is9eXeld3pNUy9pdK9rct4zWl9v3N9/zybeqd3CNbnPB3f60qUUSSYbCeJX776N2dV5LK7PYH55ErloAD/61U9RX1+Lwb5BJDMZxOuq0dN7B+lEFofaujA21os3P3oHgXgcdwZ7UVkZQiaQQD+jtqrqWsRJ3M2NjRjq68H0wjxe/+b37CsJOpV77do1DA4N4rkXnkdyYx3xeBVSG2u4fP0Wnn/hOfaVO2FeUx8+fPjYbezJw+BKctTl8v30eJNOB3JCBOxzQIlcCvsPd+PQ8YPoHe1jhLaCXKQCxw4+h5PPPItwIIL2eCsO7j+CdZKS2CeZSiLOMt869grqautJfhs4XHcQDZUN2N9xBF3t3dqVMDI6gnhNrV1zSyZTJOkYTp06ZTccpfM3pOSySezf14HU2qq9HzQULly39ZOf/OSn3U57ck1OgounPsrhcZzSVRtKusORZJJJIxqLoqmpGRskIb0fUzdkxiLViIQqcbDjMI52HbKbQmKMImNRd2p1g4WqFbHFKhBIMyJknWgojMB6DvFgBSoielG1voYAhKNxq2MPHLDNeEWFyYqGI1RF8vQBnxCiJDxKkGZW3ocPHz72Ant244mPncAjob2Eu3tRjzmEgyS6VBq9twcw3D+BF0++hqpIDaO0SsSCUYildMv/8OQI+vp6cXdsBJNLYwiQoPQoge0saZLjxv+/vXPZSRiIwvBPW6AFKtDagmIgvIKu3Gp8AglPyUu4ISqQgLgQE0VYEC94wZhIwVbnTJzEBRuj9ZLMt2knmXR6S0//nPnPUFkvA9lkCr3jDvrDM9b24eYLuL25p158ZuV4PEaj2cRgOEC324bneTzQja7vYBg6EjpTl7T0g0QikYSEWq1WQ8nJCT7KRuGTkzm5xYh78l05OQEPctzePcd5/wLptI1SoYySu4YEC3Cu5cDUDajkkVMjeHx+QlyPI+/kuHrLLlnIWcswElGYKRN2xoGmKnBsmylAhSm1KFdrtuXi4LCFQFFRXF3BZPLAxy+WitwbmbUs1iIz/T4vS+a4DmbelJcWk0gkkjCI1Gq10KINfaBFvoW2ouLJb/jkRLD4yTE/i7gni3xyX4H9YrALf8EsmGKvXsf6xiasZAYBC6SqpsBn49KqAlTgmfdmMYeUH7XIyO0HPviacRF2fgpTdaTp+KRItscrnrA+8ynihomT0x4arTYqlV1odKz3t4sqqcS0GNqdI1yNLrG9s4VXKvNFqyT84WcikUj+M8AbZ0QJTpOI3hsAAAAASUVORK5CYII=)"
      ]
    },
    {
      "cell_type": "code",
      "execution_count": null,
      "metadata": {
        "id": "kTvFgG1ldfN9"
      },
      "outputs": [],
      "source": [
        "#ye upar ss me pata nahi iska output kaise aya"
      ]
    },
    {
      "cell_type": "code",
      "execution_count": 4,
      "metadata": {
        "colab": {
          "base_uri": "https://localhost:8080/"
        },
        "id": "JVKtk4ECjIbk",
        "outputId": "d2e87ced-01f5-49e3-8e27-8a4f1fa1a21d"
      },
      "outputs": [
        {
          "name": "stdout",
          "output_type": "stream",
          "text": [
            "Hellohhhhhhhhhh,hhhhh,\n",
            "world!\n"
          ]
        }
      ],
      "source": [
        "print(\"Hellohhhhhhhhhh,hhhhh,\\r\\nworld!\")\n"
      ]
    },
    {
      "cell_type": "code",
      "execution_count": null,
      "metadata": {
        "colab": {
          "base_uri": "https://localhost:8080/"
        },
        "id": "m1oEKfkcjJnQ",
        "outputId": "081e3d6e-bf85-4b5c-f527-5167ef3301b3"
      },
      "outputs": [
        {
          "name": "stdout",
          "output_type": "stream",
          "text": [
            "20\n"
          ]
        }
      ],
      "source": [
        "s=\"this is python class\"\n",
        "count =0\n",
        "for i in s:\n",
        "  count+=1\n",
        "print(count)\n"
      ]
    },
    {
      "cell_type": "code",
      "execution_count": null,
      "metadata": {
        "colab": {
          "base_uri": "https://localhost:8080/"
        },
        "id": "-iD_ewp0m8Cb",
        "outputId": "279828ce-7a30-4d63-8a3c-d79e62ae5c39"
      },
      "outputs": [
        {
          "name": "stdout",
          "output_type": "stream",
          "text": [
            "ssalc nohtyp si siht"
          ]
        }
      ],
      "source": [
        "for i in range(len(s)-1,-1,-1):\n",
        "  print(s[i],end=\"\")"
      ]
    },
    {
      "cell_type": "code",
      "execution_count": null,
      "metadata": {
        "colab": {
          "base_uri": "https://localhost:8080/"
        },
        "id": "3bzVec0joCHd",
        "outputId": "5b3e660b-3881-456a-9205-290915962f97"
      },
      "outputs": [
        {
          "name": "stdout",
          "output_type": "stream",
          "text": [
            "ssalc nohtyp si siht"
          ]
        }
      ],
      "source": [
        "i=len(s)-1\n",
        "while(i>=0):\n",
        "  print(s[i],end=\"\")\n",
        "  i=i-1"
      ]
    },
    {
      "cell_type": "code",
      "execution_count": null,
      "metadata": {
        "id": "9qL9tRIsonLW"
      },
      "outputs": [],
      "source": [
        "s=\"ineuron\"\n",
        "v=\"AaEeIiOoUu\""
      ]
    },
    {
      "cell_type": "code",
      "execution_count": null,
      "metadata": {
        "colab": {
          "base_uri": "https://localhost:8080/"
        },
        "id": "8IUERbjxpHgG",
        "outputId": "fa03730e-ffa1-49be-b268-63162d41cc78"
      },
      "outputs": [
        {
          "name": "stdout",
          "output_type": "stream",
          "text": [
            "i is vowel\n",
            "e is vowel\n",
            "u is vowel\n",
            "o is vowel\n"
          ]
        }
      ],
      "source": [
        "i,j=0,0\n",
        "for i in s:\n",
        "  for j in v:\n",
        "    if i ==j:\n",
        "      print(i,\"is vowel\")\n",
        "    "
      ]
    },
    {
      "cell_type": "code",
      "execution_count": null,
      "metadata": {
        "id": "w7syArbcph2z"
      },
      "outputs": [],
      "source": [
        "#nemij14375@bipane.com\n",
        "from builtins import max"
      ]
    },
    {
      "cell_type": "code",
      "execution_count": null,
      "metadata": {
        "colab": {
          "base_uri": "https://localhost:8080/"
        },
        "id": "KbN27W7y3_ZW",
        "outputId": "a60a565b-745f-4227-8d59-0fbff2fd9ca6"
      },
      "outputs": [
        {
          "name": "stdout",
          "output_type": "stream",
          "text": [
            "i is vowel\n",
            "n not vowel\n",
            "e is vowel\n",
            "u is vowel\n",
            "r not vowel\n",
            "o is vowel\n",
            "n not vowel\n"
          ]
        }
      ],
      "source": [
        "i,j=0,0\n",
        "for i in s:\n",
        "    if i in v:\n",
        "      print(i,\"is vowel\")\n",
        "    else:\n",
        "      print(i,\"not vowel\")"
      ]
    },
    {
      "cell_type": "code",
      "execution_count": null,
      "metadata": {
        "colab": {
          "base_uri": "https://localhost:8080/"
        },
        "id": "v9TFgjiP4aeJ",
        "outputId": "9c5df961-3feb-4e6d-c5f1-314da39d320e"
      },
      "outputs": [
        {
          "data": {
            "text/plain": [
              "True"
            ]
          },
          "execution_count": 11,
          "metadata": {},
          "output_type": "execute_result"
        }
      ],
      "source": [
        "s in \"ineuronbnbnb\""
      ]
    },
    {
      "cell_type": "code",
      "execution_count": null,
      "metadata": {
        "id": "R4FFlSe75J8f"
      },
      "outputs": [],
      "source": []
    },
    {
      "cell_type": "code",
      "execution_count": null,
      "metadata": {
        "colab": {
          "base_uri": "https://localhost:8080/"
        },
        "id": "t_Xkmho65P0U",
        "outputId": "ff288459-1617-4642-eeeb-6b21eba443b7"
      },
      "outputs": [
        {
          "data": {
            "text/plain": [
              "False"
            ]
          },
          "execution_count": 12,
          "metadata": {},
          "output_type": "execute_result"
        }
      ],
      "source": [
        "s in \"ineurbnonbnb\""
      ]
    },
    {
      "cell_type": "code",
      "execution_count": null,
      "metadata": {
        "colab": {
          "base_uri": "https://localhost:8080/"
        },
        "id": "QjSEi-nW5SP8",
        "outputId": "92ef3856-d24d-4ffa-bd51-9d319c7ff234"
      },
      "outputs": [
        {
          "data": {
            "text/plain": [
              "True"
            ]
          },
          "execution_count": 13,
          "metadata": {},
          "output_type": "execute_result"
        }
      ],
      "source": [
        "\"neu\" in s"
      ]
    },
    {
      "cell_type": "code",
      "execution_count": null,
      "metadata": {
        "colab": {
          "base_uri": "https://localhost:8080/",
          "height": 36
        },
        "id": "q29wTC9F5ffV",
        "outputId": "ac12df83-8582-42e8-a134-8947f192f261"
      },
      "outputs": [
        {
          "data": {
            "application/vnd.google.colaboratory.intrinsic+json": {
              "type": "string"
            },
            "text/plain": [
              "'malaylam'"
            ]
          },
          "execution_count": 14,
          "metadata": {},
          "output_type": "execute_result"
        }
      ],
      "source": [
        " #palindrome\n",
        " pal=\"malyalam\"\n",
        " pal[::-1]"
      ]
    },
    {
      "cell_type": "code",
      "execution_count": null,
      "metadata": {
        "colab": {
          "base_uri": "https://localhost:8080/"
        },
        "id": "4zoJjYDF64Br",
        "outputId": "cf4c1d19-fca9-4965-b9a4-4fb5f9a45602"
      },
      "outputs": [
        {
          "name": "stdout",
          "output_type": "stream",
          "text": [
            "eye\n",
            "palindrome\n"
          ]
        }
      ],
      "source": [
        "s=input()\n",
        "v=s[::-1]\n",
        "if s==v:\n",
        "  print(\"palindrome\")\n",
        "else:\n",
        "  print(\"Not a palindrome\")"
      ]
    },
    {
      "cell_type": "code",
      "execution_count": 1,
      "metadata": {
        "colab": {
          "base_uri": "https://localhost:8080/"
        },
        "id": "Q4etezGo89sD",
        "outputId": "c22635b3-ced1-437e-c20a-c5e0582e9ae6"
      },
      "outputs": [
        {
          "name": "stdout",
          "output_type": "stream",
          "text": [
            "12321 a palindrome\n"
          ]
        }
      ],
      "source": [
        "#palindrome using for-else\n",
        "s=\"12321\"\n",
        "for i in range(len(s)):\n",
        "  if s[i]==s[len(s)-1-i]:\n",
        "    continue\n",
        "  else:\n",
        "    print(s,\"-not a palindrome\")\n",
        "    break\n",
        "else:\n",
        "  print(s,\"a palindrome\")"
      ]
    },
    {
      "cell_type": "code",
      "execution_count": 3,
      "metadata": {
        "id": "fIsbIszP-bho"
      },
      "outputs": [
        {
          "name": "stdout",
          "output_type": "stream",
          "text": [
            "True\n"
          ]
        }
      ],
      "source": [
        "i=len(s)-1\n",
        "j=0\n",
        "flag=False\n",
        "while(j<i):\n",
        "  if(s[i]==s[j]):\n",
        "    flag=True\n",
        "  else:\n",
        "    flag=False\n",
        "  i-=1\n",
        "  j+=1\n",
        "print(flag)"
      ]
    },
    {
      "cell_type": "code",
      "execution_count": 5,
      "metadata": {
        "colab": {
          "base_uri": "https://localhost:8080/"
        },
        "id": "6otVHpn1AztK",
        "outputId": "e9375f3f-5917-43a4-9fa7-bb1ab204f228"
      },
      "outputs": [
        {
          "name": "stdout",
          "output_type": "stream",
          "text": [
            "yes\n",
            "12321\n"
          ]
        }
      ],
      "source": [
        "s=\"12321\"      #s=\"tyuio\"\n",
        "w=\"\"\n",
        "for i in s:\n",
        "  w=i+w\n",
        "if(s==w):\n",
        "  print(\"yes\")\n",
        "else:\n",
        "  print(\"no\")\n",
        "print(w)"
      ]
    },
    {
      "cell_type": "code",
      "execution_count": null,
      "metadata": {
        "colab": {
          "base_uri": "https://localhost:8080/"
        },
        "id": "O91nQ6tTBelc",
        "outputId": "bbf187c6-dbab-428e-f149-9248bb2fec5b"
      },
      "outputs": [
        {
          "name": "stdout",
          "output_type": "stream",
          "text": [
            "54321w2\n"
          ]
        }
      ],
      "source": [
        "q=\"w\"\n",
        "q2=\"w2\"\n",
        "j=\"12345\"\n",
        "for i in j:\n",
        "  q2=i+q2\n",
        "print(q2)"
      ]
    },
    {
      "cell_type": "code",
      "execution_count": null,
      "metadata": {
        "colab": {
          "base_uri": "https://localhost:8080/"
        },
        "id": "bO2UtH6yCrAv",
        "outputId": "34eb2c14-59e3-425e-d4dd-cd9860a564fe"
      },
      "outputs": [
        {
          "name": "stdout",
          "output_type": "stream",
          "text": [
            "palindrom\n"
          ]
        }
      ],
      "source": [
        "\n",
        "s=\"malayalam\"\n",
        "l=len(s)\n",
        "k=0\n",
        "for i in range(l):\n",
        "  if s[i]==s[l-i-1]:\n",
        "    continue\n",
        "  else:\n",
        "    print(\"Non palindrome\")\n",
        "    k=1\n",
        "    break\n",
        "if k==0:\n",
        "  print(\"palindrom\")    "
      ]
    },
    {
      "cell_type": "code",
      "execution_count": 6,
      "metadata": {
        "colab": {
          "base_uri": "https://localhost:8080/"
        },
        "id": "kvkz-2pDEtbs",
        "outputId": "b1aea9da-2d29-474b-9b8e-83c814f9bf75"
      },
      "outputs": [
        {
          "name": "stdout",
          "output_type": "stream",
          "text": [
            "not palindrome\n"
          ]
        }
      ],
      "source": [
        "s=input(\"Enter a string: \")\n",
        "f=\"\"\n",
        "i=len(s)-1\n",
        "while i>=0:\n",
        "  f=f+s[i]\n",
        "  i=i-1\n",
        "if(s==f):\n",
        "  print(\"palindrome\")\n",
        "else:\n",
        "  print(\"not palindrome\")    "
      ]
    },
    {
      "cell_type": "code",
      "execution_count": null,
      "metadata": {
        "id": "fEtsdXybFD3-"
      },
      "outputs": [],
      "source": [
        "d={\n",
        "    \"india\":\"IN\",\n",
        "   \"Canada\":\"CA\",\n",
        "  \"China\":\"CH\",\n",
        "   \"united State\":\"US\",\n",
        "   \"iraq\":\"IR\",\n",
        "   \"iran\":\"Ia\"\n",
        "\n",
        "   \n",
        "}"
      ]
    },
    {
      "cell_type": "code",
      "execution_count": null,
      "metadata": {
        "colab": {
          "base_uri": "https://localhost:8080/"
        },
        "id": "VCjX3e3W1YBP",
        "outputId": "1046d16b-2010-4049-837d-523c0678fdc5"
      },
      "outputs": [
        {
          "data": {
            "text/plain": [
              "True"
            ]
          },
          "execution_count": 13,
          "metadata": {},
          "output_type": "execute_result"
        }
      ],
      "source": [
        "\"india\" in d\n",
        "#IT is going to check in key , not values unless you specifically mentioned"
      ]
    },
    {
      "cell_type": "code",
      "execution_count": null,
      "metadata": {
        "colab": {
          "base_uri": "https://localhost:8080/"
        },
        "id": "YAWGKg5J1r93",
        "outputId": "d5419e28-0c15-43bd-befe-f44443f15d35"
      },
      "outputs": [
        {
          "data": {
            "text/plain": [
              "True"
            ]
          },
          "execution_count": 14,
          "metadata": {},
          "output_type": "execute_result"
        }
      ],
      "source": [
        "\"IN\" in d.values()"
      ]
    },
    {
      "cell_type": "code",
      "execution_count": null,
      "metadata": {
        "id": "WxegOMBT2Jqc"
      },
      "outputs": [],
      "source": [
        "#making 2 list from above dictionary of keys \n",
        "# list1 should have keys of length lesser than 5, and list2 should have all the keys greater than five"
      ]
    },
    {
      "cell_type": "code",
      "execution_count": null,
      "metadata": {
        "colab": {
          "base_uri": "https://localhost:8080/"
        },
        "id": "jPI1Z1773rmW",
        "outputId": "5dc6c4de-444d-4e69-c5df-9f9d9471fed1"
      },
      "outputs": [
        {
          "name": "stdout",
          "output_type": "stream",
          "text": [
            "['iraq', 'iran'] ['india', 'Canada', 'China', 'united State']\n"
          ]
        }
      ],
      "source": [
        "list1 =[]\n",
        "list2=[]\n",
        "for i in d:\n",
        "  if len(i)<5:\n",
        "    list1.append(i)\n",
        "  else:\n",
        "    list2.append(i)  \n",
        "print(list1,list2)    \n",
        "\n"
      ]
    },
    {
      "cell_type": "code",
      "execution_count": 6,
      "metadata": {
        "colab": {
          "base_uri": "https://localhost:8080/"
        },
        "id": "QchB8M6m4zeM",
        "outputId": "4715ba8c-f75d-4e6e-a002-e948732ae02c"
      },
      "outputs": [
        {
          "data": {
            "text/plain": [
              "dict_items([('ineuron', {'a': 14, 'b': 10, 'c': 4}), ('course', {'d': 45, 'e': 34, 'f': 1})])"
            ]
          },
          "execution_count": 6,
          "metadata": {},
          "output_type": "execute_result"
        }
      ],
      "source": [
        "#Nested dictionary\n",
        "d1={\"ineuron\":{\n",
        "                \"a\":14,\n",
        "                \"b\":10,\n",
        "                \"c\":4\n",
        "              },\n",
        "    \"course\":{\n",
        "                'd':45,\n",
        "                \"e\":34,\n",
        "                'f':1\n",
        "            }\n",
        "    }\n",
        "d1.items()   "
      ]
    },
    {
      "cell_type": "code",
      "execution_count": 9,
      "metadata": {
        "colab": {
          "base_uri": "https://localhost:8080/",
          "height": 235
        },
        "id": "dT7n1VL2eNXq",
        "outputId": "ce5d7fdf-b71c-45a8-92cb-168dc00e88d7"
      },
      "outputs": [
        {
          "name": "stdout",
          "output_type": "stream",
          "text": [
            "14\n",
            "45\n"
          ]
        }
      ],
      "source": [
        "#finding maximum in nested dictionary\n",
        "#very BAd try , concept lagta hai thik se clear nahi hua hai \n",
        "#max=0\n",
        "#for i in d1:\n",
        "#    if i.values()>max:\n",
        "#      max=i.values()\n",
        "#print(max)\n",
        "\n",
        "#nirbhay has improved the code:\n",
        "\n",
        "max = 0\n",
        "for i in d1:\n",
        "    for j in d1[i].values():\n",
        "      if j>max:\n",
        "        max=j \n",
        "    print(max)\n",
        "     "
      ]
    },
    {
      "cell_type": "code",
      "execution_count": 13,
      "metadata": {
        "colab": {
          "base_uri": "https://localhost:8080/"
        },
        "id": "5SZ2yWDksMWt",
        "outputId": "49f79725-17f9-4157-8eb2-9c59699383cf"
      },
      "outputs": [
        {
          "name": "stdout",
          "output_type": "stream",
          "text": [
            "14\n",
            "45\n"
          ]
        }
      ],
      "source": [
        "\n",
        "#from builtins import max\n",
        "lst=[]\n",
        "m=0\n",
        "for i in d1.values():\n",
        "  for j in i.values():\n",
        "    lst.append(j)\n",
        "  m=max(lst)\n",
        "  print(max(lst))#pata nahi kyu error aa raha hai\n",
        "# ye error online mila hai ye raha link\n",
        "# https://stackoverflow.com/questions/64062454/google-colab-find-max-value-in-a-dictionary-typeerror-str-object-is-not-cal "
      ]
    },
    {
      "cell_type": "code",
      "execution_count": null,
      "metadata": {
        "colab": {
          "base_uri": "https://localhost:8080/"
        },
        "id": "gmmVxrB3vJNz",
        "outputId": "b755d854-057e-4a4c-a5d4-ef5b3fc13a54"
      },
      "outputs": [
        {
          "name": "stdout",
          "output_type": "stream",
          "text": [
            "14\n",
            "45\n"
          ]
        }
      ],
      "source": [
        "#bekaar code\n",
        "lst1=[]\n",
        "lst2=[]\n",
        "for i in d1['ineuron'].values():\n",
        "  lst1.append(i)\n",
        "  lst1.sort()\n",
        "print(lst1[-1])\n",
        "for i in d1['course'].values():\n",
        "  lst2.append(i)\n",
        "  lst2.sort()\n",
        "print(lst2[-1])  "
      ]
    },
    {
      "cell_type": "code",
      "execution_count": null,
      "metadata": {
        "id": "4aHphwJe-GXz"
      },
      "outputs": [],
      "source": []
    },
    {
      "cell_type": "code",
      "execution_count": null,
      "metadata": {
        "colab": {
          "base_uri": "https://localhost:8080/"
        },
        "id": "0ujc5p25xqIH",
        "outputId": "3ff1bac5-564f-44ca-acfb-5dca47c0c37e"
      },
      "outputs": [
        {
          "name": "stdout",
          "output_type": "stream",
          "text": [
            "14\n",
            "45\n"
          ]
        }
      ],
      "source": [
        "for i in d1.values():\n",
        "  mx=0\n",
        "  for j in i.values():\n",
        "    if mx<j:\n",
        "      mx=j\n",
        "  print(mx)    "
      ]
    },
    {
      "cell_type": "code",
      "execution_count": null,
      "metadata": {
        "colab": {
          "base_uri": "https://localhost:8080/"
        },
        "id": "OOKWxsK8yTbu",
        "outputId": "638a51c8-5593-4257-cbf6-aa8938f1501a"
      },
      "outputs": [
        {
          "name": "stdout",
          "output_type": "stream",
          "text": [
            "14\n",
            "45\n"
          ]
        }
      ],
      "source": [
        "for i in d1.values():\n",
        "  print(max(i.values()))"
      ]
    },
    {
      "cell_type": "code",
      "execution_count": 23,
      "metadata": {
        "id": "N9doANGcycMK"
      },
      "outputs": [],
      "source": [
        "d1={\"ineuron\":{\"a\":14,\"b\":10,\"c\":4},\"course\":{'d':45,\"e\":34,'f':1},\"g\":34,\"h\":[45,6,7,8,9,3],'i':(45,34,2),\"k\":\"sudh\",\"l\":{45,0,99}}"
      ]
    },
    {
      "cell_type": "code",
      "execution_count": null,
      "metadata": {
        "colab": {
          "base_uri": "https://localhost:8080/",
          "height": 245
        },
        "id": "cNSMs8ddVvh4",
        "outputId": "f23768db-7290-476e-f927-cfd53246356c"
      },
      "outputs": [
        {
          "ename": "TypeError",
          "evalue": "ignored",
          "output_type": "error",
          "traceback": [
            "\u001b[0;31m---------------------------------------------------------------------------\u001b[0m",
            "\u001b[0;31mTypeError\u001b[0m                                 Traceback (most recent call last)",
            "\u001b[0;32m<ipython-input-67-56a5b4d557d3>\u001b[0m in \u001b[0;36m<module>\u001b[0;34m\u001b[0m\n\u001b[1;32m      4\u001b[0m   \u001b[0;32mif\u001b[0m \u001b[0mtype\u001b[0m\u001b[0;34m(\u001b[0m\u001b[0mi\u001b[0m\u001b[0;34m)\u001b[0m \u001b[0;34m!=\u001b[0m \u001b[0mstr\u001b[0m\u001b[0;34m:\u001b[0m\u001b[0;34m\u001b[0m\u001b[0;34m\u001b[0m\u001b[0m\n\u001b[1;32m      5\u001b[0m     \u001b[0;32mfor\u001b[0m \u001b[0mj\u001b[0m \u001b[0;32min\u001b[0m \u001b[0mi\u001b[0m\u001b[0;34m:\u001b[0m\u001b[0;34m\u001b[0m\u001b[0;34m\u001b[0m\u001b[0m\n\u001b[0;32m----> 6\u001b[0;31m       \u001b[0;32mif\u001b[0m \u001b[0mj\u001b[0m \u001b[0;34m>\u001b[0m \u001b[0mmax1\u001b[0m\u001b[0;34m:\u001b[0m\u001b[0;34m\u001b[0m\u001b[0;34m\u001b[0m\u001b[0m\n\u001b[0m\u001b[1;32m      7\u001b[0m         \u001b[0mmax1\u001b[0m\u001b[0;34m=\u001b[0m\u001b[0mj\u001b[0m\u001b[0;34m\u001b[0m\u001b[0;34m\u001b[0m\u001b[0m\n\u001b[1;32m      8\u001b[0m   \u001b[0;32melse\u001b[0m\u001b[0;34m:\u001b[0m\u001b[0;34m\u001b[0m\u001b[0;34m\u001b[0m\u001b[0m\n",
            "\u001b[0;31mTypeError\u001b[0m: '>' not supported between instances of 'str' and 'int'"
          ]
        }
      ],
      "source": [
        "\n",
        "#in this above dictionary you have to find max integer \n",
        "max1=0\n",
        "for i in d1.values():\n",
        "  if type(i) != str:\n",
        "    for j in i:\n",
        "      if j > max1:\n",
        "        max1=j\n",
        "  else:\n",
        "     continue     \n",
        "print(max1)      \n"
      ]
    },
    {
      "cell_type": "code",
      "execution_count": null,
      "metadata": {
        "colab": {
          "base_uri": "https://localhost:8080/",
          "height": 227
        },
        "id": "Q_er6wKBfu6r",
        "outputId": "0d8239ef-4193-44f9-e49a-a7a9242dabff"
      },
      "outputs": [
        {
          "ename": "AttributeError",
          "evalue": "ignored",
          "output_type": "error",
          "traceback": [
            "\u001b[0;31m---------------------------------------------------------------------------\u001b[0m",
            "\u001b[0;31mAttributeError\u001b[0m                            Traceback (most recent call last)",
            "\u001b[0;32m<ipython-input-68-2ebc8cf08008>\u001b[0m in \u001b[0;36m<module>\u001b[0;34m\u001b[0m\n\u001b[1;32m      2\u001b[0m \u001b[0;32mfor\u001b[0m \u001b[0mi\u001b[0m \u001b[0;32min\u001b[0m \u001b[0md1\u001b[0m\u001b[0;34m.\u001b[0m\u001b[0mvalues\u001b[0m\u001b[0;34m(\u001b[0m\u001b[0;34m)\u001b[0m\u001b[0;34m:\u001b[0m\u001b[0;34m\u001b[0m\u001b[0;34m\u001b[0m\u001b[0m\n\u001b[1;32m      3\u001b[0m   \u001b[0;32mif\u001b[0m \u001b[0mtype\u001b[0m\u001b[0;34m(\u001b[0m\u001b[0mi\u001b[0m\u001b[0;34m)\u001b[0m\u001b[0;34m==\u001b[0m\u001b[0mint\u001b[0m\u001b[0;34m:\u001b[0m\u001b[0;34m\u001b[0m\u001b[0;34m\u001b[0m\u001b[0m\n\u001b[0;32m----> 4\u001b[0;31m     \u001b[0mr\u001b[0m\u001b[0;34m.\u001b[0m\u001b[0mappend\u001b[0m\u001b[0;34m(\u001b[0m\u001b[0mmax\u001b[0m\u001b[0;34m(\u001b[0m\u001b[0mi\u001b[0m\u001b[0;34m.\u001b[0m\u001b[0mvalues\u001b[0m\u001b[0;34m(\u001b[0m\u001b[0;34m)\u001b[0m\u001b[0;34m)\u001b[0m\u001b[0;34m)\u001b[0m\u001b[0;34m\u001b[0m\u001b[0;34m\u001b[0m\u001b[0m\n\u001b[0m\u001b[1;32m      5\u001b[0m     \u001b[0mprint\u001b[0m\u001b[0;34m(\u001b[0m\u001b[0mmax\u001b[0m\u001b[0;34m(\u001b[0m\u001b[0mr\u001b[0m\u001b[0;34m)\u001b[0m\u001b[0;34m)\u001b[0m\u001b[0;34m\u001b[0m\u001b[0;34m\u001b[0m\u001b[0m\n",
            "\u001b[0;31mAttributeError\u001b[0m: 'int' object has no attribute 'values'"
          ]
        }
      ],
      "source": [
        "\n",
        "\n",
        "r=[]\n",
        "for i in d1.values():\n",
        "  if type(i)==int:\n",
        "    r.append(max(i.values()))\n",
        "    print(max(r))"
      ]
    },
    {
      "cell_type": "code",
      "execution_count": 24,
      "metadata": {
        "id": "BXui47bDEh_E"
      },
      "outputs": [
        {
          "data": {
            "text/plain": [
              "{'ineuron': {'a': 14, 'b': 10, 'c': 4},\n",
              " 'course': {'d': 45, 'e': 34, 'f': 1},\n",
              " 'g': 34,\n",
              " 'h': [45, 6, 7, 8, 9, 3],\n",
              " 'i': (45, 34, 2),\n",
              " 'k': 'sudh',\n",
              " 'l': {0, 45, 99}}"
            ]
          },
          "execution_count": 24,
          "metadata": {},
          "output_type": "execute_result"
        }
      ],
      "source": [
        "d1"
      ]
    },
    {
      "cell_type": "code",
      "execution_count": 14,
      "metadata": {
        "colab": {
          "base_uri": "https://localhost:8080/"
        },
        "id": "nY_O12FpiRrg",
        "outputId": "ea569547-6dd4-4ec9-b3be-e58cbd290352"
      },
      "outputs": [
        {
          "name": "stdout",
          "output_type": "stream",
          "text": [
            "45\n"
          ]
        }
      ],
      "source": [
        "\n",
        "#from builtins import max\n",
        "l1=[]\n",
        "for i in d1.values():\n",
        "  if type(i)==dict:\n",
        "    l1.append(max(i.values()))\n",
        "  elif type(i)==list:\n",
        "    l1.append(max(i))\n",
        "  elif type(i)==tuple:\n",
        "    l1.append(max(i))\n",
        "  elif type(i)==str:\n",
        "    pass\n",
        "  else:\n",
        "    l1.append(i)\n",
        "print(max(l1))\n",
        "  \n"
      ]
    },
    {
      "cell_type": "code",
      "execution_count": null,
      "metadata": {
        "colab": {
          "base_uri": "https://localhost:8080/"
        },
        "id": "xfgxYlE9-FNx",
        "outputId": "22608b01-c084-454b-bccc-355fcfdc3cd3"
      },
      "outputs": [
        {
          "name": "stdout",
          "output_type": "stream",
          "text": [
            "45\n"
          ]
        }
      ],
      "source": [
        "l=[]\n",
        "for i in d1.values():\n",
        "  if type(i)==int:\n",
        "    l.append(i)\n",
        "  elif type(i)== list or type(i)==tuple:\n",
        "    l.extend(i)\n",
        "  elif type(i) == dict:\n",
        "    for j in i.values():\n",
        "      l.append(j)\n",
        "print(max(l))"
      ]
    },
    {
      "cell_type": "code",
      "execution_count": 5,
      "metadata": {},
      "outputs": [
        {
          "data": {
            "text/plain": [
              "{'ineuron': {'a': 14, 'b': 10, 'c': 4},\n",
              " 'course': {'d': 45, 'e': 34, 'f': 1},\n",
              " 'g': 34,\n",
              " 'h': [45, 6, 7, 8, 9, 3],\n",
              " 'i': (45, 34, 2),\n",
              " 'k': 'sudh'}"
            ]
          },
          "execution_count": 5,
          "metadata": {},
          "output_type": "execute_result"
        }
      ],
      "source": [
        "d1"
      ]
    },
    {
      "cell_type": "code",
      "execution_count": 7,
      "metadata": {
        "colab": {
          "base_uri": "https://localhost:8080/"
        },
        "id": "QQzCARA8_Vq8",
        "outputId": "bd17fd8b-1daf-4c7e-c9e4-de37140b82fd"
      },
      "outputs": [
        {
          "name": "stdout",
          "output_type": "stream",
          "text": [
            "True\n",
            "True\n",
            "45\n"
          ]
        }
      ],
      "source": [
        "l=[]\n",
        "for i in d1:\n",
        "  if type(d1[i])==dict:\n",
        "    print(True)\n",
        "    l.append(max(d1[i].values()))\n",
        "  elif type(d1[i])==list or type(d1[i])==tuple:\n",
        "    l.append(max(d1[i]))\n",
        "print(max(l))"
      ]
    },
    {
      "cell_type": "code",
      "execution_count": null,
      "metadata": {
        "colab": {
          "base_uri": "https://localhost:8080/"
        },
        "id": "-T_wYkYoJ5Qb",
        "outputId": "355cf955-cdf6-4494-fecb-f585d84d996a"
      },
      "outputs": [
        {
          "data": {
            "text/plain": [
              "dict_items([('ineuron', {'a': 14, 'b': 10, 'c': 4}), ('course', {'d': 45, 'e': 34, 'f': 1}), ('g', 34), ('h', [45, 6, 7, 8, 9, 3]), ('i', (45, 34, 2)), ('k', 'sudh')])"
            ]
          },
          "execution_count": 72,
          "metadata": {},
          "output_type": "execute_result"
        }
      ],
      "source": [
        "d1.items()"
      ]
    },
    {
      "cell_type": "code",
      "execution_count": 8,
      "metadata": {
        "colab": {
          "base_uri": "https://localhost:8080/",
          "height": 245
        },
        "id": "9zBV4QpZAQHo",
        "outputId": "2f9cd832-6b9e-4a3f-dfb2-d097572de4f9"
      },
      "outputs": [
        {
          "ename": "IndexError",
          "evalue": "list index out of range",
          "output_type": "error",
          "traceback": [
            "\u001b[0;31m---------------------------------------------------------------------------\u001b[0m",
            "\u001b[0;31mIndexError\u001b[0m                                Traceback (most recent call last)",
            "Cell \u001b[0;32mIn[8], line 5\u001b[0m\n\u001b[1;32m      3\u001b[0m \u001b[38;5;28;01mif\u001b[39;00m \u001b[38;5;28mtype\u001b[39m(j)\u001b[38;5;241m==\u001b[39m\u001b[38;5;28mdict\u001b[39m \u001b[38;5;129;01mor\u001b[39;00m \u001b[38;5;28mtype\u001b[39m(j) \u001b[38;5;241m==\u001b[39m \u001b[38;5;28mlist\u001b[39m \u001b[38;5;129;01mor\u001b[39;00m \u001b[38;5;28mtype\u001b[39m(j)\u001b[38;5;241m==\u001b[39m\u001b[38;5;28mtuple\u001b[39m:\n\u001b[1;32m      4\u001b[0m   \u001b[38;5;28;01mfor\u001b[39;00m k \u001b[38;5;129;01min\u001b[39;00m j:\n\u001b[0;32m----> 5\u001b[0m     \u001b[38;5;28;01mif\u001b[39;00m \u001b[38;5;28mtype\u001b[39m(\u001b[43mj\u001b[49m\u001b[43m[\u001b[49m\u001b[43mk\u001b[49m\u001b[43m]\u001b[49m)\u001b[38;5;241m==\u001b[39m\u001b[38;5;28mint\u001b[39m:\n\u001b[1;32m      6\u001b[0m       \u001b[38;5;28;01mif\u001b[39;00m j[k]\u001b[38;5;241m>\u001b[39m\u001b[38;5;28mmax\u001b[39m:\n\u001b[1;32m      7\u001b[0m         \u001b[38;5;28mmax\u001b[39m\u001b[38;5;241m=\u001b[39mj[k]\n",
            "\u001b[0;31mIndexError\u001b[0m: list index out of range"
          ]
        }
      ],
      "source": [
        "for i,j in d1.items():    #key will store in i and corrsponding value in j\n",
        "  max=0\n",
        "  if type(j)==dict or type(j) == list or type(j)==tuple:\n",
        "    for k in j:\n",
        "      if type(j[k])==int:\n",
        "        if j[k]>max:\n",
        "          max=j[k]\n",
        "      else:\n",
        "        if type(j)==int:\n",
        "           if j[k]>max:\n",
        "             max=j[k]\n",
        "print(max)             \n",
        "\n"
      ]
    },
    {
      "cell_type": "code",
      "execution_count": 22,
      "metadata": {},
      "outputs": [
        {
          "data": {
            "text/plain": [
              "{'ineuron': {'a': 14, 'b': 10, 'c': 4},\n",
              " 'course': {'d': 45, 'e': 34, 'f': 1},\n",
              " 'g': 34,\n",
              " 'h': [45, 6, 7, 8, 9, 3],\n",
              " 'i': (45, 34, 2),\n",
              " 'k': 'sudh',\n",
              " 'l': {45, 99, 'a'}}"
            ]
          },
          "execution_count": 22,
          "metadata": {},
          "output_type": "execute_result"
        }
      ],
      "source": [
        "d1"
      ]
    },
    {
      "cell_type": "code",
      "execution_count": 25,
      "metadata": {
        "colab": {
          "base_uri": "https://localhost:8080/"
        },
        "id": "beZpykdeTfol",
        "outputId": "92aa08a2-3341-4d15-c0b8-1f227efca2d5"
      },
      "outputs": [
        {
          "data": {
            "text/plain": [
              "[14, 10, 4, 45, 34, 1, 34, 45, 45, 99]"
            ]
          },
          "execution_count": 25,
          "metadata": {},
          "output_type": "execute_result"
        }
      ],
      "source": [
        "#from builtins import max\n",
        "\n",
        "l = []\n",
        "for i in d1.values():\n",
        "  if type(i) != str and type (i) != complex:\n",
        "    if type(i) == int:\n",
        "      l.append(i)\n",
        "    elif type(i) == list or type (i) == tuple or type(i) == set:\n",
        "      l.append(max(i))\n",
        "    elif type(i) == dict:\n",
        "      for j in i.values():\n",
        "         l.append(j)\n",
        "      \n",
        "\n",
        "l"
      ]
    },
    {
      "cell_type": "code",
      "execution_count": 26,
      "metadata": {
        "colab": {
          "base_uri": "https://localhost:8080/"
        },
        "id": "PstV5gnJX3aj",
        "outputId": "5eb1ca90-eb53-4d50-9b22-66e6a15ff587"
      },
      "outputs": [
        {
          "name": "stdout",
          "output_type": "stream",
          "text": [
            "99\n"
          ]
        }
      ],
      "source": [
        "print(max(l))       #remember max is an inbuilt function, but you can make variable with name 'max' too but the variable 'max' will be overridden and you will be unable to use max function\n"
      ]
    },
    {
      "cell_type": "code",
      "execution_count": null,
      "metadata": {
        "id": "Gvh2mn0FWAHC"
      },
      "outputs": [],
      "source": []
    }
  ],
  "metadata": {
    "colab": {
      "provenance": []
    },
    "kernelspec": {
      "display_name": "Python 3.8.10 64-bit",
      "language": "python",
      "name": "python3"
    },
    "language_info": {
      "codemirror_mode": {
        "name": "ipython",
        "version": 3
      },
      "file_extension": ".py",
      "mimetype": "text/x-python",
      "name": "python",
      "nbconvert_exporter": "python",
      "pygments_lexer": "ipython3",
      "version": "3.8.10"
    },
    "vscode": {
      "interpreter": {
        "hash": "e7370f93d1d0cde622a1f8e1c04877d8463912d04d973331ad4851f04de6915a"
      }
    }
  },
  "nbformat": 4,
  "nbformat_minor": 0
}
