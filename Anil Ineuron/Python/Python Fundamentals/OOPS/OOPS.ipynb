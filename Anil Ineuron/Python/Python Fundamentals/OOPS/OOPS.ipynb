{
  "cells": [
    {
      "cell_type": "markdown",
      "metadata": {},
      "source": [
        "**written by Nirbhay**\n",
        "\n",
        "there is a lecture on **modules & packages** uploaded on ineuron for which I am not going to make any separate file but will discuss here only\n",
        "\n",
        "Basically a **module** is a .py file consist of a no. of functions which you can also create easily. And to use module in our code we have to import that module in our code by writing as follow:\n",
        "\n",
        "    import module_name\n",
        "    from module_name import *   #alternative for above line\n",
        "    module_name.fun()       #to call particuar function from that module\n",
        "\n",
        "we can also import particular function from that module. For e.g.\n",
        "\n",
        "    from module_name import fun     #importing only one function from that module\n",
        "    fun()       # to use that function in our code\n",
        "\n",
        "**packages** are collection of modules. In simple terms package is a folder containing a no. of modules.<br>\n",
        "in the same way as in case of modules, we can import a particular package or a module from particular package.\n",
        "\n",
        "suppose we have package named Pkg1 and inside that we have 4 module m1,m2,m3,m4 and inside each module there are some functions. *And also Suppose that pkg1 is inside pkg folder.* So to use package in our code we have to write as follow :\n",
        "\n",
        "    from pkg import pkg1\n",
        "    import f2     #as f2 is inside pkg1\n",
        "    f2.fun()      #to access function inside module f2\n",
        "\n",
        "\n",
        "Note: There are libraries like tkinter and kivy which are use to create GUI for python. Tkinter is a better option suggested by sir and kivy is difficult but having lots of funcionality.\n",
        "\n",
        "\n",
        "\n"
      ]
    },
    {
      "cell_type": "markdown",
      "metadata": {
        "id": "3gIGSUrlR__d"
      },
      "source": [
        "**what is class , object, oops programing, and how oops concept is differnt from python scripting**"
      ]
    },
    {
      "cell_type": "code",
      "execution_count": null,
      "metadata": {
        "colab": {
          "base_uri": "https://localhost:8080/"
        },
        "id": "lnxPCPXbR39_",
        "outputId": "530b17c9-a633-45b8-cd10-2cf3ed8e15b2"
      },
      "outputs": [
        {
          "name": "stdout",
          "output_type": "stream",
          "text": [
            "1\n",
            "2\n",
            "3\n",
            "4\n",
            "5\n",
            "5\n"
          ]
        }
      ],
      "source": [
        "l=[1,2,3,4,5,5]\n",
        "for i in l:\n",
        "  print(i)"
      ]
    },
    {
      "cell_type": "markdown",
      "metadata": {
        "id": "CP0ojFj8f-_Q"
      },
      "source": [
        "Class is like a blue print , and object is like a entity which really exist , which i will be able to see and touch"
      ]
    },
    {
      "cell_type": "markdown",
      "metadata": {
        "id": "QfT8lL2PdQBQ"
      },
      "source": [
        "every function which start with double  \n",
        "undescore and ends with double underscore is inbuilt function in python"
      ]
    },
    {
      "cell_type": "code",
      "execution_count": null,
      "metadata": {
        "id": "PLzz6jOtSWJp"
      },
      "outputs": [],
      "source": [
        "#first variable inside class of any function is always going to behave as a pointer. self is a pointer and it is just a variable. You can give any name\n",
        "class car:\n",
        "  def __init__(self,brand_name,fueltype,body_type):\n",
        "    self.brand_name = brand_name\n",
        "    self.fueltype = fueltype\n",
        "    self.body_type =body_type\n",
        "  #self is pointer\n",
        "  def desc_car(self):\n",
        "    print(self.brand_name , self.fueltype , self.body_type)"
      ]
    },
    {
      "cell_type": "code",
      "execution_count": null,
      "metadata": {
        "colab": {
          "base_uri": "https://localhost:8080/",
          "height": 235
        },
        "id": "2I182DaTeXuM",
        "outputId": "2d69f1c8-3d9b-4a5d-a2d4-3e3a607475bb"
      },
      "outputs": [
        {
          "ename": "TypeError",
          "evalue": "ignored",
          "output_type": "error",
          "traceback": [
            "\u001b[0;31m---------------------------------------------------------------------------\u001b[0m",
            "\u001b[0;31mTypeError\u001b[0m                                 Traceback (most recent call last)",
            "\u001b[0;32m<ipython-input-14-e47a1b5274cf>\u001b[0m in \u001b[0;36m<module>\u001b[0;34m\u001b[0m\n\u001b[1;32m      1\u001b[0m \u001b[0minova\u001b[0m \u001b[0;34m=\u001b[0m \u001b[0mcar\u001b[0m\u001b[0;34m(\u001b[0m\u001b[0;34m\"toyota\"\u001b[0m\u001b[0;34m,\u001b[0m\u001b[0;34m\"petrol\"\u001b[0m\u001b[0;34m,\u001b[0m\u001b[0;34m\"suv\"\u001b[0m\u001b[0;34m)\u001b[0m\u001b[0;34m\u001b[0m\u001b[0;34m\u001b[0m\u001b[0m\n\u001b[0;32m----> 2\u001b[0;31m \u001b[0minova\u001b[0m\u001b[0;34m.\u001b[0m\u001b[0mdesc_car\u001b[0m\u001b[0;34m(\u001b[0m\u001b[0;34m)\u001b[0m\u001b[0;34m\u001b[0m\u001b[0;34m\u001b[0m\u001b[0m\n\u001b[0m\u001b[1;32m      3\u001b[0m \u001b[0;31m# i am geeting this error because i didn;t declare a pointer in function this means muy system didn;t understand whether this function is binded to class or not\u001b[0m\u001b[0;34m\u001b[0m\u001b[0;34m\u001b[0m\u001b[0m\n",
            "\u001b[0;31mTypeError\u001b[0m: desc_car() takes 0 positional arguments but 1 was given"
          ]
        }
      ],
      "source": [
        "inova = car(\"toyota\",\"petrol\",\"suv\")\n",
        "inova.desc_car()\n",
        "# i am geeting this error because i didn;t declare a pointer in function this means muy system didn;t understand whether this function is binded to class or not"
      ]
    },
    {
      "cell_type": "markdown",
      "metadata": {
        "id": "IlMtw_IcfsIU"
      },
      "source": [
        "init is constructor , init is the type of entity , kind of a method , kind of function, which help my class to take a input ,which is responsible for a providing data to the particular class , that is something called as constructor  "
      ]
    },
    {
      "cell_type": "markdown",
      "metadata": {
        "id": "ouPCS1TchcTj"
      },
      "source": [
        "in classes if you want to create any function a very first variable that you are going to create must be a pointer in any class"
      ]
    },
    {
      "cell_type": "code",
      "execution_count": null,
      "metadata": {
        "colab": {
          "base_uri": "https://localhost:8080/"
        },
        "id": "curFsjbTfiCm",
        "outputId": "d6d59375-f57a-433b-93c5-8b4098c49b19"
      },
      "outputs": [
        {
          "name": "stdout",
          "output_type": "stream",
          "text": [
            "toyota petrol suv\n"
          ]
        }
      ],
      "source": [
        "inova = car(\"toyota\",\"petrol\",\"suv\")\n",
        "inova.desc_car()"
      ]
    },
    {
      "cell_type": "code",
      "execution_count": null,
      "metadata": {
        "colab": {
          "base_uri": "https://localhost:8080/",
          "height": 36
        },
        "id": "yXI4u6c1i-es",
        "outputId": "c7f3f566-3dbc-4668-8334-c9bd64a73584"
      },
      "outputs": [
        {
          "data": {
            "application/vnd.google.colaboratory.intrinsic+json": {
              "type": "string"
            },
            "text/plain": [
              "'toyota'"
            ]
          },
          "execution_count": 4,
          "metadata": {},
          "output_type": "execute_result"
        }
      ],
      "source": [
        "inova.brand_name"
      ]
    },
    {
      "cell_type": "markdown",
      "metadata": {
        "id": "Ltecn77W5_Bs"
      },
      "source": [
        "whatever datatype we have studied so far so what actually belong to class and internally whoever written a code for it's been written in a form of class and object"
      ]
    },
    {
      "cell_type": "code",
      "execution_count": null,
      "metadata": {
        "colab": {
          "base_uri": "https://localhost:8080/"
        },
        "id": "lRYARUIjjkPa",
        "outputId": "1fb87d5b-5cfe-45de-c58c-97f8e4e92782"
      },
      "outputs": [
        {
          "data": {
            "text/plain": [
              "type"
            ]
          },
          "execution_count": 5,
          "metadata": {},
          "output_type": "execute_result"
        }
      ],
      "source": [
        "type(car)"
      ]
    },
    {
      "cell_type": "markdown",
      "metadata": {
        "id": "EyYem53iend8"
      },
      "source": [
        "self is not a keyword , we can take any other possible name in place of name"
      ]
    },
    {
      "cell_type": "code",
      "execution_count": null,
      "metadata": {
        "id": "rRZF_cBheq7z"
      },
      "outputs": [],
      "source": [
        "class car:\n",
        "  def __init__(self,brand_name,fueltype,body_type):\n",
        "    self.a = brand_name\n",
        "    self.b = fueltype\n",
        "    self.c =body_type\n",
        "  #self is pointer\n",
        "  def desc_car(self):\n",
        "    print(self.brand_name , self.fueltype , self.body_type)"
      ]
    },
    {
      "cell_type": "code",
      "execution_count": null,
      "metadata": {
        "id": "wD5HbmN_g_35"
      },
      "outputs": [],
      "source": [
        "volvo= car(\"london\",\"df23\",'stream')"
      ]
    },
    {
      "cell_type": "code",
      "execution_count": null,
      "metadata": {
        "colab": {
          "base_uri": "https://localhost:8080/",
          "height": 165
        },
        "id": "xDrXc_CChROs",
        "outputId": "c9dccbe9-0c8d-44bb-875c-54344055279b"
      },
      "outputs": [
        {
          "ename": "AttributeError",
          "evalue": "ignored",
          "output_type": "error",
          "traceback": [
            "\u001b[0;31m---------------------------------------------------------------------------\u001b[0m",
            "\u001b[0;31mAttributeError\u001b[0m                            Traceback (most recent call last)",
            "\u001b[0;32m<ipython-input-3-a9e17d5b96cb>\u001b[0m in \u001b[0;36m<module>\u001b[0;34m\u001b[0m\n\u001b[0;32m----> 1\u001b[0;31m \u001b[0mvolvo\u001b[0m\u001b[0;34m.\u001b[0m\u001b[0mbrand_name\u001b[0m\u001b[0;34m\u001b[0m\u001b[0;34m\u001b[0m\u001b[0m\n\u001b[0m",
            "\u001b[0;31mAttributeError\u001b[0m: 'car' object has no attribute 'brand_name'"
          ]
        }
      ],
      "source": [
        "volvo.brand_name"
      ]
    },
    {
      "cell_type": "code",
      "execution_count": null,
      "metadata": {
        "colab": {
          "base_uri": "https://localhost:8080/",
          "height": 36
        },
        "id": "qa6ev38ohUG4",
        "outputId": "12d94f2a-b58c-47dd-c799-27daef8b45ed"
      },
      "outputs": [
        {
          "data": {
            "application/vnd.google.colaboratory.intrinsic+json": {
              "type": "string"
            },
            "text/plain": [
              "'london'"
            ]
          },
          "execution_count": 4,
          "metadata": {},
          "output_type": "execute_result"
        }
      ],
      "source": [
        "volvo.a"
      ]
    },
    {
      "cell_type": "code",
      "execution_count": null,
      "metadata": {
        "id": "qdo6Knf_hWYo"
      },
      "outputs": [],
      "source": [
        "class car:\n",
        "  \n",
        "  #self is pointer\n",
        "  def desc_car(self):\n",
        "    print(self.brand_name , self.fueltype , self.body_type)"
      ]
    },
    {
      "cell_type": "markdown",
      "metadata": {
        "id": "w2gKPnOsieLm"
      },
      "source": [
        "if you don't want to pass any value to class that's completely okay, inclusion of init function is not mandatory"
      ]
    },
    {
      "cell_type": "code",
      "execution_count": null,
      "metadata": {
        "id": "NfI6JT0Midiv"
      },
      "outputs": [],
      "source": [
        "x=car()"
      ]
    },
    {
      "cell_type": "markdown",
      "metadata": {
        "id": "NcfZ7dbukZ5c"
      },
      "source": [
        "one guy is asking that how to make object without constructor , in above cell we can see x is also a object and we do not  make any constructor for this object"
      ]
    },
    {
      "cell_type": "code",
      "execution_count": null,
      "metadata": {
        "id": "iULsCj-Ui77v"
      },
      "outputs": [],
      "source": [
        "class list_parser:\n",
        "  def parcer(self,a):\n",
        "    if type(a) ==list :\n",
        "      for i in a :\n",
        "        print(i)\n",
        "  def reverser_list(self,z):\n",
        "    if type(z) ==list:\n",
        "      return z[::-1]\n"
      ]
    },
    {
      "cell_type": "code",
      "execution_count": null,
      "metadata": {
        "id": "pm7hAh0Fo25W"
      },
      "outputs": [],
      "source": [
        "c= list_parser()"
      ]
    },
    {
      "cell_type": "code",
      "execution_count": null,
      "metadata": {
        "colab": {
          "base_uri": "https://localhost:8080/"
        },
        "id": "DNs_vBQ5o-7a",
        "outputId": "8e1b1422-bf4a-4fb2-d01d-51e14c650d68"
      },
      "outputs": [
        {
          "name": "stdout",
          "output_type": "stream",
          "text": [
            "1\n",
            "2\n",
            "3\n",
            "4\n",
            "56\n"
          ]
        }
      ],
      "source": [
        "c.parcer([1,2,3,4,56])"
      ]
    },
    {
      "cell_type": "code",
      "execution_count": null,
      "metadata": {
        "colab": {
          "base_uri": "https://localhost:8080/"
        },
        "id": "BzUJz_U2pCtt",
        "outputId": "96dbe772-af3f-47ed-8afb-a41439865b91"
      },
      "outputs": [
        {
          "data": {
            "text/plain": [
              "[7, 6, 4, 4, 23, 1]"
            ]
          },
          "execution_count": 13,
          "metadata": {},
          "output_type": "execute_result"
        }
      ],
      "source": [
        "c.reverser_list([1,23,4,4,6,7]) \n",
        "#as we haven't created __init__ method inside the class due to which we have to pass the list everytime"
      ]
    },
    {
      "cell_type": "code",
      "execution_count": 3,
      "metadata": {
        "id": "D_v0dtofppOa"
      },
      "outputs": [],
      "source": [
        "class list_parser :\n",
        "    def __init__(self , l):\n",
        "        self.l = l \n",
        "    \n",
        "    def parcer(self):\n",
        "        if type(self.l) == list :\n",
        "            for i in self.l:\n",
        "                print(i)\n",
        "                \n",
        "    def reverser_list(self) :\n",
        "        if type(self.l) == list:\n",
        "            return self.l [::-1]"
      ]
    },
    {
      "cell_type": "code",
      "execution_count": 4,
      "metadata": {},
      "outputs": [
        {
          "name": "stdout",
          "output_type": "stream",
          "text": [
            "2\n",
            "3\n",
            "4\n",
            "6\n",
            "7\n",
            "78\n"
          ]
        }
      ],
      "source": [
        "#now fine, we don't have to pass the list everytime\n",
        "c = list_parser([2,3,4,6,7,78])\n",
        "c.parcer()"
      ]
    },
    {
      "cell_type": "code",
      "execution_count": 5,
      "metadata": {},
      "outputs": [
        {
          "data": {
            "text/plain": [
              "[78, 7, 6, 4, 3, 2]"
            ]
          },
          "execution_count": 5,
          "metadata": {},
          "output_type": "execute_result"
        }
      ],
      "source": [
        "c.reverser_list()"
      ]
    },
    {
      "cell_type": "markdown",
      "metadata": {},
      "source": [
        "Classes and functions always gives you a mainatainability, a reusability that is the reason OOPs have been adopted through out the industry"
      ]
    },
    {
      "cell_type": "markdown",
      "metadata": {},
      "source": [
        "create a class for dictonary parsing \n",
        "\n",
        "1 . write a functoin to give all the keys<br>\n",
        "2  .write a function to give all the values <br>\n",
        "3 . write a function to throw an exception in case of input is not dictonary<br>\n",
        "4. write a function to take user input and then parse a key and value out of dictonary<br> \n",
        "5. write a function to insert new key value pair  into dictonary "
      ]
    },
    {
      "cell_type": "code",
      "execution_count": null,
      "metadata": {},
      "outputs": [],
      "source": [
        "#sol\n",
        "#problem in this code is that there is no __init__ defined\n",
        "class dict_parse:\n",
        "    \n",
        "    def keys_dict(self,d):\n",
        "        for i in d.keys():\n",
        "            print(i)\n",
        "            \n",
        "    def keys_dict(self,d):\n",
        "        for i in d.values():\n",
        "            print(i)\n",
        "    \n",
        "    def dict_check(self,d):\n",
        "        if(type(d) != dict):\n",
        "            raise Exception(\"input not dictionary\")\n",
        "    \n",
        "    def dict_in(self,d,a=int(input())):\n",
        "        print(d[a])\n",
        "        \n",
        "    def dict_input(self,d,key,value):\n",
        "        d[key]=value"
      ]
    },
    {
      "cell_type": "code",
      "execution_count": 6,
      "metadata": {},
      "outputs": [],
      "source": [
        "#alternate1\n",
        "#this sol. is very good\n",
        "class dict_parsing:\n",
        "    \n",
        "    def __init__(self,a):\n",
        "        self.a = a\n",
        "    \n",
        "    def getkeys(self):\n",
        "        if self.notdict():\n",
        "            return list(self.a.keys())\n",
        "        \n",
        "    def getvalues(self):\n",
        "        if self.notdict():\n",
        "            return list(self.a.values())\n",
        "        \n",
        "    def notdict(self):\n",
        "        if type(self.a) != dict:\n",
        "            raise Exception(self.a,'Not a dictionary')\n",
        "        return 1\n",
        "    def userinput(self):\n",
        "        self.a = eval(input())  #eval converts input into value\n",
        "        print(self.a,type(self.a))\n",
        "        print(self.getkeys())\n",
        "        print(self.getvalues())\n",
        "        \n",
        "    def insertion(self,k,v):\n",
        "        self.a[k] = v"
      ]
    },
    {
      "cell_type": "code",
      "execution_count": null,
      "metadata": {},
      "outputs": [],
      "source": [
        "#Alternate2\n",
        "#In alternate 1, there is high level of reusability than this one\n",
        "class dictparser:\n",
        "    def __init__(self, d):\n",
        "        self.d = d\n",
        "    \n",
        "    def mykeys(self):\n",
        "        if type(self.d) == dict:\n",
        "            return self.d.keys()\n",
        "    def myvalues(self):\n",
        "        if type(self.d) == dict:\n",
        "            return self.d.values()\n",
        "    def inputkey(self):\n",
        "        self.mykey = input()\n",
        "        try:\n",
        "            return self.d[self.mykey]\n",
        "        except Exception as e:\n",
        "            print(e)\n",
        "    def newvalue(self, mykey1, myval1):\n",
        "        if type(self.d) == dict:\n",
        "            self.d[mykey1] = myval1"
      ]
    },
    {
      "cell_type": "code",
      "execution_count": null,
      "metadata": {},
      "outputs": [],
      "source": [
        "#Alternate3\n",
        "#this is also good sol.\n",
        "class dict_Parser:\n",
        "    def __init__ (self,dic):\n",
        "        if type(dic) != dict:\n",
        "            raise ValueError(\"Input is not dictionary\")\n",
        "        self.dictionary = dic\n",
        "        \n",
        "    def get_keys(self):\n",
        "        return self.dictionary.keys()\n",
        "    def get_values(self):\n",
        "        return self.dictionary.values()\n",
        "    def take_input(self):\n",
        "        a = input(\"enter key\")\n",
        "        b = input(\"enter value\")\n",
        "        self.dictionary[a] = b\n",
        "    def insert_key_val_pair(self,key,value):\n",
        "        self.dictionary[key] = value"
      ]
    },
    {
      "cell_type": "code",
      "execution_count": null,
      "metadata": {},
      "outputs": [],
      "source": [
        "#Alternate4\n",
        "import logging as lg\n",
        "lg.basicConfig(filename = \"dict.log\")\n",
        "class dict_parsing :\n",
        "    \n",
        "    def __init__(self,a):\n",
        "        self.a = a\n",
        "    def dic_keys(self):\n",
        "        try:\n",
        "            l = list(self.a.keys())\n",
        "            return l\n",
        "        except :\n",
        "            self.logger(\"enter dictonary\")\n",
        "    def dic_values(self):\n",
        "        try:\n",
        "            return list(self.a.values())\n",
        "        except:\n",
        "            self.logger(\"enter dictonary\")\n",
        "    def insert_dic(self,**kwargs):\n",
        "        try:\n",
        "            self.a.update(kwargs)\n",
        "            return self.a\n",
        "        except:\n",
        "            self.logger(\"enter dictonary\")\n",
        "    def logger(self,log):\n",
        "        logger = lg.error(log)\n",
        "    def check(self):\n",
        "        if type(self.a) != dict:\n",
        "            raise Exception (\"not a dictonary\")\n",
        "        else:\n",
        "            print(\"it is a dictonary\")\n",
        "    def __str__(self):\n",
        "        return 'this is class for dictonary parsing'"
      ]
    },
    {
      "cell_type": "markdown",
      "metadata": {},
      "source": [
        "**QUESTIONS FOR HOMEWORK**<br>\n",
        "\n",
        "q1 . Create your own package for all the list function <br>\n",
        "q2 .create your onw package for all the tuple function <br>\n",
        "q3 . create your own package for all dictonary function<br>\n",
        "q4 . create your own package for all the set function<br>\n",
        "\n",
        "restriction :\n",
        "    always use exception handling<br>\n",
        "    never usr print statement <br>\n",
        "    always use logging while writing a code and log<br> every activity performed by code in respective logging file<br>\n"
      ]
    },
    {
      "cell_type": "markdown",
      "metadata": {},
      "source": []
    }
  ],
  "metadata": {
    "colab": {
      "provenance": []
    },
    "kernelspec": {
      "display_name": "Python 3.8.10 64-bit",
      "language": "python",
      "name": "python3"
    },
    "language_info": {
      "codemirror_mode": {
        "name": "ipython",
        "version": 3
      },
      "file_extension": ".py",
      "mimetype": "text/x-python",
      "name": "python",
      "nbconvert_exporter": "python",
      "pygments_lexer": "ipython3",
      "version": "3.8.10"
    },
    "vscode": {
      "interpreter": {
        "hash": "e7370f93d1d0cde622a1f8e1c04877d8463912d04d973331ad4851f04de6915a"
      }
    }
  },
  "nbformat": 4,
  "nbformat_minor": 0
}
