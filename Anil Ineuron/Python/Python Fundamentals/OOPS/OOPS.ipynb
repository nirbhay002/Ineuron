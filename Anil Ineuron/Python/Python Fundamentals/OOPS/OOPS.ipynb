{
  "nbformat": 4,
  "nbformat_minor": 0,
  "metadata": {
    "colab": {
      "provenance": []
    },
    "kernelspec": {
      "name": "python3",
      "display_name": "Python 3"
    },
    "language_info": {
      "name": "python"
    }
  },
  "cells": [
    {
      "cell_type": "markdown",
      "source": [
        "what is class , object, oops programing, and how oops concept is differnt from python scripting "
      ],
      "metadata": {
        "id": "3gIGSUrlR__d"
      }
    },
    {
      "cell_type": "code",
      "execution_count": null,
      "metadata": {
        "colab": {
          "base_uri": "https://localhost:8080/"
        },
        "id": "lnxPCPXbR39_",
        "outputId": "530b17c9-a633-45b8-cd10-2cf3ed8e15b2"
      },
      "outputs": [
        {
          "output_type": "stream",
          "name": "stdout",
          "text": [
            "1\n",
            "2\n",
            "3\n",
            "4\n",
            "5\n",
            "5\n"
          ]
        }
      ],
      "source": [
        "l=[1,2,3,4,5,5]\n",
        "for i in l:\n",
        "  print(i)"
      ]
    },
    {
      "cell_type": "markdown",
      "source": [
        "Class is like a blue print , and object is like a entity which really exist , which i will be able to see and touch"
      ],
      "metadata": {
        "id": "CP0ojFj8f-_Q"
      }
    },
    {
      "cell_type": "markdown",
      "source": [
        "every function which start with double  \n",
        "undescore and ends with double underscore is inbuilt function in python"
      ],
      "metadata": {
        "id": "QfT8lL2PdQBQ"
      }
    },
    {
      "cell_type": "code",
      "source": [
        "\n",
        "class car:\n",
        "  def __init__(self,brand_name,fueltype,body_type):\n",
        "    self.brand_name = brand_name\n",
        "    self.fueltype = fueltype\n",
        "    self.body_type =body_type\n",
        "  #self is pointer\n",
        "  def desc_car(self):\n",
        "    print(self.brand_name , self.fueltype , self.body_type)"
      ],
      "metadata": {
        "id": "PLzz6jOtSWJp"
      },
      "execution_count": null,
      "outputs": []
    },
    {
      "cell_type": "code",
      "source": [
        "inova = car(\"toyota\",\"petrol\",\"suv\")\n",
        "inova.desc_car()\n",
        "# i am geeting this error because i didn;t declare a pointer in function this means muy system didn;t understand whether this function is binded to class or not"
      ],
      "metadata": {
        "colab": {
          "base_uri": "https://localhost:8080/",
          "height": 235
        },
        "id": "2I182DaTeXuM",
        "outputId": "2d69f1c8-3d9b-4a5d-a2d4-3e3a607475bb"
      },
      "execution_count": null,
      "outputs": [
        {
          "output_type": "error",
          "ename": "TypeError",
          "evalue": "ignored",
          "traceback": [
            "\u001b[0;31m---------------------------------------------------------------------------\u001b[0m",
            "\u001b[0;31mTypeError\u001b[0m                                 Traceback (most recent call last)",
            "\u001b[0;32m<ipython-input-14-e47a1b5274cf>\u001b[0m in \u001b[0;36m<module>\u001b[0;34m\u001b[0m\n\u001b[1;32m      1\u001b[0m \u001b[0minova\u001b[0m \u001b[0;34m=\u001b[0m \u001b[0mcar\u001b[0m\u001b[0;34m(\u001b[0m\u001b[0;34m\"toyota\"\u001b[0m\u001b[0;34m,\u001b[0m\u001b[0;34m\"petrol\"\u001b[0m\u001b[0;34m,\u001b[0m\u001b[0;34m\"suv\"\u001b[0m\u001b[0;34m)\u001b[0m\u001b[0;34m\u001b[0m\u001b[0;34m\u001b[0m\u001b[0m\n\u001b[0;32m----> 2\u001b[0;31m \u001b[0minova\u001b[0m\u001b[0;34m.\u001b[0m\u001b[0mdesc_car\u001b[0m\u001b[0;34m(\u001b[0m\u001b[0;34m)\u001b[0m\u001b[0;34m\u001b[0m\u001b[0;34m\u001b[0m\u001b[0m\n\u001b[0m\u001b[1;32m      3\u001b[0m \u001b[0;31m# i am geeting this error because i didn;t declare a pointer in function this means muy system didn;t understand whether this function is binded to class or not\u001b[0m\u001b[0;34m\u001b[0m\u001b[0;34m\u001b[0m\u001b[0m\n",
            "\u001b[0;31mTypeError\u001b[0m: desc_car() takes 0 positional arguments but 1 was given"
          ]
        }
      ]
    },
    {
      "cell_type": "markdown",
      "source": [
        "init is constructor , init is the type of entity , kind of a method , kind of function, which help my class to take a input ,which is responsible for a providing data to the particular class , that is something called as constructor  "
      ],
      "metadata": {
        "id": "IlMtw_IcfsIU"
      }
    },
    {
      "cell_type": "markdown",
      "source": [
        "in classes if you want to create any function a very first variable that you are going to create must be a pointer in any class"
      ],
      "metadata": {
        "id": "ouPCS1TchcTj"
      }
    },
    {
      "cell_type": "code",
      "source": [
        "inova = car(\"toyota\",\"petrol\",\"suv\")\n",
        "inova.desc_car()"
      ],
      "metadata": {
        "colab": {
          "base_uri": "https://localhost:8080/"
        },
        "id": "curFsjbTfiCm",
        "outputId": "d6d59375-f57a-433b-93c5-8b4098c49b19"
      },
      "execution_count": null,
      "outputs": [
        {
          "output_type": "stream",
          "name": "stdout",
          "text": [
            "toyota petrol suv\n"
          ]
        }
      ]
    },
    {
      "cell_type": "code",
      "source": [
        "inova.brand_name"
      ],
      "metadata": {
        "colab": {
          "base_uri": "https://localhost:8080/",
          "height": 36
        },
        "id": "yXI4u6c1i-es",
        "outputId": "c7f3f566-3dbc-4668-8334-c9bd64a73584"
      },
      "execution_count": null,
      "outputs": [
        {
          "output_type": "execute_result",
          "data": {
            "text/plain": [
              "'toyota'"
            ],
            "application/vnd.google.colaboratory.intrinsic+json": {
              "type": "string"
            }
          },
          "metadata": {},
          "execution_count": 4
        }
      ]
    },
    {
      "cell_type": "markdown",
      "source": [
        "whatever datatype we have studied so far so what actually belong to class and internally whoever written a code for it's been written in a form of class and object"
      ],
      "metadata": {
        "id": "Ltecn77W5_Bs"
      }
    },
    {
      "cell_type": "code",
      "source": [
        "type(car)"
      ],
      "metadata": {
        "colab": {
          "base_uri": "https://localhost:8080/"
        },
        "id": "lRYARUIjjkPa",
        "outputId": "1fb87d5b-5cfe-45de-c58c-97f8e4e92782"
      },
      "execution_count": null,
      "outputs": [
        {
          "output_type": "execute_result",
          "data": {
            "text/plain": [
              "type"
            ]
          },
          "metadata": {},
          "execution_count": 5
        }
      ]
    },
    {
      "cell_type": "markdown",
      "source": [
        "self is not a keyword , we can take any other possible name in place of name"
      ],
      "metadata": {
        "id": "EyYem53iend8"
      }
    },
    {
      "cell_type": "code",
      "source": [
        "class car:\n",
        "  def __init__(self,brand_name,fueltype,body_type):\n",
        "    self.a = brand_name\n",
        "    self.b = fueltype\n",
        "    self.c =body_type\n",
        "  #self is pointer\n",
        "  def desc_car(self):\n",
        "    print(self.brand_name , self.fueltype , self.body_type)"
      ],
      "metadata": {
        "id": "rRZF_cBheq7z"
      },
      "execution_count": null,
      "outputs": []
    },
    {
      "cell_type": "code",
      "source": [
        "volvo= car(\"london\",\"df23\",'stream')"
      ],
      "metadata": {
        "id": "wD5HbmN_g_35"
      },
      "execution_count": null,
      "outputs": []
    },
    {
      "cell_type": "code",
      "source": [
        "volvo.brand_name"
      ],
      "metadata": {
        "colab": {
          "base_uri": "https://localhost:8080/",
          "height": 165
        },
        "id": "xDrXc_CChROs",
        "outputId": "c9dccbe9-0c8d-44bb-875c-54344055279b"
      },
      "execution_count": null,
      "outputs": [
        {
          "output_type": "error",
          "ename": "AttributeError",
          "evalue": "ignored",
          "traceback": [
            "\u001b[0;31m---------------------------------------------------------------------------\u001b[0m",
            "\u001b[0;31mAttributeError\u001b[0m                            Traceback (most recent call last)",
            "\u001b[0;32m<ipython-input-3-a9e17d5b96cb>\u001b[0m in \u001b[0;36m<module>\u001b[0;34m\u001b[0m\n\u001b[0;32m----> 1\u001b[0;31m \u001b[0mvolvo\u001b[0m\u001b[0;34m.\u001b[0m\u001b[0mbrand_name\u001b[0m\u001b[0;34m\u001b[0m\u001b[0;34m\u001b[0m\u001b[0m\n\u001b[0m",
            "\u001b[0;31mAttributeError\u001b[0m: 'car' object has no attribute 'brand_name'"
          ]
        }
      ]
    },
    {
      "cell_type": "code",
      "source": [
        "volvo.a"
      ],
      "metadata": {
        "colab": {
          "base_uri": "https://localhost:8080/",
          "height": 36
        },
        "id": "qa6ev38ohUG4",
        "outputId": "12d94f2a-b58c-47dd-c799-27daef8b45ed"
      },
      "execution_count": null,
      "outputs": [
        {
          "output_type": "execute_result",
          "data": {
            "text/plain": [
              "'london'"
            ],
            "application/vnd.google.colaboratory.intrinsic+json": {
              "type": "string"
            }
          },
          "metadata": {},
          "execution_count": 4
        }
      ]
    },
    {
      "cell_type": "code",
      "source": [
        "class car:\n",
        "  \n",
        "  #self is pointer\n",
        "  def desc_car(self):\n",
        "    print(self.brand_name , self.fueltype , self.body_type)"
      ],
      "metadata": {
        "id": "qdo6Knf_hWYo"
      },
      "execution_count": null,
      "outputs": []
    },
    {
      "cell_type": "markdown",
      "source": [
        "if you don't want to pass any value to class that's completely okay, inclusion of init function is not mandatory"
      ],
      "metadata": {
        "id": "w2gKPnOsieLm"
      }
    },
    {
      "cell_type": "code",
      "source": [
        "x=car()"
      ],
      "metadata": {
        "id": "NfI6JT0Midiv"
      },
      "execution_count": null,
      "outputs": []
    },
    {
      "cell_type": "markdown",
      "source": [
        "one guy is asking that how to make object without constructor , in above cell we can see x is also a object and we do not  make any constructor for this object"
      ],
      "metadata": {
        "id": "NcfZ7dbukZ5c"
      }
    },
    {
      "cell_type": "code",
      "source": [
        "class list_parser:\n",
        "  def parcer(self,a):\n",
        "    if type(a) ==list :\n",
        "      for i in a :\n",
        "        print(i)\n",
        "  def reverser_list(self,z):\n",
        "    if type(z) ==list:\n",
        "      return z[::-1]\n"
      ],
      "metadata": {
        "id": "iULsCj-Ui77v"
      },
      "execution_count": null,
      "outputs": []
    },
    {
      "cell_type": "code",
      "source": [
        "c= list_parser()"
      ],
      "metadata": {
        "id": "pm7hAh0Fo25W"
      },
      "execution_count": null,
      "outputs": []
    },
    {
      "cell_type": "code",
      "source": [
        "c.parcer([1,2,3,4,56])"
      ],
      "metadata": {
        "colab": {
          "base_uri": "https://localhost:8080/"
        },
        "id": "DNs_vBQ5o-7a",
        "outputId": "8e1b1422-bf4a-4fb2-d01d-51e14c650d68"
      },
      "execution_count": null,
      "outputs": [
        {
          "output_type": "stream",
          "name": "stdout",
          "text": [
            "1\n",
            "2\n",
            "3\n",
            "4\n",
            "56\n"
          ]
        }
      ]
    },
    {
      "cell_type": "code",
      "source": [
        "c.reverser_list([1,23,4,4,6,7])"
      ],
      "metadata": {
        "colab": {
          "base_uri": "https://localhost:8080/"
        },
        "id": "BzUJz_U2pCtt",
        "outputId": "96dbe772-af3f-47ed-8afb-a41439865b91"
      },
      "execution_count": null,
      "outputs": [
        {
          "output_type": "execute_result",
          "data": {
            "text/plain": [
              "[7, 6, 4, 4, 23, 1]"
            ]
          },
          "metadata": {},
          "execution_count": 13
        }
      ]
    },
    {
      "cell_type": "code",
      "source": [],
      "metadata": {
        "id": "D_v0dtofppOa"
      },
      "execution_count": null,
      "outputs": []
    }
  ]
}