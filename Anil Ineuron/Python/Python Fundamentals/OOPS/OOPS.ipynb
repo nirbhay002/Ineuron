{
  "cells": [
    {
      "cell_type": "markdown",
      "metadata": {},
      "source": [
        "**written by Nirbhay**\n",
        "\n",
        "there is a lecture on **modules & packages** uploaded on ineuron for which I am not going to make any separate file but will discuss here only\n",
        "\n",
        "Basically a **module** is a .py file consist of a no. of functions which you can also create easily. And to use module in our code we have to import that module in our code by writing as follow:\n",
        "\n",
        "    import module_name\n",
        "    from module_name import *   #alternative for above line\n",
        "    module_name.fun()       #to call particuar function from that module\n",
        "\n",
        "we can also import particular function from that module. For e.g.\n",
        "\n",
        "    from module_name import fun     #importing only one function from that module\n",
        "    fun()       # to use that function in our code\n",
        "\n",
        "**packages** are collection of modules. In simple terms package is a folder containing a no. of modules.<br>\n",
        "in the same way as in case of modules, we can import a particular package or a module from particular package.\n",
        "\n",
        "suppose we have package named Pkg1 and inside that we have 4 module m1,m2,m3,m4 and inside each module there are some functions. *And also Suppose that pkg1 is inside pkg folder.* So to use package in our code we have to write as follow :\n",
        "\n",
        "    from pkg import pkg1\n",
        "    import f2     #as f2 is inside pkg1\n",
        "    f2.fun()      #to access function inside module f2\n",
        "\n",
        "\n",
        "Note: There are libraries like tkinter and kivy which are use to create GUI for python. Tkinter is a better option suggested by sir and kivy is difficult but having lots of funcionality.\n",
        "\n",
        "\n",
        "\n"
      ]
    },
    {
      "cell_type": "markdown",
      "metadata": {
        "id": "3gIGSUrlR__d"
      },
      "source": [
        "**what is class , object, oops programing, and how oops concept is differnt from python scripting**"
      ]
    },
    {
      "cell_type": "code",
      "execution_count": null,
      "metadata": {
        "colab": {
          "base_uri": "https://localhost:8080/"
        },
        "id": "lnxPCPXbR39_",
        "outputId": "530b17c9-a633-45b8-cd10-2cf3ed8e15b2"
      },
      "outputs": [
        {
          "name": "stdout",
          "output_type": "stream",
          "text": [
            "1\n",
            "2\n",
            "3\n",
            "4\n",
            "5\n",
            "5\n"
          ]
        }
      ],
      "source": [
        "l=[1,2,3,4,5,5]\n",
        "for i in l:\n",
        "  print(i)"
      ]
    },
    {
      "cell_type": "markdown",
      "metadata": {
        "id": "CP0ojFj8f-_Q"
      },
      "source": [
        "Class is like a blue print , and object is like a entity which really exist , which i will be able to see and touch"
      ]
    },
    {
      "cell_type": "markdown",
      "metadata": {
        "id": "QfT8lL2PdQBQ"
      },
      "source": [
        "every function which start with double  \n",
        "undescore and ends with double underscore is inbuilt function in python"
      ]
    },
    {
      "cell_type": "code",
      "execution_count": null,
      "metadata": {
        "id": "PLzz6jOtSWJp"
      },
      "outputs": [],
      "source": [
        "#first variable inside class of any function is always going to behave as a pointer. self is a pointer and it is just a variable. You can give any name\n",
        "class car:\n",
        "  def __init__(self,brand_name,fueltype,body_type):\n",
        "    self.brand_name = brand_name\n",
        "    self.fueltype = fueltype\n",
        "    self.body_type =body_type\n",
        "  #self is pointer\n",
        "  def desc_car(self):\n",
        "    print(self.brand_name , self.fueltype , self.body_type)"
      ]
    },
    {
      "cell_type": "code",
      "execution_count": null,
      "metadata": {
        "colab": {
          "base_uri": "https://localhost:8080/",
          "height": 235
        },
        "id": "2I182DaTeXuM",
        "outputId": "2d69f1c8-3d9b-4a5d-a2d4-3e3a607475bb"
      },
      "outputs": [
        {
          "ename": "TypeError",
          "evalue": "ignored",
          "output_type": "error",
          "traceback": [
            "\u001b[0;31m---------------------------------------------------------------------------\u001b[0m",
            "\u001b[0;31mTypeError\u001b[0m                                 Traceback (most recent call last)",
            "\u001b[0;32m<ipython-input-14-e47a1b5274cf>\u001b[0m in \u001b[0;36m<module>\u001b[0;34m\u001b[0m\n\u001b[1;32m      1\u001b[0m \u001b[0minova\u001b[0m \u001b[0;34m=\u001b[0m \u001b[0mcar\u001b[0m\u001b[0;34m(\u001b[0m\u001b[0;34m\"toyota\"\u001b[0m\u001b[0;34m,\u001b[0m\u001b[0;34m\"petrol\"\u001b[0m\u001b[0;34m,\u001b[0m\u001b[0;34m\"suv\"\u001b[0m\u001b[0;34m)\u001b[0m\u001b[0;34m\u001b[0m\u001b[0;34m\u001b[0m\u001b[0m\n\u001b[0;32m----> 2\u001b[0;31m \u001b[0minova\u001b[0m\u001b[0;34m.\u001b[0m\u001b[0mdesc_car\u001b[0m\u001b[0;34m(\u001b[0m\u001b[0;34m)\u001b[0m\u001b[0;34m\u001b[0m\u001b[0;34m\u001b[0m\u001b[0m\n\u001b[0m\u001b[1;32m      3\u001b[0m \u001b[0;31m# i am geeting this error because i didn;t declare a pointer in function this means muy system didn;t understand whether this function is binded to class or not\u001b[0m\u001b[0;34m\u001b[0m\u001b[0;34m\u001b[0m\u001b[0m\n",
            "\u001b[0;31mTypeError\u001b[0m: desc_car() takes 0 positional arguments but 1 was given"
          ]
        }
      ],
      "source": [
        "inova = car(\"toyota\",\"petrol\",\"suv\")\n",
        "inova.desc_car()\n",
        "# i am geeting this error because i didn;t declare a pointer in function this means muy system didn;t understand whether this function is binded to class or not"
      ]
    },
    {
      "cell_type": "markdown",
      "metadata": {
        "id": "IlMtw_IcfsIU"
      },
      "source": [
        "init is constructor , init is the type of entity , kind of a method , kind of function, which help my class to take a input ,which is responsible for a providing data to the particular class , that is something called as constructor  "
      ]
    },
    {
      "cell_type": "markdown",
      "metadata": {
        "id": "ouPCS1TchcTj"
      },
      "source": [
        "in classes if you want to create any function a very first variable that you are going to create must be a pointer in any class"
      ]
    },
    {
      "cell_type": "code",
      "execution_count": null,
      "metadata": {
        "colab": {
          "base_uri": "https://localhost:8080/"
        },
        "id": "curFsjbTfiCm",
        "outputId": "d6d59375-f57a-433b-93c5-8b4098c49b19"
      },
      "outputs": [
        {
          "name": "stdout",
          "output_type": "stream",
          "text": [
            "toyota petrol suv\n"
          ]
        }
      ],
      "source": [
        "inova = car(\"toyota\",\"petrol\",\"suv\")\n",
        "inova.desc_car()"
      ]
    },
    {
      "cell_type": "code",
      "execution_count": null,
      "metadata": {
        "colab": {
          "base_uri": "https://localhost:8080/",
          "height": 36
        },
        "id": "yXI4u6c1i-es",
        "outputId": "c7f3f566-3dbc-4668-8334-c9bd64a73584"
      },
      "outputs": [
        {
          "data": {
            "application/vnd.google.colaboratory.intrinsic+json": {
              "type": "string"
            },
            "text/plain": [
              "'toyota'"
            ]
          },
          "execution_count": 4,
          "metadata": {},
          "output_type": "execute_result"
        }
      ],
      "source": [
        "inova.brand_name"
      ]
    },
    {
      "cell_type": "markdown",
      "metadata": {
        "id": "Ltecn77W5_Bs"
      },
      "source": [
        "whatever datatype we have studied so far so what actually belong to class and internally whoever written a code for it's been written in a form of class and object"
      ]
    },
    {
      "cell_type": "code",
      "execution_count": null,
      "metadata": {
        "colab": {
          "base_uri": "https://localhost:8080/"
        },
        "id": "lRYARUIjjkPa",
        "outputId": "1fb87d5b-5cfe-45de-c58c-97f8e4e92782"
      },
      "outputs": [
        {
          "data": {
            "text/plain": [
              "type"
            ]
          },
          "execution_count": 5,
          "metadata": {},
          "output_type": "execute_result"
        }
      ],
      "source": [
        "type(car)"
      ]
    },
    {
      "cell_type": "markdown",
      "metadata": {
        "id": "EyYem53iend8"
      },
      "source": [
        "self is not a keyword , we can take any other possible name in place of name"
      ]
    },
    {
      "cell_type": "code",
      "execution_count": null,
      "metadata": {
        "id": "rRZF_cBheq7z"
      },
      "outputs": [],
      "source": [
        "class car:\n",
        "  def __init__(self,brand_name,fueltype,body_type):\n",
        "    self.a = brand_name\n",
        "    self.b = fueltype\n",
        "    self.c =body_type\n",
        "  #self is pointer\n",
        "  def desc_car(self):\n",
        "    print(self.brand_name , self.fueltype , self.body_type)"
      ]
    },
    {
      "cell_type": "code",
      "execution_count": null,
      "metadata": {
        "id": "wD5HbmN_g_35"
      },
      "outputs": [],
      "source": [
        "volvo= car(\"london\",\"df23\",'stream')"
      ]
    },
    {
      "cell_type": "code",
      "execution_count": null,
      "metadata": {
        "colab": {
          "base_uri": "https://localhost:8080/",
          "height": 165
        },
        "id": "xDrXc_CChROs",
        "outputId": "c9dccbe9-0c8d-44bb-875c-54344055279b"
      },
      "outputs": [
        {
          "ename": "AttributeError",
          "evalue": "ignored",
          "output_type": "error",
          "traceback": [
            "\u001b[0;31m---------------------------------------------------------------------------\u001b[0m",
            "\u001b[0;31mAttributeError\u001b[0m                            Traceback (most recent call last)",
            "\u001b[0;32m<ipython-input-3-a9e17d5b96cb>\u001b[0m in \u001b[0;36m<module>\u001b[0;34m\u001b[0m\n\u001b[0;32m----> 1\u001b[0;31m \u001b[0mvolvo\u001b[0m\u001b[0;34m.\u001b[0m\u001b[0mbrand_name\u001b[0m\u001b[0;34m\u001b[0m\u001b[0;34m\u001b[0m\u001b[0m\n\u001b[0m",
            "\u001b[0;31mAttributeError\u001b[0m: 'car' object has no attribute 'brand_name'"
          ]
        }
      ],
      "source": [
        "volvo.brand_name"
      ]
    },
    {
      "cell_type": "code",
      "execution_count": null,
      "metadata": {
        "colab": {
          "base_uri": "https://localhost:8080/",
          "height": 36
        },
        "id": "qa6ev38ohUG4",
        "outputId": "12d94f2a-b58c-47dd-c799-27daef8b45ed"
      },
      "outputs": [
        {
          "data": {
            "application/vnd.google.colaboratory.intrinsic+json": {
              "type": "string"
            },
            "text/plain": [
              "'london'"
            ]
          },
          "execution_count": 4,
          "metadata": {},
          "output_type": "execute_result"
        }
      ],
      "source": [
        "volvo.a"
      ]
    },
    {
      "cell_type": "code",
      "execution_count": null,
      "metadata": {
        "id": "qdo6Knf_hWYo"
      },
      "outputs": [],
      "source": [
        "class car:\n",
        "  \n",
        "  #self is pointer\n",
        "  def desc_car(self):\n",
        "    print(self.brand_name , self.fueltype , self.body_type)"
      ]
    },
    {
      "cell_type": "markdown",
      "metadata": {
        "id": "w2gKPnOsieLm"
      },
      "source": [
        "if you don't want to pass any value to class that's completely okay, inclusion of init function is not mandatory"
      ]
    },
    {
      "cell_type": "code",
      "execution_count": null,
      "metadata": {
        "id": "NfI6JT0Midiv"
      },
      "outputs": [],
      "source": [
        "x=car()"
      ]
    },
    {
      "cell_type": "markdown",
      "metadata": {
        "id": "NcfZ7dbukZ5c"
      },
      "source": [
        "one guy is asking that how to make object without constructor , in above cell we can see x is also a object and we do not  make any constructor for this object"
      ]
    },
    {
      "cell_type": "code",
      "execution_count": null,
      "metadata": {
        "id": "iULsCj-Ui77v"
      },
      "outputs": [],
      "source": [
        "class list_parser:\n",
        "  def parcer(self,a):\n",
        "    if type(a) ==list :\n",
        "      for i in a :\n",
        "        print(i)\n",
        "  def reverser_list(self,z):\n",
        "    if type(z) ==list:\n",
        "      return z[::-1]\n"
      ]
    },
    {
      "cell_type": "code",
      "execution_count": null,
      "metadata": {
        "id": "pm7hAh0Fo25W"
      },
      "outputs": [],
      "source": [
        "c= list_parser()"
      ]
    },
    {
      "cell_type": "code",
      "execution_count": null,
      "metadata": {
        "colab": {
          "base_uri": "https://localhost:8080/"
        },
        "id": "DNs_vBQ5o-7a",
        "outputId": "8e1b1422-bf4a-4fb2-d01d-51e14c650d68"
      },
      "outputs": [
        {
          "name": "stdout",
          "output_type": "stream",
          "text": [
            "1\n",
            "2\n",
            "3\n",
            "4\n",
            "56\n"
          ]
        }
      ],
      "source": [
        "c.parcer([1,2,3,4,56])"
      ]
    },
    {
      "cell_type": "code",
      "execution_count": null,
      "metadata": {
        "colab": {
          "base_uri": "https://localhost:8080/"
        },
        "id": "BzUJz_U2pCtt",
        "outputId": "96dbe772-af3f-47ed-8afb-a41439865b91"
      },
      "outputs": [
        {
          "data": {
            "text/plain": [
              "[7, 6, 4, 4, 23, 1]"
            ]
          },
          "execution_count": 13,
          "metadata": {},
          "output_type": "execute_result"
        }
      ],
      "source": [
        "c.reverser_list([1,23,4,4,6,7]) \n",
        "#as we haven't created __init__ method inside the class due to which we have to pass the list everytime"
      ]
    },
    {
      "cell_type": "code",
      "execution_count": null,
      "metadata": {
        "id": "D_v0dtofppOa"
      },
      "outputs": [],
      "source": [
        "class list_parser :\n",
        "    def __init__(self , l):\n",
        "        self.l = l \n",
        "    \n",
        "    def parcer(self):\n",
        "        if type(self.l) == list :\n",
        "            for i in self.l:\n",
        "                print(i)\n",
        "                \n",
        "    def reverser_list(self) :\n",
        "        if type(self.l) == list:\n",
        "            return self.l [::-1]"
      ]
    },
    {
      "cell_type": "code",
      "execution_count": null,
      "metadata": {},
      "outputs": [
        {
          "name": "stdout",
          "output_type": "stream",
          "text": [
            "2\n",
            "3\n",
            "4\n",
            "6\n",
            "7\n",
            "78\n"
          ]
        }
      ],
      "source": [
        "#now fine, we don't have to pass the list everytime\n",
        "c = list_parser([2,3,4,6,7,78])\n",
        "c.parcer()"
      ]
    },
    {
      "cell_type": "code",
      "execution_count": null,
      "metadata": {},
      "outputs": [
        {
          "data": {
            "text/plain": [
              "[78, 7, 6, 4, 3, 2]"
            ]
          },
          "execution_count": 5,
          "metadata": {},
          "output_type": "execute_result"
        }
      ],
      "source": [
        "c.reverser_list()"
      ]
    },
    {
      "cell_type": "markdown",
      "metadata": {},
      "source": [
        "Classes and functions always gives you a mainatainability, a reusability that is the reason OOPs have been adopted through out the industry"
      ]
    },
    {
      "cell_type": "markdown",
      "metadata": {},
      "source": [
        "create a class for dictonary parsing \n",
        "\n",
        "1 . write a functoin to give all the keys<br>\n",
        "2  .write a function to give all the values <br>\n",
        "3 . write a function to throw an exception in case of input is not dictonary<br>\n",
        "4. write a function to take user input and then parse a key and value out of dictonary<br> \n",
        "5. write a function to insert new key value pair  into dictonary "
      ]
    },
    {
      "cell_type": "code",
      "execution_count": null,
      "metadata": {},
      "outputs": [],
      "source": [
        "#sol\n",
        "#problem in this code is that there is no __init__ defined\n",
        "class dict_parse:\n",
        "    \n",
        "    def keys_dict(self,d):\n",
        "        for i in d.keys():\n",
        "            print(i)\n",
        "            \n",
        "    def keys_dict(self,d):\n",
        "        for i in d.values():\n",
        "            print(i)\n",
        "    \n",
        "    def dict_check(self,d):\n",
        "        if(type(d) != dict):\n",
        "            raise Exception(\"input not dictionary\")\n",
        "    \n",
        "    def dict_in(self,d,a=int(input())):\n",
        "        print(d[a])\n",
        "        \n",
        "    def dict_input(self,d,key,value):\n",
        "        d[key]=value"
      ]
    },
    {
      "cell_type": "code",
      "execution_count": null,
      "metadata": {},
      "outputs": [],
      "source": [
        "#alternate1\n",
        "#this sol. is very good\n",
        "class dict_parsing:\n",
        "    \n",
        "    def __init__(self,a):\n",
        "        self.a = a\n",
        "    \n",
        "    def getkeys(self):\n",
        "        if self.notdict():\n",
        "            return list(self.a.keys())\n",
        "        \n",
        "    def getvalues(self):\n",
        "        if self.notdict():\n",
        "            return list(self.a.values())\n",
        "        \n",
        "    def notdict(self):\n",
        "        if type(self.a) != dict:\n",
        "            raise Exception(self.a,'Not a dictionary')\n",
        "        return 1                #bcz 1 means true\n",
        "    def userinput(self):\n",
        "        self.a = eval(input())  #eval converts input into value\n",
        "        print(self.a,type(self.a))\n",
        "        print(self.getkeys())\n",
        "        print(self.getvalues())\n",
        "        \n",
        "    def insertion(self,k,v):\n",
        "        self.a[k] = v"
      ]
    },
    {
      "cell_type": "code",
      "execution_count": null,
      "metadata": {},
      "outputs": [],
      "source": [
        "#Alternate2\n",
        "#In alternate 1, there is high level of reusability than this one\n",
        "class dictparser:\n",
        "    def __init__(self, d):\n",
        "        self.d = d\n",
        "    \n",
        "    def mykeys(self):\n",
        "        if type(self.d) == dict:\n",
        "            return self.d.keys()\n",
        "    def myvalues(self):\n",
        "        if type(self.d) == dict:\n",
        "            return self.d.values()\n",
        "    def inputkey(self):\n",
        "        self.mykey = input()\n",
        "        try:\n",
        "            return self.d[self.mykey]\n",
        "        except Exception as e:\n",
        "            print(e)\n",
        "    def newvalue(self, mykey1, myval1):\n",
        "        if type(self.d) == dict:\n",
        "            self.d[mykey1] = myval1"
      ]
    },
    {
      "cell_type": "code",
      "execution_count": null,
      "metadata": {},
      "outputs": [],
      "source": [
        "#Alternate3\n",
        "#this is also good sol.\n",
        "class dict_Parser:\n",
        "    def __init__ (self,dic):\n",
        "        if type(dic) != dict:\n",
        "            raise ValueError(\"Input is not dictionary\")\n",
        "        self.dictionary = dic\n",
        "        \n",
        "    def get_keys(self):\n",
        "        return self.dictionary.keys()\n",
        "    def get_values(self):\n",
        "        return self.dictionary.values()\n",
        "    def take_input(self):\n",
        "        a = input(\"enter key\")\n",
        "        b = input(\"enter value\")\n",
        "        self.dictionary[a] = b\n",
        "    def insert_key_val_pair(self,key,value):\n",
        "        self.dictionary[key] = value"
      ]
    },
    {
      "cell_type": "code",
      "execution_count": null,
      "metadata": {},
      "outputs": [],
      "source": [
        "#Alternate4\n",
        "import logging as lg\n",
        "lg.basicConfig(filename = \"dict.log\")\n",
        "class dict_parsing :\n",
        "    \n",
        "    def __init__(self,a):\n",
        "        self.a = a\n",
        "    def dic_keys(self):\n",
        "        try:\n",
        "            l = list(self.a.keys())\n",
        "            return l\n",
        "        except :\n",
        "            self.logger(\"enter dictonary\")\n",
        "    def dic_values(self):\n",
        "        try:\n",
        "            return list(self.a.values())\n",
        "        except:\n",
        "            self.logger(\"enter dictonary\")\n",
        "    def insert_dic(self,**kwargs):\n",
        "        try:\n",
        "            self.a.update(kwargs)\n",
        "            return self.a\n",
        "        except:\n",
        "            self.logger(\"enter dictonary\")\n",
        "    def logger(self,log):\n",
        "        logger = lg.error(log)\n",
        "    def check(self):\n",
        "        if type(self.a) != dict:\n",
        "            raise Exception (\"not a dictonary\")\n",
        "        else:\n",
        "            print(\"it is a dictonary\")\n",
        "    def __str__(self):\n",
        "        return 'this is class for dictonary parsing'"
      ]
    },
    {
      "cell_type": "markdown",
      "metadata": {},
      "source": [
        "**QUESTIONS FOR HOMEWORK**<br>\n",
        "\n",
        "q1 . Create your own package for all the list function <br>\n",
        "q2 .create your onw package for all the tuple function <br>\n",
        "q3 . create your own package for all dictonary function<br>\n",
        "q4 . create your own package for all the set function<br>\n",
        "\n",
        "restriction :\n",
        "    always use exception handling<br>\n",
        "    never use print statement <br>\n",
        "    always use logging while writing a code and log<br> every activity performed by code in respective logging file<br>\n"
      ]
    },
    {
      "cell_type": "markdown",
      "metadata": {},
      "source": [
        "**INHERTANCE**"
      ]
    },
    {
      "cell_type": "code",
      "execution_count": null,
      "metadata": {},
      "outputs": [],
      "source": [
        "class xyz :\n",
        "    def __init__(self , a , b,c) :\n",
        "        self.a = a \n",
        "        self.b = b\n",
        "        self.c = c \n",
        "    \n",
        "    def test(self) :\n",
        "        print(\"this is my first test method of xyz class \")\n",
        "        \n",
        "    def test1(self) :\n",
        "        print(\"this is a test1 meth of xyz class \")\n",
        "    \n",
        "    def test2(self) : \n",
        "        print(\"this is my test2 meth of xyz class \")"
      ]
    },
    {
      "cell_type": "code",
      "execution_count": null,
      "metadata": {},
      "outputs": [],
      "source": [
        "p = xyz(1,2,3)"
      ]
    },
    {
      "cell_type": "code",
      "execution_count": null,
      "metadata": {},
      "outputs": [
        {
          "name": "stdout",
          "output_type": "stream",
          "text": [
            "this is a test1 meth of xyz class \n"
          ]
        }
      ],
      "source": [
        "p.test1()"
      ]
    },
    {
      "cell_type": "code",
      "execution_count": null,
      "metadata": {},
      "outputs": [],
      "source": [
        "#here xyz1 class inherits xyz \n",
        "#i.e. xyz is parent class of xyz1\n",
        "class xyz1(xyz) :\n",
        "    pass"
      ]
    },
    {
      "cell_type": "code",
      "execution_count": null,
      "metadata": {},
      "outputs": [
        {
          "ename": "TypeError",
          "evalue": "__init__() missing 3 required positional arguments: 'a', 'b', and 'c'",
          "output_type": "error",
          "traceback": [
            "\u001b[0;31m---------------------------------------------------------------------------\u001b[0m",
            "\u001b[0;31mTypeError\u001b[0m                                 Traceback (most recent call last)",
            "Cell \u001b[0;32mIn[5], line 1\u001b[0m\n\u001b[0;32m----> 1\u001b[0m q \u001b[38;5;241m=\u001b[39m \u001b[43mxyz1\u001b[49m\u001b[43m(\u001b[49m\u001b[43m)\u001b[49m \u001b[38;5;66;03m#it will give error xyz \u001b[39;00m\n",
            "\u001b[0;31mTypeError\u001b[0m: __init__() missing 3 required positional arguments: 'a', 'b', and 'c'"
          ]
        }
      ],
      "source": [
        "q = xyz1() #it will give error xyz class required 3 values to pass"
      ]
    },
    {
      "cell_type": "code",
      "execution_count": null,
      "metadata": {},
      "outputs": [],
      "source": [
        "q = xyz1(3,4,5)   #Now fine"
      ]
    },
    {
      "cell_type": "code",
      "execution_count": null,
      "metadata": {},
      "outputs": [
        {
          "name": "stdout",
          "output_type": "stream",
          "text": [
            "this is a test1 meth of xyz class \n"
          ]
        }
      ],
      "source": [
        "q.test1()"
      ]
    },
    {
      "cell_type": "code",
      "execution_count": null,
      "metadata": {},
      "outputs": [],
      "source": [
        "class xyz1(xyz) :\n",
        "    def test(self) :\n",
        "        print(\"this is a test meth aviable in xyz1\")\n",
        "        "
      ]
    },
    {
      "cell_type": "code",
      "execution_count": null,
      "metadata": {},
      "outputs": [
        {
          "name": "stdout",
          "output_type": "stream",
          "text": [
            "this is a test meth aviable in xyz1\n"
          ]
        }
      ],
      "source": [
        "g = xyz1(4,5,6)\n",
        "g.test()   #it is running test() function of xyz1 class & not xyz class\n",
        "#bcz you can say that child can have its own way to do a task\n",
        "#but there is way to access test() function of parent class"
      ]
    },
    {
      "cell_type": "code",
      "execution_count": null,
      "metadata": {},
      "outputs": [],
      "source": [
        "class xyz:\n",
        "    def __init__(self, a,b,c) :\n",
        "        self.a= a \n",
        "        self.b= b \n",
        "        self.c= c \n",
        "        \n",
        "        \n",
        "    def test(self) : \n",
        "        print(\"this is a meth of xyz class \")\n",
        "    \n",
        "class xyz1:\n",
        "    \n",
        "    def __init__(self , p,q,v) :\n",
        "        self.p = p \n",
        "        self.v = v \n",
        "        self.q = q \n",
        "        \n",
        "    def test1(self) : \n",
        "        print(\"this is a meth form class xyz1\")\n",
        "        \n",
        "class child(xyz1,xyz):\n",
        "    pass"
      ]
    },
    {
      "cell_type": "code",
      "execution_count": null,
      "metadata": {},
      "outputs": [],
      "source": [
        "n = child(4,5,6)\n",
        "#if we press tab after writing 'n.' we will be able to see that there is all element from xyz1 class but only test1() function from xyz class i.e importing functions but not variables\n",
        "#but our need is to inherit all things from both classes\n",
        "#so the problem is that as child class inherited from two classes, so we have to give positional argument for both the classes\n",
        "#so to solve that we have to modify our child class as follow:"
      ]
    },
    {
      "cell_type": "code",
      "execution_count": null,
      "metadata": {},
      "outputs": [],
      "source": [
        "class child(xyz1,xyz):\n",
        "    def __init__(self , *args ,**kwargs):\n",
        "        xyz.__init__(self,*args) \n",
        "        xyz1.__init__(self,**kwargs)\n",
        "\n",
        "#by default child object was able to access the variable of very first class argument that we have provided in our child class.\n",
        "#That's the reason we have override it so that now it can access variables of both the parent classes\n",
        "\n",
        "#this type of inheritance is called as Multiple Inheritance"
      ]
    },
    {
      "cell_type": "code",
      "execution_count": null,
      "metadata": {},
      "outputs": [],
      "source": [
        "n = child(4,5,6,p = 3,q = 4,v  = 5)"
      ]
    },
    {
      "cell_type": "code",
      "execution_count": null,
      "metadata": {},
      "outputs": [
        {
          "data": {
            "text/plain": [
              "3"
            ]
          },
          "execution_count": 5,
          "metadata": {},
          "output_type": "execute_result"
        }
      ],
      "source": [
        "n.p"
      ]
    },
    {
      "cell_type": "code",
      "execution_count": null,
      "metadata": {},
      "outputs": [
        {
          "data": {
            "text/plain": [
              "4"
            ]
          },
          "execution_count": 6,
          "metadata": {},
          "output_type": "execute_result"
        }
      ],
      "source": [
        "n.q"
      ]
    },
    {
      "cell_type": "code",
      "execution_count": null,
      "metadata": {},
      "outputs": [
        {
          "data": {
            "text/plain": [
              "4"
            ]
          },
          "execution_count": 7,
          "metadata": {},
          "output_type": "execute_result"
        }
      ],
      "source": [
        "n.a"
      ]
    },
    {
      "cell_type": "code",
      "execution_count": null,
      "metadata": {},
      "outputs": [
        {
          "name": "stdout",
          "output_type": "stream",
          "text": [
            "this is a meth form class xyz1\n"
          ]
        }
      ],
      "source": [
        "n.test1()"
      ]
    },
    {
      "cell_type": "code",
      "execution_count": null,
      "metadata": {},
      "outputs": [
        {
          "name": "stdout",
          "output_type": "stream",
          "text": [
            "this is a meth of xyz class \n"
          ]
        }
      ],
      "source": [
        "n.test()"
      ]
    },
    {
      "cell_type": "code",
      "execution_count": null,
      "metadata": {},
      "outputs": [],
      "source": [
        "#Multilevel Inheritance\n",
        "\n",
        "class xyz:\n",
        "    def __init__(self, a,b,c) :\n",
        "        self.a= a \n",
        "        self.b= b \n",
        "        self.c= c \n",
        "        \n",
        "        \n",
        "    def test(self) : \n",
        "        print(\"this is a meth of xyz class \")\n",
        "    \n",
        "class xyz1(xyz):\n",
        "        \n",
        "    def test1(self) : \n",
        "        print(\"this is a meth form class xyz1\")\n",
        "        \n",
        "class xyz2(xyz1) :\n",
        "    def test2(self) :\n",
        "        print(\"this is a meth form class 2\")\n",
        "\n",
        "class xyz3(xyz2):\n",
        "    def test3(self) : \n",
        "        print(\"this is my meth form class xyz3\")\n",
        "        "
      ]
    },
    {
      "cell_type": "code",
      "execution_count": null,
      "metadata": {},
      "outputs": [],
      "source": [
        "v = xyz2(5,6,7)"
      ]
    },
    {
      "cell_type": "code",
      "execution_count": null,
      "metadata": {},
      "outputs": [],
      "source": [
        "m = xyz3(4,5,6)"
      ]
    },
    {
      "cell_type": "markdown",
      "metadata": {},
      "source": [
        "q1 - create a file class for reading data from respective file with a method name read and write.<br> \n",
        "q2  - try to inherit read and write method form parent class to child class to perform read and write operation"
      ]
    },
    {
      "cell_type": "code",
      "execution_count": null,
      "metadata": {},
      "outputs": [],
      "source": [
        "#Solution\n",
        "#This is a good approach but code for q2 is missing\n",
        "\n",
        "import logging \n",
        "\n",
        "logging.basicConfig(filename=\"list.log\",level=logging.DEBUG,format=\"%(asctime)s %(levelname)s %(message)s\",filemode='w')\n",
        "\n",
        "\n",
        "class File:\n",
        "    def __init__(self,filename):\n",
        "        logging.info(\"Creating file instance varibale\")\n",
        "        self.file = filename\n",
        "\n",
        "    def read(self):\n",
        "        logging.info(\"executing read method\")\n",
        "        try:\n",
        "            with open(f\"{self.file}.txt\",'r') as f:\n",
        "                data = f.read()\n",
        "                return data\n",
        "        except FileNotFoundError as e:\n",
        "            logging.error(\"Error occured while opening the file \")\n",
        "            logging.exception(f\"Error is {e}\")\n",
        "\n",
        "    def write(self,data):\n",
        "        logging.info(\"executing write method\")\n",
        "        try:\n",
        "            with open(f\"{self.file}.txt\",'w') as f:\n",
        "                data = f.write(data)\n",
        "        except FileNotFoundError as e:\n",
        "            logging.error(\"Something is going wrong\")\n",
        "            \n",
        "obj = File(\"abc\")\n",
        "\n"
      ]
    },
    {
      "cell_type": "code",
      "execution_count": null,
      "metadata": {},
      "outputs": [
        {
          "name": "stdout",
          "output_type": "stream",
          "text": [
            "Inserted Lines .......\n"
          ]
        }
      ],
      "source": [
        "#Alternative1 with q2\n",
        "class readFile:\n",
        "    def __init__(self,fileObj, lines):\n",
        "        self.file = fileObj\n",
        "        self.lines = lines\n",
        "    def readFile(self):\n",
        "        file2=open(self.file,'r')\n",
        "        line=file2.readline()\n",
        "        while(line!=\"\"):\n",
        "            print(line)\n",
        "            line=file2.readline()\n",
        "\n",
        "    def writeFile(self):\n",
        "        content_write = open(self.file,'w')\n",
        "        content_write.writelines(self.lines)\n",
        "        content_write.close()\n",
        "        \n",
        "class readFile1(readFile):\n",
        "    def readFile1(self):\n",
        "        print(\"inheritance of readFile class\")\n",
        "\n",
        "file1 = r'test1.txt' #basically here raw (i.e. r) sting has used. Bcz filename can be something like this \"nirbhay\\file\\tst1.txt\", Python raw string treats the backslash character (\\) as a literal character bcz generally backslash character (\\) is treated as an escape character such as in '\\n' for eg. 'Hi\\nHello'.\n",
        "lines = 'Inserted Lines .......'\n",
        "\n",
        "read_write = readFile1(file1,lines)\n",
        "read_write.writeFile()\n",
        "read_write.readFile()\n"
      ]
    },
    {
      "cell_type": "code",
      "execution_count": null,
      "metadata": {},
      "outputs": [],
      "source": [
        "#Alternative2\n",
        "class fileopeartion:\n",
        "    def __init__(self,filepath):\n",
        "        self.filepath = filepath\n",
        "    def read(self):\n",
        "        try:\n",
        "            f = open(self.filepath,\"r+\")\n",
        "            print(f.read())\n",
        "        except Exception as e:\n",
        "            print(e)\n",
        "        f.close()\n",
        "    def write(self,writings=\"\"):\n",
        "        try:\n",
        "            f = open(self.filepath,\"a\")\n",
        "        except Exception as e:\n",
        "            print(e)\n",
        "        f.write(writings)\n",
        "        f.close()\n",
        "class child(fileopeartion):\n",
        "    pass"
      ]
    },
    {
      "cell_type": "code",
      "execution_count": null,
      "metadata": {},
      "outputs": [],
      "source": [
        "#alternative3\n",
        "class file_read(object):\n",
        "    def __init__(self,filename) -> None:\n",
        "        self.file = filename\n",
        "        \n",
        "class read(file_read):\n",
        "    def read(self):\n",
        "        try : \n",
        "            open_file = open(self.file, \"r\")\n",
        "            self.read_file = open_file.read()\n",
        "            open_file.close()\n",
        "            return self.read_file\n",
        "        except Exception as e :\n",
        "            return e \n",
        "    \n",
        "class write(file_read) :\n",
        "    def write(self,*args):\n",
        "        try : \n",
        "            open_file = open(self.file, \"w\")\n",
        "            for ele in args:\n",
        "                open_file.write(ele)\n",
        "            return True\n",
        "        except Exception as e :\n",
        "            return e\n"
      ]
    },
    {
      "cell_type": "code",
      "execution_count": null,
      "metadata": {},
      "outputs": [],
      "source": [
        "#Alternative4\n",
        "class filetask:\n",
        "    def __init__(self, filename,filetype):\n",
        "        self.filename=filename\n",
        "        self.filetype=filetype\n",
        "        \n",
        "    def file_write(self):\n",
        "        f=open(self.filename,'w')\n",
        "        f.write('this is myc class task')\n",
        "        f.close()\n",
        "        \n",
        "    def file_read(self):\n",
        "        f=open(self.filename,'r')\n",
        "        print(f.read())\n",
        "        f.close()\n",
        "            \n",
        "class child(filetask):\n",
        "    pass\n",
        "     \n",
        "test1=filetask('testingclass','.txt') \n",
        "test2=child('testingchild','.txt')\n"
      ]
    },
    {
      "cell_type": "markdown",
      "metadata": {},
      "source": [
        "PUBLIC, PRIVATE & PROTECTED"
      ]
    },
    {
      "cell_type": "code",
      "execution_count": null,
      "metadata": {},
      "outputs": [
        {
          "data": {
            "text/plain": [
              "4"
            ]
          },
          "execution_count": 1,
          "metadata": {},
          "output_type": "execute_result"
        }
      ],
      "source": [
        "class test : \n",
        "    def __init__(self ) :\n",
        "        self.a = 4\n",
        "\n",
        "        \n",
        "class test1(test) :\n",
        "    pass\n",
        "\n",
        "u = test()\n",
        "v = test1()\n",
        "u.a"
      ]
    },
    {
      "cell_type": "code",
      "execution_count": null,
      "metadata": {},
      "outputs": [
        {
          "data": {
            "text/plain": [
              "4"
            ]
          },
          "execution_count": 3,
          "metadata": {},
          "output_type": "execute_result"
        }
      ],
      "source": [
        "v.a\n",
        "#both objects u & v are able to access the variable 'a' of parent class"
      ]
    },
    {
      "cell_type": "code",
      "execution_count": null,
      "metadata": {},
      "outputs": [],
      "source": [
        "class test : \n",
        "    def __init__(self ) :\n",
        "        self.a = 4\n",
        "\n",
        "        \n",
        "class test1(test) :\n",
        "    def __init__(self): \n",
        "        self.a = 7\n"
      ]
    },
    {
      "cell_type": "code",
      "execution_count": null,
      "metadata": {},
      "outputs": [
        {
          "data": {
            "text/plain": [
              "4"
            ]
          },
          "execution_count": 6,
          "metadata": {},
          "output_type": "execute_result"
        }
      ],
      "source": [
        "u = test()\n",
        "u.a"
      ]
    },
    {
      "cell_type": "code",
      "execution_count": null,
      "metadata": {},
      "outputs": [
        {
          "data": {
            "text/plain": [
              "7"
            ]
          },
          "execution_count": 7,
          "metadata": {},
          "output_type": "execute_result"
        }
      ],
      "source": [
        "v = test1()\n",
        "v.a"
      ]
    },
    {
      "cell_type": "code",
      "execution_count": null,
      "metadata": {},
      "outputs": [],
      "source": [
        "#protected\n",
        "class test : \n",
        "    def __init__(self ) :\n",
        "        self._a = 4 #single underscore denotes protcted data members of a class\n",
        "#if we will remove underscore then it will become public which can be access anywhere        \n",
        "\n",
        "        \n",
        "class test1(test) :\n",
        "    def __init__(self): \n",
        "        self.a = 7\n"
      ]
    },
    {
      "cell_type": "markdown",
      "metadata": {},
      "source": [
        "**Public Access Modifier:**\n",
        "The members of a class that are declared public are easily accessible from any part of the program. All data members and member functions of a class are public by default. "
      ]
    },
    {
      "cell_type": "code",
      "execution_count": null,
      "metadata": {},
      "outputs": [
        {
          "name": "stdout",
          "output_type": "stream",
          "text": [
            "Name:  R2J\n",
            "Age:  20\n"
          ]
        }
      ],
      "source": [
        "# program to illustrate public access modifier in a class\n",
        "\n",
        "class Geek:\n",
        "\t\n",
        "\t# constructor\n",
        "\tdef __init__(self, name, age):\n",
        "\t\t\n",
        "\t\t# public data members \n",
        "\t\tself.geekName = name\n",
        "\t\tself.geekAge = age\n",
        "\n",
        "\t# public member function\t \n",
        "\tdef displayAge(self):\n",
        "\t\t\n",
        "\t\t# accessing public data member\n",
        "\t\tprint(\"Age: \", self.geekAge)\n",
        "\n",
        "# creating object of the class\n",
        "obj = Geek(\"R2J\", 20)\n",
        "\n",
        "# accessing public data member\n",
        "print(\"Name: \", obj.geekName)\n",
        "\n",
        "# calling public member function of the class\n",
        "obj.displayAge()\n"
      ]
    },
    {
      "cell_type": "markdown",
      "metadata": {},
      "source": [
        "In the above program, geekName and geekAge are public data members and displayAge() method is a public member function of the class Geek. These data members of the class Geek can be accessed from anywhere in the program."
      ]
    },
    {
      "cell_type": "markdown",
      "metadata": {},
      "source": [
        "**Protected Access Modifier:**\n",
        "The members of a class that are declared protected are only accessible to a class derived from it. Data members of a class are declared protected by adding a single underscore ‘_’ symbol before the data member of that class. "
      ]
    },
    {
      "cell_type": "code",
      "execution_count": null,
      "metadata": {},
      "outputs": [
        {
          "name": "stdout",
          "output_type": "stream",
          "text": [
            "Name:  R2J\n",
            "Roll:  1706256\n",
            "Branch:  Information Technology\n",
            "Roll:  1706256\n",
            "Branch:  Information Technology\n"
          ]
        }
      ],
      "source": [
        "# program to illustrate protected access modifier in a class\n",
        " \n",
        "# super class\n",
        "class Student:\n",
        "    \n",
        "     # protected data members\n",
        "     _name = None\n",
        "     _roll = None\n",
        "     _branch = None\n",
        "    \n",
        "     # constructor\n",
        "     def __init__(self, name, roll, branch):  \n",
        "          self._name = name\n",
        "          self._roll = roll\n",
        "          self._branch = branch\n",
        "    \n",
        "     # protected member function   \n",
        "     def _displayRollAndBranch(self):\n",
        " \n",
        "          # accessing protected data members\n",
        "          print(\"Roll: \", self._roll)\n",
        "          print(\"Branch: \", self._branch)\n",
        " \n",
        " \n",
        "# derived class\n",
        "class Geek(Student):\n",
        " \n",
        "       # constructor \n",
        "       def __init__(self, name, roll, branch): \n",
        "                Student.__init__(self, name, roll, branch) \n",
        "         \n",
        "       # public member function \n",
        "       def displayDetails(self):\n",
        "                   \n",
        "                 # accessing protected data members of super class \n",
        "                print(\"Name: \", self._name) \n",
        "                   \n",
        "                 # accessing protected member functions of super class \n",
        "                self._displayRollAndBranch()\n",
        " \n",
        "# creating objects of the derived class        \n",
        "obj = Geek(\"R2J\", 1706256, \"Information Technology\")\n",
        " \n",
        "# calling public member functions of the class\n",
        "obj.displayDetails() "
      ]
    },
    {
      "cell_type": "markdown",
      "metadata": {},
      "source": [
        "In the above program, _name, _roll, and _branch are protected data members and _displayRollAndBranch() method is a protected method of the super class Student. The displayDetails() method is a public member function of the class Geek which is derived from the Student class, the displayDetails() method in Geek class accesses the protected data members of the Student class. "
      ]
    },
    {
      "cell_type": "markdown",
      "metadata": {},
      "source": [
        "**Private Access Modifier:**\n",
        "The members of a class that are declared private are accessible within the class only, private access modifier is the most secure access modifier. Data members of a class are declared private by adding a double underscore ‘__’ symbol before the data member of that class. "
      ]
    },
    {
      "cell_type": "code",
      "execution_count": null,
      "metadata": {},
      "outputs": [
        {
          "name": "stdout",
          "output_type": "stream",
          "text": [
            "Name:  R2J\n",
            "Roll:  1706256\n",
            "Branch:  Information Technology\n",
            "Name:  R2J\n",
            "Roll:  1706256\n",
            "Branch:  Information Technology\n"
          ]
        }
      ],
      "source": [
        "# program to illustrate private access modifier in a class\n",
        " \n",
        "class Geek:\n",
        "    \n",
        "     # private members\n",
        "     __name = None\n",
        "     __roll = None\n",
        "     __branch = None\n",
        " \n",
        "     # constructor\n",
        "     def __init__(self, name, roll, branch):  \n",
        "          self.__name = name\n",
        "          self.__roll = roll\n",
        "          self.__branch = branch\n",
        " \n",
        "     # private member function  \n",
        "     def __displayDetails(self):\n",
        "           \n",
        "           # accessing private data members\n",
        "           print(\"Name: \", self.__name)\n",
        "           print(\"Roll: \", self.__roll)\n",
        "           print(\"Branch: \", self.__branch)\n",
        "    \n",
        "     # public member function\n",
        "     def accessPrivateFunction(self): \n",
        "            \n",
        "           # accessing private member function\n",
        "           self.__displayDetails()  \n",
        " \n",
        "# creating object    \n",
        "obj = Geek(\"R2J\", 1706256, \"Information Technology\")\n",
        " \n",
        "# calling public member function of the class\n",
        "obj.accessPrivateFunction()"
      ]
    },
    {
      "cell_type": "markdown",
      "metadata": {},
      "source": [
        "In the above program, __name, __roll and __branch are private members, __displayDetails() method is a private member function (these can only be accessed within the class) and accessPrivateFunction() method is a public member function of the class Geek which can be accessed from anywhere within the program. The accessPrivateFunction() method accesses the private members of the class Geek."
      ]
    },
    {
      "cell_type": "markdown",
      "metadata": {},
      "source": [
        "***MUST READ***\n",
        "\n",
        "**Below is a program to illustrate the use of all the above three access modifiers (public, protected, and private) of a class in Python:**"
      ]
    },
    {
      "cell_type": "code",
      "execution_count": null,
      "metadata": {},
      "outputs": [
        {
          "name": "stdout",
          "output_type": "stream",
          "text": [
            "Public Data Member:  Geeks\n",
            "Protected Data Member:  4\n",
            "Private Data Member:  Geeks !\n",
            "Object is accessing protected member: 4\n",
            "Geeks !\n"
          ]
        }
      ],
      "source": [
        "# program to illustrate access modifiers of a class\n",
        "\n",
        "# super class\n",
        "class Super:\n",
        "\t\n",
        "\t# public data member\n",
        "\tvar1 = None\n",
        "\n",
        "\t# protected data member\n",
        "\t_var2 = None\n",
        "\t\n",
        "\t# private data member\n",
        "\t__var3 = None\n",
        "\t\n",
        "\t# constructor\n",
        "\tdef __init__(self, var1, var2, var3): \n",
        "\t\tself.var1 = var1\n",
        "\t\tself._var2 = var2\n",
        "\t\tself.__var3 = var3\n",
        "\t\n",
        "\t# public member function \n",
        "\tdef displayPublicMembers(self):\n",
        "\n",
        "\t\t# accessing public data members\n",
        "\t\tprint(\"Public Data Member: \", self.var1)\n",
        "\t\t\n",
        "\t# protected member function \n",
        "\tdef _displayProtectedMembers(self):\n",
        "\n",
        "\t\t# accessing protected data members\n",
        "\t\tprint(\"Protected Data Member: \", self._var2)\n",
        "\t\n",
        "\t# private member function \n",
        "\tdef __displayPrivateMembers(self):\n",
        "\n",
        "\t\t# accessing private data members\n",
        "\t\tprint(\"Private Data Member: \", self.__var3)\n",
        "\n",
        "\t# public member function\n",
        "\tdef accessPrivateMembers(self):\t \n",
        "\t\t\n",
        "\t\t# accessing private member function\n",
        "\t\tself.__displayPrivateMembers()\n",
        "\n",
        "# derived class\n",
        "class Sub(Super):\n",
        "\n",
        "\t# constructor \n",
        "\tdef __init__(self, var1, var2, var3): \n",
        "\t\t\t\tSuper.__init__(self, var1, var2, var3)\n",
        "\t\t\n",
        "\t# public member function \n",
        "\tdef accessProtectedMembers(self):\n",
        "\t\t\t\t\n",
        "\t\t\t\t# accessing protected member functions of super class \n",
        "\t\t\t\tself._displayProtectedMembers()\n",
        "\n",
        "# creating objects of the derived class\t \n",
        "obj = Sub(\"Geeks\", 4, \"Geeks !\") \n",
        "\n",
        "# calling public member functions of the class\n",
        "obj.displayPublicMembers()\n",
        "obj.accessProtectedMembers()\n",
        "obj.accessPrivateMembers() \n",
        "\n",
        "# Object can access protected member\n",
        "print(\"Object is accessing protected member:\", obj._var2)\n",
        "\n",
        "# object can not access private member, so it will generate Attribute error\n",
        "#print(obj.__var3)\n",
        "\n",
        "#but object can access private member also as follow:\n",
        "print(obj._Super__var3)\n"
      ]
    },
    {
      "cell_type": "markdown",
      "metadata": {},
      "source": [
        "**Note:** Public means we can access it from any classes or from anywhere, Protected means we are able to access it inside the class and the child class, private means it is accessible within the class only\n",
        "\n",
        "The is a concept called as **Encapsulation** where we try to hide the implementation, so that other will not be able to do any modification at any point of time. "
      ]
    },
    {
      "cell_type": "code",
      "execution_count": null,
      "metadata": {},
      "outputs": [],
      "source": [
        "#Important - INEURON\n",
        "class bonousclaculator:\n",
        "    def __init__(self, empid , emprating) :\n",
        "        self.empid = empid\n",
        "        self.emprating = emprating\n",
        "        self._empmail = \"fdsfsfssf@gmail.com\"\n",
        "        self.__bonusforratingA = \"70%\"\n",
        "        self.__bonusforraringB = \"60%\"\n",
        "        self.__bonusforratinC = \"40%\"\n",
        "    \n",
        "    def bonuscalculator(self) :\n",
        "        if self.emprating == \"A\":\n",
        "            bonus = self.__bonusforratingA\n",
        "            return bonus\n",
        "        elif self.emprating == \"B\" :\n",
        "            bonus = self.__bonusforraringB\n",
        "            return bonus\n",
        "        else :\n",
        "            bonus = self.__bonusforratinC\n",
        "            return bonus"
      ]
    },
    {
      "cell_type": "code",
      "execution_count": null,
      "metadata": {},
      "outputs": [],
      "source": [
        "emp1 = bonousclaculator(101 , \"A\")\n",
        "emp2 = bonousclaculator(102 , \"B\")\n",
        "emp3 = bonousclaculator(103, \"C\")"
      ]
    },
    {
      "cell_type": "code",
      "execution_count": null,
      "metadata": {},
      "outputs": [
        {
          "data": {
            "text/plain": [
              "'70%'"
            ]
          },
          "execution_count": 3,
          "metadata": {},
          "output_type": "execute_result"
        }
      ],
      "source": [
        "emp1.bonuscalculator()"
      ]
    },
    {
      "cell_type": "code",
      "execution_count": null,
      "metadata": {},
      "outputs": [
        {
          "data": {
            "text/plain": [
              "'60%'"
            ]
          },
          "execution_count": 20,
          "metadata": {},
          "output_type": "execute_result"
        }
      ],
      "source": [
        "emp2.bonuscalculator()"
      ]
    },
    {
      "cell_type": "code",
      "execution_count": null,
      "metadata": {},
      "outputs": [
        {
          "data": {
            "text/plain": [
              "'40%'"
            ]
          },
          "execution_count": 5,
          "metadata": {},
          "output_type": "execute_result"
        }
      ],
      "source": [
        "emp3.bonuscalculator()"
      ]
    },
    {
      "cell_type": "code",
      "execution_count": null,
      "metadata": {},
      "outputs": [],
      "source": [
        "emp1.empid = 104  #we have changed the id"
      ]
    },
    {
      "cell_type": "code",
      "execution_count": null,
      "metadata": {},
      "outputs": [
        {
          "data": {
            "text/plain": [
              "104"
            ]
          },
          "execution_count": 7,
          "metadata": {},
          "output_type": "execute_result"
        }
      ],
      "source": [
        "emp1.empid"
      ]
    },
    {
      "cell_type": "code",
      "execution_count": null,
      "metadata": {},
      "outputs": [],
      "source": [
        "emp1.emprating= \"B\"  #we have changed the rating"
      ]
    },
    {
      "cell_type": "code",
      "execution_count": null,
      "metadata": {},
      "outputs": [
        {
          "data": {
            "text/plain": [
              "'60%'"
            ]
          },
          "execution_count": 9,
          "metadata": {},
          "output_type": "execute_result"
        }
      ],
      "source": [
        "emp1.bonuscalculator()"
      ]
    },
    {
      "cell_type": "code",
      "execution_count": null,
      "metadata": {},
      "outputs": [],
      "source": [
        "emp1.__bonusforraringB = \"90%\" #It is not giving error but as it is a private variable so this line will not make any changes. \n",
        "#but there is a way to change the value of private variable also. discussed below"
      ]
    },
    {
      "cell_type": "code",
      "execution_count": null,
      "metadata": {},
      "outputs": [
        {
          "data": {
            "text/plain": [
              "'60%'"
            ]
          },
          "execution_count": 18,
          "metadata": {},
          "output_type": "execute_result"
        }
      ],
      "source": [
        "emp1.bonuscalculator()  #bcz still emp1.__bonusforraringB = 60%"
      ]
    },
    {
      "cell_type": "code",
      "execution_count": null,
      "metadata": {},
      "outputs": [
        {
          "data": {
            "text/plain": [
              "'B'"
            ]
          },
          "execution_count": 21,
          "metadata": {},
          "output_type": "execute_result"
        }
      ],
      "source": [
        "emp2.emprating   "
      ]
    },
    {
      "cell_type": "code",
      "execution_count": null,
      "metadata": {},
      "outputs": [],
      "source": [
        "emp2.empid = 34543543 #as empid is public so it has easily changed"
      ]
    },
    {
      "cell_type": "code",
      "execution_count": null,
      "metadata": {},
      "outputs": [
        {
          "data": {
            "text/plain": [
              "34543543"
            ]
          },
          "execution_count": 23,
          "metadata": {},
          "output_type": "execute_result"
        }
      ],
      "source": [
        "emp2.empid"
      ]
    },
    {
      "cell_type": "code",
      "execution_count": null,
      "metadata": {},
      "outputs": [
        {
          "data": {
            "text/plain": [
              "'60%'"
            ]
          },
          "execution_count": 24,
          "metadata": {},
          "output_type": "execute_result"
        }
      ],
      "source": [
        "emp2.bonuscalculator()"
      ]
    },
    {
      "cell_type": "code",
      "execution_count": null,
      "metadata": {},
      "outputs": [],
      "source": [
        "emp2.__bonusforraringB = \"fsadfsafs\" #No chages will occur"
      ]
    },
    {
      "cell_type": "code",
      "execution_count": null,
      "metadata": {},
      "outputs": [
        {
          "data": {
            "text/plain": [
              "'60%'"
            ]
          },
          "execution_count": 26,
          "metadata": {},
          "output_type": "execute_result"
        }
      ],
      "source": [
        "emp2._bonousclaculator__bonusforraringB"
      ]
    },
    {
      "cell_type": "code",
      "execution_count": null,
      "metadata": {},
      "outputs": [],
      "source": [
        "emp2._bonousclaculator__bonusforraringB  = \"435456\"\n",
        "#by this way we can do changes in private variables also"
      ]
    },
    {
      "cell_type": "code",
      "execution_count": null,
      "metadata": {},
      "outputs": [
        {
          "data": {
            "text/plain": [
              "'435456'"
            ]
          },
          "execution_count": 28,
          "metadata": {},
          "output_type": "execute_result"
        }
      ],
      "source": [
        "emp2._bonousclaculator__bonusforraringB "
      ]
    },
    {
      "cell_type": "markdown",
      "metadata": {},
      "source": [
        "In python encapsulation is just a convention to protect modification from users. We can modify all three public, private & protected.<br>\n",
        "Nothing is really private in python. No class or class instance can\n",
        "keep you away from all what's inside (this makes introspection\n",
        "possible and powerful). Python trusts you. It says \"hey, if you want to go poking around in dark places, I'm gonna trust that you've got a good reason and you're not making trouble.\"<br>\n",
        "C++ and Java don't have this philosophy (not to the same extent).\n",
        "They allow you create private methods and static members.\n"
      ]
    },
    {
      "cell_type": "code",
      "execution_count": null,
      "metadata": {},
      "outputs": [
        {
          "data": {
            "text/plain": [
              "'fdsfsfssf@gmail.com'"
            ]
          },
          "execution_count": 5,
          "metadata": {},
          "output_type": "execute_result"
        }
      ],
      "source": [
        "emp1._empmail"
      ]
    },
    {
      "cell_type": "code",
      "execution_count": null,
      "metadata": {},
      "outputs": [],
      "source": [
        "emp1._empmail  = \"sudhanshu@gmail.com\""
      ]
    },
    {
      "cell_type": "code",
      "execution_count": null,
      "metadata": {},
      "outputs": [
        {
          "data": {
            "text/plain": [
              "'sudhanshu@gmail.com'"
            ]
          },
          "execution_count": 7,
          "metadata": {},
          "output_type": "execute_result"
        }
      ],
      "source": [
        "emp1._empmail"
      ]
    },
    {
      "cell_type": "markdown",
      "metadata": {},
      "source": [
        "**POLYMORPHISM**"
      ]
    },
    {
      "cell_type": "code",
      "execution_count": null,
      "metadata": {},
      "outputs": [],
      "source": [
        "def test(a,b):\n",
        "    return a + b"
      ]
    },
    {
      "cell_type": "code",
      "execution_count": null,
      "metadata": {},
      "outputs": [
        {
          "data": {
            "text/plain": [
              "7"
            ]
          },
          "execution_count": 10,
          "metadata": {},
          "output_type": "execute_result"
        }
      ],
      "source": [
        "test(3,4)"
      ]
    },
    {
      "cell_type": "code",
      "execution_count": null,
      "metadata": {},
      "outputs": [
        {
          "data": {
            "text/plain": [
              "'sudhkumar'"
            ]
          },
          "execution_count": 11,
          "metadata": {},
          "output_type": "execute_result"
        }
      ],
      "source": [
        "test(\"sudh\" , \"kumar\")"
      ]
    },
    {
      "cell_type": "markdown",
      "metadata": {},
      "source": [
        "In case of no's and string, the same test function is behaving dfferently. i.e. sometime giving us addition, sometime concatenation<br><br>\n",
        "**What is Polymorphism:** The word polymorphism means having many forms. In programming, polymorphism means the same function name (but different signatures) being used for different types. The key difference is the data types and number of arguments used in function."
      ]
    },
    {
      "cell_type": "code",
      "execution_count": null,
      "metadata": {},
      "outputs": [],
      "source": [
        "class insta:\n",
        "    def share_stories(self) :\n",
        "        print(\"this will share my insta story \")\n",
        "        \n",
        "        \n",
        "class facebook :\n",
        "    def share_stories(self) :\n",
        "        print(\"this will share my facebook stories\")"
      ]
    },
    {
      "cell_type": "code",
      "execution_count": null,
      "metadata": {},
      "outputs": [],
      "source": [
        "def sharestroies(app) :\n",
        "    app.share_stories()"
      ]
    },
    {
      "cell_type": "code",
      "execution_count": null,
      "metadata": {},
      "outputs": [],
      "source": [
        "i = insta()\n",
        "f = facebook()"
      ]
    },
    {
      "cell_type": "code",
      "execution_count": null,
      "metadata": {},
      "outputs": [
        {
          "name": "stdout",
          "output_type": "stream",
          "text": [
            "this will share my insta story \n"
          ]
        }
      ],
      "source": [
        "sharestroies(i)"
      ]
    },
    {
      "cell_type": "code",
      "execution_count": null,
      "metadata": {},
      "outputs": [
        {
          "name": "stdout",
          "output_type": "stream",
          "text": [
            "this will share my facebook stories\n"
          ]
        }
      ],
      "source": [
        "sharestroies(f)"
      ]
    },
    {
      "cell_type": "markdown",
      "metadata": {},
      "source": [
        "same function 'sharestories' is behaving differently for both objects of insta and facebook class. So behaviour is changing according to the nature of the object"
      ]
    },
    {
      "cell_type": "code",
      "execution_count": null,
      "metadata": {},
      "outputs": [],
      "source": [
        "class social_media:\n",
        "    def share_stories(self) :\n",
        "        print(\"share a stroies\")\n",
        "    def upload_pic(self) :\n",
        "        print(\"this will help you to upload pic on social media\")\n",
        "        \n",
        "class facebook(social_media) :\n",
        "    def share_stories(self):    #overriding\n",
        "        print(\"this is a fun for shargin an story for facebook\")\n",
        "    \n",
        "class insta(social_media):\n",
        "    def share_stories(self) :   #overriding\n",
        "        print(\"this will print a stroy from insta\")\n",
        "    "
      ]
    },
    {
      "cell_type": "code",
      "execution_count": null,
      "metadata": {},
      "outputs": [],
      "source": [
        "f = facebook()\n",
        "i = insta()"
      ]
    },
    {
      "cell_type": "code",
      "execution_count": null,
      "metadata": {},
      "outputs": [
        {
          "name": "stdout",
          "output_type": "stream",
          "text": [
            "this is a fun for shargin an story for facebook\n"
          ]
        }
      ],
      "source": [
        "f.share_stories()"
      ]
    },
    {
      "cell_type": "code",
      "execution_count": null,
      "metadata": {},
      "outputs": [
        {
          "name": "stdout",
          "output_type": "stream",
          "text": [
            "this will print a stroy from insta\n"
          ]
        }
      ],
      "source": [
        "i.share_stories()"
      ]
    },
    {
      "cell_type": "markdown",
      "metadata": {},
      "source": [
        "So this is all about plymorphism, very easy concept"
      ]
    },
    {
      "cell_type": "markdown",
      "metadata": {},
      "source": [
        "**Creating your own exception class**"
      ]
    },
    {
      "cell_type": "code",
      "execution_count": null,
      "metadata": {},
      "outputs": [],
      "source": [
        "#Exception is a super class we all know. Here we are just inheriting Exception class\n",
        "class test(Exception):\n",
        "    def __init__(self , msg  , myval) :\n",
        "        self.msg = msg\n",
        "        self.myval =myval"
      ]
    },
    {
      "cell_type": "code",
      "execution_count": null,
      "metadata": {},
      "outputs": [
        {
          "name": "stdout",
          "output_type": "stream",
          "text": [
            "('this is my own exceptino class ', 'fdsafsaf')\n"
          ]
        }
      ],
      "source": [
        "try :\n",
        "    raise(test(\"this is my own exceptino class \" , \"fdsafsaf\"))\n",
        "except test as t :\n",
        "    print(t)"
      ]
    },
    {
      "cell_type": "code",
      "execution_count": null,
      "metadata": {},
      "outputs": [],
      "source": [
        "try :\n",
        "    raise(test(\"this is my own exceptino class \",5))\n",
        "except test as t :\n",
        "    print(t)"
      ]
    },
    {
      "cell_type": "markdown",
      "metadata": {},
      "source": [
        "**HOMEWRK**<br>\n",
        "q1  create your own class for to achive multiple  , multilevel inheritance <br>\n",
        "q2  create your own class to represenet ploymorprism <br>\n",
        "q3 create your own class for custome exception<br>\n",
        "q4 create your own class to achive encaptulation<br>\n",
        "q5 create your own class to achive method overloading and overriding  .<br>"
      ]
    },
    {
      "cell_type": "code",
      "execution_count": null,
      "metadata": {},
      "outputs": [
        {
          "name": "stdout",
          "output_type": "stream",
          "text": [
            "Batch : 2\n",
            "course : FSDS\n"
          ]
        }
      ],
      "source": [
        "#Solution\n",
        "\n",
        "#Ans1\n",
        "#Multiple inheritance\n",
        " \n",
        " \n",
        "# Parent class1\n",
        "class Batch_number:\n",
        "    batchnumber = \"\"      #static variable\n",
        "    '''In Python, a static variable is a variable that is shared among all instances of a class, rather than being unique to each instance. \n",
        "    It is also sometimes referred to as a class variable, because it belongs to the class itself rather than any particular instance of the class.'''\n",
        "    def __init__(self,a,b,c):\n",
        "        self.a = a \n",
        "        self.b= b \n",
        "        self.c = c \n",
        "      \n",
        "    def batch(self):\n",
        "        print(self.batchnumber)\n",
        "\n",
        "    #here we can make batch() static also as follow:\n",
        "    # @static\n",
        "    # def batch():\n",
        "    #     print(batchnumber)\n",
        "    #I have talked about static function in detail below\n",
        " \n",
        "# Parent class2\n",
        "class course_name:\n",
        "    cname = \"\"\n",
        "    def course(self):\n",
        "        print(self.cname)\n",
        " \n",
        "# Child class\n",
        "class Student(Batch_number, course_name):\n",
        "    def deets(self):\n",
        "        print(\"Batch :\", self.batchnumber)\n",
        "        print(\"course :\", self.cname)\n",
        " \n",
        "# Child class code\n",
        "s1 = Student(4,5,6)\n",
        "s1.batchnumber = \"2\"\n",
        "s1.cname = \"FSDS\"\n",
        "s1.deets()"
      ]
    },
    {
      "cell_type": "code",
      "execution_count": null,
      "metadata": {},
      "outputs": [
        {
          "data": {
            "text/plain": [
              "''"
            ]
          },
          "execution_count": 3,
          "metadata": {},
          "output_type": "execute_result"
        }
      ],
      "source": [
        "#we can also access the static variable from class name itself as follow:\n",
        "Batch_number.batchnumber"
      ]
    },
    {
      "cell_type": "code",
      "execution_count": null,
      "metadata": {},
      "outputs": [
        {
          "data": {
            "text/plain": [
              "'2001'"
            ]
          },
          "execution_count": 5,
          "metadata": {},
          "output_type": "execute_result"
        }
      ],
      "source": [
        "#we can also modify the static variable as follow\n",
        "Batch_number.batchnumber = '2001'\n",
        "Batch_number.batchnumber\n",
        "#Now all object which will be created will have batchnumber = '2001' as default value\n"
      ]
    },
    {
      "cell_type": "markdown",
      "metadata": {},
      "source": [
        "**Features of Static Variables**\n",
        "1. Static variables are allocated memory once when the object for the class is created for the first time.<br>\n",
        "2. Static variables are created outside of methods but inside a class<br>\n",
        "3. Static variables can be accessed through a class but not directly with an instance.<br>\n",
        "4. Static variables behavior doesn’t change for every object."
      ]
    },
    {
      "cell_type": "markdown",
      "metadata": {},
      "source": [
        "**Class Method Vs Static Method**<br>\n",
        "In Python, both class methods and static methods are used to define methods that are bound to a class rather than an instance of the class. However, they serve different purposes and have different use cases.\n"
      ]
    },
    {
      "cell_type": "markdown",
      "metadata": {},
      "source": [
        "**Class Method:**<br>\n",
        "A class method takes the class itself (cls) as its first parameter. It can access and modify the class state but not the instance state. You define a class method using the @classmethod decorator.\n",
        "\n",
        "Here's an example:"
      ]
    },
    {
      "cell_type": "code",
      "execution_count": null,
      "metadata": {},
      "outputs": [
        {
          "name": "stdout",
          "output_type": "stream",
          "text": [
            "10\n"
          ]
        }
      ],
      "source": [
        "class MyClass:\n",
        "    class_variable = \"I am a class variable\"    #also called as static variable\n",
        "\n",
        "    def __init__(self, instance_variable):\n",
        "        self.instance_variable = instance_variable\n",
        "\n",
        "    @classmethod\n",
        "    def create_instance(cls, value):\n",
        "        return cls(value * 2)\n",
        "\n",
        "# Usage\n",
        "obj = MyClass.create_instance(5)\n",
        "print(obj.instance_variable)  # Output: 10\n",
        "\n",
        "#In this example, create_instance is a class method. It can create and return an instance of the class.\n"
      ]
    },
    {
      "cell_type": "markdown",
      "metadata": {},
      "source": [
        "**Static Method:**<br>\n",
        "A static method is a method that doesn't have access to the class or instance. It's defined using the @staticmethod decorator. Static methods are primarily used for utility functions that don't need access to class or instance variables.\n",
        "\n",
        "Here's an example:"
      ]
    },
    {
      "cell_type": "code",
      "execution_count": null,
      "metadata": {},
      "outputs": [
        {
          "name": "stdout",
          "output_type": "stream",
          "text": [
            "7\n",
            "12\n"
          ]
        }
      ],
      "source": [
        "class MathOperations:\n",
        "    @staticmethod     #no need to add @static decorator as it is bydefault static\n",
        "    def add(x, y):\n",
        "        return x + y\n",
        "\n",
        "    @staticmethod   \n",
        "    def multiply(x, y):\n",
        "        return x * y\n",
        "\n",
        "# Usage\n",
        "result_sum = MathOperations.add(3, 4)\n",
        "result_product = MathOperations.multiply(3, 4)\n",
        "\n",
        "print(result_sum)      # Output: 7\n",
        "print(result_product)  # Output: 12\n",
        "\n",
        "#In this example, 'add' and 'multiply' are static methods. They don't need \n",
        "#access to the instance or class variables and can be called on the class directly."
      ]
    },
    {
      "cell_type": "markdown",
      "metadata": {},
      "source": [
        "In summary, use class methods when you need access to the class itself, and use static methods when the method doesn't require access to the class or instance state."
      ]
    },
    {
      "cell_type": "markdown",
      "metadata": {},
      "source": [
        "**BY ChatGPT**\n",
        "\n",
        "In Python, decorators are a powerful and flexible feature that allows you to modify or extend the behavior of functions or methods. Decorators are applied using the @decorator syntax, and they provide a convenient way to wrap, modify, or enhance the functionality of functions without modifying their actual code.\n",
        "\n",
        "Here are some common use cases for decorators:\n",
        "\n",
        "*Code Reusability:* Decorators help in keeping your code DRY (Don't Repeat Yourself) by allowing you to extract common functionality and apply it to multiple functions or methods.\n",
        "\n",
        "*Logging and Timing:* Decorators can be used to log information about function calls, measure execution time, or perform any kind of instrumentation.\n",
        "\n",
        "*Authentication and Authorization:* Decorators can be used to enforce authentication and authorization checks. For example, you can create a decorator to check if a user is logged in before allowing access to a particular function.\n",
        "\n",
        "*Caching:* Decorators can implement caching mechanisms to store and retrieve the results of expensive function calls, improving performance.\n",
        "\n",
        "*Validation:* You can use decorators to validate input parameters or return values of functions, ensuring that the function receives valid data.\n",
        "\n",
        "*Memoization:* Decorators can implement memoization, a technique that stores the results of expensive function calls and returns the cached result when the same inputs occur again.\n",
        "\n",
        "*Aspect-Oriented Programming (AOP):* Decorators enable a form of aspect-oriented programming by allowing you to separate concerns, such as logging, error handling, or security, from the core functionality of your functions.\n",
        "\n",
        "*Flask Web Framework Routing:* In web frameworks like Flask, decorators are commonly used for defining routes. For example, the @app.route('/') decorator in Flask associates a function with a specific URL."
      ]
    },
    {
      "cell_type": "code",
      "execution_count": null,
      "metadata": {},
      "outputs": [],
      "source": [
        "#Ans2\n",
        "#Multilevel Inheritance\n",
        "class xyz:\n",
        "    def __init__(self,a,b,c):\n",
        "        self.a=a\n",
        "        self.b=b\n",
        "        self.c=c\n",
        "    \n",
        "    def test(self):\n",
        "            print(\"This is my method of xyz class\")\n",
        "class xyz1(xyz):\n",
        "    def test1(self):\n",
        "        print(\"This is my method of xyz1 class\")\n",
        "        \n",
        "class xyz2(xyz1):\n",
        "    def test2(self):\n",
        "        print(\"method of xyz2 class\")\n",
        "        \n",
        "n=xyz1(3,4,5)\n",
        "n.test1()\n",
        "\n"
      ]
    },
    {
      "cell_type": "code",
      "execution_count": null,
      "metadata": {},
      "outputs": [
        {
          "name": "stdout",
          "output_type": "stream",
          "text": [
            "division by 5 error\n"
          ]
        }
      ],
      "source": [
        "#Ans3\n",
        "#Custom Exception\n",
        "\n",
        "#program written here could be more easy\n",
        "\n",
        "class division_by_5 (Exception):\n",
        "    def __init__ (self,msg):\n",
        "        self.msg = msg\n",
        "try:\n",
        "    a= int(input(\"enter first number \"))\n",
        "    b= int(input(\"enter second number \"))\n",
        "    a/b\n",
        "    if b == 5:\n",
        "        raise division_by_5(\"division by 5 error\")\n",
        "except ValueError as msg:\n",
        "        print(msg)\n",
        "except ZeroDivisionError as msg:\n",
        "        print(msg)\n",
        "except division_by_5 as msg:\n",
        "         print(msg)\n",
        "else:\n",
        "    try :\n",
        "        \n",
        "        result = a/b\n",
        "        print(result)\n",
        "        \n",
        "    except Exception as e :\n",
        "        print(e)"
      ]
    },
    {
      "cell_type": "code",
      "execution_count": null,
      "metadata": {},
      "outputs": [],
      "source": [
        "#Ans4 By Nirbhay - From ChatGPT\n",
        "#create your own class to achieve encapsulation\n",
        "\n",
        "class Car:\n",
        "    def __init__(self, make, model, year):\n",
        "        self._make = make  # protected attribute\n",
        "        self._model = model  # protected attribute\n",
        "        self.__year = year  # private attribute\n",
        "\n",
        "    def display_info(self):\n",
        "        print(f\"{self._year} {self._make} {self._model}\")\n",
        "\n",
        "    # Getter method for private attribute\n",
        "    def get_year(self):\n",
        "        return self.__year\n",
        "\n",
        "    # Setter method for private attribute\n",
        "    def set_year(self, new_year):\n",
        "        if new_year > 0:\n",
        "            self.__year = new_year\n",
        "        else:\n",
        "            print(\"Invalid year value. Year must be greater than 0.\")\n",
        "\n",
        "# Creating an instance of the Car class\n",
        "my_car = Car(\"Toyota\", \"Camry\", 2020)\n",
        "\n",
        "# Accessing protected attributes\n",
        "print(my_car._make)  # Output: Toyota\n",
        "print(my_car._model)  # Output: Camry\n",
        "\n",
        "# Accessing private attribute using getter method\n",
        "print(my_car.get_year())  # Output: 2020\n",
        "\n",
        "# Trying to access private attribute directly (will result in an error)\n",
        "# print(my_car.__year)  # Uncommenting this line will raise an AttributeError\n",
        "\n",
        "# Updating private attribute using setter method\n",
        "my_car.set_year(2022)\n",
        "print(my_car.get_year())  # Output: 2022\n",
        "\n",
        "# Trying to set an invalid year using setter method\n",
        "my_car.set_year(-1)  # Output: Invalid year value. Year must be greater than 0.\n",
        "print(my_car.get_year())  # Output: 2022 (unchanged)"
      ]
    },
    {
      "cell_type": "code",
      "execution_count": null,
      "metadata": {},
      "outputs": [
        {
          "name": "stdout",
          "output_type": "stream",
          "text": [
            "Generic Shape Area: 0\n",
            "This is a generic shape.\n",
            "Rectangle Area: 40\n",
            "This is a rectangle with length 5 and width 8.\n",
            "Circle Area: 50.24\n",
            "This is a circle with radius 4.\n"
          ]
        }
      ],
      "source": [
        "#Ans5 By Nirbhay - From ChatGPT\n",
        "#create your own class to achieve method overloading and overriding\n",
        "\n",
        "#Certainly! In Python, method overloading can be achieved through default values for function parameters, and \n",
        "#method overriding involves creating a method in a child class with the same name as a method in its parent class.\n",
        "#Here's an example demonstrating both method overloading and overriding:\n",
        "\n",
        "class Shape:\n",
        "    def area(self, *args):\n",
        "        \"\"\"\n",
        "        Method overloading for area calculation.\n",
        "        If no arguments are provided, it returns 0.\n",
        "        If one argument is provided, it calculates the area based on the given argument.\n",
        "        \"\"\"\n",
        "        if not args:\n",
        "            return 0\n",
        "        elif len(args) == 1:\n",
        "            return args[0]\n",
        "        else:\n",
        "            raise ValueError(\"Invalid number of arguments for area calculation.\")\n",
        "\n",
        "    def display_info(self):\n",
        "        print(\"This is a generic shape.\")\n",
        "\n",
        "class Rectangle(Shape):\n",
        "    def __init__(self, length, width):\n",
        "        self.length = length\n",
        "        self.width = width\n",
        "\n",
        "    # Method overriding for area calculation in Rectangle\n",
        "    def area(self):\n",
        "        return self.length * self.width\n",
        "\n",
        "    def display_info(self):\n",
        "        print(f\"This is a rectangle with length {self.length} and width {self.width}.\")\n",
        "\n",
        "class Circle(Shape):\n",
        "    def __init__(self, radius):\n",
        "        self.radius = radius\n",
        "\n",
        "    # Method overriding for area calculation in Circle\n",
        "    def area(self):\n",
        "        return 3.14 * self.radius * self.radius\n",
        "\n",
        "    def display_info(self):\n",
        "        print(f\"This is a circle with radius {self.radius}.\")\n",
        "\n",
        "# Using the classes\n",
        "generic_shape = Shape()\n",
        "print(\"Generic Shape Area:\", generic_shape.area())  # Output: 0\n",
        "generic_shape.display_info()\n",
        "\n",
        "rectangle = Rectangle(5, 8)\n",
        "print(\"Rectangle Area:\", rectangle.area())  # Output: 40\n",
        "rectangle.display_info()\n",
        "\n",
        "circle = Circle(4)\n",
        "print(\"Circle Area:\", circle.area())  # Output: 50.24\n",
        "circle.display_info()\n"
      ]
    },
    {
      "cell_type": "markdown",
      "metadata": {},
      "source": [
        "for better understanding of method overloading in python, I am pasting a separat code from chatGPT:<br>\n",
        "\n",
        "**chatGPT**<br>\n",
        "Method overloading in Python might not be as explicit as in some other languages, but fear not, Python has its own way of dancing around it using default values and variable-length arguments.\n",
        "\n",
        "Check out this snippet:"
      ]
    },
    {
      "cell_type": "code",
      "execution_count": 5,
      "metadata": {},
      "outputs": [
        {
          "name": "stdout",
          "output_type": "stream",
          "text": [
            "Method called with Hello\n",
            "Method called with Hello and World\n"
          ]
        }
      ],
      "source": [
        "class OverloadExample:\n",
        "    def overloaded_method(self, arg1, arg2=None):\n",
        "        if arg2 is not None:\n",
        "            # Perform method with two arguments\n",
        "            print(f\"Method called with {arg1} and {arg2}\")\n",
        "        else:\n",
        "            # Perform method with only one argument\n",
        "            print(f\"Method called with {arg1}\")\n",
        "\n",
        "# Create an instance\n",
        "example_instance = OverloadExample()\n",
        "\n",
        "# Call the overloaded method with one argument\n",
        "example_instance.overloaded_method(\"Hello\")\n",
        "\n",
        "# Call the overloaded method with two arguments\n",
        "example_instance.overloaded_method(\"Hello\", \"World\")\n"
      ]
    },
    {
      "cell_type": "markdown",
      "metadata": {},
      "source": [
        "In this example, overloaded_method takes two parameters, but the second one has a default value of None. This allows you to call the method with either one or two arguments. If the second argument is provided, it performs the method with both arguments; otherwise, it assumes a default behavior with just the first argument.\n",
        "\n",
        "While Python doesn't strictly support method overloading based on the number or types of parameters like some languages do, this approach gives you flexibility and achieves a similar effect.\n",
        "\n",
        "So, even though Python may not have a formal method overloading concept, it provides you with the tools to achieve the same outcome in a Pythonic way!"
      ]
    },
    {
      "cell_type": "markdown",
      "metadata": {},
      "source": [
        "**ABSTRACTION (Abstract Classes)**"
      ]
    },
    {
      "cell_type": "markdown",
      "metadata": {},
      "source": [
        " Abstract means blueprint<br>\n",
        " We need abstract class to give a blueprint of our work<br>\n",
        " when we work in a team, we do lot of discussion on function and modules and we create a abstraction. Example is given below. Now in a team we can divide work according to their skills.<br>\n",
        " Now person with specific task can create their own class inheriting data_project, so that all functions of data_project can be accessible and according to his task he can modify the targeted function through overriding"
      ]
    },
    {
      "cell_type": "code",
      "execution_count": null,
      "metadata": {},
      "outputs": [],
      "source": [
        "#abc stands for Abstract Base Classes\n",
        "from abc import abstractmethod\n",
        "class data_project :\n",
        "    \n",
        "    @abstractmethod       #even without decorator, it will work fine\n",
        "    def read_file(self) :\n",
        "        pass\n",
        "    \n",
        "    def validate_file_name(slef) :\n",
        "        pass\n",
        "    \n",
        "    def validate_datatype(self) :\n",
        "        pass\n",
        "    \n",
        "    def validate_db_connn(self) :\n",
        "        pass\n",
        "    \n",
        "    def create_connn(self) :\n",
        "        pass\n",
        "    \n",
        "    def insert_data(self) :\n",
        "        pass\n",
        "    \n",
        "    def delete_data(self):\n",
        "        pass\n",
        "    \n",
        "    def update_data(self) :\n",
        "        pass\n",
        "    \n",
        "    def perform_stats(self) :\n",
        "        pass\n",
        "    \n",
        "    def perform_eda(self) :\n",
        "        pass"
      ]
    },
    {
      "cell_type": "markdown",
      "metadata": {},
      "source": [
        "That's all about abstract classes from Ineuron but for better understanding, I am copying a code from chatGPT."
      ]
    },
    {
      "cell_type": "markdown",
      "metadata": {},
      "source": [
        "**chatGPT**<br>\n",
        "Abstract classes, the maestros of abstraction! In Python, you can create abstract classes using the abc module, which stands for Abstract Base Classes. These classes can't be instantiated themselves; instead, they're meant to be subclassed by other classes that provide concrete implementations for the abstract methods.\n",
        "\n",
        "Here's a quick snippet to get you started:"
      ]
    },
    {
      "cell_type": "code",
      "execution_count": null,
      "metadata": {},
      "outputs": [],
      "source": [
        "from abc import ABC, abstractmethod\n",
        "\n",
        "class AbstractClassExample(ABC):\n",
        "    @abstractmethod\n",
        "    def do_something(self):\n",
        "        pass\n",
        "\n",
        "    @abstractmethod\n",
        "    def do_something_else(self):\n",
        "        pass"
      ]
    },
    {
      "cell_type": "markdown",
      "metadata": {},
      "source": [
        "In this example, AbstractClassExample is an abstract class with two abstract methods, do_something and do_something_else. Any class that inherits from AbstractClassExample must provide concrete implementations for these methods, or it will also be considered abstract.\n",
        "\n",
        "Let's say you want to create a concrete class based on this abstract class:"
      ]
    },
    {
      "cell_type": "code",
      "execution_count": null,
      "metadata": {},
      "outputs": [],
      "source": [
        "class ConcreteClassExample(AbstractClassExample):\n",
        "    def do_something(self):\n",
        "        print(\"Doing something\")\n",
        "\n",
        "    def do_something_else(self):\n",
        "        print(\"Doing something else\")\n",
        "\n",
        "# You can now create an instance of ConcreteClassExample\n",
        "instance = ConcreteClassExample()\n",
        "instance.do_something()\n",
        "instance.do_something_else()\n"
      ]
    },
    {
      "cell_type": "markdown",
      "metadata": {},
      "source": [
        "By inheriting from the abstract class, ConcreteClassExample is forced to implement the abstract methods, ensuring that instances of this class have the necessary functionality.\n",
        "\n",
        "Abstract classes in Python provide a way to define a common interface for a group of related classes while leaving the specific implementation details to the individual subclasses. Elegant, isn't it?"
      ]
    },
    {
      "cell_type": "markdown",
      "metadata": {},
      "source": [
        "***************************"
      ]
    },
    {
      "cell_type": "code",
      "execution_count": 3,
      "metadata": {},
      "outputs": [],
      "source": [
        "class test:\n",
        "    def fun(self) :\n",
        "        print(\"this is my sample class \")\n",
        "        \n",
        "    def __str__(self):\n",
        "        return str(535635463566)"
      ]
    },
    {
      "cell_type": "code",
      "execution_count": 4,
      "metadata": {},
      "outputs": [
        {
          "name": "stdout",
          "output_type": "stream",
          "text": [
            "535635463566\n"
          ]
        }
      ],
      "source": [
        "t = test()\n",
        "print(t) #on executing this line without defining __str__ function in test class, it was printing something like this:\n",
        "#<__main__.test object at 0x7f3a1f1133a0>\n",
        "#basically it is giving the address of object\n",
        "#but with the help of __str__ we have overloaded the default behaviour of printing a object\n"
      ]
    }
  ],
  "metadata": {
    "colab": {
      "provenance": []
    },
    "kernelspec": {
      "display_name": "Python 3.8.10 64-bit",
      "language": "python",
      "name": "python3"
    },
    "language_info": {
      "codemirror_mode": {
        "name": "ipython",
        "version": 3
      },
      "file_extension": ".py",
      "mimetype": "text/x-python",
      "name": "python",
      "nbconvert_exporter": "python",
      "pygments_lexer": "ipython3",
      "version": "3.8.10"
    },
    "vscode": {
      "interpreter": {
        "hash": "e7370f93d1d0cde622a1f8e1c04877d8463912d04d973331ad4851f04de6915a"
      }
    }
  },
  "nbformat": 4,
  "nbformat_minor": 0
}
