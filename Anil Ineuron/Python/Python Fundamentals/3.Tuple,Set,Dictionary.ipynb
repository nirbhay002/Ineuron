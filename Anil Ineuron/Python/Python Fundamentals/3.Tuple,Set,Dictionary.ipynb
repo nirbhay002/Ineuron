{
  "cells": [
    {
      "cell_type": "markdown",
      "metadata": {
        "id": "sh6baz6D_G1o"
      },
      "source": [
        "**TUPLES**"
      ]
    },
    {
      "cell_type": "code",
      "execution_count": 103,
      "metadata": {
        "id": "JK4tlzIP-1vH"
      },
      "outputs": [],
      "source": [
        "t= (1,2,3,4,5,6)"
      ]
    },
    {
      "cell_type": "code",
      "execution_count": 104,
      "metadata": {
        "colab": {
          "base_uri": "https://localhost:8080/"
        },
        "id": "HjV5BCYH_X4b",
        "outputId": "0ab29203-7530-4b46-bf91-64311dfc5646"
      },
      "outputs": [
        {
          "data": {
            "text/plain": [
              "tuple"
            ]
          },
          "execution_count": 104,
          "metadata": {},
          "output_type": "execute_result"
        }
      ],
      "source": [
        "type(t)"
      ]
    },
    {
      "cell_type": "code",
      "execution_count": 105,
      "metadata": {
        "id": "nInco7fs_ZT6"
      },
      "outputs": [],
      "source": [
        " t1=('yui',231,231.45,True)"
      ]
    },
    {
      "cell_type": "code",
      "execution_count": 106,
      "metadata": {
        "colab": {
          "base_uri": "https://localhost:8080/"
        },
        "id": "KuoOvrVHAAvp",
        "outputId": "c71c122d-103e-4ff9-ad4a-f92b70e134de"
      },
      "outputs": [
        {
          "data": {
            "text/plain": [
              "tuple"
            ]
          },
          "execution_count": 106,
          "metadata": {},
          "output_type": "execute_result"
        }
      ],
      "source": [
        "t2=()\n",
        "type(t2)"
      ]
    },
    {
      "cell_type": "code",
      "execution_count": 107,
      "metadata": {
        "colab": {
          "base_uri": "https://localhost:8080/"
        },
        "id": "dVASmO3rAUsH",
        "outputId": "db29c0d8-dcbe-4474-9df3-f9aa47fd8607"
      },
      "outputs": [
        {
          "data": {
            "text/plain": [
              "('yui', 231.45)"
            ]
          },
          "execution_count": 107,
          "metadata": {},
          "output_type": "execute_result"
        }
      ],
      "source": [
        "t1[0::2]"
      ]
    },
    {
      "cell_type": "code",
      "execution_count": 108,
      "metadata": {
        "colab": {
          "base_uri": "https://localhost:8080/"
        },
        "id": "0FhI1yfeAoPG",
        "outputId": "5842871f-0bbc-4071-b4c6-7a6726f4c6af"
      },
      "outputs": [
        {
          "data": {
            "text/plain": [
              "(True, 231.45, 231, 'yui')"
            ]
          },
          "execution_count": 108,
          "metadata": {},
          "output_type": "execute_result"
        }
      ],
      "source": [
        "t1[::-1]"
      ]
    },
    {
      "cell_type": "code",
      "execution_count": 109,
      "metadata": {
        "colab": {
          "base_uri": "https://localhost:8080/",
          "height": 172
        },
        "id": "aom11beVAxyG",
        "outputId": "a9a22ed8-9012-49a2-dda6-5483d91a4973"
      },
      "outputs": [
        {
          "ename": "TypeError",
          "evalue": "'tuple' object does not support item assignment",
          "output_type": "error",
          "traceback": [
            "\u001b[0;31m---------------------------------------------------------------------------\u001b[0m",
            "\u001b[0;31mTypeError\u001b[0m                                 Traceback (most recent call last)",
            "Cell \u001b[0;32mIn[109], line 1\u001b[0m\n\u001b[0;32m----> 1\u001b[0m \u001b[43mt1\u001b[49m\u001b[43m[\u001b[49m\u001b[38;5;241;43m0\u001b[39;49m\u001b[43m]\u001b[49m\u001b[38;5;241m=\u001b[39m\u001b[38;5;124m\"\u001b[39m\u001b[38;5;124mAnil\u001b[39m\u001b[38;5;124m\"\u001b[39m     \u001b[38;5;66;03m#tupples are immutable\u001b[39;00m\n",
            "\u001b[0;31mTypeError\u001b[0m: 'tuple' object does not support item assignment"
          ]
        }
      ],
      "source": [
        "t1[0]=\"Anil\"     #tupples are immutable"
      ]
    },
    {
      "cell_type": "code",
      "execution_count": null,
      "metadata": {
        "id": "Kog4Jbh3CEtU"
      },
      "outputs": [],
      "source": [
        "t3=('rty',567,564.12,True,False,3+7j)"
      ]
    },
    {
      "cell_type": "code",
      "execution_count": null,
      "metadata": {
        "colab": {
          "base_uri": "https://localhost:8080/"
        },
        "id": "yVses93sCY60",
        "outputId": "c6305259-0ec6-45ad-cb53-fc3bb97d30bd"
      },
      "outputs": [
        {
          "data": {
            "text/plain": [
              "('yui', 231, 231.45, True, 'rty', 567, 564.12, True, False, (3+7j))"
            ]
          },
          "execution_count": 9,
          "metadata": {},
          "output_type": "execute_result"
        }
      ],
      "source": [
        "t1+t3"
      ]
    },
    {
      "cell_type": "code",
      "execution_count": null,
      "metadata": {
        "colab": {
          "base_uri": "https://localhost:8080/"
        },
        "id": "Tv4WsoE8CbnD",
        "outputId": "48807a45-5312-4d6e-d727-56487d40ec49"
      },
      "outputs": [
        {
          "data": {
            "text/plain": [
              "('yui', 231, 231.45, True, 'yui', 231, 231.45, True)"
            ]
          },
          "execution_count": 10,
          "metadata": {},
          "output_type": "execute_result"
        }
      ],
      "source": [
        "t1*2"
      ]
    },
    {
      "cell_type": "code",
      "execution_count": null,
      "metadata": {
        "id": "dNzT37__C0Oy"
      },
      "outputs": [],
      "source": [
        "t4= (1,2,3,4,(3,4,5,6),(23,45,(3432345)))\n",
        "#nested tuple"
      ]
    },
    {
      "cell_type": "code",
      "execution_count": null,
      "metadata": {
        "colab": {
          "base_uri": "https://localhost:8080/"
        },
        "id": "CyaCoWISFKad",
        "outputId": "086db751-298f-4d55-9ac9-73b73de85158"
      },
      "outputs": [
        {
          "data": {
            "text/plain": [
              "tuple"
            ]
          },
          "execution_count": 12,
          "metadata": {},
          "output_type": "execute_result"
        }
      ],
      "source": [
        "type(t4)"
      ]
    },
    {
      "cell_type": "code",
      "execution_count": null,
      "metadata": {
        "id": "ZvP7n9kaFMd9"
      },
      "outputs": [],
      "source": [
        "tl=([1,2,3],345)"
      ]
    },
    {
      "cell_type": "code",
      "execution_count": null,
      "metadata": {
        "colab": {
          "base_uri": "https://localhost:8080/"
        },
        "id": "M9EaWVOrFfSN",
        "outputId": "fa734fb4-65bc-49a7-9724-f6fba5dac444"
      },
      "outputs": [
        {
          "data": {
            "text/plain": [
              "tuple"
            ]
          },
          "execution_count": 14,
          "metadata": {},
          "output_type": "execute_result"
        }
      ],
      "source": [
        "type(tl)"
      ]
    },
    {
      "cell_type": "code",
      "execution_count": null,
      "metadata": {
        "id": "cfrwwM4iFhas"
      },
      "outputs": [],
      "source": [
        "tl[0][2]=4\n",
        "#I am able to change the data in the list which is inside the tuple"
      ]
    },
    {
      "cell_type": "code",
      "execution_count": null,
      "metadata": {
        "colab": {
          "base_uri": "https://localhost:8080/",
          "height": 172
        },
        "id": "LJliDb1eF0Os",
        "outputId": "25d1311d-cedb-4161-cce2-11a3e74d48aa"
      },
      "outputs": [
        {
          "ename": "TypeError",
          "evalue": "ignored",
          "output_type": "error",
          "traceback": [
            "\u001b[0;31m---------------------------------------------------------------------------\u001b[0m",
            "\u001b[0;31mTypeError\u001b[0m                                 Traceback (most recent call last)",
            "\u001b[0;32m<ipython-input-16-6263df9cdab5>\u001b[0m in \u001b[0;36m<module>\u001b[0;34m\u001b[0m\n\u001b[0;32m----> 1\u001b[0;31m \u001b[0mtl\u001b[0m\u001b[0;34m[\u001b[0m\u001b[0;36m0\u001b[0m\u001b[0;34m]\u001b[0m\u001b[0;34m=\u001b[0m\u001b[0;34m'2'\u001b[0m\u001b[0;34m\u001b[0m\u001b[0;34m\u001b[0m\u001b[0m\n\u001b[0m",
            "\u001b[0;31mTypeError\u001b[0m: 'tuple' object does not support item assignment"
          ]
        }
      ],
      "source": [
        "tl[0]='2'"
      ]
    },
    {
      "cell_type": "code",
      "execution_count": null,
      "metadata": {
        "id": "yULhTDLZGFo6"
      },
      "outputs": [],
      "source": [
        "t7=[1,2,3,4,(34,43,56)]"
      ]
    },
    {
      "cell_type": "code",
      "execution_count": null,
      "metadata": {
        "colab": {
          "base_uri": "https://localhost:8080/",
          "height": 209
        },
        "id": "0oM8HiF_Gs7p",
        "outputId": "c7370ca8-548d-48b0-94c4-b5a8c62812e8"
      },
      "outputs": [
        {
          "ename": "TypeError",
          "evalue": "ignored",
          "output_type": "error",
          "traceback": [
            "\u001b[0;31m---------------------------------------------------------------------------\u001b[0m",
            "\u001b[0;31mTypeError\u001b[0m                                 Traceback (most recent call last)",
            "\u001b[0;32m<ipython-input-18-ccd5c1249f7d>\u001b[0m in \u001b[0;36m<module>\u001b[0;34m\u001b[0m\n\u001b[1;32m      1\u001b[0m \u001b[0;31m#we can not add tuples with list\u001b[0m\u001b[0;34m\u001b[0m\u001b[0;34m\u001b[0m\u001b[0;34m\u001b[0m\u001b[0m\n\u001b[0;32m----> 2\u001b[0;31m \u001b[0mt7\u001b[0m\u001b[0;34m+\u001b[0m\u001b[0mt4\u001b[0m\u001b[0;34m\u001b[0m\u001b[0;34m\u001b[0m\u001b[0m\n\u001b[0m\u001b[1;32m      3\u001b[0m \u001b[0;31m#Hetrogenous concatenation is not allowed\u001b[0m\u001b[0;34m\u001b[0m\u001b[0;34m\u001b[0m\u001b[0;34m\u001b[0m\u001b[0m\n",
            "\u001b[0;31mTypeError\u001b[0m: can only concatenate list (not \"tuple\") to list"
          ]
        }
      ],
      "source": [
        "#we can not add tuples with list\n",
        "t7+t4\n",
        "#Hetrogenous concatenation is not allowed"
      ]
    },
    {
      "cell_type": "code",
      "execution_count": null,
      "metadata": {
        "id": "s-qsHjsDHFgJ"
      },
      "outputs": [],
      "source": [
        "convertedList=[]\n",
        "convertedList= t4"
      ]
    },
    {
      "cell_type": "code",
      "execution_count": null,
      "metadata": {
        "colab": {
          "base_uri": "https://localhost:8080/"
        },
        "id": "IpDm2B7cHvL4",
        "outputId": "7cffebef-d0e1-41b8-e36d-5abfa2ad8232"
      },
      "outputs": [
        {
          "data": {
            "text/plain": [
              "(1, 2, 3, 4, (3, 4, 5, 6), (23, 45, 3432345))"
            ]
          },
          "execution_count": 20,
          "metadata": {},
          "output_type": "execute_result"
        }
      ],
      "source": [
        "convertedList"
      ]
    },
    {
      "cell_type": "code",
      "execution_count": null,
      "metadata": {
        "colab": {
          "base_uri": "https://localhost:8080/"
        },
        "id": "IgEEfFS3H6lX",
        "outputId": "257d8c99-d317-42a8-ea0a-e5d3d1ab63b5"
      },
      "outputs": [
        {
          "data": {
            "text/plain": [
              "tuple"
            ]
          },
          "execution_count": 21,
          "metadata": {},
          "output_type": "execute_result"
        }
      ],
      "source": [
        "type(convertedList)"
      ]
    },
    {
      "cell_type": "code",
      "execution_count": null,
      "metadata": {
        "id": "t0JkAcXXIHAH"
      },
      "outputs": [],
      "source": [
        "convertedListThroughFun= list(t1)"
      ]
    },
    {
      "cell_type": "code",
      "execution_count": null,
      "metadata": {
        "colab": {
          "base_uri": "https://localhost:8080/"
        },
        "id": "yn8GQA4BIgRV",
        "outputId": "97fe795c-f60a-4ce1-9559-7713cd93c828"
      },
      "outputs": [
        {
          "data": {
            "text/plain": [
              "list"
            ]
          },
          "execution_count": 23,
          "metadata": {},
          "output_type": "execute_result"
        }
      ],
      "source": [
        "type(convertedListThroughFun)"
      ]
    },
    {
      "cell_type": "code",
      "execution_count": null,
      "metadata": {
        "id": "YDoVUInhInvF"
      },
      "outputs": [],
      "source": [
        "convertedTupleThroughFunc= tuple(convertedListThroughFun)"
      ]
    },
    {
      "cell_type": "code",
      "execution_count": null,
      "metadata": {
        "colab": {
          "base_uri": "https://localhost:8080/"
        },
        "id": "08VaHMIuIyQF",
        "outputId": "1a05284e-9a56-4e6b-ab99-8f0dc41b0623"
      },
      "outputs": [
        {
          "data": {
            "text/plain": [
              "tuple"
            ]
          },
          "execution_count": 25,
          "metadata": {},
          "output_type": "execute_result"
        }
      ],
      "source": [
        "type(convertedTupleThroughFunc)\n"
      ]
    },
    {
      "cell_type": "markdown",
      "metadata": {
        "id": "9jRtVJBFJApR"
      },
      "source": [
        "**SET**"
      ]
    },
    {
      "cell_type": "code",
      "execution_count": null,
      "metadata": {
        "id": "ESHRnREmI42U"
      },
      "outputs": [],
      "source": [
        "#let take a scenario in our collection we have multiple duplicate element , best easy way to do convert the given collection into set, lest see how"
      ]
    },
    {
      "cell_type": "code",
      "execution_count": null,
      "metadata": {
        "colab": {
          "base_uri": "https://localhost:8080/"
        },
        "id": "BMRZo_9VJ0ck",
        "outputId": "04eda06a-66d2-4ade-c6ad-52b718447acc"
      },
      "outputs": [
        {
          "data": {
            "text/plain": [
              "tuple"
            ]
          },
          "execution_count": 35,
          "metadata": {},
          "output_type": "execute_result"
        }
      ],
      "source": [
        "s=(1,2,3,4,5,6,1,2,3,4,54,56,32)\n",
        "type(s)"
      ]
    },
    {
      "cell_type": "code",
      "execution_count": null,
      "metadata": {
        "colab": {
          "base_uri": "https://localhost:8080/"
        },
        "id": "F0imavnVJ-qD",
        "outputId": "989ad68e-96f8-40c5-a510-98dd68e30333"
      },
      "outputs": [
        {
          "data": {
            "text/plain": [
              "set"
            ]
          },
          "execution_count": 36,
          "metadata": {},
          "output_type": "execute_result"
        }
      ],
      "source": [
        "FirstSet= set(s)\n",
        "type(FirstSet)"
      ]
    },
    {
      "cell_type": "code",
      "execution_count": null,
      "metadata": {
        "colab": {
          "base_uri": "https://localhost:8080/"
        },
        "id": "eS4jqkxLKHND",
        "outputId": "d2a52cb1-522a-445f-eddd-03fb0ad1cc79"
      },
      "outputs": [
        {
          "data": {
            "text/plain": [
              "{1, 2, 3, 4, 5, 6, 32, 54, 56}"
            ]
          },
          "execution_count": 37,
          "metadata": {},
          "output_type": "execute_result"
        }
      ],
      "source": [
        "FirstSet\n",
        "#see all the duplicates get removed"
      ]
    },
    {
      "cell_type": "code",
      "execution_count": null,
      "metadata": {
        "colab": {
          "base_uri": "https://localhost:8080/"
        },
        "id": "HjPXKFXCKSez",
        "outputId": "e64c2c9b-5a29-47dc-a688-9b9ff7048be9"
      },
      "outputs": [
        {
          "data": {
            "text/plain": [
              "dict"
            ]
          },
          "execution_count": 38,
          "metadata": {},
          "output_type": "execute_result"
        }
      ],
      "source": [
        "ExpectedTbobeSet= {}\n",
        "type(ExpectedTbobeSet)"
      ]
    },
    {
      "cell_type": "code",
      "execution_count": null,
      "metadata": {
        "colab": {
          "base_uri": "https://localhost:8080/"
        },
        "id": "LtAOZjneLOcQ",
        "outputId": "e4a4fdbc-2786-418e-af52-805e1305572b"
      },
      "outputs": [
        {
          "data": {
            "text/plain": [
              "set"
            ]
          },
          "execution_count": 39,
          "metadata": {},
          "output_type": "execute_result"
        }
      ],
      "source": [
        "ExpectedTobeSETsecond= {1,2,3}\n",
        "type(ExpectedTobeSETsecond)"
      ]
    },
    {
      "cell_type": "code",
      "execution_count": null,
      "metadata": {
        "colab": {
          "base_uri": "https://localhost:8080/",
          "height": 172
        },
        "id": "Oj8u2rlgLhQf",
        "outputId": "732232a3-1c22-4ec2-b959-fae6d14f4a8b"
      },
      "outputs": [
        {
          "ename": "TypeError",
          "evalue": "'set' object is not subscriptable",
          "output_type": "error",
          "traceback": [
            "\u001b[0;31m---------------------------------------------------------------------------\u001b[0m",
            "\u001b[0;31mTypeError\u001b[0m                                 Traceback (most recent call last)",
            "Cell \u001b[0;32mIn[40], line 1\u001b[0m\n\u001b[0;32m----> 1\u001b[0m \u001b[43mFirstSet\u001b[49m\u001b[43m[\u001b[49m\u001b[38;5;241;43m0\u001b[39;49m\u001b[43m]\u001b[49m\n",
            "\u001b[0;31mTypeError\u001b[0m: 'set' object is not subscriptable"
          ]
        }
      ],
      "source": [
        "FirstSet[0]"
      ]
    },
    {
      "cell_type": "code",
      "execution_count": null,
      "metadata": {
        "colab": {
          "base_uri": "https://localhost:8080/"
        },
        "id": "iWLtS6lbbq4t",
        "outputId": "08fc1d3e-27ff-4d10-f9c6-7d8f5ae0dca1"
      },
      "outputs": [
        {
          "data": {
            "text/plain": [
              "[32, 1, 2, 3, 4, 5, 6, 54, 56]"
            ]
          },
          "execution_count": 33,
          "metadata": {},
          "output_type": "execute_result"
        }
      ],
      "source": [
        "#To access youhave to convert it into list\n",
        "list(FirstSet)"
      ]
    },
    {
      "cell_type": "code",
      "execution_count": null,
      "metadata": {
        "colab": {
          "base_uri": "https://localhost:8080/"
        },
        "id": "B6r7Z2kUcVyr",
        "outputId": "699da6e7-52d5-4b68-cb84-c075f2eece37"
      },
      "outputs": [
        {
          "data": {
            "text/plain": [
              "{1, 2, 3, 32, 4, 5, 54, 56, 6, 'fgdhj'}"
            ]
          },
          "execution_count": 41,
          "metadata": {},
          "output_type": "execute_result"
        }
      ],
      "source": [
        "FirstSet.add(\"fgdhj\")\n",
        "FirstSet"
      ]
    },
    {
      "cell_type": "code",
      "execution_count": null,
      "metadata": {
        "colab": {
          "base_uri": "https://localhost:8080/",
          "height": 172
        },
        "id": "CcOEZoT0ctN6",
        "outputId": "68ce0ee1-de55-4f31-e249-8aaa0beefc8a"
      },
      "outputs": [
        {
          "ename": "TypeError",
          "evalue": "unhashable type: 'list'",
          "output_type": "error",
          "traceback": [
            "\u001b[0;31m---------------------------------------------------------------------------\u001b[0m",
            "\u001b[0;31mTypeError\u001b[0m                                 Traceback (most recent call last)",
            "Cell \u001b[0;32mIn[42], line 1\u001b[0m\n\u001b[0;32m----> 1\u001b[0m \u001b[43mFirstSet\u001b[49m\u001b[38;5;241;43m.\u001b[39;49m\u001b[43madd\u001b[49m\u001b[43m(\u001b[49m\u001b[43m[\u001b[49m\u001b[38;5;241;43m1\u001b[39;49m\u001b[43m,\u001b[49m\u001b[38;5;241;43m3\u001b[39;49m\u001b[43m,\u001b[49m\u001b[38;5;241;43m4\u001b[39;49m\u001b[43m]\u001b[49m\u001b[43m)\u001b[49m\n",
            "\u001b[0;31mTypeError\u001b[0m: unhashable type: 'list'"
          ]
        }
      ],
      "source": [
        "FirstSet.add([1,3,4])"
      ]
    },
    {
      "cell_type": "code",
      "execution_count": null,
      "metadata": {
        "id": "2FGlc79pdNS5"
      },
      "outputs": [],
      "source": [
        "FirstSet.add((1,3,4))"
      ]
    },
    {
      "cell_type": "code",
      "execution_count": null,
      "metadata": {
        "colab": {
          "base_uri": "https://localhost:8080/"
        },
        "id": "8B7XacRceMTI",
        "outputId": "1c15d5be-2938-4d0e-aefb-222a7a1f31cf"
      },
      "outputs": [
        {
          "data": {
            "text/plain": [
              "{(1, 3, 4), 1, 2, 3, 32, 4, 5, 54, 56, 6, 'fgdhj'}"
            ]
          },
          "execution_count": 44,
          "metadata": {},
          "output_type": "execute_result"
        }
      ],
      "source": [
        "FirstSet"
      ]
    },
    {
      "cell_type": "code",
      "execution_count": null,
      "metadata": {
        "id": "7z3sNeGKePdX"
      },
      "outputs": [],
      "source": [
        "FirstSet.add((1,3,4)) #it removes similar tuples as well"
      ]
    },
    {
      "cell_type": "code",
      "execution_count": null,
      "metadata": {
        "colab": {
          "base_uri": "https://localhost:8080/"
        },
        "id": "ATqKCUU_ABjM",
        "outputId": "20c1d052-8812-40b5-8675-cfeae47d9d2c"
      },
      "outputs": [
        {
          "data": {
            "text/plain": [
              "{(1, 3, 4), 1, 2, 3, 32, 4, 5, 54, 56, 6, 'fgdhj'}"
            ]
          },
          "execution_count": 46,
          "metadata": {},
          "output_type": "execute_result"
        }
      ],
      "source": [
        "FirstSet"
      ]
    },
    {
      "cell_type": "code",
      "execution_count": null,
      "metadata": {
        "id": "cZOqr367ADAL"
      },
      "outputs": [],
      "source": [
        "#list to set , tuple to set all are possible \n",
        "FirstSet.remove(2)\n"
      ]
    },
    {
      "cell_type": "code",
      "execution_count": null,
      "metadata": {
        "id": "_xxHt5YJAxd6"
      },
      "outputs": [],
      "source": [
        "FirstSet.discard(3)"
      ]
    },
    {
      "cell_type": "code",
      "execution_count": null,
      "metadata": {
        "colab": {
          "base_uri": "https://localhost:8080/",
          "height": 172
        },
        "id": "LH7GvTkrBTvp",
        "outputId": "b0674acc-7848-4849-8b71-99abe3e7dbee"
      },
      "outputs": [
        {
          "ename": "TypeError",
          "evalue": "'set' object is not subscriptable",
          "output_type": "error",
          "traceback": [
            "\u001b[0;31m---------------------------------------------------------------------------\u001b[0m",
            "\u001b[0;31mTypeError\u001b[0m                                 Traceback (most recent call last)",
            "Cell \u001b[0;32mIn[49], line 1\u001b[0m\n\u001b[0;32m----> 1\u001b[0m \u001b[43mFirstSet\u001b[49m\u001b[43m[\u001b[49m\u001b[38;5;241;43m0\u001b[39;49m\u001b[43m]\u001b[49m\n",
            "\u001b[0;31mTypeError\u001b[0m: 'set' object is not subscriptable"
          ]
        }
      ],
      "source": [
        "FirstSet[0]"
      ]
    },
    {
      "cell_type": "code",
      "execution_count": null,
      "metadata": {
        "colab": {
          "base_uri": "https://localhost:8080/"
        },
        "id": "FpmS6ofKH8jb",
        "outputId": "415b5fa2-0f9b-4c1a-da08-15852b7a309b"
      },
      "outputs": [
        {
          "data": {
            "text/plain": [
              "{'Sudh'}"
            ]
          },
          "execution_count": 48,
          "metadata": {},
          "output_type": "execute_result"
        }
      ],
      "source": [
        "{\"Sudh\",\"Sudh\"}"
      ]
    },
    {
      "cell_type": "code",
      "execution_count": null,
      "metadata": {
        "colab": {
          "base_uri": "https://localhost:8080/"
        },
        "id": "Sq-iyn3sIUCK",
        "outputId": "229292dc-f767-46ed-b920-9285a136382c"
      },
      "outputs": [
        {
          "data": {
            "text/plain": [
              "{'Sudh', 'sudh'}"
            ]
          },
          "execution_count": 49,
          "metadata": {},
          "output_type": "execute_result"
        }
      ],
      "source": [
        "{\"Sudh\",\"sudh\"}"
      ]
    },
    {
      "cell_type": "markdown",
      "metadata": {
        "id": "ytYbvQmiIgQL"
      },
      "source": [
        "**DICTIONARY**"
      ]
    },
    {
      "cell_type": "code",
      "execution_count": 113,
      "metadata": {
        "colab": {
          "base_uri": "https://localhost:8080/"
        },
        "id": "3T_wZ4XTIYHp",
        "outputId": "789a2e09-2004-4ed5-f16d-180b715138c6"
      },
      "outputs": [
        {
          "data": {
            "text/plain": [
              "dict"
            ]
          },
          "execution_count": 113,
          "metadata": {},
          "output_type": "execute_result"
        }
      ],
      "source": [
        "d={}\n",
        "type(d)"
      ]
    },
    {
      "cell_type": "code",
      "execution_count": null,
      "metadata": {
        "colab": {
          "base_uri": "https://localhost:8080/"
        },
        "id": "3l9EfOH4QEpq",
        "outputId": "a3be51d1-0ec8-4922-97cb-cfa757f903db"
      },
      "outputs": [
        {
          "data": {
            "text/plain": [
              "dict"
            ]
          },
          "execution_count": 51,
          "metadata": {},
          "output_type": "execute_result"
        }
      ],
      "source": [
        "d1={3:\"ANIL\"}\n",
        "type(d1)"
      ]
    },
    {
      "cell_type": "code",
      "execution_count": null,
      "metadata": {
        "id": "2g-Hdd0YQfyo"
      },
      "outputs": [],
      "source": [
        "d3={\"key1\":234, \"Key2\":\"Anil\" ,\"Key3\":[1,2,3,4,5,6],\"Key4\":(1,2,3,4,5),\"Key5\":{1,2,3,4,5,67}}"
      ]
    },
    {
      "cell_type": "code",
      "execution_count": null,
      "metadata": {
        "colab": {
          "base_uri": "https://localhost:8080/"
        },
        "id": "PVFIrhLyRKJm",
        "outputId": "59fd13c7-80bf-420b-956f-a551cb18cf29"
      },
      "outputs": [
        {
          "data": {
            "text/plain": [
              "{'key1': 234,\n",
              " 'Key2': 'Anil',\n",
              " 'Key3': [1, 2, 3, 4, 5, 6],\n",
              " 'Key4': (1, 2, 3, 4, 5),\n",
              " 'Key5': {1, 2, 3, 4, 5, 67}}"
            ]
          },
          "execution_count": 81,
          "metadata": {},
          "output_type": "execute_result"
        }
      ],
      "source": [
        "d3"
      ]
    },
    {
      "cell_type": "code",
      "execution_count": null,
      "metadata": {
        "colab": {
          "base_uri": "https://localhost:8080/"
        },
        "id": "KVk7okBMRLYW",
        "outputId": "9eb8db8a-4726-417e-c106-56647ef95fd0"
      },
      "outputs": [
        {
          "data": {
            "text/plain": [
              "234"
            ]
          },
          "execution_count": 84,
          "metadata": {},
          "output_type": "execute_result"
        }
      ],
      "source": [
        "d3['key1']"
      ]
    },
    {
      "cell_type": "code",
      "execution_count": null,
      "metadata": {
        "colab": {
          "base_uri": "https://localhost:8080/",
          "height": 136
        },
        "id": "pyMVqKmsRW_2",
        "outputId": "a956d7e8-b488-44ff-9c5b-ae9dececad6e"
      },
      "outputs": [
        {
          "ename": "SyntaxError",
          "evalue": "ignored",
          "output_type": "error",
          "traceback": [
            "\u001b[0;36m  File \u001b[0;32m\"<ipython-input-61-df66294721ff>\"\u001b[0;36m, line \u001b[0;32m1\u001b[0m\n\u001b[0;31m    d4={@:\"AnilKamat\"}\u001b[0m\n\u001b[0m        ^\u001b[0m\n\u001b[0;31mSyntaxError\u001b[0m\u001b[0;31m:\u001b[0m invalid syntax\n"
          ]
        }
      ],
      "source": [
        "d4={@:\"AnilKamat\"}"
      ]
    },
    {
      "cell_type": "code",
      "execution_count": null,
      "metadata": {
        "id": "XJPQ8cKQSXnz"
      },
      "outputs": [],
      "source": [
        "d4={.3:\"HJU=\"}"
      ]
    },
    {
      "cell_type": "code",
      "execution_count": 136,
      "metadata": {
        "colab": {
          "base_uri": "https://localhost:8080/"
        },
        "id": "EggtNfF_S-Cj",
        "outputId": "06c3502f-54b2-45e7-8c6d-2b4e18cfcb81"
      },
      "outputs": [
        {
          "data": {
            "text/plain": [
              "{'key1': [1, 2, 3, 4, 5, 6], 'key2': 345}"
            ]
          },
          "execution_count": 136,
          "metadata": {},
          "output_type": "execute_result"
        }
      ],
      "source": [
        "d5={\"key1\":234, \"key2\":345, \"key1\":[1,2,3,4,5,6]}\n",
        "d5"
      ]
    },
    {
      "cell_type": "code",
      "execution_count": 137,
      "metadata": {
        "colab": {
          "base_uri": "https://localhost:8080/"
        },
        "id": "TiYAKc0yTynR",
        "outputId": "08b6e693-6cb7-48d6-d70f-bb9be7d6587c"
      },
      "outputs": [
        {
          "data": {
            "text/plain": [
              "[1, 2, 3, 4, 5, 6]"
            ]
          },
          "execution_count": 137,
          "metadata": {},
          "output_type": "execute_result"
        }
      ],
      "source": [
        "d5['key1']"
      ]
    },
    {
      "cell_type": "code",
      "execution_count": 110,
      "metadata": {
        "colab": {
          "base_uri": "https://localhost:8080/",
          "height": 172
        },
        "id": "YvhAWte2T55R",
        "outputId": "0b4829ab-722d-4e26-9237-e0e99b8b43f4"
      },
      "outputs": [
        {
          "ename": "TypeError",
          "evalue": "unhashable type: 'list'",
          "output_type": "error",
          "traceback": [
            "\u001b[0;31m---------------------------------------------------------------------------\u001b[0m",
            "\u001b[0;31mTypeError\u001b[0m                                 Traceback (most recent call last)",
            "Cell \u001b[0;32mIn[110], line 1\u001b[0m\n\u001b[0;32m----> 1\u001b[0m d6\u001b[38;5;241m=\u001b[39m{[\u001b[38;5;241m1\u001b[39m,\u001b[38;5;241m2\u001b[39m,\u001b[38;5;241m3\u001b[39m,\u001b[38;5;241m4\u001b[39m,\u001b[38;5;241m5\u001b[39m]:\u001b[38;5;124m\"\u001b[39m\u001b[38;5;124msudhanshu\u001b[39m\u001b[38;5;124m\"\u001b[39m}\n",
            "\u001b[0;31mTypeError\u001b[0m: unhashable type: 'list'"
          ]
        }
      ],
      "source": [
        "d6={[1,2,3,4,5]:\"sudhanshu\"}"
      ]
    },
    {
      "cell_type": "code",
      "execution_count": 111,
      "metadata": {
        "id": "PhCLc3GVWZIG"
      },
      "outputs": [],
      "source": [
        "d6={\"[1,2,3,4,5]\":\"sudhanshu\"}"
      ]
    },
    {
      "cell_type": "code",
      "execution_count": 138,
      "metadata": {
        "colab": {
          "base_uri": "https://localhost:8080/"
        },
        "id": "vB2Hr733Wf8L",
        "outputId": "edd65f67-6b1f-48f6-fea8-c0c876683a01"
      },
      "outputs": [
        {
          "data": {
            "text/plain": [
              "4"
            ]
          },
          "execution_count": 138,
          "metadata": {},
          "output_type": "execute_result"
        }
      ],
      "source": [
        "d5[\"key1\"][3]"
      ]
    },
    {
      "cell_type": "code",
      "execution_count": 114,
      "metadata": {
        "colab": {
          "base_uri": "https://localhost:8080/"
        },
        "id": "e4UNZWxxXThJ",
        "outputId": "8f0ac7f7-9411-4290-ecfa-2bb1e74ed4d5"
      },
      "outputs": [
        {
          "data": {
            "text/plain": [
              "dict_keys([])"
            ]
          },
          "execution_count": 114,
          "metadata": {},
          "output_type": "execute_result"
        }
      ],
      "source": [
        "d.keys()"
      ]
    },
    {
      "cell_type": "code",
      "execution_count": 139,
      "metadata": {
        "colab": {
          "base_uri": "https://localhost:8080/"
        },
        "id": "dWDtJFpAXc8J",
        "outputId": "35355b6c-f4cf-4711-97ab-e5233ea0b299"
      },
      "outputs": [
        {
          "data": {
            "text/plain": [
              "dict_keys(['key1', 'key2'])"
            ]
          },
          "execution_count": 139,
          "metadata": {},
          "output_type": "execute_result"
        }
      ],
      "source": [
        "d5.keys()      #print all keys"
      ]
    },
    {
      "cell_type": "code",
      "execution_count": 140,
      "metadata": {},
      "outputs": [
        {
          "data": {
            "text/plain": [
              "dict_values([[1, 2, 3, 4, 5, 6], 345])"
            ]
          },
          "execution_count": 140,
          "metadata": {},
          "output_type": "execute_result"
        }
      ],
      "source": [
        "d5.values()"
      ]
    },
    {
      "cell_type": "code",
      "execution_count": null,
      "metadata": {
        "colab": {
          "base_uri": "https://localhost:8080/"
        },
        "id": "GujJCqUFXkWJ",
        "outputId": "7b30920f-ec47-4f74-80a8-8be36ad182ef"
      },
      "outputs": [
        {
          "data": {
            "text/plain": [
              "dict_items([('key1', 234), ('Key2', 'Anil'), ('Key3', [1, 2, 3, 4, 5, 6]), ('Key4', (1, 2, 3, 4, 5)), ('Key5', {1, 2, 3, 4, 5, 67})])"
            ]
          },
          "execution_count": 79,
          "metadata": {},
          "output_type": "execute_result"
        }
      ],
      "source": [
        "d3.items() #print key and key value pair as a list of tuples"
      ]
    },
    {
      "cell_type": "code",
      "execution_count": 120,
      "metadata": {
        "colab": {
          "base_uri": "https://localhost:8080/"
        },
        "id": "5UmAzMOYYDmI",
        "outputId": "6879a541-4602-4b0d-8707-796bb542174b"
      },
      "outputs": [
        {
          "data": {
            "text/plain": [
              "dict_items"
            ]
          },
          "execution_count": 120,
          "metadata": {},
          "output_type": "execute_result"
        }
      ],
      "source": [
        "s7=d3.items()\n",
        "type(s7)"
      ]
    },
    {
      "cell_type": "code",
      "execution_count": 141,
      "metadata": {
        "id": "q3Q_Br1jYWPI"
      },
      "outputs": [],
      "source": [
        "d5[\"keyUN\"]=123323"
      ]
    },
    {
      "cell_type": "code",
      "execution_count": 142,
      "metadata": {
        "colab": {
          "base_uri": "https://localhost:8080/"
        },
        "id": "msJIOQ-YZQhF",
        "outputId": "8041239b-6cef-4827-b944-1d41e869ac10"
      },
      "outputs": [
        {
          "data": {
            "text/plain": [
              "{'key1': [1, 2, 3, 4, 5, 6], 'key2': 345, 'keyUN': 123323}"
            ]
          },
          "execution_count": 142,
          "metadata": {},
          "output_type": "execute_result"
        }
      ],
      "source": [
        "d5"
      ]
    },
    {
      "cell_type": "code",
      "execution_count": 143,
      "metadata": {
        "id": "pQF-PyWnZReF"
      },
      "outputs": [],
      "source": [
        "d5['key1']= 156775"
      ]
    },
    {
      "cell_type": "code",
      "execution_count": 144,
      "metadata": {
        "colab": {
          "base_uri": "https://localhost:8080/"
        },
        "id": "8XTB8YV6Zi-0",
        "outputId": "a10bff60-4f8f-45aa-b41f-7027553cc3b6"
      },
      "outputs": [
        {
          "data": {
            "text/plain": [
              "{'key1': 156775, 'key2': 345, 'keyUN': 123323}"
            ]
          },
          "execution_count": 144,
          "metadata": {},
          "output_type": "execute_result"
        }
      ],
      "source": [
        "d5"
      ]
    },
    {
      "cell_type": "code",
      "execution_count": 145,
      "metadata": {
        "id": "zOds-qYCZkAk"
      },
      "outputs": [],
      "source": [
        "del d5['key1']"
      ]
    },
    {
      "cell_type": "code",
      "execution_count": 146,
      "metadata": {
        "id": "vl5KXGsLaGIz"
      },
      "outputs": [
        {
          "data": {
            "text/plain": [
              "{'key2': 345, 'keyUN': 123323}"
            ]
          },
          "execution_count": 146,
          "metadata": {},
          "output_type": "execute_result"
        }
      ],
      "source": [
        "d5"
      ]
    },
    {
      "cell_type": "code",
      "execution_count": null,
      "metadata": {},
      "outputs": [],
      "source": [
        "del d5"
      ]
    },
    {
      "cell_type": "code",
      "execution_count": 134,
      "metadata": {
        "colab": {
          "base_uri": "https://localhost:8080/",
          "height": 172
        },
        "id": "imYHJQwraKMT",
        "outputId": "6c80de37-9758-4fdb-b45d-0c67250ada98"
      },
      "outputs": [
        {
          "ename": "NameError",
          "evalue": "name 'd5' is not defined",
          "output_type": "error",
          "traceback": [
            "\u001b[0;31m---------------------------------------------------------------------------\u001b[0m",
            "\u001b[0;31mNameError\u001b[0m                                 Traceback (most recent call last)",
            "Cell \u001b[0;32mIn[134], line 1\u001b[0m\n\u001b[0;32m----> 1\u001b[0m \u001b[43md5\u001b[49m\n",
            "\u001b[0;31mNameError\u001b[0m: name 'd5' is not defined"
          ]
        }
      ],
      "source": [
        "d5"
      ]
    },
    {
      "cell_type": "code",
      "execution_count": 157,
      "metadata": {
        "id": "cA2p4woHaMPT"
      },
      "outputs": [],
      "source": [
        "d7={(1,2,3,4,6):\"AnilKamat\"} #key as Tuple works , but key as List doesn;t work"
      ]
    },
    {
      "cell_type": "code",
      "execution_count": 151,
      "metadata": {
        "colab": {
          "base_uri": "https://localhost:8080/",
          "height": 172
        },
        "id": "sV7AexO-av3s",
        "outputId": "0a911a8c-80b9-43d8-8cda-efc72a1033f9"
      },
      "outputs": [
        {
          "data": {
            "text/plain": [
              "'AnilKamat'"
            ]
          },
          "execution_count": 151,
          "metadata": {},
          "output_type": "execute_result"
        }
      ],
      "source": [
        "d7[(1,2,3,4,6)]"
      ]
    },
    {
      "cell_type": "code",
      "execution_count": 152,
      "metadata": {
        "id": "1ZhTVsdWbISR"
      },
      "outputs": [],
      "source": [
        "d7.get(\"(1,2)\")"
      ]
    },
    {
      "cell_type": "code",
      "execution_count": 153,
      "metadata": {},
      "outputs": [
        {
          "data": {
            "text/plain": [
              "'AnilKamat'"
            ]
          },
          "execution_count": 153,
          "metadata": {},
          "output_type": "execute_result"
        }
      ],
      "source": [
        "d7.get((1,2,3,4,6))"
      ]
    },
    {
      "cell_type": "code",
      "execution_count": 155,
      "metadata": {},
      "outputs": [
        {
          "data": {
            "text/plain": [
              "{'key1': 234,\n",
              " 'Key2': 'Anil',\n",
              " 'Key3': [1, 2, 3, 4, 5, 6],\n",
              " 'Key4': (1, 2, 3, 4, 5),\n",
              " 'Key5': {1, 2, 3, 4, 5, 67}}"
            ]
          },
          "execution_count": 155,
          "metadata": {},
          "output_type": "execute_result"
        }
      ],
      "source": [
        "d3"
      ]
    },
    {
      "cell_type": "code",
      "execution_count": 158,
      "metadata": {},
      "outputs": [
        {
          "data": {
            "text/plain": [
              "{(1, 2, 3, 4, 6): 'AnilKamat'}"
            ]
          },
          "execution_count": 158,
          "metadata": {},
          "output_type": "execute_result"
        }
      ],
      "source": [
        "d7"
      ]
    },
    {
      "cell_type": "code",
      "execution_count": 159,
      "metadata": {
        "id": "OiFI89YMbMmh"
      },
      "outputs": [],
      "source": [
        "d7.update(d3)"
      ]
    },
    {
      "cell_type": "code",
      "execution_count": 160,
      "metadata": {
        "colab": {
          "base_uri": "https://localhost:8080/"
        },
        "id": "I5MwWv-efmbX",
        "outputId": "bc9d2bec-6a58-407a-f13b-32fe986841f1"
      },
      "outputs": [
        {
          "data": {
            "text/plain": [
              "{(1, 2, 3, 4, 6): 'AnilKamat',\n",
              " 'key1': 234,\n",
              " 'Key2': 'Anil',\n",
              " 'Key3': [1, 2, 3, 4, 5, 6],\n",
              " 'Key4': (1, 2, 3, 4, 5),\n",
              " 'Key5': {1, 2, 3, 4, 5, 67}}"
            ]
          },
          "execution_count": 160,
          "metadata": {},
          "output_type": "execute_result"
        }
      ],
      "source": [
        "d7"
      ]
    },
    {
      "cell_type": "code",
      "execution_count": 161,
      "metadata": {},
      "outputs": [
        {
          "ename": "TypeError",
          "evalue": "unsupported operand type(s) for +: 'dict' and 'dict'",
          "output_type": "error",
          "traceback": [
            "\u001b[0;31m---------------------------------------------------------------------------\u001b[0m",
            "\u001b[0;31mTypeError\u001b[0m                                 Traceback (most recent call last)",
            "Cell \u001b[0;32mIn[161], line 1\u001b[0m\n\u001b[0;32m----> 1\u001b[0m \u001b[43md3\u001b[49m\u001b[38;5;241;43m+\u001b[39;49m\u001b[43md7\u001b[49m\n",
            "\u001b[0;31mTypeError\u001b[0m: unsupported operand type(s) for +: 'dict' and 'dict'"
          ]
        }
      ],
      "source": [
        "d3+d7     # + operation doesn't work in case of dict"
      ]
    },
    {
      "cell_type": "code",
      "execution_count": null,
      "metadata": {
        "id": "X7c_GjMZfnUX"
      },
      "outputs": [],
      "source": [
        "Key=(\"Anil\", \"kamat\", \"BCA\")\n",
        "Value= (\"sudh\", \"krish\", \"Sunny\" )\n",
        "dw={}"
      ]
    },
    {
      "cell_type": "code",
      "execution_count": null,
      "metadata": {
        "id": "AQHhOOk8gywV"
      },
      "outputs": [],
      "source": [
        "s3=dw.fromkeys(Key,Value)"
      ]
    },
    {
      "cell_type": "code",
      "execution_count": null,
      "metadata": {
        "colab": {
          "base_uri": "https://localhost:8080/"
        },
        "id": "JmAPNv9Ag89F",
        "outputId": "c4b242a1-7833-4385-e7de-a4530808e996"
      },
      "outputs": [
        {
          "data": {
            "text/plain": [
              "{'Anil': ('sudh', 'krish', 'Sunny'),\n",
              " 'kamat': ('sudh', 'krish', 'Sunny'),\n",
              " 'BCA': ('sudh', 'krish', 'Sunny')}"
            ]
          },
          "execution_count": 115,
          "metadata": {},
          "output_type": "execute_result"
        }
      ],
      "source": [
        "s3"
      ]
    }
  ],
  "metadata": {
    "colab": {
      "provenance": []
    },
    "kernelspec": {
      "display_name": "Python 3.8.10 64-bit",
      "language": "python",
      "name": "python3"
    },
    "language_info": {
      "codemirror_mode": {
        "name": "ipython",
        "version": 3
      },
      "file_extension": ".py",
      "mimetype": "text/x-python",
      "name": "python",
      "nbconvert_exporter": "python",
      "pygments_lexer": "ipython3",
      "version": "3.8.10"
    },
    "vscode": {
      "interpreter": {
        "hash": "e7370f93d1d0cde622a1f8e1c04877d8463912d04d973331ad4851f04de6915a"
      }
    }
  },
  "nbformat": 4,
  "nbformat_minor": 0
}
