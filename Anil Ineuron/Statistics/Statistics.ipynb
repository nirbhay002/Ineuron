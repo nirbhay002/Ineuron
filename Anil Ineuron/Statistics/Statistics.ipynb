{
  "nbformat": 4,
  "nbformat_minor": 0,
  "metadata": {
    "colab": {
      "provenance": []
    },
    "kernelspec": {
      "name": "python3",
      "display_name": "Python 3"
    },
    "language_info": {
      "name": "python"
    }
  },
  "cells": [
    {
      "cell_type": "code",
      "execution_count": 68,
      "metadata": {
        "id": "gxT9h4wk8W0w"
      },
      "outputs": [],
      "source": [
        "import seaborn as sns\n",
        "import matplotlib.pyplot as plt\n",
        "import numpy as np\n",
        "%matplotlib inline\n",
        "import pandas as pd\n",
        " # above line is used to display graph itself in the notebook"
      ]
    },
    {
      "cell_type": "code",
      "source": [
        "import statistics"
      ],
      "metadata": {
        "id": "srBw0XZI8qsn"
      },
      "execution_count": 69,
      "outputs": []
    },
    {
      "cell_type": "code",
      "source": [
        "sns.load_dataset('iris')"
      ],
      "metadata": {
        "colab": {
          "base_uri": "https://localhost:8080/",
          "height": 423
        },
        "id": "J9cje0cq88L8",
        "outputId": "9180b2d2-c08f-4cee-fb76-02fd95c817fc"
      },
      "execution_count": 70,
      "outputs": [
        {
          "output_type": "execute_result",
          "data": {
            "text/plain": [
              "     sepal_length  sepal_width  petal_length  petal_width    species\n",
              "0             5.1          3.5           1.4          0.2     setosa\n",
              "1             4.9          3.0           1.4          0.2     setosa\n",
              "2             4.7          3.2           1.3          0.2     setosa\n",
              "3             4.6          3.1           1.5          0.2     setosa\n",
              "4             5.0          3.6           1.4          0.2     setosa\n",
              "..            ...          ...           ...          ...        ...\n",
              "145           6.7          3.0           5.2          2.3  virginica\n",
              "146           6.3          2.5           5.0          1.9  virginica\n",
              "147           6.5          3.0           5.2          2.0  virginica\n",
              "148           6.2          3.4           5.4          2.3  virginica\n",
              "149           5.9          3.0           5.1          1.8  virginica\n",
              "\n",
              "[150 rows x 5 columns]"
            ],
            "text/html": [
              "\n",
              "  <div id=\"df-c78c34f9-3233-4df6-94eb-55a274ea49a0\">\n",
              "    <div class=\"colab-df-container\">\n",
              "      <div>\n",
              "<style scoped>\n",
              "    .dataframe tbody tr th:only-of-type {\n",
              "        vertical-align: middle;\n",
              "    }\n",
              "\n",
              "    .dataframe tbody tr th {\n",
              "        vertical-align: top;\n",
              "    }\n",
              "\n",
              "    .dataframe thead th {\n",
              "        text-align: right;\n",
              "    }\n",
              "</style>\n",
              "<table border=\"1\" class=\"dataframe\">\n",
              "  <thead>\n",
              "    <tr style=\"text-align: right;\">\n",
              "      <th></th>\n",
              "      <th>sepal_length</th>\n",
              "      <th>sepal_width</th>\n",
              "      <th>petal_length</th>\n",
              "      <th>petal_width</th>\n",
              "      <th>species</th>\n",
              "    </tr>\n",
              "  </thead>\n",
              "  <tbody>\n",
              "    <tr>\n",
              "      <th>0</th>\n",
              "      <td>5.1</td>\n",
              "      <td>3.5</td>\n",
              "      <td>1.4</td>\n",
              "      <td>0.2</td>\n",
              "      <td>setosa</td>\n",
              "    </tr>\n",
              "    <tr>\n",
              "      <th>1</th>\n",
              "      <td>4.9</td>\n",
              "      <td>3.0</td>\n",
              "      <td>1.4</td>\n",
              "      <td>0.2</td>\n",
              "      <td>setosa</td>\n",
              "    </tr>\n",
              "    <tr>\n",
              "      <th>2</th>\n",
              "      <td>4.7</td>\n",
              "      <td>3.2</td>\n",
              "      <td>1.3</td>\n",
              "      <td>0.2</td>\n",
              "      <td>setosa</td>\n",
              "    </tr>\n",
              "    <tr>\n",
              "      <th>3</th>\n",
              "      <td>4.6</td>\n",
              "      <td>3.1</td>\n",
              "      <td>1.5</td>\n",
              "      <td>0.2</td>\n",
              "      <td>setosa</td>\n",
              "    </tr>\n",
              "    <tr>\n",
              "      <th>4</th>\n",
              "      <td>5.0</td>\n",
              "      <td>3.6</td>\n",
              "      <td>1.4</td>\n",
              "      <td>0.2</td>\n",
              "      <td>setosa</td>\n",
              "    </tr>\n",
              "    <tr>\n",
              "      <th>...</th>\n",
              "      <td>...</td>\n",
              "      <td>...</td>\n",
              "      <td>...</td>\n",
              "      <td>...</td>\n",
              "      <td>...</td>\n",
              "    </tr>\n",
              "    <tr>\n",
              "      <th>145</th>\n",
              "      <td>6.7</td>\n",
              "      <td>3.0</td>\n",
              "      <td>5.2</td>\n",
              "      <td>2.3</td>\n",
              "      <td>virginica</td>\n",
              "    </tr>\n",
              "    <tr>\n",
              "      <th>146</th>\n",
              "      <td>6.3</td>\n",
              "      <td>2.5</td>\n",
              "      <td>5.0</td>\n",
              "      <td>1.9</td>\n",
              "      <td>virginica</td>\n",
              "    </tr>\n",
              "    <tr>\n",
              "      <th>147</th>\n",
              "      <td>6.5</td>\n",
              "      <td>3.0</td>\n",
              "      <td>5.2</td>\n",
              "      <td>2.0</td>\n",
              "      <td>virginica</td>\n",
              "    </tr>\n",
              "    <tr>\n",
              "      <th>148</th>\n",
              "      <td>6.2</td>\n",
              "      <td>3.4</td>\n",
              "      <td>5.4</td>\n",
              "      <td>2.3</td>\n",
              "      <td>virginica</td>\n",
              "    </tr>\n",
              "    <tr>\n",
              "      <th>149</th>\n",
              "      <td>5.9</td>\n",
              "      <td>3.0</td>\n",
              "      <td>5.1</td>\n",
              "      <td>1.8</td>\n",
              "      <td>virginica</td>\n",
              "    </tr>\n",
              "  </tbody>\n",
              "</table>\n",
              "<p>150 rows × 5 columns</p>\n",
              "</div>\n",
              "      <button class=\"colab-df-convert\" onclick=\"convertToInteractive('df-c78c34f9-3233-4df6-94eb-55a274ea49a0')\"\n",
              "              title=\"Convert this dataframe to an interactive table.\"\n",
              "              style=\"display:none;\">\n",
              "        \n",
              "  <svg xmlns=\"http://www.w3.org/2000/svg\" height=\"24px\"viewBox=\"0 0 24 24\"\n",
              "       width=\"24px\">\n",
              "    <path d=\"M0 0h24v24H0V0z\" fill=\"none\"/>\n",
              "    <path d=\"M18.56 5.44l.94 2.06.94-2.06 2.06-.94-2.06-.94-.94-2.06-.94 2.06-2.06.94zm-11 1L8.5 8.5l.94-2.06 2.06-.94-2.06-.94L8.5 2.5l-.94 2.06-2.06.94zm10 10l.94 2.06.94-2.06 2.06-.94-2.06-.94-.94-2.06-.94 2.06-2.06.94z\"/><path d=\"M17.41 7.96l-1.37-1.37c-.4-.4-.92-.59-1.43-.59-.52 0-1.04.2-1.43.59L10.3 9.45l-7.72 7.72c-.78.78-.78 2.05 0 2.83L4 21.41c.39.39.9.59 1.41.59.51 0 1.02-.2 1.41-.59l7.78-7.78 2.81-2.81c.8-.78.8-2.07 0-2.86zM5.41 20L4 18.59l7.72-7.72 1.47 1.35L5.41 20z\"/>\n",
              "  </svg>\n",
              "      </button>\n",
              "      \n",
              "  <style>\n",
              "    .colab-df-container {\n",
              "      display:flex;\n",
              "      flex-wrap:wrap;\n",
              "      gap: 12px;\n",
              "    }\n",
              "\n",
              "    .colab-df-convert {\n",
              "      background-color: #E8F0FE;\n",
              "      border: none;\n",
              "      border-radius: 50%;\n",
              "      cursor: pointer;\n",
              "      display: none;\n",
              "      fill: #1967D2;\n",
              "      height: 32px;\n",
              "      padding: 0 0 0 0;\n",
              "      width: 32px;\n",
              "    }\n",
              "\n",
              "    .colab-df-convert:hover {\n",
              "      background-color: #E2EBFA;\n",
              "      box-shadow: 0px 1px 2px rgba(60, 64, 67, 0.3), 0px 1px 3px 1px rgba(60, 64, 67, 0.15);\n",
              "      fill: #174EA6;\n",
              "    }\n",
              "\n",
              "    [theme=dark] .colab-df-convert {\n",
              "      background-color: #3B4455;\n",
              "      fill: #D2E3FC;\n",
              "    }\n",
              "\n",
              "    [theme=dark] .colab-df-convert:hover {\n",
              "      background-color: #434B5C;\n",
              "      box-shadow: 0px 1px 3px 1px rgba(0, 0, 0, 0.15);\n",
              "      filter: drop-shadow(0px 1px 2px rgba(0, 0, 0, 0.3));\n",
              "      fill: #FFFFFF;\n",
              "    }\n",
              "  </style>\n",
              "\n",
              "      <script>\n",
              "        const buttonEl =\n",
              "          document.querySelector('#df-c78c34f9-3233-4df6-94eb-55a274ea49a0 button.colab-df-convert');\n",
              "        buttonEl.style.display =\n",
              "          google.colab.kernel.accessAllowed ? 'block' : 'none';\n",
              "\n",
              "        async function convertToInteractive(key) {\n",
              "          const element = document.querySelector('#df-c78c34f9-3233-4df6-94eb-55a274ea49a0');\n",
              "          const dataTable =\n",
              "            await google.colab.kernel.invokeFunction('convertToInteractive',\n",
              "                                                     [key], {});\n",
              "          if (!dataTable) return;\n",
              "\n",
              "          const docLinkHtml = 'Like what you see? Visit the ' +\n",
              "            '<a target=\"_blank\" href=https://colab.research.google.com/notebooks/data_table.ipynb>data table notebook</a>'\n",
              "            + ' to learn more about interactive tables.';\n",
              "          element.innerHTML = '';\n",
              "          dataTable['output_type'] = 'display_data';\n",
              "          await google.colab.output.renderOutput(dataTable, element);\n",
              "          const docLink = document.createElement('div');\n",
              "          docLink.innerHTML = docLinkHtml;\n",
              "          element.appendChild(docLink);\n",
              "        }\n",
              "      </script>\n",
              "    </div>\n",
              "  </div>\n",
              "  "
            ]
          },
          "metadata": {},
          "execution_count": 70
        }
      ]
    },
    {
      "cell_type": "code",
      "source": [
        "df = sns.load_dataset('tips')"
      ],
      "metadata": {
        "id": "7zYtLnG79PnH"
      },
      "execution_count": 71,
      "outputs": []
    },
    {
      "cell_type": "code",
      "source": [
        "df.head()"
      ],
      "metadata": {
        "colab": {
          "base_uri": "https://localhost:8080/",
          "height": 206
        },
        "id": "a_aMx11o9akc",
        "outputId": "f06583d9-00ca-40ed-92d7-30e763ec76e4"
      },
      "execution_count": null,
      "outputs": [
        {
          "output_type": "execute_result",
          "data": {
            "text/plain": [
              "   total_bill   tip     sex smoker  day    time  size\n",
              "0       16.99  1.01  Female     No  Sun  Dinner     2\n",
              "1       10.34  1.66    Male     No  Sun  Dinner     3\n",
              "2       21.01  3.50    Male     No  Sun  Dinner     3\n",
              "3       23.68  3.31    Male     No  Sun  Dinner     2\n",
              "4       24.59  3.61  Female     No  Sun  Dinner     4"
            ],
            "text/html": [
              "\n",
              "  <div id=\"df-cf1f92b5-3b74-4815-bf1e-aef2368b5b3c\">\n",
              "    <div class=\"colab-df-container\">\n",
              "      <div>\n",
              "<style scoped>\n",
              "    .dataframe tbody tr th:only-of-type {\n",
              "        vertical-align: middle;\n",
              "    }\n",
              "\n",
              "    .dataframe tbody tr th {\n",
              "        vertical-align: top;\n",
              "    }\n",
              "\n",
              "    .dataframe thead th {\n",
              "        text-align: right;\n",
              "    }\n",
              "</style>\n",
              "<table border=\"1\" class=\"dataframe\">\n",
              "  <thead>\n",
              "    <tr style=\"text-align: right;\">\n",
              "      <th></th>\n",
              "      <th>total_bill</th>\n",
              "      <th>tip</th>\n",
              "      <th>sex</th>\n",
              "      <th>smoker</th>\n",
              "      <th>day</th>\n",
              "      <th>time</th>\n",
              "      <th>size</th>\n",
              "    </tr>\n",
              "  </thead>\n",
              "  <tbody>\n",
              "    <tr>\n",
              "      <th>0</th>\n",
              "      <td>16.99</td>\n",
              "      <td>1.01</td>\n",
              "      <td>Female</td>\n",
              "      <td>No</td>\n",
              "      <td>Sun</td>\n",
              "      <td>Dinner</td>\n",
              "      <td>2</td>\n",
              "    </tr>\n",
              "    <tr>\n",
              "      <th>1</th>\n",
              "      <td>10.34</td>\n",
              "      <td>1.66</td>\n",
              "      <td>Male</td>\n",
              "      <td>No</td>\n",
              "      <td>Sun</td>\n",
              "      <td>Dinner</td>\n",
              "      <td>3</td>\n",
              "    </tr>\n",
              "    <tr>\n",
              "      <th>2</th>\n",
              "      <td>21.01</td>\n",
              "      <td>3.50</td>\n",
              "      <td>Male</td>\n",
              "      <td>No</td>\n",
              "      <td>Sun</td>\n",
              "      <td>Dinner</td>\n",
              "      <td>3</td>\n",
              "    </tr>\n",
              "    <tr>\n",
              "      <th>3</th>\n",
              "      <td>23.68</td>\n",
              "      <td>3.31</td>\n",
              "      <td>Male</td>\n",
              "      <td>No</td>\n",
              "      <td>Sun</td>\n",
              "      <td>Dinner</td>\n",
              "      <td>2</td>\n",
              "    </tr>\n",
              "    <tr>\n",
              "      <th>4</th>\n",
              "      <td>24.59</td>\n",
              "      <td>3.61</td>\n",
              "      <td>Female</td>\n",
              "      <td>No</td>\n",
              "      <td>Sun</td>\n",
              "      <td>Dinner</td>\n",
              "      <td>4</td>\n",
              "    </tr>\n",
              "  </tbody>\n",
              "</table>\n",
              "</div>\n",
              "      <button class=\"colab-df-convert\" onclick=\"convertToInteractive('df-cf1f92b5-3b74-4815-bf1e-aef2368b5b3c')\"\n",
              "              title=\"Convert this dataframe to an interactive table.\"\n",
              "              style=\"display:none;\">\n",
              "        \n",
              "  <svg xmlns=\"http://www.w3.org/2000/svg\" height=\"24px\"viewBox=\"0 0 24 24\"\n",
              "       width=\"24px\">\n",
              "    <path d=\"M0 0h24v24H0V0z\" fill=\"none\"/>\n",
              "    <path d=\"M18.56 5.44l.94 2.06.94-2.06 2.06-.94-2.06-.94-.94-2.06-.94 2.06-2.06.94zm-11 1L8.5 8.5l.94-2.06 2.06-.94-2.06-.94L8.5 2.5l-.94 2.06-2.06.94zm10 10l.94 2.06.94-2.06 2.06-.94-2.06-.94-.94-2.06-.94 2.06-2.06.94z\"/><path d=\"M17.41 7.96l-1.37-1.37c-.4-.4-.92-.59-1.43-.59-.52 0-1.04.2-1.43.59L10.3 9.45l-7.72 7.72c-.78.78-.78 2.05 0 2.83L4 21.41c.39.39.9.59 1.41.59.51 0 1.02-.2 1.41-.59l7.78-7.78 2.81-2.81c.8-.78.8-2.07 0-2.86zM5.41 20L4 18.59l7.72-7.72 1.47 1.35L5.41 20z\"/>\n",
              "  </svg>\n",
              "      </button>\n",
              "      \n",
              "  <style>\n",
              "    .colab-df-container {\n",
              "      display:flex;\n",
              "      flex-wrap:wrap;\n",
              "      gap: 12px;\n",
              "    }\n",
              "\n",
              "    .colab-df-convert {\n",
              "      background-color: #E8F0FE;\n",
              "      border: none;\n",
              "      border-radius: 50%;\n",
              "      cursor: pointer;\n",
              "      display: none;\n",
              "      fill: #1967D2;\n",
              "      height: 32px;\n",
              "      padding: 0 0 0 0;\n",
              "      width: 32px;\n",
              "    }\n",
              "\n",
              "    .colab-df-convert:hover {\n",
              "      background-color: #E2EBFA;\n",
              "      box-shadow: 0px 1px 2px rgba(60, 64, 67, 0.3), 0px 1px 3px 1px rgba(60, 64, 67, 0.15);\n",
              "      fill: #174EA6;\n",
              "    }\n",
              "\n",
              "    [theme=dark] .colab-df-convert {\n",
              "      background-color: #3B4455;\n",
              "      fill: #D2E3FC;\n",
              "    }\n",
              "\n",
              "    [theme=dark] .colab-df-convert:hover {\n",
              "      background-color: #434B5C;\n",
              "      box-shadow: 0px 1px 3px 1px rgba(0, 0, 0, 0.15);\n",
              "      filter: drop-shadow(0px 1px 2px rgba(0, 0, 0, 0.3));\n",
              "      fill: #FFFFFF;\n",
              "    }\n",
              "  </style>\n",
              "\n",
              "      <script>\n",
              "        const buttonEl =\n",
              "          document.querySelector('#df-cf1f92b5-3b74-4815-bf1e-aef2368b5b3c button.colab-df-convert');\n",
              "        buttonEl.style.display =\n",
              "          google.colab.kernel.accessAllowed ? 'block' : 'none';\n",
              "\n",
              "        async function convertToInteractive(key) {\n",
              "          const element = document.querySelector('#df-cf1f92b5-3b74-4815-bf1e-aef2368b5b3c');\n",
              "          const dataTable =\n",
              "            await google.colab.kernel.invokeFunction('convertToInteractive',\n",
              "                                                     [key], {});\n",
              "          if (!dataTable) return;\n",
              "\n",
              "          const docLinkHtml = 'Like what you see? Visit the ' +\n",
              "            '<a target=\"_blank\" href=https://colab.research.google.com/notebooks/data_table.ipynb>data table notebook</a>'\n",
              "            + ' to learn more about interactive tables.';\n",
              "          element.innerHTML = '';\n",
              "          dataTable['output_type'] = 'display_data';\n",
              "          await google.colab.output.renderOutput(dataTable, element);\n",
              "          const docLink = document.createElement('div');\n",
              "          docLink.innerHTML = docLinkHtml;\n",
              "          element.appendChild(docLink);\n",
              "        }\n",
              "      </script>\n",
              "    </div>\n",
              "  </div>\n",
              "  "
            ]
          },
          "metadata": {},
          "execution_count": 5
        }
      ]
    },
    {
      "cell_type": "code",
      "source": [
        "#mean\n",
        "np.mean(df['total_bill'])"
      ],
      "metadata": {
        "colab": {
          "base_uri": "https://localhost:8080/"
        },
        "id": "GDSggTNy9kRe",
        "outputId": "5aabd857-46b0-482d-f004-bd7910f1796b"
      },
      "execution_count": null,
      "outputs": [
        {
          "output_type": "execute_result",
          "data": {
            "text/plain": [
              "19.78594262295082"
            ]
          },
          "metadata": {},
          "execution_count": 6
        }
      ]
    },
    {
      "cell_type": "code",
      "source": [
        "#median\n",
        "np.median(df['total_bill'])"
      ],
      "metadata": {
        "colab": {
          "base_uri": "https://localhost:8080/"
        },
        "id": "FW5G-mPa9zK8",
        "outputId": "91b90f48-d2ce-4579-85b9-c140765fbce7"
      },
      "execution_count": null,
      "outputs": [
        {
          "output_type": "execute_result",
          "data": {
            "text/plain": [
              "17.795"
            ]
          },
          "metadata": {},
          "execution_count": 7
        }
      ]
    },
    {
      "cell_type": "code",
      "source": [
        "#mode\n",
        "statistics.mode(df['total_bill'])"
      ],
      "metadata": {
        "colab": {
          "base_uri": "https://localhost:8080/"
        },
        "id": "y3z0Vtak9_mA",
        "outputId": "194b212a-fa82-4ad7-8b86-18d177882fd6"
      },
      "execution_count": null,
      "outputs": [
        {
          "output_type": "execute_result",
          "data": {
            "text/plain": [
              "13.42"
            ]
          },
          "metadata": {},
          "execution_count": 8
        }
      ]
    },
    {
      "cell_type": "code",
      "source": [
        "sns.boxplot(df['total_bill'])"
      ],
      "metadata": {
        "colab": {
          "base_uri": "https://localhost:8080/",
          "height": 447
        },
        "id": "Wg987ZTa-f0T",
        "outputId": "e2fc146d-8626-4626-886f-ca9cc55e2acc"
      },
      "execution_count": null,
      "outputs": [
        {
          "output_type": "execute_result",
          "data": {
            "text/plain": [
              "<Axes: >"
            ]
          },
          "metadata": {},
          "execution_count": 9
        },
        {
          "output_type": "display_data",
          "data": {
            "text/plain": [
              "<Figure size 640x480 with 1 Axes>"
            ],
            "image/png": "[encoded data removed]"
          },
          "metadata": {}
        }
      ]
    },
    {
      "cell_type": "code",
      "source": [
        "#there are some outlier , dotted values are outliers\n",
        "#kernel distance estimater smothens the histplot "
      ],
      "metadata": {
        "id": "qNC7tBI7AJfY"
      },
      "execution_count": null,
      "outputs": []
    },
    {
      "cell_type": "code",
      "source": [
        "sns.histplot(df['total_bill'], kde=True)\n",
        "#this graph follow log normal distribution"
      ],
      "metadata": {
        "colab": {
          "base_uri": "https://localhost:8080/",
          "height": 469
        },
        "id": "TEy5Je0gAd_J",
        "outputId": "234c8c76-97a7-4025-fdc2-c0dbc6060d1c"
      },
      "execution_count": null,
      "outputs": [
        {
          "output_type": "execute_result",
          "data": {
            "text/plain": [
              "<Axes: xlabel='total_bill', ylabel='Count'>"
            ]
          },
          "metadata": {},
          "execution_count": 11
        },
        {
          "output_type": "display_data",
          "data": {
            "text/plain": [
              "<Figure size 640x480 with 1 Axes>"
            ],
            "image/png": "[encoded data removed]"
          },
          "metadata": {}
        }
      ]
    },
    {
      "cell_type": "code",
      "source": [
        "sns.countplot(data=df, x= 'day')\n",
        "\"\"\"Convert the 'time' column to a categorical data type: If the 'time' column contains discrete categories, you can convert it to a categorical data type using the astype() function. \n",
        "For example, you can use df['time'] = df['time'].astype('category') to convert the 'time' column to a categorical data type before plotting.\"\"\""
      ],
      "metadata": {
        "colab": {
          "base_uri": "https://localhost:8080/",
          "height": 520
        },
        "id": "X6qDDbfTAj7Z",
        "outputId": "4dd252b5-9e33-4704-bebe-306c0c46da28"
      },
      "execution_count": null,
      "outputs": [
        {
          "output_type": "execute_result",
          "data": {
            "text/plain": [
              "\"Convert the 'time' column to a categorical data type: If the 'time' column contains discrete categories, you can convert it to a categorical data type using the astype() function. \\nFor example, you can use df['time'] = df['time'].astype('category') to convert the 'time' column to a categorical data type before plotting.\""
            ],
            "application/vnd.google.colaboratory.intrinsic+json": {
              "type": "string"
            }
          },
          "metadata": {},
          "execution_count": 12
        },
        {
          "output_type": "display_data",
          "data": {
            "text/plain": [
              "<Figure size 640x480 with 1 Axes>"
            ],
            "image/png": "[encoded data removed]"
          },
          "metadata": {}
        }
      ]
    },
    {
      "cell_type": "code",
      "source": [
        "df['day']"
      ],
      "metadata": {
        "id": "o0EcV0s5vmHe",
        "colab": {
          "base_uri": "https://localhost:8080/"
        },
        "outputId": "6235211e-67d1-4f6d-a2f4-646b1b12e0b2"
      },
      "execution_count": null,
      "outputs": [
        {
          "output_type": "execute_result",
          "data": {
            "text/plain": [
              "0       Sun\n",
              "1       Sun\n",
              "2       Sun\n",
              "3       Sun\n",
              "4       Sun\n",
              "       ... \n",
              "239     Sat\n",
              "240     Sat\n",
              "241     Sat\n",
              "242     Sat\n",
              "243    Thur\n",
              "Name: day, Length: 244, dtype: category\n",
              "Categories (4, object): ['Thur', 'Fri', 'Sat', 'Sun']"
            ]
          },
          "metadata": {},
          "execution_count": 13
        }
      ]
    },
    {
      "cell_type": "code",
      "source": [
        "np.percentile(df['total_bill'],[0,1,10, 20, 30 ,50,90])"
      ],
      "metadata": {
        "id": "nQWAED_8yjRp",
        "colab": {
          "base_uri": "https://localhost:8080/"
        },
        "outputId": "0c282fb0-d165-4c29-b028-708fa589064c"
      },
      "execution_count": null,
      "outputs": [
        {
          "output_type": "execute_result",
          "data": {
            "text/plain": [
              "array([ 3.07 ,  7.25 , 10.34 , 12.636, 14.249, 17.795, 32.235])"
            ]
          },
          "metadata": {},
          "execution_count": 14
        }
      ]
    },
    {
      "cell_type": "code",
      "source": [
        "a,b= np.percentile(df['total_bill'],[25,75])"
      ],
      "metadata": {
        "id": "1cIl-QeLk7wQ"
      },
      "execution_count": null,
      "outputs": []
    },
    {
      "cell_type": "code",
      "source": [
        "IQR = b-a\n",
        "print(IQR)"
      ],
      "metadata": {
        "colab": {
          "base_uri": "https://localhost:8080/"
        },
        "id": "xpoM28V7lh6b",
        "outputId": "c12deee7-f99c-462f-e275-91d934324a01"
      },
      "execution_count": null,
      "outputs": [
        {
          "output_type": "stream",
          "name": "stdout",
          "text": [
            "10.779999999999998\n"
          ]
        }
      ]
    },
    {
      "cell_type": "code",
      "source": [
        "# outlier\n",
        "dataset= [11,10,12,14,12,15,14,13,15,102,12,14,17,19, 107, 10,13,12,14,12,108,12,11,14,13,15,10,15,12,10,14,13,15,10]"
      ],
      "metadata": {
        "id": "W8oHRbnglnZ3"
      },
      "execution_count": null,
      "outputs": []
    },
    {
      "cell_type": "code",
      "source": [
        "sns.histplot(dataset)"
      ],
      "metadata": {
        "colab": {
          "base_uri": "https://localhost:8080/",
          "height": 447
        },
        "id": "VuvAxO7Kn6rR",
        "outputId": "5fa27ff2-9fd1-4b86-e70d-565f26b16d55"
      },
      "execution_count": null,
      "outputs": [
        {
          "output_type": "execute_result",
          "data": {
            "text/plain": [
              "<Axes: ylabel='Count'>"
            ]
          },
          "metadata": {},
          "execution_count": 18
        },
        {
          "output_type": "display_data",
          "data": {
            "text/plain": [
              "<Figure size 640x480 with 1 Axes>"
            ],
            "image/png": "[encoded data removed]"
          },
          "metadata": {}
        }
      ]
    },
    {
      "cell_type": "code",
      "source": [
        "### Z Score , IQR\n",
        "outliers=[]\n",
        "def detect_outliers(dataset):\n",
        "  threshold =3 #3 standard deviation\n",
        "  mean = np.mean(dataset)\n",
        "  std = np.std(dataset)\n",
        "\n",
        "  for i in dataset:\n",
        "    z_score= (i-mean)/std\n",
        "    if np.abs(z_score)>threshold: #it makes -ve +ve\n",
        "      outliers.append(i);\n",
        "  return outliers"
      ],
      "metadata": {
        "id": "5mk66-i8oy5I"
      },
      "execution_count": null,
      "outputs": []
    },
    {
      "cell_type": "code",
      "source": [
        "detect_outliers(dataset)"
      ],
      "metadata": {
        "colab": {
          "base_uri": "https://localhost:8080/"
        },
        "id": "OQsO-aklqrdR",
        "outputId": "2e71b266-3ca9-4602-ff8a-49b0a7b2aa08"
      },
      "execution_count": null,
      "outputs": [
        {
          "output_type": "execute_result",
          "data": {
            "text/plain": [
              "[102, 107, 108]"
            ]
          },
          "metadata": {},
          "execution_count": 20
        }
      ]
    },
    {
      "cell_type": "markdown",
      "source": [
        "## OUTLIER uSING IQR\n",
        "1.sort the data\n",
        "\n",
        "2.calculate q1 and q2\n",
        "\n",
        "3.IQR(q1-q3)\n",
        "\n",
        "4.Find the lower Fence(q1 - 1.5(iqr))\n",
        "\n",
        "5.Find the upper fence (q3 + 1.5)iqr"
      ],
      "metadata": {
        "id": "imaGUPfjs_zS"
      }
    },
    {
      "cell_type": "code",
      "source": [
        "# outliers using IQR\n",
        "outliers = []\n",
        "def detect_outliers_Second(dataset):\n",
        "  dataset = sorted(dataset)\n",
        "  q1 , q3 = np.percentile(dataset,[25,75])\n",
        "  iqr = q3-q1\n",
        "  lower_fence= q1 - (1.5*iqr)\n",
        "  higher_fence = q3 + (1.5*iqr)\n",
        "  for i in dataset:\n",
        "    if i <= lower_fence or i >= higher_fence:\n",
        "      outliers.append(i);\n",
        "  return outliers\n",
        "\n",
        "detect_outliers_Second(dataset)\n"
      ],
      "metadata": {
        "colab": {
          "base_uri": "https://localhost:8080/"
        },
        "id": "88M1SSvzq96D",
        "outputId": "077d8718-38c1-4174-c9fe-1ad5a6759a26"
      },
      "execution_count": null,
      "outputs": [
        {
          "output_type": "execute_result",
          "data": {
            "text/plain": [
              "[102, 107, 108]"
            ]
          },
          "metadata": {},
          "execution_count": 46
        }
      ]
    },
    {
      "cell_type": "code",
      "source": [
        "df.corr()"
      ],
      "metadata": {
        "id": "gD461-oLuAjx",
        "colab": {
          "base_uri": "https://localhost:8080/",
          "height": 198
        },
        "outputId": "c40f76ab-26e4-4ebc-fda2-4b9940568691"
      },
      "execution_count": null,
      "outputs": [
        {
          "output_type": "stream",
          "name": "stderr",
          "text": [
            "<ipython-input-5-2f6f6606aa2c>:1: FutureWarning: The default value of numeric_only in DataFrame.corr is deprecated. In a future version, it will default to False. Select only valid columns or specify the value of numeric_only to silence this warning.\n",
            "  df.corr()\n"
          ]
        },
        {
          "output_type": "execute_result",
          "data": {
            "text/plain": [
              "            total_bill       tip      size\n",
              "total_bill    1.000000  0.675734  0.598315\n",
              "tip           0.675734  1.000000  0.489299\n",
              "size          0.598315  0.489299  1.000000"
            ],
            "text/html": [
              "\n",
              "  <div id=\"df-103c65fb-3be0-4e1a-858b-33ce3af6e90d\">\n",
              "    <div class=\"colab-df-container\">\n",
              "      <div>\n",
              "<style scoped>\n",
              "    .dataframe tbody tr th:only-of-type {\n",
              "        vertical-align: middle;\n",
              "    }\n",
              "\n",
              "    .dataframe tbody tr th {\n",
              "        vertical-align: top;\n",
              "    }\n",
              "\n",
              "    .dataframe thead th {\n",
              "        text-align: right;\n",
              "    }\n",
              "</style>\n",
              "<table border=\"1\" class=\"dataframe\">\n",
              "  <thead>\n",
              "    <tr style=\"text-align: right;\">\n",
              "      <th></th>\n",
              "      <th>total_bill</th>\n",
              "      <th>tip</th>\n",
              "      <th>size</th>\n",
              "    </tr>\n",
              "  </thead>\n",
              "  <tbody>\n",
              "    <tr>\n",
              "      <th>total_bill</th>\n",
              "      <td>1.000000</td>\n",
              "      <td>0.675734</td>\n",
              "      <td>0.598315</td>\n",
              "    </tr>\n",
              "    <tr>\n",
              "      <th>tip</th>\n",
              "      <td>0.675734</td>\n",
              "      <td>1.000000</td>\n",
              "      <td>0.489299</td>\n",
              "    </tr>\n",
              "    <tr>\n",
              "      <th>size</th>\n",
              "      <td>0.598315</td>\n",
              "      <td>0.489299</td>\n",
              "      <td>1.000000</td>\n",
              "    </tr>\n",
              "  </tbody>\n",
              "</table>\n",
              "</div>\n",
              "      <button class=\"colab-df-convert\" onclick=\"convertToInteractive('df-103c65fb-3be0-4e1a-858b-33ce3af6e90d')\"\n",
              "              title=\"Convert this dataframe to an interactive table.\"\n",
              "              style=\"display:none;\">\n",
              "        \n",
              "  <svg xmlns=\"http://www.w3.org/2000/svg\" height=\"24px\"viewBox=\"0 0 24 24\"\n",
              "       width=\"24px\">\n",
              "    <path d=\"M0 0h24v24H0V0z\" fill=\"none\"/>\n",
              "    <path d=\"M18.56 5.44l.94 2.06.94-2.06 2.06-.94-2.06-.94-.94-2.06-.94 2.06-2.06.94zm-11 1L8.5 8.5l.94-2.06 2.06-.94-2.06-.94L8.5 2.5l-.94 2.06-2.06.94zm10 10l.94 2.06.94-2.06 2.06-.94-2.06-.94-.94-2.06-.94 2.06-2.06.94z\"/><path d=\"M17.41 7.96l-1.37-1.37c-.4-.4-.92-.59-1.43-.59-.52 0-1.04.2-1.43.59L10.3 9.45l-7.72 7.72c-.78.78-.78 2.05 0 2.83L4 21.41c.39.39.9.59 1.41.59.51 0 1.02-.2 1.41-.59l7.78-7.78 2.81-2.81c.8-.78.8-2.07 0-2.86zM5.41 20L4 18.59l7.72-7.72 1.47 1.35L5.41 20z\"/>\n",
              "  </svg>\n",
              "      </button>\n",
              "      \n",
              "  <style>\n",
              "    .colab-df-container {\n",
              "      display:flex;\n",
              "      flex-wrap:wrap;\n",
              "      gap: 12px;\n",
              "    }\n",
              "\n",
              "    .colab-df-convert {\n",
              "      background-color: #E8F0FE;\n",
              "      border: none;\n",
              "      border-radius: 50%;\n",
              "      cursor: pointer;\n",
              "      display: none;\n",
              "      fill: #1967D2;\n",
              "      height: 32px;\n",
              "      padding: 0 0 0 0;\n",
              "      width: 32px;\n",
              "    }\n",
              "\n",
              "    .colab-df-convert:hover {\n",
              "      background-color: #E2EBFA;\n",
              "      box-shadow: 0px 1px 2px rgba(60, 64, 67, 0.3), 0px 1px 3px 1px rgba(60, 64, 67, 0.15);\n",
              "      fill: #174EA6;\n",
              "    }\n",
              "\n",
              "    [theme=dark] .colab-df-convert {\n",
              "      background-color: #3B4455;\n",
              "      fill: #D2E3FC;\n",
              "    }\n",
              "\n",
              "    [theme=dark] .colab-df-convert:hover {\n",
              "      background-color: #434B5C;\n",
              "      box-shadow: 0px 1px 3px 1px rgba(0, 0, 0, 0.15);\n",
              "      filter: drop-shadow(0px 1px 2px rgba(0, 0, 0, 0.3));\n",
              "      fill: #FFFFFF;\n",
              "    }\n",
              "  </style>\n",
              "\n",
              "      <script>\n",
              "        const buttonEl =\n",
              "          document.querySelector('#df-103c65fb-3be0-4e1a-858b-33ce3af6e90d button.colab-df-convert');\n",
              "        buttonEl.style.display =\n",
              "          google.colab.kernel.accessAllowed ? 'block' : 'none';\n",
              "\n",
              "        async function convertToInteractive(key) {\n",
              "          const element = document.querySelector('#df-103c65fb-3be0-4e1a-858b-33ce3af6e90d');\n",
              "          const dataTable =\n",
              "            await google.colab.kernel.invokeFunction('convertToInteractive',\n",
              "                                                     [key], {});\n",
              "          if (!dataTable) return;\n",
              "\n",
              "          const docLinkHtml = 'Like what you see? Visit the ' +\n",
              "            '<a target=\"_blank\" href=https://colab.research.google.com/notebooks/data_table.ipynb>data table notebook</a>'\n",
              "            + ' to learn more about interactive tables.';\n",
              "          element.innerHTML = '';\n",
              "          dataTable['output_type'] = 'display_data';\n",
              "          await google.colab.output.renderOutput(dataTable, element);\n",
              "          const docLink = document.createElement('div');\n",
              "          docLink.innerHTML = docLinkHtml;\n",
              "          element.appendChild(docLink);\n",
              "        }\n",
              "      </script>\n",
              "    </div>\n",
              "  </div>\n",
              "  "
            ]
          },
          "metadata": {},
          "execution_count": 5
        }
      ]
    },
    {
      "cell_type": "code",
      "source": [
        "#by default pearson is applied"
      ],
      "metadata": {
        "id": "QxiPbSzuWqOa"
      },
      "execution_count": null,
      "outputs": []
    },
    {
      "cell_type": "code",
      "source": [
        "df.corr(method='spearman')"
      ],
      "metadata": {
        "colab": {
          "base_uri": "https://localhost:8080/",
          "height": 198
        },
        "id": "h3dSuAkdWxan",
        "outputId": "ebf2a255-bf85-4410-a77f-a08d885c4f8a"
      },
      "execution_count": null,
      "outputs": [
        {
          "output_type": "stream",
          "name": "stderr",
          "text": [
            "<ipython-input-7-657b2ea90450>:1: FutureWarning: The default value of numeric_only in DataFrame.corr is deprecated. In a future version, it will default to False. Select only valid columns or specify the value of numeric_only to silence this warning.\n",
            "  df.corr(method='spearman')\n"
          ]
        },
        {
          "output_type": "execute_result",
          "data": {
            "text/plain": [
              "            total_bill       tip      size\n",
              "total_bill    1.000000  0.678968  0.604791\n",
              "tip           0.678968  1.000000  0.468268\n",
              "size          0.604791  0.468268  1.000000"
            ],
            "text/html": [
              "\n",
              "  <div id=\"df-88143a22-d0b2-4513-a902-0b6e32e9090d\">\n",
              "    <div class=\"colab-df-container\">\n",
              "      <div>\n",
              "<style scoped>\n",
              "    .dataframe tbody tr th:only-of-type {\n",
              "        vertical-align: middle;\n",
              "    }\n",
              "\n",
              "    .dataframe tbody tr th {\n",
              "        vertical-align: top;\n",
              "    }\n",
              "\n",
              "    .dataframe thead th {\n",
              "        text-align: right;\n",
              "    }\n",
              "</style>\n",
              "<table border=\"1\" class=\"dataframe\">\n",
              "  <thead>\n",
              "    <tr style=\"text-align: right;\">\n",
              "      <th></th>\n",
              "      <th>total_bill</th>\n",
              "      <th>tip</th>\n",
              "      <th>size</th>\n",
              "    </tr>\n",
              "  </thead>\n",
              "  <tbody>\n",
              "    <tr>\n",
              "      <th>total_bill</th>\n",
              "      <td>1.000000</td>\n",
              "      <td>0.678968</td>\n",
              "      <td>0.604791</td>\n",
              "    </tr>\n",
              "    <tr>\n",
              "      <th>tip</th>\n",
              "      <td>0.678968</td>\n",
              "      <td>1.000000</td>\n",
              "      <td>0.468268</td>\n",
              "    </tr>\n",
              "    <tr>\n",
              "      <th>size</th>\n",
              "      <td>0.604791</td>\n",
              "      <td>0.468268</td>\n",
              "      <td>1.000000</td>\n",
              "    </tr>\n",
              "  </tbody>\n",
              "</table>\n",
              "</div>\n",
              "      <button class=\"colab-df-convert\" onclick=\"convertToInteractive('df-88143a22-d0b2-4513-a902-0b6e32e9090d')\"\n",
              "              title=\"Convert this dataframe to an interactive table.\"\n",
              "              style=\"display:none;\">\n",
              "        \n",
              "  <svg xmlns=\"http://www.w3.org/2000/svg\" height=\"24px\"viewBox=\"0 0 24 24\"\n",
              "       width=\"24px\">\n",
              "    <path d=\"M0 0h24v24H0V0z\" fill=\"none\"/>\n",
              "    <path d=\"M18.56 5.44l.94 2.06.94-2.06 2.06-.94-2.06-.94-.94-2.06-.94 2.06-2.06.94zm-11 1L8.5 8.5l.94-2.06 2.06-.94-2.06-.94L8.5 2.5l-.94 2.06-2.06.94zm10 10l.94 2.06.94-2.06 2.06-.94-2.06-.94-.94-2.06-.94 2.06-2.06.94z\"/><path d=\"M17.41 7.96l-1.37-1.37c-.4-.4-.92-.59-1.43-.59-.52 0-1.04.2-1.43.59L10.3 9.45l-7.72 7.72c-.78.78-.78 2.05 0 2.83L4 21.41c.39.39.9.59 1.41.59.51 0 1.02-.2 1.41-.59l7.78-7.78 2.81-2.81c.8-.78.8-2.07 0-2.86zM5.41 20L4 18.59l7.72-7.72 1.47 1.35L5.41 20z\"/>\n",
              "  </svg>\n",
              "      </button>\n",
              "      \n",
              "  <style>\n",
              "    .colab-df-container {\n",
              "      display:flex;\n",
              "      flex-wrap:wrap;\n",
              "      gap: 12px;\n",
              "    }\n",
              "\n",
              "    .colab-df-convert {\n",
              "      background-color: #E8F0FE;\n",
              "      border: none;\n",
              "      border-radius: 50%;\n",
              "      cursor: pointer;\n",
              "      display: none;\n",
              "      fill: #1967D2;\n",
              "      height: 32px;\n",
              "      padding: 0 0 0 0;\n",
              "      width: 32px;\n",
              "    }\n",
              "\n",
              "    .colab-df-convert:hover {\n",
              "      background-color: #E2EBFA;\n",
              "      box-shadow: 0px 1px 2px rgba(60, 64, 67, 0.3), 0px 1px 3px 1px rgba(60, 64, 67, 0.15);\n",
              "      fill: #174EA6;\n",
              "    }\n",
              "\n",
              "    [theme=dark] .colab-df-convert {\n",
              "      background-color: #3B4455;\n",
              "      fill: #D2E3FC;\n",
              "    }\n",
              "\n",
              "    [theme=dark] .colab-df-convert:hover {\n",
              "      background-color: #434B5C;\n",
              "      box-shadow: 0px 1px 3px 1px rgba(0, 0, 0, 0.15);\n",
              "      filter: drop-shadow(0px 1px 2px rgba(0, 0, 0, 0.3));\n",
              "      fill: #FFFFFF;\n",
              "    }\n",
              "  </style>\n",
              "\n",
              "      <script>\n",
              "        const buttonEl =\n",
              "          document.querySelector('#df-88143a22-d0b2-4513-a902-0b6e32e9090d button.colab-df-convert');\n",
              "        buttonEl.style.display =\n",
              "          google.colab.kernel.accessAllowed ? 'block' : 'none';\n",
              "\n",
              "        async function convertToInteractive(key) {\n",
              "          const element = document.querySelector('#df-88143a22-d0b2-4513-a902-0b6e32e9090d');\n",
              "          const dataTable =\n",
              "            await google.colab.kernel.invokeFunction('convertToInteractive',\n",
              "                                                     [key], {});\n",
              "          if (!dataTable) return;\n",
              "\n",
              "          const docLinkHtml = 'Like what you see? Visit the ' +\n",
              "            '<a target=\"_blank\" href=https://colab.research.google.com/notebooks/data_table.ipynb>data table notebook</a>'\n",
              "            + ' to learn more about interactive tables.';\n",
              "          element.innerHTML = '';\n",
              "          dataTable['output_type'] = 'display_data';\n",
              "          await google.colab.output.renderOutput(dataTable, element);\n",
              "          const docLink = document.createElement('div');\n",
              "          docLink.innerHTML = docLinkHtml;\n",
              "          element.appendChild(docLink);\n",
              "        }\n",
              "      </script>\n",
              "    </div>\n",
              "  </div>\n",
              "  "
            ]
          },
          "metadata": {},
          "execution_count": 7
        }
      ]
    },
    {
      "cell_type": "code",
      "source": [
        "df.cov()"
      ],
      "metadata": {
        "colab": {
          "base_uri": "https://localhost:8080/",
          "height": 198
        },
        "id": "JiJ1KhQfW3uN",
        "outputId": "7dc0f7d8-0b4d-4733-92b0-0cd8dbb07514"
      },
      "execution_count": null,
      "outputs": [
        {
          "output_type": "stream",
          "name": "stderr",
          "text": [
            "<ipython-input-8-6f98a29763d5>:1: FutureWarning: The default value of numeric_only in DataFrame.cov is deprecated. In a future version, it will default to False. Select only valid columns or specify the value of numeric_only to silence this warning.\n",
            "  df.cov()\n"
          ]
        },
        {
          "output_type": "execute_result",
          "data": {
            "text/plain": [
              "            total_bill       tip      size\n",
              "total_bill   79.252939  8.323502  5.065983\n",
              "tip           8.323502  1.914455  0.643906\n",
              "size          5.065983  0.643906  0.904591"
            ],
            "text/html": [
              "\n",
              "  <div id=\"df-af3f8b30-645b-4c20-8708-b71b799cdac0\">\n",
              "    <div class=\"colab-df-container\">\n",
              "      <div>\n",
              "<style scoped>\n",
              "    .dataframe tbody tr th:only-of-type {\n",
              "        vertical-align: middle;\n",
              "    }\n",
              "\n",
              "    .dataframe tbody tr th {\n",
              "        vertical-align: top;\n",
              "    }\n",
              "\n",
              "    .dataframe thead th {\n",
              "        text-align: right;\n",
              "    }\n",
              "</style>\n",
              "<table border=\"1\" class=\"dataframe\">\n",
              "  <thead>\n",
              "    <tr style=\"text-align: right;\">\n",
              "      <th></th>\n",
              "      <th>total_bill</th>\n",
              "      <th>tip</th>\n",
              "      <th>size</th>\n",
              "    </tr>\n",
              "  </thead>\n",
              "  <tbody>\n",
              "    <tr>\n",
              "      <th>total_bill</th>\n",
              "      <td>79.252939</td>\n",
              "      <td>8.323502</td>\n",
              "      <td>5.065983</td>\n",
              "    </tr>\n",
              "    <tr>\n",
              "      <th>tip</th>\n",
              "      <td>8.323502</td>\n",
              "      <td>1.914455</td>\n",
              "      <td>0.643906</td>\n",
              "    </tr>\n",
              "    <tr>\n",
              "      <th>size</th>\n",
              "      <td>5.065983</td>\n",
              "      <td>0.643906</td>\n",
              "      <td>0.904591</td>\n",
              "    </tr>\n",
              "  </tbody>\n",
              "</table>\n",
              "</div>\n",
              "      <button class=\"colab-df-convert\" onclick=\"convertToInteractive('df-af3f8b30-645b-4c20-8708-b71b799cdac0')\"\n",
              "              title=\"Convert this dataframe to an interactive table.\"\n",
              "              style=\"display:none;\">\n",
              "        \n",
              "  <svg xmlns=\"http://www.w3.org/2000/svg\" height=\"24px\"viewBox=\"0 0 24 24\"\n",
              "       width=\"24px\">\n",
              "    <path d=\"M0 0h24v24H0V0z\" fill=\"none\"/>\n",
              "    <path d=\"M18.56 5.44l.94 2.06.94-2.06 2.06-.94-2.06-.94-.94-2.06-.94 2.06-2.06.94zm-11 1L8.5 8.5l.94-2.06 2.06-.94-2.06-.94L8.5 2.5l-.94 2.06-2.06.94zm10 10l.94 2.06.94-2.06 2.06-.94-2.06-.94-.94-2.06-.94 2.06-2.06.94z\"/><path d=\"M17.41 7.96l-1.37-1.37c-.4-.4-.92-.59-1.43-.59-.52 0-1.04.2-1.43.59L10.3 9.45l-7.72 7.72c-.78.78-.78 2.05 0 2.83L4 21.41c.39.39.9.59 1.41.59.51 0 1.02-.2 1.41-.59l7.78-7.78 2.81-2.81c.8-.78.8-2.07 0-2.86zM5.41 20L4 18.59l7.72-7.72 1.47 1.35L5.41 20z\"/>\n",
              "  </svg>\n",
              "      </button>\n",
              "      \n",
              "  <style>\n",
              "    .colab-df-container {\n",
              "      display:flex;\n",
              "      flex-wrap:wrap;\n",
              "      gap: 12px;\n",
              "    }\n",
              "\n",
              "    .colab-df-convert {\n",
              "      background-color: #E8F0FE;\n",
              "      border: none;\n",
              "      border-radius: 50%;\n",
              "      cursor: pointer;\n",
              "      display: none;\n",
              "      fill: #1967D2;\n",
              "      height: 32px;\n",
              "      padding: 0 0 0 0;\n",
              "      width: 32px;\n",
              "    }\n",
              "\n",
              "    .colab-df-convert:hover {\n",
              "      background-color: #E2EBFA;\n",
              "      box-shadow: 0px 1px 2px rgba(60, 64, 67, 0.3), 0px 1px 3px 1px rgba(60, 64, 67, 0.15);\n",
              "      fill: #174EA6;\n",
              "    }\n",
              "\n",
              "    [theme=dark] .colab-df-convert {\n",
              "      background-color: #3B4455;\n",
              "      fill: #D2E3FC;\n",
              "    }\n",
              "\n",
              "    [theme=dark] .colab-df-convert:hover {\n",
              "      background-color: #434B5C;\n",
              "      box-shadow: 0px 1px 3px 1px rgba(0, 0, 0, 0.15);\n",
              "      filter: drop-shadow(0px 1px 2px rgba(0, 0, 0, 0.3));\n",
              "      fill: #FFFFFF;\n",
              "    }\n",
              "  </style>\n",
              "\n",
              "      <script>\n",
              "        const buttonEl =\n",
              "          document.querySelector('#df-af3f8b30-645b-4c20-8708-b71b799cdac0 button.colab-df-convert');\n",
              "        buttonEl.style.display =\n",
              "          google.colab.kernel.accessAllowed ? 'block' : 'none';\n",
              "\n",
              "        async function convertToInteractive(key) {\n",
              "          const element = document.querySelector('#df-af3f8b30-645b-4c20-8708-b71b799cdac0');\n",
              "          const dataTable =\n",
              "            await google.colab.kernel.invokeFunction('convertToInteractive',\n",
              "                                                     [key], {});\n",
              "          if (!dataTable) return;\n",
              "\n",
              "          const docLinkHtml = 'Like what you see? Visit the ' +\n",
              "            '<a target=\"_blank\" href=https://colab.research.google.com/notebooks/data_table.ipynb>data table notebook</a>'\n",
              "            + ' to learn more about interactive tables.';\n",
              "          element.innerHTML = '';\n",
              "          dataTable['output_type'] = 'display_data';\n",
              "          await google.colab.output.renderOutput(dataTable, element);\n",
              "          const docLink = document.createElement('div');\n",
              "          docLink.innerHTML = docLinkHtml;\n",
              "          element.appendChild(docLink);\n",
              "        }\n",
              "      </script>\n",
              "    </div>\n",
              "  </div>\n",
              "  "
            ]
          },
          "metadata": {},
          "execution_count": 8
        }
      ]
    },
    {
      "cell_type": "markdown",
      "source": [
        "#Chi-Square Test#\n",
        "The test is applied when you have two categorical variables from a single population. It is used to determine whether there is a significant association between the two variables."
      ],
      "metadata": {
        "id": "9LRDiWQ1vGbp"
      }
    },
    {
      "cell_type": "code",
      "source": [
        "import scipy.stats as stats"
      ],
      "metadata": {
        "id": "HS7dA0oSXYcq"
      },
      "execution_count": 72,
      "outputs": []
    },
    {
      "cell_type": "code",
      "source": [
        "dataset=sns.load_dataset('tips')"
      ],
      "metadata": {
        "id": "6QxvKHT3va1l"
      },
      "execution_count": 73,
      "outputs": []
    },
    {
      "cell_type": "code",
      "source": [
        "dataset_table = pd.crosstab(dataset['sex'],dataset['smoker'])\n",
        "print(dataset_table)\n",
        "#like pivot table "
      ],
      "metadata": {
        "colab": {
          "base_uri": "https://localhost:8080/"
        },
        "id": "n6CyLP04vidX",
        "outputId": "c5e5c669-ea4a-42b6-f8d4-5ff6764b9788"
      },
      "execution_count": 74,
      "outputs": [
        {
          "output_type": "stream",
          "name": "stdout",
          "text": [
            "smoker  Yes  No\n",
            "sex            \n",
            "Male     60  97\n",
            "Female   33  54\n"
          ]
        }
      ]
    },
    {
      "cell_type": "code",
      "source": [
        "dataset_table2 = pd.crosstab(dataset['time'],dataset['day'])\n",
        "print(dataset_table2, type(dataset_table2))\n",
        "print(type(dataset_table2.values))"
      ],
      "metadata": {
        "colab": {
          "base_uri": "https://localhost:8080/"
        },
        "id": "4pAChlIjC7YP",
        "outputId": "993fb491-536f-4293-ee49-0c15f34a698b"
      },
      "execution_count": 75,
      "outputs": [
        {
          "output_type": "stream",
          "name": "stdout",
          "text": [
            "day     Thur  Fri  Sat  Sun\n",
            "time                       \n",
            "Lunch     61    7    0    0\n",
            "Dinner     1   12   87   76 <class 'pandas.core.frame.DataFrame'>\n",
            "<class 'numpy.ndarray'>\n"
          ]
        }
      ]
    },
    {
      "cell_type": "code",
      "source": [
        "dataset_table.values \n",
        "#it convert data frame into numpy "
      ],
      "metadata": {
        "colab": {
          "base_uri": "https://localhost:8080/"
        },
        "id": "X6AKtUaIv_AC",
        "outputId": "f74cf25f-032f-42d9-8d3d-95dc3ce7b102"
      },
      "execution_count": 76,
      "outputs": [
        {
          "output_type": "execute_result",
          "data": {
            "text/plain": [
              "array([[60, 97],\n",
              "       [33, 54]])"
            ]
          },
          "metadata": {},
          "execution_count": 76
        }
      ]
    },
    {
      "cell_type": "code",
      "source": [
        "dataset_table.iloc[1:2,1:2]"
      ],
      "metadata": {
        "colab": {
          "base_uri": "https://localhost:8080/",
          "height": 112
        },
        "id": "gus6_1YtEeHa",
        "outputId": "9e75bd34-dd79-4a2e-a029-5ca49204a29c"
      },
      "execution_count": 77,
      "outputs": [
        {
          "output_type": "execute_result",
          "data": {
            "text/plain": [
              "smoker  No\n",
              "sex       \n",
              "Female  54"
            ],
            "text/html": [
              "\n",
              "  <div id=\"df-6a03470c-c5aa-4248-9622-5d53484f43fc\">\n",
              "    <div class=\"colab-df-container\">\n",
              "      <div>\n",
              "<style scoped>\n",
              "    .dataframe tbody tr th:only-of-type {\n",
              "        vertical-align: middle;\n",
              "    }\n",
              "\n",
              "    .dataframe tbody tr th {\n",
              "        vertical-align: top;\n",
              "    }\n",
              "\n",
              "    .dataframe thead th {\n",
              "        text-align: right;\n",
              "    }\n",
              "</style>\n",
              "<table border=\"1\" class=\"dataframe\">\n",
              "  <thead>\n",
              "    <tr style=\"text-align: right;\">\n",
              "      <th>smoker</th>\n",
              "      <th>No</th>\n",
              "    </tr>\n",
              "    <tr>\n",
              "      <th>sex</th>\n",
              "      <th></th>\n",
              "    </tr>\n",
              "  </thead>\n",
              "  <tbody>\n",
              "    <tr>\n",
              "      <th>Female</th>\n",
              "      <td>54</td>\n",
              "    </tr>\n",
              "  </tbody>\n",
              "</table>\n",
              "</div>\n",
              "      <button class=\"colab-df-convert\" onclick=\"convertToInteractive('df-6a03470c-c5aa-4248-9622-5d53484f43fc')\"\n",
              "              title=\"Convert this dataframe to an interactive table.\"\n",
              "              style=\"display:none;\">\n",
              "        \n",
              "  <svg xmlns=\"http://www.w3.org/2000/svg\" height=\"24px\"viewBox=\"0 0 24 24\"\n",
              "       width=\"24px\">\n",
              "    <path d=\"M0 0h24v24H0V0z\" fill=\"none\"/>\n",
              "    <path d=\"M18.56 5.44l.94 2.06.94-2.06 2.06-.94-2.06-.94-.94-2.06-.94 2.06-2.06.94zm-11 1L8.5 8.5l.94-2.06 2.06-.94-2.06-.94L8.5 2.5l-.94 2.06-2.06.94zm10 10l.94 2.06.94-2.06 2.06-.94-2.06-.94-.94-2.06-.94 2.06-2.06.94z\"/><path d=\"M17.41 7.96l-1.37-1.37c-.4-.4-.92-.59-1.43-.59-.52 0-1.04.2-1.43.59L10.3 9.45l-7.72 7.72c-.78.78-.78 2.05 0 2.83L4 21.41c.39.39.9.59 1.41.59.51 0 1.02-.2 1.41-.59l7.78-7.78 2.81-2.81c.8-.78.8-2.07 0-2.86zM5.41 20L4 18.59l7.72-7.72 1.47 1.35L5.41 20z\"/>\n",
              "  </svg>\n",
              "      </button>\n",
              "      \n",
              "  <style>\n",
              "    .colab-df-container {\n",
              "      display:flex;\n",
              "      flex-wrap:wrap;\n",
              "      gap: 12px;\n",
              "    }\n",
              "\n",
              "    .colab-df-convert {\n",
              "      background-color: #E8F0FE;\n",
              "      border: none;\n",
              "      border-radius: 50%;\n",
              "      cursor: pointer;\n",
              "      display: none;\n",
              "      fill: #1967D2;\n",
              "      height: 32px;\n",
              "      padding: 0 0 0 0;\n",
              "      width: 32px;\n",
              "    }\n",
              "\n",
              "    .colab-df-convert:hover {\n",
              "      background-color: #E2EBFA;\n",
              "      box-shadow: 0px 1px 2px rgba(60, 64, 67, 0.3), 0px 1px 3px 1px rgba(60, 64, 67, 0.15);\n",
              "      fill: #174EA6;\n",
              "    }\n",
              "\n",
              "    [theme=dark] .colab-df-convert {\n",
              "      background-color: #3B4455;\n",
              "      fill: #D2E3FC;\n",
              "    }\n",
              "\n",
              "    [theme=dark] .colab-df-convert:hover {\n",
              "      background-color: #434B5C;\n",
              "      box-shadow: 0px 1px 3px 1px rgba(0, 0, 0, 0.15);\n",
              "      filter: drop-shadow(0px 1px 2px rgba(0, 0, 0, 0.3));\n",
              "      fill: #FFFFFF;\n",
              "    }\n",
              "  </style>\n",
              "\n",
              "      <script>\n",
              "        const buttonEl =\n",
              "          document.querySelector('#df-6a03470c-c5aa-4248-9622-5d53484f43fc button.colab-df-convert');\n",
              "        buttonEl.style.display =\n",
              "          google.colab.kernel.accessAllowed ? 'block' : 'none';\n",
              "\n",
              "        async function convertToInteractive(key) {\n",
              "          const element = document.querySelector('#df-6a03470c-c5aa-4248-9622-5d53484f43fc');\n",
              "          const dataTable =\n",
              "            await google.colab.kernel.invokeFunction('convertToInteractive',\n",
              "                                                     [key], {});\n",
              "          if (!dataTable) return;\n",
              "\n",
              "          const docLinkHtml = 'Like what you see? Visit the ' +\n",
              "            '<a target=\"_blank\" href=https://colab.research.google.com/notebooks/data_table.ipynb>data table notebook</a>'\n",
              "            + ' to learn more about interactive tables.';\n",
              "          element.innerHTML = '';\n",
              "          dataTable['output_type'] = 'display_data';\n",
              "          await google.colab.output.renderOutput(dataTable, element);\n",
              "          const docLink = document.createElement('div');\n",
              "          docLink.innerHTML = docLinkHtml;\n",
              "          element.appendChild(docLink);\n",
              "        }\n",
              "      </script>\n",
              "    </div>\n",
              "  </div>\n",
              "  "
            ]
          },
          "metadata": {},
          "execution_count": 77
        }
      ]
    },
    {
      "cell_type": "code",
      "source": [
        "#Observed Values\n",
        "Observed_Values = dataset_table.values \n",
        "print(\"Observed Values :-\\n\",Observed_Values)"
      ],
      "metadata": {
        "colab": {
          "base_uri": "https://localhost:8080/"
        },
        "id": "mAs4tjbDwaNV",
        "outputId": "d0d00fd1-9ed6-4582-8106-0883d4f7683c"
      },
      "execution_count": 78,
      "outputs": [
        {
          "output_type": "stream",
          "name": "stdout",
          "text": [
            "Observed Values :-\n",
            " [[60 97]\n",
            " [33 54]]\n"
          ]
        }
      ]
    },
    {
      "cell_type": "code",
      "source": [
        "val= stats.chi2_contingency(dataset_table)"
      ],
      "metadata": {
        "id": "Pt8d6F-R64wx"
      },
      "execution_count": 79,
      "outputs": []
    },
    {
      "cell_type": "code",
      "source": [
        "print(val)"
      ],
      "metadata": {
        "colab": {
          "base_uri": "https://localhost:8080/"
        },
        "id": "BoOleZpP714J",
        "outputId": "4369acb0-2f96-4b25-d7af-ab1849d3b27f"
      },
      "execution_count": 80,
      "outputs": [
        {
          "output_type": "stream",
          "name": "stdout",
          "text": [
            "Chi2ContingencyResult(statistic=0.0, pvalue=1.0, dof=1, expected_freq=array([[59.84016393, 97.15983607],\n",
            "       [33.15983607, 53.84016393]]))\n"
          ]
        }
      ]
    },
    {
      "cell_type": "code",
      "source": [
        "#val=stats.chi2_contingency(dataset_table) returns a tuple of four values. The expected frequencies of each cell in the contingency table are the fourth element in the tuple, which is accessed using the indexing operator [3].\n",
        "Expected_Values=val[3]"
      ],
      "metadata": {
        "id": "Y9cNChb_73Yt"
      },
      "execution_count": 81,
      "outputs": []
    },
    {
      "cell_type": "code",
      "source": [
        "no_of_rows=len(dataset_table.iloc[:,0])\n",
        "no_of_columns=len(dataset_table.iloc[0,:])\n",
        "ddof=(no_of_rows-1)*(no_of_columns-1)\n",
        "print(\"Degree of Freedom:-\",ddof)\n",
        "alpha = 0.05"
      ],
      "metadata": {
        "colab": {
          "base_uri": "https://localhost:8080/"
        },
        "id": "OvirlbHUF_jj",
        "outputId": "e0975b94-ae7e-493e-943f-1e98076915ff"
      },
      "execution_count": 82,
      "outputs": [
        {
          "output_type": "stream",
          "name": "stdout",
          "text": [
            "Degree of Freedom:- 1\n"
          ]
        }
      ]
    },
    {
      "cell_type": "code",
      "source": [
        "x1 = [1,1,1,1,1]\n",
        "y1 = [1,1,1,1,1]"
      ],
      "metadata": {
        "id": "iP5cFwzUHRpM"
      },
      "execution_count": 83,
      "outputs": []
    },
    {
      "cell_type": "code",
      "source": [
        "result = sum([(x-y)*(x+y)/2 for x,y in zip(x1,y1)])\n",
        "print(result)"
      ],
      "metadata": {
        "colab": {
          "base_uri": "https://localhost:8080/"
        },
        "id": "sci8kQkMHMmu",
        "outputId": "b7e0e207-09b4-420c-8240-447654e05a3b"
      },
      "execution_count": 84,
      "outputs": [
        {
          "output_type": "stream",
          "name": "stdout",
          "text": [
            "0.0\n"
          ]
        }
      ]
    },
    {
      "cell_type": "code",
      "source": [
        "chi_square=sum([(o-e)**2./e for o,e in zip(Observed_Values,Expected_Values)])\n",
        "print(chi_square)\n",
        "chi_square_statistic = chi_square[0]+chi_square[1]"
      ],
      "metadata": {
        "id": "shhHHyN8Jx4N",
        "colab": {
          "base_uri": "https://localhost:8080/"
        },
        "outputId": "4acad10b-c9e0-464f-e935-45ba3089a3d2"
      },
      "execution_count": 85,
      "outputs": [
        {
          "output_type": "stream",
          "name": "stdout",
          "text": [
            "[0.00119737 0.00073745]\n"
          ]
        }
      ]
    },
    {
      "cell_type": "code",
      "source": [
        "print(\"chi-square statistic:-\",chi_square_statistic)"
      ],
      "metadata": {
        "colab": {
          "base_uri": "https://localhost:8080/"
        },
        "id": "wmy0bAkbKkxm",
        "outputId": "9d8eba93-45f8-4e9c-e428-893e137b06a8"
      },
      "execution_count": 86,
      "outputs": [
        {
          "output_type": "stream",
          "name": "stdout",
          "text": [
            "chi-square statistic:- 0.001934818536627623\n"
          ]
        }
      ]
    },
    {
      "cell_type": "code",
      "source": [
        "from scipy.stats import chi2\n",
        "critical_value=chi2.ppf(q=1-alpha,df=ddof)\n",
        "print('critical_value:',critical_value)"
      ],
      "metadata": {
        "id": "4WJ8lHALK9c5",
        "colab": {
          "base_uri": "https://localhost:8080/"
        },
        "outputId": "024a0cd4-8206-42cd-c2c9-eb30f5ef4ff9"
      },
      "execution_count": 87,
      "outputs": [
        {
          "output_type": "stream",
          "name": "stdout",
          "text": [
            "critical_value: 3.841458820694124\n"
          ]
        }
      ]
    },
    {
      "cell_type": "code",
      "source": [],
      "metadata": {
        "id": "PXplDmB3NoDJ"
      },
      "execution_count": 87,
      "outputs": []
    },
    {
      "cell_type": "code",
      "source": [
        "#p-value\n",
        "\n",
        "p_value=1-chi2.cdf(x=chi_square_statistic,df=ddof)\n",
        "print('p-value:',p_value)\n",
        "print('Significance level: ',alpha)\n",
        "print('Degree of Freedom: ',ddof)\n",
        "print('p-value:',p_value)"
      ],
      "metadata": {
        "colab": {
          "base_uri": "https://localhost:8080/"
        },
        "id": "nxm763xGLsfZ",
        "outputId": "fcb4a016-b701-48c0-bd88-ed66cf6a18a7"
      },
      "execution_count": 88,
      "outputs": [
        {
          "output_type": "stream",
          "name": "stdout",
          "text": [
            "p-value: 0.964915107315732\n",
            "Significance level:  0.05\n",
            "Degree of Freedom:  1\n",
            "p-value: 0.964915107315732\n"
          ]
        }
      ]
    },
    {
      "cell_type": "code",
      "source": [
        "if chi_square_statistic>=critical_value:\n",
        "    print(\"Reject H0,There is a relationship between 2 categorical variables\")\n",
        "else:\n",
        "    print(\"Retain H0,There is no relationship between 2 categorical variables\")\n",
        "    \n",
        "if p_value<=alpha:\n",
        "    print(\"Reject H0,There is a relationship between 2 categorical variables\")\n",
        "else:\n",
        "    print(\"Retain H0,There is no relationship between 2 categorical variables\")"
      ],
      "metadata": {
        "colab": {
          "base_uri": "https://localhost:8080/"
        },
        "id": "Yif2hzALNd1m",
        "outputId": "eecb8970-ae51-47ba-829d-9ddbb698c59d"
      },
      "execution_count": 89,
      "outputs": [
        {
          "output_type": "stream",
          "name": "stdout",
          "text": [
            "Retain H0,There is no relationship between 2 categorical variables\n",
            "Retain H0,There is no relationship between 2 categorical variables\n"
          ]
        }
      ]
    },
    {
      "cell_type": "markdown",
      "source": [
        "## T Test\n",
        "\n",
        "A t-test is a type of inferential statistic which is used to determine if there is a significant difference between the means of two groups which may be related in certain features\n",
        "\n",
        "T-test has 2 types : 1. one sampled t-test 2. two-sampled t-test."
      ],
      "metadata": {
        "id": "ikR7HhILMUzI"
      }
    },
    {
      "cell_type": "markdown",
      "source": [
        "![image.png](data:image/png;base64,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)"
      ],
      "metadata": {
        "id": "fXrEHz60MmD2"
      }
    },
    {
      "cell_type": "code",
      "source": [
        "ages=[10,20,35,50,28,40,55,18,16,55,30,25,43,18,30,28,14,24,16,17,32,35,26,27,65,18,43,23,21,20,19,70]\n",
        "len(ages)"
      ],
      "metadata": {
        "id": "Cf5i3gvJN81C",
        "colab": {
          "base_uri": "https://localhost:8080/"
        },
        "outputId": "d520ed49-27f5-4a22-f03e-9b4def32fa04"
      },
      "execution_count": 90,
      "outputs": [
        {
          "output_type": "execute_result",
          "data": {
            "text/plain": [
              "32"
            ]
          },
          "metadata": {},
          "execution_count": 90
        }
      ]
    },
    {
      "cell_type": "code",
      "source": [
        "ages_mean=np.mean(ages)\n",
        "print(ages_mean)"
      ],
      "metadata": {
        "colab": {
          "base_uri": "https://localhost:8080/"
        },
        "id": "83oDlwVNMzj3",
        "outputId": "0fb7a0e1-904e-4cca-94ae-8eee8426a480"
      },
      "execution_count": 91,
      "outputs": [
        {
          "output_type": "stream",
          "name": "stdout",
          "text": [
            "30.34375\n"
          ]
        }
      ]
    },
    {
      "cell_type": "code",
      "source": [
        "sample_size=10\n",
        "age_sample=np.random.choice(ages,sample_size)"
      ],
      "metadata": {
        "id": "acaJ7OpANEt5"
      },
      "execution_count": 92,
      "outputs": []
    },
    {
      "cell_type": "code",
      "source": [
        "#from this sample of ages, i will apply t test, and see that whether sample mean is approximately equal to population mean with some confidence interval\n",
        "age_sample"
      ],
      "metadata": {
        "colab": {
          "base_uri": "https://localhost:8080/"
        },
        "id": "ILz7krX0NMx-",
        "outputId": "06c343ef-7888-4b77-c028-e1eca86d8492"
      },
      "execution_count": 93,
      "outputs": [
        {
          "output_type": "execute_result",
          "data": {
            "text/plain": [
              "array([16, 16, 14, 43, 18, 30, 18, 70, 35, 18])"
            ]
          },
          "metadata": {},
          "execution_count": 93
        }
      ]
    },
    {
      "cell_type": "code",
      "source": [
        "from scipy.stats import ttest_1samp\n",
        "ttest,p_value=ttest_1samp(age_sample,30)"
      ],
      "metadata": {
        "id": "QgNQC_KwOIc8"
      },
      "execution_count": 94,
      "outputs": []
    },
    {
      "cell_type": "code",
      "source": [
        "print(ttest,p_value)"
      ],
      "metadata": {
        "colab": {
          "base_uri": "https://localhost:8080/"
        },
        "id": "9OsnKIfmOrVB",
        "outputId": "b2c9147c-38e9-4bc3-da45-c4df495dd12d"
      },
      "execution_count": 95,
      "outputs": [
        {
          "output_type": "stream",
          "name": "stdout",
          "text": [
            "-0.3926346239251826 0.7037264337837337\n"
          ]
        }
      ]
    },
    {
      "cell_type": "code",
      "source": [
        "if p_value < 0.05:    # alpha value is 0.05 or 5%\n",
        "    print(\" we are rejecting null hypothesis\")\n",
        "else:\n",
        "    print(\"we are accepting null hypothesis\")"
      ],
      "metadata": {
        "colab": {
          "base_uri": "https://localhost:8080/"
        },
        "id": "-qk3ez90OxgV",
        "outputId": "897b336b-73d2-4f31-8331-73e667b3e562"
      },
      "execution_count": 98,
      "outputs": [
        {
          "output_type": "stream",
          "name": "stdout",
          "text": [
            "we are accepting null hypothesis\n"
          ]
        }
      ]
    },
    {
      "cell_type": "markdown",
      "source": [
        "## Some More Examples\n",
        "Consider the age of students in a college and in Class A"
      ],
      "metadata": {
        "id": "u-VAnRj7Q4B-"
      }
    },
    {
      "cell_type": "code",
      "source": [
        "import math\n",
        "np.random.seed(6) #By setting the seed value explicitly, we can control the sequence of random numbers that are generated. If we run the same code with the same seed value, we will get the same sequence of random numbers every time. This makes our results reproducible, which is important for testing and debugging purposes.In other words, setting the random\n",
        "school_ages=stats.poisson.rvs(loc=18,mu=35,size=1500) #population\n",
        "classA_ages=stats.poisson.rvs(loc=18,mu=30,size=60)   #sample"
      ],
      "metadata": {
        "id": "hSQUAvWtO9Fn"
      },
      "execution_count": 114,
      "outputs": []
    },
    {
      "cell_type": "code",
      "source": [
        "len(school_ages)"
      ],
      "metadata": {
        "id": "7WxStrvCRO5U",
        "colab": {
          "base_uri": "https://localhost:8080/"
        },
        "outputId": "23c4cda4-0ed8-4f00-e2ec-a5a2d7dc3f71"
      },
      "execution_count": 115,
      "outputs": [
        {
          "output_type": "execute_result",
          "data": {
            "text/plain": [
              "1500"
            ]
          },
          "metadata": {},
          "execution_count": 115
        }
      ]
    },
    {
      "cell_type": "code",
      "source": [
        "classA_ages.mean()"
      ],
      "metadata": {
        "colab": {
          "base_uri": "https://localhost:8080/"
        },
        "id": "LMiyRfo5VECa",
        "outputId": "c8b20bfd-da0a-497c-aacc-34ab87d4eb3c"
      },
      "execution_count": 116,
      "outputs": [
        {
          "output_type": "execute_result",
          "data": {
            "text/plain": [
              "46.9"
            ]
          },
          "metadata": {},
          "execution_count": 116
        }
      ]
    },
    {
      "cell_type": "code",
      "source": [
        "_,p_value=stats.ttest_1samp(a=classA_ages,popmean=school_ages.mean())"
      ],
      "metadata": {
        "id": "U-weezCiVdf4"
      },
      "execution_count": 117,
      "outputs": []
    },
    {
      "cell_type": "code",
      "source": [
        "if p_value < 0.05:    # alpha value is 0.05 or 5%\n",
        "    print(\" we are rejecting null hypothesis\")\n",
        "else:\n",
        "    print(\"we are accepting null hypothesis\")"
      ],
      "metadata": {
        "colab": {
          "base_uri": "https://localhost:8080/"
        },
        "id": "eQEhB4FFWNqi",
        "outputId": "f5e3d829-5c60-4fe8-bfd9-f9f67161ec7c"
      },
      "execution_count": 118,
      "outputs": [
        {
          "output_type": "stream",
          "name": "stdout",
          "text": [
            " we are rejecting null hypothesis\n"
          ]
        }
      ]
    },
    {
      "cell_type": "markdown",
      "source": [
        "## Two-sample T-test With Python\n",
        "The Independent Samples t Test or 2-sample t-test compares the means of two independent groups in order to determine whether there is statistical evidence that the associated population means are significantly different. The Independent Samples t Test is a parametric test. This test is also known as: Independent t Test\n"
      ],
      "metadata": {
        "id": "zcOKiRsBWpLl"
      }
    },
    {
      "cell_type": "code",
      "execution_count": 121,
      "metadata": {
        "id": "dyxRCZZ5D3mp",
        "outputId": "4313d4a6-1d35-4477-f6cf-fed0fd3c2a21",
        "colab": {
          "base_uri": "https://localhost:8080/"
        }
      },
      "outputs": [
        {
          "output_type": "execute_result",
          "data": {
            "text/plain": [
              "50.65"
            ]
          },
          "metadata": {},
          "execution_count": 121
        }
      ],
      "source": [
        "np.random.seed(12)\n",
        "ClassB_ages=stats.poisson.rvs(loc=18,mu=33,size=60)\n",
        "ClassB_ages.mean()\n"
      ]
    },
    {
      "cell_type": "code",
      "source": [
        "_,p_value=stats.ttest_ind(a=classA_ages,b=ClassB_ages,equal_var=False)"
      ],
      "metadata": {
        "id": "Q0qwivuaJYns"
      },
      "execution_count": 123,
      "outputs": []
    },
    {
      "cell_type": "markdown",
      "source": [
        "The t-statistic measures the difference between the means of the two groups relative to the variance within each group. The p-value indicates the probability of observing the data given that there is no difference between the two groups. If the p-value is less than a chosen significance level (usually 0.05), then we reject the null hypothesis that the means of the two groups are equal and conclude that there is a statistically significant difference between the two groups.\n",
        "\n",
        "\n",
        "\n",
        "\n"
      ],
      "metadata": {
        "id": "-JCcFwaoLaSf"
      }
    },
    {
      "cell_type": "code",
      "source": [
        "if p_value < 0.05:    # alpha value is 0.05 or 5%\n",
        "    print(\" we are rejecting null hypothesis\")\n",
        "else:\n",
        "    print(\"we are accepting null hypothesis\")"
      ],
      "metadata": {
        "colab": {
          "base_uri": "https://localhost:8080/"
        },
        "id": "tgEDkkePJYkf",
        "outputId": "f07ee3db-539d-49ee-b3cd-4f5cbc2bb897"
      },
      "execution_count": 124,
      "outputs": [
        {
          "output_type": "stream",
          "name": "stdout",
          "text": [
            " we are rejecting null hypothesis\n"
          ]
        }
      ]
    },
    {
      "cell_type": "markdown",
      "source": [
        "## Paired T-test With Python\n",
        "When you want to check how different samples from the same group are, you can go for a paired T-test"
      ],
      "metadata": {
        "id": "AxdMB3WtLhXC"
      }
    },
    {
      "cell_type": "code",
      "source": [
        "weight1=[25,30,28,35,28,34,26,29,30,26,28,32,31,30,45]\n",
        "weight2=weight1+stats.norm.rvs(scale=5,loc=-1.25,size=15)"
      ],
      "metadata": {
        "id": "M3UZIjVKJYho"
      },
      "execution_count": 125,
      "outputs": []
    },
    {
      "cell_type": "code",
      "source": [
        "print(weight1)\n",
        "print(weight2)"
      ],
      "metadata": {
        "colab": {
          "base_uri": "https://localhost:8080/"
        },
        "id": "LsEtD6-LJYex",
        "outputId": "b65f32a2-c8b8-4122-e29b-9152aebfb143"
      },
      "execution_count": 126,
      "outputs": [
        {
          "output_type": "stream",
          "name": "stdout",
          "text": [
            "[25, 30, 28, 35, 28, 34, 26, 29, 30, 26, 28, 32, 31, 30, 45]\n",
            "[26.46558062 28.32654957 27.13300552 26.72424845 18.96882844 29.28811469\n",
            " 21.06890239 28.66158327 11.89020324 21.59490735 22.24779669 35.89004559\n",
            " 26.50468994 25.63154255 43.57663772]\n"
          ]
        }
      ]
    },
    {
      "cell_type": "code",
      "source": [
        "weight_df=pd.DataFrame({\"weight_10\":np.array(weight1),\n",
        "                         \"weight_20\":np.array(weight2),\n",
        "                       \"weight_change\":np.array(weight2)-np.array(weight1)})"
      ],
      "metadata": {
        "id": "UVOUkfS1JYcE"
      },
      "execution_count": 127,
      "outputs": []
    },
    {
      "cell_type": "code",
      "source": [
        "weight_df"
      ],
      "metadata": {
        "colab": {
          "base_uri": "https://localhost:8080/",
          "height": 519
        },
        "id": "eOGCZO4ZJYVD",
        "outputId": "3f95b2ef-de39-4eb3-87b2-5ff07ea930f5"
      },
      "execution_count": 128,
      "outputs": [
        {
          "output_type": "execute_result",
          "data": {
            "text/plain": [
              "    weight_10  weight_20  weight_change\n",
              "0          25  26.465581       1.465581\n",
              "1          30  28.326550      -1.673450\n",
              "2          28  27.133006      -0.866994\n",
              "3          35  26.724248      -8.275752\n",
              "4          28  18.968828      -9.031172\n",
              "5          34  29.288115      -4.711885\n",
              "6          26  21.068902      -4.931098\n",
              "7          29  28.661583      -0.338417\n",
              "8          30  11.890203     -18.109797\n",
              "9          26  21.594907      -4.405093\n",
              "10         28  22.247797      -5.752203\n",
              "11         32  35.890046       3.890046\n",
              "12         31  26.504690      -4.495310\n",
              "13         30  25.631543      -4.368457\n",
              "14         45  43.576638      -1.423362"
            ],
            "text/html": [
              "\n",
              "  <div id=\"df-fb8090c1-9378-42ff-9f6a-7d59b3557b8a\">\n",
              "    <div class=\"colab-df-container\">\n",
              "      <div>\n",
              "<style scoped>\n",
              "    .dataframe tbody tr th:only-of-type {\n",
              "        vertical-align: middle;\n",
              "    }\n",
              "\n",
              "    .dataframe tbody tr th {\n",
              "        vertical-align: top;\n",
              "    }\n",
              "\n",
              "    .dataframe thead th {\n",
              "        text-align: right;\n",
              "    }\n",
              "</style>\n",
              "<table border=\"1\" class=\"dataframe\">\n",
              "  <thead>\n",
              "    <tr style=\"text-align: right;\">\n",
              "      <th></th>\n",
              "      <th>weight_10</th>\n",
              "      <th>weight_20</th>\n",
              "      <th>weight_change</th>\n",
              "    </tr>\n",
              "  </thead>\n",
              "  <tbody>\n",
              "    <tr>\n",
              "      <th>0</th>\n",
              "      <td>25</td>\n",
              "      <td>26.465581</td>\n",
              "      <td>1.465581</td>\n",
              "    </tr>\n",
              "    <tr>\n",
              "      <th>1</th>\n",
              "      <td>30</td>\n",
              "      <td>28.326550</td>\n",
              "      <td>-1.673450</td>\n",
              "    </tr>\n",
              "    <tr>\n",
              "      <th>2</th>\n",
              "      <td>28</td>\n",
              "      <td>27.133006</td>\n",
              "      <td>-0.866994</td>\n",
              "    </tr>\n",
              "    <tr>\n",
              "      <th>3</th>\n",
              "      <td>35</td>\n",
              "      <td>26.724248</td>\n",
              "      <td>-8.275752</td>\n",
              "    </tr>\n",
              "    <tr>\n",
              "      <th>4</th>\n",
              "      <td>28</td>\n",
              "      <td>18.968828</td>\n",
              "      <td>-9.031172</td>\n",
              "    </tr>\n",
              "    <tr>\n",
              "      <th>5</th>\n",
              "      <td>34</td>\n",
              "      <td>29.288115</td>\n",
              "      <td>-4.711885</td>\n",
              "    </tr>\n",
              "    <tr>\n",
              "      <th>6</th>\n",
              "      <td>26</td>\n",
              "      <td>21.068902</td>\n",
              "      <td>-4.931098</td>\n",
              "    </tr>\n",
              "    <tr>\n",
              "      <th>7</th>\n",
              "      <td>29</td>\n",
              "      <td>28.661583</td>\n",
              "      <td>-0.338417</td>\n",
              "    </tr>\n",
              "    <tr>\n",
              "      <th>8</th>\n",
              "      <td>30</td>\n",
              "      <td>11.890203</td>\n",
              "      <td>-18.109797</td>\n",
              "    </tr>\n",
              "    <tr>\n",
              "      <th>9</th>\n",
              "      <td>26</td>\n",
              "      <td>21.594907</td>\n",
              "      <td>-4.405093</td>\n",
              "    </tr>\n",
              "    <tr>\n",
              "      <th>10</th>\n",
              "      <td>28</td>\n",
              "      <td>22.247797</td>\n",
              "      <td>-5.752203</td>\n",
              "    </tr>\n",
              "    <tr>\n",
              "      <th>11</th>\n",
              "      <td>32</td>\n",
              "      <td>35.890046</td>\n",
              "      <td>3.890046</td>\n",
              "    </tr>\n",
              "    <tr>\n",
              "      <th>12</th>\n",
              "      <td>31</td>\n",
              "      <td>26.504690</td>\n",
              "      <td>-4.495310</td>\n",
              "    </tr>\n",
              "    <tr>\n",
              "      <th>13</th>\n",
              "      <td>30</td>\n",
              "      <td>25.631543</td>\n",
              "      <td>-4.368457</td>\n",
              "    </tr>\n",
              "    <tr>\n",
              "      <th>14</th>\n",
              "      <td>45</td>\n",
              "      <td>43.576638</td>\n",
              "      <td>-1.423362</td>\n",
              "    </tr>\n",
              "  </tbody>\n",
              "</table>\n",
              "</div>\n",
              "      <button class=\"colab-df-convert\" onclick=\"convertToInteractive('df-fb8090c1-9378-42ff-9f6a-7d59b3557b8a')\"\n",
              "              title=\"Convert this dataframe to an interactive table.\"\n",
              "              style=\"display:none;\">\n",
              "        \n",
              "  <svg xmlns=\"http://www.w3.org/2000/svg\" height=\"24px\"viewBox=\"0 0 24 24\"\n",
              "       width=\"24px\">\n",
              "    <path d=\"M0 0h24v24H0V0z\" fill=\"none\"/>\n",
              "    <path d=\"M18.56 5.44l.94 2.06.94-2.06 2.06-.94-2.06-.94-.94-2.06-.94 2.06-2.06.94zm-11 1L8.5 8.5l.94-2.06 2.06-.94-2.06-.94L8.5 2.5l-.94 2.06-2.06.94zm10 10l.94 2.06.94-2.06 2.06-.94-2.06-.94-.94-2.06-.94 2.06-2.06.94z\"/><path d=\"M17.41 7.96l-1.37-1.37c-.4-.4-.92-.59-1.43-.59-.52 0-1.04.2-1.43.59L10.3 9.45l-7.72 7.72c-.78.78-.78 2.05 0 2.83L4 21.41c.39.39.9.59 1.41.59.51 0 1.02-.2 1.41-.59l7.78-7.78 2.81-2.81c.8-.78.8-2.07 0-2.86zM5.41 20L4 18.59l7.72-7.72 1.47 1.35L5.41 20z\"/>\n",
              "  </svg>\n",
              "      </button>\n",
              "      \n",
              "  <style>\n",
              "    .colab-df-container {\n",
              "      display:flex;\n",
              "      flex-wrap:wrap;\n",
              "      gap: 12px;\n",
              "    }\n",
              "\n",
              "    .colab-df-convert {\n",
              "      background-color: #E8F0FE;\n",
              "      border: none;\n",
              "      border-radius: 50%;\n",
              "      cursor: pointer;\n",
              "      display: none;\n",
              "      fill: #1967D2;\n",
              "      height: 32px;\n",
              "      padding: 0 0 0 0;\n",
              "      width: 32px;\n",
              "    }\n",
              "\n",
              "    .colab-df-convert:hover {\n",
              "      background-color: #E2EBFA;\n",
              "      box-shadow: 0px 1px 2px rgba(60, 64, 67, 0.3), 0px 1px 3px 1px rgba(60, 64, 67, 0.15);\n",
              "      fill: #174EA6;\n",
              "    }\n",
              "\n",
              "    [theme=dark] .colab-df-convert {\n",
              "      background-color: #3B4455;\n",
              "      fill: #D2E3FC;\n",
              "    }\n",
              "\n",
              "    [theme=dark] .colab-df-convert:hover {\n",
              "      background-color: #434B5C;\n",
              "      box-shadow: 0px 1px 3px 1px rgba(0, 0, 0, 0.15);\n",
              "      filter: drop-shadow(0px 1px 2px rgba(0, 0, 0, 0.3));\n",
              "      fill: #FFFFFF;\n",
              "    }\n",
              "  </style>\n",
              "\n",
              "      <script>\n",
              "        const buttonEl =\n",
              "          document.querySelector('#df-fb8090c1-9378-42ff-9f6a-7d59b3557b8a button.colab-df-convert');\n",
              "        buttonEl.style.display =\n",
              "          google.colab.kernel.accessAllowed ? 'block' : 'none';\n",
              "\n",
              "        async function convertToInteractive(key) {\n",
              "          const element = document.querySelector('#df-fb8090c1-9378-42ff-9f6a-7d59b3557b8a');\n",
              "          const dataTable =\n",
              "            await google.colab.kernel.invokeFunction('convertToInteractive',\n",
              "                                                     [key], {});\n",
              "          if (!dataTable) return;\n",
              "\n",
              "          const docLinkHtml = 'Like what you see? Visit the ' +\n",
              "            '<a target=\"_blank\" href=https://colab.research.google.com/notebooks/data_table.ipynb>data table notebook</a>'\n",
              "            + ' to learn more about interactive tables.';\n",
              "          element.innerHTML = '';\n",
              "          dataTable['output_type'] = 'display_data';\n",
              "          await google.colab.output.renderOutput(dataTable, element);\n",
              "          const docLink = document.createElement('div');\n",
              "          docLink.innerHTML = docLinkHtml;\n",
              "          element.appendChild(docLink);\n",
              "        }\n",
              "      </script>\n",
              "    </div>\n",
              "  </div>\n",
              "  "
            ]
          },
          "metadata": {},
          "execution_count": 128
        }
      ]
    },
    {
      "cell_type": "code",
      "source": [
        "_,p_value=stats.ttest_rel(a=weight1,b=weight2)"
      ],
      "metadata": {
        "id": "FmTOY8kWJYDa"
      },
      "execution_count": 129,
      "outputs": []
    },
    {
      "cell_type": "code",
      "source": [
        "print(p_value)"
      ],
      "metadata": {
        "colab": {
          "base_uri": "https://localhost:8080/"
        },
        "id": "UVNVttEMLwod",
        "outputId": "f88bac80-52ca-41a1-84b8-ef5c294c0150"
      },
      "execution_count": 130,
      "outputs": [
        {
          "output_type": "stream",
          "name": "stdout",
          "text": [
            "0.007139357141471671\n"
          ]
        }
      ]
    },
    {
      "cell_type": "code",
      "source": [
        "if p_value < 0.05:    # alpha value is 0.05 or 5%\n",
        "    print(\" we are rejecting null hypothesis\")\n",
        "else:\n",
        "    print(\"we are accepting null hypothesis\")"
      ],
      "metadata": {
        "colab": {
          "base_uri": "https://localhost:8080/"
        },
        "id": "RIH5cEp9Lwdg",
        "outputId": "698c8da8-8ca7-41cd-f13f-92abf0a02103"
      },
      "execution_count": 131,
      "outputs": [
        {
          "output_type": "stream",
          "name": "stdout",
          "text": [
            " we are rejecting null hypothesis\n"
          ]
        }
      ]
    },
    {
      "cell_type": "markdown",
      "source": [
        "## Correlation"
      ],
      "metadata": {
        "id": "kWajV2-qZi87"
      }
    },
    {
      "cell_type": "code",
      "source": [
        "import seaborn as sns\n",
        "df=sns.load_dataset('iris')"
      ],
      "metadata": {
        "id": "0Nh-X7LJWV0S"
      },
      "execution_count": 104,
      "outputs": []
    },
    {
      "cell_type": "code",
      "source": [
        "df.shape"
      ],
      "metadata": {
        "colab": {
          "base_uri": "https://localhost:8080/"
        },
        "id": "i8rESA9cZmDJ",
        "outputId": "47ce5714-ca5a-4465-cc3c-5541360c6d91"
      },
      "execution_count": 105,
      "outputs": [
        {
          "output_type": "execute_result",
          "data": {
            "text/plain": [
              "(150, 5)"
            ]
          },
          "metadata": {},
          "execution_count": 105
        }
      ]
    },
    {
      "cell_type": "code",
      "source": [
        "df.corr()"
      ],
      "metadata": {
        "colab": {
          "base_uri": "https://localhost:8080/",
          "height": 229
        },
        "id": "LRNUBXqFZoUa",
        "outputId": "c5dd660e-dff7-4d53-a821-a30f9d1a5927"
      },
      "execution_count": 106,
      "outputs": [
        {
          "output_type": "stream",
          "name": "stderr",
          "text": [
            "<ipython-input-106-2f6f6606aa2c>:1: FutureWarning: The default value of numeric_only in DataFrame.corr is deprecated. In a future version, it will default to False. Select only valid columns or specify the value of numeric_only to silence this warning.\n",
            "  df.corr()\n"
          ]
        },
        {
          "output_type": "execute_result",
          "data": {
            "text/plain": [
              "              sepal_length  sepal_width  petal_length  petal_width\n",
              "sepal_length      1.000000    -0.117570      0.871754     0.817941\n",
              "sepal_width      -0.117570     1.000000     -0.428440    -0.366126\n",
              "petal_length      0.871754    -0.428440      1.000000     0.962865\n",
              "petal_width       0.817941    -0.366126      0.962865     1.000000"
            ],
            "text/html": [
              "\n",
              "  <div id=\"df-adc333d9-e53c-44bb-b112-6674c805a08f\">\n",
              "    <div class=\"colab-df-container\">\n",
              "      <div>\n",
              "<style scoped>\n",
              "    .dataframe tbody tr th:only-of-type {\n",
              "        vertical-align: middle;\n",
              "    }\n",
              "\n",
              "    .dataframe tbody tr th {\n",
              "        vertical-align: top;\n",
              "    }\n",
              "\n",
              "    .dataframe thead th {\n",
              "        text-align: right;\n",
              "    }\n",
              "</style>\n",
              "<table border=\"1\" class=\"dataframe\">\n",
              "  <thead>\n",
              "    <tr style=\"text-align: right;\">\n",
              "      <th></th>\n",
              "      <th>sepal_length</th>\n",
              "      <th>sepal_width</th>\n",
              "      <th>petal_length</th>\n",
              "      <th>petal_width</th>\n",
              "    </tr>\n",
              "  </thead>\n",
              "  <tbody>\n",
              "    <tr>\n",
              "      <th>sepal_length</th>\n",
              "      <td>1.000000</td>\n",
              "      <td>-0.117570</td>\n",
              "      <td>0.871754</td>\n",
              "      <td>0.817941</td>\n",
              "    </tr>\n",
              "    <tr>\n",
              "      <th>sepal_width</th>\n",
              "      <td>-0.117570</td>\n",
              "      <td>1.000000</td>\n",
              "      <td>-0.428440</td>\n",
              "      <td>-0.366126</td>\n",
              "    </tr>\n",
              "    <tr>\n",
              "      <th>petal_length</th>\n",
              "      <td>0.871754</td>\n",
              "      <td>-0.428440</td>\n",
              "      <td>1.000000</td>\n",
              "      <td>0.962865</td>\n",
              "    </tr>\n",
              "    <tr>\n",
              "      <th>petal_width</th>\n",
              "      <td>0.817941</td>\n",
              "      <td>-0.366126</td>\n",
              "      <td>0.962865</td>\n",
              "      <td>1.000000</td>\n",
              "    </tr>\n",
              "  </tbody>\n",
              "</table>\n",
              "</div>\n",
              "      <button class=\"colab-df-convert\" onclick=\"convertToInteractive('df-adc333d9-e53c-44bb-b112-6674c805a08f')\"\n",
              "              title=\"Convert this dataframe to an interactive table.\"\n",
              "              style=\"display:none;\">\n",
              "        \n",
              "  <svg xmlns=\"http://www.w3.org/2000/svg\" height=\"24px\"viewBox=\"0 0 24 24\"\n",
              "       width=\"24px\">\n",
              "    <path d=\"M0 0h24v24H0V0z\" fill=\"none\"/>\n",
              "    <path d=\"M18.56 5.44l.94 2.06.94-2.06 2.06-.94-2.06-.94-.94-2.06-.94 2.06-2.06.94zm-11 1L8.5 8.5l.94-2.06 2.06-.94-2.06-.94L8.5 2.5l-.94 2.06-2.06.94zm10 10l.94 2.06.94-2.06 2.06-.94-2.06-.94-.94-2.06-.94 2.06-2.06.94z\"/><path d=\"M17.41 7.96l-1.37-1.37c-.4-.4-.92-.59-1.43-.59-.52 0-1.04.2-1.43.59L10.3 9.45l-7.72 7.72c-.78.78-.78 2.05 0 2.83L4 21.41c.39.39.9.59 1.41.59.51 0 1.02-.2 1.41-.59l7.78-7.78 2.81-2.81c.8-.78.8-2.07 0-2.86zM5.41 20L4 18.59l7.72-7.72 1.47 1.35L5.41 20z\"/>\n",
              "  </svg>\n",
              "      </button>\n",
              "      \n",
              "  <style>\n",
              "    .colab-df-container {\n",
              "      display:flex;\n",
              "      flex-wrap:wrap;\n",
              "      gap: 12px;\n",
              "    }\n",
              "\n",
              "    .colab-df-convert {\n",
              "      background-color: #E8F0FE;\n",
              "      border: none;\n",
              "      border-radius: 50%;\n",
              "      cursor: pointer;\n",
              "      display: none;\n",
              "      fill: #1967D2;\n",
              "      height: 32px;\n",
              "      padding: 0 0 0 0;\n",
              "      width: 32px;\n",
              "    }\n",
              "\n",
              "    .colab-df-convert:hover {\n",
              "      background-color: #E2EBFA;\n",
              "      box-shadow: 0px 1px 2px rgba(60, 64, 67, 0.3), 0px 1px 3px 1px rgba(60, 64, 67, 0.15);\n",
              "      fill: #174EA6;\n",
              "    }\n",
              "\n",
              "    [theme=dark] .colab-df-convert {\n",
              "      background-color: #3B4455;\n",
              "      fill: #D2E3FC;\n",
              "    }\n",
              "\n",
              "    [theme=dark] .colab-df-convert:hover {\n",
              "      background-color: #434B5C;\n",
              "      box-shadow: 0px 1px 3px 1px rgba(0, 0, 0, 0.15);\n",
              "      filter: drop-shadow(0px 1px 2px rgba(0, 0, 0, 0.3));\n",
              "      fill: #FFFFFF;\n",
              "    }\n",
              "  </style>\n",
              "\n",
              "      <script>\n",
              "        const buttonEl =\n",
              "          document.querySelector('#df-adc333d9-e53c-44bb-b112-6674c805a08f button.colab-df-convert');\n",
              "        buttonEl.style.display =\n",
              "          google.colab.kernel.accessAllowed ? 'block' : 'none';\n",
              "\n",
              "        async function convertToInteractive(key) {\n",
              "          const element = document.querySelector('#df-adc333d9-e53c-44bb-b112-6674c805a08f');\n",
              "          const dataTable =\n",
              "            await google.colab.kernel.invokeFunction('convertToInteractive',\n",
              "                                                     [key], {});\n",
              "          if (!dataTable) return;\n",
              "\n",
              "          const docLinkHtml = 'Like what you see? Visit the ' +\n",
              "            '<a target=\"_blank\" href=https://colab.research.google.com/notebooks/data_table.ipynb>data table notebook</a>'\n",
              "            + ' to learn more about interactive tables.';\n",
              "          element.innerHTML = '';\n",
              "          dataTable['output_type'] = 'display_data';\n",
              "          await google.colab.output.renderOutput(dataTable, element);\n",
              "          const docLink = document.createElement('div');\n",
              "          docLink.innerHTML = docLinkHtml;\n",
              "          element.appendChild(docLink);\n",
              "        }\n",
              "      </script>\n",
              "    </div>\n",
              "  </div>\n",
              "  "
            ]
          },
          "metadata": {},
          "execution_count": 106
        }
      ]
    },
    {
      "cell_type": "code",
      "source": [
        "sns.pairplot(df)"
      ],
      "metadata": {
        "id": "fU4huDpsZqfb",
        "outputId": "7b4499ca-a614-412f-9462-c9a7e009d0d9",
        "colab": {
          "base_uri": "https://localhost:8080/",
          "height": 680
        }
      },
      "execution_count": 107,
      "outputs": [
        {
          "output_type": "execute_result",
          "data": {
            "text/plain": [
              "<seaborn.axisgrid.PairGrid at 0x7fbcd38f6160>"
            ]
          },
          "metadata": {},
          "execution_count": 107
        },
        {
          "output_type": "display_data",
          "data": {
            "text/plain": [
              "<Figure size 1000x1000 with 20 Axes>"
            ],
            "image/png": "[encoded data removed]"
          },
          "metadata": {}
        }
      ]
    },
    {
      "cell_type": "markdown",
      "source": [
        "## Anova Test(F-Test)\n",
        "The t-test works well when dealing with two groups, but sometimes we want to compare more than two groups at the same time.\n",
        "\n",
        "\n",
        "For example, if we wanted to test whether petal_width age differs based on some categorical variable like species, we have to compare the means of each level or group the variable"
      ],
      "metadata": {
        "id": "CDUlwmEZ12xp"
      }
    },
    {
      "cell_type": "markdown",
      "source": [
        "### One Way F-test(Anova) :-\n",
        "It tell whether two or more groups are similar or not based on their mean similarity and f-score.\n",
        "\n",
        "Example : there are 3 different category of iris flowers and their petal width and need to check whether all 3 group are similar or not \n"
      ],
      "metadata": {
        "id": "bsBeF3Yd19rt"
      }
    },
    {
      "cell_type": "code",
      "source": [
        "import seaborn as sns\n",
        "df1=sns.load_dataset('iris')"
      ],
      "metadata": {
        "id": "DG5P32rbZtEU"
      },
      "execution_count": null,
      "outputs": []
    },
    {
      "cell_type": "code",
      "source": [
        "df1.head()"
      ],
      "metadata": {
        "colab": {
          "base_uri": "https://localhost:8080/",
          "height": 206
        },
        "id": "JHyzjYRp2D_l",
        "outputId": "0815d33f-768d-4615-acfc-3dc6e8356f65"
      },
      "execution_count": null,
      "outputs": [
        {
          "output_type": "execute_result",
          "data": {
            "text/plain": [
              "   sepal_length  sepal_width  petal_length  petal_width species\n",
              "0           5.1          3.5           1.4          0.2  setosa\n",
              "1           4.9          3.0           1.4          0.2  setosa\n",
              "2           4.7          3.2           1.3          0.2  setosa\n",
              "3           4.6          3.1           1.5          0.2  setosa\n",
              "4           5.0          3.6           1.4          0.2  setosa"
            ],
            "text/html": [
              "\n",
              "  <div id=\"df-1be4b3e1-8f9a-4dce-9507-a4d43d934ad9\">\n",
              "    <div class=\"colab-df-container\">\n",
              "      <div>\n",
              "<style scoped>\n",
              "    .dataframe tbody tr th:only-of-type {\n",
              "        vertical-align: middle;\n",
              "    }\n",
              "\n",
              "    .dataframe tbody tr th {\n",
              "        vertical-align: top;\n",
              "    }\n",
              "\n",
              "    .dataframe thead th {\n",
              "        text-align: right;\n",
              "    }\n",
              "</style>\n",
              "<table border=\"1\" class=\"dataframe\">\n",
              "  <thead>\n",
              "    <tr style=\"text-align: right;\">\n",
              "      <th></th>\n",
              "      <th>sepal_length</th>\n",
              "      <th>sepal_width</th>\n",
              "      <th>petal_length</th>\n",
              "      <th>petal_width</th>\n",
              "      <th>species</th>\n",
              "    </tr>\n",
              "  </thead>\n",
              "  <tbody>\n",
              "    <tr>\n",
              "      <th>0</th>\n",
              "      <td>5.1</td>\n",
              "      <td>3.5</td>\n",
              "      <td>1.4</td>\n",
              "      <td>0.2</td>\n",
              "      <td>setosa</td>\n",
              "    </tr>\n",
              "    <tr>\n",
              "      <th>1</th>\n",
              "      <td>4.9</td>\n",
              "      <td>3.0</td>\n",
              "      <td>1.4</td>\n",
              "      <td>0.2</td>\n",
              "      <td>setosa</td>\n",
              "    </tr>\n",
              "    <tr>\n",
              "      <th>2</th>\n",
              "      <td>4.7</td>\n",
              "      <td>3.2</td>\n",
              "      <td>1.3</td>\n",
              "      <td>0.2</td>\n",
              "      <td>setosa</td>\n",
              "    </tr>\n",
              "    <tr>\n",
              "      <th>3</th>\n",
              "      <td>4.6</td>\n",
              "      <td>3.1</td>\n",
              "      <td>1.5</td>\n",
              "      <td>0.2</td>\n",
              "      <td>setosa</td>\n",
              "    </tr>\n",
              "    <tr>\n",
              "      <th>4</th>\n",
              "      <td>5.0</td>\n",
              "      <td>3.6</td>\n",
              "      <td>1.4</td>\n",
              "      <td>0.2</td>\n",
              "      <td>setosa</td>\n",
              "    </tr>\n",
              "  </tbody>\n",
              "</table>\n",
              "</div>\n",
              "      <button class=\"colab-df-convert\" onclick=\"convertToInteractive('df-1be4b3e1-8f9a-4dce-9507-a4d43d934ad9')\"\n",
              "              title=\"Convert this dataframe to an interactive table.\"\n",
              "              style=\"display:none;\">\n",
              "        \n",
              "  <svg xmlns=\"http://www.w3.org/2000/svg\" height=\"24px\"viewBox=\"0 0 24 24\"\n",
              "       width=\"24px\">\n",
              "    <path d=\"M0 0h24v24H0V0z\" fill=\"none\"/>\n",
              "    <path d=\"M18.56 5.44l.94 2.06.94-2.06 2.06-.94-2.06-.94-.94-2.06-.94 2.06-2.06.94zm-11 1L8.5 8.5l.94-2.06 2.06-.94-2.06-.94L8.5 2.5l-.94 2.06-2.06.94zm10 10l.94 2.06.94-2.06 2.06-.94-2.06-.94-.94-2.06-.94 2.06-2.06.94z\"/><path d=\"M17.41 7.96l-1.37-1.37c-.4-.4-.92-.59-1.43-.59-.52 0-1.04.2-1.43.59L10.3 9.45l-7.72 7.72c-.78.78-.78 2.05 0 2.83L4 21.41c.39.39.9.59 1.41.59.51 0 1.02-.2 1.41-.59l7.78-7.78 2.81-2.81c.8-.78.8-2.07 0-2.86zM5.41 20L4 18.59l7.72-7.72 1.47 1.35L5.41 20z\"/>\n",
              "  </svg>\n",
              "      </button>\n",
              "      \n",
              "  <style>\n",
              "    .colab-df-container {\n",
              "      display:flex;\n",
              "      flex-wrap:wrap;\n",
              "      gap: 12px;\n",
              "    }\n",
              "\n",
              "    .colab-df-convert {\n",
              "      background-color: #E8F0FE;\n",
              "      border: none;\n",
              "      border-radius: 50%;\n",
              "      cursor: pointer;\n",
              "      display: none;\n",
              "      fill: #1967D2;\n",
              "      height: 32px;\n",
              "      padding: 0 0 0 0;\n",
              "      width: 32px;\n",
              "    }\n",
              "\n",
              "    .colab-df-convert:hover {\n",
              "      background-color: #E2EBFA;\n",
              "      box-shadow: 0px 1px 2px rgba(60, 64, 67, 0.3), 0px 1px 3px 1px rgba(60, 64, 67, 0.15);\n",
              "      fill: #174EA6;\n",
              "    }\n",
              "\n",
              "    [theme=dark] .colab-df-convert {\n",
              "      background-color: #3B4455;\n",
              "      fill: #D2E3FC;\n",
              "    }\n",
              "\n",
              "    [theme=dark] .colab-df-convert:hover {\n",
              "      background-color: #434B5C;\n",
              "      box-shadow: 0px 1px 3px 1px rgba(0, 0, 0, 0.15);\n",
              "      filter: drop-shadow(0px 1px 2px rgba(0, 0, 0, 0.3));\n",
              "      fill: #FFFFFF;\n",
              "    }\n",
              "  </style>\n",
              "\n",
              "      <script>\n",
              "        const buttonEl =\n",
              "          document.querySelector('#df-1be4b3e1-8f9a-4dce-9507-a4d43d934ad9 button.colab-df-convert');\n",
              "        buttonEl.style.display =\n",
              "          google.colab.kernel.accessAllowed ? 'block' : 'none';\n",
              "\n",
              "        async function convertToInteractive(key) {\n",
              "          const element = document.querySelector('#df-1be4b3e1-8f9a-4dce-9507-a4d43d934ad9');\n",
              "          const dataTable =\n",
              "            await google.colab.kernel.invokeFunction('convertToInteractive',\n",
              "                                                     [key], {});\n",
              "          if (!dataTable) return;\n",
              "\n",
              "          const docLinkHtml = 'Like what you see? Visit the ' +\n",
              "            '<a target=\"_blank\" href=https://colab.research.google.com/notebooks/data_table.ipynb>data table notebook</a>'\n",
              "            + ' to learn more about interactive tables.';\n",
              "          element.innerHTML = '';\n",
              "          dataTable['output_type'] = 'display_data';\n",
              "          await google.colab.output.renderOutput(dataTable, element);\n",
              "          const docLink = document.createElement('div');\n",
              "          docLink.innerHTML = docLinkHtml;\n",
              "          element.appendChild(docLink);\n",
              "        }\n",
              "      </script>\n",
              "    </div>\n",
              "  </div>\n",
              "  "
            ]
          },
          "metadata": {},
          "execution_count": 59
        }
      ]
    },
    {
      "cell_type": "code",
      "source": [
        "df_anova = df1[['petal_width','species']]"
      ],
      "metadata": {
        "id": "sgeh7mim2Hfy"
      },
      "execution_count": null,
      "outputs": []
    },
    {
      "cell_type": "code",
      "source": [
        "grps = pd.unique(df_anova.species.values)"
      ],
      "metadata": {
        "id": "b-VjXkew2J7k"
      },
      "execution_count": null,
      "outputs": []
    },
    {
      "cell_type": "code",
      "source": [
        "grps"
      ],
      "metadata": {
        "colab": {
          "base_uri": "https://localhost:8080/"
        },
        "id": "qHx1Swy52MOk",
        "outputId": "cd052ba3-d28d-4936-d2ce-22b8647f4456"
      },
      "execution_count": null,
      "outputs": [
        {
          "output_type": "execute_result",
          "data": {
            "text/plain": [
              "array(['setosa', 'versicolor', 'virginica'], dtype=object)"
            ]
          },
          "metadata": {},
          "execution_count": 62
        }
      ]
    },
    {
      "cell_type": "code",
      "source": [
        "d_data = {grp:df_anova['petal_width'][df_anova.species == grp] for grp in grps}\n",
        "#This line of code is creating a dictionary called 'd_data' using a dictionary comprehension. \n",
        "#So, the resulting 'd_data' dictionary has keys corresponding to the unique groups in the 'species' column, and values corresponding to the 'petal_width' values for each group. This code might be used to create a dictionary of data to be used in an ANOVA (analysis of variance) test, where the 'petal_width' values are the dependent variable and the 'species' column is the independent variable.\n"
      ],
      "metadata": {
        "id": "jWTmizh32QnQ"
      },
      "execution_count": 108,
      "outputs": []
    },
    {
      "cell_type": "code",
      "source": [
        "d_data"
      ],
      "metadata": {
        "colab": {
          "base_uri": "https://localhost:8080/"
        },
        "id": "WzMdz9QJ2TbQ",
        "outputId": "3785efce-1004-45e7-a55f-75ffa15f49e3"
      },
      "execution_count": 109,
      "outputs": [
        {
          "output_type": "execute_result",
          "data": {
            "text/plain": [
              "{'setosa': 0     0.2\n",
              " 1     0.2\n",
              " 2     0.2\n",
              " 3     0.2\n",
              " 4     0.2\n",
              " 5     0.4\n",
              " 6     0.3\n",
              " 7     0.2\n",
              " 8     0.2\n",
              " 9     0.1\n",
              " 10    0.2\n",
              " 11    0.2\n",
              " 12    0.1\n",
              " 13    0.1\n",
              " 14    0.2\n",
              " 15    0.4\n",
              " 16    0.4\n",
              " 17    0.3\n",
              " 18    0.3\n",
              " 19    0.3\n",
              " 20    0.2\n",
              " 21    0.4\n",
              " 22    0.2\n",
              " 23    0.5\n",
              " 24    0.2\n",
              " 25    0.2\n",
              " 26    0.4\n",
              " 27    0.2\n",
              " 28    0.2\n",
              " 29    0.2\n",
              " 30    0.2\n",
              " 31    0.4\n",
              " 32    0.1\n",
              " 33    0.2\n",
              " 34    0.2\n",
              " 35    0.2\n",
              " 36    0.2\n",
              " 37    0.1\n",
              " 38    0.2\n",
              " 39    0.2\n",
              " 40    0.3\n",
              " 41    0.3\n",
              " 42    0.2\n",
              " 43    0.6\n",
              " 44    0.4\n",
              " 45    0.3\n",
              " 46    0.2\n",
              " 47    0.2\n",
              " 48    0.2\n",
              " 49    0.2\n",
              " Name: petal_width, dtype: float64,\n",
              " 'versicolor': 50    1.4\n",
              " 51    1.5\n",
              " 52    1.5\n",
              " 53    1.3\n",
              " 54    1.5\n",
              " 55    1.3\n",
              " 56    1.6\n",
              " 57    1.0\n",
              " 58    1.3\n",
              " 59    1.4\n",
              " 60    1.0\n",
              " 61    1.5\n",
              " 62    1.0\n",
              " 63    1.4\n",
              " 64    1.3\n",
              " 65    1.4\n",
              " 66    1.5\n",
              " 67    1.0\n",
              " 68    1.5\n",
              " 69    1.1\n",
              " 70    1.8\n",
              " 71    1.3\n",
              " 72    1.5\n",
              " 73    1.2\n",
              " 74    1.3\n",
              " 75    1.4\n",
              " 76    1.4\n",
              " 77    1.7\n",
              " 78    1.5\n",
              " 79    1.0\n",
              " 80    1.1\n",
              " 81    1.0\n",
              " 82    1.2\n",
              " 83    1.6\n",
              " 84    1.5\n",
              " 85    1.6\n",
              " 86    1.5\n",
              " 87    1.3\n",
              " 88    1.3\n",
              " 89    1.3\n",
              " 90    1.2\n",
              " 91    1.4\n",
              " 92    1.2\n",
              " 93    1.0\n",
              " 94    1.3\n",
              " 95    1.2\n",
              " 96    1.3\n",
              " 97    1.3\n",
              " 98    1.1\n",
              " 99    1.3\n",
              " Name: petal_width, dtype: float64,\n",
              " 'virginica': 100    2.5\n",
              " 101    1.9\n",
              " 102    2.1\n",
              " 103    1.8\n",
              " 104    2.2\n",
              " 105    2.1\n",
              " 106    1.7\n",
              " 107    1.8\n",
              " 108    1.8\n",
              " 109    2.5\n",
              " 110    2.0\n",
              " 111    1.9\n",
              " 112    2.1\n",
              " 113    2.0\n",
              " 114    2.4\n",
              " 115    2.3\n",
              " 116    1.8\n",
              " 117    2.2\n",
              " 118    2.3\n",
              " 119    1.5\n",
              " 120    2.3\n",
              " 121    2.0\n",
              " 122    2.0\n",
              " 123    1.8\n",
              " 124    2.1\n",
              " 125    1.8\n",
              " 126    1.8\n",
              " 127    1.8\n",
              " 128    2.1\n",
              " 129    1.6\n",
              " 130    1.9\n",
              " 131    2.0\n",
              " 132    2.2\n",
              " 133    1.5\n",
              " 134    1.4\n",
              " 135    2.3\n",
              " 136    2.4\n",
              " 137    1.8\n",
              " 138    1.8\n",
              " 139    2.1\n",
              " 140    2.4\n",
              " 141    2.3\n",
              " 142    1.9\n",
              " 143    2.3\n",
              " 144    2.5\n",
              " 145    2.3\n",
              " 146    1.9\n",
              " 147    2.0\n",
              " 148    2.3\n",
              " 149    1.8\n",
              " Name: petal_width, dtype: float64}"
            ]
          },
          "metadata": {},
          "execution_count": 109
        }
      ]
    },
    {
      "cell_type": "code",
      "source": [
        "F, p = stats.f_oneway(d_data['setosa'], d_data['versicolor'], d_data['virginica'])\n",
        "#e resulting 'F' and 'p' variables contain the F-statistic and p-value of the one-way ANOVA test performed on the 'petal_width' values for the 'setosa', 'versicolor', and 'virginica' species groups. This code might be used to test for significant differences in the 'petal_width' values among the three species groups, which could be useful for further analysis or interpretation."
      ],
      "metadata": {
        "id": "yD94gsnF2Wjo"
      },
      "execution_count": 110,
      "outputs": []
    },
    {
      "cell_type": "code",
      "source": [
        "print(p)"
      ],
      "metadata": {
        "colab": {
          "base_uri": "https://localhost:8080/"
        },
        "id": "t5aXR7hK2ass",
        "outputId": "ac7e2fc4-7f22-400d-d660-64a9d126edbd"
      },
      "execution_count": 111,
      "outputs": [
        {
          "output_type": "stream",
          "name": "stdout",
          "text": [
            "4.169445839443116e-85\n"
          ]
        }
      ]
    },
    {
      "cell_type": "code",
      "source": [
        "if p<0.05:\n",
        "    print(\"reject null hypothesis\")\n",
        "else:\n",
        "    print(\"accept null hypothesis\")"
      ],
      "metadata": {
        "colab": {
          "base_uri": "https://localhost:8080/"
        },
        "id": "m8HHM7fo2fiw",
        "outputId": "db9ec99b-e55c-4f64-9465-6dc88e171088"
      },
      "execution_count": null,
      "outputs": [
        {
          "output_type": "stream",
          "name": "stdout",
          "text": [
            "reject null hypothesis\n"
          ]
        }
      ]
    },
    {
      "cell_type": "code",
      "source": [],
      "metadata": {
        "id": "7oQ-b7XA2iKE"
      },
      "execution_count": null,
      "outputs": []
    }
  ]
}