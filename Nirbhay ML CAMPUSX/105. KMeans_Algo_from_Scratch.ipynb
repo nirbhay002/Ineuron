{
 "cells": [
  {
   "cell_type": "markdown",
   "metadata": {},
   "source": [
    "I have converted this file to .py with same code which is saved as 'KmeansAlgo.py'. I have created another file which is copy of '104. K-Means...' where I have imported 'KmeansAlgo.py' to showcase the use of our KMeans Clustering code"
   ]
  },
  {
   "cell_type": "code",
   "execution_count": 1,
   "metadata": {},
   "outputs": [],
   "source": [
    "import random\n",
    "import numpy as np\n",
    "\n",
    "class KMeans:\n",
    "    def __init__(self,n_clusters=2,max_iter=1000):\n",
    "        self.n_clusters = n_clusters\n",
    "        self.max_iter = max_iter\n",
    "        self.centroids = None\n",
    "        self.inertia_ = None\n",
    "\n",
    "    def fit_predict(self,X):\n",
    "\n",
    "        random_index = random.sample(range(0,X.shape[0]),self.n_clusters)\n",
    "        #random.sample(range(0,10),4) --> output will be any 4 random values selected from (0,10)\n",
    "        #X.shape[0] will give no. of rows from X dataframe & X.shape[1] will give no. of columns\n",
    "        self.centroids = X[random_index]\n",
    "\n",
    "        for i in range(self.max_iter):\n",
    "            # assign clusters\n",
    "            cluster_group = self.assign_clusters(X)\n",
    "            old_centroids = self.centroids\n",
    "            # move centroids\n",
    "            self.centroids = self.move_centroids(X,cluster_group)\n",
    "            # check finish\n",
    "            if (old_centroids == self.centroids).all():\n",
    "                break\n",
    "\n",
    "        #to calculate WCSS\n",
    "        self.inertia_ = self.calculate_wcss(X, cluster_group)\n",
    "        return cluster_group\n",
    "\n",
    "    def assign_clusters(self,X):\n",
    "        cluster_group = []\n",
    "        distances = []\n",
    "\n",
    "        for row in X:\n",
    "            for centroid in self.centroids:\n",
    "                distances.append(np.sqrt(np.dot(row-centroid,row-centroid)))\n",
    "            min_distance = min(distances)\n",
    "            index_pos = distances.index(min_distance)\n",
    "            cluster_group.append(index_pos)\n",
    "            distances.clear()\n",
    "\n",
    "        return np.array(cluster_group)\n",
    "\n",
    "    def move_centroids(self,X,cluster_group):\n",
    "        new_centroids = []\n",
    "\n",
    "        cluster_type = np.unique(cluster_group)\n",
    "\n",
    "        for type in cluster_type:                    \n",
    "            new_centroids.append(X[cluster_group == type].mean(axis=0))\n",
    "            #axis = 0, bcz we need mean column wise\n",
    "            #suppose we have array a = [[1,2],[2,3],[3,4],[4,5],[5,6]]\n",
    "            #then array.mean(axis=0) = (3,4)\n",
    "\n",
    "        return np.array(new_centroids)\n",
    "\n",
    "\n",
    "    #this function is written by me\n",
    "    def calculate_wcss(self, X, cluster_group):\n",
    "        wcss = 0\n",
    "        cluster_type = np.unique(cluster_group)\n",
    "\n",
    "        for i in cluster_type:\n",
    "            cluster_points = X[cluster_group == i]\n",
    "            centroid = X[cluster_group == i].mean(axis=0)\n",
    "            for cluster_point in cluster_points:\n",
    "                wcss += (np.sqrt(np.dot(cluster_point - centroid, cluster_point - centroid)))** 2\n",
    "\n",
    "        return wcss\n"
   ]
  },
  {
   "cell_type": "code",
   "execution_count": null,
   "metadata": {},
   "outputs": [],
   "source": []
  }
 ],
 "metadata": {
  "kernelspec": {
   "display_name": "Python 3.8.10 64-bit",
   "language": "python",
   "name": "python3"
  },
  "language_info": {
   "codemirror_mode": {
    "name": "ipython",
    "version": 3
   },
   "file_extension": ".py",
   "mimetype": "text/x-python",
   "name": "python",
   "nbconvert_exporter": "python",
   "pygments_lexer": "ipython3",
   "version": "3.8.10"
  },
  "orig_nbformat": 4,
  "vscode": {
   "interpreter": {
    "hash": "e7370f93d1d0cde622a1f8e1c04877d8463912d04d973331ad4851f04de6915a"
   }
  }
 },
 "nbformat": 4,
 "nbformat_minor": 2
}
